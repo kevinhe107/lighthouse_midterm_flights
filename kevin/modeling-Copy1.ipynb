{
 "cells": [
  {
   "cell_type": "markdown",
   "metadata": {},
   "source": [
    "# Machine Learning\n",
    "\n",
    "In this file, instructions how to approach the challenge can be found."
   ]
  },
  {
   "cell_type": "markdown",
   "metadata": {},
   "source": [
    "We are going to work on different types of Machine Learning problems:\n",
    "\n",
    "- **Regression Problem**: The goal is to predict delay of flights.\n",
    "- **(Stretch) Multiclass Classification**: If the plane was delayed, we will predict what type of delay it is (will be).\n",
    "- **(Stretch) Binary Classification**: The goal is to predict if the flight will be cancelled."
   ]
  },
  {
   "cell_type": "code",
   "execution_count": null,
   "metadata": {},
   "outputs": [],
   "source": []
  },
  {
   "cell_type": "markdown",
   "metadata": {},
   "source": [
    "## Main Task: Regression Problem"
   ]
  },
  {
   "cell_type": "markdown",
   "metadata": {},
   "source": [
    "The target variable is **ARR_DELAY**. We need to be careful which columns to use and which don't. For example, DEP_DELAY is going to be the perfect predictor, but we can't use it because in real-life scenario, we want to predict the delay before the flight takes of --> We can use average delay from earlier days but not the one from the actual flight we predict.  \n",
    "\n",
    "For example, variables **CARRIER_DELAY, WEATHER_DELAY, NAS_DELAY, SECURITY_DELAY, LATE_AIRCRAFT_DELAY** shouldn't be used directly as predictors as well. However, we can create various transformations from earlier values.\n",
    "\n",
    "We will be evaluating your models by predicting the ARR_DELAY for all flights **1 week in advance**."
   ]
  },
  {
   "cell_type": "code",
   "execution_count": null,
   "metadata": {},
   "outputs": [],
   "source": []
  },
  {
   "cell_type": "code",
   "execution_count": null,
   "metadata": {},
   "outputs": [],
   "source": []
  },
  {
   "cell_type": "code",
   "execution_count": null,
   "metadata": {},
   "outputs": [],
   "source": []
  },
  {
   "cell_type": "markdown",
   "metadata": {},
   "source": [
    "### Feature Engineering"
   ]
  },
  {
   "cell_type": "markdown",
   "metadata": {},
   "source": [
    "Feature engineering will play a crucial role in this problems. We have only very little attributes so we need to create some features that will have some predictive power.\n",
    "\n",
    "- weather: we can use some weather API to look for the weather in time of the scheduled departure and scheduled arrival.\n",
    "- statistics (avg, mean, median, std, min, max...): we can take a look at previous delays and compute descriptive statistics\n",
    "- airports encoding: we need to think about what to do with the airports and other categorical variables\n",
    "- time of the day: the delay probably depends on the airport traffic which varies during the day.\n",
    "- airport traffic\n",
    "- unsupervised learning as feature engineering?\n",
    "- **what are the additional options?**: Think about what we could do more to improve the model."
   ]
  },
  {
   "cell_type": "code",
   "execution_count": 1,
   "metadata": {},
   "outputs": [],
   "source": [
    "import pandas as pd\n",
    "import numpy as np"
   ]
  },
  {
   "cell_type": "code",
   "execution_count": 2,
   "metadata": {},
   "outputs": [],
   "source": [
    "flights = pd.read_csv('flights_rand.csv')"
   ]
  },
  {
   "cell_type": "code",
   "execution_count": 3,
   "metadata": {},
   "outputs": [],
   "source": [
    "flights1 = flights.drop(['dest', 'dest_city_name','origin', 'origin_city_name', 'mkt_unique_carrier', 'branded_code_share', 'carrier_delay','weather_delay','nas_delay','security_delay', 'late_aircraft_delay', 'first_dep_time', 'total_add_gtime','longest_add_gtime','cancelled', 'cancellation_code', 'diverted', 'dup', 'flights', 'no_name'], axis = 1)"
   ]
  },
  {
   "cell_type": "code",
   "execution_count": 4,
   "metadata": {},
   "outputs": [],
   "source": [
    "dep_time_mode = flights1['dep_time'].mode()\n",
    "arr_time_mode = flights1['arr_time'].mode()\n",
    "wheel_off_mode = flights1['wheels_off'].mode()\n",
    "wheel_on_mode = flights1['wheels_on'].mode()\n",
    "tail_number_mode = flights1['tail_num'].mode()"
   ]
  },
  {
   "cell_type": "code",
   "execution_count": 5,
   "metadata": {},
   "outputs": [],
   "source": [
    "flights1['wheels_off'] = flights1['wheels_off'].fillna(int(wheel_off_mode[0]))\n",
    "flights1['arr_time'] = flights1['arr_time'].fillna(int(arr_time_mode))\n",
    "flights1['dep_time'] = flights1['dep_time'].fillna(int(dep_time_mode))\n",
    "flights1['wheels_on'] = flights1['wheels_on'].fillna(int(wheel_on_mode))\n",
    "flights1['tail_num'] = flights1['tail_num'].fillna(str(tail_number_mode[0]))"
   ]
  },
  {
   "cell_type": "code",
   "execution_count": 6,
   "metadata": {},
   "outputs": [],
   "source": [
    "flights1['dep_delay'] = flights1['dep_delay'].fillna(flights1['dep_delay'].mean())\n",
    "flights1['taxi_in'] = flights1['taxi_in'].fillna(flights1['taxi_in'].mean())\n",
    "flights1['arr_delay'] = flights1['arr_delay'].fillna(flights1['arr_delay'].mean())\n",
    "flights1['actual_elapsed_time'] = flights1['actual_elapsed_time'].fillna(flights1['actual_elapsed_time'].mean())\n",
    "flights1['air_time'] = flights1['air_time'].fillna(flights1['air_time'].mean())\n",
    "flights1['taxi_out'] = flights1['taxi_out'].fillna(flights1['taxi_out'].mean())"
   ]
  },
  {
   "cell_type": "markdown",
   "metadata": {},
   "source": [
    "* adding month, day of the week, day of the month"
   ]
  },
  {
   "cell_type": "code",
   "execution_count": 24,
   "metadata": {},
   "outputs": [],
   "source": [
    "flights1['fl_date'] = pd.to_datetime(flights1['fl_date'], errors='coerce')\n",
    "flights1['month'] = flights1['fl_date'].dt.month\n",
    "flights1['day_of_week'] = flights1['fl_date'].dt.dayofweek\n",
    "flights1['day_of_month'] = flights1['fl_date'].dt.day\n",
    "flights1['year'] = flights1['fl_date'].dt.year"
   ]
  },
  {
   "cell_type": "code",
   "execution_count": 29,
   "metadata": {},
   "outputs": [],
   "source": [
    "flights1 = flights1.drop('fl_date', axis = 1)"
   ]
  },
  {
   "cell_type": "code",
   "execution_count": null,
   "metadata": {},
   "outputs": [],
   "source": []
  },
  {
   "cell_type": "markdown",
   "metadata": {},
   "source": [
    "* get_dummies categorical features"
   ]
  },
  {
   "cell_type": "code",
   "execution_count": 8,
   "metadata": {},
   "outputs": [],
   "source": [
    "#cat_features = flights1[['mkt_carrier', 'op_unique_carrier', 'tail_num', 'op_carrier_fl_num', 'origin_airport_id', 'dest_airport_id']]"
   ]
  },
  {
   "cell_type": "code",
   "execution_count": 9,
   "metadata": {},
   "outputs": [],
   "source": [
    "#df_dummy = pd.get_dummies(cat_features)"
   ]
  },
  {
   "cell_type": "code",
   "execution_count": 10,
   "metadata": {},
   "outputs": [],
   "source": [
    "#df_dum = pd.get_dummies(flights1['dest_airport_id'])"
   ]
  },
  {
   "cell_type": "markdown",
   "metadata": {},
   "source": [
    "* make the types categories"
   ]
  },
  {
   "cell_type": "code",
   "execution_count": 37,
   "metadata": {},
   "outputs": [],
   "source": [
    "flights1[\"mkt_carrier\"] = flights1[\"mkt_carrier\"].astype(\"category\")\n",
    "flights1[\"op_unique_carrier\"] = flights1[\"op_unique_carrier\"].astype(\"category\")\n",
    "flights1[\"tail_num\"] = flights1[\"tail_num\"].astype(\"category\")\n",
    "flights1[\"op_carrier_fl_num\"] = flights1[\"op_carrier_fl_num\"].astype(\"category\")\n",
    "flights1[\"origin_airport_id\"] = flights1[\"origin_airport_id\"].astype(\"category\")\n",
    "flights1[\"dest_airport_id\"] = flights1[\"dest_airport_id\"].astype(\"category\")\n",
    "flights1[\"mkt_carrier_fl_num\"] = flights1[\"mkt_carrier_fl_num\"].astype(\"category\")"
   ]
  },
  {
   "cell_type": "code",
   "execution_count": 31,
   "metadata": {},
   "outputs": [
    {
     "data": {
      "text/html": [
       "<div>\n",
       "<style scoped>\n",
       "    .dataframe tbody tr th:only-of-type {\n",
       "        vertical-align: middle;\n",
       "    }\n",
       "\n",
       "    .dataframe tbody tr th {\n",
       "        vertical-align: top;\n",
       "    }\n",
       "\n",
       "    .dataframe thead th {\n",
       "        text-align: right;\n",
       "    }\n",
       "</style>\n",
       "<table border=\"1\" class=\"dataframe\">\n",
       "  <thead>\n",
       "    <tr style=\"text-align: right;\">\n",
       "      <th></th>\n",
       "      <th>mkt_carrier</th>\n",
       "      <th>mkt_carrier_fl_num</th>\n",
       "      <th>op_unique_carrier</th>\n",
       "      <th>tail_num</th>\n",
       "      <th>op_carrier_fl_num</th>\n",
       "      <th>origin_airport_id</th>\n",
       "      <th>dest_airport_id</th>\n",
       "      <th>crs_dep_time</th>\n",
       "      <th>dep_time</th>\n",
       "      <th>dep_delay</th>\n",
       "      <th>...</th>\n",
       "      <th>arr_time</th>\n",
       "      <th>arr_delay</th>\n",
       "      <th>crs_elapsed_time</th>\n",
       "      <th>actual_elapsed_time</th>\n",
       "      <th>air_time</th>\n",
       "      <th>distance</th>\n",
       "      <th>month</th>\n",
       "      <th>day_of_week</th>\n",
       "      <th>day_of_month</th>\n",
       "      <th>year</th>\n",
       "    </tr>\n",
       "  </thead>\n",
       "  <tbody>\n",
       "    <tr>\n",
       "      <th>0</th>\n",
       "      <td>DL</td>\n",
       "      <td>5799</td>\n",
       "      <td>CP</td>\n",
       "      <td>N615CZ</td>\n",
       "      <td>5799</td>\n",
       "      <td>14869</td>\n",
       "      <td>12280</td>\n",
       "      <td>1100</td>\n",
       "      <td>1056.0</td>\n",
       "      <td>-4.0</td>\n",
       "      <td>...</td>\n",
       "      <td>1202.0</td>\n",
       "      <td>-2.0</td>\n",
       "      <td>64.0</td>\n",
       "      <td>66.0</td>\n",
       "      <td>43.0</td>\n",
       "      <td>188.0</td>\n",
       "      <td>7</td>\n",
       "      <td>4</td>\n",
       "      <td>27</td>\n",
       "      <td>2018</td>\n",
       "    </tr>\n",
       "    <tr>\n",
       "      <th>1</th>\n",
       "      <td>UA</td>\n",
       "      <td>6129</td>\n",
       "      <td>YV</td>\n",
       "      <td>N88325</td>\n",
       "      <td>6129</td>\n",
       "      <td>12266</td>\n",
       "      <td>11540</td>\n",
       "      <td>955</td>\n",
       "      <td>1016.0</td>\n",
       "      <td>21.0</td>\n",
       "      <td>...</td>\n",
       "      <td>1111.0</td>\n",
       "      <td>20.0</td>\n",
       "      <td>116.0</td>\n",
       "      <td>115.0</td>\n",
       "      <td>91.0</td>\n",
       "      <td>667.0</td>\n",
       "      <td>10</td>\n",
       "      <td>0</td>\n",
       "      <td>8</td>\n",
       "      <td>2018</td>\n",
       "    </tr>\n",
       "    <tr>\n",
       "      <th>2</th>\n",
       "      <td>WN</td>\n",
       "      <td>809</td>\n",
       "      <td>WN</td>\n",
       "      <td>N7841A</td>\n",
       "      <td>809</td>\n",
       "      <td>13232</td>\n",
       "      <td>11433</td>\n",
       "      <td>1640</td>\n",
       "      <td>1638.0</td>\n",
       "      <td>-2.0</td>\n",
       "      <td>...</td>\n",
       "      <td>1831.0</td>\n",
       "      <td>-19.0</td>\n",
       "      <td>70.0</td>\n",
       "      <td>53.0</td>\n",
       "      <td>36.0</td>\n",
       "      <td>228.0</td>\n",
       "      <td>10</td>\n",
       "      <td>2</td>\n",
       "      <td>31</td>\n",
       "      <td>2018</td>\n",
       "    </tr>\n",
       "    <tr>\n",
       "      <th>3</th>\n",
       "      <td>AA</td>\n",
       "      <td>1830</td>\n",
       "      <td>AA</td>\n",
       "      <td>N556UW</td>\n",
       "      <td>1830</td>\n",
       "      <td>12889</td>\n",
       "      <td>11057</td>\n",
       "      <td>750</td>\n",
       "      <td>750.0</td>\n",
       "      <td>0.0</td>\n",
       "      <td>...</td>\n",
       "      <td>1506.0</td>\n",
       "      <td>-2.0</td>\n",
       "      <td>258.0</td>\n",
       "      <td>256.0</td>\n",
       "      <td>221.0</td>\n",
       "      <td>1916.0</td>\n",
       "      <td>10</td>\n",
       "      <td>1</td>\n",
       "      <td>15</td>\n",
       "      <td>2019</td>\n",
       "    </tr>\n",
       "    <tr>\n",
       "      <th>4</th>\n",
       "      <td>AS</td>\n",
       "      <td>3300</td>\n",
       "      <td>OO</td>\n",
       "      <td>N176SY</td>\n",
       "      <td>3300</td>\n",
       "      <td>14831</td>\n",
       "      <td>10423</td>\n",
       "      <td>938</td>\n",
       "      <td>932.0</td>\n",
       "      <td>-6.0</td>\n",
       "      <td>...</td>\n",
       "      <td>1458.0</td>\n",
       "      <td>-16.0</td>\n",
       "      <td>216.0</td>\n",
       "      <td>206.0</td>\n",
       "      <td>187.0</td>\n",
       "      <td>1476.0</td>\n",
       "      <td>6</td>\n",
       "      <td>1</td>\n",
       "      <td>19</td>\n",
       "      <td>2018</td>\n",
       "    </tr>\n",
       "    <tr>\n",
       "      <th>...</th>\n",
       "      <td>...</td>\n",
       "      <td>...</td>\n",
       "      <td>...</td>\n",
       "      <td>...</td>\n",
       "      <td>...</td>\n",
       "      <td>...</td>\n",
       "      <td>...</td>\n",
       "      <td>...</td>\n",
       "      <td>...</td>\n",
       "      <td>...</td>\n",
       "      <td>...</td>\n",
       "      <td>...</td>\n",
       "      <td>...</td>\n",
       "      <td>...</td>\n",
       "      <td>...</td>\n",
       "      <td>...</td>\n",
       "      <td>...</td>\n",
       "      <td>...</td>\n",
       "      <td>...</td>\n",
       "      <td>...</td>\n",
       "      <td>...</td>\n",
       "    </tr>\n",
       "    <tr>\n",
       "      <th>9995</th>\n",
       "      <td>UA</td>\n",
       "      <td>6276</td>\n",
       "      <td>YV</td>\n",
       "      <td>N88335</td>\n",
       "      <td>6276</td>\n",
       "      <td>12266</td>\n",
       "      <td>13158</td>\n",
       "      <td>1445</td>\n",
       "      <td>1435.0</td>\n",
       "      <td>-10.0</td>\n",
       "      <td>...</td>\n",
       "      <td>1608.0</td>\n",
       "      <td>-11.0</td>\n",
       "      <td>94.0</td>\n",
       "      <td>93.0</td>\n",
       "      <td>69.0</td>\n",
       "      <td>429.0</td>\n",
       "      <td>1</td>\n",
       "      <td>5</td>\n",
       "      <td>12</td>\n",
       "      <td>2019</td>\n",
       "    </tr>\n",
       "    <tr>\n",
       "      <th>9996</th>\n",
       "      <td>AS</td>\n",
       "      <td>2497</td>\n",
       "      <td>QX</td>\n",
       "      <td>N422QX</td>\n",
       "      <td>2497</td>\n",
       "      <td>15023</td>\n",
       "      <td>12892</td>\n",
       "      <td>1400</td>\n",
       "      <td>1400.0</td>\n",
       "      <td>0.0</td>\n",
       "      <td>...</td>\n",
       "      <td>1528.0</td>\n",
       "      <td>-4.0</td>\n",
       "      <td>92.0</td>\n",
       "      <td>88.0</td>\n",
       "      <td>69.0</td>\n",
       "      <td>400.0</td>\n",
       "      <td>11</td>\n",
       "      <td>4</td>\n",
       "      <td>2</td>\n",
       "      <td>2018</td>\n",
       "    </tr>\n",
       "    <tr>\n",
       "      <th>9997</th>\n",
       "      <td>AA</td>\n",
       "      <td>2076</td>\n",
       "      <td>AA</td>\n",
       "      <td>N825AW</td>\n",
       "      <td>2076</td>\n",
       "      <td>14107</td>\n",
       "      <td>12339</td>\n",
       "      <td>855</td>\n",
       "      <td>904.0</td>\n",
       "      <td>9.0</td>\n",
       "      <td>...</td>\n",
       "      <td>1518.0</td>\n",
       "      <td>-9.0</td>\n",
       "      <td>212.0</td>\n",
       "      <td>194.0</td>\n",
       "      <td>173.0</td>\n",
       "      <td>1488.0</td>\n",
       "      <td>5</td>\n",
       "      <td>0</td>\n",
       "      <td>20</td>\n",
       "      <td>2019</td>\n",
       "    </tr>\n",
       "    <tr>\n",
       "      <th>9998</th>\n",
       "      <td>WN</td>\n",
       "      <td>3107</td>\n",
       "      <td>WN</td>\n",
       "      <td>N202WN</td>\n",
       "      <td>3107</td>\n",
       "      <td>11278</td>\n",
       "      <td>10693</td>\n",
       "      <td>1650</td>\n",
       "      <td>1734.0</td>\n",
       "      <td>44.0</td>\n",
       "      <td>...</td>\n",
       "      <td>1813.0</td>\n",
       "      <td>33.0</td>\n",
       "      <td>110.0</td>\n",
       "      <td>99.0</td>\n",
       "      <td>80.0</td>\n",
       "      <td>562.0</td>\n",
       "      <td>8</td>\n",
       "      <td>6</td>\n",
       "      <td>4</td>\n",
       "      <td>2019</td>\n",
       "    </tr>\n",
       "    <tr>\n",
       "      <th>9999</th>\n",
       "      <td>UA</td>\n",
       "      <td>2290</td>\n",
       "      <td>UA</td>\n",
       "      <td>N837UA</td>\n",
       "      <td>2290</td>\n",
       "      <td>13198</td>\n",
       "      <td>13930</td>\n",
       "      <td>525</td>\n",
       "      <td>518.0</td>\n",
       "      <td>-7.0</td>\n",
       "      <td>...</td>\n",
       "      <td>642.0</td>\n",
       "      <td>-9.0</td>\n",
       "      <td>86.0</td>\n",
       "      <td>84.0</td>\n",
       "      <td>61.0</td>\n",
       "      <td>403.0</td>\n",
       "      <td>5</td>\n",
       "      <td>6</td>\n",
       "      <td>27</td>\n",
       "      <td>2018</td>\n",
       "    </tr>\n",
       "  </tbody>\n",
       "</table>\n",
       "<p>10000 rows × 25 columns</p>\n",
       "</div>"
      ],
      "text/plain": [
       "     mkt_carrier  mkt_carrier_fl_num op_unique_carrier tail_num  \\\n",
       "0             DL                5799                CP   N615CZ   \n",
       "1             UA                6129                YV   N88325   \n",
       "2             WN                 809                WN   N7841A   \n",
       "3             AA                1830                AA   N556UW   \n",
       "4             AS                3300                OO   N176SY   \n",
       "...          ...                 ...               ...      ...   \n",
       "9995          UA                6276                YV   N88335   \n",
       "9996          AS                2497                QX   N422QX   \n",
       "9997          AA                2076                AA   N825AW   \n",
       "9998          WN                3107                WN   N202WN   \n",
       "9999          UA                2290                UA   N837UA   \n",
       "\n",
       "     op_carrier_fl_num origin_airport_id dest_airport_id  crs_dep_time  \\\n",
       "0                 5799             14869           12280          1100   \n",
       "1                 6129             12266           11540           955   \n",
       "2                  809             13232           11433          1640   \n",
       "3                 1830             12889           11057           750   \n",
       "4                 3300             14831           10423           938   \n",
       "...                ...               ...             ...           ...   \n",
       "9995              6276             12266           13158          1445   \n",
       "9996              2497             15023           12892          1400   \n",
       "9997              2076             14107           12339           855   \n",
       "9998              3107             11278           10693          1650   \n",
       "9999              2290             13198           13930           525   \n",
       "\n",
       "      dep_time  dep_delay  ...  arr_time  arr_delay  crs_elapsed_time  \\\n",
       "0       1056.0       -4.0  ...    1202.0       -2.0              64.0   \n",
       "1       1016.0       21.0  ...    1111.0       20.0             116.0   \n",
       "2       1638.0       -2.0  ...    1831.0      -19.0              70.0   \n",
       "3        750.0        0.0  ...    1506.0       -2.0             258.0   \n",
       "4        932.0       -6.0  ...    1458.0      -16.0             216.0   \n",
       "...        ...        ...  ...       ...        ...               ...   \n",
       "9995    1435.0      -10.0  ...    1608.0      -11.0              94.0   \n",
       "9996    1400.0        0.0  ...    1528.0       -4.0              92.0   \n",
       "9997     904.0        9.0  ...    1518.0       -9.0             212.0   \n",
       "9998    1734.0       44.0  ...    1813.0       33.0             110.0   \n",
       "9999     518.0       -7.0  ...     642.0       -9.0              86.0   \n",
       "\n",
       "      actual_elapsed_time  air_time  distance  month  day_of_week  \\\n",
       "0                    66.0      43.0     188.0      7            4   \n",
       "1                   115.0      91.0     667.0     10            0   \n",
       "2                    53.0      36.0     228.0     10            2   \n",
       "3                   256.0     221.0    1916.0     10            1   \n",
       "4                   206.0     187.0    1476.0      6            1   \n",
       "...                   ...       ...       ...    ...          ...   \n",
       "9995                 93.0      69.0     429.0      1            5   \n",
       "9996                 88.0      69.0     400.0     11            4   \n",
       "9997                194.0     173.0    1488.0      5            0   \n",
       "9998                 99.0      80.0     562.0      8            6   \n",
       "9999                 84.0      61.0     403.0      5            6   \n",
       "\n",
       "      day_of_month  year  \n",
       "0               27  2018  \n",
       "1                8  2018  \n",
       "2               31  2018  \n",
       "3               15  2019  \n",
       "4               19  2018  \n",
       "...            ...   ...  \n",
       "9995            12  2019  \n",
       "9996             2  2018  \n",
       "9997            20  2019  \n",
       "9998             4  2019  \n",
       "9999            27  2018  \n",
       "\n",
       "[10000 rows x 25 columns]"
      ]
     },
     "execution_count": 31,
     "metadata": {},
     "output_type": "execute_result"
    }
   ],
   "source": [
    "flights1"
   ]
  },
  {
   "cell_type": "code",
   "execution_count": 39,
   "metadata": {},
   "outputs": [],
   "source": [
    "# ENCODE AIRPORTS AND TAILNUM\n",
    "from sklearn.preprocessing import OrdinalEncoder\n",
    "encoder = OrdinalEncoder()\n",
    "flights1['mkt_carrier'] = encoder.fit_transform(flights1[['mkt_carrier']])\n",
    "flights1['mkt_carrier_fl_num'] = encoder.fit_transform(flights1[['mkt_carrier_fl_num']])\n",
    "flights1['op_unique_carrier'] = encoder.fit_transform(flights1[['op_unique_carrier']])\n",
    "flights1['tail_num'] = encoder.fit_transform(flights1[['tail_num']])\n",
    "flights1['op_carrier_fl_num'] = encoder.fit_transform(flights1[['op_carrier_fl_num']])\n",
    "flights1['origin_airport_id'] = encoder.fit_transform(flights1[['origin_airport_id']])\n",
    "flights1['dest_airport_id'] = encoder.fit_transform(flights1[['dest_airport_id']])"
   ]
  },
  {
   "cell_type": "markdown",
   "metadata": {},
   "source": [
    "### Feature Selection / Dimensionality Reduction"
   ]
  },
  {
   "cell_type": "markdown",
   "metadata": {},
   "source": [
    "We need to apply different selection techniques to find out which one will be the best for our problems.\n",
    "\n",
    "- Original Features vs. PCA conponents?"
   ]
  },
  {
   "cell_type": "code",
   "execution_count": null,
   "metadata": {},
   "outputs": [],
   "source": [
    "LDA VS PCA"
   ]
  },
  {
   "cell_type": "markdown",
   "metadata": {},
   "source": [
    "* PCA testing"
   ]
  },
  {
   "cell_type": "code",
   "execution_count": 14,
   "metadata": {},
   "outputs": [],
   "source": [
    "from sklearn.decomposition import PCA\n",
    "import matplotlib.pyplot as plt"
   ]
  },
  {
   "cell_type": "code",
   "execution_count": null,
   "metadata": {},
   "outputs": [],
   "source": [
    "pca_test = PCA(n_components=5)\n",
    "#principalComponents_test = pca_test.fit_transform(flights1)"
   ]
  },
  {
   "cell_type": "markdown",
   "metadata": {},
   "source": [
    "### Modeling"
   ]
  },
  {
   "cell_type": "markdown",
   "metadata": {},
   "source": [
    "Use different ML techniques to predict each problem.\n",
    "\n",
    "- linear\n",
    "- Naive Bayes\n",
    "- Random Forest Regressor\n",
    "- SVM classification\n",
    "- XGBoost regresspr\n",
    "- The ensemble of your own choice"
   ]
  },
  {
   "cell_type": "markdown",
   "metadata": {},
   "source": [
    "* target and features"
   ]
  },
  {
   "cell_type": "code",
   "execution_count": 117,
   "metadata": {},
   "outputs": [],
   "source": [
    "y = np.array(flights1.arr_delay)"
   ]
  },
  {
   "cell_type": "code",
   "execution_count": 118,
   "metadata": {},
   "outputs": [
    {
     "data": {
      "text/plain": [
       "array([ -2.,  20., -19., ...,  -9.,  33.,  -9.])"
      ]
     },
     "execution_count": 118,
     "metadata": {},
     "output_type": "execute_result"
    }
   ],
   "source": [
    "y"
   ]
  },
  {
   "cell_type": "code",
   "execution_count": 42,
   "metadata": {},
   "outputs": [],
   "source": [
    "X_df = flights1.drop('arr_delay', axis = 1)"
   ]
  },
  {
   "cell_type": "code",
   "execution_count": 43,
   "metadata": {},
   "outputs": [],
   "source": [
    "X = np.array(X_df)"
   ]
  },
  {
   "cell_type": "code",
   "execution_count": 114,
   "metadata": {},
   "outputs": [
    {
     "data": {
      "text/plain": [
       "array([0, 0, 0, ..., 0, 0, 0])"
      ]
     },
     "execution_count": 114,
     "metadata": {},
     "output_type": "execute_result"
    }
   ],
   "source": [
    "y"
   ]
  },
  {
   "cell_type": "markdown",
   "metadata": {},
   "source": [
    "* Scaling"
   ]
  },
  {
   "cell_type": "code",
   "execution_count": 44,
   "metadata": {},
   "outputs": [],
   "source": [
    "from sklearn.preprocessing import StandardScaler"
   ]
  },
  {
   "cell_type": "code",
   "execution_count": 46,
   "metadata": {},
   "outputs": [],
   "source": [
    "scaler = StandardScaler()\n",
    "X = scaler.fit_transform(X)"
   ]
  },
  {
   "cell_type": "code",
   "execution_count": 47,
   "metadata": {},
   "outputs": [],
   "source": [
    "y = (y - y.mean()) / y.std()"
   ]
  },
  {
   "cell_type": "markdown",
   "metadata": {},
   "source": [
    "* train test split"
   ]
  },
  {
   "cell_type": "code",
   "execution_count": 49,
   "metadata": {},
   "outputs": [],
   "source": [
    "import sklearn.model_selection as model_selection\n",
    "X_train, X_test, y_train, y_test = model_selection.train_test_split(X, y, train_size=0.90,test_size=0.10, random_state=101, shuffle = True)"
   ]
  },
  {
   "cell_type": "code",
   "execution_count": 107,
   "metadata": {},
   "outputs": [
    {
     "data": {
      "text/plain": [
       "numpy.ndarray"
      ]
     },
     "execution_count": 107,
     "metadata": {},
     "output_type": "execute_result"
    }
   ],
   "source": [
    "type(X_train)"
   ]
  },
  {
   "cell_type": "code",
   "execution_count": 113,
   "metadata": {},
   "outputs": [
    {
     "data": {
      "text/plain": [
       "numpy.ndarray"
      ]
     },
     "execution_count": 113,
     "metadata": {},
     "output_type": "execute_result"
    }
   ],
   "source": [
    "type(y_train)"
   ]
  },
  {
   "cell_type": "code",
   "execution_count": null,
   "metadata": {},
   "outputs": [],
   "source": [
    "y_train"
   ]
  },
  {
   "cell_type": "code",
   "execution_count": 67,
   "metadata": {},
   "outputs": [],
   "source": [
    "from sklearn.metrics import r2_score"
   ]
  },
  {
   "cell_type": "markdown",
   "metadata": {},
   "source": [
    "#### linear"
   ]
  },
  {
   "cell_type": "code",
   "execution_count": 89,
   "metadata": {},
   "outputs": [],
   "source": [
    "from sklearn.linear_model import LinearRegression\n",
    "from sklearn.model_selection import GridSearchCV"
   ]
  },
  {
   "cell_type": "code",
   "execution_count": 90,
   "metadata": {},
   "outputs": [],
   "source": [
    "#logistic regression\n",
    "linear_model = LinearRegression()"
   ]
  },
  {
   "cell_type": "code",
   "execution_count": 91,
   "metadata": {},
   "outputs": [
    {
     "data": {
      "text/plain": [
       "LinearRegression()"
      ]
     },
     "execution_count": 91,
     "metadata": {},
     "output_type": "execute_result"
    }
   ],
   "source": [
    "linear_model.fit(X_train, y_train)"
   ]
  },
  {
   "cell_type": "code",
   "execution_count": 92,
   "metadata": {},
   "outputs": [],
   "source": [
    "y_pred_linear = linear_model.predict(X_test)"
   ]
  },
  {
   "cell_type": "code",
   "execution_count": 94,
   "metadata": {},
   "outputs": [
    {
     "data": {
      "text/plain": [
       "0.9878448209808578"
      ]
     },
     "execution_count": 94,
     "metadata": {},
     "output_type": "execute_result"
    }
   ],
   "source": [
    "r2_score(y_test, y_pred_linear)"
   ]
  },
  {
   "cell_type": "markdown",
   "metadata": {},
   "source": [
    "#### Naives Bayes, GaussianNB Naive Bayes"
   ]
  },
  {
   "cell_type": "code",
   "execution_count": 110,
   "metadata": {},
   "outputs": [],
   "source": [
    "from sklearn.naive_bayes import GaussianNB"
   ]
  },
  {
   "cell_type": "code",
   "execution_count": 111,
   "metadata": {},
   "outputs": [],
   "source": [
    "NV_Gauss_model = GaussianNB()"
   ]
  },
  {
   "cell_type": "code",
   "execution_count": 112,
   "metadata": {},
   "outputs": [
    {
     "ename": "ValueError",
     "evalue": "Unknown label type: (array([-1.65141635e+00, -1.38684079e+00, -1.36648883e+00, -1.32578490e+00,\n       -1.24437703e+00, -1.18332114e+00, -1.12226524e+00, -1.10191327e+00,\n       -1.08156131e+00, -1.06120934e+00, -1.04085738e+00, -1.02050541e+00,\n       -1.00015344e+00, -9.79801479e-01, -9.59449513e-01, -9.39097548e-01,\n       -9.18745582e-01, -8.98393616e-01, -8.78041651e-01, -8.57689685e-01,\n       -8.37337719e-01, -8.16985754e-01, -7.96633788e-01, -7.76281822e-01,\n       -7.55929857e-01, -7.35577891e-01, -7.15225925e-01, -6.94873960e-01,\n       -6.74521994e-01, -6.54170028e-01, -6.33818063e-01, -6.13466097e-01,\n       -5.93114131e-01, -5.72762166e-01, -5.52410200e-01, -5.32058234e-01,\n       -5.11706269e-01, -4.91354303e-01, -4.71002337e-01, -4.50650372e-01,\n       -4.30298406e-01, -4.09946440e-01, -3.89594475e-01, -3.69242509e-01,\n       -3.48890543e-01, -3.28538578e-01, -3.08186612e-01, -2.87834646e-01,\n       -2.67482681e-01, -2.47130715e-01, -2.26778749e-01, -2.06426784e-01,\n       -1.86074818e-01, -1.65722852e-01, -1.45370887e-01, -1.25018921e-01,\n       -1.04666955e-01, -8.43149897e-02, -6.39630240e-02, -4.36110584e-02,\n       -2.32590927e-02, -2.90712702e-03,  0.00000000e+00,  1.74448386e-02,\n        3.77968043e-02,  5.81487700e-02,  7.85007357e-02,  9.88527013e-02,\n        1.19204667e-01,  1.39556633e-01,  1.59908598e-01,  1.80260564e-01,\n        2.00612530e-01,  2.20964495e-01,  2.41316461e-01,  2.61668427e-01,\n        2.82020392e-01,  3.02372358e-01,  3.22724324e-01,  3.43076289e-01,\n        3.63428255e-01,  3.83780221e-01,  4.04132186e-01,  4.24484152e-01,\n        4.44836118e-01,  4.65188083e-01,  4.85540049e-01,  5.05892015e-01,\n        5.26243980e-01,  5.46595946e-01,  5.66947912e-01,  5.87299877e-01,\n        6.07651843e-01,  6.28003809e-01,  6.48355774e-01,  6.68707740e-01,\n        6.89059706e-01,  7.09411671e-01,  7.29763637e-01,  7.50115603e-01,\n        7.70467568e-01,  7.90819534e-01,  8.11171500e-01,  8.31523465e-01,\n        8.51875431e-01,  8.72227397e-01,  8.92579362e-01,  9.12931328e-01,\n        9.33283294e-01,  9.53635259e-01,  9.73987225e-01,  9.94339191e-01,\n        1.01469116e+00,  1.03504312e+00,  1.05539509e+00,  1.07574705e+00,\n        1.09609902e+00,  1.11645098e+00,  1.13680295e+00,  1.15715492e+00,\n        1.17750688e+00,  1.19785885e+00,  1.21821081e+00,  1.23856278e+00,\n        1.25891474e+00,  1.27926671e+00,  1.29961868e+00,  1.31997064e+00,\n        1.34032261e+00,  1.36067457e+00,  1.38102654e+00,  1.40137850e+00,\n        1.42173047e+00,  1.44208244e+00,  1.46243440e+00,  1.48278637e+00,\n        1.50313833e+00,  1.52349030e+00,  1.54384226e+00,  1.56419423e+00,\n        1.58454620e+00,  1.60489816e+00,  1.62525013e+00,  1.64560209e+00,\n        1.66595406e+00,  1.68630602e+00,  1.70665799e+00,  1.72700995e+00,\n        1.74736192e+00,  1.76771389e+00,  1.78806585e+00,  1.80841782e+00,\n        1.82876978e+00,  1.84912175e+00,  1.86947371e+00,  1.88982568e+00,\n        1.91017765e+00,  1.93052961e+00,  1.95088158e+00,  1.97123354e+00,\n        1.99158551e+00,  2.01193747e+00,  2.03228944e+00,  2.05264141e+00,\n        2.07299337e+00,  2.09334534e+00,  2.11369730e+00,  2.13404927e+00,\n        2.15440123e+00,  2.17475320e+00,  2.19510517e+00,  2.21545713e+00,\n        2.23580910e+00,  2.25616106e+00,  2.27651303e+00,  2.29686499e+00,\n        2.31721696e+00,  2.33756892e+00,  2.35792089e+00,  2.37827286e+00,\n        2.39862482e+00,  2.41897679e+00,  2.43932875e+00,  2.45968072e+00,\n        2.48003268e+00,  2.50038465e+00,  2.52073662e+00,  2.54108858e+00,\n        2.56144055e+00,  2.58179251e+00,  2.60214448e+00,  2.62249644e+00,\n        2.64284841e+00,  2.66320038e+00,  2.68355234e+00,  2.70390431e+00,\n        2.72425627e+00,  2.74460824e+00,  2.76496020e+00,  2.80566414e+00,\n        2.84636807e+00,  2.86672003e+00,  2.88707200e+00,  2.90742396e+00,\n        2.92777593e+00,  2.96847986e+00,  2.98883183e+00,  3.00918379e+00,\n        3.02953576e+00,  3.04988772e+00,  3.07023969e+00,  3.09059165e+00,\n        3.13129559e+00,  3.17199952e+00,  3.19235148e+00,  3.21270345e+00,\n        3.23305541e+00,  3.25340738e+00,  3.33481524e+00,  3.35516721e+00,\n        3.41622311e+00,  3.43657507e+00,  3.45692704e+00,  3.47727900e+00,\n        3.51798293e+00,  3.55868686e+00,  3.57903883e+00,  3.59939080e+00,\n        3.61974276e+00,  3.64009473e+00,  3.66044669e+00,  3.68079866e+00,\n        3.72150259e+00,  3.74185456e+00,  3.80291045e+00,  3.88431832e+00,\n        3.90467028e+00,  3.92502225e+00,  3.94537421e+00,  3.96572618e+00,\n        3.98607814e+00,  4.00643011e+00,  4.02678208e+00,  4.06748601e+00,\n        4.08783797e+00,  4.10818994e+00,  4.12854190e+00,  4.20994977e+00,\n        4.23030173e+00,  4.37276549e+00,  4.39311746e+00,  4.41346942e+00,\n        4.43382139e+00,  4.47452532e+00,  4.51522925e+00,  4.59663711e+00,\n        4.61698908e+00,  4.65769301e+00,  4.69839694e+00,  4.73910087e+00,\n        4.75945284e+00,  4.77980481e+00,  4.80015677e+00,  4.86121267e+00,\n        4.94262053e+00,  4.96297250e+00,  5.04438036e+00,  5.12578822e+00,\n        5.22754805e+00,  5.30895591e+00,  5.32930788e+00,  5.45141967e+00,\n        5.57353147e+00,  5.59388343e+00,  5.63458736e+00,  5.71599523e+00,\n        5.73634719e+00,  5.89916292e+00,  5.91951488e+00,  5.96021881e+00,\n        6.02127471e+00,  6.20444240e+00,  6.26549830e+00,  6.30620223e+00,\n        6.34690616e+00,  6.55042582e+00,  6.65218565e+00,  6.67253761e+00,\n        6.79464941e+00,  6.85570530e+00,  6.89640923e+00,  7.01852103e+00,\n        7.28309658e+00,  7.77154376e+00,  7.81224769e+00,  7.95471145e+00,\n        8.28034290e+00,  8.87054990e+00,  9.64392460e+00,  1.02341316e+01,\n        1.10889142e+01,  1.13331378e+01,  1.16791212e+01,  1.19029928e+01,\n        1.23710880e+01,  1.65025370e+01,  1.69095763e+01,  1.82528061e+01,\n        1.96774437e+01,  2.76350623e+01]),)",
     "output_type": "error",
     "traceback": [
      "\u001b[1;31m---------------------------------------------------------------------------\u001b[0m",
      "\u001b[1;31mValueError\u001b[0m                                Traceback (most recent call last)",
      "\u001b[1;32m<ipython-input-112-38f888e1a4b2>\u001b[0m in \u001b[0;36m<module>\u001b[1;34m\u001b[0m\n\u001b[1;32m----> 1\u001b[1;33m \u001b[0mNV_Gauss_model\u001b[0m\u001b[1;33m.\u001b[0m\u001b[0mfit\u001b[0m\u001b[1;33m(\u001b[0m\u001b[0mX_train\u001b[0m\u001b[1;33m,\u001b[0m \u001b[0my_train\u001b[0m\u001b[1;33m)\u001b[0m\u001b[1;33m\u001b[0m\u001b[1;33m\u001b[0m\u001b[0m\n\u001b[0m",
      "\u001b[1;32m~\\anaconda3\\lib\\site-packages\\sklearn\\naive_bayes.py\u001b[0m in \u001b[0;36mfit\u001b[1;34m(self, X, y, sample_weight)\u001b[0m\n\u001b[0;32m    207\u001b[0m         \u001b[0mX\u001b[0m\u001b[1;33m,\u001b[0m \u001b[0my\u001b[0m \u001b[1;33m=\u001b[0m \u001b[0mself\u001b[0m\u001b[1;33m.\u001b[0m\u001b[0m_validate_data\u001b[0m\u001b[1;33m(\u001b[0m\u001b[0mX\u001b[0m\u001b[1;33m,\u001b[0m \u001b[0my\u001b[0m\u001b[1;33m)\u001b[0m\u001b[1;33m\u001b[0m\u001b[1;33m\u001b[0m\u001b[0m\n\u001b[0;32m    208\u001b[0m         \u001b[0my\u001b[0m \u001b[1;33m=\u001b[0m \u001b[0mcolumn_or_1d\u001b[0m\u001b[1;33m(\u001b[0m\u001b[0my\u001b[0m\u001b[1;33m,\u001b[0m \u001b[0mwarn\u001b[0m\u001b[1;33m=\u001b[0m\u001b[1;32mTrue\u001b[0m\u001b[1;33m)\u001b[0m\u001b[1;33m\u001b[0m\u001b[1;33m\u001b[0m\u001b[0m\n\u001b[1;32m--> 209\u001b[1;33m         return self._partial_fit(X, y, np.unique(y), _refit=True,\n\u001b[0m\u001b[0;32m    210\u001b[0m                                  sample_weight=sample_weight)\n\u001b[0;32m    211\u001b[0m \u001b[1;33m\u001b[0m\u001b[0m\n",
      "\u001b[1;32m~\\anaconda3\\lib\\site-packages\\sklearn\\naive_bayes.py\u001b[0m in \u001b[0;36m_partial_fit\u001b[1;34m(self, X, y, classes, _refit, sample_weight)\u001b[0m\n\u001b[0;32m    372\u001b[0m             \u001b[0mself\u001b[0m\u001b[1;33m.\u001b[0m\u001b[0mclasses_\u001b[0m \u001b[1;33m=\u001b[0m \u001b[1;32mNone\u001b[0m\u001b[1;33m\u001b[0m\u001b[1;33m\u001b[0m\u001b[0m\n\u001b[0;32m    373\u001b[0m \u001b[1;33m\u001b[0m\u001b[0m\n\u001b[1;32m--> 374\u001b[1;33m         \u001b[1;32mif\u001b[0m \u001b[0m_check_partial_fit_first_call\u001b[0m\u001b[1;33m(\u001b[0m\u001b[0mself\u001b[0m\u001b[1;33m,\u001b[0m \u001b[0mclasses\u001b[0m\u001b[1;33m)\u001b[0m\u001b[1;33m:\u001b[0m\u001b[1;33m\u001b[0m\u001b[1;33m\u001b[0m\u001b[0m\n\u001b[0m\u001b[0;32m    375\u001b[0m             \u001b[1;31m# This is the first call to partial_fit:\u001b[0m\u001b[1;33m\u001b[0m\u001b[1;33m\u001b[0m\u001b[1;33m\u001b[0m\u001b[0m\n\u001b[0;32m    376\u001b[0m             \u001b[1;31m# initialize various cumulative counters\u001b[0m\u001b[1;33m\u001b[0m\u001b[1;33m\u001b[0m\u001b[1;33m\u001b[0m\u001b[0m\n",
      "\u001b[1;32m~\\anaconda3\\lib\\site-packages\\sklearn\\utils\\multiclass.py\u001b[0m in \u001b[0;36m_check_partial_fit_first_call\u001b[1;34m(clf, classes)\u001b[0m\n\u001b[0;32m    337\u001b[0m         \u001b[1;32melse\u001b[0m\u001b[1;33m:\u001b[0m\u001b[1;33m\u001b[0m\u001b[1;33m\u001b[0m\u001b[0m\n\u001b[0;32m    338\u001b[0m             \u001b[1;31m# This is the first call to partial_fit\u001b[0m\u001b[1;33m\u001b[0m\u001b[1;33m\u001b[0m\u001b[1;33m\u001b[0m\u001b[0m\n\u001b[1;32m--> 339\u001b[1;33m             \u001b[0mclf\u001b[0m\u001b[1;33m.\u001b[0m\u001b[0mclasses_\u001b[0m \u001b[1;33m=\u001b[0m \u001b[0munique_labels\u001b[0m\u001b[1;33m(\u001b[0m\u001b[0mclasses\u001b[0m\u001b[1;33m)\u001b[0m\u001b[1;33m\u001b[0m\u001b[1;33m\u001b[0m\u001b[0m\n\u001b[0m\u001b[0;32m    340\u001b[0m             \u001b[1;32mreturn\u001b[0m \u001b[1;32mTrue\u001b[0m\u001b[1;33m\u001b[0m\u001b[1;33m\u001b[0m\u001b[0m\n\u001b[0;32m    341\u001b[0m \u001b[1;33m\u001b[0m\u001b[0m\n",
      "\u001b[1;32m~\\anaconda3\\lib\\site-packages\\sklearn\\utils\\multiclass.py\u001b[0m in \u001b[0;36munique_labels\u001b[1;34m(*ys)\u001b[0m\n\u001b[0;32m     96\u001b[0m     \u001b[0m_unique_labels\u001b[0m \u001b[1;33m=\u001b[0m \u001b[0m_FN_UNIQUE_LABELS\u001b[0m\u001b[1;33m.\u001b[0m\u001b[0mget\u001b[0m\u001b[1;33m(\u001b[0m\u001b[0mlabel_type\u001b[0m\u001b[1;33m,\u001b[0m \u001b[1;32mNone\u001b[0m\u001b[1;33m)\u001b[0m\u001b[1;33m\u001b[0m\u001b[1;33m\u001b[0m\u001b[0m\n\u001b[0;32m     97\u001b[0m     \u001b[1;32mif\u001b[0m \u001b[1;32mnot\u001b[0m \u001b[0m_unique_labels\u001b[0m\u001b[1;33m:\u001b[0m\u001b[1;33m\u001b[0m\u001b[1;33m\u001b[0m\u001b[0m\n\u001b[1;32m---> 98\u001b[1;33m         \u001b[1;32mraise\u001b[0m \u001b[0mValueError\u001b[0m\u001b[1;33m(\u001b[0m\u001b[1;34m\"Unknown label type: %s\"\u001b[0m \u001b[1;33m%\u001b[0m \u001b[0mrepr\u001b[0m\u001b[1;33m(\u001b[0m\u001b[0mys\u001b[0m\u001b[1;33m)\u001b[0m\u001b[1;33m)\u001b[0m\u001b[1;33m\u001b[0m\u001b[1;33m\u001b[0m\u001b[0m\n\u001b[0m\u001b[0;32m     99\u001b[0m \u001b[1;33m\u001b[0m\u001b[0m\n\u001b[0;32m    100\u001b[0m     \u001b[0mys_labels\u001b[0m \u001b[1;33m=\u001b[0m \u001b[0mset\u001b[0m\u001b[1;33m(\u001b[0m\u001b[0mchain\u001b[0m\u001b[1;33m.\u001b[0m\u001b[0mfrom_iterable\u001b[0m\u001b[1;33m(\u001b[0m\u001b[0m_unique_labels\u001b[0m\u001b[1;33m(\u001b[0m\u001b[0my\u001b[0m\u001b[1;33m)\u001b[0m \u001b[1;32mfor\u001b[0m \u001b[0my\u001b[0m \u001b[1;32min\u001b[0m \u001b[0mys\u001b[0m\u001b[1;33m)\u001b[0m\u001b[1;33m)\u001b[0m\u001b[1;33m\u001b[0m\u001b[1;33m\u001b[0m\u001b[0m\n",
      "\u001b[1;31mValueError\u001b[0m: Unknown label type: (array([-1.65141635e+00, -1.38684079e+00, -1.36648883e+00, -1.32578490e+00,\n       -1.24437703e+00, -1.18332114e+00, -1.12226524e+00, -1.10191327e+00,\n       -1.08156131e+00, -1.06120934e+00, -1.04085738e+00, -1.02050541e+00,\n       -1.00015344e+00, -9.79801479e-01, -9.59449513e-01, -9.39097548e-01,\n       -9.18745582e-01, -8.98393616e-01, -8.78041651e-01, -8.57689685e-01,\n       -8.37337719e-01, -8.16985754e-01, -7.96633788e-01, -7.76281822e-01,\n       -7.55929857e-01, -7.35577891e-01, -7.15225925e-01, -6.94873960e-01,\n       -6.74521994e-01, -6.54170028e-01, -6.33818063e-01, -6.13466097e-01,\n       -5.93114131e-01, -5.72762166e-01, -5.52410200e-01, -5.32058234e-01,\n       -5.11706269e-01, -4.91354303e-01, -4.71002337e-01, -4.50650372e-01,\n       -4.30298406e-01, -4.09946440e-01, -3.89594475e-01, -3.69242509e-01,\n       -3.48890543e-01, -3.28538578e-01, -3.08186612e-01, -2.87834646e-01,\n       -2.67482681e-01, -2.47130715e-01, -2.26778749e-01, -2.06426784e-01,\n       -1.86074818e-01, -1.65722852e-01, -1.45370887e-01, -1.25018921e-01,\n       -1.04666955e-01, -8.43149897e-02, -6.39630240e-02, -4.36110584e-02,\n       -2.32590927e-02, -2.90712702e-03,  0.00000000e+00,  1.74448386e-02,\n        3.77968043e-02,  5.81487700e-02,  7.85007357e-02,  9.88527013e-02,\n        1.19204667e-01,  1.39556633e-01,  1.59908598e-01,  1.80260564e-01,\n        2.00612530e-01,  2.20964495e-01,  2.41316461e-01,  2.61668427e-01,\n        2.82020392e-01,  3.02372358e-01,  3.22724324e-01,  3.43076289e-01,\n        3.63428255e-01,  3.83780221e-01,  4.04132186e-01,  4.24484152e-01,\n        4.44836118e-01,  4.65188083e-01,  4.85540049e-01,  5.05892015e-01,\n        5.26243980e-01,  5.46595946e-01,  5.66947912e-01,  5.87299877e-01,\n        6.07651843e-01,  6.28003809e-01,  6.48355774e-01,  6.68707740e-01,\n        6.89059706e-01,  7.09411671e-01,  7.29763637e-01,  7.50115603e-01,\n        7.70467568e-01,  7.90819534e-01,  8.11171500e-01,  8.31523465e-01,\n        8.51875431e-01,  8.72227397e-01,  8.92579362e-01,  9.12931328e-01,\n        9.33283294e-01,  9.53635259e-01,  9.73987225e-01,  9.94339191e-01,\n        1.01469116e+00,  1.03504312e+00,  1.05539509e+00,  1.07574705e+00,\n        1.09609902e+00,  1.11645098e+00,  1.13680295e+00,  1.15715492e+00,\n        1.17750688e+00,  1.19785885e+00,  1.21821081e+00,  1.23856278e+00,\n        1.25891474e+00,  1.27926671e+00,  1.29961868e+00,  1.31997064e+00,\n        1.34032261e+00,  1.36067457e+00,  1.38102654e+00,  1.40137850e+00,\n        1.42173047e+00,  1.44208244e+00,  1.46243440e+00,  1.48278637e+00,\n        1.50313833e+00,  1.52349030e+00,  1.54384226e+00,  1.56419423e+00,\n        1.58454620e+00,  1.60489816e+00,  1.62525013e+00,  1.64560209e+00,\n        1.66595406e+00,  1.68630602e+00,  1.70665799e+00,  1.72700995e+00,\n        1.74736192e+00,  1.76771389e+00,  1.78806585e+00,  1.80841782e+00,\n        1.82876978e+00,  1.84912175e+00,  1.86947371e+00,  1.88982568e+00,\n        1.91017765e+00,  1.93052961e+00,  1.95088158e+00,  1.97123354e+00,\n        1.99158551e+00,  2.01193747e+00,  2.03228944e+00,  2.05264141e+00,\n        2.07299337e+00,  2.09334534e+00,  2.11369730e+00,  2.13404927e+00,\n        2.15440123e+00,  2.17475320e+00,  2.19510517e+00,  2.21545713e+00,\n        2.23580910e+00,  2.25616106e+00,  2.27651303e+00,  2.29686499e+00,\n        2.31721696e+00,  2.33756892e+00,  2.35792089e+00,  2.37827286e+00,\n        2.39862482e+00,  2.41897679e+00,  2.43932875e+00,  2.45968072e+00,\n        2.48003268e+00,  2.50038465e+00,  2.52073662e+00,  2.54108858e+00,\n        2.56144055e+00,  2.58179251e+00,  2.60214448e+00,  2.62249644e+00,\n        2.64284841e+00,  2.66320038e+00,  2.68355234e+00,  2.70390431e+00,\n        2.72425627e+00,  2.74460824e+00,  2.76496020e+00,  2.80566414e+00,\n        2.84636807e+00,  2.86672003e+00,  2.88707200e+00,  2.90742396e+00,\n        2.92777593e+00,  2.96847986e+00,  2.98883183e+00,  3.00918379e+00,\n        3.02953576e+00,  3.04988772e+00,  3.07023969e+00,  3.09059165e+00,\n        3.13129559e+00,  3.17199952e+00,  3.19235148e+00,  3.21270345e+00,\n        3.23305541e+00,  3.25340738e+00,  3.33481524e+00,  3.35516721e+00,\n        3.41622311e+00,  3.43657507e+00,  3.45692704e+00,  3.47727900e+00,\n        3.51798293e+00,  3.55868686e+00,  3.57903883e+00,  3.59939080e+00,\n        3.61974276e+00,  3.64009473e+00,  3.66044669e+00,  3.68079866e+00,\n        3.72150259e+00,  3.74185456e+00,  3.80291045e+00,  3.88431832e+00,\n        3.90467028e+00,  3.92502225e+00,  3.94537421e+00,  3.96572618e+00,\n        3.98607814e+00,  4.00643011e+00,  4.02678208e+00,  4.06748601e+00,\n        4.08783797e+00,  4.10818994e+00,  4.12854190e+00,  4.20994977e+00,\n        4.23030173e+00,  4.37276549e+00,  4.39311746e+00,  4.41346942e+00,\n        4.43382139e+00,  4.47452532e+00,  4.51522925e+00,  4.59663711e+00,\n        4.61698908e+00,  4.65769301e+00,  4.69839694e+00,  4.73910087e+00,\n        4.75945284e+00,  4.77980481e+00,  4.80015677e+00,  4.86121267e+00,\n        4.94262053e+00,  4.96297250e+00,  5.04438036e+00,  5.12578822e+00,\n        5.22754805e+00,  5.30895591e+00,  5.32930788e+00,  5.45141967e+00,\n        5.57353147e+00,  5.59388343e+00,  5.63458736e+00,  5.71599523e+00,\n        5.73634719e+00,  5.89916292e+00,  5.91951488e+00,  5.96021881e+00,\n        6.02127471e+00,  6.20444240e+00,  6.26549830e+00,  6.30620223e+00,\n        6.34690616e+00,  6.55042582e+00,  6.65218565e+00,  6.67253761e+00,\n        6.79464941e+00,  6.85570530e+00,  6.89640923e+00,  7.01852103e+00,\n        7.28309658e+00,  7.77154376e+00,  7.81224769e+00,  7.95471145e+00,\n        8.28034290e+00,  8.87054990e+00,  9.64392460e+00,  1.02341316e+01,\n        1.10889142e+01,  1.13331378e+01,  1.16791212e+01,  1.19029928e+01,\n        1.23710880e+01,  1.65025370e+01,  1.69095763e+01,  1.82528061e+01,\n        1.96774437e+01,  2.76350623e+01]),)"
     ]
    }
   ],
   "source": [
    "NV_Gauss_model.fit(X_train, y_train)"
   ]
  },
  {
   "cell_type": "code",
   "execution_count": null,
   "metadata": {},
   "outputs": [],
   "source": [
    "y_pred_NV_multi = NV_multi_grid.predict(y_test)"
   ]
  },
  {
   "cell_type": "markdown",
   "metadata": {},
   "source": [
    "### Evaluation"
   ]
  },
  {
   "cell_type": "code",
   "execution_count": null,
   "metadata": {},
   "outputs": [],
   "source": []
  },
  {
   "cell_type": "markdown",
   "metadata": {},
   "source": [
    "You have data from 2018 and 2019 to develop models. Use different evaluation metrics for each problem and compare the performance of different models.\n",
    "\n",
    "You are required to predict delays on **out of sample** data from **first 7 days (1st-7th) of January 2020** and to share the file with LighthouseLabs. Sample submission can be found in the file **_sample_submission.csv_**"
   ]
  },
  {
   "cell_type": "code",
   "execution_count": null,
   "metadata": {},
   "outputs": [],
   "source": []
  },
  {
   "cell_type": "code",
   "execution_count": null,
   "metadata": {},
   "outputs": [],
   "source": []
  },
  {
   "cell_type": "code",
   "execution_count": null,
   "metadata": {},
   "outputs": [],
   "source": []
  },
  {
   "cell_type": "code",
   "execution_count": null,
   "metadata": {},
   "outputs": [],
   "source": []
  },
  {
   "cell_type": "markdown",
   "metadata": {},
   "source": [
    "======================================================================\n",
    "## Stretch Tasks"
   ]
  },
  {
   "cell_type": "markdown",
   "metadata": {},
   "source": [
    "### Multiclass Classification"
   ]
  },
  {
   "cell_type": "markdown",
   "metadata": {},
   "source": [
    "The target variables are **CARRIER_DELAY, WEATHER_DELAY, NAS_DELAY, SECURITY_DELAY, LATE_AIRCRAFT_DELAY**. We need to do additional transformations because these variables are not binary but continuos. For each flight that was delayed, we need to have one of these variables as 1 and others 0.\n",
    "\n",
    "It can happen that we have two types of delays with more than 0 minutes. In this case, take the bigger one as 1 and others as 0."
   ]
  },
  {
   "cell_type": "code",
   "execution_count": null,
   "metadata": {},
   "outputs": [],
   "source": []
  },
  {
   "cell_type": "code",
   "execution_count": null,
   "metadata": {},
   "outputs": [],
   "source": []
  },
  {
   "cell_type": "code",
   "execution_count": null,
   "metadata": {},
   "outputs": [],
   "source": []
  },
  {
   "cell_type": "markdown",
   "metadata": {},
   "source": [
    "### Binary Classification"
   ]
  },
  {
   "cell_type": "markdown",
   "metadata": {},
   "source": [
    "The target variable is **CANCELLED**. The main problem here is going to be huge class imbalance. We have only very little cancelled flights with comparison to all flights. It is important to do the right sampling before training and to choose correct evaluation metrics."
   ]
  },
  {
   "cell_type": "code",
   "execution_count": null,
   "metadata": {},
   "outputs": [],
   "source": []
  },
  {
   "cell_type": "code",
   "execution_count": null,
   "metadata": {},
   "outputs": [],
   "source": []
  },
  {
   "cell_type": "code",
   "execution_count": null,
   "metadata": {},
   "outputs": [],
   "source": []
  }
 ],
 "metadata": {
  "kernelspec": {
   "display_name": "Python 3",
   "language": "python",
   "name": "python3"
  },
  "language_info": {
   "codemirror_mode": {
    "name": "ipython",
    "version": 3
   },
   "file_extension": ".py",
   "mimetype": "text/x-python",
   "name": "python",
   "nbconvert_exporter": "python",
   "pygments_lexer": "ipython3",
   "version": "3.8.5"
  }
 },
 "nbformat": 4,
 "nbformat_minor": 4
}
