{
 "cells": [
  {
   "cell_type": "markdown",
   "metadata": {},
   "source": [
    "## Exploratory Data Analysis\n",
    "\n",
    "Use this notebook to get familiar with the datasets we have. There is 10 questions we need to answer during the EDA.\n",
    "\n",
    "\n",
    "We shouldn't limit our EDA to these 10 questions. Let's be creative :)."
   ]
  },
  {
   "cell_type": "code",
   "execution_count": 575,
   "metadata": {},
   "outputs": [],
   "source": [
    "import pandas as pd\n",
    "import psycopg2\n",
    "import sqlalchemy\n",
    "import matplotlib.pyplot as plt\n",
    "import numpy as np\n",
    "from sqlalchemy import create_engine\n",
    "from scipy import stats\n",
    "import seaborn as sns"
   ]
  },
  {
   "cell_type": "code",
   "execution_count": 576,
   "metadata": {},
   "outputs": [],
   "source": [
    "POSTGRES_ADDRESS = 'mid-term-project.ca2jkepgjpne.us-east-2.rds.amazonaws.com' \n",
    "POSTGRES_PORT = '5432' \n",
    "POSTGRES_USERNAME = 'lhl_student' \n",
    "POSTGRES_PASSWORD = 'lhl_student' \n",
    "POSTGRES_DBNAME='mid_term_project'\n",
    "postgres_str = ('postgresql://{username}:{password}@{ipaddress}:{port}/{dbname}'.format(username=POSTGRES_USERNAME, \n",
    "                                                                                        password=POSTGRES_PASSWORD, \n",
    "                                                                                        ipaddress=POSTGRES_ADDRESS, \n",
    "                                                                                        port=POSTGRES_PORT, \n",
    "                                                                                        dbname=POSTGRES_DBNAME)) \n",
    "# Create the connection \n",
    "cnx = create_engine(postgres_str)"
   ]
  },
  {
   "cell_type": "code",
   "execution_count": 488,
   "metadata": {},
   "outputs": [],
   "source": [
    "df_flight=pd.read_sql_query('''SELECT * FROM flights ORDER BY RANDOM() LIMIT 10000;''', cnx)"
   ]
  },
  {
   "cell_type": "code",
   "execution_count": null,
   "metadata": {},
   "outputs": [],
   "source": []
  },
  {
   "cell_type": "markdown",
   "metadata": {},
   "source": [
    "#### **Task 1**: Test the hypothesis that the delay is from Normal distribution. and that **mean** of the delay is 0. Be careful about the outliers."
   ]
  },
  {
   "cell_type": "code",
   "execution_count": 489,
   "metadata": {},
   "outputs": [
    {
     "data": {
      "text/html": [
       "<div>\n",
       "<style scoped>\n",
       "    .dataframe tbody tr th:only-of-type {\n",
       "        vertical-align: middle;\n",
       "    }\n",
       "\n",
       "    .dataframe tbody tr th {\n",
       "        vertical-align: top;\n",
       "    }\n",
       "\n",
       "    .dataframe thead th {\n",
       "        text-align: right;\n",
       "    }\n",
       "</style>\n",
       "<table border=\"1\" class=\"dataframe\">\n",
       "  <thead>\n",
       "    <tr style=\"text-align: right;\">\n",
       "      <th></th>\n",
       "      <th>fl_date</th>\n",
       "      <th>mkt_unique_carrier</th>\n",
       "      <th>branded_code_share</th>\n",
       "      <th>mkt_carrier</th>\n",
       "      <th>mkt_carrier_fl_num</th>\n",
       "      <th>op_unique_carrier</th>\n",
       "      <th>tail_num</th>\n",
       "      <th>op_carrier_fl_num</th>\n",
       "      <th>origin_airport_id</th>\n",
       "      <th>origin</th>\n",
       "      <th>...</th>\n",
       "      <th>distance</th>\n",
       "      <th>carrier_delay</th>\n",
       "      <th>weather_delay</th>\n",
       "      <th>nas_delay</th>\n",
       "      <th>security_delay</th>\n",
       "      <th>late_aircraft_delay</th>\n",
       "      <th>first_dep_time</th>\n",
       "      <th>total_add_gtime</th>\n",
       "      <th>longest_add_gtime</th>\n",
       "      <th>no_name</th>\n",
       "    </tr>\n",
       "  </thead>\n",
       "  <tbody>\n",
       "    <tr>\n",
       "      <th>0</th>\n",
       "      <td>2018-02-15</td>\n",
       "      <td>UA</td>\n",
       "      <td>UA</td>\n",
       "      <td>UA</td>\n",
       "      <td>343</td>\n",
       "      <td>UA</td>\n",
       "      <td>N33103</td>\n",
       "      <td>343</td>\n",
       "      <td>10721</td>\n",
       "      <td>BOS</td>\n",
       "      <td>...</td>\n",
       "      <td>200.0</td>\n",
       "      <td>NaN</td>\n",
       "      <td>NaN</td>\n",
       "      <td>NaN</td>\n",
       "      <td>NaN</td>\n",
       "      <td>NaN</td>\n",
       "      <td>None</td>\n",
       "      <td>NaN</td>\n",
       "      <td>NaN</td>\n",
       "      <td>None</td>\n",
       "    </tr>\n",
       "    <tr>\n",
       "      <th>1</th>\n",
       "      <td>2019-05-22</td>\n",
       "      <td>AA</td>\n",
       "      <td>AA_CODESHARE</td>\n",
       "      <td>AA</td>\n",
       "      <td>5299</td>\n",
       "      <td>OH</td>\n",
       "      <td>N725PS</td>\n",
       "      <td>5299</td>\n",
       "      <td>12448</td>\n",
       "      <td>JAN</td>\n",
       "      <td>...</td>\n",
       "      <td>562.0</td>\n",
       "      <td>37.0</td>\n",
       "      <td>0.0</td>\n",
       "      <td>5.0</td>\n",
       "      <td>0.0</td>\n",
       "      <td>2.0</td>\n",
       "      <td>None</td>\n",
       "      <td>NaN</td>\n",
       "      <td>NaN</td>\n",
       "      <td>None</td>\n",
       "    </tr>\n",
       "    <tr>\n",
       "      <th>2</th>\n",
       "      <td>2018-08-05</td>\n",
       "      <td>WN</td>\n",
       "      <td>WN</td>\n",
       "      <td>WN</td>\n",
       "      <td>3730</td>\n",
       "      <td>WN</td>\n",
       "      <td>N447WN</td>\n",
       "      <td>3730</td>\n",
       "      <td>12889</td>\n",
       "      <td>LAS</td>\n",
       "      <td>...</td>\n",
       "      <td>1371.0</td>\n",
       "      <td>NaN</td>\n",
       "      <td>NaN</td>\n",
       "      <td>NaN</td>\n",
       "      <td>NaN</td>\n",
       "      <td>NaN</td>\n",
       "      <td>None</td>\n",
       "      <td>NaN</td>\n",
       "      <td>NaN</td>\n",
       "      <td>None</td>\n",
       "    </tr>\n",
       "    <tr>\n",
       "      <th>3</th>\n",
       "      <td>2019-03-01</td>\n",
       "      <td>F9</td>\n",
       "      <td>F9</td>\n",
       "      <td>F9</td>\n",
       "      <td>1210</td>\n",
       "      <td>F9</td>\n",
       "      <td>N205FR</td>\n",
       "      <td>1210</td>\n",
       "      <td>15016</td>\n",
       "      <td>STL</td>\n",
       "      <td>...</td>\n",
       "      <td>882.0</td>\n",
       "      <td>NaN</td>\n",
       "      <td>NaN</td>\n",
       "      <td>NaN</td>\n",
       "      <td>NaN</td>\n",
       "      <td>NaN</td>\n",
       "      <td>None</td>\n",
       "      <td>NaN</td>\n",
       "      <td>NaN</td>\n",
       "      <td>None</td>\n",
       "    </tr>\n",
       "    <tr>\n",
       "      <th>4</th>\n",
       "      <td>2018-12-08</td>\n",
       "      <td>AA</td>\n",
       "      <td>AA_CODESHARE</td>\n",
       "      <td>AA</td>\n",
       "      <td>5089</td>\n",
       "      <td>OH</td>\n",
       "      <td>N576NN</td>\n",
       "      <td>5089</td>\n",
       "      <td>10821</td>\n",
       "      <td>BWI</td>\n",
       "      <td>...</td>\n",
       "      <td>361.0</td>\n",
       "      <td>NaN</td>\n",
       "      <td>NaN</td>\n",
       "      <td>NaN</td>\n",
       "      <td>NaN</td>\n",
       "      <td>NaN</td>\n",
       "      <td>None</td>\n",
       "      <td>NaN</td>\n",
       "      <td>NaN</td>\n",
       "      <td>None</td>\n",
       "    </tr>\n",
       "  </tbody>\n",
       "</table>\n",
       "<p>5 rows × 42 columns</p>\n",
       "</div>"
      ],
      "text/plain": [
       "      fl_date mkt_unique_carrier branded_code_share mkt_carrier  \\\n",
       "0  2018-02-15                 UA                 UA          UA   \n",
       "1  2019-05-22                 AA       AA_CODESHARE          AA   \n",
       "2  2018-08-05                 WN                 WN          WN   \n",
       "3  2019-03-01                 F9                 F9          F9   \n",
       "4  2018-12-08                 AA       AA_CODESHARE          AA   \n",
       "\n",
       "   mkt_carrier_fl_num op_unique_carrier tail_num  op_carrier_fl_num  \\\n",
       "0                 343                UA   N33103                343   \n",
       "1                5299                OH   N725PS               5299   \n",
       "2                3730                WN   N447WN               3730   \n",
       "3                1210                F9   N205FR               1210   \n",
       "4                5089                OH   N576NN               5089   \n",
       "\n",
       "   origin_airport_id origin  ... distance  carrier_delay weather_delay  \\\n",
       "0              10721    BOS  ...    200.0            NaN           NaN   \n",
       "1              12448    JAN  ...    562.0           37.0           0.0   \n",
       "2              12889    LAS  ...   1371.0            NaN           NaN   \n",
       "3              15016    STL  ...    882.0            NaN           NaN   \n",
       "4              10821    BWI  ...    361.0            NaN           NaN   \n",
       "\n",
       "  nas_delay  security_delay  late_aircraft_delay  first_dep_time  \\\n",
       "0       NaN             NaN                  NaN            None   \n",
       "1       5.0             0.0                  2.0            None   \n",
       "2       NaN             NaN                  NaN            None   \n",
       "3       NaN             NaN                  NaN            None   \n",
       "4       NaN             NaN                  NaN            None   \n",
       "\n",
       "   total_add_gtime  longest_add_gtime  no_name  \n",
       "0              NaN                NaN     None  \n",
       "1              NaN                NaN     None  \n",
       "2              NaN                NaN     None  \n",
       "3              NaN                NaN     None  \n",
       "4              NaN                NaN     None  \n",
       "\n",
       "[5 rows x 42 columns]"
      ]
     },
     "execution_count": 489,
     "metadata": {},
     "output_type": "execute_result"
    }
   ],
   "source": [
    "df_flight.head()"
   ]
  },
  {
   "cell_type": "code",
   "execution_count": 490,
   "metadata": {},
   "outputs": [
    {
     "data": {
      "text/html": [
       "<div>\n",
       "<style scoped>\n",
       "    .dataframe tbody tr th:only-of-type {\n",
       "        vertical-align: middle;\n",
       "    }\n",
       "\n",
       "    .dataframe tbody tr th {\n",
       "        vertical-align: top;\n",
       "    }\n",
       "\n",
       "    .dataframe thead th {\n",
       "        text-align: right;\n",
       "    }\n",
       "</style>\n",
       "<table border=\"1\" class=\"dataframe\">\n",
       "  <thead>\n",
       "    <tr style=\"text-align: right;\">\n",
       "      <th></th>\n",
       "      <th>fl_date</th>\n",
       "      <th>mkt_unique_carrier</th>\n",
       "      <th>branded_code_share</th>\n",
       "      <th>mkt_carrier</th>\n",
       "      <th>mkt_carrier_fl_num</th>\n",
       "      <th>op_unique_carrier</th>\n",
       "      <th>tail_num</th>\n",
       "      <th>op_carrier_fl_num</th>\n",
       "      <th>origin_airport_id</th>\n",
       "      <th>origin</th>\n",
       "      <th>...</th>\n",
       "      <th>distance</th>\n",
       "      <th>carrier_delay</th>\n",
       "      <th>weather_delay</th>\n",
       "      <th>nas_delay</th>\n",
       "      <th>security_delay</th>\n",
       "      <th>late_aircraft_delay</th>\n",
       "      <th>first_dep_time</th>\n",
       "      <th>total_add_gtime</th>\n",
       "      <th>longest_add_gtime</th>\n",
       "      <th>no_name</th>\n",
       "    </tr>\n",
       "  </thead>\n",
       "  <tbody>\n",
       "    <tr>\n",
       "      <th>9995</th>\n",
       "      <td>2019-01-08</td>\n",
       "      <td>AS</td>\n",
       "      <td>AS</td>\n",
       "      <td>AS</td>\n",
       "      <td>1040</td>\n",
       "      <td>AS</td>\n",
       "      <td>N638VA</td>\n",
       "      <td>1040</td>\n",
       "      <td>14771</td>\n",
       "      <td>SFO</td>\n",
       "      <td>...</td>\n",
       "      <td>337.0</td>\n",
       "      <td>55.0</td>\n",
       "      <td>0.0</td>\n",
       "      <td>0.0</td>\n",
       "      <td>0.0</td>\n",
       "      <td>0.0</td>\n",
       "      <td>None</td>\n",
       "      <td>NaN</td>\n",
       "      <td>NaN</td>\n",
       "      <td>None</td>\n",
       "    </tr>\n",
       "    <tr>\n",
       "      <th>9996</th>\n",
       "      <td>2018-06-11</td>\n",
       "      <td>UA</td>\n",
       "      <td>UA</td>\n",
       "      <td>UA</td>\n",
       "      <td>539</td>\n",
       "      <td>UA</td>\n",
       "      <td>N77530</td>\n",
       "      <td>539</td>\n",
       "      <td>14771</td>\n",
       "      <td>SFO</td>\n",
       "      <td>...</td>\n",
       "      <td>2338.0</td>\n",
       "      <td>NaN</td>\n",
       "      <td>NaN</td>\n",
       "      <td>NaN</td>\n",
       "      <td>NaN</td>\n",
       "      <td>NaN</td>\n",
       "      <td>None</td>\n",
       "      <td>NaN</td>\n",
       "      <td>NaN</td>\n",
       "      <td>None</td>\n",
       "    </tr>\n",
       "    <tr>\n",
       "      <th>9997</th>\n",
       "      <td>2019-10-30</td>\n",
       "      <td>B6</td>\n",
       "      <td>B6</td>\n",
       "      <td>B6</td>\n",
       "      <td>1907</td>\n",
       "      <td>B6</td>\n",
       "      <td>N809JB</td>\n",
       "      <td>1907</td>\n",
       "      <td>10721</td>\n",
       "      <td>BOS</td>\n",
       "      <td>...</td>\n",
       "      <td>942.0</td>\n",
       "      <td>0.0</td>\n",
       "      <td>0.0</td>\n",
       "      <td>26.0</td>\n",
       "      <td>0.0</td>\n",
       "      <td>0.0</td>\n",
       "      <td>None</td>\n",
       "      <td>NaN</td>\n",
       "      <td>NaN</td>\n",
       "      <td>None</td>\n",
       "    </tr>\n",
       "    <tr>\n",
       "      <th>9998</th>\n",
       "      <td>2018-11-07</td>\n",
       "      <td>WN</td>\n",
       "      <td>WN</td>\n",
       "      <td>WN</td>\n",
       "      <td>1257</td>\n",
       "      <td>WN</td>\n",
       "      <td>N279WN</td>\n",
       "      <td>1257</td>\n",
       "      <td>10800</td>\n",
       "      <td>BUR</td>\n",
       "      <td>...</td>\n",
       "      <td>1243.0</td>\n",
       "      <td>NaN</td>\n",
       "      <td>NaN</td>\n",
       "      <td>NaN</td>\n",
       "      <td>NaN</td>\n",
       "      <td>NaN</td>\n",
       "      <td>None</td>\n",
       "      <td>NaN</td>\n",
       "      <td>NaN</td>\n",
       "      <td>None</td>\n",
       "    </tr>\n",
       "    <tr>\n",
       "      <th>9999</th>\n",
       "      <td>2018-05-30</td>\n",
       "      <td>AA</td>\n",
       "      <td>AA_CODESHARE</td>\n",
       "      <td>AA</td>\n",
       "      <td>5142</td>\n",
       "      <td>OH</td>\n",
       "      <td>N568NN</td>\n",
       "      <td>5142</td>\n",
       "      <td>11057</td>\n",
       "      <td>CLT</td>\n",
       "      <td>...</td>\n",
       "      <td>350.0</td>\n",
       "      <td>NaN</td>\n",
       "      <td>NaN</td>\n",
       "      <td>NaN</td>\n",
       "      <td>NaN</td>\n",
       "      <td>NaN</td>\n",
       "      <td>None</td>\n",
       "      <td>NaN</td>\n",
       "      <td>NaN</td>\n",
       "      <td>None</td>\n",
       "    </tr>\n",
       "  </tbody>\n",
       "</table>\n",
       "<p>5 rows × 42 columns</p>\n",
       "</div>"
      ],
      "text/plain": [
       "         fl_date mkt_unique_carrier branded_code_share mkt_carrier  \\\n",
       "9995  2019-01-08                 AS                 AS          AS   \n",
       "9996  2018-06-11                 UA                 UA          UA   \n",
       "9997  2019-10-30                 B6                 B6          B6   \n",
       "9998  2018-11-07                 WN                 WN          WN   \n",
       "9999  2018-05-30                 AA       AA_CODESHARE          AA   \n",
       "\n",
       "      mkt_carrier_fl_num op_unique_carrier tail_num  op_carrier_fl_num  \\\n",
       "9995                1040                AS   N638VA               1040   \n",
       "9996                 539                UA   N77530                539   \n",
       "9997                1907                B6   N809JB               1907   \n",
       "9998                1257                WN   N279WN               1257   \n",
       "9999                5142                OH   N568NN               5142   \n",
       "\n",
       "      origin_airport_id origin  ... distance  carrier_delay weather_delay  \\\n",
       "9995              14771    SFO  ...    337.0           55.0           0.0   \n",
       "9996              14771    SFO  ...   2338.0            NaN           NaN   \n",
       "9997              10721    BOS  ...    942.0            0.0           0.0   \n",
       "9998              10800    BUR  ...   1243.0            NaN           NaN   \n",
       "9999              11057    CLT  ...    350.0            NaN           NaN   \n",
       "\n",
       "     nas_delay  security_delay  late_aircraft_delay  first_dep_time  \\\n",
       "9995       0.0             0.0                  0.0            None   \n",
       "9996       NaN             NaN                  NaN            None   \n",
       "9997      26.0             0.0                  0.0            None   \n",
       "9998       NaN             NaN                  NaN            None   \n",
       "9999       NaN             NaN                  NaN            None   \n",
       "\n",
       "      total_add_gtime  longest_add_gtime  no_name  \n",
       "9995              NaN                NaN     None  \n",
       "9996              NaN                NaN     None  \n",
       "9997              NaN                NaN     None  \n",
       "9998              NaN                NaN     None  \n",
       "9999              NaN                NaN     None  \n",
       "\n",
       "[5 rows x 42 columns]"
      ]
     },
     "execution_count": 490,
     "metadata": {},
     "output_type": "execute_result"
    }
   ],
   "source": [
    "df_flight.tail()"
   ]
  },
  {
   "cell_type": "code",
   "execution_count": 491,
   "metadata": {},
   "outputs": [
    {
     "data": {
      "text/plain": [
       "fl_date                    0\n",
       "mkt_unique_carrier         0\n",
       "branded_code_share         0\n",
       "mkt_carrier                0\n",
       "mkt_carrier_fl_num         0\n",
       "op_unique_carrier          0\n",
       "tail_num                  42\n",
       "op_carrier_fl_num          0\n",
       "origin_airport_id          0\n",
       "origin                     0\n",
       "origin_city_name           0\n",
       "dest_airport_id            0\n",
       "dest                       0\n",
       "dest_city_name             0\n",
       "crs_dep_time               0\n",
       "dep_time                 180\n",
       "dep_delay                186\n",
       "taxi_out                 196\n",
       "wheels_off               195\n",
       "wheels_on                200\n",
       "taxi_in                  200\n",
       "crs_arr_time               0\n",
       "arr_time                 193\n",
       "arr_delay                220\n",
       "cancelled                  0\n",
       "cancellation_code       9442\n",
       "diverted                   0\n",
       "dup                        0\n",
       "crs_elapsed_time           0\n",
       "actual_elapsed_time      219\n",
       "air_time                 226\n",
       "flights                    0\n",
       "distance                   0\n",
       "carrier_delay           8105\n",
       "weather_delay           8105\n",
       "nas_delay               8105\n",
       "security_delay          8105\n",
       "late_aircraft_delay     8105\n",
       "first_dep_time          9556\n",
       "total_add_gtime         9925\n",
       "longest_add_gtime       9925\n",
       "no_name                10000\n",
       "dtype: int64"
      ]
     },
     "execution_count": 491,
     "metadata": {},
     "output_type": "execute_result"
    }
   ],
   "source": [
    "df_flight.isnull().sum()"
   ]
  },
  {
   "cell_type": "code",
   "execution_count": 492,
   "metadata": {},
   "outputs": [],
   "source": [
    "carr_delay_mean=df_flight['carrier_delay'].astype('float').mean(axis=0)\n",
    "wea_delay_mean=df_flight['weather_delay'].astype('float').mean(axis=0)\n",
    "nas_delay_mean=df_flight['nas_delay'].astype('float').mean(axis=0)\n",
    "sec_delay_mean=df_flight['security_delay'].astype('float').mean(axis=0)\n",
    "aircraft_delay_mean=df_flight['late_aircraft_delay'].astype('float').mean(axis=0)"
   ]
  },
  {
   "cell_type": "code",
   "execution_count": 493,
   "metadata": {},
   "outputs": [],
   "source": [
    "df_flight['carrier_delay'].replace(np.nan, carr_delay_mean, inplace=True)\n",
    "df_flight['weather_delay'].replace(np.nan, wea_delay_mean, inplace=True)\n",
    "df_flight['nas_delay'].replace(np.nan, nas_delay_mean, inplace=True)\n",
    "df_flight['security_delay'].replace(np.nan, sec_delay_mean, inplace=True)\n",
    "df_flight['late_aircraft_delay'].replace(np.nan, aircraft_delay_mean, inplace=True)"
   ]
  },
  {
   "cell_type": "code",
   "execution_count": 494,
   "metadata": {},
   "outputs": [
    {
     "data": {
      "text/plain": [
       "fl_date                    0\n",
       "mkt_unique_carrier         0\n",
       "branded_code_share         0\n",
       "mkt_carrier                0\n",
       "mkt_carrier_fl_num         0\n",
       "op_unique_carrier          0\n",
       "tail_num                  42\n",
       "op_carrier_fl_num          0\n",
       "origin_airport_id          0\n",
       "origin                     0\n",
       "origin_city_name           0\n",
       "dest_airport_id            0\n",
       "dest                       0\n",
       "dest_city_name             0\n",
       "crs_dep_time               0\n",
       "dep_time                 180\n",
       "dep_delay                186\n",
       "taxi_out                 196\n",
       "wheels_off               195\n",
       "wheels_on                200\n",
       "taxi_in                  200\n",
       "crs_arr_time               0\n",
       "arr_time                 193\n",
       "arr_delay                220\n",
       "cancelled                  0\n",
       "cancellation_code       9442\n",
       "diverted                   0\n",
       "dup                        0\n",
       "crs_elapsed_time           0\n",
       "actual_elapsed_time      219\n",
       "air_time                 226\n",
       "flights                    0\n",
       "distance                   0\n",
       "carrier_delay              0\n",
       "weather_delay              0\n",
       "nas_delay                  0\n",
       "security_delay             0\n",
       "late_aircraft_delay        0\n",
       "first_dep_time          9556\n",
       "total_add_gtime         9925\n",
       "longest_add_gtime       9925\n",
       "no_name                10000\n",
       "dtype: int64"
      ]
     },
     "execution_count": 494,
     "metadata": {},
     "output_type": "execute_result"
    }
   ],
   "source": [
    "df_flight.isnull().sum()"
   ]
  },
  {
   "cell_type": "code",
   "execution_count": 495,
   "metadata": {},
   "outputs": [],
   "source": [
    "df_flight=df_flight.drop(['first_dep_time', 'total_add_gtime', 'longest_add_gtime', 'no_name', 'cancellation_code'], axis=1)"
   ]
  },
  {
   "cell_type": "code",
   "execution_count": 496,
   "metadata": {},
   "outputs": [
    {
     "data": {
      "text/html": [
       "<div>\n",
       "<style scoped>\n",
       "    .dataframe tbody tr th:only-of-type {\n",
       "        vertical-align: middle;\n",
       "    }\n",
       "\n",
       "    .dataframe tbody tr th {\n",
       "        vertical-align: top;\n",
       "    }\n",
       "\n",
       "    .dataframe thead th {\n",
       "        text-align: right;\n",
       "    }\n",
       "</style>\n",
       "<table border=\"1\" class=\"dataframe\">\n",
       "  <thead>\n",
       "    <tr style=\"text-align: right;\">\n",
       "      <th></th>\n",
       "      <th>fl_date</th>\n",
       "      <th>mkt_unique_carrier</th>\n",
       "      <th>branded_code_share</th>\n",
       "      <th>mkt_carrier</th>\n",
       "      <th>mkt_carrier_fl_num</th>\n",
       "      <th>op_unique_carrier</th>\n",
       "      <th>tail_num</th>\n",
       "      <th>op_carrier_fl_num</th>\n",
       "      <th>origin_airport_id</th>\n",
       "      <th>origin</th>\n",
       "      <th>...</th>\n",
       "      <th>crs_elapsed_time</th>\n",
       "      <th>actual_elapsed_time</th>\n",
       "      <th>air_time</th>\n",
       "      <th>flights</th>\n",
       "      <th>distance</th>\n",
       "      <th>carrier_delay</th>\n",
       "      <th>weather_delay</th>\n",
       "      <th>nas_delay</th>\n",
       "      <th>security_delay</th>\n",
       "      <th>late_aircraft_delay</th>\n",
       "    </tr>\n",
       "  </thead>\n",
       "  <tbody>\n",
       "    <tr>\n",
       "      <th>0</th>\n",
       "      <td>2018-02-15</td>\n",
       "      <td>UA</td>\n",
       "      <td>UA</td>\n",
       "      <td>UA</td>\n",
       "      <td>343</td>\n",
       "      <td>UA</td>\n",
       "      <td>N33103</td>\n",
       "      <td>343</td>\n",
       "      <td>10721</td>\n",
       "      <td>BOS</td>\n",
       "      <td>...</td>\n",
       "      <td>87.0</td>\n",
       "      <td>87.0</td>\n",
       "      <td>51.0</td>\n",
       "      <td>1.0</td>\n",
       "      <td>200.0</td>\n",
       "      <td>21.153562</td>\n",
       "      <td>2.573087</td>\n",
       "      <td>15.94723</td>\n",
       "      <td>0.122955</td>\n",
       "      <td>25.318206</td>\n",
       "    </tr>\n",
       "    <tr>\n",
       "      <th>1</th>\n",
       "      <td>2019-05-22</td>\n",
       "      <td>AA</td>\n",
       "      <td>AA_CODESHARE</td>\n",
       "      <td>AA</td>\n",
       "      <td>5299</td>\n",
       "      <td>OH</td>\n",
       "      <td>N725PS</td>\n",
       "      <td>5299</td>\n",
       "      <td>12448</td>\n",
       "      <td>JAN</td>\n",
       "      <td>...</td>\n",
       "      <td>114.0</td>\n",
       "      <td>119.0</td>\n",
       "      <td>86.0</td>\n",
       "      <td>1.0</td>\n",
       "      <td>562.0</td>\n",
       "      <td>37.000000</td>\n",
       "      <td>0.000000</td>\n",
       "      <td>5.00000</td>\n",
       "      <td>0.000000</td>\n",
       "      <td>2.000000</td>\n",
       "    </tr>\n",
       "    <tr>\n",
       "      <th>2</th>\n",
       "      <td>2018-08-05</td>\n",
       "      <td>WN</td>\n",
       "      <td>WN</td>\n",
       "      <td>WN</td>\n",
       "      <td>3730</td>\n",
       "      <td>WN</td>\n",
       "      <td>N447WN</td>\n",
       "      <td>3730</td>\n",
       "      <td>12889</td>\n",
       "      <td>LAS</td>\n",
       "      <td>...</td>\n",
       "      <td>185.0</td>\n",
       "      <td>172.0</td>\n",
       "      <td>160.0</td>\n",
       "      <td>1.0</td>\n",
       "      <td>1371.0</td>\n",
       "      <td>21.153562</td>\n",
       "      <td>2.573087</td>\n",
       "      <td>15.94723</td>\n",
       "      <td>0.122955</td>\n",
       "      <td>25.318206</td>\n",
       "    </tr>\n",
       "    <tr>\n",
       "      <th>3</th>\n",
       "      <td>2019-03-01</td>\n",
       "      <td>F9</td>\n",
       "      <td>F9</td>\n",
       "      <td>F9</td>\n",
       "      <td>1210</td>\n",
       "      <td>F9</td>\n",
       "      <td>N205FR</td>\n",
       "      <td>1210</td>\n",
       "      <td>15016</td>\n",
       "      <td>STL</td>\n",
       "      <td>...</td>\n",
       "      <td>144.0</td>\n",
       "      <td>152.0</td>\n",
       "      <td>120.0</td>\n",
       "      <td>1.0</td>\n",
       "      <td>882.0</td>\n",
       "      <td>21.153562</td>\n",
       "      <td>2.573087</td>\n",
       "      <td>15.94723</td>\n",
       "      <td>0.122955</td>\n",
       "      <td>25.318206</td>\n",
       "    </tr>\n",
       "    <tr>\n",
       "      <th>4</th>\n",
       "      <td>2018-12-08</td>\n",
       "      <td>AA</td>\n",
       "      <td>AA_CODESHARE</td>\n",
       "      <td>AA</td>\n",
       "      <td>5089</td>\n",
       "      <td>OH</td>\n",
       "      <td>N576NN</td>\n",
       "      <td>5089</td>\n",
       "      <td>10821</td>\n",
       "      <td>BWI</td>\n",
       "      <td>...</td>\n",
       "      <td>106.0</td>\n",
       "      <td>79.0</td>\n",
       "      <td>62.0</td>\n",
       "      <td>1.0</td>\n",
       "      <td>361.0</td>\n",
       "      <td>21.153562</td>\n",
       "      <td>2.573087</td>\n",
       "      <td>15.94723</td>\n",
       "      <td>0.122955</td>\n",
       "      <td>25.318206</td>\n",
       "    </tr>\n",
       "  </tbody>\n",
       "</table>\n",
       "<p>5 rows × 37 columns</p>\n",
       "</div>"
      ],
      "text/plain": [
       "      fl_date mkt_unique_carrier branded_code_share mkt_carrier  \\\n",
       "0  2018-02-15                 UA                 UA          UA   \n",
       "1  2019-05-22                 AA       AA_CODESHARE          AA   \n",
       "2  2018-08-05                 WN                 WN          WN   \n",
       "3  2019-03-01                 F9                 F9          F9   \n",
       "4  2018-12-08                 AA       AA_CODESHARE          AA   \n",
       "\n",
       "   mkt_carrier_fl_num op_unique_carrier tail_num  op_carrier_fl_num  \\\n",
       "0                 343                UA   N33103                343   \n",
       "1                5299                OH   N725PS               5299   \n",
       "2                3730                WN   N447WN               3730   \n",
       "3                1210                F9   N205FR               1210   \n",
       "4                5089                OH   N576NN               5089   \n",
       "\n",
       "   origin_airport_id origin  ... crs_elapsed_time  actual_elapsed_time  \\\n",
       "0              10721    BOS  ...             87.0                 87.0   \n",
       "1              12448    JAN  ...            114.0                119.0   \n",
       "2              12889    LAS  ...            185.0                172.0   \n",
       "3              15016    STL  ...            144.0                152.0   \n",
       "4              10821    BWI  ...            106.0                 79.0   \n",
       "\n",
       "  air_time flights  distance  carrier_delay  weather_delay  nas_delay  \\\n",
       "0     51.0     1.0     200.0      21.153562       2.573087   15.94723   \n",
       "1     86.0     1.0     562.0      37.000000       0.000000    5.00000   \n",
       "2    160.0     1.0    1371.0      21.153562       2.573087   15.94723   \n",
       "3    120.0     1.0     882.0      21.153562       2.573087   15.94723   \n",
       "4     62.0     1.0     361.0      21.153562       2.573087   15.94723   \n",
       "\n",
       "   security_delay  late_aircraft_delay  \n",
       "0        0.122955            25.318206  \n",
       "1        0.000000             2.000000  \n",
       "2        0.122955            25.318206  \n",
       "3        0.122955            25.318206  \n",
       "4        0.122955            25.318206  \n",
       "\n",
       "[5 rows x 37 columns]"
      ]
     },
     "execution_count": 496,
     "metadata": {},
     "output_type": "execute_result"
    }
   ],
   "source": [
    "df_flight.head()"
   ]
  },
  {
   "cell_type": "code",
   "execution_count": 497,
   "metadata": {},
   "outputs": [
    {
     "data": {
      "text/html": [
       "<div>\n",
       "<style scoped>\n",
       "    .dataframe tbody tr th:only-of-type {\n",
       "        vertical-align: middle;\n",
       "    }\n",
       "\n",
       "    .dataframe tbody tr th {\n",
       "        vertical-align: top;\n",
       "    }\n",
       "\n",
       "    .dataframe thead th {\n",
       "        text-align: right;\n",
       "    }\n",
       "</style>\n",
       "<table border=\"1\" class=\"dataframe\">\n",
       "  <thead>\n",
       "    <tr style=\"text-align: right;\">\n",
       "      <th></th>\n",
       "      <th>fl_date</th>\n",
       "      <th>mkt_unique_carrier</th>\n",
       "      <th>branded_code_share</th>\n",
       "      <th>mkt_carrier</th>\n",
       "      <th>mkt_carrier_fl_num</th>\n",
       "      <th>op_unique_carrier</th>\n",
       "      <th>tail_num</th>\n",
       "      <th>op_carrier_fl_num</th>\n",
       "      <th>origin_airport_id</th>\n",
       "      <th>origin</th>\n",
       "      <th>...</th>\n",
       "      <th>crs_elapsed_time</th>\n",
       "      <th>actual_elapsed_time</th>\n",
       "      <th>air_time</th>\n",
       "      <th>flights</th>\n",
       "      <th>distance</th>\n",
       "      <th>carrier_delay</th>\n",
       "      <th>weather_delay</th>\n",
       "      <th>nas_delay</th>\n",
       "      <th>security_delay</th>\n",
       "      <th>late_aircraft_delay</th>\n",
       "    </tr>\n",
       "  </thead>\n",
       "  <tbody>\n",
       "    <tr>\n",
       "      <th>9995</th>\n",
       "      <td>2019-01-08</td>\n",
       "      <td>AS</td>\n",
       "      <td>AS</td>\n",
       "      <td>AS</td>\n",
       "      <td>1040</td>\n",
       "      <td>AS</td>\n",
       "      <td>N638VA</td>\n",
       "      <td>1040</td>\n",
       "      <td>14771</td>\n",
       "      <td>SFO</td>\n",
       "      <td>...</td>\n",
       "      <td>90.0</td>\n",
       "      <td>87.0</td>\n",
       "      <td>53.0</td>\n",
       "      <td>1.0</td>\n",
       "      <td>337.0</td>\n",
       "      <td>55.000000</td>\n",
       "      <td>0.000000</td>\n",
       "      <td>0.00000</td>\n",
       "      <td>0.000000</td>\n",
       "      <td>0.000000</td>\n",
       "    </tr>\n",
       "    <tr>\n",
       "      <th>9996</th>\n",
       "      <td>2018-06-11</td>\n",
       "      <td>UA</td>\n",
       "      <td>UA</td>\n",
       "      <td>UA</td>\n",
       "      <td>539</td>\n",
       "      <td>UA</td>\n",
       "      <td>N77530</td>\n",
       "      <td>539</td>\n",
       "      <td>14771</td>\n",
       "      <td>SFO</td>\n",
       "      <td>...</td>\n",
       "      <td>325.0</td>\n",
       "      <td>334.0</td>\n",
       "      <td>297.0</td>\n",
       "      <td>1.0</td>\n",
       "      <td>2338.0</td>\n",
       "      <td>21.153562</td>\n",
       "      <td>2.573087</td>\n",
       "      <td>15.94723</td>\n",
       "      <td>0.122955</td>\n",
       "      <td>25.318206</td>\n",
       "    </tr>\n",
       "    <tr>\n",
       "      <th>9997</th>\n",
       "      <td>2019-10-30</td>\n",
       "      <td>B6</td>\n",
       "      <td>B6</td>\n",
       "      <td>B6</td>\n",
       "      <td>1907</td>\n",
       "      <td>B6</td>\n",
       "      <td>N809JB</td>\n",
       "      <td>1907</td>\n",
       "      <td>10721</td>\n",
       "      <td>BOS</td>\n",
       "      <td>...</td>\n",
       "      <td>176.0</td>\n",
       "      <td>202.0</td>\n",
       "      <td>146.0</td>\n",
       "      <td>1.0</td>\n",
       "      <td>942.0</td>\n",
       "      <td>0.000000</td>\n",
       "      <td>0.000000</td>\n",
       "      <td>26.00000</td>\n",
       "      <td>0.000000</td>\n",
       "      <td>0.000000</td>\n",
       "    </tr>\n",
       "    <tr>\n",
       "      <th>9998</th>\n",
       "      <td>2018-11-07</td>\n",
       "      <td>WN</td>\n",
       "      <td>WN</td>\n",
       "      <td>WN</td>\n",
       "      <td>1257</td>\n",
       "      <td>WN</td>\n",
       "      <td>N279WN</td>\n",
       "      <td>1257</td>\n",
       "      <td>10800</td>\n",
       "      <td>BUR</td>\n",
       "      <td>...</td>\n",
       "      <td>175.0</td>\n",
       "      <td>164.0</td>\n",
       "      <td>152.0</td>\n",
       "      <td>1.0</td>\n",
       "      <td>1243.0</td>\n",
       "      <td>21.153562</td>\n",
       "      <td>2.573087</td>\n",
       "      <td>15.94723</td>\n",
       "      <td>0.122955</td>\n",
       "      <td>25.318206</td>\n",
       "    </tr>\n",
       "    <tr>\n",
       "      <th>9999</th>\n",
       "      <td>2018-05-30</td>\n",
       "      <td>AA</td>\n",
       "      <td>AA_CODESHARE</td>\n",
       "      <td>AA</td>\n",
       "      <td>5142</td>\n",
       "      <td>OH</td>\n",
       "      <td>N568NN</td>\n",
       "      <td>5142</td>\n",
       "      <td>11057</td>\n",
       "      <td>CLT</td>\n",
       "      <td>...</td>\n",
       "      <td>92.0</td>\n",
       "      <td>104.0</td>\n",
       "      <td>58.0</td>\n",
       "      <td>1.0</td>\n",
       "      <td>350.0</td>\n",
       "      <td>21.153562</td>\n",
       "      <td>2.573087</td>\n",
       "      <td>15.94723</td>\n",
       "      <td>0.122955</td>\n",
       "      <td>25.318206</td>\n",
       "    </tr>\n",
       "  </tbody>\n",
       "</table>\n",
       "<p>5 rows × 37 columns</p>\n",
       "</div>"
      ],
      "text/plain": [
       "         fl_date mkt_unique_carrier branded_code_share mkt_carrier  \\\n",
       "9995  2019-01-08                 AS                 AS          AS   \n",
       "9996  2018-06-11                 UA                 UA          UA   \n",
       "9997  2019-10-30                 B6                 B6          B6   \n",
       "9998  2018-11-07                 WN                 WN          WN   \n",
       "9999  2018-05-30                 AA       AA_CODESHARE          AA   \n",
       "\n",
       "      mkt_carrier_fl_num op_unique_carrier tail_num  op_carrier_fl_num  \\\n",
       "9995                1040                AS   N638VA               1040   \n",
       "9996                 539                UA   N77530                539   \n",
       "9997                1907                B6   N809JB               1907   \n",
       "9998                1257                WN   N279WN               1257   \n",
       "9999                5142                OH   N568NN               5142   \n",
       "\n",
       "      origin_airport_id origin  ... crs_elapsed_time  actual_elapsed_time  \\\n",
       "9995              14771    SFO  ...             90.0                 87.0   \n",
       "9996              14771    SFO  ...            325.0                334.0   \n",
       "9997              10721    BOS  ...            176.0                202.0   \n",
       "9998              10800    BUR  ...            175.0                164.0   \n",
       "9999              11057    CLT  ...             92.0                104.0   \n",
       "\n",
       "     air_time flights  distance  carrier_delay  weather_delay  nas_delay  \\\n",
       "9995     53.0     1.0     337.0      55.000000       0.000000    0.00000   \n",
       "9996    297.0     1.0    2338.0      21.153562       2.573087   15.94723   \n",
       "9997    146.0     1.0     942.0       0.000000       0.000000   26.00000   \n",
       "9998    152.0     1.0    1243.0      21.153562       2.573087   15.94723   \n",
       "9999     58.0     1.0     350.0      21.153562       2.573087   15.94723   \n",
       "\n",
       "      security_delay  late_aircraft_delay  \n",
       "9995        0.000000             0.000000  \n",
       "9996        0.122955            25.318206  \n",
       "9997        0.000000             0.000000  \n",
       "9998        0.122955            25.318206  \n",
       "9999        0.122955            25.318206  \n",
       "\n",
       "[5 rows x 37 columns]"
      ]
     },
     "execution_count": 497,
     "metadata": {},
     "output_type": "execute_result"
    }
   ],
   "source": [
    "df_flight.tail()"
   ]
  },
  {
   "cell_type": "code",
   "execution_count": 498,
   "metadata": {},
   "outputs": [
    {
     "data": {
      "text/plain": [
       "fl_date                  0\n",
       "mkt_unique_carrier       0\n",
       "branded_code_share       0\n",
       "mkt_carrier              0\n",
       "mkt_carrier_fl_num       0\n",
       "op_unique_carrier        0\n",
       "tail_num                42\n",
       "op_carrier_fl_num        0\n",
       "origin_airport_id        0\n",
       "origin                   0\n",
       "origin_city_name         0\n",
       "dest_airport_id          0\n",
       "dest                     0\n",
       "dest_city_name           0\n",
       "crs_dep_time             0\n",
       "dep_time               180\n",
       "dep_delay              186\n",
       "taxi_out               196\n",
       "wheels_off             195\n",
       "wheels_on              200\n",
       "taxi_in                200\n",
       "crs_arr_time             0\n",
       "arr_time               193\n",
       "arr_delay              220\n",
       "cancelled                0\n",
       "diverted                 0\n",
       "dup                      0\n",
       "crs_elapsed_time         0\n",
       "actual_elapsed_time    219\n",
       "air_time               226\n",
       "flights                  0\n",
       "distance                 0\n",
       "carrier_delay            0\n",
       "weather_delay            0\n",
       "nas_delay                0\n",
       "security_delay           0\n",
       "late_aircraft_delay      0\n",
       "dtype: int64"
      ]
     },
     "execution_count": 498,
     "metadata": {},
     "output_type": "execute_result"
    }
   ],
   "source": [
    "df_flight.isnull().sum()"
   ]
  },
  {
   "cell_type": "code",
   "execution_count": 499,
   "metadata": {},
   "outputs": [
    {
     "data": {
      "text/plain": [
       "fl_date                0\n",
       "mkt_unique_carrier     0\n",
       "branded_code_share     0\n",
       "mkt_carrier            0\n",
       "mkt_carrier_fl_num     0\n",
       "op_unique_carrier      0\n",
       "tail_num               0\n",
       "op_carrier_fl_num      0\n",
       "origin_airport_id      0\n",
       "origin                 0\n",
       "origin_city_name       0\n",
       "dest_airport_id        0\n",
       "dest                   0\n",
       "dest_city_name         0\n",
       "crs_dep_time           0\n",
       "dep_time               0\n",
       "dep_delay              0\n",
       "taxi_out               0\n",
       "wheels_off             0\n",
       "wheels_on              0\n",
       "taxi_in                0\n",
       "crs_arr_time           0\n",
       "arr_time               0\n",
       "arr_delay              0\n",
       "cancelled              0\n",
       "diverted               0\n",
       "dup                    0\n",
       "crs_elapsed_time       0\n",
       "actual_elapsed_time    0\n",
       "air_time               0\n",
       "flights                0\n",
       "distance               0\n",
       "carrier_delay          0\n",
       "weather_delay          0\n",
       "nas_delay              0\n",
       "security_delay         0\n",
       "late_aircraft_delay    0\n",
       "dtype: int64"
      ]
     },
     "execution_count": 499,
     "metadata": {},
     "output_type": "execute_result"
    }
   ],
   "source": [
    "df_flight=df_flight.dropna()\n",
    "df_flight.isnull().sum()"
   ]
  },
  {
   "cell_type": "code",
   "execution_count": 500,
   "metadata": {},
   "outputs": [],
   "source": [
    "df_flights=df_flight.copy(deep=True)"
   ]
  },
  {
   "cell_type": "code",
   "execution_count": 501,
   "metadata": {},
   "outputs": [
    {
     "data": {
      "text/plain": [
       "0    -8.0\n",
       "1    39.0\n",
       "2    -3.0\n",
       "3    -9.0\n",
       "4    31.0\n",
       "Name: dep_delay, dtype: float64"
      ]
     },
     "execution_count": 501,
     "metadata": {},
     "output_type": "execute_result"
    }
   ],
   "source": [
    "data=df_flights['dep_delay']\n",
    "data.head()"
   ]
  },
  {
   "cell_type": "code",
   "execution_count": 502,
   "metadata": {},
   "outputs": [
    {
     "name": "stderr",
     "output_type": "stream",
     "text": [
      "/opt/anaconda3/lib/python3.8/site-packages/scipy/stats/morestats.py:1681: UserWarning: p-value may not be accurate for N > 5000.\n",
      "  warnings.warn(\"p-value may not be accurate for N > 5000.\")\n"
     ]
    },
    {
     "data": {
      "text/plain": [
       "ShapiroResult(statistic=0.3461771011352539, pvalue=0.0)"
      ]
     },
     "execution_count": 502,
     "metadata": {},
     "output_type": "execute_result"
    }
   ],
   "source": [
    "stats.shapiro(data)"
   ]
  },
  {
   "cell_type": "markdown",
   "metadata": {},
   "source": [
    "#### the p-value is less than alpha. so the null hypothesis is not accepted."
   ]
  },
  {
   "cell_type": "code",
   "execution_count": 555,
   "metadata": {},
   "outputs": [
    {
     "data": {
      "text/plain": [
       "(-50.0, 100.0)"
      ]
     },
     "execution_count": 555,
     "metadata": {},
     "output_type": "execute_result"
    },
    {
     "data": {
      "image/png": "[encoded data removed]",
      "text/plain": [
       "<Figure size 432x288 with 1 Axes>"
      ]
     },
     "metadata": {
      "needs_background": "light"
     },
     "output_type": "display_data"
    }
   ],
   "source": [
    "sns.histplot(data)\n",
    "plt.xlim(-50, 100)"
   ]
  },
  {
   "cell_type": "markdown",
   "metadata": {},
   "source": [
    "#### the departue delay is not normally distributed. "
   ]
  },
  {
   "cell_type": "markdown",
   "metadata": {},
   "source": [
    "#### **Task 2**: Is average/median monthly delay different during the year? If yes, which are months with the biggest delays and what could be the reason?"
   ]
  },
  {
   "cell_type": "code",
   "execution_count": 504,
   "metadata": {},
   "outputs": [],
   "source": [
    "import datetime"
   ]
  },
  {
   "cell_type": "code",
   "execution_count": 505,
   "metadata": {},
   "outputs": [],
   "source": [
    "df_task2=df_flight.copy(deep=True)"
   ]
  },
  {
   "cell_type": "code",
   "execution_count": 509,
   "metadata": {},
   "outputs": [
    {
     "data": {
      "text/html": [
       "<div>\n",
       "<style scoped>\n",
       "    .dataframe tbody tr th:only-of-type {\n",
       "        vertical-align: middle;\n",
       "    }\n",
       "\n",
       "    .dataframe tbody tr th {\n",
       "        vertical-align: top;\n",
       "    }\n",
       "\n",
       "    .dataframe thead th {\n",
       "        text-align: right;\n",
       "    }\n",
       "</style>\n",
       "<table border=\"1\" class=\"dataframe\">\n",
       "  <thead>\n",
       "    <tr style=\"text-align: right;\">\n",
       "      <th></th>\n",
       "      <th>fl_date</th>\n",
       "      <th>mkt_unique_carrier</th>\n",
       "      <th>branded_code_share</th>\n",
       "      <th>mkt_carrier</th>\n",
       "      <th>mkt_carrier_fl_num</th>\n",
       "      <th>op_unique_carrier</th>\n",
       "      <th>tail_num</th>\n",
       "      <th>op_carrier_fl_num</th>\n",
       "      <th>origin_airport_id</th>\n",
       "      <th>origin</th>\n",
       "      <th>...</th>\n",
       "      <th>crs_elapsed_time</th>\n",
       "      <th>actual_elapsed_time</th>\n",
       "      <th>air_time</th>\n",
       "      <th>flights</th>\n",
       "      <th>distance</th>\n",
       "      <th>carrier_delay</th>\n",
       "      <th>weather_delay</th>\n",
       "      <th>nas_delay</th>\n",
       "      <th>security_delay</th>\n",
       "      <th>late_aircraft_delay</th>\n",
       "    </tr>\n",
       "  </thead>\n",
       "  <tbody>\n",
       "    <tr>\n",
       "      <th>0</th>\n",
       "      <td>2018-02-15</td>\n",
       "      <td>UA</td>\n",
       "      <td>UA</td>\n",
       "      <td>UA</td>\n",
       "      <td>343</td>\n",
       "      <td>UA</td>\n",
       "      <td>N33103</td>\n",
       "      <td>343</td>\n",
       "      <td>10721</td>\n",
       "      <td>BOS</td>\n",
       "      <td>...</td>\n",
       "      <td>87.0</td>\n",
       "      <td>87.0</td>\n",
       "      <td>51.0</td>\n",
       "      <td>1.0</td>\n",
       "      <td>200.0</td>\n",
       "      <td>21.153562</td>\n",
       "      <td>2.573087</td>\n",
       "      <td>15.94723</td>\n",
       "      <td>0.122955</td>\n",
       "      <td>25.318206</td>\n",
       "    </tr>\n",
       "    <tr>\n",
       "      <th>1</th>\n",
       "      <td>2019-05-22</td>\n",
       "      <td>AA</td>\n",
       "      <td>AA_CODESHARE</td>\n",
       "      <td>AA</td>\n",
       "      <td>5299</td>\n",
       "      <td>OH</td>\n",
       "      <td>N725PS</td>\n",
       "      <td>5299</td>\n",
       "      <td>12448</td>\n",
       "      <td>JAN</td>\n",
       "      <td>...</td>\n",
       "      <td>114.0</td>\n",
       "      <td>119.0</td>\n",
       "      <td>86.0</td>\n",
       "      <td>1.0</td>\n",
       "      <td>562.0</td>\n",
       "      <td>37.000000</td>\n",
       "      <td>0.000000</td>\n",
       "      <td>5.00000</td>\n",
       "      <td>0.000000</td>\n",
       "      <td>2.000000</td>\n",
       "    </tr>\n",
       "    <tr>\n",
       "      <th>2</th>\n",
       "      <td>2018-08-05</td>\n",
       "      <td>WN</td>\n",
       "      <td>WN</td>\n",
       "      <td>WN</td>\n",
       "      <td>3730</td>\n",
       "      <td>WN</td>\n",
       "      <td>N447WN</td>\n",
       "      <td>3730</td>\n",
       "      <td>12889</td>\n",
       "      <td>LAS</td>\n",
       "      <td>...</td>\n",
       "      <td>185.0</td>\n",
       "      <td>172.0</td>\n",
       "      <td>160.0</td>\n",
       "      <td>1.0</td>\n",
       "      <td>1371.0</td>\n",
       "      <td>21.153562</td>\n",
       "      <td>2.573087</td>\n",
       "      <td>15.94723</td>\n",
       "      <td>0.122955</td>\n",
       "      <td>25.318206</td>\n",
       "    </tr>\n",
       "    <tr>\n",
       "      <th>3</th>\n",
       "      <td>2019-03-01</td>\n",
       "      <td>F9</td>\n",
       "      <td>F9</td>\n",
       "      <td>F9</td>\n",
       "      <td>1210</td>\n",
       "      <td>F9</td>\n",
       "      <td>N205FR</td>\n",
       "      <td>1210</td>\n",
       "      <td>15016</td>\n",
       "      <td>STL</td>\n",
       "      <td>...</td>\n",
       "      <td>144.0</td>\n",
       "      <td>152.0</td>\n",
       "      <td>120.0</td>\n",
       "      <td>1.0</td>\n",
       "      <td>882.0</td>\n",
       "      <td>21.153562</td>\n",
       "      <td>2.573087</td>\n",
       "      <td>15.94723</td>\n",
       "      <td>0.122955</td>\n",
       "      <td>25.318206</td>\n",
       "    </tr>\n",
       "    <tr>\n",
       "      <th>4</th>\n",
       "      <td>2018-12-08</td>\n",
       "      <td>AA</td>\n",
       "      <td>AA_CODESHARE</td>\n",
       "      <td>AA</td>\n",
       "      <td>5089</td>\n",
       "      <td>OH</td>\n",
       "      <td>N576NN</td>\n",
       "      <td>5089</td>\n",
       "      <td>10821</td>\n",
       "      <td>BWI</td>\n",
       "      <td>...</td>\n",
       "      <td>106.0</td>\n",
       "      <td>79.0</td>\n",
       "      <td>62.0</td>\n",
       "      <td>1.0</td>\n",
       "      <td>361.0</td>\n",
       "      <td>21.153562</td>\n",
       "      <td>2.573087</td>\n",
       "      <td>15.94723</td>\n",
       "      <td>0.122955</td>\n",
       "      <td>25.318206</td>\n",
       "    </tr>\n",
       "  </tbody>\n",
       "</table>\n",
       "<p>5 rows × 37 columns</p>\n",
       "</div>"
      ],
      "text/plain": [
       "      fl_date mkt_unique_carrier branded_code_share mkt_carrier  \\\n",
       "0  2018-02-15                 UA                 UA          UA   \n",
       "1  2019-05-22                 AA       AA_CODESHARE          AA   \n",
       "2  2018-08-05                 WN                 WN          WN   \n",
       "3  2019-03-01                 F9                 F9          F9   \n",
       "4  2018-12-08                 AA       AA_CODESHARE          AA   \n",
       "\n",
       "   mkt_carrier_fl_num op_unique_carrier tail_num  op_carrier_fl_num  \\\n",
       "0                 343                UA   N33103                343   \n",
       "1                5299                OH   N725PS               5299   \n",
       "2                3730                WN   N447WN               3730   \n",
       "3                1210                F9   N205FR               1210   \n",
       "4                5089                OH   N576NN               5089   \n",
       "\n",
       "   origin_airport_id origin  ... crs_elapsed_time  actual_elapsed_time  \\\n",
       "0              10721    BOS  ...             87.0                 87.0   \n",
       "1              12448    JAN  ...            114.0                119.0   \n",
       "2              12889    LAS  ...            185.0                172.0   \n",
       "3              15016    STL  ...            144.0                152.0   \n",
       "4              10821    BWI  ...            106.0                 79.0   \n",
       "\n",
       "  air_time flights  distance  carrier_delay  weather_delay  nas_delay  \\\n",
       "0     51.0     1.0     200.0      21.153562       2.573087   15.94723   \n",
       "1     86.0     1.0     562.0      37.000000       0.000000    5.00000   \n",
       "2    160.0     1.0    1371.0      21.153562       2.573087   15.94723   \n",
       "3    120.0     1.0     882.0      21.153562       2.573087   15.94723   \n",
       "4     62.0     1.0     361.0      21.153562       2.573087   15.94723   \n",
       "\n",
       "   security_delay  late_aircraft_delay  \n",
       "0        0.122955            25.318206  \n",
       "1        0.000000             2.000000  \n",
       "2        0.122955            25.318206  \n",
       "3        0.122955            25.318206  \n",
       "4        0.122955            25.318206  \n",
       "\n",
       "[5 rows x 37 columns]"
      ]
     },
     "execution_count": 509,
     "metadata": {},
     "output_type": "execute_result"
    }
   ],
   "source": [
    "df_task2.head()"
   ]
  },
  {
   "cell_type": "code",
   "execution_count": 510,
   "metadata": {},
   "outputs": [],
   "source": [
    "df_task2['fl_date']=pd.to_datetime(df_task2['fl_date'])\n",
    "df_task2['month']=df_task2['fl_date'].dt.month\n"
   ]
  },
  {
   "cell_type": "code",
   "execution_count": 513,
   "metadata": {},
   "outputs": [],
   "source": [
    "df_mean=df_task2[['month', 'dep_delay','arr_delay']].groupby(['month']).mean()\n",
    "df_median=df_task2[['month', 'dep_delay','arr_delay']].groupby(['month']).median()"
   ]
  },
  {
   "cell_type": "code",
   "execution_count": 517,
   "metadata": {},
   "outputs": [
    {
     "data": {
      "text/html": [
       "<div>\n",
       "<style scoped>\n",
       "    .dataframe tbody tr th:only-of-type {\n",
       "        vertical-align: middle;\n",
       "    }\n",
       "\n",
       "    .dataframe tbody tr th {\n",
       "        vertical-align: top;\n",
       "    }\n",
       "\n",
       "    .dataframe thead th {\n",
       "        text-align: right;\n",
       "    }\n",
       "</style>\n",
       "<table border=\"1\" class=\"dataframe\">\n",
       "  <thead>\n",
       "    <tr style=\"text-align: right;\">\n",
       "      <th></th>\n",
       "      <th>dep_delay</th>\n",
       "      <th>arr_delay</th>\n",
       "    </tr>\n",
       "    <tr>\n",
       "      <th>month</th>\n",
       "      <th></th>\n",
       "      <th></th>\n",
       "    </tr>\n",
       "  </thead>\n",
       "  <tbody>\n",
       "    <tr>\n",
       "      <th>1</th>\n",
       "      <td>9.704427</td>\n",
       "      <td>3.476562</td>\n",
       "    </tr>\n",
       "    <tr>\n",
       "      <th>2</th>\n",
       "      <td>11.760174</td>\n",
       "      <td>7.486919</td>\n",
       "    </tr>\n",
       "    <tr>\n",
       "      <th>3</th>\n",
       "      <td>8.771887</td>\n",
       "      <td>2.600493</td>\n",
       "    </tr>\n",
       "    <tr>\n",
       "      <th>4</th>\n",
       "      <td>8.703008</td>\n",
       "      <td>3.869674</td>\n",
       "    </tr>\n",
       "    <tr>\n",
       "      <th>5</th>\n",
       "      <td>7.305556</td>\n",
       "      <td>3.548611</td>\n",
       "    </tr>\n",
       "  </tbody>\n",
       "</table>\n",
       "</div>"
      ],
      "text/plain": [
       "       dep_delay  arr_delay\n",
       "month                      \n",
       "1       9.704427   3.476562\n",
       "2      11.760174   7.486919\n",
       "3       8.771887   2.600493\n",
       "4       8.703008   3.869674\n",
       "5       7.305556   3.548611"
      ]
     },
     "execution_count": 517,
     "metadata": {},
     "output_type": "execute_result"
    }
   ],
   "source": [
    "df_mean.head()"
   ]
  },
  {
   "cell_type": "code",
   "execution_count": 515,
   "metadata": {},
   "outputs": [],
   "source": [
    "import plotly.express as go "
   ]
  },
  {
   "cell_type": "code",
   "execution_count": 570,
   "metadata": {},
   "outputs": [
    {
     "data": {
      "text/plain": [
       "<AxesSubplot:xlabel='month', ylabel='arr_delay'>"
      ]
     },
     "execution_count": 570,
     "metadata": {},
     "output_type": "execute_result"
    },
    {
     "data": {
      "image/png": "[encoded data removed]",
      "text/plain": [
       "<Figure size 720x432 with 1 Axes>"
      ]
     },
     "metadata": {
      "needs_background": "light"
     },
     "output_type": "display_data"
    }
   ],
   "source": [
    "fig=plt.subplots(figsize=(10, 6))\n",
    "\n",
    "sns.barplot(x=df_mean.index, y=df_mean['arr_delay'])\n"
   ]
  },
  {
   "cell_type": "code",
   "execution_count": 571,
   "metadata": {},
   "outputs": [
    {
     "data": {
      "text/plain": [
       "<AxesSubplot:xlabel='month', ylabel='dep_delay'>"
      ]
     },
     "execution_count": 571,
     "metadata": {},
     "output_type": "execute_result"
    },
    {
     "data": {
      "image/png": "[encoded data removed]",
      "text/plain": [
       "<Figure size 720x432 with 1 Axes>"
      ]
     },
     "metadata": {
      "needs_background": "light"
     },
     "output_type": "display_data"
    }
   ],
   "source": [
    "fig=plt.figure(figsize=(10, 6))\n",
    "\n",
    "sns.barplot(x=df_mean.index, y=df_mean['dep_delay'])\n"
   ]
  },
  {
   "cell_type": "markdown",
   "metadata": {},
   "source": [
    "#### **Task 3**: Does the weather affect the delay? \n",
    "Use the API to pull the weather information for flights. There is no need to get weather for ALL flights. We can choose the right representative sample. Let's focus on four weather types:\n",
    "- sunny\n",
    "- cloudy\n",
    "- rainy\n",
    "- snow.\n",
    "Test the hypothesis that these 4 delays are from the same distribution. If they are not, which ones are significantly different?"
   ]
  },
  {
   "cell_type": "code",
   "execution_count": 704,
   "metadata": {},
   "outputs": [],
   "source": [
    "df_task2=df_flight.copy(deep=True)"
   ]
  },
  {
   "cell_type": "code",
   "execution_count": 705,
   "metadata": {},
   "outputs": [
    {
     "data": {
      "text/plain": [
       "Index(['fl_date', 'mkt_unique_carrier', 'branded_code_share', 'mkt_carrier',\n",
       "       'mkt_carrier_fl_num', 'op_unique_carrier', 'tail_num',\n",
       "       'op_carrier_fl_num', 'origin_airport_id', 'origin', 'origin_city_name',\n",
       "       'dest_airport_id', 'dest', 'dest_city_name', 'crs_dep_time', 'dep_time',\n",
       "       'dep_delay', 'taxi_out', 'wheels_off', 'wheels_on', 'taxi_in',\n",
       "       'crs_arr_time', 'arr_time', 'arr_delay', 'cancelled', 'diverted', 'dup',\n",
       "       'crs_elapsed_time', 'actual_elapsed_time', 'air_time', 'flights',\n",
       "       'distance', 'carrier_delay', 'weather_delay', 'nas_delay',\n",
       "       'security_delay', 'late_aircraft_delay'],\n",
       "      dtype='object')"
      ]
     },
     "execution_count": 705,
     "metadata": {},
     "output_type": "execute_result"
    }
   ],
   "source": [
    "df_task2.columns"
   ]
  },
  {
   "cell_type": "code",
   "execution_count": null,
   "metadata": {},
   "outputs": [],
   "source": []
  },
  {
   "cell_type": "code",
   "execution_count": null,
   "metadata": {},
   "outputs": [],
   "source": []
  },
  {
   "cell_type": "code",
   "execution_count": null,
   "metadata": {},
   "outputs": [],
   "source": []
  },
  {
   "cell_type": "code",
   "execution_count": null,
   "metadata": {},
   "outputs": [],
   "source": []
  },
  {
   "cell_type": "code",
   "execution_count": null,
   "metadata": {},
   "outputs": [],
   "source": []
  },
  {
   "cell_type": "code",
   "execution_count": null,
   "metadata": {},
   "outputs": [],
   "source": []
  },
  {
   "cell_type": "code",
   "execution_count": null,
   "metadata": {},
   "outputs": [],
   "source": []
  },
  {
   "cell_type": "code",
   "execution_count": null,
   "metadata": {},
   "outputs": [],
   "source": []
  },
  {
   "cell_type": "code",
   "execution_count": null,
   "metadata": {},
   "outputs": [],
   "source": []
  },
  {
   "cell_type": "code",
   "execution_count": null,
   "metadata": {},
   "outputs": [],
   "source": []
  },
  {
   "cell_type": "code",
   "execution_count": null,
   "metadata": {},
   "outputs": [],
   "source": []
  },
  {
   "cell_type": "markdown",
   "metadata": {},
   "source": [
    "#### **Task 4**: How taxi times changing during the day? Does higher traffic lead to bigger taxi times?"
   ]
  },
  {
   "cell_type": "code",
   "execution_count": 528,
   "metadata": {},
   "outputs": [],
   "source": [
    "df_task4=df_flight.copy(deep=True)"
   ]
  },
  {
   "cell_type": "code",
   "execution_count": 533,
   "metadata": {},
   "outputs": [
    {
     "data": {
      "text/html": [
       "<div>\n",
       "<style scoped>\n",
       "    .dataframe tbody tr th:only-of-type {\n",
       "        vertical-align: middle;\n",
       "    }\n",
       "\n",
       "    .dataframe tbody tr th {\n",
       "        vertical-align: top;\n",
       "    }\n",
       "\n",
       "    .dataframe thead tr th {\n",
       "        text-align: left;\n",
       "    }\n",
       "</style>\n",
       "<table border=\"1\" class=\"dataframe\">\n",
       "  <thead>\n",
       "    <tr>\n",
       "      <th></th>\n",
       "      <th>origin</th>\n",
       "      <th colspan=\"2\" halign=\"left\">taxi_out</th>\n",
       "    </tr>\n",
       "    <tr>\n",
       "      <th></th>\n",
       "      <th></th>\n",
       "      <th>count</th>\n",
       "      <th>mean</th>\n",
       "    </tr>\n",
       "  </thead>\n",
       "  <tbody>\n",
       "    <tr>\n",
       "      <th>0</th>\n",
       "      <td>ABE</td>\n",
       "      <td>12</td>\n",
       "      <td>19.916667</td>\n",
       "    </tr>\n",
       "    <tr>\n",
       "      <th>1</th>\n",
       "      <td>ABI</td>\n",
       "      <td>4</td>\n",
       "      <td>15.750000</td>\n",
       "    </tr>\n",
       "    <tr>\n",
       "      <th>2</th>\n",
       "      <td>ABQ</td>\n",
       "      <td>35</td>\n",
       "      <td>14.457143</td>\n",
       "    </tr>\n",
       "    <tr>\n",
       "      <th>3</th>\n",
       "      <td>ABY</td>\n",
       "      <td>2</td>\n",
       "      <td>18.000000</td>\n",
       "    </tr>\n",
       "    <tr>\n",
       "      <th>4</th>\n",
       "      <td>ACT</td>\n",
       "      <td>2</td>\n",
       "      <td>13.000000</td>\n",
       "    </tr>\n",
       "    <tr>\n",
       "      <th>...</th>\n",
       "      <td>...</td>\n",
       "      <td>...</td>\n",
       "      <td>...</td>\n",
       "    </tr>\n",
       "    <tr>\n",
       "      <th>301</th>\n",
       "      <td>XNA</td>\n",
       "      <td>24</td>\n",
       "      <td>16.625000</td>\n",
       "    </tr>\n",
       "    <tr>\n",
       "      <th>302</th>\n",
       "      <td>XWA</td>\n",
       "      <td>1</td>\n",
       "      <td>48.000000</td>\n",
       "    </tr>\n",
       "    <tr>\n",
       "      <th>303</th>\n",
       "      <td>YAK</td>\n",
       "      <td>3</td>\n",
       "      <td>6.333333</td>\n",
       "    </tr>\n",
       "    <tr>\n",
       "      <th>304</th>\n",
       "      <td>YKM</td>\n",
       "      <td>4</td>\n",
       "      <td>5.250000</td>\n",
       "    </tr>\n",
       "    <tr>\n",
       "      <th>305</th>\n",
       "      <td>YUM</td>\n",
       "      <td>1</td>\n",
       "      <td>11.000000</td>\n",
       "    </tr>\n",
       "  </tbody>\n",
       "</table>\n",
       "<p>306 rows × 3 columns</p>\n",
       "</div>"
      ],
      "text/plain": [
       "    origin taxi_out           \n",
       "              count       mean\n",
       "0      ABE       12  19.916667\n",
       "1      ABI        4  15.750000\n",
       "2      ABQ       35  14.457143\n",
       "3      ABY        2  18.000000\n",
       "4      ACT        2  13.000000\n",
       "..     ...      ...        ...\n",
       "301    XNA       24  16.625000\n",
       "302    XWA        1  48.000000\n",
       "303    YAK        3   6.333333\n",
       "304    YKM        4   5.250000\n",
       "305    YUM        1  11.000000\n",
       "\n",
       "[306 rows x 3 columns]"
      ]
     },
     "execution_count": 533,
     "metadata": {},
     "output_type": "execute_result"
    }
   ],
   "source": [
    "taxi_out=df_task4.groupby(['origin']).agg({'taxi_out':['count', 'mean']}).reset_index()\n",
    "taxi_out"
   ]
  },
  {
   "cell_type": "code",
   "execution_count": 538,
   "metadata": {},
   "outputs": [
    {
     "data": {
      "application/vnd.plotly.v1+json": {
       "config": {
        "plotlyServerURL": "https://plot.ly"
       },
       "data": [
        {
         "hovertemplate": "color=ABE<br>x=%{x}<br>y=%{y}<extra></extra>",
         "legendgroup": "ABE",
         "marker": {
          "color": "#636efa",
          "symbol": "circle"
         },
         "mode": "markers",
         "name": "ABE",
         "orientation": "v",
         "showlegend": true,
         "type": "scatter",
         "x": [
          12
         ],
         "xaxis": "x",
         "y": [
          19.916666666666668
         ],
         "yaxis": "y"
        },
        {
         "hovertemplate": "color=ABI<br>x=%{x}<br>y=%{y}<extra></extra>",
         "legendgroup": "ABI",
         "marker": {
          "color": "#EF553B",
          "symbol": "circle"
         },
         "mode": "markers",
         "name": "ABI",
         "orientation": "v",
         "showlegend": true,
         "type": "scatter",
         "x": [
          4
         ],
         "xaxis": "x",
         "y": [
          15.75
         ],
         "yaxis": "y"
        },
        {
         "hovertemplate": "color=ABQ<br>x=%{x}<br>y=%{y}<extra></extra>",
         "legendgroup": "ABQ",
         "marker": {
          "color": "#00cc96",
          "symbol": "circle"
         },
         "mode": "markers",
         "name": "ABQ",
         "orientation": "v",
         "showlegend": true,
         "type": "scatter",
         "x": [
          35
         ],
         "xaxis": "x",
         "y": [
          14.457142857142857
         ],
         "yaxis": "y"
        },
        {
         "hovertemplate": "color=ABY<br>x=%{x}<br>y=%{y}<extra></extra>",
         "legendgroup": "ABY",
         "marker": {
          "color": "#ab63fa",
          "symbol": "circle"
         },
         "mode": "markers",
         "name": "ABY",
         "orientation": "v",
         "showlegend": true,
         "type": "scatter",
         "x": [
          2
         ],
         "xaxis": "x",
         "y": [
          18
         ],
         "yaxis": "y"
        },
        {
         "hovertemplate": "color=ACT<br>x=%{x}<br>y=%{y}<extra></extra>",
         "legendgroup": "ACT",
         "marker": {
          "color": "#FFA15A",
          "symbol": "circle"
         },
         "mode": "markers",
         "name": "ACT",
         "orientation": "v",
         "showlegend": true,
         "type": "scatter",
         "x": [
          2
         ],
         "xaxis": "x",
         "y": [
          13
         ],
         "yaxis": "y"
        },
        {
         "hovertemplate": "color=ACV<br>x=%{x}<br>y=%{y}<extra></extra>",
         "legendgroup": "ACV",
         "marker": {
          "color": "#19d3f3",
          "symbol": "circle"
         },
         "mode": "markers",
         "name": "ACV",
         "orientation": "v",
         "showlegend": true,
         "type": "scatter",
         "x": [
          1
         ],
         "xaxis": "x",
         "y": [
          6
         ],
         "yaxis": "y"
        },
        {
         "hovertemplate": "color=ACY<br>x=%{x}<br>y=%{y}<extra></extra>",
         "legendgroup": "ACY",
         "marker": {
          "color": "#FF6692",
          "symbol": "circle"
         },
         "mode": "markers",
         "name": "ACY",
         "orientation": "v",
         "showlegend": true,
         "type": "scatter",
         "x": [
          6
         ],
         "xaxis": "x",
         "y": [
          11.5
         ],
         "yaxis": "y"
        },
        {
         "hovertemplate": "color=ADQ<br>x=%{x}<br>y=%{y}<extra></extra>",
         "legendgroup": "ADQ",
         "marker": {
          "color": "#B6E880",
          "symbol": "circle"
         },
         "mode": "markers",
         "name": "ADQ",
         "orientation": "v",
         "showlegend": true,
         "type": "scatter",
         "x": [
          1
         ],
         "xaxis": "x",
         "y": [
          10
         ],
         "yaxis": "y"
        },
        {
         "hovertemplate": "color=AEX<br>x=%{x}<br>y=%{y}<extra></extra>",
         "legendgroup": "AEX",
         "marker": {
          "color": "#FF97FF",
          "symbol": "circle"
         },
         "mode": "markers",
         "name": "AEX",
         "orientation": "v",
         "showlegend": true,
         "type": "scatter",
         "x": [
          3
         ],
         "xaxis": "x",
         "y": [
          21.333333333333332
         ],
         "yaxis": "y"
        },
        {
         "hovertemplate": "color=AGS<br>x=%{x}<br>y=%{y}<extra></extra>",
         "legendgroup": "AGS",
         "marker": {
          "color": "#FECB52",
          "symbol": "circle"
         },
         "mode": "markers",
         "name": "AGS",
         "orientation": "v",
         "showlegend": true,
         "type": "scatter",
         "x": [
          9
         ],
         "xaxis": "x",
         "y": [
          18.444444444444443
         ],
         "yaxis": "y"
        },
        {
         "hovertemplate": "color=ALB<br>x=%{x}<br>y=%{y}<extra></extra>",
         "legendgroup": "ALB",
         "marker": {
          "color": "#636efa",
          "symbol": "circle"
         },
         "mode": "markers",
         "name": "ALB",
         "orientation": "v",
         "showlegend": true,
         "type": "scatter",
         "x": [
          23
         ],
         "xaxis": "x",
         "y": [
          15.478260869565217
         ],
         "yaxis": "y"
        },
        {
         "hovertemplate": "color=ALW<br>x=%{x}<br>y=%{y}<extra></extra>",
         "legendgroup": "ALW",
         "marker": {
          "color": "#EF553B",
          "symbol": "circle"
         },
         "mode": "markers",
         "name": "ALW",
         "orientation": "v",
         "showlegend": true,
         "type": "scatter",
         "x": [
          4
         ],
         "xaxis": "x",
         "y": [
          7
         ],
         "yaxis": "y"
        },
        {
         "hovertemplate": "color=AMA<br>x=%{x}<br>y=%{y}<extra></extra>",
         "legendgroup": "AMA",
         "marker": {
          "color": "#00cc96",
          "symbol": "circle"
         },
         "mode": "markers",
         "name": "AMA",
         "orientation": "v",
         "showlegend": true,
         "type": "scatter",
         "x": [
          6
         ],
         "xaxis": "x",
         "y": [
          11.333333333333334
         ],
         "yaxis": "y"
        },
        {
         "hovertemplate": "color=ANC<br>x=%{x}<br>y=%{y}<extra></extra>",
         "legendgroup": "ANC",
         "marker": {
          "color": "#ab63fa",
          "symbol": "circle"
         },
         "mode": "markers",
         "name": "ANC",
         "orientation": "v",
         "showlegend": true,
         "type": "scatter",
         "x": [
          25
         ],
         "xaxis": "x",
         "y": [
          15.04
         ],
         "yaxis": "y"
        },
        {
         "hovertemplate": "color=APN<br>x=%{x}<br>y=%{y}<extra></extra>",
         "legendgroup": "APN",
         "marker": {
          "color": "#FFA15A",
          "symbol": "circle"
         },
         "mode": "markers",
         "name": "APN",
         "orientation": "v",
         "showlegend": true,
         "type": "scatter",
         "x": [
          1
         ],
         "xaxis": "x",
         "y": [
          21
         ],
         "yaxis": "y"
        },
        {
         "hovertemplate": "color=ART<br>x=%{x}<br>y=%{y}<extra></extra>",
         "legendgroup": "ART",
         "marker": {
          "color": "#19d3f3",
          "symbol": "circle"
         },
         "mode": "markers",
         "name": "ART",
         "orientation": "v",
         "showlegend": true,
         "type": "scatter",
         "x": [
          1
         ],
         "xaxis": "x",
         "y": [
          12
         ],
         "yaxis": "y"
        },
        {
         "hovertemplate": "color=ASE<br>x=%{x}<br>y=%{y}<extra></extra>",
         "legendgroup": "ASE",
         "marker": {
          "color": "#FF6692",
          "symbol": "circle"
         },
         "mode": "markers",
         "name": "ASE",
         "orientation": "v",
         "showlegend": true,
         "type": "scatter",
         "x": [
          8
         ],
         "xaxis": "x",
         "y": [
          16.25
         ],
         "yaxis": "y"
        },
        {
         "hovertemplate": "color=ATL<br>x=%{x}<br>y=%{y}<extra></extra>",
         "legendgroup": "ATL",
         "marker": {
          "color": "#B6E880",
          "symbol": "circle"
         },
         "mode": "markers",
         "name": "ATL",
         "orientation": "v",
         "showlegend": true,
         "type": "scatter",
         "x": [
          507
         ],
         "xaxis": "x",
         "y": [
          16.70414201183432
         ],
         "yaxis": "y"
        },
        {
         "hovertemplate": "color=ATW<br>x=%{x}<br>y=%{y}<extra></extra>",
         "legendgroup": "ATW",
         "marker": {
          "color": "#FF97FF",
          "symbol": "circle"
         },
         "mode": "markers",
         "name": "ATW",
         "orientation": "v",
         "showlegend": true,
         "type": "scatter",
         "x": [
          7
         ],
         "xaxis": "x",
         "y": [
          16.142857142857142
         ],
         "yaxis": "y"
        },
        {
         "hovertemplate": "color=AUS<br>x=%{x}<br>y=%{y}<extra></extra>",
         "legendgroup": "AUS",
         "marker": {
          "color": "#FECB52",
          "symbol": "circle"
         },
         "mode": "markers",
         "name": "AUS",
         "orientation": "v",
         "showlegend": true,
         "type": "scatter",
         "x": [
          81
         ],
         "xaxis": "x",
         "y": [
          13.135802469135802
         ],
         "yaxis": "y"
        },
        {
         "hovertemplate": "color=AVL<br>x=%{x}<br>y=%{y}<extra></extra>",
         "legendgroup": "AVL",
         "marker": {
          "color": "#636efa",
          "symbol": "circle"
         },
         "mode": "markers",
         "name": "AVL",
         "orientation": "v",
         "showlegend": true,
         "type": "scatter",
         "x": [
          10
         ],
         "xaxis": "x",
         "y": [
          18.8
         ],
         "yaxis": "y"
        },
        {
         "hovertemplate": "color=AVP<br>x=%{x}<br>y=%{y}<extra></extra>",
         "legendgroup": "AVP",
         "marker": {
          "color": "#EF553B",
          "symbol": "circle"
         },
         "mode": "markers",
         "name": "AVP",
         "orientation": "v",
         "showlegend": true,
         "type": "scatter",
         "x": [
          8
         ],
         "xaxis": "x",
         "y": [
          18.5
         ],
         "yaxis": "y"
        },
        {
         "hovertemplate": "color=AZA<br>x=%{x}<br>y=%{y}<extra></extra>",
         "legendgroup": "AZA",
         "marker": {
          "color": "#00cc96",
          "symbol": "circle"
         },
         "mode": "markers",
         "name": "AZA",
         "orientation": "v",
         "showlegend": true,
         "type": "scatter",
         "x": [
          5
         ],
         "xaxis": "x",
         "y": [
          11.6
         ],
         "yaxis": "y"
        },
        {
         "hovertemplate": "color=AZO<br>x=%{x}<br>y=%{y}<extra></extra>",
         "legendgroup": "AZO",
         "marker": {
          "color": "#ab63fa",
          "symbol": "circle"
         },
         "mode": "markers",
         "name": "AZO",
         "orientation": "v",
         "showlegend": true,
         "type": "scatter",
         "x": [
          6
         ],
         "xaxis": "x",
         "y": [
          23.666666666666668
         ],
         "yaxis": "y"
        },
        {
         "hovertemplate": "color=BDL<br>x=%{x}<br>y=%{y}<extra></extra>",
         "legendgroup": "BDL",
         "marker": {
          "color": "#FFA15A",
          "symbol": "circle"
         },
         "mode": "markers",
         "name": "BDL",
         "orientation": "v",
         "showlegend": true,
         "type": "scatter",
         "x": [
          42
         ],
         "xaxis": "x",
         "y": [
          13.333333333333334
         ],
         "yaxis": "y"
        },
        {
         "hovertemplate": "color=BFF<br>x=%{x}<br>y=%{y}<extra></extra>",
         "legendgroup": "BFF",
         "marker": {
          "color": "#19d3f3",
          "symbol": "circle"
         },
         "mode": "markers",
         "name": "BFF",
         "orientation": "v",
         "showlegend": true,
         "type": "scatter",
         "x": [
          1
         ],
         "xaxis": "x",
         "y": [
          10
         ],
         "yaxis": "y"
        },
        {
         "hovertemplate": "color=BFL<br>x=%{x}<br>y=%{y}<extra></extra>",
         "legendgroup": "BFL",
         "marker": {
          "color": "#FF6692",
          "symbol": "circle"
         },
         "mode": "markers",
         "name": "BFL",
         "orientation": "v",
         "showlegend": true,
         "type": "scatter",
         "x": [
          4
         ],
         "xaxis": "x",
         "y": [
          16.75
         ],
         "yaxis": "y"
        },
        {
         "hovertemplate": "color=BGM<br>x=%{x}<br>y=%{y}<extra></extra>",
         "legendgroup": "BGM",
         "marker": {
          "color": "#B6E880",
          "symbol": "circle"
         },
         "mode": "markers",
         "name": "BGM",
         "orientation": "v",
         "showlegend": true,
         "type": "scatter",
         "x": [
          1
         ],
         "xaxis": "x",
         "y": [
          30
         ],
         "yaxis": "y"
        },
        {
         "hovertemplate": "color=BGR<br>x=%{x}<br>y=%{y}<extra></extra>",
         "legendgroup": "BGR",
         "marker": {
          "color": "#FF97FF",
          "symbol": "circle"
         },
         "mode": "markers",
         "name": "BGR",
         "orientation": "v",
         "showlegend": true,
         "type": "scatter",
         "x": [
          6
         ],
         "xaxis": "x",
         "y": [
          24.666666666666668
         ],
         "yaxis": "y"
        },
        {
         "hovertemplate": "color=BHM<br>x=%{x}<br>y=%{y}<extra></extra>",
         "legendgroup": "BHM",
         "marker": {
          "color": "#FECB52",
          "symbol": "circle"
         },
         "mode": "markers",
         "name": "BHM",
         "orientation": "v",
         "showlegend": true,
         "type": "scatter",
         "x": [
          27
         ],
         "xaxis": "x",
         "y": [
          13.62962962962963
         ],
         "yaxis": "y"
        },
        {
         "hovertemplate": "color=BIL<br>x=%{x}<br>y=%{y}<extra></extra>",
         "legendgroup": "BIL",
         "marker": {
          "color": "#636efa",
          "symbol": "circle"
         },
         "mode": "markers",
         "name": "BIL",
         "orientation": "v",
         "showlegend": true,
         "type": "scatter",
         "x": [
          5
         ],
         "xaxis": "x",
         "y": [
          15
         ],
         "yaxis": "y"
        },
        {
         "hovertemplate": "color=BIS<br>x=%{x}<br>y=%{y}<extra></extra>",
         "legendgroup": "BIS",
         "marker": {
          "color": "#EF553B",
          "symbol": "circle"
         },
         "mode": "markers",
         "name": "BIS",
         "orientation": "v",
         "showlegend": true,
         "type": "scatter",
         "x": [
          7
         ],
         "xaxis": "x",
         "y": [
          15.714285714285714
         ],
         "yaxis": "y"
        },
        {
         "hovertemplate": "color=BJI<br>x=%{x}<br>y=%{y}<extra></extra>",
         "legendgroup": "BJI",
         "marker": {
          "color": "#00cc96",
          "symbol": "circle"
         },
         "mode": "markers",
         "name": "BJI",
         "orientation": "v",
         "showlegend": true,
         "type": "scatter",
         "x": [
          2
         ],
         "xaxis": "x",
         "y": [
          19.5
         ],
         "yaxis": "y"
        },
        {
         "hovertemplate": "color=BKG<br>x=%{x}<br>y=%{y}<extra></extra>",
         "legendgroup": "BKG",
         "marker": {
          "color": "#ab63fa",
          "symbol": "circle"
         },
         "mode": "markers",
         "name": "BKG",
         "orientation": "v",
         "showlegend": true,
         "type": "scatter",
         "x": [
          1
         ],
         "xaxis": "x",
         "y": [
          5
         ],
         "yaxis": "y"
        },
        {
         "hovertemplate": "color=BLI<br>x=%{x}<br>y=%{y}<extra></extra>",
         "legendgroup": "BLI",
         "marker": {
          "color": "#FFA15A",
          "symbol": "circle"
         },
         "mode": "markers",
         "name": "BLI",
         "orientation": "v",
         "showlegend": true,
         "type": "scatter",
         "x": [
          9
         ],
         "xaxis": "x",
         "y": [
          10.666666666666666
         ],
         "yaxis": "y"
        },
        {
         "hovertemplate": "color=BLV<br>x=%{x}<br>y=%{y}<extra></extra>",
         "legendgroup": "BLV",
         "marker": {
          "color": "#19d3f3",
          "symbol": "circle"
         },
         "mode": "markers",
         "name": "BLV",
         "orientation": "v",
         "showlegend": true,
         "type": "scatter",
         "x": [
          1
         ],
         "xaxis": "x",
         "y": [
          12
         ],
         "yaxis": "y"
        },
        {
         "hovertemplate": "color=BMI<br>x=%{x}<br>y=%{y}<extra></extra>",
         "legendgroup": "BMI",
         "marker": {
          "color": "#FF6692",
          "symbol": "circle"
         },
         "mode": "markers",
         "name": "BMI",
         "orientation": "v",
         "showlegend": true,
         "type": "scatter",
         "x": [
          3
         ],
         "xaxis": "x",
         "y": [
          15
         ],
         "yaxis": "y"
        },
        {
         "hovertemplate": "color=BNA<br>x=%{x}<br>y=%{y}<extra></extra>",
         "legendgroup": "BNA",
         "marker": {
          "color": "#B6E880",
          "symbol": "circle"
         },
         "mode": "markers",
         "name": "BNA",
         "orientation": "v",
         "showlegend": true,
         "type": "scatter",
         "x": [
          100
         ],
         "xaxis": "x",
         "y": [
          14.27
         ],
         "yaxis": "y"
        },
        {
         "hovertemplate": "color=BOI<br>x=%{x}<br>y=%{y}<extra></extra>",
         "legendgroup": "BOI",
         "marker": {
          "color": "#FF97FF",
          "symbol": "circle"
         },
         "mode": "markers",
         "name": "BOI",
         "orientation": "v",
         "showlegend": true,
         "type": "scatter",
         "x": [
          20
         ],
         "xaxis": "x",
         "y": [
          9.8
         ],
         "yaxis": "y"
        },
        {
         "hovertemplate": "color=BOS<br>x=%{x}<br>y=%{y}<extra></extra>",
         "legendgroup": "BOS",
         "marker": {
          "color": "#FECB52",
          "symbol": "circle"
         },
         "mode": "markers",
         "name": "BOS",
         "orientation": "v",
         "showlegend": true,
         "type": "scatter",
         "x": [
          191
         ],
         "xaxis": "x",
         "y": [
          20.361256544502616
         ],
         "yaxis": "y"
        },
        {
         "hovertemplate": "color=BQK<br>x=%{x}<br>y=%{y}<extra></extra>",
         "legendgroup": "BQK",
         "marker": {
          "color": "#636efa",
          "symbol": "circle"
         },
         "mode": "markers",
         "name": "BQK",
         "orientation": "v",
         "showlegend": true,
         "type": "scatter",
         "x": [
          1
         ],
         "xaxis": "x",
         "y": [
          8
         ],
         "yaxis": "y"
        },
        {
         "hovertemplate": "color=BQN<br>x=%{x}<br>y=%{y}<extra></extra>",
         "legendgroup": "BQN",
         "marker": {
          "color": "#EF553B",
          "symbol": "circle"
         },
         "mode": "markers",
         "name": "BQN",
         "orientation": "v",
         "showlegend": true,
         "type": "scatter",
         "x": [
          1
         ],
         "xaxis": "x",
         "y": [
          9
         ],
         "yaxis": "y"
        },
        {
         "hovertemplate": "color=BRD<br>x=%{x}<br>y=%{y}<extra></extra>",
         "legendgroup": "BRD",
         "marker": {
          "color": "#00cc96",
          "symbol": "circle"
         },
         "mode": "markers",
         "name": "BRD",
         "orientation": "v",
         "showlegend": true,
         "type": "scatter",
         "x": [
          1
         ],
         "xaxis": "x",
         "y": [
          25
         ],
         "yaxis": "y"
        },
        {
         "hovertemplate": "color=BRO<br>x=%{x}<br>y=%{y}<extra></extra>",
         "legendgroup": "BRO",
         "marker": {
          "color": "#ab63fa",
          "symbol": "circle"
         },
         "mode": "markers",
         "name": "BRO",
         "orientation": "v",
         "showlegend": true,
         "type": "scatter",
         "x": [
          5
         ],
         "xaxis": "x",
         "y": [
          14.8
         ],
         "yaxis": "y"
        },
        {
         "hovertemplate": "color=BTR<br>x=%{x}<br>y=%{y}<extra></extra>",
         "legendgroup": "BTR",
         "marker": {
          "color": "#FFA15A",
          "symbol": "circle"
         },
         "mode": "markers",
         "name": "BTR",
         "orientation": "v",
         "showlegend": true,
         "type": "scatter",
         "x": [
          7
         ],
         "xaxis": "x",
         "y": [
          17
         ],
         "yaxis": "y"
        },
        {
         "hovertemplate": "color=BTV<br>x=%{x}<br>y=%{y}<extra></extra>",
         "legendgroup": "BTV",
         "marker": {
          "color": "#19d3f3",
          "symbol": "circle"
         },
         "mode": "markers",
         "name": "BTV",
         "orientation": "v",
         "showlegend": true,
         "type": "scatter",
         "x": [
          7
         ],
         "xaxis": "x",
         "y": [
          19.285714285714285
         ],
         "yaxis": "y"
        },
        {
         "hovertemplate": "color=BUF<br>x=%{x}<br>y=%{y}<extra></extra>",
         "legendgroup": "BUF",
         "marker": {
          "color": "#FF6692",
          "symbol": "circle"
         },
         "mode": "markers",
         "name": "BUF",
         "orientation": "v",
         "showlegend": true,
         "type": "scatter",
         "x": [
          34
         ],
         "xaxis": "x",
         "y": [
          17.61764705882353
         ],
         "yaxis": "y"
        },
        {
         "hovertemplate": "color=BUR<br>x=%{x}<br>y=%{y}<extra></extra>",
         "legendgroup": "BUR",
         "marker": {
          "color": "#B6E880",
          "symbol": "circle"
         },
         "mode": "markers",
         "name": "BUR",
         "orientation": "v",
         "showlegend": true,
         "type": "scatter",
         "x": [
          36
         ],
         "xaxis": "x",
         "y": [
          13.555555555555555
         ],
         "yaxis": "y"
        },
        {
         "hovertemplate": "color=BWI<br>x=%{x}<br>y=%{y}<extra></extra>",
         "legendgroup": "BWI",
         "marker": {
          "color": "#FF97FF",
          "symbol": "circle"
         },
         "mode": "markers",
         "name": "BWI",
         "orientation": "v",
         "showlegend": true,
         "type": "scatter",
         "x": [
          132
         ],
         "xaxis": "x",
         "y": [
          13.242424242424242
         ],
         "yaxis": "y"
        },
        {
         "hovertemplate": "color=BZN<br>x=%{x}<br>y=%{y}<extra></extra>",
         "legendgroup": "BZN",
         "marker": {
          "color": "#FECB52",
          "symbol": "circle"
         },
         "mode": "markers",
         "name": "BZN",
         "orientation": "v",
         "showlegend": true,
         "type": "scatter",
         "x": [
          11
         ],
         "xaxis": "x",
         "y": [
          18
         ],
         "yaxis": "y"
        },
        {
         "hovertemplate": "color=CAE<br>x=%{x}<br>y=%{y}<extra></extra>",
         "legendgroup": "CAE",
         "marker": {
          "color": "#636efa",
          "symbol": "circle"
         },
         "mode": "markers",
         "name": "CAE",
         "orientation": "v",
         "showlegend": true,
         "type": "scatter",
         "x": [
          8
         ],
         "xaxis": "x",
         "y": [
          13.125
         ],
         "yaxis": "y"
        },
        {
         "hovertemplate": "color=CAK<br>x=%{x}<br>y=%{y}<extra></extra>",
         "legendgroup": "CAK",
         "marker": {
          "color": "#EF553B",
          "symbol": "circle"
         },
         "mode": "markers",
         "name": "CAK",
         "orientation": "v",
         "showlegend": true,
         "type": "scatter",
         "x": [
          10
         ],
         "xaxis": "x",
         "y": [
          21
         ],
         "yaxis": "y"
        },
        {
         "hovertemplate": "color=CDC<br>x=%{x}<br>y=%{y}<extra></extra>",
         "legendgroup": "CDC",
         "marker": {
          "color": "#00cc96",
          "symbol": "circle"
         },
         "mode": "markers",
         "name": "CDC",
         "orientation": "v",
         "showlegend": true,
         "type": "scatter",
         "x": [
          3
         ],
         "xaxis": "x",
         "y": [
          9.666666666666666
         ],
         "yaxis": "y"
        },
        {
         "hovertemplate": "color=CHA<br>x=%{x}<br>y=%{y}<extra></extra>",
         "legendgroup": "CHA",
         "marker": {
          "color": "#ab63fa",
          "symbol": "circle"
         },
         "mode": "markers",
         "name": "CHA",
         "orientation": "v",
         "showlegend": true,
         "type": "scatter",
         "x": [
          13
         ],
         "xaxis": "x",
         "y": [
          19.923076923076923
         ],
         "yaxis": "y"
        },
        {
         "hovertemplate": "color=CHO<br>x=%{x}<br>y=%{y}<extra></extra>",
         "legendgroup": "CHO",
         "marker": {
          "color": "#FFA15A",
          "symbol": "circle"
         },
         "mode": "markers",
         "name": "CHO",
         "orientation": "v",
         "showlegend": true,
         "type": "scatter",
         "x": [
          8
         ],
         "xaxis": "x",
         "y": [
          17.25
         ],
         "yaxis": "y"
        },
        {
         "hovertemplate": "color=CHS<br>x=%{x}<br>y=%{y}<extra></extra>",
         "legendgroup": "CHS",
         "marker": {
          "color": "#19d3f3",
          "symbol": "circle"
         },
         "mode": "markers",
         "name": "CHS",
         "orientation": "v",
         "showlegend": true,
         "type": "scatter",
         "x": [
          36
         ],
         "xaxis": "x",
         "y": [
          14.666666666666666
         ],
         "yaxis": "y"
        },
        {
         "hovertemplate": "color=CID<br>x=%{x}<br>y=%{y}<extra></extra>",
         "legendgroup": "CID",
         "marker": {
          "color": "#FF6692",
          "symbol": "circle"
         },
         "mode": "markers",
         "name": "CID",
         "orientation": "v",
         "showlegend": true,
         "type": "scatter",
         "x": [
          14
         ],
         "xaxis": "x",
         "y": [
          10.928571428571429
         ],
         "yaxis": "y"
        },
        {
         "hovertemplate": "color=CIU<br>x=%{x}<br>y=%{y}<extra></extra>",
         "legendgroup": "CIU",
         "marker": {
          "color": "#B6E880",
          "symbol": "circle"
         },
         "mode": "markers",
         "name": "CIU",
         "orientation": "v",
         "showlegend": true,
         "type": "scatter",
         "x": [
          1
         ],
         "xaxis": "x",
         "y": [
          34
         ],
         "yaxis": "y"
        },
        {
         "hovertemplate": "color=CLE<br>x=%{x}<br>y=%{y}<extra></extra>",
         "legendgroup": "CLE",
         "marker": {
          "color": "#FF97FF",
          "symbol": "circle"
         },
         "mode": "markers",
         "name": "CLE",
         "orientation": "v",
         "showlegend": true,
         "type": "scatter",
         "x": [
          57
         ],
         "xaxis": "x",
         "y": [
          15.75438596491228
         ],
         "yaxis": "y"
        },
        {
         "hovertemplate": "color=CLL<br>x=%{x}<br>y=%{y}<extra></extra>",
         "legendgroup": "CLL",
         "marker": {
          "color": "#FECB52",
          "symbol": "circle"
         },
         "mode": "markers",
         "name": "CLL",
         "orientation": "v",
         "showlegend": true,
         "type": "scatter",
         "x": [
          4
         ],
         "xaxis": "x",
         "y": [
          12.75
         ],
         "yaxis": "y"
        },
        {
         "hovertemplate": "color=CLT<br>x=%{x}<br>y=%{y}<extra></extra>",
         "legendgroup": "CLT",
         "marker": {
          "color": "#636efa",
          "symbol": "circle"
         },
         "mode": "markers",
         "name": "CLT",
         "orientation": "v",
         "showlegend": true,
         "type": "scatter",
         "x": [
          314
         ],
         "xaxis": "x",
         "y": [
          21.455414012738853
         ],
         "yaxis": "y"
        },
        {
         "hovertemplate": "color=CMH<br>x=%{x}<br>y=%{y}<extra></extra>",
         "legendgroup": "CMH",
         "marker": {
          "color": "#EF553B",
          "symbol": "circle"
         },
         "mode": "markers",
         "name": "CMH",
         "orientation": "v",
         "showlegend": true,
         "type": "scatter",
         "x": [
          53
         ],
         "xaxis": "x",
         "y": [
          15.622641509433961
         ],
         "yaxis": "y"
        },
        {
         "hovertemplate": "color=CMI<br>x=%{x}<br>y=%{y}<extra></extra>",
         "legendgroup": "CMI",
         "marker": {
          "color": "#00cc96",
          "symbol": "circle"
         },
         "mode": "markers",
         "name": "CMI",
         "orientation": "v",
         "showlegend": true,
         "type": "scatter",
         "x": [
          4
         ],
         "xaxis": "x",
         "y": [
          25.5
         ],
         "yaxis": "y"
        },
        {
         "hovertemplate": "color=CMX<br>x=%{x}<br>y=%{y}<extra></extra>",
         "legendgroup": "CMX",
         "marker": {
          "color": "#ab63fa",
          "symbol": "circle"
         },
         "mode": "markers",
         "name": "CMX",
         "orientation": "v",
         "showlegend": true,
         "type": "scatter",
         "x": [
          1
         ],
         "xaxis": "x",
         "y": [
          12
         ],
         "yaxis": "y"
        },
        {
         "hovertemplate": "color=COD<br>x=%{x}<br>y=%{y}<extra></extra>",
         "legendgroup": "COD",
         "marker": {
          "color": "#FFA15A",
          "symbol": "circle"
         },
         "mode": "markers",
         "name": "COD",
         "orientation": "v",
         "showlegend": true,
         "type": "scatter",
         "x": [
          4
         ],
         "xaxis": "x",
         "y": [
          16
         ],
         "yaxis": "y"
        },
        {
         "hovertemplate": "color=COS<br>x=%{x}<br>y=%{y}<extra></extra>",
         "legendgroup": "COS",
         "marker": {
          "color": "#19d3f3",
          "symbol": "circle"
         },
         "mode": "markers",
         "name": "COS",
         "orientation": "v",
         "showlegend": true,
         "type": "scatter",
         "x": [
          11
         ],
         "xaxis": "x",
         "y": [
          15.545454545454545
         ],
         "yaxis": "y"
        },
        {
         "hovertemplate": "color=CPR<br>x=%{x}<br>y=%{y}<extra></extra>",
         "legendgroup": "CPR",
         "marker": {
          "color": "#FF6692",
          "symbol": "circle"
         },
         "mode": "markers",
         "name": "CPR",
         "orientation": "v",
         "showlegend": true,
         "type": "scatter",
         "x": [
          1
         ],
         "xaxis": "x",
         "y": [
          28
         ],
         "yaxis": "y"
        },
        {
         "hovertemplate": "color=CRP<br>x=%{x}<br>y=%{y}<extra></extra>",
         "legendgroup": "CRP",
         "marker": {
          "color": "#B6E880",
          "symbol": "circle"
         },
         "mode": "markers",
         "name": "CRP",
         "orientation": "v",
         "showlegend": true,
         "type": "scatter",
         "x": [
          7
         ],
         "xaxis": "x",
         "y": [
          17.428571428571427
         ],
         "yaxis": "y"
        },
        {
         "hovertemplate": "color=CRW<br>x=%{x}<br>y=%{y}<extra></extra>",
         "legendgroup": "CRW",
         "marker": {
          "color": "#FF97FF",
          "symbol": "circle"
         },
         "mode": "markers",
         "name": "CRW",
         "orientation": "v",
         "showlegend": true,
         "type": "scatter",
         "x": [
          6
         ],
         "xaxis": "x",
         "y": [
          11.666666666666666
         ],
         "yaxis": "y"
        },
        {
         "hovertemplate": "color=CVG<br>x=%{x}<br>y=%{y}<extra></extra>",
         "legendgroup": "CVG",
         "marker": {
          "color": "#FECB52",
          "symbol": "circle"
         },
         "mode": "markers",
         "name": "CVG",
         "orientation": "v",
         "showlegend": true,
         "type": "scatter",
         "x": [
          61
         ],
         "xaxis": "x",
         "y": [
          14.655737704918034
         ],
         "yaxis": "y"
        },
        {
         "hovertemplate": "color=CWA<br>x=%{x}<br>y=%{y}<extra></extra>",
         "legendgroup": "CWA",
         "marker": {
          "color": "#636efa",
          "symbol": "circle"
         },
         "mode": "markers",
         "name": "CWA",
         "orientation": "v",
         "showlegend": true,
         "type": "scatter",
         "x": [
          4
         ],
         "xaxis": "x",
         "y": [
          17.25
         ],
         "yaxis": "y"
        },
        {
         "hovertemplate": "color=DAB<br>x=%{x}<br>y=%{y}<extra></extra>",
         "legendgroup": "DAB",
         "marker": {
          "color": "#EF553B",
          "symbol": "circle"
         },
         "mode": "markers",
         "name": "DAB",
         "orientation": "v",
         "showlegend": true,
         "type": "scatter",
         "x": [
          10
         ],
         "xaxis": "x",
         "y": [
          13.1
         ],
         "yaxis": "y"
        },
        {
         "hovertemplate": "color=DAL<br>x=%{x}<br>y=%{y}<extra></extra>",
         "legendgroup": "DAL",
         "marker": {
          "color": "#00cc96",
          "symbol": "circle"
         },
         "mode": "markers",
         "name": "DAL",
         "orientation": "v",
         "showlegend": true,
         "type": "scatter",
         "x": [
          78
         ],
         "xaxis": "x",
         "y": [
          13.435897435897436
         ],
         "yaxis": "y"
        },
        {
         "hovertemplate": "color=DAY<br>x=%{x}<br>y=%{y}<extra></extra>",
         "legendgroup": "DAY",
         "marker": {
          "color": "#ab63fa",
          "symbol": "circle"
         },
         "mode": "markers",
         "name": "DAY",
         "orientation": "v",
         "showlegend": true,
         "type": "scatter",
         "x": [
          17
         ],
         "xaxis": "x",
         "y": [
          14.294117647058824
         ],
         "yaxis": "y"
        },
        {
         "hovertemplate": "color=DBQ<br>x=%{x}<br>y=%{y}<extra></extra>",
         "legendgroup": "DBQ",
         "marker": {
          "color": "#FFA15A",
          "symbol": "circle"
         },
         "mode": "markers",
         "name": "DBQ",
         "orientation": "v",
         "showlegend": true,
         "type": "scatter",
         "x": [
          2
         ],
         "xaxis": "x",
         "y": [
          17.5
         ],
         "yaxis": "y"
        },
        {
         "hovertemplate": "color=DCA<br>x=%{x}<br>y=%{y}<extra></extra>",
         "legendgroup": "DCA",
         "marker": {
          "color": "#19d3f3",
          "symbol": "circle"
         },
         "mode": "markers",
         "name": "DCA",
         "orientation": "v",
         "showlegend": true,
         "type": "scatter",
         "x": [
          178
         ],
         "xaxis": "x",
         "y": [
          19.10674157303371
         ],
         "yaxis": "y"
        },
        {
         "hovertemplate": "color=DEN<br>x=%{x}<br>y=%{y}<extra></extra>",
         "legendgroup": "DEN",
         "marker": {
          "color": "#FF6692",
          "symbol": "circle"
         },
         "mode": "markers",
         "name": "DEN",
         "orientation": "v",
         "showlegend": true,
         "type": "scatter",
         "x": [
          342
         ],
         "xaxis": "x",
         "y": [
          18.763157894736842
         ],
         "yaxis": "y"
        },
        {
         "hovertemplate": "color=DFW<br>x=%{x}<br>y=%{y}<extra></extra>",
         "legendgroup": "DFW",
         "marker": {
          "color": "#B6E880",
          "symbol": "circle"
         },
         "mode": "markers",
         "name": "DFW",
         "orientation": "v",
         "showlegend": true,
         "type": "scatter",
         "x": [
          335
         ],
         "xaxis": "x",
         "y": [
          19.37910447761194
         ],
         "yaxis": "y"
        },
        {
         "hovertemplate": "color=DIK<br>x=%{x}<br>y=%{y}<extra></extra>",
         "legendgroup": "DIK",
         "marker": {
          "color": "#FF97FF",
          "symbol": "circle"
         },
         "mode": "markers",
         "name": "DIK",
         "orientation": "v",
         "showlegend": true,
         "type": "scatter",
         "x": [
          2
         ],
         "xaxis": "x",
         "y": [
          13
         ],
         "yaxis": "y"
        },
        {
         "hovertemplate": "color=DLG<br>x=%{x}<br>y=%{y}<extra></extra>",
         "legendgroup": "DLG",
         "marker": {
          "color": "#FECB52",
          "symbol": "circle"
         },
         "mode": "markers",
         "name": "DLG",
         "orientation": "v",
         "showlegend": true,
         "type": "scatter",
         "x": [
          1
         ],
         "xaxis": "x",
         "y": [
          4
         ],
         "yaxis": "y"
        },
        {
         "hovertemplate": "color=DLH<br>x=%{x}<br>y=%{y}<extra></extra>",
         "legendgroup": "DLH",
         "marker": {
          "color": "#636efa",
          "symbol": "circle"
         },
         "mode": "markers",
         "name": "DLH",
         "orientation": "v",
         "showlegend": true,
         "type": "scatter",
         "x": [
          1
         ],
         "xaxis": "x",
         "y": [
          25
         ],
         "yaxis": "y"
        },
        {
         "hovertemplate": "color=DRO<br>x=%{x}<br>y=%{y}<extra></extra>",
         "legendgroup": "DRO",
         "marker": {
          "color": "#EF553B",
          "symbol": "circle"
         },
         "mode": "markers",
         "name": "DRO",
         "orientation": "v",
         "showlegend": true,
         "type": "scatter",
         "x": [
          8
         ],
         "xaxis": "x",
         "y": [
          13.25
         ],
         "yaxis": "y"
        },
        {
         "hovertemplate": "color=DRT<br>x=%{x}<br>y=%{y}<extra></extra>",
         "legendgroup": "DRT",
         "marker": {
          "color": "#00cc96",
          "symbol": "circle"
         },
         "mode": "markers",
         "name": "DRT",
         "orientation": "v",
         "showlegend": true,
         "type": "scatter",
         "x": [
          1
         ],
         "xaxis": "x",
         "y": [
          15
         ],
         "yaxis": "y"
        },
        {
         "hovertemplate": "color=DSM<br>x=%{x}<br>y=%{y}<extra></extra>",
         "legendgroup": "DSM",
         "marker": {
          "color": "#ab63fa",
          "symbol": "circle"
         },
         "mode": "markers",
         "name": "DSM",
         "orientation": "v",
         "showlegend": true,
         "type": "scatter",
         "x": [
          12
         ],
         "xaxis": "x",
         "y": [
          14.166666666666666
         ],
         "yaxis": "y"
        },
        {
         "hovertemplate": "color=DTW<br>x=%{x}<br>y=%{y}<extra></extra>",
         "legendgroup": "DTW",
         "marker": {
          "color": "#FFA15A",
          "symbol": "circle"
         },
         "mode": "markers",
         "name": "DTW",
         "orientation": "v",
         "showlegend": true,
         "type": "scatter",
         "x": [
          218
         ],
         "xaxis": "x",
         "y": [
          18.339449541284402
         ],
         "yaxis": "y"
        },
        {
         "hovertemplate": "color=DVL<br>x=%{x}<br>y=%{y}<extra></extra>",
         "legendgroup": "DVL",
         "marker": {
          "color": "#19d3f3",
          "symbol": "circle"
         },
         "mode": "markers",
         "name": "DVL",
         "orientation": "v",
         "showlegend": true,
         "type": "scatter",
         "x": [
          2
         ],
         "xaxis": "x",
         "y": [
          15.5
         ],
         "yaxis": "y"
        },
        {
         "hovertemplate": "color=EAT<br>x=%{x}<br>y=%{y}<extra></extra>",
         "legendgroup": "EAT",
         "marker": {
          "color": "#FF6692",
          "symbol": "circle"
         },
         "mode": "markers",
         "name": "EAT",
         "orientation": "v",
         "showlegend": true,
         "type": "scatter",
         "x": [
          1
         ],
         "xaxis": "x",
         "y": [
          5
         ],
         "yaxis": "y"
        },
        {
         "hovertemplate": "color=EAU<br>x=%{x}<br>y=%{y}<extra></extra>",
         "legendgroup": "EAU",
         "marker": {
          "color": "#B6E880",
          "symbol": "circle"
         },
         "mode": "markers",
         "name": "EAU",
         "orientation": "v",
         "showlegend": true,
         "type": "scatter",
         "x": [
          2
         ],
         "xaxis": "x",
         "y": [
          25
         ],
         "yaxis": "y"
        },
        {
         "hovertemplate": "color=ECP<br>x=%{x}<br>y=%{y}<extra></extra>",
         "legendgroup": "ECP",
         "marker": {
          "color": "#FF97FF",
          "symbol": "circle"
         },
         "mode": "markers",
         "name": "ECP",
         "orientation": "v",
         "showlegend": true,
         "type": "scatter",
         "x": [
          10
         ],
         "xaxis": "x",
         "y": [
          13.3
         ],
         "yaxis": "y"
        },
        {
         "hovertemplate": "color=EGE<br>x=%{x}<br>y=%{y}<extra></extra>",
         "legendgroup": "EGE",
         "marker": {
          "color": "#FECB52",
          "symbol": "circle"
         },
         "mode": "markers",
         "name": "EGE",
         "orientation": "v",
         "showlegend": true,
         "type": "scatter",
         "x": [
          4
         ],
         "xaxis": "x",
         "y": [
          23.75
         ],
         "yaxis": "y"
        },
        {
         "hovertemplate": "color=EKO<br>x=%{x}<br>y=%{y}<extra></extra>",
         "legendgroup": "EKO",
         "marker": {
          "color": "#636efa",
          "symbol": "circle"
         },
         "mode": "markers",
         "name": "EKO",
         "orientation": "v",
         "showlegend": true,
         "type": "scatter",
         "x": [
          1
         ],
         "xaxis": "x",
         "y": [
          19
         ],
         "yaxis": "y"
        },
        {
         "hovertemplate": "color=ELM<br>x=%{x}<br>y=%{y}<extra></extra>",
         "legendgroup": "ELM",
         "marker": {
          "color": "#EF553B",
          "symbol": "circle"
         },
         "mode": "markers",
         "name": "ELM",
         "orientation": "v",
         "showlegend": true,
         "type": "scatter",
         "x": [
          2
         ],
         "xaxis": "x",
         "y": [
          13
         ],
         "yaxis": "y"
        },
        {
         "hovertemplate": "color=ELP<br>x=%{x}<br>y=%{y}<extra></extra>",
         "legendgroup": "ELP",
         "marker": {
          "color": "#00cc96",
          "symbol": "circle"
         },
         "mode": "markers",
         "name": "ELP",
         "orientation": "v",
         "showlegend": true,
         "type": "scatter",
         "x": [
          19
         ],
         "xaxis": "x",
         "y": [
          14.894736842105264
         ],
         "yaxis": "y"
        },
        {
         "hovertemplate": "color=ERI<br>x=%{x}<br>y=%{y}<extra></extra>",
         "legendgroup": "ERI",
         "marker": {
          "color": "#ab63fa",
          "symbol": "circle"
         },
         "mode": "markers",
         "name": "ERI",
         "orientation": "v",
         "showlegend": true,
         "type": "scatter",
         "x": [
          5
         ],
         "xaxis": "x",
         "y": [
          14.8
         ],
         "yaxis": "y"
        },
        {
         "hovertemplate": "color=EUG<br>x=%{x}<br>y=%{y}<extra></extra>",
         "legendgroup": "EUG",
         "marker": {
          "color": "#FFA15A",
          "symbol": "circle"
         },
         "mode": "markers",
         "name": "EUG",
         "orientation": "v",
         "showlegend": true,
         "type": "scatter",
         "x": [
          9
         ],
         "xaxis": "x",
         "y": [
          15.777777777777779
         ],
         "yaxis": "y"
        },
        {
         "hovertemplate": "color=EVV<br>x=%{x}<br>y=%{y}<extra></extra>",
         "legendgroup": "EVV",
         "marker": {
          "color": "#19d3f3",
          "symbol": "circle"
         },
         "mode": "markers",
         "name": "EVV",
         "orientation": "v",
         "showlegend": true,
         "type": "scatter",
         "x": [
          2
         ],
         "xaxis": "x",
         "y": [
          19
         ],
         "yaxis": "y"
        },
        {
         "hovertemplate": "color=EWN<br>x=%{x}<br>y=%{y}<extra></extra>",
         "legendgroup": "EWN",
         "marker": {
          "color": "#FF6692",
          "symbol": "circle"
         },
         "mode": "markers",
         "name": "EWN",
         "orientation": "v",
         "showlegend": true,
         "type": "scatter",
         "x": [
          2
         ],
         "xaxis": "x",
         "y": [
          26.5
         ],
         "yaxis": "y"
        },
        {
         "hovertemplate": "color=EWR<br>x=%{x}<br>y=%{y}<extra></extra>",
         "legendgroup": "EWR",
         "marker": {
          "color": "#B6E880",
          "symbol": "circle"
         },
         "mode": "markers",
         "name": "EWR",
         "orientation": "v",
         "showlegend": true,
         "type": "scatter",
         "x": [
          175
         ],
         "xaxis": "x",
         "y": [
          26.194285714285716
         ],
         "yaxis": "y"
        },
        {
         "hovertemplate": "color=EYW<br>x=%{x}<br>y=%{y}<extra></extra>",
         "legendgroup": "EYW",
         "marker": {
          "color": "#FF97FF",
          "symbol": "circle"
         },
         "mode": "markers",
         "name": "EYW",
         "orientation": "v",
         "showlegend": true,
         "type": "scatter",
         "x": [
          5
         ],
         "xaxis": "x",
         "y": [
          10.4
         ],
         "yaxis": "y"
        },
        {
         "hovertemplate": "color=FAI<br>x=%{x}<br>y=%{y}<extra></extra>",
         "legendgroup": "FAI",
         "marker": {
          "color": "#FECB52",
          "symbol": "circle"
         },
         "mode": "markers",
         "name": "FAI",
         "orientation": "v",
         "showlegend": true,
         "type": "scatter",
         "x": [
          5
         ],
         "xaxis": "x",
         "y": [
          9.2
         ],
         "yaxis": "y"
        },
        {
         "hovertemplate": "color=FAR<br>x=%{x}<br>y=%{y}<extra></extra>",
         "legendgroup": "FAR",
         "marker": {
          "color": "#636efa",
          "symbol": "circle"
         },
         "mode": "markers",
         "name": "FAR",
         "orientation": "v",
         "showlegend": true,
         "type": "scatter",
         "x": [
          10
         ],
         "xaxis": "x",
         "y": [
          23
         ],
         "yaxis": "y"
        },
        {
         "hovertemplate": "color=FAT<br>x=%{x}<br>y=%{y}<extra></extra>",
         "legendgroup": "FAT",
         "marker": {
          "color": "#EF553B",
          "symbol": "circle"
         },
         "mode": "markers",
         "name": "FAT",
         "orientation": "v",
         "showlegend": true,
         "type": "scatter",
         "x": [
          19
         ],
         "xaxis": "x",
         "y": [
          12.736842105263158
         ],
         "yaxis": "y"
        },
        {
         "hovertemplate": "color=FAY<br>x=%{x}<br>y=%{y}<extra></extra>",
         "legendgroup": "FAY",
         "marker": {
          "color": "#00cc96",
          "symbol": "circle"
         },
         "mode": "markers",
         "name": "FAY",
         "orientation": "v",
         "showlegend": true,
         "type": "scatter",
         "x": [
          3
         ],
         "xaxis": "x",
         "y": [
          9.333333333333334
         ],
         "yaxis": "y"
        },
        {
         "hovertemplate": "color=FCA<br>x=%{x}<br>y=%{y}<extra></extra>",
         "legendgroup": "FCA",
         "marker": {
          "color": "#ab63fa",
          "symbol": "circle"
         },
         "mode": "markers",
         "name": "FCA",
         "orientation": "v",
         "showlegend": true,
         "type": "scatter",
         "x": [
          3
         ],
         "xaxis": "x",
         "y": [
          23
         ],
         "yaxis": "y"
        },
        {
         "hovertemplate": "color=FLL<br>x=%{x}<br>y=%{y}<extra></extra>",
         "legendgroup": "FLL",
         "marker": {
          "color": "#FFA15A",
          "symbol": "circle"
         },
         "mode": "markers",
         "name": "FLL",
         "orientation": "v",
         "showlegend": true,
         "type": "scatter",
         "x": [
          120
         ],
         "xaxis": "x",
         "y": [
          18.133333333333333
         ],
         "yaxis": "y"
        },
        {
         "hovertemplate": "color=FLO<br>x=%{x}<br>y=%{y}<extra></extra>",
         "legendgroup": "FLO",
         "marker": {
          "color": "#19d3f3",
          "symbol": "circle"
         },
         "mode": "markers",
         "name": "FLO",
         "orientation": "v",
         "showlegend": true,
         "type": "scatter",
         "x": [
          2
         ],
         "xaxis": "x",
         "y": [
          19.5
         ],
         "yaxis": "y"
        },
        {
         "hovertemplate": "color=FNT<br>x=%{x}<br>y=%{y}<extra></extra>",
         "legendgroup": "FNT",
         "marker": {
          "color": "#FF6692",
          "symbol": "circle"
         },
         "mode": "markers",
         "name": "FNT",
         "orientation": "v",
         "showlegend": true,
         "type": "scatter",
         "x": [
          7
         ],
         "xaxis": "x",
         "y": [
          16.142857142857142
         ],
         "yaxis": "y"
        },
        {
         "hovertemplate": "color=FSD<br>x=%{x}<br>y=%{y}<extra></extra>",
         "legendgroup": "FSD",
         "marker": {
          "color": "#B6E880",
          "symbol": "circle"
         },
         "mode": "markers",
         "name": "FSD",
         "orientation": "v",
         "showlegend": true,
         "type": "scatter",
         "x": [
          11
         ],
         "xaxis": "x",
         "y": [
          15.272727272727273
         ],
         "yaxis": "y"
        },
        {
         "hovertemplate": "color=FSM<br>x=%{x}<br>y=%{y}<extra></extra>",
         "legendgroup": "FSM",
         "marker": {
          "color": "#FF97FF",
          "symbol": "circle"
         },
         "mode": "markers",
         "name": "FSM",
         "orientation": "v",
         "showlegend": true,
         "type": "scatter",
         "x": [
          3
         ],
         "xaxis": "x",
         "y": [
          14
         ],
         "yaxis": "y"
        },
        {
         "hovertemplate": "color=FWA<br>x=%{x}<br>y=%{y}<extra></extra>",
         "legendgroup": "FWA",
         "marker": {
          "color": "#FECB52",
          "symbol": "circle"
         },
         "mode": "markers",
         "name": "FWA",
         "orientation": "v",
         "showlegend": true,
         "type": "scatter",
         "x": [
          5
         ],
         "xaxis": "x",
         "y": [
          20
         ],
         "yaxis": "y"
        },
        {
         "hovertemplate": "color=GCC<br>x=%{x}<br>y=%{y}<extra></extra>",
         "legendgroup": "GCC",
         "marker": {
          "color": "#636efa",
          "symbol": "circle"
         },
         "mode": "markers",
         "name": "GCC",
         "orientation": "v",
         "showlegend": true,
         "type": "scatter",
         "x": [
          1
         ],
         "xaxis": "x",
         "y": [
          28
         ],
         "yaxis": "y"
        },
        {
         "hovertemplate": "color=GCK<br>x=%{x}<br>y=%{y}<extra></extra>",
         "legendgroup": "GCK",
         "marker": {
          "color": "#EF553B",
          "symbol": "circle"
         },
         "mode": "markers",
         "name": "GCK",
         "orientation": "v",
         "showlegend": true,
         "type": "scatter",
         "x": [
          1
         ],
         "xaxis": "x",
         "y": [
          13
         ],
         "yaxis": "y"
        },
        {
         "hovertemplate": "color=GEG<br>x=%{x}<br>y=%{y}<extra></extra>",
         "legendgroup": "GEG",
         "marker": {
          "color": "#00cc96",
          "symbol": "circle"
         },
         "mode": "markers",
         "name": "GEG",
         "orientation": "v",
         "showlegend": true,
         "type": "scatter",
         "x": [
          39
         ],
         "xaxis": "x",
         "y": [
          13.461538461538462
         ],
         "yaxis": "y"
        },
        {
         "hovertemplate": "color=GFK<br>x=%{x}<br>y=%{y}<extra></extra>",
         "legendgroup": "GFK",
         "marker": {
          "color": "#ab63fa",
          "symbol": "circle"
         },
         "mode": "markers",
         "name": "GFK",
         "orientation": "v",
         "showlegend": true,
         "type": "scatter",
         "x": [
          1
         ],
         "xaxis": "x",
         "y": [
          17
         ],
         "yaxis": "y"
        },
        {
         "hovertemplate": "color=GGG<br>x=%{x}<br>y=%{y}<extra></extra>",
         "legendgroup": "GGG",
         "marker": {
          "color": "#FFA15A",
          "symbol": "circle"
         },
         "mode": "markers",
         "name": "GGG",
         "orientation": "v",
         "showlegend": true,
         "type": "scatter",
         "x": [
          2
         ],
         "xaxis": "x",
         "y": [
          11.5
         ],
         "yaxis": "y"
        },
        {
         "hovertemplate": "color=GJT<br>x=%{x}<br>y=%{y}<extra></extra>",
         "legendgroup": "GJT",
         "marker": {
          "color": "#19d3f3",
          "symbol": "circle"
         },
         "mode": "markers",
         "name": "GJT",
         "orientation": "v",
         "showlegend": true,
         "type": "scatter",
         "x": [
          4
         ],
         "xaxis": "x",
         "y": [
          15.25
         ],
         "yaxis": "y"
        },
        {
         "hovertemplate": "color=GNV<br>x=%{x}<br>y=%{y}<extra></extra>",
         "legendgroup": "GNV",
         "marker": {
          "color": "#FF6692",
          "symbol": "circle"
         },
         "mode": "markers",
         "name": "GNV",
         "orientation": "v",
         "showlegend": true,
         "type": "scatter",
         "x": [
          3
         ],
         "xaxis": "x",
         "y": [
          10
         ],
         "yaxis": "y"
        },
        {
         "hovertemplate": "color=GPT<br>x=%{x}<br>y=%{y}<extra></extra>",
         "legendgroup": "GPT",
         "marker": {
          "color": "#B6E880",
          "symbol": "circle"
         },
         "mode": "markers",
         "name": "GPT",
         "orientation": "v",
         "showlegend": true,
         "type": "scatter",
         "x": [
          7
         ],
         "xaxis": "x",
         "y": [
          13.142857142857142
         ],
         "yaxis": "y"
        },
        {
         "hovertemplate": "color=GRB<br>x=%{x}<br>y=%{y}<extra></extra>",
         "legendgroup": "GRB",
         "marker": {
          "color": "#FF97FF",
          "symbol": "circle"
         },
         "mode": "markers",
         "name": "GRB",
         "orientation": "v",
         "showlegend": true,
         "type": "scatter",
         "x": [
          7
         ],
         "xaxis": "x",
         "y": [
          11.428571428571429
         ],
         "yaxis": "y"
        },
        {
         "hovertemplate": "color=GRI<br>x=%{x}<br>y=%{y}<extra></extra>",
         "legendgroup": "GRI",
         "marker": {
          "color": "#FECB52",
          "symbol": "circle"
         },
         "mode": "markers",
         "name": "GRI",
         "orientation": "v",
         "showlegend": true,
         "type": "scatter",
         "x": [
          2
         ],
         "xaxis": "x",
         "y": [
          10
         ],
         "yaxis": "y"
        },
        {
         "hovertemplate": "color=GRK<br>x=%{x}<br>y=%{y}<extra></extra>",
         "legendgroup": "GRK",
         "marker": {
          "color": "#636efa",
          "symbol": "circle"
         },
         "mode": "markers",
         "name": "GRK",
         "orientation": "v",
         "showlegend": true,
         "type": "scatter",
         "x": [
          9
         ],
         "xaxis": "x",
         "y": [
          15.777777777777779
         ],
         "yaxis": "y"
        },
        {
         "hovertemplate": "color=GRR<br>x=%{x}<br>y=%{y}<extra></extra>",
         "legendgroup": "GRR",
         "marker": {
          "color": "#EF553B",
          "symbol": "circle"
         },
         "mode": "markers",
         "name": "GRR",
         "orientation": "v",
         "showlegend": true,
         "type": "scatter",
         "x": [
          28
         ],
         "xaxis": "x",
         "y": [
          14.642857142857142
         ],
         "yaxis": "y"
        },
        {
         "hovertemplate": "color=GSO<br>x=%{x}<br>y=%{y}<extra></extra>",
         "legendgroup": "GSO",
         "marker": {
          "color": "#00cc96",
          "symbol": "circle"
         },
         "mode": "markers",
         "name": "GSO",
         "orientation": "v",
         "showlegend": true,
         "type": "scatter",
         "x": [
          18
         ],
         "xaxis": "x",
         "y": [
          14.277777777777779
         ],
         "yaxis": "y"
        },
        {
         "hovertemplate": "color=GSP<br>x=%{x}<br>y=%{y}<extra></extra>",
         "legendgroup": "GSP",
         "marker": {
          "color": "#ab63fa",
          "symbol": "circle"
         },
         "mode": "markers",
         "name": "GSP",
         "orientation": "v",
         "showlegend": true,
         "type": "scatter",
         "x": [
          16
         ],
         "xaxis": "x",
         "y": [
          19.75
         ],
         "yaxis": "y"
        },
        {
         "hovertemplate": "color=GTF<br>x=%{x}<br>y=%{y}<extra></extra>",
         "legendgroup": "GTF",
         "marker": {
          "color": "#FFA15A",
          "symbol": "circle"
         },
         "mode": "markers",
         "name": "GTF",
         "orientation": "v",
         "showlegend": true,
         "type": "scatter",
         "x": [
          7
         ],
         "xaxis": "x",
         "y": [
          14
         ],
         "yaxis": "y"
        },
        {
         "hovertemplate": "color=GTR<br>x=%{x}<br>y=%{y}<extra></extra>",
         "legendgroup": "GTR",
         "marker": {
          "color": "#19d3f3",
          "symbol": "circle"
         },
         "mode": "markers",
         "name": "GTR",
         "orientation": "v",
         "showlegend": true,
         "type": "scatter",
         "x": [
          2
         ],
         "xaxis": "x",
         "y": [
          15.5
         ],
         "yaxis": "y"
        },
        {
         "hovertemplate": "color=GUC<br>x=%{x}<br>y=%{y}<extra></extra>",
         "legendgroup": "GUC",
         "marker": {
          "color": "#FF6692",
          "symbol": "circle"
         },
         "mode": "markers",
         "name": "GUC",
         "orientation": "v",
         "showlegend": true,
         "type": "scatter",
         "x": [
          1
         ],
         "xaxis": "x",
         "y": [
          12
         ],
         "yaxis": "y"
        },
        {
         "hovertemplate": "color=HDN<br>x=%{x}<br>y=%{y}<extra></extra>",
         "legendgroup": "HDN",
         "marker": {
          "color": "#B6E880",
          "symbol": "circle"
         },
         "mode": "markers",
         "name": "HDN",
         "orientation": "v",
         "showlegend": true,
         "type": "scatter",
         "x": [
          4
         ],
         "xaxis": "x",
         "y": [
          22
         ],
         "yaxis": "y"
        },
        {
         "hovertemplate": "color=HGR<br>x=%{x}<br>y=%{y}<extra></extra>",
         "legendgroup": "HGR",
         "marker": {
          "color": "#FF97FF",
          "symbol": "circle"
         },
         "mode": "markers",
         "name": "HGR",
         "orientation": "v",
         "showlegend": true,
         "type": "scatter",
         "x": [
          1
         ],
         "xaxis": "x",
         "y": [
          11
         ],
         "yaxis": "y"
        },
        {
         "hovertemplate": "color=HIB<br>x=%{x}<br>y=%{y}<extra></extra>",
         "legendgroup": "HIB",
         "marker": {
          "color": "#FECB52",
          "symbol": "circle"
         },
         "mode": "markers",
         "name": "HIB",
         "orientation": "v",
         "showlegend": true,
         "type": "scatter",
         "x": [
          1
         ],
         "xaxis": "x",
         "y": [
          8
         ],
         "yaxis": "y"
        },
        {
         "hovertemplate": "color=HLN<br>x=%{x}<br>y=%{y}<extra></extra>",
         "legendgroup": "HLN",
         "marker": {
          "color": "#636efa",
          "symbol": "circle"
         },
         "mode": "markers",
         "name": "HLN",
         "orientation": "v",
         "showlegend": true,
         "type": "scatter",
         "x": [
          2
         ],
         "xaxis": "x",
         "y": [
          22
         ],
         "yaxis": "y"
        },
        {
         "hovertemplate": "color=HNL<br>x=%{x}<br>y=%{y}<extra></extra>",
         "legendgroup": "HNL",
         "marker": {
          "color": "#EF553B",
          "symbol": "circle"
         },
         "mode": "markers",
         "name": "HNL",
         "orientation": "v",
         "showlegend": true,
         "type": "scatter",
         "x": [
          64
         ],
         "xaxis": "x",
         "y": [
          15.71875
         ],
         "yaxis": "y"
        },
        {
         "hovertemplate": "color=HOU<br>x=%{x}<br>y=%{y}<extra></extra>",
         "legendgroup": "HOU",
         "marker": {
          "color": "#00cc96",
          "symbol": "circle"
         },
         "mode": "markers",
         "name": "HOU",
         "orientation": "v",
         "showlegend": true,
         "type": "scatter",
         "x": [
          77
         ],
         "xaxis": "x",
         "y": [
          11.766233766233766
         ],
         "yaxis": "y"
        },
        {
         "hovertemplate": "color=HPN<br>x=%{x}<br>y=%{y}<extra></extra>",
         "legendgroup": "HPN",
         "marker": {
          "color": "#ab63fa",
          "symbol": "circle"
         },
         "mode": "markers",
         "name": "HPN",
         "orientation": "v",
         "showlegend": true,
         "type": "scatter",
         "x": [
          15
         ],
         "xaxis": "x",
         "y": [
          15.666666666666666
         ],
         "yaxis": "y"
        },
        {
         "hovertemplate": "color=HRL<br>x=%{x}<br>y=%{y}<extra></extra>",
         "legendgroup": "HRL",
         "marker": {
          "color": "#FFA15A",
          "symbol": "circle"
         },
         "mode": "markers",
         "name": "HRL",
         "orientation": "v",
         "showlegend": true,
         "type": "scatter",
         "x": [
          2
         ],
         "xaxis": "x",
         "y": [
          17.5
         ],
         "yaxis": "y"
        },
        {
         "hovertemplate": "color=HSV<br>x=%{x}<br>y=%{y}<extra></extra>",
         "legendgroup": "HSV",
         "marker": {
          "color": "#19d3f3",
          "symbol": "circle"
         },
         "mode": "markers",
         "name": "HSV",
         "orientation": "v",
         "showlegend": true,
         "type": "scatter",
         "x": [
          11
         ],
         "xaxis": "x",
         "y": [
          12.454545454545455
         ],
         "yaxis": "y"
        },
        {
         "hovertemplate": "color=HTS<br>x=%{x}<br>y=%{y}<extra></extra>",
         "legendgroup": "HTS",
         "marker": {
          "color": "#FF6692",
          "symbol": "circle"
         },
         "mode": "markers",
         "name": "HTS",
         "orientation": "v",
         "showlegend": true,
         "type": "scatter",
         "x": [
          1
         ],
         "xaxis": "x",
         "y": [
          29
         ],
         "yaxis": "y"
        },
        {
         "hovertemplate": "color=HVN<br>x=%{x}<br>y=%{y}<extra></extra>",
         "legendgroup": "HVN",
         "marker": {
          "color": "#B6E880",
          "symbol": "circle"
         },
         "mode": "markers",
         "name": "HVN",
         "orientation": "v",
         "showlegend": true,
         "type": "scatter",
         "x": [
          3
         ],
         "xaxis": "x",
         "y": [
          9
         ],
         "yaxis": "y"
        },
        {
         "hovertemplate": "color=IAD<br>x=%{x}<br>y=%{y}<extra></extra>",
         "legendgroup": "IAD",
         "marker": {
          "color": "#FF97FF",
          "symbol": "circle"
         },
         "mode": "markers",
         "name": "IAD",
         "orientation": "v",
         "showlegend": true,
         "type": "scatter",
         "x": [
          122
         ],
         "xaxis": "x",
         "y": [
          23.352459016393443
         ],
         "yaxis": "y"
        },
        {
         "hovertemplate": "color=IAG<br>x=%{x}<br>y=%{y}<extra></extra>",
         "legendgroup": "IAG",
         "marker": {
          "color": "#FECB52",
          "symbol": "circle"
         },
         "mode": "markers",
         "name": "IAG",
         "orientation": "v",
         "showlegend": true,
         "type": "scatter",
         "x": [
          1
         ],
         "xaxis": "x",
         "y": [
          11
         ],
         "yaxis": "y"
        },
        {
         "hovertemplate": "color=IAH<br>x=%{x}<br>y=%{y}<extra></extra>",
         "legendgroup": "IAH",
         "marker": {
          "color": "#636efa",
          "symbol": "circle"
         },
         "mode": "markers",
         "name": "IAH",
         "orientation": "v",
         "showlegend": true,
         "type": "scatter",
         "x": [
          215
         ],
         "xaxis": "x",
         "y": [
          20.251162790697673
         ],
         "yaxis": "y"
        },
        {
         "hovertemplate": "color=ICT<br>x=%{x}<br>y=%{y}<extra></extra>",
         "legendgroup": "ICT",
         "marker": {
          "color": "#EF553B",
          "symbol": "circle"
         },
         "mode": "markers",
         "name": "ICT",
         "orientation": "v",
         "showlegend": true,
         "type": "scatter",
         "x": [
          14
         ],
         "xaxis": "x",
         "y": [
          16.357142857142858
         ],
         "yaxis": "y"
        },
        {
         "hovertemplate": "color=IDA<br>x=%{x}<br>y=%{y}<extra></extra>",
         "legendgroup": "IDA",
         "marker": {
          "color": "#00cc96",
          "symbol": "circle"
         },
         "mode": "markers",
         "name": "IDA",
         "orientation": "v",
         "showlegend": true,
         "type": "scatter",
         "x": [
          6
         ],
         "xaxis": "x",
         "y": [
          11.5
         ],
         "yaxis": "y"
        },
        {
         "hovertemplate": "color=ILM<br>x=%{x}<br>y=%{y}<extra></extra>",
         "legendgroup": "ILM",
         "marker": {
          "color": "#ab63fa",
          "symbol": "circle"
         },
         "mode": "markers",
         "name": "ILM",
         "orientation": "v",
         "showlegend": true,
         "type": "scatter",
         "x": [
          13
         ],
         "xaxis": "x",
         "y": [
          15.153846153846153
         ],
         "yaxis": "y"
        },
        {
         "hovertemplate": "color=IMT<br>x=%{x}<br>y=%{y}<extra></extra>",
         "legendgroup": "IMT",
         "marker": {
          "color": "#FFA15A",
          "symbol": "circle"
         },
         "mode": "markers",
         "name": "IMT",
         "orientation": "v",
         "showlegend": true,
         "type": "scatter",
         "x": [
          1
         ],
         "xaxis": "x",
         "y": [
          11
         ],
         "yaxis": "y"
        },
        {
         "hovertemplate": "color=IND<br>x=%{x}<br>y=%{y}<extra></extra>",
         "legendgroup": "IND",
         "marker": {
          "color": "#19d3f3",
          "symbol": "circle"
         },
         "mode": "markers",
         "name": "IND",
         "orientation": "v",
         "showlegend": true,
         "type": "scatter",
         "x": [
          55
         ],
         "xaxis": "x",
         "y": [
          13.945454545454545
         ],
         "yaxis": "y"
        },
        {
         "hovertemplate": "color=INL<br>x=%{x}<br>y=%{y}<extra></extra>",
         "legendgroup": "INL",
         "marker": {
          "color": "#FF6692",
          "symbol": "circle"
         },
         "mode": "markers",
         "name": "INL",
         "orientation": "v",
         "showlegend": true,
         "type": "scatter",
         "x": [
          2
         ],
         "xaxis": "x",
         "y": [
          24
         ],
         "yaxis": "y"
        },
        {
         "hovertemplate": "color=IPT<br>x=%{x}<br>y=%{y}<extra></extra>",
         "legendgroup": "IPT",
         "marker": {
          "color": "#B6E880",
          "symbol": "circle"
         },
         "mode": "markers",
         "name": "IPT",
         "orientation": "v",
         "showlegend": true,
         "type": "scatter",
         "x": [
          1
         ],
         "xaxis": "x",
         "y": [
          8
         ],
         "yaxis": "y"
        },
        {
         "hovertemplate": "color=ISN<br>x=%{x}<br>y=%{y}<extra></extra>",
         "legendgroup": "ISN",
         "marker": {
          "color": "#FF97FF",
          "symbol": "circle"
         },
         "mode": "markers",
         "name": "ISN",
         "orientation": "v",
         "showlegend": true,
         "type": "scatter",
         "x": [
          4
         ],
         "xaxis": "x",
         "y": [
          18.75
         ],
         "yaxis": "y"
        },
        {
         "hovertemplate": "color=ISP<br>x=%{x}<br>y=%{y}<extra></extra>",
         "legendgroup": "ISP",
         "marker": {
          "color": "#FECB52",
          "symbol": "circle"
         },
         "mode": "markers",
         "name": "ISP",
         "orientation": "v",
         "showlegend": true,
         "type": "scatter",
         "x": [
          12
         ],
         "xaxis": "x",
         "y": [
          11.666666666666666
         ],
         "yaxis": "y"
        },
        {
         "hovertemplate": "color=ITH<br>x=%{x}<br>y=%{y}<extra></extra>",
         "legendgroup": "ITH",
         "marker": {
          "color": "#636efa",
          "symbol": "circle"
         },
         "mode": "markers",
         "name": "ITH",
         "orientation": "v",
         "showlegend": true,
         "type": "scatter",
         "x": [
          4
         ],
         "xaxis": "x",
         "y": [
          27.75
         ],
         "yaxis": "y"
        },
        {
         "hovertemplate": "color=ITO<br>x=%{x}<br>y=%{y}<extra></extra>",
         "legendgroup": "ITO",
         "marker": {
          "color": "#EF553B",
          "symbol": "circle"
         },
         "mode": "markers",
         "name": "ITO",
         "orientation": "v",
         "showlegend": true,
         "type": "scatter",
         "x": [
          8
         ],
         "xaxis": "x",
         "y": [
          8.625
         ],
         "yaxis": "y"
        },
        {
         "hovertemplate": "color=JAC<br>x=%{x}<br>y=%{y}<extra></extra>",
         "legendgroup": "JAC",
         "marker": {
          "color": "#00cc96",
          "symbol": "circle"
         },
         "mode": "markers",
         "name": "JAC",
         "orientation": "v",
         "showlegend": true,
         "type": "scatter",
         "x": [
          12
         ],
         "xaxis": "x",
         "y": [
          17.083333333333332
         ],
         "yaxis": "y"
        },
        {
         "hovertemplate": "color=JAN<br>x=%{x}<br>y=%{y}<extra></extra>",
         "legendgroup": "JAN",
         "marker": {
          "color": "#ab63fa",
          "symbol": "circle"
         },
         "mode": "markers",
         "name": "JAN",
         "orientation": "v",
         "showlegend": true,
         "type": "scatter",
         "x": [
          7
         ],
         "xaxis": "x",
         "y": [
          14.285714285714286
         ],
         "yaxis": "y"
        },
        {
         "hovertemplate": "color=JAX<br>x=%{x}<br>y=%{y}<extra></extra>",
         "legendgroup": "JAX",
         "marker": {
          "color": "#FFA15A",
          "symbol": "circle"
         },
         "mode": "markers",
         "name": "JAX",
         "orientation": "v",
         "showlegend": true,
         "type": "scatter",
         "x": [
          37
         ],
         "xaxis": "x",
         "y": [
          13
         ],
         "yaxis": "y"
        },
        {
         "hovertemplate": "color=JFK<br>x=%{x}<br>y=%{y}<extra></extra>",
         "legendgroup": "JFK",
         "marker": {
          "color": "#19d3f3",
          "symbol": "circle"
         },
         "mode": "markers",
         "name": "JFK",
         "orientation": "v",
         "showlegend": true,
         "type": "scatter",
         "x": [
          149
         ],
         "xaxis": "x",
         "y": [
          28.375838926174495
         ],
         "yaxis": "y"
        },
        {
         "hovertemplate": "color=JNU<br>x=%{x}<br>y=%{y}<extra></extra>",
         "legendgroup": "JNU",
         "marker": {
          "color": "#FF6692",
          "symbol": "circle"
         },
         "mode": "markers",
         "name": "JNU",
         "orientation": "v",
         "showlegend": true,
         "type": "scatter",
         "x": [
          3
         ],
         "xaxis": "x",
         "y": [
          14.666666666666666
         ],
         "yaxis": "y"
        },
        {
         "hovertemplate": "color=KOA<br>x=%{x}<br>y=%{y}<extra></extra>",
         "legendgroup": "KOA",
         "marker": {
          "color": "#B6E880",
          "symbol": "circle"
         },
         "mode": "markers",
         "name": "KOA",
         "orientation": "v",
         "showlegend": true,
         "type": "scatter",
         "x": [
          23
         ],
         "xaxis": "x",
         "y": [
          12.608695652173912
         ],
         "yaxis": "y"
        },
        {
         "hovertemplate": "color=KTN<br>x=%{x}<br>y=%{y}<extra></extra>",
         "legendgroup": "KTN",
         "marker": {
          "color": "#FF97FF",
          "symbol": "circle"
         },
         "mode": "markers",
         "name": "KTN",
         "orientation": "v",
         "showlegend": true,
         "type": "scatter",
         "x": [
          4
         ],
         "xaxis": "x",
         "y": [
          18.25
         ],
         "yaxis": "y"
        },
        {
         "hovertemplate": "color=LAN<br>x=%{x}<br>y=%{y}<extra></extra>",
         "legendgroup": "LAN",
         "marker": {
          "color": "#FECB52",
          "symbol": "circle"
         },
         "mode": "markers",
         "name": "LAN",
         "orientation": "v",
         "showlegend": true,
         "type": "scatter",
         "x": [
          2
         ],
         "xaxis": "x",
         "y": [
          11
         ],
         "yaxis": "y"
        },
        {
         "hovertemplate": "color=LAR<br>x=%{x}<br>y=%{y}<extra></extra>",
         "legendgroup": "LAR",
         "marker": {
          "color": "#636efa",
          "symbol": "circle"
         },
         "mode": "markers",
         "name": "LAR",
         "orientation": "v",
         "showlegend": true,
         "type": "scatter",
         "x": [
          1
         ],
         "xaxis": "x",
         "y": [
          18
         ],
         "yaxis": "y"
        },
        {
         "hovertemplate": "color=LAS<br>x=%{x}<br>y=%{y}<extra></extra>",
         "legendgroup": "LAS",
         "marker": {
          "color": "#EF553B",
          "symbol": "circle"
         },
         "mode": "markers",
         "name": "LAS",
         "orientation": "v",
         "showlegend": true,
         "type": "scatter",
         "x": [
          194
         ],
         "xaxis": "x",
         "y": [
          15.974226804123711
         ],
         "yaxis": "y"
        },
        {
         "hovertemplate": "color=LAX<br>x=%{x}<br>y=%{y}<extra></extra>",
         "legendgroup": "LAX",
         "marker": {
          "color": "#00cc96",
          "symbol": "circle"
         },
         "mode": "markers",
         "name": "LAX",
         "orientation": "v",
         "showlegend": true,
         "type": "scatter",
         "x": [
          350
         ],
         "xaxis": "x",
         "y": [
          17.411428571428573
         ],
         "yaxis": "y"
        },
        {
         "hovertemplate": "color=LBB<br>x=%{x}<br>y=%{y}<extra></extra>",
         "legendgroup": "LBB",
         "marker": {
          "color": "#ab63fa",
          "symbol": "circle"
         },
         "mode": "markers",
         "name": "LBB",
         "orientation": "v",
         "showlegend": true,
         "type": "scatter",
         "x": [
          14
         ],
         "xaxis": "x",
         "y": [
          13.857142857142858
         ],
         "yaxis": "y"
        },
        {
         "hovertemplate": "color=LBE<br>x=%{x}<br>y=%{y}<extra></extra>",
         "legendgroup": "LBE",
         "marker": {
          "color": "#FFA15A",
          "symbol": "circle"
         },
         "mode": "markers",
         "name": "LBE",
         "orientation": "v",
         "showlegend": true,
         "type": "scatter",
         "x": [
          2
         ],
         "xaxis": "x",
         "y": [
          10.5
         ],
         "yaxis": "y"
        },
        {
         "hovertemplate": "color=LBF<br>x=%{x}<br>y=%{y}<extra></extra>",
         "legendgroup": "LBF",
         "marker": {
          "color": "#19d3f3",
          "symbol": "circle"
         },
         "mode": "markers",
         "name": "LBF",
         "orientation": "v",
         "showlegend": true,
         "type": "scatter",
         "x": [
          3
         ],
         "xaxis": "x",
         "y": [
          10.333333333333334
         ],
         "yaxis": "y"
        },
        {
         "hovertemplate": "color=LBL<br>x=%{x}<br>y=%{y}<extra></extra>",
         "legendgroup": "LBL",
         "marker": {
          "color": "#FF6692",
          "symbol": "circle"
         },
         "mode": "markers",
         "name": "LBL",
         "orientation": "v",
         "showlegend": true,
         "type": "scatter",
         "x": [
          1
         ],
         "xaxis": "x",
         "y": [
          5
         ],
         "yaxis": "y"
        },
        {
         "hovertemplate": "color=LCH<br>x=%{x}<br>y=%{y}<extra></extra>",
         "legendgroup": "LCH",
         "marker": {
          "color": "#B6E880",
          "symbol": "circle"
         },
         "mode": "markers",
         "name": "LCH",
         "orientation": "v",
         "showlegend": true,
         "type": "scatter",
         "x": [
          2
         ],
         "xaxis": "x",
         "y": [
          6.5
         ],
         "yaxis": "y"
        },
        {
         "hovertemplate": "color=LEX<br>x=%{x}<br>y=%{y}<extra></extra>",
         "legendgroup": "LEX",
         "marker": {
          "color": "#FF97FF",
          "symbol": "circle"
         },
         "mode": "markers",
         "name": "LEX",
         "orientation": "v",
         "showlegend": true,
         "type": "scatter",
         "x": [
          22
         ],
         "xaxis": "x",
         "y": [
          15.727272727272727
         ],
         "yaxis": "y"
        },
        {
         "hovertemplate": "color=LFT<br>x=%{x}<br>y=%{y}<extra></extra>",
         "legendgroup": "LFT",
         "marker": {
          "color": "#FECB52",
          "symbol": "circle"
         },
         "mode": "markers",
         "name": "LFT",
         "orientation": "v",
         "showlegend": true,
         "type": "scatter",
         "x": [
          6
         ],
         "xaxis": "x",
         "y": [
          12.5
         ],
         "yaxis": "y"
        },
        {
         "hovertemplate": "color=LGA<br>x=%{x}<br>y=%{y}<extra></extra>",
         "legendgroup": "LGA",
         "marker": {
          "color": "#636efa",
          "symbol": "circle"
         },
         "mode": "markers",
         "name": "LGA",
         "orientation": "v",
         "showlegend": true,
         "type": "scatter",
         "x": [
          228
         ],
         "xaxis": "x",
         "y": [
          26.719298245614034
         ],
         "yaxis": "y"
        },
        {
         "hovertemplate": "color=LGB<br>x=%{x}<br>y=%{y}<extra></extra>",
         "legendgroup": "LGB",
         "marker": {
          "color": "#EF553B",
          "symbol": "circle"
         },
         "mode": "markers",
         "name": "LGB",
         "orientation": "v",
         "showlegend": true,
         "type": "scatter",
         "x": [
          21
         ],
         "xaxis": "x",
         "y": [
          13.666666666666666
         ],
         "yaxis": "y"
        },
        {
         "hovertemplate": "color=LIH<br>x=%{x}<br>y=%{y}<extra></extra>",
         "legendgroup": "LIH",
         "marker": {
          "color": "#00cc96",
          "symbol": "circle"
         },
         "mode": "markers",
         "name": "LIH",
         "orientation": "v",
         "showlegend": true,
         "type": "scatter",
         "x": [
          19
         ],
         "xaxis": "x",
         "y": [
          10.68421052631579
         ],
         "yaxis": "y"
        },
        {
         "hovertemplate": "color=LIT<br>x=%{x}<br>y=%{y}<extra></extra>",
         "legendgroup": "LIT",
         "marker": {
          "color": "#ab63fa",
          "symbol": "circle"
         },
         "mode": "markers",
         "name": "LIT",
         "orientation": "v",
         "showlegend": true,
         "type": "scatter",
         "x": [
          12
         ],
         "xaxis": "x",
         "y": [
          19.666666666666668
         ],
         "yaxis": "y"
        },
        {
         "hovertemplate": "color=LNK<br>x=%{x}<br>y=%{y}<extra></extra>",
         "legendgroup": "LNK",
         "marker": {
          "color": "#FFA15A",
          "symbol": "circle"
         },
         "mode": "markers",
         "name": "LNK",
         "orientation": "v",
         "showlegend": true,
         "type": "scatter",
         "x": [
          3
         ],
         "xaxis": "x",
         "y": [
          12.333333333333334
         ],
         "yaxis": "y"
        },
        {
         "hovertemplate": "color=LRD<br>x=%{x}<br>y=%{y}<extra></extra>",
         "legendgroup": "LRD",
         "marker": {
          "color": "#19d3f3",
          "symbol": "circle"
         },
         "mode": "markers",
         "name": "LRD",
         "orientation": "v",
         "showlegend": true,
         "type": "scatter",
         "x": [
          4
         ],
         "xaxis": "x",
         "y": [
          13
         ],
         "yaxis": "y"
        },
        {
         "hovertemplate": "color=LSE<br>x=%{x}<br>y=%{y}<extra></extra>",
         "legendgroup": "LSE",
         "marker": {
          "color": "#FF6692",
          "symbol": "circle"
         },
         "mode": "markers",
         "name": "LSE",
         "orientation": "v",
         "showlegend": true,
         "type": "scatter",
         "x": [
          4
         ],
         "xaxis": "x",
         "y": [
          20.5
         ],
         "yaxis": "y"
        },
        {
         "hovertemplate": "color=LWS<br>x=%{x}<br>y=%{y}<extra></extra>",
         "legendgroup": "LWS",
         "marker": {
          "color": "#B6E880",
          "symbol": "circle"
         },
         "mode": "markers",
         "name": "LWS",
         "orientation": "v",
         "showlegend": true,
         "type": "scatter",
         "x": [
          3
         ],
         "xaxis": "x",
         "y": [
          10.333333333333334
         ],
         "yaxis": "y"
        },
        {
         "hovertemplate": "color=LYH<br>x=%{x}<br>y=%{y}<extra></extra>",
         "legendgroup": "LYH",
         "marker": {
          "color": "#FF97FF",
          "symbol": "circle"
         },
         "mode": "markers",
         "name": "LYH",
         "orientation": "v",
         "showlegend": true,
         "type": "scatter",
         "x": [
          3
         ],
         "xaxis": "x",
         "y": [
          23.666666666666668
         ],
         "yaxis": "y"
        },
        {
         "hovertemplate": "color=MAF<br>x=%{x}<br>y=%{y}<extra></extra>",
         "legendgroup": "MAF",
         "marker": {
          "color": "#FECB52",
          "symbol": "circle"
         },
         "mode": "markers",
         "name": "MAF",
         "orientation": "v",
         "showlegend": true,
         "type": "scatter",
         "x": [
          12
         ],
         "xaxis": "x",
         "y": [
          16.25
         ],
         "yaxis": "y"
        },
        {
         "hovertemplate": "color=MBS<br>x=%{x}<br>y=%{y}<extra></extra>",
         "legendgroup": "MBS",
         "marker": {
          "color": "#636efa",
          "symbol": "circle"
         },
         "mode": "markers",
         "name": "MBS",
         "orientation": "v",
         "showlegend": true,
         "type": "scatter",
         "x": [
          3
         ],
         "xaxis": "x",
         "y": [
          17.333333333333332
         ],
         "yaxis": "y"
        },
        {
         "hovertemplate": "color=MCI<br>x=%{x}<br>y=%{y}<extra></extra>",
         "legendgroup": "MCI",
         "marker": {
          "color": "#EF553B",
          "symbol": "circle"
         },
         "mode": "markers",
         "name": "MCI",
         "orientation": "v",
         "showlegend": true,
         "type": "scatter",
         "x": [
          70
         ],
         "xaxis": "x",
         "y": [
          12.2
         ],
         "yaxis": "y"
        },
        {
         "hovertemplate": "color=MCO<br>x=%{x}<br>y=%{y}<extra></extra>",
         "legendgroup": "MCO",
         "marker": {
          "color": "#00cc96",
          "symbol": "circle"
         },
         "mode": "markers",
         "name": "MCO",
         "orientation": "v",
         "showlegend": true,
         "type": "scatter",
         "x": [
          198
         ],
         "xaxis": "x",
         "y": [
          15.969696969696969
         ],
         "yaxis": "y"
        },
        {
         "hovertemplate": "color=MDT<br>x=%{x}<br>y=%{y}<extra></extra>",
         "legendgroup": "MDT",
         "marker": {
          "color": "#ab63fa",
          "symbol": "circle"
         },
         "mode": "markers",
         "name": "MDT",
         "orientation": "v",
         "showlegend": true,
         "type": "scatter",
         "x": [
          13
         ],
         "xaxis": "x",
         "y": [
          14.461538461538462
         ],
         "yaxis": "y"
        },
        {
         "hovertemplate": "color=MDW<br>x=%{x}<br>y=%{y}<extra></extra>",
         "legendgroup": "MDW",
         "marker": {
          "color": "#FFA15A",
          "symbol": "circle"
         },
         "mode": "markers",
         "name": "MDW",
         "orientation": "v",
         "showlegend": true,
         "type": "scatter",
         "x": [
          109
         ],
         "xaxis": "x",
         "y": [
          12.477064220183486
         ],
         "yaxis": "y"
        },
        {
         "hovertemplate": "color=MEM<br>x=%{x}<br>y=%{y}<extra></extra>",
         "legendgroup": "MEM",
         "marker": {
          "color": "#19d3f3",
          "symbol": "circle"
         },
         "mode": "markers",
         "name": "MEM",
         "orientation": "v",
         "showlegend": true,
         "type": "scatter",
         "x": [
          20
         ],
         "xaxis": "x",
         "y": [
          13.95
         ],
         "yaxis": "y"
        },
        {
         "hovertemplate": "color=MFE<br>x=%{x}<br>y=%{y}<extra></extra>",
         "legendgroup": "MFE",
         "marker": {
          "color": "#FF6692",
          "symbol": "circle"
         },
         "mode": "markers",
         "name": "MFE",
         "orientation": "v",
         "showlegend": true,
         "type": "scatter",
         "x": [
          5
         ],
         "xaxis": "x",
         "y": [
          11
         ],
         "yaxis": "y"
        },
        {
         "hovertemplate": "color=MFR<br>x=%{x}<br>y=%{y}<extra></extra>",
         "legendgroup": "MFR",
         "marker": {
          "color": "#B6E880",
          "symbol": "circle"
         },
         "mode": "markers",
         "name": "MFR",
         "orientation": "v",
         "showlegend": true,
         "type": "scatter",
         "x": [
          11
         ],
         "xaxis": "x",
         "y": [
          15
         ],
         "yaxis": "y"
        },
        {
         "hovertemplate": "color=MGM<br>x=%{x}<br>y=%{y}<extra></extra>",
         "legendgroup": "MGM",
         "marker": {
          "color": "#FF97FF",
          "symbol": "circle"
         },
         "mode": "markers",
         "name": "MGM",
         "orientation": "v",
         "showlegend": true,
         "type": "scatter",
         "x": [
          4
         ],
         "xaxis": "x",
         "y": [
          13.5
         ],
         "yaxis": "y"
        },
        {
         "hovertemplate": "color=MHK<br>x=%{x}<br>y=%{y}<extra></extra>",
         "legendgroup": "MHK",
         "marker": {
          "color": "#FECB52",
          "symbol": "circle"
         },
         "mode": "markers",
         "name": "MHK",
         "orientation": "v",
         "showlegend": true,
         "type": "scatter",
         "x": [
          3
         ],
         "xaxis": "x",
         "y": [
          14.666666666666666
         ],
         "yaxis": "y"
        },
        {
         "hovertemplate": "color=MHT<br>x=%{x}<br>y=%{y}<extra></extra>",
         "legendgroup": "MHT",
         "marker": {
          "color": "#636efa",
          "symbol": "circle"
         },
         "mode": "markers",
         "name": "MHT",
         "orientation": "v",
         "showlegend": true,
         "type": "scatter",
         "x": [
          15
         ],
         "xaxis": "x",
         "y": [
          12.866666666666667
         ],
         "yaxis": "y"
        },
        {
         "hovertemplate": "color=MIA<br>x=%{x}<br>y=%{y}<extra></extra>",
         "legendgroup": "MIA",
         "marker": {
          "color": "#EF553B",
          "symbol": "circle"
         },
         "mode": "markers",
         "name": "MIA",
         "orientation": "v",
         "showlegend": true,
         "type": "scatter",
         "x": [
          114
         ],
         "xaxis": "x",
         "y": [
          19.00877192982456
         ],
         "yaxis": "y"
        },
        {
         "hovertemplate": "color=MKE<br>x=%{x}<br>y=%{y}<extra></extra>",
         "legendgroup": "MKE",
         "marker": {
          "color": "#00cc96",
          "symbol": "circle"
         },
         "mode": "markers",
         "name": "MKE",
         "orientation": "v",
         "showlegend": true,
         "type": "scatter",
         "x": [
          50
         ],
         "xaxis": "x",
         "y": [
          13.56
         ],
         "yaxis": "y"
        },
        {
         "hovertemplate": "color=MLB<br>x=%{x}<br>y=%{y}<extra></extra>",
         "legendgroup": "MLB",
         "marker": {
          "color": "#ab63fa",
          "symbol": "circle"
         },
         "mode": "markers",
         "name": "MLB",
         "orientation": "v",
         "showlegend": true,
         "type": "scatter",
         "x": [
          4
         ],
         "xaxis": "x",
         "y": [
          15.5
         ],
         "yaxis": "y"
        },
        {
         "hovertemplate": "color=MLI<br>x=%{x}<br>y=%{y}<extra></extra>",
         "legendgroup": "MLI",
         "marker": {
          "color": "#FFA15A",
          "symbol": "circle"
         },
         "mode": "markers",
         "name": "MLI",
         "orientation": "v",
         "showlegend": true,
         "type": "scatter",
         "x": [
          8
         ],
         "xaxis": "x",
         "y": [
          14
         ],
         "yaxis": "y"
        },
        {
         "hovertemplate": "color=MLU<br>x=%{x}<br>y=%{y}<extra></extra>",
         "legendgroup": "MLU",
         "marker": {
          "color": "#19d3f3",
          "symbol": "circle"
         },
         "mode": "markers",
         "name": "MLU",
         "orientation": "v",
         "showlegend": true,
         "type": "scatter",
         "x": [
          4
         ],
         "xaxis": "x",
         "y": [
          15.25
         ],
         "yaxis": "y"
        },
        {
         "hovertemplate": "color=MMH<br>x=%{x}<br>y=%{y}<extra></extra>",
         "legendgroup": "MMH",
         "marker": {
          "color": "#FF6692",
          "symbol": "circle"
         },
         "mode": "markers",
         "name": "MMH",
         "orientation": "v",
         "showlegend": true,
         "type": "scatter",
         "x": [
          1
         ],
         "xaxis": "x",
         "y": [
          6
         ],
         "yaxis": "y"
        },
        {
         "hovertemplate": "color=MOB<br>x=%{x}<br>y=%{y}<extra></extra>",
         "legendgroup": "MOB",
         "marker": {
          "color": "#B6E880",
          "symbol": "circle"
         },
         "mode": "markers",
         "name": "MOB",
         "orientation": "v",
         "showlegend": true,
         "type": "scatter",
         "x": [
          7
         ],
         "xaxis": "x",
         "y": [
          15.571428571428571
         ],
         "yaxis": "y"
        },
        {
         "hovertemplate": "color=MOT<br>x=%{x}<br>y=%{y}<extra></extra>",
         "legendgroup": "MOT",
         "marker": {
          "color": "#FF97FF",
          "symbol": "circle"
         },
         "mode": "markers",
         "name": "MOT",
         "orientation": "v",
         "showlegend": true,
         "type": "scatter",
         "x": [
          1
         ],
         "xaxis": "x",
         "y": [
          12
         ],
         "yaxis": "y"
        },
        {
         "hovertemplate": "color=MQT<br>x=%{x}<br>y=%{y}<extra></extra>",
         "legendgroup": "MQT",
         "marker": {
          "color": "#FECB52",
          "symbol": "circle"
         },
         "mode": "markers",
         "name": "MQT",
         "orientation": "v",
         "showlegend": true,
         "type": "scatter",
         "x": [
          2
         ],
         "xaxis": "x",
         "y": [
          11.5
         ],
         "yaxis": "y"
        },
        {
         "hovertemplate": "color=MRY<br>x=%{x}<br>y=%{y}<extra></extra>",
         "legendgroup": "MRY",
         "marker": {
          "color": "#636efa",
          "symbol": "circle"
         },
         "mode": "markers",
         "name": "MRY",
         "orientation": "v",
         "showlegend": true,
         "type": "scatter",
         "x": [
          2
         ],
         "xaxis": "x",
         "y": [
          10.5
         ],
         "yaxis": "y"
        },
        {
         "hovertemplate": "color=MSN<br>x=%{x}<br>y=%{y}<extra></extra>",
         "legendgroup": "MSN",
         "marker": {
          "color": "#EF553B",
          "symbol": "circle"
         },
         "mode": "markers",
         "name": "MSN",
         "orientation": "v",
         "showlegend": true,
         "type": "scatter",
         "x": [
          21
         ],
         "xaxis": "x",
         "y": [
          13.714285714285714
         ],
         "yaxis": "y"
        },
        {
         "hovertemplate": "color=MSO<br>x=%{x}<br>y=%{y}<extra></extra>",
         "legendgroup": "MSO",
         "marker": {
          "color": "#00cc96",
          "symbol": "circle"
         },
         "mode": "markers",
         "name": "MSO",
         "orientation": "v",
         "showlegend": true,
         "type": "scatter",
         "x": [
          9
         ],
         "xaxis": "x",
         "y": [
          11.444444444444445
         ],
         "yaxis": "y"
        },
        {
         "hovertemplate": "color=MSP<br>x=%{x}<br>y=%{y}<extra></extra>",
         "legendgroup": "MSP",
         "marker": {
          "color": "#ab63fa",
          "symbol": "circle"
         },
         "mode": "markers",
         "name": "MSP",
         "orientation": "v",
         "showlegend": true,
         "type": "scatter",
         "x": [
          208
         ],
         "xaxis": "x",
         "y": [
          19.35096153846154
         ],
         "yaxis": "y"
        },
        {
         "hovertemplate": "color=MSY<br>x=%{x}<br>y=%{y}<extra></extra>",
         "legendgroup": "MSY",
         "marker": {
          "color": "#FFA15A",
          "symbol": "circle"
         },
         "mode": "markers",
         "name": "MSY",
         "orientation": "v",
         "showlegend": true,
         "type": "scatter",
         "x": [
          67
         ],
         "xaxis": "x",
         "y": [
          12.029850746268657
         ],
         "yaxis": "y"
        },
        {
         "hovertemplate": "color=MTJ<br>x=%{x}<br>y=%{y}<extra></extra>",
         "legendgroup": "MTJ",
         "marker": {
          "color": "#19d3f3",
          "symbol": "circle"
         },
         "mode": "markers",
         "name": "MTJ",
         "orientation": "v",
         "showlegend": true,
         "type": "scatter",
         "x": [
          4
         ],
         "xaxis": "x",
         "y": [
          15.75
         ],
         "yaxis": "y"
        },
        {
         "hovertemplate": "color=MYR<br>x=%{x}<br>y=%{y}<extra></extra>",
         "legendgroup": "MYR",
         "marker": {
          "color": "#FF6692",
          "symbol": "circle"
         },
         "mode": "markers",
         "name": "MYR",
         "orientation": "v",
         "showlegend": true,
         "type": "scatter",
         "x": [
          9
         ],
         "xaxis": "x",
         "y": [
          10.88888888888889
         ],
         "yaxis": "y"
        },
        {
         "hovertemplate": "color=OAJ<br>x=%{x}<br>y=%{y}<extra></extra>",
         "legendgroup": "OAJ",
         "marker": {
          "color": "#B6E880",
          "symbol": "circle"
         },
         "mode": "markers",
         "name": "OAJ",
         "orientation": "v",
         "showlegend": true,
         "type": "scatter",
         "x": [
          6
         ],
         "xaxis": "x",
         "y": [
          14.5
         ],
         "yaxis": "y"
        },
        {
         "hovertemplate": "color=OAK<br>x=%{x}<br>y=%{y}<extra></extra>",
         "legendgroup": "OAK",
         "marker": {
          "color": "#FF97FF",
          "symbol": "circle"
         },
         "mode": "markers",
         "name": "OAK",
         "orientation": "v",
         "showlegend": true,
         "type": "scatter",
         "x": [
          69
         ],
         "xaxis": "x",
         "y": [
          13.594202898550725
         ],
         "yaxis": "y"
        },
        {
         "hovertemplate": "color=OGG<br>x=%{x}<br>y=%{y}<extra></extra>",
         "legendgroup": "OGG",
         "marker": {
          "color": "#FECB52",
          "symbol": "circle"
         },
         "mode": "markers",
         "name": "OGG",
         "orientation": "v",
         "showlegend": true,
         "type": "scatter",
         "x": [
          40
         ],
         "xaxis": "x",
         "y": [
          10.625
         ],
         "yaxis": "y"
        },
        {
         "hovertemplate": "color=OKC<br>x=%{x}<br>y=%{y}<extra></extra>",
         "legendgroup": "OKC",
         "marker": {
          "color": "#636efa",
          "symbol": "circle"
         },
         "mode": "markers",
         "name": "OKC",
         "orientation": "v",
         "showlegend": true,
         "type": "scatter",
         "x": [
          27
         ],
         "xaxis": "x",
         "y": [
          14.185185185185185
         ],
         "yaxis": "y"
        },
        {
         "hovertemplate": "color=OMA<br>x=%{x}<br>y=%{y}<extra></extra>",
         "legendgroup": "OMA",
         "marker": {
          "color": "#EF553B",
          "symbol": "circle"
         },
         "mode": "markers",
         "name": "OMA",
         "orientation": "v",
         "showlegend": true,
         "type": "scatter",
         "x": [
          30
         ],
         "xaxis": "x",
         "y": [
          20
         ],
         "yaxis": "y"
        },
        {
         "hovertemplate": "color=OME<br>x=%{x}<br>y=%{y}<extra></extra>",
         "legendgroup": "OME",
         "marker": {
          "color": "#00cc96",
          "symbol": "circle"
         },
         "mode": "markers",
         "name": "OME",
         "orientation": "v",
         "showlegend": true,
         "type": "scatter",
         "x": [
          2
         ],
         "xaxis": "x",
         "y": [
          6
         ],
         "yaxis": "y"
        },
        {
         "hovertemplate": "color=ONT<br>x=%{x}<br>y=%{y}<extra></extra>",
         "legendgroup": "ONT",
         "marker": {
          "color": "#ab63fa",
          "symbol": "circle"
         },
         "mode": "markers",
         "name": "ONT",
         "orientation": "v",
         "showlegend": true,
         "type": "scatter",
         "x": [
          31
         ],
         "xaxis": "x",
         "y": [
          10.096774193548388
         ],
         "yaxis": "y"
        },
        {
         "hovertemplate": "color=ORD<br>x=%{x}<br>y=%{y}<extra></extra>",
         "legendgroup": "ORD",
         "marker": {
          "color": "#FFA15A",
          "symbol": "circle"
         },
         "mode": "markers",
         "name": "ORD",
         "orientation": "v",
         "showlegend": true,
         "type": "scatter",
         "x": [
          479
         ],
         "xaxis": "x",
         "y": [
          22.60751565762004
         ],
         "yaxis": "y"
        },
        {
         "hovertemplate": "color=ORF<br>x=%{x}<br>y=%{y}<extra></extra>",
         "legendgroup": "ORF",
         "marker": {
          "color": "#19d3f3",
          "symbol": "circle"
         },
         "mode": "markers",
         "name": "ORF",
         "orientation": "v",
         "showlegend": true,
         "type": "scatter",
         "x": [
          29
         ],
         "xaxis": "x",
         "y": [
          16.586206896551722
         ],
         "yaxis": "y"
        },
        {
         "hovertemplate": "color=ORH<br>x=%{x}<br>y=%{y}<extra></extra>",
         "legendgroup": "ORH",
         "marker": {
          "color": "#FF6692",
          "symbol": "circle"
         },
         "mode": "markers",
         "name": "ORH",
         "orientation": "v",
         "showlegend": true,
         "type": "scatter",
         "x": [
          2
         ],
         "xaxis": "x",
         "y": [
          21.5
         ],
         "yaxis": "y"
        },
        {
         "hovertemplate": "color=PAE<br>x=%{x}<br>y=%{y}<extra></extra>",
         "legendgroup": "PAE",
         "marker": {
          "color": "#B6E880",
          "symbol": "circle"
         },
         "mode": "markers",
         "name": "PAE",
         "orientation": "v",
         "showlegend": true,
         "type": "scatter",
         "x": [
          6
         ],
         "xaxis": "x",
         "y": [
          10.333333333333334
         ],
         "yaxis": "y"
        },
        {
         "hovertemplate": "color=PAH<br>x=%{x}<br>y=%{y}<extra></extra>",
         "legendgroup": "PAH",
         "marker": {
          "color": "#FF97FF",
          "symbol": "circle"
         },
         "mode": "markers",
         "name": "PAH",
         "orientation": "v",
         "showlegend": true,
         "type": "scatter",
         "x": [
          1
         ],
         "xaxis": "x",
         "y": [
          8
         ],
         "yaxis": "y"
        },
        {
         "hovertemplate": "color=PBI<br>x=%{x}<br>y=%{y}<extra></extra>",
         "legendgroup": "PBI",
         "marker": {
          "color": "#FECB52",
          "symbol": "circle"
         },
         "mode": "markers",
         "name": "PBI",
         "orientation": "v",
         "showlegend": true,
         "type": "scatter",
         "x": [
          21
         ],
         "xaxis": "x",
         "y": [
          14.428571428571429
         ],
         "yaxis": "y"
        },
        {
         "hovertemplate": "color=PDX<br>x=%{x}<br>y=%{y}<extra></extra>",
         "legendgroup": "PDX",
         "marker": {
          "color": "#636efa",
          "symbol": "circle"
         },
         "mode": "markers",
         "name": "PDX",
         "orientation": "v",
         "showlegend": true,
         "type": "scatter",
         "x": [
          106
         ],
         "xaxis": "x",
         "y": [
          12.858490566037736
         ],
         "yaxis": "y"
        },
        {
         "hovertemplate": "color=PGD<br>x=%{x}<br>y=%{y}<extra></extra>",
         "legendgroup": "PGD",
         "marker": {
          "color": "#EF553B",
          "symbol": "circle"
         },
         "mode": "markers",
         "name": "PGD",
         "orientation": "v",
         "showlegend": true,
         "type": "scatter",
         "x": [
          5
         ],
         "xaxis": "x",
         "y": [
          9.6
         ],
         "yaxis": "y"
        },
        {
         "hovertemplate": "color=PGV<br>x=%{x}<br>y=%{y}<extra></extra>",
         "legendgroup": "PGV",
         "marker": {
          "color": "#00cc96",
          "symbol": "circle"
         },
         "mode": "markers",
         "name": "PGV",
         "orientation": "v",
         "showlegend": true,
         "type": "scatter",
         "x": [
          4
         ],
         "xaxis": "x",
         "y": [
          11.25
         ],
         "yaxis": "y"
        },
        {
         "hovertemplate": "color=PHF<br>x=%{x}<br>y=%{y}<extra></extra>",
         "legendgroup": "PHF",
         "marker": {
          "color": "#ab63fa",
          "symbol": "circle"
         },
         "mode": "markers",
         "name": "PHF",
         "orientation": "v",
         "showlegend": true,
         "type": "scatter",
         "x": [
          2
         ],
         "xaxis": "x",
         "y": [
          11.5
         ],
         "yaxis": "y"
        },
        {
         "hovertemplate": "color=PHL<br>x=%{x}<br>y=%{y}<extra></extra>",
         "legendgroup": "PHL",
         "marker": {
          "color": "#FFA15A",
          "symbol": "circle"
         },
         "mode": "markers",
         "name": "PHL",
         "orientation": "v",
         "showlegend": true,
         "type": "scatter",
         "x": [
          170
         ],
         "xaxis": "x",
         "y": [
          22.076470588235296
         ],
         "yaxis": "y"
        },
        {
         "hovertemplate": "color=PHX<br>x=%{x}<br>y=%{y}<extra></extra>",
         "legendgroup": "PHX",
         "marker": {
          "color": "#19d3f3",
          "symbol": "circle"
         },
         "mode": "markers",
         "name": "PHX",
         "orientation": "v",
         "showlegend": true,
         "type": "scatter",
         "x": [
          212
         ],
         "xaxis": "x",
         "y": [
          14.764150943396226
         ],
         "yaxis": "y"
        },
        {
         "hovertemplate": "color=PIA<br>x=%{x}<br>y=%{y}<extra></extra>",
         "legendgroup": "PIA",
         "marker": {
          "color": "#FF6692",
          "symbol": "circle"
         },
         "mode": "markers",
         "name": "PIA",
         "orientation": "v",
         "showlegend": true,
         "type": "scatter",
         "x": [
          2
         ],
         "xaxis": "x",
         "y": [
          11.5
         ],
         "yaxis": "y"
        },
        {
         "hovertemplate": "color=PIB<br>x=%{x}<br>y=%{y}<extra></extra>",
         "legendgroup": "PIB",
         "marker": {
          "color": "#B6E880",
          "symbol": "circle"
         },
         "mode": "markers",
         "name": "PIB",
         "orientation": "v",
         "showlegend": true,
         "type": "scatter",
         "x": [
          2
         ],
         "xaxis": "x",
         "y": [
          19
         ],
         "yaxis": "y"
        },
        {
         "hovertemplate": "color=PIE<br>x=%{x}<br>y=%{y}<extra></extra>",
         "legendgroup": "PIE",
         "marker": {
          "color": "#FF97FF",
          "symbol": "circle"
         },
         "mode": "markers",
         "name": "PIE",
         "orientation": "v",
         "showlegend": true,
         "type": "scatter",
         "x": [
          11
         ],
         "xaxis": "x",
         "y": [
          11.454545454545455
         ],
         "yaxis": "y"
        },
        {
         "hovertemplate": "color=PIT<br>x=%{x}<br>y=%{y}<extra></extra>",
         "legendgroup": "PIT",
         "marker": {
          "color": "#FECB52",
          "symbol": "circle"
         },
         "mode": "markers",
         "name": "PIT",
         "orientation": "v",
         "showlegend": true,
         "type": "scatter",
         "x": [
          51
         ],
         "xaxis": "x",
         "y": [
          14.92156862745098
         ],
         "yaxis": "y"
        },
        {
         "hovertemplate": "color=PLN<br>x=%{x}<br>y=%{y}<extra></extra>",
         "legendgroup": "PLN",
         "marker": {
          "color": "#636efa",
          "symbol": "circle"
         },
         "mode": "markers",
         "name": "PLN",
         "orientation": "v",
         "showlegend": true,
         "type": "scatter",
         "x": [
          2
         ],
         "xaxis": "x",
         "y": [
          12
         ],
         "yaxis": "y"
        },
        {
         "hovertemplate": "color=PNS<br>x=%{x}<br>y=%{y}<extra></extra>",
         "legendgroup": "PNS",
         "marker": {
          "color": "#EF553B",
          "symbol": "circle"
         },
         "mode": "markers",
         "name": "PNS",
         "orientation": "v",
         "showlegend": true,
         "type": "scatter",
         "x": [
          15
         ],
         "xaxis": "x",
         "y": [
          15.066666666666666
         ],
         "yaxis": "y"
        },
        {
         "hovertemplate": "color=PQI<br>x=%{x}<br>y=%{y}<extra></extra>",
         "legendgroup": "PQI",
         "marker": {
          "color": "#00cc96",
          "symbol": "circle"
         },
         "mode": "markers",
         "name": "PQI",
         "orientation": "v",
         "showlegend": true,
         "type": "scatter",
         "x": [
          1
         ],
         "xaxis": "x",
         "y": [
          11
         ],
         "yaxis": "y"
        },
        {
         "hovertemplate": "color=PSC<br>x=%{x}<br>y=%{y}<extra></extra>",
         "legendgroup": "PSC",
         "marker": {
          "color": "#ab63fa",
          "symbol": "circle"
         },
         "mode": "markers",
         "name": "PSC",
         "orientation": "v",
         "showlegend": true,
         "type": "scatter",
         "x": [
          9
         ],
         "xaxis": "x",
         "y": [
          16.77777777777778
         ],
         "yaxis": "y"
        },
        {
         "hovertemplate": "color=PSG<br>x=%{x}<br>y=%{y}<extra></extra>",
         "legendgroup": "PSG",
         "marker": {
          "color": "#FFA15A",
          "symbol": "circle"
         },
         "mode": "markers",
         "name": "PSG",
         "orientation": "v",
         "showlegend": true,
         "type": "scatter",
         "x": [
          1
         ],
         "xaxis": "x",
         "y": [
          5
         ],
         "yaxis": "y"
        },
        {
         "hovertemplate": "color=PSP<br>x=%{x}<br>y=%{y}<extra></extra>",
         "legendgroup": "PSP",
         "marker": {
          "color": "#19d3f3",
          "symbol": "circle"
         },
         "mode": "markers",
         "name": "PSP",
         "orientation": "v",
         "showlegend": true,
         "type": "scatter",
         "x": [
          14
         ],
         "xaxis": "x",
         "y": [
          16.5
         ],
         "yaxis": "y"
        },
        {
         "hovertemplate": "color=PUB<br>x=%{x}<br>y=%{y}<extra></extra>",
         "legendgroup": "PUB",
         "marker": {
          "color": "#FF6692",
          "symbol": "circle"
         },
         "mode": "markers",
         "name": "PUB",
         "orientation": "v",
         "showlegend": true,
         "type": "scatter",
         "x": [
          2
         ],
         "xaxis": "x",
         "y": [
          9.5
         ],
         "yaxis": "y"
        },
        {
         "hovertemplate": "color=PUW<br>x=%{x}<br>y=%{y}<extra></extra>",
         "legendgroup": "PUW",
         "marker": {
          "color": "#B6E880",
          "symbol": "circle"
         },
         "mode": "markers",
         "name": "PUW",
         "orientation": "v",
         "showlegend": true,
         "type": "scatter",
         "x": [
          1
         ],
         "xaxis": "x",
         "y": [
          10
         ],
         "yaxis": "y"
        },
        {
         "hovertemplate": "color=PVD<br>x=%{x}<br>y=%{y}<extra></extra>",
         "legendgroup": "PVD",
         "marker": {
          "color": "#FF97FF",
          "symbol": "circle"
         },
         "mode": "markers",
         "name": "PVD",
         "orientation": "v",
         "showlegend": true,
         "type": "scatter",
         "x": [
          23
         ],
         "xaxis": "x",
         "y": [
          12.347826086956522
         ],
         "yaxis": "y"
        },
        {
         "hovertemplate": "color=PWM<br>x=%{x}<br>y=%{y}<extra></extra>",
         "legendgroup": "PWM",
         "marker": {
          "color": "#FECB52",
          "symbol": "circle"
         },
         "mode": "markers",
         "name": "PWM",
         "orientation": "v",
         "showlegend": true,
         "type": "scatter",
         "x": [
          14
         ],
         "xaxis": "x",
         "y": [
          19.071428571428573
         ],
         "yaxis": "y"
        },
        {
         "hovertemplate": "color=RAP<br>x=%{x}<br>y=%{y}<extra></extra>",
         "legendgroup": "RAP",
         "marker": {
          "color": "#636efa",
          "symbol": "circle"
         },
         "mode": "markers",
         "name": "RAP",
         "orientation": "v",
         "showlegend": true,
         "type": "scatter",
         "x": [
          5
         ],
         "xaxis": "x",
         "y": [
          18.6
         ],
         "yaxis": "y"
        },
        {
         "hovertemplate": "color=RDM<br>x=%{x}<br>y=%{y}<extra></extra>",
         "legendgroup": "RDM",
         "marker": {
          "color": "#EF553B",
          "symbol": "circle"
         },
         "mode": "markers",
         "name": "RDM",
         "orientation": "v",
         "showlegend": true,
         "type": "scatter",
         "x": [
          15
         ],
         "xaxis": "x",
         "y": [
          15.4
         ],
         "yaxis": "y"
        },
        {
         "hovertemplate": "color=RDU<br>x=%{x}<br>y=%{y}<extra></extra>",
         "legendgroup": "RDU",
         "marker": {
          "color": "#00cc96",
          "symbol": "circle"
         },
         "mode": "markers",
         "name": "RDU",
         "orientation": "v",
         "showlegend": true,
         "type": "scatter",
         "x": [
          90
         ],
         "xaxis": "x",
         "y": [
          18.27777777777778
         ],
         "yaxis": "y"
        },
        {
         "hovertemplate": "color=RFD<br>x=%{x}<br>y=%{y}<extra></extra>",
         "legendgroup": "RFD",
         "marker": {
          "color": "#ab63fa",
          "symbol": "circle"
         },
         "mode": "markers",
         "name": "RFD",
         "orientation": "v",
         "showlegend": true,
         "type": "scatter",
         "x": [
          2
         ],
         "xaxis": "x",
         "y": [
          12
         ],
         "yaxis": "y"
        },
        {
         "hovertemplate": "color=RIC<br>x=%{x}<br>y=%{y}<extra></extra>",
         "legendgroup": "RIC",
         "marker": {
          "color": "#FFA15A",
          "symbol": "circle"
         },
         "mode": "markers",
         "name": "RIC",
         "orientation": "v",
         "showlegend": true,
         "type": "scatter",
         "x": [
          31
         ],
         "xaxis": "x",
         "y": [
          15.64516129032258
         ],
         "yaxis": "y"
        },
        {
         "hovertemplate": "color=RNO<br>x=%{x}<br>y=%{y}<extra></extra>",
         "legendgroup": "RNO",
         "marker": {
          "color": "#19d3f3",
          "symbol": "circle"
         },
         "mode": "markers",
         "name": "RNO",
         "orientation": "v",
         "showlegend": true,
         "type": "scatter",
         "x": [
          34
         ],
         "xaxis": "x",
         "y": [
          14.5
         ],
         "yaxis": "y"
        },
        {
         "hovertemplate": "color=ROA<br>x=%{x}<br>y=%{y}<extra></extra>",
         "legendgroup": "ROA",
         "marker": {
          "color": "#FF6692",
          "symbol": "circle"
         },
         "mode": "markers",
         "name": "ROA",
         "orientation": "v",
         "showlegend": true,
         "type": "scatter",
         "x": [
          13
         ],
         "xaxis": "x",
         "y": [
          17
         ],
         "yaxis": "y"
        },
        {
         "hovertemplate": "color=ROC<br>x=%{x}<br>y=%{y}<extra></extra>",
         "legendgroup": "ROC",
         "marker": {
          "color": "#B6E880",
          "symbol": "circle"
         },
         "mode": "markers",
         "name": "ROC",
         "orientation": "v",
         "showlegend": true,
         "type": "scatter",
         "x": [
          24
         ],
         "xaxis": "x",
         "y": [
          13.333333333333334
         ],
         "yaxis": "y"
        },
        {
         "hovertemplate": "color=ROW<br>x=%{x}<br>y=%{y}<extra></extra>",
         "legendgroup": "ROW",
         "marker": {
          "color": "#FF97FF",
          "symbol": "circle"
         },
         "mode": "markers",
         "name": "ROW",
         "orientation": "v",
         "showlegend": true,
         "type": "scatter",
         "x": [
          3
         ],
         "xaxis": "x",
         "y": [
          12.666666666666666
         ],
         "yaxis": "y"
        },
        {
         "hovertemplate": "color=RST<br>x=%{x}<br>y=%{y}<extra></extra>",
         "legendgroup": "RST",
         "marker": {
          "color": "#FECB52",
          "symbol": "circle"
         },
         "mode": "markers",
         "name": "RST",
         "orientation": "v",
         "showlegend": true,
         "type": "scatter",
         "x": [
          3
         ],
         "xaxis": "x",
         "y": [
          12
         ],
         "yaxis": "y"
        },
        {
         "hovertemplate": "color=RSW<br>x=%{x}<br>y=%{y}<extra></extra>",
         "legendgroup": "RSW",
         "marker": {
          "color": "#636efa",
          "symbol": "circle"
         },
         "mode": "markers",
         "name": "RSW",
         "orientation": "v",
         "showlegend": true,
         "type": "scatter",
         "x": [
          43
         ],
         "xaxis": "x",
         "y": [
          12.930232558139535
         ],
         "yaxis": "y"
        },
        {
         "hovertemplate": "color=SAF<br>x=%{x}<br>y=%{y}<extra></extra>",
         "legendgroup": "SAF",
         "marker": {
          "color": "#EF553B",
          "symbol": "circle"
         },
         "mode": "markers",
         "name": "SAF",
         "orientation": "v",
         "showlegend": true,
         "type": "scatter",
         "x": [
          4
         ],
         "xaxis": "x",
         "y": [
          11.5
         ],
         "yaxis": "y"
        },
        {
         "hovertemplate": "color=SAN<br>x=%{x}<br>y=%{y}<extra></extra>",
         "legendgroup": "SAN",
         "marker": {
          "color": "#00cc96",
          "symbol": "circle"
         },
         "mode": "markers",
         "name": "SAN",
         "orientation": "v",
         "showlegend": true,
         "type": "scatter",
         "x": [
          121
         ],
         "xaxis": "x",
         "y": [
          16.429752066115704
         ],
         "yaxis": "y"
        },
        {
         "hovertemplate": "color=SAT<br>x=%{x}<br>y=%{y}<extra></extra>",
         "legendgroup": "SAT",
         "marker": {
          "color": "#ab63fa",
          "symbol": "circle"
         },
         "mode": "markers",
         "name": "SAT",
         "orientation": "v",
         "showlegend": true,
         "type": "scatter",
         "x": [
          57
         ],
         "xaxis": "x",
         "y": [
          12.157894736842104
         ],
         "yaxis": "y"
        },
        {
         "hovertemplate": "color=SAV<br>x=%{x}<br>y=%{y}<extra></extra>",
         "legendgroup": "SAV",
         "marker": {
          "color": "#FFA15A",
          "symbol": "circle"
         },
         "mode": "markers",
         "name": "SAV",
         "orientation": "v",
         "showlegend": true,
         "type": "scatter",
         "x": [
          19
         ],
         "xaxis": "x",
         "y": [
          14.473684210526315
         ],
         "yaxis": "y"
        },
        {
         "hovertemplate": "color=SBA<br>x=%{x}<br>y=%{y}<extra></extra>",
         "legendgroup": "SBA",
         "marker": {
          "color": "#19d3f3",
          "symbol": "circle"
         },
         "mode": "markers",
         "name": "SBA",
         "orientation": "v",
         "showlegend": true,
         "type": "scatter",
         "x": [
          8
         ],
         "xaxis": "x",
         "y": [
          16
         ],
         "yaxis": "y"
        },
        {
         "hovertemplate": "color=SBN<br>x=%{x}<br>y=%{y}<extra></extra>",
         "legendgroup": "SBN",
         "marker": {
          "color": "#FF6692",
          "symbol": "circle"
         },
         "mode": "markers",
         "name": "SBN",
         "orientation": "v",
         "showlegend": true,
         "type": "scatter",
         "x": [
          7
         ],
         "xaxis": "x",
         "y": [
          11.857142857142858
         ],
         "yaxis": "y"
        },
        {
         "hovertemplate": "color=SBP<br>x=%{x}<br>y=%{y}<extra></extra>",
         "legendgroup": "SBP",
         "marker": {
          "color": "#B6E880",
          "symbol": "circle"
         },
         "mode": "markers",
         "name": "SBP",
         "orientation": "v",
         "showlegend": true,
         "type": "scatter",
         "x": [
          5
         ],
         "xaxis": "x",
         "y": [
          15
         ],
         "yaxis": "y"
        },
        {
         "hovertemplate": "color=SCC<br>x=%{x}<br>y=%{y}<extra></extra>",
         "legendgroup": "SCC",
         "marker": {
          "color": "#FF97FF",
          "symbol": "circle"
         },
         "mode": "markers",
         "name": "SCC",
         "orientation": "v",
         "showlegend": true,
         "type": "scatter",
         "x": [
          1
         ],
         "xaxis": "x",
         "y": [
          23
         ],
         "yaxis": "y"
        },
        {
         "hovertemplate": "color=SCE<br>x=%{x}<br>y=%{y}<extra></extra>",
         "legendgroup": "SCE",
         "marker": {
          "color": "#FECB52",
          "symbol": "circle"
         },
         "mode": "markers",
         "name": "SCE",
         "orientation": "v",
         "showlegend": true,
         "type": "scatter",
         "x": [
          4
         ],
         "xaxis": "x",
         "y": [
          17
         ],
         "yaxis": "y"
        },
        {
         "hovertemplate": "color=SCK<br>x=%{x}<br>y=%{y}<extra></extra>",
         "legendgroup": "SCK",
         "marker": {
          "color": "#636efa",
          "symbol": "circle"
         },
         "mode": "markers",
         "name": "SCK",
         "orientation": "v",
         "showlegend": true,
         "type": "scatter",
         "x": [
          2
         ],
         "xaxis": "x",
         "y": [
          14.5
         ],
         "yaxis": "y"
        },
        {
         "hovertemplate": "color=SDF<br>x=%{x}<br>y=%{y}<extra></extra>",
         "legendgroup": "SDF",
         "marker": {
          "color": "#EF553B",
          "symbol": "circle"
         },
         "mode": "markers",
         "name": "SDF",
         "orientation": "v",
         "showlegend": true,
         "type": "scatter",
         "x": [
          35
         ],
         "xaxis": "x",
         "y": [
          15.314285714285715
         ],
         "yaxis": "y"
        },
        {
         "hovertemplate": "color=SEA<br>x=%{x}<br>y=%{y}<extra></extra>",
         "legendgroup": "SEA",
         "marker": {
          "color": "#00cc96",
          "symbol": "circle"
         },
         "mode": "markers",
         "name": "SEA",
         "orientation": "v",
         "showlegend": true,
         "type": "scatter",
         "x": [
          234
         ],
         "xaxis": "x",
         "y": [
          19.46153846153846
         ],
         "yaxis": "y"
        },
        {
         "hovertemplate": "color=SFB<br>x=%{x}<br>y=%{y}<extra></extra>",
         "legendgroup": "SFB",
         "marker": {
          "color": "#ab63fa",
          "symbol": "circle"
         },
         "mode": "markers",
         "name": "SFB",
         "orientation": "v",
         "showlegend": true,
         "type": "scatter",
         "x": [
          11
         ],
         "xaxis": "x",
         "y": [
          17.09090909090909
         ],
         "yaxis": "y"
        },
        {
         "hovertemplate": "color=SFO<br>x=%{x}<br>y=%{y}<extra></extra>",
         "legendgroup": "SFO",
         "marker": {
          "color": "#FFA15A",
          "symbol": "circle"
         },
         "mode": "markers",
         "name": "SFO",
         "orientation": "v",
         "showlegend": true,
         "type": "scatter",
         "x": [
          230
         ],
         "xaxis": "x",
         "y": [
          22.804347826086957
         ],
         "yaxis": "y"
        },
        {
         "hovertemplate": "color=SGF<br>x=%{x}<br>y=%{y}<extra></extra>",
         "legendgroup": "SGF",
         "marker": {
          "color": "#19d3f3",
          "symbol": "circle"
         },
         "mode": "markers",
         "name": "SGF",
         "orientation": "v",
         "showlegend": true,
         "type": "scatter",
         "x": [
          11
         ],
         "xaxis": "x",
         "y": [
          15.727272727272727
         ],
         "yaxis": "y"
        },
        {
         "hovertemplate": "color=SGU<br>x=%{x}<br>y=%{y}<extra></extra>",
         "legendgroup": "SGU",
         "marker": {
          "color": "#FF6692",
          "symbol": "circle"
         },
         "mode": "markers",
         "name": "SGU",
         "orientation": "v",
         "showlegend": true,
         "type": "scatter",
         "x": [
          3
         ],
         "xaxis": "x",
         "y": [
          26.666666666666668
         ],
         "yaxis": "y"
        },
        {
         "hovertemplate": "color=SHD<br>x=%{x}<br>y=%{y}<extra></extra>",
         "legendgroup": "SHD",
         "marker": {
          "color": "#B6E880",
          "symbol": "circle"
         },
         "mode": "markers",
         "name": "SHD",
         "orientation": "v",
         "showlegend": true,
         "type": "scatter",
         "x": [
          1
         ],
         "xaxis": "x",
         "y": [
          25
         ],
         "yaxis": "y"
        },
        {
         "hovertemplate": "color=SHV<br>x=%{x}<br>y=%{y}<extra></extra>",
         "legendgroup": "SHV",
         "marker": {
          "color": "#FF97FF",
          "symbol": "circle"
         },
         "mode": "markers",
         "name": "SHV",
         "orientation": "v",
         "showlegend": true,
         "type": "scatter",
         "x": [
          9
         ],
         "xaxis": "x",
         "y": [
          14.444444444444445
         ],
         "yaxis": "y"
        },
        {
         "hovertemplate": "color=SJC<br>x=%{x}<br>y=%{y}<extra></extra>",
         "legendgroup": "SJC",
         "marker": {
          "color": "#FECB52",
          "symbol": "circle"
         },
         "mode": "markers",
         "name": "SJC",
         "orientation": "v",
         "showlegend": true,
         "type": "scatter",
         "x": [
          76
         ],
         "xaxis": "x",
         "y": [
          13.289473684210526
         ],
         "yaxis": "y"
        },
        {
         "hovertemplate": "color=SJT<br>x=%{x}<br>y=%{y}<extra></extra>",
         "legendgroup": "SJT",
         "marker": {
          "color": "#636efa",
          "symbol": "circle"
         },
         "mode": "markers",
         "name": "SJT",
         "orientation": "v",
         "showlegend": true,
         "type": "scatter",
         "x": [
          1
         ],
         "xaxis": "x",
         "y": [
          8
         ],
         "yaxis": "y"
        },
        {
         "hovertemplate": "color=SJU<br>x=%{x}<br>y=%{y}<extra></extra>",
         "legendgroup": "SJU",
         "marker": {
          "color": "#EF553B",
          "symbol": "circle"
         },
         "mode": "markers",
         "name": "SJU",
         "orientation": "v",
         "showlegend": true,
         "type": "scatter",
         "x": [
          33
         ],
         "xaxis": "x",
         "y": [
          13.969696969696969
         ],
         "yaxis": "y"
        },
        {
         "hovertemplate": "color=SLC<br>x=%{x}<br>y=%{y}<extra></extra>",
         "legendgroup": "SLC",
         "marker": {
          "color": "#00cc96",
          "symbol": "circle"
         },
         "mode": "markers",
         "name": "SLC",
         "orientation": "v",
         "showlegend": true,
         "type": "scatter",
         "x": [
          156
         ],
         "xaxis": "x",
         "y": [
          17.82051282051282
         ],
         "yaxis": "y"
        },
        {
         "hovertemplate": "color=SLN<br>x=%{x}<br>y=%{y}<extra></extra>",
         "legendgroup": "SLN",
         "marker": {
          "color": "#ab63fa",
          "symbol": "circle"
         },
         "mode": "markers",
         "name": "SLN",
         "orientation": "v",
         "showlegend": true,
         "type": "scatter",
         "x": [
          1
         ],
         "xaxis": "x",
         "y": [
          20
         ],
         "yaxis": "y"
        },
        {
         "hovertemplate": "color=SMF<br>x=%{x}<br>y=%{y}<extra></extra>",
         "legendgroup": "SMF",
         "marker": {
          "color": "#FFA15A",
          "symbol": "circle"
         },
         "mode": "markers",
         "name": "SMF",
         "orientation": "v",
         "showlegend": true,
         "type": "scatter",
         "x": [
          56
         ],
         "xaxis": "x",
         "y": [
          11.946428571428571
         ],
         "yaxis": "y"
        },
        {
         "hovertemplate": "color=SNA<br>x=%{x}<br>y=%{y}<extra></extra>",
         "legendgroup": "SNA",
         "marker": {
          "color": "#19d3f3",
          "symbol": "circle"
         },
         "mode": "markers",
         "name": "SNA",
         "orientation": "v",
         "showlegend": true,
         "type": "scatter",
         "x": [
          53
         ],
         "xaxis": "x",
         "y": [
          13.566037735849056
         ],
         "yaxis": "y"
        },
        {
         "hovertemplate": "color=SPN<br>x=%{x}<br>y=%{y}<extra></extra>",
         "legendgroup": "SPN",
         "marker": {
          "color": "#FF6692",
          "symbol": "circle"
         },
         "mode": "markers",
         "name": "SPN",
         "orientation": "v",
         "showlegend": true,
         "type": "scatter",
         "x": [
          4
         ],
         "xaxis": "x",
         "y": [
          12.75
         ],
         "yaxis": "y"
        },
        {
         "hovertemplate": "color=SPS<br>x=%{x}<br>y=%{y}<extra></extra>",
         "legendgroup": "SPS",
         "marker": {
          "color": "#B6E880",
          "symbol": "circle"
         },
         "mode": "markers",
         "name": "SPS",
         "orientation": "v",
         "showlegend": true,
         "type": "scatter",
         "x": [
          1
         ],
         "xaxis": "x",
         "y": [
          17
         ],
         "yaxis": "y"
        },
        {
         "hovertemplate": "color=SRQ<br>x=%{x}<br>y=%{y}<extra></extra>",
         "legendgroup": "SRQ",
         "marker": {
          "color": "#FF97FF",
          "symbol": "circle"
         },
         "mode": "markers",
         "name": "SRQ",
         "orientation": "v",
         "showlegend": true,
         "type": "scatter",
         "x": [
          13
         ],
         "xaxis": "x",
         "y": [
          11.384615384615385
         ],
         "yaxis": "y"
        },
        {
         "hovertemplate": "color=STL<br>x=%{x}<br>y=%{y}<extra></extra>",
         "legendgroup": "STL",
         "marker": {
          "color": "#FECB52",
          "symbol": "circle"
         },
         "mode": "markers",
         "name": "STL",
         "orientation": "v",
         "showlegend": true,
         "type": "scatter",
         "x": [
          108
         ],
         "xaxis": "x",
         "y": [
          13.425925925925926
         ],
         "yaxis": "y"
        },
        {
         "hovertemplate": "color=STS<br>x=%{x}<br>y=%{y}<extra></extra>",
         "legendgroup": "STS",
         "marker": {
          "color": "#636efa",
          "symbol": "circle"
         },
         "mode": "markers",
         "name": "STS",
         "orientation": "v",
         "showlegend": true,
         "type": "scatter",
         "x": [
          8
         ],
         "xaxis": "x",
         "y": [
          15.375
         ],
         "yaxis": "y"
        },
        {
         "hovertemplate": "color=STT<br>x=%{x}<br>y=%{y}<extra></extra>",
         "legendgroup": "STT",
         "marker": {
          "color": "#EF553B",
          "symbol": "circle"
         },
         "mode": "markers",
         "name": "STT",
         "orientation": "v",
         "showlegend": true,
         "type": "scatter",
         "x": [
          2
         ],
         "xaxis": "x",
         "y": [
          12
         ],
         "yaxis": "y"
        },
        {
         "hovertemplate": "color=STX<br>x=%{x}<br>y=%{y}<extra></extra>",
         "legendgroup": "STX",
         "marker": {
          "color": "#00cc96",
          "symbol": "circle"
         },
         "mode": "markers",
         "name": "STX",
         "orientation": "v",
         "showlegend": true,
         "type": "scatter",
         "x": [
          1
         ],
         "xaxis": "x",
         "y": [
          15
         ],
         "yaxis": "y"
        },
        {
         "hovertemplate": "color=SUN<br>x=%{x}<br>y=%{y}<extra></extra>",
         "legendgroup": "SUN",
         "marker": {
          "color": "#ab63fa",
          "symbol": "circle"
         },
         "mode": "markers",
         "name": "SUN",
         "orientation": "v",
         "showlegend": true,
         "type": "scatter",
         "x": [
          1
         ],
         "xaxis": "x",
         "y": [
          23
         ],
         "yaxis": "y"
        },
        {
         "hovertemplate": "color=SUX<br>x=%{x}<br>y=%{y}<extra></extra>",
         "legendgroup": "SUX",
         "marker": {
          "color": "#FFA15A",
          "symbol": "circle"
         },
         "mode": "markers",
         "name": "SUX",
         "orientation": "v",
         "showlegend": true,
         "type": "scatter",
         "x": [
          1
         ],
         "xaxis": "x",
         "y": [
          8
         ],
         "yaxis": "y"
        },
        {
         "hovertemplate": "color=SWF<br>x=%{x}<br>y=%{y}<extra></extra>",
         "legendgroup": "SWF",
         "marker": {
          "color": "#19d3f3",
          "symbol": "circle"
         },
         "mode": "markers",
         "name": "SWF",
         "orientation": "v",
         "showlegend": true,
         "type": "scatter",
         "x": [
          3
         ],
         "xaxis": "x",
         "y": [
          12.333333333333334
         ],
         "yaxis": "y"
        },
        {
         "hovertemplate": "color=SYR<br>x=%{x}<br>y=%{y}<extra></extra>",
         "legendgroup": "SYR",
         "marker": {
          "color": "#FF6692",
          "symbol": "circle"
         },
         "mode": "markers",
         "name": "SYR",
         "orientation": "v",
         "showlegend": true,
         "type": "scatter",
         "x": [
          24
         ],
         "xaxis": "x",
         "y": [
          17.041666666666668
         ],
         "yaxis": "y"
        },
        {
         "hovertemplate": "color=TLH<br>x=%{x}<br>y=%{y}<extra></extra>",
         "legendgroup": "TLH",
         "marker": {
          "color": "#B6E880",
          "symbol": "circle"
         },
         "mode": "markers",
         "name": "TLH",
         "orientation": "v",
         "showlegend": true,
         "type": "scatter",
         "x": [
          2
         ],
         "xaxis": "x",
         "y": [
          15.5
         ],
         "yaxis": "y"
        },
        {
         "hovertemplate": "color=TOL<br>x=%{x}<br>y=%{y}<extra></extra>",
         "legendgroup": "TOL",
         "marker": {
          "color": "#FF97FF",
          "symbol": "circle"
         },
         "mode": "markers",
         "name": "TOL",
         "orientation": "v",
         "showlegend": true,
         "type": "scatter",
         "x": [
          3
         ],
         "xaxis": "x",
         "y": [
          26.666666666666668
         ],
         "yaxis": "y"
        },
        {
         "hovertemplate": "color=TPA<br>x=%{x}<br>y=%{y}<extra></extra>",
         "legendgroup": "TPA",
         "marker": {
          "color": "#FECB52",
          "symbol": "circle"
         },
         "mode": "markers",
         "name": "TPA",
         "orientation": "v",
         "showlegend": true,
         "type": "scatter",
         "x": [
          102
         ],
         "xaxis": "x",
         "y": [
          13.323529411764707
         ],
         "yaxis": "y"
        },
        {
         "hovertemplate": "color=TRI<br>x=%{x}<br>y=%{y}<extra></extra>",
         "legendgroup": "TRI",
         "marker": {
          "color": "#636efa",
          "symbol": "circle"
         },
         "mode": "markers",
         "name": "TRI",
         "orientation": "v",
         "showlegend": true,
         "type": "scatter",
         "x": [
          3
         ],
         "xaxis": "x",
         "y": [
          22
         ],
         "yaxis": "y"
        },
        {
         "hovertemplate": "color=TTN<br>x=%{x}<br>y=%{y}<extra></extra>",
         "legendgroup": "TTN",
         "marker": {
          "color": "#EF553B",
          "symbol": "circle"
         },
         "mode": "markers",
         "name": "TTN",
         "orientation": "v",
         "showlegend": true,
         "type": "scatter",
         "x": [
          3
         ],
         "xaxis": "x",
         "y": [
          17.666666666666668
         ],
         "yaxis": "y"
        },
        {
         "hovertemplate": "color=TUL<br>x=%{x}<br>y=%{y}<extra></extra>",
         "legendgroup": "TUL",
         "marker": {
          "color": "#00cc96",
          "symbol": "circle"
         },
         "mode": "markers",
         "name": "TUL",
         "orientation": "v",
         "showlegend": true,
         "type": "scatter",
         "x": [
          26
         ],
         "xaxis": "x",
         "y": [
          16.307692307692307
         ],
         "yaxis": "y"
        },
        {
         "hovertemplate": "color=TUS<br>x=%{x}<br>y=%{y}<extra></extra>",
         "legendgroup": "TUS",
         "marker": {
          "color": "#ab63fa",
          "symbol": "circle"
         },
         "mode": "markers",
         "name": "TUS",
         "orientation": "v",
         "showlegend": true,
         "type": "scatter",
         "x": [
          20
         ],
         "xaxis": "x",
         "y": [
          13.75
         ],
         "yaxis": "y"
        },
        {
         "hovertemplate": "color=TVC<br>x=%{x}<br>y=%{y}<extra></extra>",
         "legendgroup": "TVC",
         "marker": {
          "color": "#FFA15A",
          "symbol": "circle"
         },
         "mode": "markers",
         "name": "TVC",
         "orientation": "v",
         "showlegend": true,
         "type": "scatter",
         "x": [
          3
         ],
         "xaxis": "x",
         "y": [
          13.666666666666666
         ],
         "yaxis": "y"
        },
        {
         "hovertemplate": "color=TWF<br>x=%{x}<br>y=%{y}<extra></extra>",
         "legendgroup": "TWF",
         "marker": {
          "color": "#19d3f3",
          "symbol": "circle"
         },
         "mode": "markers",
         "name": "TWF",
         "orientation": "v",
         "showlegend": true,
         "type": "scatter",
         "x": [
          3
         ],
         "xaxis": "x",
         "y": [
          22.333333333333332
         ],
         "yaxis": "y"
        },
        {
         "hovertemplate": "color=TYS<br>x=%{x}<br>y=%{y}<extra></extra>",
         "legendgroup": "TYS",
         "marker": {
          "color": "#FF6692",
          "symbol": "circle"
         },
         "mode": "markers",
         "name": "TYS",
         "orientation": "v",
         "showlegend": true,
         "type": "scatter",
         "x": [
          33
         ],
         "xaxis": "x",
         "y": [
          18.727272727272727
         ],
         "yaxis": "y"
        },
        {
         "hovertemplate": "color=USA<br>x=%{x}<br>y=%{y}<extra></extra>",
         "legendgroup": "USA",
         "marker": {
          "color": "#B6E880",
          "symbol": "circle"
         },
         "mode": "markers",
         "name": "USA",
         "orientation": "v",
         "showlegend": true,
         "type": "scatter",
         "x": [
          4
         ],
         "xaxis": "x",
         "y": [
          9
         ],
         "yaxis": "y"
        },
        {
         "hovertemplate": "color=VEL<br>x=%{x}<br>y=%{y}<extra></extra>",
         "legendgroup": "VEL",
         "marker": {
          "color": "#FF97FF",
          "symbol": "circle"
         },
         "mode": "markers",
         "name": "VEL",
         "orientation": "v",
         "showlegend": true,
         "type": "scatter",
         "x": [
          2
         ],
         "xaxis": "x",
         "y": [
          9.5
         ],
         "yaxis": "y"
        },
        {
         "hovertemplate": "color=VLD<br>x=%{x}<br>y=%{y}<extra></extra>",
         "legendgroup": "VLD",
         "marker": {
          "color": "#FECB52",
          "symbol": "circle"
         },
         "mode": "markers",
         "name": "VLD",
         "orientation": "v",
         "showlegend": true,
         "type": "scatter",
         "x": [
          2
         ],
         "xaxis": "x",
         "y": [
          19
         ],
         "yaxis": "y"
        },
        {
         "hovertemplate": "color=VPS<br>x=%{x}<br>y=%{y}<extra></extra>",
         "legendgroup": "VPS",
         "marker": {
          "color": "#636efa",
          "symbol": "circle"
         },
         "mode": "markers",
         "name": "VPS",
         "orientation": "v",
         "showlegend": true,
         "type": "scatter",
         "x": [
          9
         ],
         "xaxis": "x",
         "y": [
          14.555555555555555
         ],
         "yaxis": "y"
        },
        {
         "hovertemplate": "color=XNA<br>x=%{x}<br>y=%{y}<extra></extra>",
         "legendgroup": "XNA",
         "marker": {
          "color": "#EF553B",
          "symbol": "circle"
         },
         "mode": "markers",
         "name": "XNA",
         "orientation": "v",
         "showlegend": true,
         "type": "scatter",
         "x": [
          24
         ],
         "xaxis": "x",
         "y": [
          16.625
         ],
         "yaxis": "y"
        },
        {
         "hovertemplate": "color=XWA<br>x=%{x}<br>y=%{y}<extra></extra>",
         "legendgroup": "XWA",
         "marker": {
          "color": "#00cc96",
          "symbol": "circle"
         },
         "mode": "markers",
         "name": "XWA",
         "orientation": "v",
         "showlegend": true,
         "type": "scatter",
         "x": [
          1
         ],
         "xaxis": "x",
         "y": [
          48
         ],
         "yaxis": "y"
        },
        {
         "hovertemplate": "color=YAK<br>x=%{x}<br>y=%{y}<extra></extra>",
         "legendgroup": "YAK",
         "marker": {
          "color": "#ab63fa",
          "symbol": "circle"
         },
         "mode": "markers",
         "name": "YAK",
         "orientation": "v",
         "showlegend": true,
         "type": "scatter",
         "x": [
          3
         ],
         "xaxis": "x",
         "y": [
          6.333333333333333
         ],
         "yaxis": "y"
        },
        {
         "hovertemplate": "color=YKM<br>x=%{x}<br>y=%{y}<extra></extra>",
         "legendgroup": "YKM",
         "marker": {
          "color": "#FFA15A",
          "symbol": "circle"
         },
         "mode": "markers",
         "name": "YKM",
         "orientation": "v",
         "showlegend": true,
         "type": "scatter",
         "x": [
          4
         ],
         "xaxis": "x",
         "y": [
          5.25
         ],
         "yaxis": "y"
        },
        {
         "hovertemplate": "color=YUM<br>x=%{x}<br>y=%{y}<extra></extra>",
         "legendgroup": "YUM",
         "marker": {
          "color": "#19d3f3",
          "symbol": "circle"
         },
         "mode": "markers",
         "name": "YUM",
         "orientation": "v",
         "showlegend": true,
         "type": "scatter",
         "x": [
          1
         ],
         "xaxis": "x",
         "y": [
          11
         ],
         "yaxis": "y"
        }
       ],
       "layout": {
        "legend": {
         "title": {
          "text": "color"
         },
         "tracegroupgap": 0
        },
        "margin": {
         "t": 60
        },
        "template": {
         "data": {
          "bar": [
           {
            "error_x": {
             "color": "#2a3f5f"
            },
            "error_y": {
             "color": "#2a3f5f"
            },
            "marker": {
             "line": {
              "color": "#E5ECF6",
              "width": 0.5
             }
            },
            "type": "bar"
           }
          ],
          "barpolar": [
           {
            "marker": {
             "line": {
              "color": "#E5ECF6",
              "width": 0.5
             }
            },
            "type": "barpolar"
           }
          ],
          "carpet": [
           {
            "aaxis": {
             "endlinecolor": "#2a3f5f",
             "gridcolor": "white",
             "linecolor": "white",
             "minorgridcolor": "white",
             "startlinecolor": "#2a3f5f"
            },
            "baxis": {
             "endlinecolor": "#2a3f5f",
             "gridcolor": "white",
             "linecolor": "white",
             "minorgridcolor": "white",
             "startlinecolor": "#2a3f5f"
            },
            "type": "carpet"
           }
          ],
          "choropleth": [
           {
            "colorbar": {
             "outlinewidth": 0,
             "ticks": ""
            },
            "type": "choropleth"
           }
          ],
          "contour": [
           {
            "colorbar": {
             "outlinewidth": 0,
             "ticks": ""
            },
            "colorscale": [
             [
              0,
              "#0d0887"
             ],
             [
              0.1111111111111111,
              "#46039f"
             ],
             [
              0.2222222222222222,
              "#7201a8"
             ],
             [
              0.3333333333333333,
              "#9c179e"
             ],
             [
              0.4444444444444444,
              "#bd3786"
             ],
             [
              0.5555555555555556,
              "#d8576b"
             ],
             [
              0.6666666666666666,
              "#ed7953"
             ],
             [
              0.7777777777777778,
              "#fb9f3a"
             ],
             [
              0.8888888888888888,
              "#fdca26"
             ],
             [
              1,
              "#f0f921"
             ]
            ],
            "type": "contour"
           }
          ],
          "contourcarpet": [
           {
            "colorbar": {
             "outlinewidth": 0,
             "ticks": ""
            },
            "type": "contourcarpet"
           }
          ],
          "heatmap": [
           {
            "colorbar": {
             "outlinewidth": 0,
             "ticks": ""
            },
            "colorscale": [
             [
              0,
              "#0d0887"
             ],
             [
              0.1111111111111111,
              "#46039f"
             ],
             [
              0.2222222222222222,
              "#7201a8"
             ],
             [
              0.3333333333333333,
              "#9c179e"
             ],
             [
              0.4444444444444444,
              "#bd3786"
             ],
             [
              0.5555555555555556,
              "#d8576b"
             ],
             [
              0.6666666666666666,
              "#ed7953"
             ],
             [
              0.7777777777777778,
              "#fb9f3a"
             ],
             [
              0.8888888888888888,
              "#fdca26"
             ],
             [
              1,
              "#f0f921"
             ]
            ],
            "type": "heatmap"
           }
          ],
          "heatmapgl": [
           {
            "colorbar": {
             "outlinewidth": 0,
             "ticks": ""
            },
            "colorscale": [
             [
              0,
              "#0d0887"
             ],
             [
              0.1111111111111111,
              "#46039f"
             ],
             [
              0.2222222222222222,
              "#7201a8"
             ],
             [
              0.3333333333333333,
              "#9c179e"
             ],
             [
              0.4444444444444444,
              "#bd3786"
             ],
             [
              0.5555555555555556,
              "#d8576b"
             ],
             [
              0.6666666666666666,
              "#ed7953"
             ],
             [
              0.7777777777777778,
              "#fb9f3a"
             ],
             [
              0.8888888888888888,
              "#fdca26"
             ],
             [
              1,
              "#f0f921"
             ]
            ],
            "type": "heatmapgl"
           }
          ],
          "histogram": [
           {
            "marker": {
             "colorbar": {
              "outlinewidth": 0,
              "ticks": ""
             }
            },
            "type": "histogram"
           }
          ],
          "histogram2d": [
           {
            "colorbar": {
             "outlinewidth": 0,
             "ticks": ""
            },
            "colorscale": [
             [
              0,
              "#0d0887"
             ],
             [
              0.1111111111111111,
              "#46039f"
             ],
             [
              0.2222222222222222,
              "#7201a8"
             ],
             [
              0.3333333333333333,
              "#9c179e"
             ],
             [
              0.4444444444444444,
              "#bd3786"
             ],
             [
              0.5555555555555556,
              "#d8576b"
             ],
             [
              0.6666666666666666,
              "#ed7953"
             ],
             [
              0.7777777777777778,
              "#fb9f3a"
             ],
             [
              0.8888888888888888,
              "#fdca26"
             ],
             [
              1,
              "#f0f921"
             ]
            ],
            "type": "histogram2d"
           }
          ],
          "histogram2dcontour": [
           {
            "colorbar": {
             "outlinewidth": 0,
             "ticks": ""
            },
            "colorscale": [
             [
              0,
              "#0d0887"
             ],
             [
              0.1111111111111111,
              "#46039f"
             ],
             [
              0.2222222222222222,
              "#7201a8"
             ],
             [
              0.3333333333333333,
              "#9c179e"
             ],
             [
              0.4444444444444444,
              "#bd3786"
             ],
             [
              0.5555555555555556,
              "#d8576b"
             ],
             [
              0.6666666666666666,
              "#ed7953"
             ],
             [
              0.7777777777777778,
              "#fb9f3a"
             ],
             [
              0.8888888888888888,
              "#fdca26"
             ],
             [
              1,
              "#f0f921"
             ]
            ],
            "type": "histogram2dcontour"
           }
          ],
          "mesh3d": [
           {
            "colorbar": {
             "outlinewidth": 0,
             "ticks": ""
            },
            "type": "mesh3d"
           }
          ],
          "parcoords": [
           {
            "line": {
             "colorbar": {
              "outlinewidth": 0,
              "ticks": ""
             }
            },
            "type": "parcoords"
           }
          ],
          "pie": [
           {
            "automargin": true,
            "type": "pie"
           }
          ],
          "scatter": [
           {
            "marker": {
             "colorbar": {
              "outlinewidth": 0,
              "ticks": ""
             }
            },
            "type": "scatter"
           }
          ],
          "scatter3d": [
           {
            "line": {
             "colorbar": {
              "outlinewidth": 0,
              "ticks": ""
             }
            },
            "marker": {
             "colorbar": {
              "outlinewidth": 0,
              "ticks": ""
             }
            },
            "type": "scatter3d"
           }
          ],
          "scattercarpet": [
           {
            "marker": {
             "colorbar": {
              "outlinewidth": 0,
              "ticks": ""
             }
            },
            "type": "scattercarpet"
           }
          ],
          "scattergeo": [
           {
            "marker": {
             "colorbar": {
              "outlinewidth": 0,
              "ticks": ""
             }
            },
            "type": "scattergeo"
           }
          ],
          "scattergl": [
           {
            "marker": {
             "colorbar": {
              "outlinewidth": 0,
              "ticks": ""
             }
            },
            "type": "scattergl"
           }
          ],
          "scattermapbox": [
           {
            "marker": {
             "colorbar": {
              "outlinewidth": 0,
              "ticks": ""
             }
            },
            "type": "scattermapbox"
           }
          ],
          "scatterpolar": [
           {
            "marker": {
             "colorbar": {
              "outlinewidth": 0,
              "ticks": ""
             }
            },
            "type": "scatterpolar"
           }
          ],
          "scatterpolargl": [
           {
            "marker": {
             "colorbar": {
              "outlinewidth": 0,
              "ticks": ""
             }
            },
            "type": "scatterpolargl"
           }
          ],
          "scatterternary": [
           {
            "marker": {
             "colorbar": {
              "outlinewidth": 0,
              "ticks": ""
             }
            },
            "type": "scatterternary"
           }
          ],
          "surface": [
           {
            "colorbar": {
             "outlinewidth": 0,
             "ticks": ""
            },
            "colorscale": [
             [
              0,
              "#0d0887"
             ],
             [
              0.1111111111111111,
              "#46039f"
             ],
             [
              0.2222222222222222,
              "#7201a8"
             ],
             [
              0.3333333333333333,
              "#9c179e"
             ],
             [
              0.4444444444444444,
              "#bd3786"
             ],
             [
              0.5555555555555556,
              "#d8576b"
             ],
             [
              0.6666666666666666,
              "#ed7953"
             ],
             [
              0.7777777777777778,
              "#fb9f3a"
             ],
             [
              0.8888888888888888,
              "#fdca26"
             ],
             [
              1,
              "#f0f921"
             ]
            ],
            "type": "surface"
           }
          ],
          "table": [
           {
            "cells": {
             "fill": {
              "color": "#EBF0F8"
             },
             "line": {
              "color": "white"
             }
            },
            "header": {
             "fill": {
              "color": "#C8D4E3"
             },
             "line": {
              "color": "white"
             }
            },
            "type": "table"
           }
          ]
         },
         "layout": {
          "annotationdefaults": {
           "arrowcolor": "#2a3f5f",
           "arrowhead": 0,
           "arrowwidth": 1
          },
          "autotypenumbers": "strict",
          "coloraxis": {
           "colorbar": {
            "outlinewidth": 0,
            "ticks": ""
           }
          },
          "colorscale": {
           "diverging": [
            [
             0,
             "#8e0152"
            ],
            [
             0.1,
             "#c51b7d"
            ],
            [
             0.2,
             "#de77ae"
            ],
            [
             0.3,
             "#f1b6da"
            ],
            [
             0.4,
             "#fde0ef"
            ],
            [
             0.5,
             "#f7f7f7"
            ],
            [
             0.6,
             "#e6f5d0"
            ],
            [
             0.7,
             "#b8e186"
            ],
            [
             0.8,
             "#7fbc41"
            ],
            [
             0.9,
             "#4d9221"
            ],
            [
             1,
             "#276419"
            ]
           ],
           "sequential": [
            [
             0,
             "#0d0887"
            ],
            [
             0.1111111111111111,
             "#46039f"
            ],
            [
             0.2222222222222222,
             "#7201a8"
            ],
            [
             0.3333333333333333,
             "#9c179e"
            ],
            [
             0.4444444444444444,
             "#bd3786"
            ],
            [
             0.5555555555555556,
             "#d8576b"
            ],
            [
             0.6666666666666666,
             "#ed7953"
            ],
            [
             0.7777777777777778,
             "#fb9f3a"
            ],
            [
             0.8888888888888888,
             "#fdca26"
            ],
            [
             1,
             "#f0f921"
            ]
           ],
           "sequentialminus": [
            [
             0,
             "#0d0887"
            ],
            [
             0.1111111111111111,
             "#46039f"
            ],
            [
             0.2222222222222222,
             "#7201a8"
            ],
            [
             0.3333333333333333,
             "#9c179e"
            ],
            [
             0.4444444444444444,
             "#bd3786"
            ],
            [
             0.5555555555555556,
             "#d8576b"
            ],
            [
             0.6666666666666666,
             "#ed7953"
            ],
            [
             0.7777777777777778,
             "#fb9f3a"
            ],
            [
             0.8888888888888888,
             "#fdca26"
            ],
            [
             1,
             "#f0f921"
            ]
           ]
          },
          "colorway": [
           "#636efa",
           "#EF553B",
           "#00cc96",
           "#ab63fa",
           "#FFA15A",
           "#19d3f3",
           "#FF6692",
           "#B6E880",
           "#FF97FF",
           "#FECB52"
          ],
          "font": {
           "color": "#2a3f5f"
          },
          "geo": {
           "bgcolor": "white",
           "lakecolor": "white",
           "landcolor": "#E5ECF6",
           "showlakes": true,
           "showland": true,
           "subunitcolor": "white"
          },
          "hoverlabel": {
           "align": "left"
          },
          "hovermode": "closest",
          "mapbox": {
           "style": "light"
          },
          "paper_bgcolor": "white",
          "plot_bgcolor": "#E5ECF6",
          "polar": {
           "angularaxis": {
            "gridcolor": "white",
            "linecolor": "white",
            "ticks": ""
           },
           "bgcolor": "#E5ECF6",
           "radialaxis": {
            "gridcolor": "white",
            "linecolor": "white",
            "ticks": ""
           }
          },
          "scene": {
           "xaxis": {
            "backgroundcolor": "#E5ECF6",
            "gridcolor": "white",
            "gridwidth": 2,
            "linecolor": "white",
            "showbackground": true,
            "ticks": "",
            "zerolinecolor": "white"
           },
           "yaxis": {
            "backgroundcolor": "#E5ECF6",
            "gridcolor": "white",
            "gridwidth": 2,
            "linecolor": "white",
            "showbackground": true,
            "ticks": "",
            "zerolinecolor": "white"
           },
           "zaxis": {
            "backgroundcolor": "#E5ECF6",
            "gridcolor": "white",
            "gridwidth": 2,
            "linecolor": "white",
            "showbackground": true,
            "ticks": "",
            "zerolinecolor": "white"
           }
          },
          "shapedefaults": {
           "line": {
            "color": "#2a3f5f"
           }
          },
          "ternary": {
           "aaxis": {
            "gridcolor": "white",
            "linecolor": "white",
            "ticks": ""
           },
           "baxis": {
            "gridcolor": "white",
            "linecolor": "white",
            "ticks": ""
           },
           "bgcolor": "#E5ECF6",
           "caxis": {
            "gridcolor": "white",
            "linecolor": "white",
            "ticks": ""
           }
          },
          "title": {
           "x": 0.05
          },
          "xaxis": {
           "automargin": true,
           "gridcolor": "white",
           "linecolor": "white",
           "ticks": "",
           "title": {
            "standoff": 15
           },
           "zerolinecolor": "white",
           "zerolinewidth": 2
          },
          "yaxis": {
           "automargin": true,
           "gridcolor": "white",
           "linecolor": "white",
           "ticks": "",
           "title": {
            "standoff": 15
           },
           "zerolinecolor": "white",
           "zerolinewidth": 2
          }
         }
        },
        "xaxis": {
         "anchor": "y",
         "domain": [
          0,
          1
         ],
         "title": {
          "text": "x"
         }
        },
        "yaxis": {
         "anchor": "x",
         "domain": [
          0,
          1
         ],
         "title": {
          "text": "y"
         }
        }
       }
      },
      "text/html": [
       "<div>                            <div id=\"6e37ded7-e56f-4bb3-b6e2-49c445b722f0\" class=\"plotly-graph-div\" style=\"height:525px; width:100%;\"></div>            <script type=\"text/javascript\">                require([\"plotly\"], function(Plotly) {                    window.PLOTLYENV=window.PLOTLYENV || {};                                    if (document.getElementById(\"6e37ded7-e56f-4bb3-b6e2-49c445b722f0\")) {                    Plotly.newPlot(                        \"6e37ded7-e56f-4bb3-b6e2-49c445b722f0\",                        [{\"hovertemplate\": \"color=ABE<br>x=%{x}<br>y=%{y}<extra></extra>\", \"legendgroup\": \"ABE\", \"marker\": {\"color\": \"#636efa\", \"symbol\": \"circle\"}, \"mode\": \"markers\", \"name\": \"ABE\", \"orientation\": \"v\", \"showlegend\": true, \"type\": \"scatter\", \"x\": [12], \"xaxis\": \"x\", \"y\": [19.916666666666668], \"yaxis\": \"y\"}, {\"hovertemplate\": \"color=ABI<br>x=%{x}<br>y=%{y}<extra></extra>\", \"legendgroup\": \"ABI\", \"marker\": {\"color\": \"#EF553B\", \"symbol\": \"circle\"}, \"mode\": \"markers\", \"name\": \"ABI\", \"orientation\": \"v\", \"showlegend\": true, \"type\": \"scatter\", \"x\": [4], \"xaxis\": \"x\", \"y\": [15.75], \"yaxis\": \"y\"}, {\"hovertemplate\": \"color=ABQ<br>x=%{x}<br>y=%{y}<extra></extra>\", \"legendgroup\": \"ABQ\", \"marker\": {\"color\": \"#00cc96\", \"symbol\": \"circle\"}, \"mode\": \"markers\", \"name\": \"ABQ\", \"orientation\": \"v\", \"showlegend\": true, \"type\": \"scatter\", \"x\": [35], \"xaxis\": \"x\", \"y\": [14.457142857142857], \"yaxis\": \"y\"}, {\"hovertemplate\": \"color=ABY<br>x=%{x}<br>y=%{y}<extra></extra>\", \"legendgroup\": \"ABY\", \"marker\": {\"color\": \"#ab63fa\", \"symbol\": \"circle\"}, \"mode\": \"markers\", \"name\": \"ABY\", \"orientation\": \"v\", \"showlegend\": true, \"type\": \"scatter\", \"x\": [2], \"xaxis\": \"x\", \"y\": [18.0], \"yaxis\": \"y\"}, {\"hovertemplate\": \"color=ACT<br>x=%{x}<br>y=%{y}<extra></extra>\", \"legendgroup\": \"ACT\", \"marker\": {\"color\": \"#FFA15A\", \"symbol\": \"circle\"}, \"mode\": \"markers\", \"name\": \"ACT\", \"orientation\": \"v\", \"showlegend\": true, \"type\": \"scatter\", \"x\": [2], \"xaxis\": \"x\", \"y\": [13.0], \"yaxis\": \"y\"}, {\"hovertemplate\": \"color=ACV<br>x=%{x}<br>y=%{y}<extra></extra>\", \"legendgroup\": \"ACV\", \"marker\": {\"color\": \"#19d3f3\", \"symbol\": \"circle\"}, \"mode\": \"markers\", \"name\": \"ACV\", \"orientation\": \"v\", \"showlegend\": true, \"type\": \"scatter\", \"x\": [1], \"xaxis\": \"x\", \"y\": [6.0], \"yaxis\": \"y\"}, {\"hovertemplate\": \"color=ACY<br>x=%{x}<br>y=%{y}<extra></extra>\", \"legendgroup\": \"ACY\", \"marker\": {\"color\": \"#FF6692\", \"symbol\": \"circle\"}, \"mode\": \"markers\", \"name\": \"ACY\", \"orientation\": \"v\", \"showlegend\": true, \"type\": \"scatter\", \"x\": [6], \"xaxis\": \"x\", \"y\": [11.5], \"yaxis\": \"y\"}, {\"hovertemplate\": \"color=ADQ<br>x=%{x}<br>y=%{y}<extra></extra>\", \"legendgroup\": \"ADQ\", \"marker\": {\"color\": \"#B6E880\", \"symbol\": \"circle\"}, \"mode\": \"markers\", \"name\": \"ADQ\", \"orientation\": \"v\", \"showlegend\": true, \"type\": \"scatter\", \"x\": [1], \"xaxis\": \"x\", \"y\": [10.0], \"yaxis\": \"y\"}, {\"hovertemplate\": \"color=AEX<br>x=%{x}<br>y=%{y}<extra></extra>\", \"legendgroup\": \"AEX\", \"marker\": {\"color\": \"#FF97FF\", \"symbol\": \"circle\"}, \"mode\": \"markers\", \"name\": \"AEX\", \"orientation\": \"v\", \"showlegend\": true, \"type\": \"scatter\", \"x\": [3], \"xaxis\": \"x\", \"y\": [21.333333333333332], \"yaxis\": \"y\"}, {\"hovertemplate\": \"color=AGS<br>x=%{x}<br>y=%{y}<extra></extra>\", \"legendgroup\": \"AGS\", \"marker\": {\"color\": \"#FECB52\", \"symbol\": \"circle\"}, \"mode\": \"markers\", \"name\": \"AGS\", \"orientation\": \"v\", \"showlegend\": true, \"type\": \"scatter\", \"x\": [9], \"xaxis\": \"x\", \"y\": [18.444444444444443], \"yaxis\": \"y\"}, {\"hovertemplate\": \"color=ALB<br>x=%{x}<br>y=%{y}<extra></extra>\", \"legendgroup\": \"ALB\", \"marker\": {\"color\": \"#636efa\", \"symbol\": \"circle\"}, \"mode\": \"markers\", \"name\": \"ALB\", \"orientation\": \"v\", \"showlegend\": true, \"type\": \"scatter\", \"x\": [23], \"xaxis\": \"x\", \"y\": [15.478260869565217], \"yaxis\": \"y\"}, {\"hovertemplate\": \"color=ALW<br>x=%{x}<br>y=%{y}<extra></extra>\", \"legendgroup\": \"ALW\", \"marker\": {\"color\": \"#EF553B\", \"symbol\": \"circle\"}, \"mode\": \"markers\", \"name\": \"ALW\", \"orientation\": \"v\", \"showlegend\": true, \"type\": \"scatter\", \"x\": [4], \"xaxis\": \"x\", \"y\": [7.0], \"yaxis\": \"y\"}, {\"hovertemplate\": \"color=AMA<br>x=%{x}<br>y=%{y}<extra></extra>\", \"legendgroup\": \"AMA\", \"marker\": {\"color\": \"#00cc96\", \"symbol\": \"circle\"}, \"mode\": \"markers\", \"name\": \"AMA\", \"orientation\": \"v\", \"showlegend\": true, \"type\": \"scatter\", \"x\": [6], \"xaxis\": \"x\", \"y\": [11.333333333333334], \"yaxis\": \"y\"}, {\"hovertemplate\": \"color=ANC<br>x=%{x}<br>y=%{y}<extra></extra>\", \"legendgroup\": \"ANC\", \"marker\": {\"color\": \"#ab63fa\", \"symbol\": \"circle\"}, \"mode\": \"markers\", \"name\": \"ANC\", \"orientation\": \"v\", \"showlegend\": true, \"type\": \"scatter\", \"x\": [25], \"xaxis\": \"x\", \"y\": [15.04], \"yaxis\": \"y\"}, {\"hovertemplate\": \"color=APN<br>x=%{x}<br>y=%{y}<extra></extra>\", \"legendgroup\": \"APN\", \"marker\": {\"color\": \"#FFA15A\", \"symbol\": \"circle\"}, \"mode\": \"markers\", \"name\": \"APN\", \"orientation\": \"v\", \"showlegend\": true, \"type\": \"scatter\", \"x\": [1], \"xaxis\": \"x\", \"y\": [21.0], \"yaxis\": \"y\"}, {\"hovertemplate\": \"color=ART<br>x=%{x}<br>y=%{y}<extra></extra>\", \"legendgroup\": \"ART\", \"marker\": {\"color\": \"#19d3f3\", \"symbol\": \"circle\"}, \"mode\": \"markers\", \"name\": \"ART\", \"orientation\": \"v\", \"showlegend\": true, \"type\": \"scatter\", \"x\": [1], \"xaxis\": \"x\", \"y\": [12.0], \"yaxis\": \"y\"}, {\"hovertemplate\": \"color=ASE<br>x=%{x}<br>y=%{y}<extra></extra>\", \"legendgroup\": \"ASE\", \"marker\": {\"color\": \"#FF6692\", \"symbol\": \"circle\"}, \"mode\": \"markers\", \"name\": \"ASE\", \"orientation\": \"v\", \"showlegend\": true, \"type\": \"scatter\", \"x\": [8], \"xaxis\": \"x\", \"y\": [16.25], \"yaxis\": \"y\"}, {\"hovertemplate\": \"color=ATL<br>x=%{x}<br>y=%{y}<extra></extra>\", \"legendgroup\": \"ATL\", \"marker\": {\"color\": \"#B6E880\", \"symbol\": \"circle\"}, \"mode\": \"markers\", \"name\": \"ATL\", \"orientation\": \"v\", \"showlegend\": true, \"type\": \"scatter\", \"x\": [507], \"xaxis\": \"x\", \"y\": [16.70414201183432], \"yaxis\": \"y\"}, {\"hovertemplate\": \"color=ATW<br>x=%{x}<br>y=%{y}<extra></extra>\", \"legendgroup\": \"ATW\", \"marker\": {\"color\": \"#FF97FF\", \"symbol\": \"circle\"}, \"mode\": \"markers\", \"name\": \"ATW\", \"orientation\": \"v\", \"showlegend\": true, \"type\": \"scatter\", \"x\": [7], \"xaxis\": \"x\", \"y\": [16.142857142857142], \"yaxis\": \"y\"}, {\"hovertemplate\": \"color=AUS<br>x=%{x}<br>y=%{y}<extra></extra>\", \"legendgroup\": \"AUS\", \"marker\": {\"color\": \"#FECB52\", \"symbol\": \"circle\"}, \"mode\": \"markers\", \"name\": \"AUS\", \"orientation\": \"v\", \"showlegend\": true, \"type\": \"scatter\", \"x\": [81], \"xaxis\": \"x\", \"y\": [13.135802469135802], \"yaxis\": \"y\"}, {\"hovertemplate\": \"color=AVL<br>x=%{x}<br>y=%{y}<extra></extra>\", \"legendgroup\": \"AVL\", \"marker\": {\"color\": \"#636efa\", \"symbol\": \"circle\"}, \"mode\": \"markers\", \"name\": \"AVL\", \"orientation\": \"v\", \"showlegend\": true, \"type\": \"scatter\", \"x\": [10], \"xaxis\": \"x\", \"y\": [18.8], \"yaxis\": \"y\"}, {\"hovertemplate\": \"color=AVP<br>x=%{x}<br>y=%{y}<extra></extra>\", \"legendgroup\": \"AVP\", \"marker\": {\"color\": \"#EF553B\", \"symbol\": \"circle\"}, \"mode\": \"markers\", \"name\": \"AVP\", \"orientation\": \"v\", \"showlegend\": true, \"type\": \"scatter\", \"x\": [8], \"xaxis\": \"x\", \"y\": [18.5], \"yaxis\": \"y\"}, {\"hovertemplate\": \"color=AZA<br>x=%{x}<br>y=%{y}<extra></extra>\", \"legendgroup\": \"AZA\", \"marker\": {\"color\": \"#00cc96\", \"symbol\": \"circle\"}, \"mode\": \"markers\", \"name\": \"AZA\", \"orientation\": \"v\", \"showlegend\": true, \"type\": \"scatter\", \"x\": [5], \"xaxis\": \"x\", \"y\": [11.6], \"yaxis\": \"y\"}, {\"hovertemplate\": \"color=AZO<br>x=%{x}<br>y=%{y}<extra></extra>\", \"legendgroup\": \"AZO\", \"marker\": {\"color\": \"#ab63fa\", \"symbol\": \"circle\"}, \"mode\": \"markers\", \"name\": \"AZO\", \"orientation\": \"v\", \"showlegend\": true, \"type\": \"scatter\", \"x\": [6], \"xaxis\": \"x\", \"y\": [23.666666666666668], \"yaxis\": \"y\"}, {\"hovertemplate\": \"color=BDL<br>x=%{x}<br>y=%{y}<extra></extra>\", \"legendgroup\": \"BDL\", \"marker\": {\"color\": \"#FFA15A\", \"symbol\": \"circle\"}, \"mode\": \"markers\", \"name\": \"BDL\", \"orientation\": \"v\", \"showlegend\": true, \"type\": \"scatter\", \"x\": [42], \"xaxis\": \"x\", \"y\": [13.333333333333334], \"yaxis\": \"y\"}, {\"hovertemplate\": \"color=BFF<br>x=%{x}<br>y=%{y}<extra></extra>\", \"legendgroup\": \"BFF\", \"marker\": {\"color\": \"#19d3f3\", \"symbol\": \"circle\"}, \"mode\": \"markers\", \"name\": \"BFF\", \"orientation\": \"v\", \"showlegend\": true, \"type\": \"scatter\", \"x\": [1], \"xaxis\": \"x\", \"y\": [10.0], \"yaxis\": \"y\"}, {\"hovertemplate\": \"color=BFL<br>x=%{x}<br>y=%{y}<extra></extra>\", \"legendgroup\": \"BFL\", \"marker\": {\"color\": \"#FF6692\", \"symbol\": \"circle\"}, \"mode\": \"markers\", \"name\": \"BFL\", \"orientation\": \"v\", \"showlegend\": true, \"type\": \"scatter\", \"x\": [4], \"xaxis\": \"x\", \"y\": [16.75], \"yaxis\": \"y\"}, {\"hovertemplate\": \"color=BGM<br>x=%{x}<br>y=%{y}<extra></extra>\", \"legendgroup\": \"BGM\", \"marker\": {\"color\": \"#B6E880\", \"symbol\": \"circle\"}, \"mode\": \"markers\", \"name\": \"BGM\", \"orientation\": \"v\", \"showlegend\": true, \"type\": \"scatter\", \"x\": [1], \"xaxis\": \"x\", \"y\": [30.0], \"yaxis\": \"y\"}, {\"hovertemplate\": \"color=BGR<br>x=%{x}<br>y=%{y}<extra></extra>\", \"legendgroup\": \"BGR\", \"marker\": {\"color\": \"#FF97FF\", \"symbol\": \"circle\"}, \"mode\": \"markers\", \"name\": \"BGR\", \"orientation\": \"v\", \"showlegend\": true, \"type\": \"scatter\", \"x\": [6], \"xaxis\": \"x\", \"y\": [24.666666666666668], \"yaxis\": \"y\"}, {\"hovertemplate\": \"color=BHM<br>x=%{x}<br>y=%{y}<extra></extra>\", \"legendgroup\": \"BHM\", \"marker\": {\"color\": \"#FECB52\", \"symbol\": \"circle\"}, \"mode\": \"markers\", \"name\": \"BHM\", \"orientation\": \"v\", \"showlegend\": true, \"type\": \"scatter\", \"x\": [27], \"xaxis\": \"x\", \"y\": [13.62962962962963], \"yaxis\": \"y\"}, {\"hovertemplate\": \"color=BIL<br>x=%{x}<br>y=%{y}<extra></extra>\", \"legendgroup\": \"BIL\", \"marker\": {\"color\": \"#636efa\", \"symbol\": \"circle\"}, \"mode\": \"markers\", \"name\": \"BIL\", \"orientation\": \"v\", \"showlegend\": true, \"type\": \"scatter\", \"x\": [5], \"xaxis\": \"x\", \"y\": [15.0], \"yaxis\": \"y\"}, {\"hovertemplate\": \"color=BIS<br>x=%{x}<br>y=%{y}<extra></extra>\", \"legendgroup\": \"BIS\", \"marker\": {\"color\": \"#EF553B\", \"symbol\": \"circle\"}, \"mode\": \"markers\", \"name\": \"BIS\", \"orientation\": \"v\", \"showlegend\": true, \"type\": \"scatter\", \"x\": [7], \"xaxis\": \"x\", \"y\": [15.714285714285714], \"yaxis\": \"y\"}, {\"hovertemplate\": \"color=BJI<br>x=%{x}<br>y=%{y}<extra></extra>\", \"legendgroup\": \"BJI\", \"marker\": {\"color\": \"#00cc96\", \"symbol\": \"circle\"}, \"mode\": \"markers\", \"name\": \"BJI\", \"orientation\": \"v\", \"showlegend\": true, \"type\": \"scatter\", \"x\": [2], \"xaxis\": \"x\", \"y\": [19.5], \"yaxis\": \"y\"}, {\"hovertemplate\": \"color=BKG<br>x=%{x}<br>y=%{y}<extra></extra>\", \"legendgroup\": \"BKG\", \"marker\": {\"color\": \"#ab63fa\", \"symbol\": \"circle\"}, \"mode\": \"markers\", \"name\": \"BKG\", \"orientation\": \"v\", \"showlegend\": true, \"type\": \"scatter\", \"x\": [1], \"xaxis\": \"x\", \"y\": [5.0], \"yaxis\": \"y\"}, {\"hovertemplate\": \"color=BLI<br>x=%{x}<br>y=%{y}<extra></extra>\", \"legendgroup\": \"BLI\", \"marker\": {\"color\": \"#FFA15A\", \"symbol\": \"circle\"}, \"mode\": \"markers\", \"name\": \"BLI\", \"orientation\": \"v\", \"showlegend\": true, \"type\": \"scatter\", \"x\": [9], \"xaxis\": \"x\", \"y\": [10.666666666666666], \"yaxis\": \"y\"}, {\"hovertemplate\": \"color=BLV<br>x=%{x}<br>y=%{y}<extra></extra>\", \"legendgroup\": \"BLV\", \"marker\": {\"color\": \"#19d3f3\", \"symbol\": \"circle\"}, \"mode\": \"markers\", \"name\": \"BLV\", \"orientation\": \"v\", \"showlegend\": true, \"type\": \"scatter\", \"x\": [1], \"xaxis\": \"x\", \"y\": [12.0], \"yaxis\": \"y\"}, {\"hovertemplate\": \"color=BMI<br>x=%{x}<br>y=%{y}<extra></extra>\", \"legendgroup\": \"BMI\", \"marker\": {\"color\": \"#FF6692\", \"symbol\": \"circle\"}, \"mode\": \"markers\", \"name\": \"BMI\", \"orientation\": \"v\", \"showlegend\": true, \"type\": \"scatter\", \"x\": [3], \"xaxis\": \"x\", \"y\": [15.0], \"yaxis\": \"y\"}, {\"hovertemplate\": \"color=BNA<br>x=%{x}<br>y=%{y}<extra></extra>\", \"legendgroup\": \"BNA\", \"marker\": {\"color\": \"#B6E880\", \"symbol\": \"circle\"}, \"mode\": \"markers\", \"name\": \"BNA\", \"orientation\": \"v\", \"showlegend\": true, \"type\": \"scatter\", \"x\": [100], \"xaxis\": \"x\", \"y\": [14.27], \"yaxis\": \"y\"}, {\"hovertemplate\": \"color=BOI<br>x=%{x}<br>y=%{y}<extra></extra>\", \"legendgroup\": \"BOI\", \"marker\": {\"color\": \"#FF97FF\", \"symbol\": \"circle\"}, \"mode\": \"markers\", \"name\": \"BOI\", \"orientation\": \"v\", \"showlegend\": true, \"type\": \"scatter\", \"x\": [20], \"xaxis\": \"x\", \"y\": [9.8], \"yaxis\": \"y\"}, {\"hovertemplate\": \"color=BOS<br>x=%{x}<br>y=%{y}<extra></extra>\", \"legendgroup\": \"BOS\", \"marker\": {\"color\": \"#FECB52\", \"symbol\": \"circle\"}, \"mode\": \"markers\", \"name\": \"BOS\", \"orientation\": \"v\", \"showlegend\": true, \"type\": \"scatter\", \"x\": [191], \"xaxis\": \"x\", \"y\": [20.361256544502616], \"yaxis\": \"y\"}, {\"hovertemplate\": \"color=BQK<br>x=%{x}<br>y=%{y}<extra></extra>\", \"legendgroup\": \"BQK\", \"marker\": {\"color\": \"#636efa\", \"symbol\": \"circle\"}, \"mode\": \"markers\", \"name\": \"BQK\", \"orientation\": \"v\", \"showlegend\": true, \"type\": \"scatter\", \"x\": [1], \"xaxis\": \"x\", \"y\": [8.0], \"yaxis\": \"y\"}, {\"hovertemplate\": \"color=BQN<br>x=%{x}<br>y=%{y}<extra></extra>\", \"legendgroup\": \"BQN\", \"marker\": {\"color\": \"#EF553B\", \"symbol\": \"circle\"}, \"mode\": \"markers\", \"name\": \"BQN\", \"orientation\": \"v\", \"showlegend\": true, \"type\": \"scatter\", \"x\": [1], \"xaxis\": \"x\", \"y\": [9.0], \"yaxis\": \"y\"}, {\"hovertemplate\": \"color=BRD<br>x=%{x}<br>y=%{y}<extra></extra>\", \"legendgroup\": \"BRD\", \"marker\": {\"color\": \"#00cc96\", \"symbol\": \"circle\"}, \"mode\": \"markers\", \"name\": \"BRD\", \"orientation\": \"v\", \"showlegend\": true, \"type\": \"scatter\", \"x\": [1], \"xaxis\": \"x\", \"y\": [25.0], \"yaxis\": \"y\"}, {\"hovertemplate\": \"color=BRO<br>x=%{x}<br>y=%{y}<extra></extra>\", \"legendgroup\": \"BRO\", \"marker\": {\"color\": \"#ab63fa\", \"symbol\": \"circle\"}, \"mode\": \"markers\", \"name\": \"BRO\", \"orientation\": \"v\", \"showlegend\": true, \"type\": \"scatter\", \"x\": [5], \"xaxis\": \"x\", \"y\": [14.8], \"yaxis\": \"y\"}, {\"hovertemplate\": \"color=BTR<br>x=%{x}<br>y=%{y}<extra></extra>\", \"legendgroup\": \"BTR\", \"marker\": {\"color\": \"#FFA15A\", \"symbol\": \"circle\"}, \"mode\": \"markers\", \"name\": \"BTR\", \"orientation\": \"v\", \"showlegend\": true, \"type\": \"scatter\", \"x\": [7], \"xaxis\": \"x\", \"y\": [17.0], \"yaxis\": \"y\"}, {\"hovertemplate\": \"color=BTV<br>x=%{x}<br>y=%{y}<extra></extra>\", \"legendgroup\": \"BTV\", \"marker\": {\"color\": \"#19d3f3\", \"symbol\": \"circle\"}, \"mode\": \"markers\", \"name\": \"BTV\", \"orientation\": \"v\", \"showlegend\": true, \"type\": \"scatter\", \"x\": [7], \"xaxis\": \"x\", \"y\": [19.285714285714285], \"yaxis\": \"y\"}, {\"hovertemplate\": \"color=BUF<br>x=%{x}<br>y=%{y}<extra></extra>\", \"legendgroup\": \"BUF\", \"marker\": {\"color\": \"#FF6692\", \"symbol\": \"circle\"}, \"mode\": \"markers\", \"name\": \"BUF\", \"orientation\": \"v\", \"showlegend\": true, \"type\": \"scatter\", \"x\": [34], \"xaxis\": \"x\", \"y\": [17.61764705882353], \"yaxis\": \"y\"}, {\"hovertemplate\": \"color=BUR<br>x=%{x}<br>y=%{y}<extra></extra>\", \"legendgroup\": \"BUR\", \"marker\": {\"color\": \"#B6E880\", \"symbol\": \"circle\"}, \"mode\": \"markers\", \"name\": \"BUR\", \"orientation\": \"v\", \"showlegend\": true, \"type\": \"scatter\", \"x\": [36], \"xaxis\": \"x\", \"y\": [13.555555555555555], \"yaxis\": \"y\"}, {\"hovertemplate\": \"color=BWI<br>x=%{x}<br>y=%{y}<extra></extra>\", \"legendgroup\": \"BWI\", \"marker\": {\"color\": \"#FF97FF\", \"symbol\": \"circle\"}, \"mode\": \"markers\", \"name\": \"BWI\", \"orientation\": \"v\", \"showlegend\": true, \"type\": \"scatter\", \"x\": [132], \"xaxis\": \"x\", \"y\": [13.242424242424242], \"yaxis\": \"y\"}, {\"hovertemplate\": \"color=BZN<br>x=%{x}<br>y=%{y}<extra></extra>\", \"legendgroup\": \"BZN\", \"marker\": {\"color\": \"#FECB52\", \"symbol\": \"circle\"}, \"mode\": \"markers\", \"name\": \"BZN\", \"orientation\": \"v\", \"showlegend\": true, \"type\": \"scatter\", \"x\": [11], \"xaxis\": \"x\", \"y\": [18.0], \"yaxis\": \"y\"}, {\"hovertemplate\": \"color=CAE<br>x=%{x}<br>y=%{y}<extra></extra>\", \"legendgroup\": \"CAE\", \"marker\": {\"color\": \"#636efa\", \"symbol\": \"circle\"}, \"mode\": \"markers\", \"name\": \"CAE\", \"orientation\": \"v\", \"showlegend\": true, \"type\": \"scatter\", \"x\": [8], \"xaxis\": \"x\", \"y\": [13.125], \"yaxis\": \"y\"}, {\"hovertemplate\": \"color=CAK<br>x=%{x}<br>y=%{y}<extra></extra>\", \"legendgroup\": \"CAK\", \"marker\": {\"color\": \"#EF553B\", \"symbol\": \"circle\"}, \"mode\": \"markers\", \"name\": \"CAK\", \"orientation\": \"v\", \"showlegend\": true, \"type\": \"scatter\", \"x\": [10], \"xaxis\": \"x\", \"y\": [21.0], \"yaxis\": \"y\"}, {\"hovertemplate\": \"color=CDC<br>x=%{x}<br>y=%{y}<extra></extra>\", \"legendgroup\": \"CDC\", \"marker\": {\"color\": \"#00cc96\", \"symbol\": \"circle\"}, \"mode\": \"markers\", \"name\": \"CDC\", \"orientation\": \"v\", \"showlegend\": true, \"type\": \"scatter\", \"x\": [3], \"xaxis\": \"x\", \"y\": [9.666666666666666], \"yaxis\": \"y\"}, {\"hovertemplate\": \"color=CHA<br>x=%{x}<br>y=%{y}<extra></extra>\", \"legendgroup\": \"CHA\", \"marker\": {\"color\": \"#ab63fa\", \"symbol\": \"circle\"}, \"mode\": \"markers\", \"name\": \"CHA\", \"orientation\": \"v\", \"showlegend\": true, \"type\": \"scatter\", \"x\": [13], \"xaxis\": \"x\", \"y\": [19.923076923076923], \"yaxis\": \"y\"}, {\"hovertemplate\": \"color=CHO<br>x=%{x}<br>y=%{y}<extra></extra>\", \"legendgroup\": \"CHO\", \"marker\": {\"color\": \"#FFA15A\", \"symbol\": \"circle\"}, \"mode\": \"markers\", \"name\": \"CHO\", \"orientation\": \"v\", \"showlegend\": true, \"type\": \"scatter\", \"x\": [8], \"xaxis\": \"x\", \"y\": [17.25], \"yaxis\": \"y\"}, {\"hovertemplate\": \"color=CHS<br>x=%{x}<br>y=%{y}<extra></extra>\", \"legendgroup\": \"CHS\", \"marker\": {\"color\": \"#19d3f3\", \"symbol\": \"circle\"}, \"mode\": \"markers\", \"name\": \"CHS\", \"orientation\": \"v\", \"showlegend\": true, \"type\": \"scatter\", \"x\": [36], \"xaxis\": \"x\", \"y\": [14.666666666666666], \"yaxis\": \"y\"}, {\"hovertemplate\": \"color=CID<br>x=%{x}<br>y=%{y}<extra></extra>\", \"legendgroup\": \"CID\", \"marker\": {\"color\": \"#FF6692\", \"symbol\": \"circle\"}, \"mode\": \"markers\", \"name\": \"CID\", \"orientation\": \"v\", \"showlegend\": true, \"type\": \"scatter\", \"x\": [14], \"xaxis\": \"x\", \"y\": [10.928571428571429], \"yaxis\": \"y\"}, {\"hovertemplate\": \"color=CIU<br>x=%{x}<br>y=%{y}<extra></extra>\", \"legendgroup\": \"CIU\", \"marker\": {\"color\": \"#B6E880\", \"symbol\": \"circle\"}, \"mode\": \"markers\", \"name\": \"CIU\", \"orientation\": \"v\", \"showlegend\": true, \"type\": \"scatter\", \"x\": [1], \"xaxis\": \"x\", \"y\": [34.0], \"yaxis\": \"y\"}, {\"hovertemplate\": \"color=CLE<br>x=%{x}<br>y=%{y}<extra></extra>\", \"legendgroup\": \"CLE\", \"marker\": {\"color\": \"#FF97FF\", \"symbol\": \"circle\"}, \"mode\": \"markers\", \"name\": \"CLE\", \"orientation\": \"v\", \"showlegend\": true, \"type\": \"scatter\", \"x\": [57], \"xaxis\": \"x\", \"y\": [15.75438596491228], \"yaxis\": \"y\"}, {\"hovertemplate\": \"color=CLL<br>x=%{x}<br>y=%{y}<extra></extra>\", \"legendgroup\": \"CLL\", \"marker\": {\"color\": \"#FECB52\", \"symbol\": \"circle\"}, \"mode\": \"markers\", \"name\": \"CLL\", \"orientation\": \"v\", \"showlegend\": true, \"type\": \"scatter\", \"x\": [4], \"xaxis\": \"x\", \"y\": [12.75], \"yaxis\": \"y\"}, {\"hovertemplate\": \"color=CLT<br>x=%{x}<br>y=%{y}<extra></extra>\", \"legendgroup\": \"CLT\", \"marker\": {\"color\": \"#636efa\", \"symbol\": \"circle\"}, \"mode\": \"markers\", \"name\": \"CLT\", \"orientation\": \"v\", \"showlegend\": true, \"type\": \"scatter\", \"x\": [314], \"xaxis\": \"x\", \"y\": [21.455414012738853], \"yaxis\": \"y\"}, {\"hovertemplate\": \"color=CMH<br>x=%{x}<br>y=%{y}<extra></extra>\", \"legendgroup\": \"CMH\", \"marker\": {\"color\": \"#EF553B\", \"symbol\": \"circle\"}, \"mode\": \"markers\", \"name\": \"CMH\", \"orientation\": \"v\", \"showlegend\": true, \"type\": \"scatter\", \"x\": [53], \"xaxis\": \"x\", \"y\": [15.622641509433961], \"yaxis\": \"y\"}, {\"hovertemplate\": \"color=CMI<br>x=%{x}<br>y=%{y}<extra></extra>\", \"legendgroup\": \"CMI\", \"marker\": {\"color\": \"#00cc96\", \"symbol\": \"circle\"}, \"mode\": \"markers\", \"name\": \"CMI\", \"orientation\": \"v\", \"showlegend\": true, \"type\": \"scatter\", \"x\": [4], \"xaxis\": \"x\", \"y\": [25.5], \"yaxis\": \"y\"}, {\"hovertemplate\": \"color=CMX<br>x=%{x}<br>y=%{y}<extra></extra>\", \"legendgroup\": \"CMX\", \"marker\": {\"color\": \"#ab63fa\", \"symbol\": \"circle\"}, \"mode\": \"markers\", \"name\": \"CMX\", \"orientation\": \"v\", \"showlegend\": true, \"type\": \"scatter\", \"x\": [1], \"xaxis\": \"x\", \"y\": [12.0], \"yaxis\": \"y\"}, {\"hovertemplate\": \"color=COD<br>x=%{x}<br>y=%{y}<extra></extra>\", \"legendgroup\": \"COD\", \"marker\": {\"color\": \"#FFA15A\", \"symbol\": \"circle\"}, \"mode\": \"markers\", \"name\": \"COD\", \"orientation\": \"v\", \"showlegend\": true, \"type\": \"scatter\", \"x\": [4], \"xaxis\": \"x\", \"y\": [16.0], \"yaxis\": \"y\"}, {\"hovertemplate\": \"color=COS<br>x=%{x}<br>y=%{y}<extra></extra>\", \"legendgroup\": \"COS\", \"marker\": {\"color\": \"#19d3f3\", \"symbol\": \"circle\"}, \"mode\": \"markers\", \"name\": \"COS\", \"orientation\": \"v\", \"showlegend\": true, \"type\": \"scatter\", \"x\": [11], \"xaxis\": \"x\", \"y\": [15.545454545454545], \"yaxis\": \"y\"}, {\"hovertemplate\": \"color=CPR<br>x=%{x}<br>y=%{y}<extra></extra>\", \"legendgroup\": \"CPR\", \"marker\": {\"color\": \"#FF6692\", \"symbol\": \"circle\"}, \"mode\": \"markers\", \"name\": \"CPR\", \"orientation\": \"v\", \"showlegend\": true, \"type\": \"scatter\", \"x\": [1], \"xaxis\": \"x\", \"y\": [28.0], \"yaxis\": \"y\"}, {\"hovertemplate\": \"color=CRP<br>x=%{x}<br>y=%{y}<extra></extra>\", \"legendgroup\": \"CRP\", \"marker\": {\"color\": \"#B6E880\", \"symbol\": \"circle\"}, \"mode\": \"markers\", \"name\": \"CRP\", \"orientation\": \"v\", \"showlegend\": true, \"type\": \"scatter\", \"x\": [7], \"xaxis\": \"x\", \"y\": [17.428571428571427], \"yaxis\": \"y\"}, {\"hovertemplate\": \"color=CRW<br>x=%{x}<br>y=%{y}<extra></extra>\", \"legendgroup\": \"CRW\", \"marker\": {\"color\": \"#FF97FF\", \"symbol\": \"circle\"}, \"mode\": \"markers\", \"name\": \"CRW\", \"orientation\": \"v\", \"showlegend\": true, \"type\": \"scatter\", \"x\": [6], \"xaxis\": \"x\", \"y\": [11.666666666666666], \"yaxis\": \"y\"}, {\"hovertemplate\": \"color=CVG<br>x=%{x}<br>y=%{y}<extra></extra>\", \"legendgroup\": \"CVG\", \"marker\": {\"color\": \"#FECB52\", \"symbol\": \"circle\"}, \"mode\": \"markers\", \"name\": \"CVG\", \"orientation\": \"v\", \"showlegend\": true, \"type\": \"scatter\", \"x\": [61], \"xaxis\": \"x\", \"y\": [14.655737704918034], \"yaxis\": \"y\"}, {\"hovertemplate\": \"color=CWA<br>x=%{x}<br>y=%{y}<extra></extra>\", \"legendgroup\": \"CWA\", \"marker\": {\"color\": \"#636efa\", \"symbol\": \"circle\"}, \"mode\": \"markers\", \"name\": \"CWA\", \"orientation\": \"v\", \"showlegend\": true, \"type\": \"scatter\", \"x\": [4], \"xaxis\": \"x\", \"y\": [17.25], \"yaxis\": \"y\"}, {\"hovertemplate\": \"color=DAB<br>x=%{x}<br>y=%{y}<extra></extra>\", \"legendgroup\": \"DAB\", \"marker\": {\"color\": \"#EF553B\", \"symbol\": \"circle\"}, \"mode\": \"markers\", \"name\": \"DAB\", \"orientation\": \"v\", \"showlegend\": true, \"type\": \"scatter\", \"x\": [10], \"xaxis\": \"x\", \"y\": [13.1], \"yaxis\": \"y\"}, {\"hovertemplate\": \"color=DAL<br>x=%{x}<br>y=%{y}<extra></extra>\", \"legendgroup\": \"DAL\", \"marker\": {\"color\": \"#00cc96\", \"symbol\": \"circle\"}, \"mode\": \"markers\", \"name\": \"DAL\", \"orientation\": \"v\", \"showlegend\": true, \"type\": \"scatter\", \"x\": [78], \"xaxis\": \"x\", \"y\": [13.435897435897436], \"yaxis\": \"y\"}, {\"hovertemplate\": \"color=DAY<br>x=%{x}<br>y=%{y}<extra></extra>\", \"legendgroup\": \"DAY\", \"marker\": {\"color\": \"#ab63fa\", \"symbol\": \"circle\"}, \"mode\": \"markers\", \"name\": \"DAY\", \"orientation\": \"v\", \"showlegend\": true, \"type\": \"scatter\", \"x\": [17], \"xaxis\": \"x\", \"y\": [14.294117647058824], \"yaxis\": \"y\"}, {\"hovertemplate\": \"color=DBQ<br>x=%{x}<br>y=%{y}<extra></extra>\", \"legendgroup\": \"DBQ\", \"marker\": {\"color\": \"#FFA15A\", \"symbol\": \"circle\"}, \"mode\": \"markers\", \"name\": \"DBQ\", \"orientation\": \"v\", \"showlegend\": true, \"type\": \"scatter\", \"x\": [2], \"xaxis\": \"x\", \"y\": [17.5], \"yaxis\": \"y\"}, {\"hovertemplate\": \"color=DCA<br>x=%{x}<br>y=%{y}<extra></extra>\", \"legendgroup\": \"DCA\", \"marker\": {\"color\": \"#19d3f3\", \"symbol\": \"circle\"}, \"mode\": \"markers\", \"name\": \"DCA\", \"orientation\": \"v\", \"showlegend\": true, \"type\": \"scatter\", \"x\": [178], \"xaxis\": \"x\", \"y\": [19.10674157303371], \"yaxis\": \"y\"}, {\"hovertemplate\": \"color=DEN<br>x=%{x}<br>y=%{y}<extra></extra>\", \"legendgroup\": \"DEN\", \"marker\": {\"color\": \"#FF6692\", \"symbol\": \"circle\"}, \"mode\": \"markers\", \"name\": \"DEN\", \"orientation\": \"v\", \"showlegend\": true, \"type\": \"scatter\", \"x\": [342], \"xaxis\": \"x\", \"y\": [18.763157894736842], \"yaxis\": \"y\"}, {\"hovertemplate\": \"color=DFW<br>x=%{x}<br>y=%{y}<extra></extra>\", \"legendgroup\": \"DFW\", \"marker\": {\"color\": \"#B6E880\", \"symbol\": \"circle\"}, \"mode\": \"markers\", \"name\": \"DFW\", \"orientation\": \"v\", \"showlegend\": true, \"type\": \"scatter\", \"x\": [335], \"xaxis\": \"x\", \"y\": [19.37910447761194], \"yaxis\": \"y\"}, {\"hovertemplate\": \"color=DIK<br>x=%{x}<br>y=%{y}<extra></extra>\", \"legendgroup\": \"DIK\", \"marker\": {\"color\": \"#FF97FF\", \"symbol\": \"circle\"}, \"mode\": \"markers\", \"name\": \"DIK\", \"orientation\": \"v\", \"showlegend\": true, \"type\": \"scatter\", \"x\": [2], \"xaxis\": \"x\", \"y\": [13.0], \"yaxis\": \"y\"}, {\"hovertemplate\": \"color=DLG<br>x=%{x}<br>y=%{y}<extra></extra>\", \"legendgroup\": \"DLG\", \"marker\": {\"color\": \"#FECB52\", \"symbol\": \"circle\"}, \"mode\": \"markers\", \"name\": \"DLG\", \"orientation\": \"v\", \"showlegend\": true, \"type\": \"scatter\", \"x\": [1], \"xaxis\": \"x\", \"y\": [4.0], \"yaxis\": \"y\"}, {\"hovertemplate\": \"color=DLH<br>x=%{x}<br>y=%{y}<extra></extra>\", \"legendgroup\": \"DLH\", \"marker\": {\"color\": \"#636efa\", \"symbol\": \"circle\"}, \"mode\": \"markers\", \"name\": \"DLH\", \"orientation\": \"v\", \"showlegend\": true, \"type\": \"scatter\", \"x\": [1], \"xaxis\": \"x\", \"y\": [25.0], \"yaxis\": \"y\"}, {\"hovertemplate\": \"color=DRO<br>x=%{x}<br>y=%{y}<extra></extra>\", \"legendgroup\": \"DRO\", \"marker\": {\"color\": \"#EF553B\", \"symbol\": \"circle\"}, \"mode\": \"markers\", \"name\": \"DRO\", \"orientation\": \"v\", \"showlegend\": true, \"type\": \"scatter\", \"x\": [8], \"xaxis\": \"x\", \"y\": [13.25], \"yaxis\": \"y\"}, {\"hovertemplate\": \"color=DRT<br>x=%{x}<br>y=%{y}<extra></extra>\", \"legendgroup\": \"DRT\", \"marker\": {\"color\": \"#00cc96\", \"symbol\": \"circle\"}, \"mode\": \"markers\", \"name\": \"DRT\", \"orientation\": \"v\", \"showlegend\": true, \"type\": \"scatter\", \"x\": [1], \"xaxis\": \"x\", \"y\": [15.0], \"yaxis\": \"y\"}, {\"hovertemplate\": \"color=DSM<br>x=%{x}<br>y=%{y}<extra></extra>\", \"legendgroup\": \"DSM\", \"marker\": {\"color\": \"#ab63fa\", \"symbol\": \"circle\"}, \"mode\": \"markers\", \"name\": \"DSM\", \"orientation\": \"v\", \"showlegend\": true, \"type\": \"scatter\", \"x\": [12], \"xaxis\": \"x\", \"y\": [14.166666666666666], \"yaxis\": \"y\"}, {\"hovertemplate\": \"color=DTW<br>x=%{x}<br>y=%{y}<extra></extra>\", \"legendgroup\": \"DTW\", \"marker\": {\"color\": \"#FFA15A\", \"symbol\": \"circle\"}, \"mode\": \"markers\", \"name\": \"DTW\", \"orientation\": \"v\", \"showlegend\": true, \"type\": \"scatter\", \"x\": [218], \"xaxis\": \"x\", \"y\": [18.339449541284402], \"yaxis\": \"y\"}, {\"hovertemplate\": \"color=DVL<br>x=%{x}<br>y=%{y}<extra></extra>\", \"legendgroup\": \"DVL\", \"marker\": {\"color\": \"#19d3f3\", \"symbol\": \"circle\"}, \"mode\": \"markers\", \"name\": \"DVL\", \"orientation\": \"v\", \"showlegend\": true, \"type\": \"scatter\", \"x\": [2], \"xaxis\": \"x\", \"y\": [15.5], \"yaxis\": \"y\"}, {\"hovertemplate\": \"color=EAT<br>x=%{x}<br>y=%{y}<extra></extra>\", \"legendgroup\": \"EAT\", \"marker\": {\"color\": \"#FF6692\", \"symbol\": \"circle\"}, \"mode\": \"markers\", \"name\": \"EAT\", \"orientation\": \"v\", \"showlegend\": true, \"type\": \"scatter\", \"x\": [1], \"xaxis\": \"x\", \"y\": [5.0], \"yaxis\": \"y\"}, {\"hovertemplate\": \"color=EAU<br>x=%{x}<br>y=%{y}<extra></extra>\", \"legendgroup\": \"EAU\", \"marker\": {\"color\": \"#B6E880\", \"symbol\": \"circle\"}, \"mode\": \"markers\", \"name\": \"EAU\", \"orientation\": \"v\", \"showlegend\": true, \"type\": \"scatter\", \"x\": [2], \"xaxis\": \"x\", \"y\": [25.0], \"yaxis\": \"y\"}, {\"hovertemplate\": \"color=ECP<br>x=%{x}<br>y=%{y}<extra></extra>\", \"legendgroup\": \"ECP\", \"marker\": {\"color\": \"#FF97FF\", \"symbol\": \"circle\"}, \"mode\": \"markers\", \"name\": \"ECP\", \"orientation\": \"v\", \"showlegend\": true, \"type\": \"scatter\", \"x\": [10], \"xaxis\": \"x\", \"y\": [13.3], \"yaxis\": \"y\"}, {\"hovertemplate\": \"color=EGE<br>x=%{x}<br>y=%{y}<extra></extra>\", \"legendgroup\": \"EGE\", \"marker\": {\"color\": \"#FECB52\", \"symbol\": \"circle\"}, \"mode\": \"markers\", \"name\": \"EGE\", \"orientation\": \"v\", \"showlegend\": true, \"type\": \"scatter\", \"x\": [4], \"xaxis\": \"x\", \"y\": [23.75], \"yaxis\": \"y\"}, {\"hovertemplate\": \"color=EKO<br>x=%{x}<br>y=%{y}<extra></extra>\", \"legendgroup\": \"EKO\", \"marker\": {\"color\": \"#636efa\", \"symbol\": \"circle\"}, \"mode\": \"markers\", \"name\": \"EKO\", \"orientation\": \"v\", \"showlegend\": true, \"type\": \"scatter\", \"x\": [1], \"xaxis\": \"x\", \"y\": [19.0], \"yaxis\": \"y\"}, {\"hovertemplate\": \"color=ELM<br>x=%{x}<br>y=%{y}<extra></extra>\", \"legendgroup\": \"ELM\", \"marker\": {\"color\": \"#EF553B\", \"symbol\": \"circle\"}, \"mode\": \"markers\", \"name\": \"ELM\", \"orientation\": \"v\", \"showlegend\": true, \"type\": \"scatter\", \"x\": [2], \"xaxis\": \"x\", \"y\": [13.0], \"yaxis\": \"y\"}, {\"hovertemplate\": \"color=ELP<br>x=%{x}<br>y=%{y}<extra></extra>\", \"legendgroup\": \"ELP\", \"marker\": {\"color\": \"#00cc96\", \"symbol\": \"circle\"}, \"mode\": \"markers\", \"name\": \"ELP\", \"orientation\": \"v\", \"showlegend\": true, \"type\": \"scatter\", \"x\": [19], \"xaxis\": \"x\", \"y\": [14.894736842105264], \"yaxis\": \"y\"}, {\"hovertemplate\": \"color=ERI<br>x=%{x}<br>y=%{y}<extra></extra>\", \"legendgroup\": \"ERI\", \"marker\": {\"color\": \"#ab63fa\", \"symbol\": \"circle\"}, \"mode\": \"markers\", \"name\": \"ERI\", \"orientation\": \"v\", \"showlegend\": true, \"type\": \"scatter\", \"x\": [5], \"xaxis\": \"x\", \"y\": [14.8], \"yaxis\": \"y\"}, {\"hovertemplate\": \"color=EUG<br>x=%{x}<br>y=%{y}<extra></extra>\", \"legendgroup\": \"EUG\", \"marker\": {\"color\": \"#FFA15A\", \"symbol\": \"circle\"}, \"mode\": \"markers\", \"name\": \"EUG\", \"orientation\": \"v\", \"showlegend\": true, \"type\": \"scatter\", \"x\": [9], \"xaxis\": \"x\", \"y\": [15.777777777777779], \"yaxis\": \"y\"}, {\"hovertemplate\": \"color=EVV<br>x=%{x}<br>y=%{y}<extra></extra>\", \"legendgroup\": \"EVV\", \"marker\": {\"color\": \"#19d3f3\", \"symbol\": \"circle\"}, \"mode\": \"markers\", \"name\": \"EVV\", \"orientation\": \"v\", \"showlegend\": true, \"type\": \"scatter\", \"x\": [2], \"xaxis\": \"x\", \"y\": [19.0], \"yaxis\": \"y\"}, {\"hovertemplate\": \"color=EWN<br>x=%{x}<br>y=%{y}<extra></extra>\", \"legendgroup\": \"EWN\", \"marker\": {\"color\": \"#FF6692\", \"symbol\": \"circle\"}, \"mode\": \"markers\", \"name\": \"EWN\", \"orientation\": \"v\", \"showlegend\": true, \"type\": \"scatter\", \"x\": [2], \"xaxis\": \"x\", \"y\": [26.5], \"yaxis\": \"y\"}, {\"hovertemplate\": \"color=EWR<br>x=%{x}<br>y=%{y}<extra></extra>\", \"legendgroup\": \"EWR\", \"marker\": {\"color\": \"#B6E880\", \"symbol\": \"circle\"}, \"mode\": \"markers\", \"name\": \"EWR\", \"orientation\": \"v\", \"showlegend\": true, \"type\": \"scatter\", \"x\": [175], \"xaxis\": \"x\", \"y\": [26.194285714285716], \"yaxis\": \"y\"}, {\"hovertemplate\": \"color=EYW<br>x=%{x}<br>y=%{y}<extra></extra>\", \"legendgroup\": \"EYW\", \"marker\": {\"color\": \"#FF97FF\", \"symbol\": \"circle\"}, \"mode\": \"markers\", \"name\": \"EYW\", \"orientation\": \"v\", \"showlegend\": true, \"type\": \"scatter\", \"x\": [5], \"xaxis\": \"x\", \"y\": [10.4], \"yaxis\": \"y\"}, {\"hovertemplate\": \"color=FAI<br>x=%{x}<br>y=%{y}<extra></extra>\", \"legendgroup\": \"FAI\", \"marker\": {\"color\": \"#FECB52\", \"symbol\": \"circle\"}, \"mode\": \"markers\", \"name\": \"FAI\", \"orientation\": \"v\", \"showlegend\": true, \"type\": \"scatter\", \"x\": [5], \"xaxis\": \"x\", \"y\": [9.2], \"yaxis\": \"y\"}, {\"hovertemplate\": \"color=FAR<br>x=%{x}<br>y=%{y}<extra></extra>\", \"legendgroup\": \"FAR\", \"marker\": {\"color\": \"#636efa\", \"symbol\": \"circle\"}, \"mode\": \"markers\", \"name\": \"FAR\", \"orientation\": \"v\", \"showlegend\": true, \"type\": \"scatter\", \"x\": [10], \"xaxis\": \"x\", \"y\": [23.0], \"yaxis\": \"y\"}, {\"hovertemplate\": \"color=FAT<br>x=%{x}<br>y=%{y}<extra></extra>\", \"legendgroup\": \"FAT\", \"marker\": {\"color\": \"#EF553B\", \"symbol\": \"circle\"}, \"mode\": \"markers\", \"name\": \"FAT\", \"orientation\": \"v\", \"showlegend\": true, \"type\": \"scatter\", \"x\": [19], \"xaxis\": \"x\", \"y\": [12.736842105263158], \"yaxis\": \"y\"}, {\"hovertemplate\": \"color=FAY<br>x=%{x}<br>y=%{y}<extra></extra>\", \"legendgroup\": \"FAY\", \"marker\": {\"color\": \"#00cc96\", \"symbol\": \"circle\"}, \"mode\": \"markers\", \"name\": \"FAY\", \"orientation\": \"v\", \"showlegend\": true, \"type\": \"scatter\", \"x\": [3], \"xaxis\": \"x\", \"y\": [9.333333333333334], \"yaxis\": \"y\"}, {\"hovertemplate\": \"color=FCA<br>x=%{x}<br>y=%{y}<extra></extra>\", \"legendgroup\": \"FCA\", \"marker\": {\"color\": \"#ab63fa\", \"symbol\": \"circle\"}, \"mode\": \"markers\", \"name\": \"FCA\", \"orientation\": \"v\", \"showlegend\": true, \"type\": \"scatter\", \"x\": [3], \"xaxis\": \"x\", \"y\": [23.0], \"yaxis\": \"y\"}, {\"hovertemplate\": \"color=FLL<br>x=%{x}<br>y=%{y}<extra></extra>\", \"legendgroup\": \"FLL\", \"marker\": {\"color\": \"#FFA15A\", \"symbol\": \"circle\"}, \"mode\": \"markers\", \"name\": \"FLL\", \"orientation\": \"v\", \"showlegend\": true, \"type\": \"scatter\", \"x\": [120], \"xaxis\": \"x\", \"y\": [18.133333333333333], \"yaxis\": \"y\"}, {\"hovertemplate\": \"color=FLO<br>x=%{x}<br>y=%{y}<extra></extra>\", \"legendgroup\": \"FLO\", \"marker\": {\"color\": \"#19d3f3\", \"symbol\": \"circle\"}, \"mode\": \"markers\", \"name\": \"FLO\", \"orientation\": \"v\", \"showlegend\": true, \"type\": \"scatter\", \"x\": [2], \"xaxis\": \"x\", \"y\": [19.5], \"yaxis\": \"y\"}, {\"hovertemplate\": \"color=FNT<br>x=%{x}<br>y=%{y}<extra></extra>\", \"legendgroup\": \"FNT\", \"marker\": {\"color\": \"#FF6692\", \"symbol\": \"circle\"}, \"mode\": \"markers\", \"name\": \"FNT\", \"orientation\": \"v\", \"showlegend\": true, \"type\": \"scatter\", \"x\": [7], \"xaxis\": \"x\", \"y\": [16.142857142857142], \"yaxis\": \"y\"}, {\"hovertemplate\": \"color=FSD<br>x=%{x}<br>y=%{y}<extra></extra>\", \"legendgroup\": \"FSD\", \"marker\": {\"color\": \"#B6E880\", \"symbol\": \"circle\"}, \"mode\": \"markers\", \"name\": \"FSD\", \"orientation\": \"v\", \"showlegend\": true, \"type\": \"scatter\", \"x\": [11], \"xaxis\": \"x\", \"y\": [15.272727272727273], \"yaxis\": \"y\"}, {\"hovertemplate\": \"color=FSM<br>x=%{x}<br>y=%{y}<extra></extra>\", \"legendgroup\": \"FSM\", \"marker\": {\"color\": \"#FF97FF\", \"symbol\": \"circle\"}, \"mode\": \"markers\", \"name\": \"FSM\", \"orientation\": \"v\", \"showlegend\": true, \"type\": \"scatter\", \"x\": [3], \"xaxis\": \"x\", \"y\": [14.0], \"yaxis\": \"y\"}, {\"hovertemplate\": \"color=FWA<br>x=%{x}<br>y=%{y}<extra></extra>\", \"legendgroup\": \"FWA\", \"marker\": {\"color\": \"#FECB52\", \"symbol\": \"circle\"}, \"mode\": \"markers\", \"name\": \"FWA\", \"orientation\": \"v\", \"showlegend\": true, \"type\": \"scatter\", \"x\": [5], \"xaxis\": \"x\", \"y\": [20.0], \"yaxis\": \"y\"}, {\"hovertemplate\": \"color=GCC<br>x=%{x}<br>y=%{y}<extra></extra>\", \"legendgroup\": \"GCC\", \"marker\": {\"color\": \"#636efa\", \"symbol\": \"circle\"}, \"mode\": \"markers\", \"name\": \"GCC\", \"orientation\": \"v\", \"showlegend\": true, \"type\": \"scatter\", \"x\": [1], \"xaxis\": \"x\", \"y\": [28.0], \"yaxis\": \"y\"}, {\"hovertemplate\": \"color=GCK<br>x=%{x}<br>y=%{y}<extra></extra>\", \"legendgroup\": \"GCK\", \"marker\": {\"color\": \"#EF553B\", \"symbol\": \"circle\"}, \"mode\": \"markers\", \"name\": \"GCK\", \"orientation\": \"v\", \"showlegend\": true, \"type\": \"scatter\", \"x\": [1], \"xaxis\": \"x\", \"y\": [13.0], \"yaxis\": \"y\"}, {\"hovertemplate\": \"color=GEG<br>x=%{x}<br>y=%{y}<extra></extra>\", \"legendgroup\": \"GEG\", \"marker\": {\"color\": \"#00cc96\", \"symbol\": \"circle\"}, \"mode\": \"markers\", \"name\": \"GEG\", \"orientation\": \"v\", \"showlegend\": true, \"type\": \"scatter\", \"x\": [39], \"xaxis\": \"x\", \"y\": [13.461538461538462], \"yaxis\": \"y\"}, {\"hovertemplate\": \"color=GFK<br>x=%{x}<br>y=%{y}<extra></extra>\", \"legendgroup\": \"GFK\", \"marker\": {\"color\": \"#ab63fa\", \"symbol\": \"circle\"}, \"mode\": \"markers\", \"name\": \"GFK\", \"orientation\": \"v\", \"showlegend\": true, \"type\": \"scatter\", \"x\": [1], \"xaxis\": \"x\", \"y\": [17.0], \"yaxis\": \"y\"}, {\"hovertemplate\": \"color=GGG<br>x=%{x}<br>y=%{y}<extra></extra>\", \"legendgroup\": \"GGG\", \"marker\": {\"color\": \"#FFA15A\", \"symbol\": \"circle\"}, \"mode\": \"markers\", \"name\": \"GGG\", \"orientation\": \"v\", \"showlegend\": true, \"type\": \"scatter\", \"x\": [2], \"xaxis\": \"x\", \"y\": [11.5], \"yaxis\": \"y\"}, {\"hovertemplate\": \"color=GJT<br>x=%{x}<br>y=%{y}<extra></extra>\", \"legendgroup\": \"GJT\", \"marker\": {\"color\": \"#19d3f3\", \"symbol\": \"circle\"}, \"mode\": \"markers\", \"name\": \"GJT\", \"orientation\": \"v\", \"showlegend\": true, \"type\": \"scatter\", \"x\": [4], \"xaxis\": \"x\", \"y\": [15.25], \"yaxis\": \"y\"}, {\"hovertemplate\": \"color=GNV<br>x=%{x}<br>y=%{y}<extra></extra>\", \"legendgroup\": \"GNV\", \"marker\": {\"color\": \"#FF6692\", \"symbol\": \"circle\"}, \"mode\": \"markers\", \"name\": \"GNV\", \"orientation\": \"v\", \"showlegend\": true, \"type\": \"scatter\", \"x\": [3], \"xaxis\": \"x\", \"y\": [10.0], \"yaxis\": \"y\"}, {\"hovertemplate\": \"color=GPT<br>x=%{x}<br>y=%{y}<extra></extra>\", \"legendgroup\": \"GPT\", \"marker\": {\"color\": \"#B6E880\", \"symbol\": \"circle\"}, \"mode\": \"markers\", \"name\": \"GPT\", \"orientation\": \"v\", \"showlegend\": true, \"type\": \"scatter\", \"x\": [7], \"xaxis\": \"x\", \"y\": [13.142857142857142], \"yaxis\": \"y\"}, {\"hovertemplate\": \"color=GRB<br>x=%{x}<br>y=%{y}<extra></extra>\", \"legendgroup\": \"GRB\", \"marker\": {\"color\": \"#FF97FF\", \"symbol\": \"circle\"}, \"mode\": \"markers\", \"name\": \"GRB\", \"orientation\": \"v\", \"showlegend\": true, \"type\": \"scatter\", \"x\": [7], \"xaxis\": \"x\", \"y\": [11.428571428571429], \"yaxis\": \"y\"}, {\"hovertemplate\": \"color=GRI<br>x=%{x}<br>y=%{y}<extra></extra>\", \"legendgroup\": \"GRI\", \"marker\": {\"color\": \"#FECB52\", \"symbol\": \"circle\"}, \"mode\": \"markers\", \"name\": \"GRI\", \"orientation\": \"v\", \"showlegend\": true, \"type\": \"scatter\", \"x\": [2], \"xaxis\": \"x\", \"y\": [10.0], \"yaxis\": \"y\"}, {\"hovertemplate\": \"color=GRK<br>x=%{x}<br>y=%{y}<extra></extra>\", \"legendgroup\": \"GRK\", \"marker\": {\"color\": \"#636efa\", \"symbol\": \"circle\"}, \"mode\": \"markers\", \"name\": \"GRK\", \"orientation\": \"v\", \"showlegend\": true, \"type\": \"scatter\", \"x\": [9], \"xaxis\": \"x\", \"y\": [15.777777777777779], \"yaxis\": \"y\"}, {\"hovertemplate\": \"color=GRR<br>x=%{x}<br>y=%{y}<extra></extra>\", \"legendgroup\": \"GRR\", \"marker\": {\"color\": \"#EF553B\", \"symbol\": \"circle\"}, \"mode\": \"markers\", \"name\": \"GRR\", \"orientation\": \"v\", \"showlegend\": true, \"type\": \"scatter\", \"x\": [28], \"xaxis\": \"x\", \"y\": [14.642857142857142], \"yaxis\": \"y\"}, {\"hovertemplate\": \"color=GSO<br>x=%{x}<br>y=%{y}<extra></extra>\", \"legendgroup\": \"GSO\", \"marker\": {\"color\": \"#00cc96\", \"symbol\": \"circle\"}, \"mode\": \"markers\", \"name\": \"GSO\", \"orientation\": \"v\", \"showlegend\": true, \"type\": \"scatter\", \"x\": [18], \"xaxis\": \"x\", \"y\": [14.277777777777779], \"yaxis\": \"y\"}, {\"hovertemplate\": \"color=GSP<br>x=%{x}<br>y=%{y}<extra></extra>\", \"legendgroup\": \"GSP\", \"marker\": {\"color\": \"#ab63fa\", \"symbol\": \"circle\"}, \"mode\": \"markers\", \"name\": \"GSP\", \"orientation\": \"v\", \"showlegend\": true, \"type\": \"scatter\", \"x\": [16], \"xaxis\": \"x\", \"y\": [19.75], \"yaxis\": \"y\"}, {\"hovertemplate\": \"color=GTF<br>x=%{x}<br>y=%{y}<extra></extra>\", \"legendgroup\": \"GTF\", \"marker\": {\"color\": \"#FFA15A\", \"symbol\": \"circle\"}, \"mode\": \"markers\", \"name\": \"GTF\", \"orientation\": \"v\", \"showlegend\": true, \"type\": \"scatter\", \"x\": [7], \"xaxis\": \"x\", \"y\": [14.0], \"yaxis\": \"y\"}, {\"hovertemplate\": \"color=GTR<br>x=%{x}<br>y=%{y}<extra></extra>\", \"legendgroup\": \"GTR\", \"marker\": {\"color\": \"#19d3f3\", \"symbol\": \"circle\"}, \"mode\": \"markers\", \"name\": \"GTR\", \"orientation\": \"v\", \"showlegend\": true, \"type\": \"scatter\", \"x\": [2], \"xaxis\": \"x\", \"y\": [15.5], \"yaxis\": \"y\"}, {\"hovertemplate\": \"color=GUC<br>x=%{x}<br>y=%{y}<extra></extra>\", \"legendgroup\": \"GUC\", \"marker\": {\"color\": \"#FF6692\", \"symbol\": \"circle\"}, \"mode\": \"markers\", \"name\": \"GUC\", \"orientation\": \"v\", \"showlegend\": true, \"type\": \"scatter\", \"x\": [1], \"xaxis\": \"x\", \"y\": [12.0], \"yaxis\": \"y\"}, {\"hovertemplate\": \"color=HDN<br>x=%{x}<br>y=%{y}<extra></extra>\", \"legendgroup\": \"HDN\", \"marker\": {\"color\": \"#B6E880\", \"symbol\": \"circle\"}, \"mode\": \"markers\", \"name\": \"HDN\", \"orientation\": \"v\", \"showlegend\": true, \"type\": \"scatter\", \"x\": [4], \"xaxis\": \"x\", \"y\": [22.0], \"yaxis\": \"y\"}, {\"hovertemplate\": \"color=HGR<br>x=%{x}<br>y=%{y}<extra></extra>\", \"legendgroup\": \"HGR\", \"marker\": {\"color\": \"#FF97FF\", \"symbol\": \"circle\"}, \"mode\": \"markers\", \"name\": \"HGR\", \"orientation\": \"v\", \"showlegend\": true, \"type\": \"scatter\", \"x\": [1], \"xaxis\": \"x\", \"y\": [11.0], \"yaxis\": \"y\"}, {\"hovertemplate\": \"color=HIB<br>x=%{x}<br>y=%{y}<extra></extra>\", \"legendgroup\": \"HIB\", \"marker\": {\"color\": \"#FECB52\", \"symbol\": \"circle\"}, \"mode\": \"markers\", \"name\": \"HIB\", \"orientation\": \"v\", \"showlegend\": true, \"type\": \"scatter\", \"x\": [1], \"xaxis\": \"x\", \"y\": [8.0], \"yaxis\": \"y\"}, {\"hovertemplate\": \"color=HLN<br>x=%{x}<br>y=%{y}<extra></extra>\", \"legendgroup\": \"HLN\", \"marker\": {\"color\": \"#636efa\", \"symbol\": \"circle\"}, \"mode\": \"markers\", \"name\": \"HLN\", \"orientation\": \"v\", \"showlegend\": true, \"type\": \"scatter\", \"x\": [2], \"xaxis\": \"x\", \"y\": [22.0], \"yaxis\": \"y\"}, {\"hovertemplate\": \"color=HNL<br>x=%{x}<br>y=%{y}<extra></extra>\", \"legendgroup\": \"HNL\", \"marker\": {\"color\": \"#EF553B\", \"symbol\": \"circle\"}, \"mode\": \"markers\", \"name\": \"HNL\", \"orientation\": \"v\", \"showlegend\": true, \"type\": \"scatter\", \"x\": [64], \"xaxis\": \"x\", \"y\": [15.71875], \"yaxis\": \"y\"}, {\"hovertemplate\": \"color=HOU<br>x=%{x}<br>y=%{y}<extra></extra>\", \"legendgroup\": \"HOU\", \"marker\": {\"color\": \"#00cc96\", \"symbol\": \"circle\"}, \"mode\": \"markers\", \"name\": \"HOU\", \"orientation\": \"v\", \"showlegend\": true, \"type\": \"scatter\", \"x\": [77], \"xaxis\": \"x\", \"y\": [11.766233766233766], \"yaxis\": \"y\"}, {\"hovertemplate\": \"color=HPN<br>x=%{x}<br>y=%{y}<extra></extra>\", \"legendgroup\": \"HPN\", \"marker\": {\"color\": \"#ab63fa\", \"symbol\": \"circle\"}, \"mode\": \"markers\", \"name\": \"HPN\", \"orientation\": \"v\", \"showlegend\": true, \"type\": \"scatter\", \"x\": [15], \"xaxis\": \"x\", \"y\": [15.666666666666666], \"yaxis\": \"y\"}, {\"hovertemplate\": \"color=HRL<br>x=%{x}<br>y=%{y}<extra></extra>\", \"legendgroup\": \"HRL\", \"marker\": {\"color\": \"#FFA15A\", \"symbol\": \"circle\"}, \"mode\": \"markers\", \"name\": \"HRL\", \"orientation\": \"v\", \"showlegend\": true, \"type\": \"scatter\", \"x\": [2], \"xaxis\": \"x\", \"y\": [17.5], \"yaxis\": \"y\"}, {\"hovertemplate\": \"color=HSV<br>x=%{x}<br>y=%{y}<extra></extra>\", \"legendgroup\": \"HSV\", \"marker\": {\"color\": \"#19d3f3\", \"symbol\": \"circle\"}, \"mode\": \"markers\", \"name\": \"HSV\", \"orientation\": \"v\", \"showlegend\": true, \"type\": \"scatter\", \"x\": [11], \"xaxis\": \"x\", \"y\": [12.454545454545455], \"yaxis\": \"y\"}, {\"hovertemplate\": \"color=HTS<br>x=%{x}<br>y=%{y}<extra></extra>\", \"legendgroup\": \"HTS\", \"marker\": {\"color\": \"#FF6692\", \"symbol\": \"circle\"}, \"mode\": \"markers\", \"name\": \"HTS\", \"orientation\": \"v\", \"showlegend\": true, \"type\": \"scatter\", \"x\": [1], \"xaxis\": \"x\", \"y\": [29.0], \"yaxis\": \"y\"}, {\"hovertemplate\": \"color=HVN<br>x=%{x}<br>y=%{y}<extra></extra>\", \"legendgroup\": \"HVN\", \"marker\": {\"color\": \"#B6E880\", \"symbol\": \"circle\"}, \"mode\": \"markers\", \"name\": \"HVN\", \"orientation\": \"v\", \"showlegend\": true, \"type\": \"scatter\", \"x\": [3], \"xaxis\": \"x\", \"y\": [9.0], \"yaxis\": \"y\"}, {\"hovertemplate\": \"color=IAD<br>x=%{x}<br>y=%{y}<extra></extra>\", \"legendgroup\": \"IAD\", \"marker\": {\"color\": \"#FF97FF\", \"symbol\": \"circle\"}, \"mode\": \"markers\", \"name\": \"IAD\", \"orientation\": \"v\", \"showlegend\": true, \"type\": \"scatter\", \"x\": [122], \"xaxis\": \"x\", \"y\": [23.352459016393443], \"yaxis\": \"y\"}, {\"hovertemplate\": \"color=IAG<br>x=%{x}<br>y=%{y}<extra></extra>\", \"legendgroup\": \"IAG\", \"marker\": {\"color\": \"#FECB52\", \"symbol\": \"circle\"}, \"mode\": \"markers\", \"name\": \"IAG\", \"orientation\": \"v\", \"showlegend\": true, \"type\": \"scatter\", \"x\": [1], \"xaxis\": \"x\", \"y\": [11.0], \"yaxis\": \"y\"}, {\"hovertemplate\": \"color=IAH<br>x=%{x}<br>y=%{y}<extra></extra>\", \"legendgroup\": \"IAH\", \"marker\": {\"color\": \"#636efa\", \"symbol\": \"circle\"}, \"mode\": \"markers\", \"name\": \"IAH\", \"orientation\": \"v\", \"showlegend\": true, \"type\": \"scatter\", \"x\": [215], \"xaxis\": \"x\", \"y\": [20.251162790697673], \"yaxis\": \"y\"}, {\"hovertemplate\": \"color=ICT<br>x=%{x}<br>y=%{y}<extra></extra>\", \"legendgroup\": \"ICT\", \"marker\": {\"color\": \"#EF553B\", \"symbol\": \"circle\"}, \"mode\": \"markers\", \"name\": \"ICT\", \"orientation\": \"v\", \"showlegend\": true, \"type\": \"scatter\", \"x\": [14], \"xaxis\": \"x\", \"y\": [16.357142857142858], \"yaxis\": \"y\"}, {\"hovertemplate\": \"color=IDA<br>x=%{x}<br>y=%{y}<extra></extra>\", \"legendgroup\": \"IDA\", \"marker\": {\"color\": \"#00cc96\", \"symbol\": \"circle\"}, \"mode\": \"markers\", \"name\": \"IDA\", \"orientation\": \"v\", \"showlegend\": true, \"type\": \"scatter\", \"x\": [6], \"xaxis\": \"x\", \"y\": [11.5], \"yaxis\": \"y\"}, {\"hovertemplate\": \"color=ILM<br>x=%{x}<br>y=%{y}<extra></extra>\", \"legendgroup\": \"ILM\", \"marker\": {\"color\": \"#ab63fa\", \"symbol\": \"circle\"}, \"mode\": \"markers\", \"name\": \"ILM\", \"orientation\": \"v\", \"showlegend\": true, \"type\": \"scatter\", \"x\": [13], \"xaxis\": \"x\", \"y\": [15.153846153846153], \"yaxis\": \"y\"}, {\"hovertemplate\": \"color=IMT<br>x=%{x}<br>y=%{y}<extra></extra>\", \"legendgroup\": \"IMT\", \"marker\": {\"color\": \"#FFA15A\", \"symbol\": \"circle\"}, \"mode\": \"markers\", \"name\": \"IMT\", \"orientation\": \"v\", \"showlegend\": true, \"type\": \"scatter\", \"x\": [1], \"xaxis\": \"x\", \"y\": [11.0], \"yaxis\": \"y\"}, {\"hovertemplate\": \"color=IND<br>x=%{x}<br>y=%{y}<extra></extra>\", \"legendgroup\": \"IND\", \"marker\": {\"color\": \"#19d3f3\", \"symbol\": \"circle\"}, \"mode\": \"markers\", \"name\": \"IND\", \"orientation\": \"v\", \"showlegend\": true, \"type\": \"scatter\", \"x\": [55], \"xaxis\": \"x\", \"y\": [13.945454545454545], \"yaxis\": \"y\"}, {\"hovertemplate\": \"color=INL<br>x=%{x}<br>y=%{y}<extra></extra>\", \"legendgroup\": \"INL\", \"marker\": {\"color\": \"#FF6692\", \"symbol\": \"circle\"}, \"mode\": \"markers\", \"name\": \"INL\", \"orientation\": \"v\", \"showlegend\": true, \"type\": \"scatter\", \"x\": [2], \"xaxis\": \"x\", \"y\": [24.0], \"yaxis\": \"y\"}, {\"hovertemplate\": \"color=IPT<br>x=%{x}<br>y=%{y}<extra></extra>\", \"legendgroup\": \"IPT\", \"marker\": {\"color\": \"#B6E880\", \"symbol\": \"circle\"}, \"mode\": \"markers\", \"name\": \"IPT\", \"orientation\": \"v\", \"showlegend\": true, \"type\": \"scatter\", \"x\": [1], \"xaxis\": \"x\", \"y\": [8.0], \"yaxis\": \"y\"}, {\"hovertemplate\": \"color=ISN<br>x=%{x}<br>y=%{y}<extra></extra>\", \"legendgroup\": \"ISN\", \"marker\": {\"color\": \"#FF97FF\", \"symbol\": \"circle\"}, \"mode\": \"markers\", \"name\": \"ISN\", \"orientation\": \"v\", \"showlegend\": true, \"type\": \"scatter\", \"x\": [4], \"xaxis\": \"x\", \"y\": [18.75], \"yaxis\": \"y\"}, {\"hovertemplate\": \"color=ISP<br>x=%{x}<br>y=%{y}<extra></extra>\", \"legendgroup\": \"ISP\", \"marker\": {\"color\": \"#FECB52\", \"symbol\": \"circle\"}, \"mode\": \"markers\", \"name\": \"ISP\", \"orientation\": \"v\", \"showlegend\": true, \"type\": \"scatter\", \"x\": [12], \"xaxis\": \"x\", \"y\": [11.666666666666666], \"yaxis\": \"y\"}, {\"hovertemplate\": \"color=ITH<br>x=%{x}<br>y=%{y}<extra></extra>\", \"legendgroup\": \"ITH\", \"marker\": {\"color\": \"#636efa\", \"symbol\": \"circle\"}, \"mode\": \"markers\", \"name\": \"ITH\", \"orientation\": \"v\", \"showlegend\": true, \"type\": \"scatter\", \"x\": [4], \"xaxis\": \"x\", \"y\": [27.75], \"yaxis\": \"y\"}, {\"hovertemplate\": \"color=ITO<br>x=%{x}<br>y=%{y}<extra></extra>\", \"legendgroup\": \"ITO\", \"marker\": {\"color\": \"#EF553B\", \"symbol\": \"circle\"}, \"mode\": \"markers\", \"name\": \"ITO\", \"orientation\": \"v\", \"showlegend\": true, \"type\": \"scatter\", \"x\": [8], \"xaxis\": \"x\", \"y\": [8.625], \"yaxis\": \"y\"}, {\"hovertemplate\": \"color=JAC<br>x=%{x}<br>y=%{y}<extra></extra>\", \"legendgroup\": \"JAC\", \"marker\": {\"color\": \"#00cc96\", \"symbol\": \"circle\"}, \"mode\": \"markers\", \"name\": \"JAC\", \"orientation\": \"v\", \"showlegend\": true, \"type\": \"scatter\", \"x\": [12], \"xaxis\": \"x\", \"y\": [17.083333333333332], \"yaxis\": \"y\"}, {\"hovertemplate\": \"color=JAN<br>x=%{x}<br>y=%{y}<extra></extra>\", \"legendgroup\": \"JAN\", \"marker\": {\"color\": \"#ab63fa\", \"symbol\": \"circle\"}, \"mode\": \"markers\", \"name\": \"JAN\", \"orientation\": \"v\", \"showlegend\": true, \"type\": \"scatter\", \"x\": [7], \"xaxis\": \"x\", \"y\": [14.285714285714286], \"yaxis\": \"y\"}, {\"hovertemplate\": \"color=JAX<br>x=%{x}<br>y=%{y}<extra></extra>\", \"legendgroup\": \"JAX\", \"marker\": {\"color\": \"#FFA15A\", \"symbol\": \"circle\"}, \"mode\": \"markers\", \"name\": \"JAX\", \"orientation\": \"v\", \"showlegend\": true, \"type\": \"scatter\", \"x\": [37], \"xaxis\": \"x\", \"y\": [13.0], \"yaxis\": \"y\"}, {\"hovertemplate\": \"color=JFK<br>x=%{x}<br>y=%{y}<extra></extra>\", \"legendgroup\": \"JFK\", \"marker\": {\"color\": \"#19d3f3\", \"symbol\": \"circle\"}, \"mode\": \"markers\", \"name\": \"JFK\", \"orientation\": \"v\", \"showlegend\": true, \"type\": \"scatter\", \"x\": [149], \"xaxis\": \"x\", \"y\": [28.375838926174495], \"yaxis\": \"y\"}, {\"hovertemplate\": \"color=JNU<br>x=%{x}<br>y=%{y}<extra></extra>\", \"legendgroup\": \"JNU\", \"marker\": {\"color\": \"#FF6692\", \"symbol\": \"circle\"}, \"mode\": \"markers\", \"name\": \"JNU\", \"orientation\": \"v\", \"showlegend\": true, \"type\": \"scatter\", \"x\": [3], \"xaxis\": \"x\", \"y\": [14.666666666666666], \"yaxis\": \"y\"}, {\"hovertemplate\": \"color=KOA<br>x=%{x}<br>y=%{y}<extra></extra>\", \"legendgroup\": \"KOA\", \"marker\": {\"color\": \"#B6E880\", \"symbol\": \"circle\"}, \"mode\": \"markers\", \"name\": \"KOA\", \"orientation\": \"v\", \"showlegend\": true, \"type\": \"scatter\", \"x\": [23], \"xaxis\": \"x\", \"y\": [12.608695652173912], \"yaxis\": \"y\"}, {\"hovertemplate\": \"color=KTN<br>x=%{x}<br>y=%{y}<extra></extra>\", \"legendgroup\": \"KTN\", \"marker\": {\"color\": \"#FF97FF\", \"symbol\": \"circle\"}, \"mode\": \"markers\", \"name\": \"KTN\", \"orientation\": \"v\", \"showlegend\": true, \"type\": \"scatter\", \"x\": [4], \"xaxis\": \"x\", \"y\": [18.25], \"yaxis\": \"y\"}, {\"hovertemplate\": \"color=LAN<br>x=%{x}<br>y=%{y}<extra></extra>\", \"legendgroup\": \"LAN\", \"marker\": {\"color\": \"#FECB52\", \"symbol\": \"circle\"}, \"mode\": \"markers\", \"name\": \"LAN\", \"orientation\": \"v\", \"showlegend\": true, \"type\": \"scatter\", \"x\": [2], \"xaxis\": \"x\", \"y\": [11.0], \"yaxis\": \"y\"}, {\"hovertemplate\": \"color=LAR<br>x=%{x}<br>y=%{y}<extra></extra>\", \"legendgroup\": \"LAR\", \"marker\": {\"color\": \"#636efa\", \"symbol\": \"circle\"}, \"mode\": \"markers\", \"name\": \"LAR\", \"orientation\": \"v\", \"showlegend\": true, \"type\": \"scatter\", \"x\": [1], \"xaxis\": \"x\", \"y\": [18.0], \"yaxis\": \"y\"}, {\"hovertemplate\": \"color=LAS<br>x=%{x}<br>y=%{y}<extra></extra>\", \"legendgroup\": \"LAS\", \"marker\": {\"color\": \"#EF553B\", \"symbol\": \"circle\"}, \"mode\": \"markers\", \"name\": \"LAS\", \"orientation\": \"v\", \"showlegend\": true, \"type\": \"scatter\", \"x\": [194], \"xaxis\": \"x\", \"y\": [15.974226804123711], \"yaxis\": \"y\"}, {\"hovertemplate\": \"color=LAX<br>x=%{x}<br>y=%{y}<extra></extra>\", \"legendgroup\": \"LAX\", \"marker\": {\"color\": \"#00cc96\", \"symbol\": \"circle\"}, \"mode\": \"markers\", \"name\": \"LAX\", \"orientation\": \"v\", \"showlegend\": true, \"type\": \"scatter\", \"x\": [350], \"xaxis\": \"x\", \"y\": [17.411428571428573], \"yaxis\": \"y\"}, {\"hovertemplate\": \"color=LBB<br>x=%{x}<br>y=%{y}<extra></extra>\", \"legendgroup\": \"LBB\", \"marker\": {\"color\": \"#ab63fa\", \"symbol\": \"circle\"}, \"mode\": \"markers\", \"name\": \"LBB\", \"orientation\": \"v\", \"showlegend\": true, \"type\": \"scatter\", \"x\": [14], \"xaxis\": \"x\", \"y\": [13.857142857142858], \"yaxis\": \"y\"}, {\"hovertemplate\": \"color=LBE<br>x=%{x}<br>y=%{y}<extra></extra>\", \"legendgroup\": \"LBE\", \"marker\": {\"color\": \"#FFA15A\", \"symbol\": \"circle\"}, \"mode\": \"markers\", \"name\": \"LBE\", \"orientation\": \"v\", \"showlegend\": true, \"type\": \"scatter\", \"x\": [2], \"xaxis\": \"x\", \"y\": [10.5], \"yaxis\": \"y\"}, {\"hovertemplate\": \"color=LBF<br>x=%{x}<br>y=%{y}<extra></extra>\", \"legendgroup\": \"LBF\", \"marker\": {\"color\": \"#19d3f3\", \"symbol\": \"circle\"}, \"mode\": \"markers\", \"name\": \"LBF\", \"orientation\": \"v\", \"showlegend\": true, \"type\": \"scatter\", \"x\": [3], \"xaxis\": \"x\", \"y\": [10.333333333333334], \"yaxis\": \"y\"}, {\"hovertemplate\": \"color=LBL<br>x=%{x}<br>y=%{y}<extra></extra>\", \"legendgroup\": \"LBL\", \"marker\": {\"color\": \"#FF6692\", \"symbol\": \"circle\"}, \"mode\": \"markers\", \"name\": \"LBL\", \"orientation\": \"v\", \"showlegend\": true, \"type\": \"scatter\", \"x\": [1], \"xaxis\": \"x\", \"y\": [5.0], \"yaxis\": \"y\"}, {\"hovertemplate\": \"color=LCH<br>x=%{x}<br>y=%{y}<extra></extra>\", \"legendgroup\": \"LCH\", \"marker\": {\"color\": \"#B6E880\", \"symbol\": \"circle\"}, \"mode\": \"markers\", \"name\": \"LCH\", \"orientation\": \"v\", \"showlegend\": true, \"type\": \"scatter\", \"x\": [2], \"xaxis\": \"x\", \"y\": [6.5], \"yaxis\": \"y\"}, {\"hovertemplate\": \"color=LEX<br>x=%{x}<br>y=%{y}<extra></extra>\", \"legendgroup\": \"LEX\", \"marker\": {\"color\": \"#FF97FF\", \"symbol\": \"circle\"}, \"mode\": \"markers\", \"name\": \"LEX\", \"orientation\": \"v\", \"showlegend\": true, \"type\": \"scatter\", \"x\": [22], \"xaxis\": \"x\", \"y\": [15.727272727272727], \"yaxis\": \"y\"}, {\"hovertemplate\": \"color=LFT<br>x=%{x}<br>y=%{y}<extra></extra>\", \"legendgroup\": \"LFT\", \"marker\": {\"color\": \"#FECB52\", \"symbol\": \"circle\"}, \"mode\": \"markers\", \"name\": \"LFT\", \"orientation\": \"v\", \"showlegend\": true, \"type\": \"scatter\", \"x\": [6], \"xaxis\": \"x\", \"y\": [12.5], \"yaxis\": \"y\"}, {\"hovertemplate\": \"color=LGA<br>x=%{x}<br>y=%{y}<extra></extra>\", \"legendgroup\": \"LGA\", \"marker\": {\"color\": \"#636efa\", \"symbol\": \"circle\"}, \"mode\": \"markers\", \"name\": \"LGA\", \"orientation\": \"v\", \"showlegend\": true, \"type\": \"scatter\", \"x\": [228], \"xaxis\": \"x\", \"y\": [26.719298245614034], \"yaxis\": \"y\"}, {\"hovertemplate\": \"color=LGB<br>x=%{x}<br>y=%{y}<extra></extra>\", \"legendgroup\": \"LGB\", \"marker\": {\"color\": \"#EF553B\", \"symbol\": \"circle\"}, \"mode\": \"markers\", \"name\": \"LGB\", \"orientation\": \"v\", \"showlegend\": true, \"type\": \"scatter\", \"x\": [21], \"xaxis\": \"x\", \"y\": [13.666666666666666], \"yaxis\": \"y\"}, {\"hovertemplate\": \"color=LIH<br>x=%{x}<br>y=%{y}<extra></extra>\", \"legendgroup\": \"LIH\", \"marker\": {\"color\": \"#00cc96\", \"symbol\": \"circle\"}, \"mode\": \"markers\", \"name\": \"LIH\", \"orientation\": \"v\", \"showlegend\": true, \"type\": \"scatter\", \"x\": [19], \"xaxis\": \"x\", \"y\": [10.68421052631579], \"yaxis\": \"y\"}, {\"hovertemplate\": \"color=LIT<br>x=%{x}<br>y=%{y}<extra></extra>\", \"legendgroup\": \"LIT\", \"marker\": {\"color\": \"#ab63fa\", \"symbol\": \"circle\"}, \"mode\": \"markers\", \"name\": \"LIT\", \"orientation\": \"v\", \"showlegend\": true, \"type\": \"scatter\", \"x\": [12], \"xaxis\": \"x\", \"y\": [19.666666666666668], \"yaxis\": \"y\"}, {\"hovertemplate\": \"color=LNK<br>x=%{x}<br>y=%{y}<extra></extra>\", \"legendgroup\": \"LNK\", \"marker\": {\"color\": \"#FFA15A\", \"symbol\": \"circle\"}, \"mode\": \"markers\", \"name\": \"LNK\", \"orientation\": \"v\", \"showlegend\": true, \"type\": \"scatter\", \"x\": [3], \"xaxis\": \"x\", \"y\": [12.333333333333334], \"yaxis\": \"y\"}, {\"hovertemplate\": \"color=LRD<br>x=%{x}<br>y=%{y}<extra></extra>\", \"legendgroup\": \"LRD\", \"marker\": {\"color\": \"#19d3f3\", \"symbol\": \"circle\"}, \"mode\": \"markers\", \"name\": \"LRD\", \"orientation\": \"v\", \"showlegend\": true, \"type\": \"scatter\", \"x\": [4], \"xaxis\": \"x\", \"y\": [13.0], \"yaxis\": \"y\"}, {\"hovertemplate\": \"color=LSE<br>x=%{x}<br>y=%{y}<extra></extra>\", \"legendgroup\": \"LSE\", \"marker\": {\"color\": \"#FF6692\", \"symbol\": \"circle\"}, \"mode\": \"markers\", \"name\": \"LSE\", \"orientation\": \"v\", \"showlegend\": true, \"type\": \"scatter\", \"x\": [4], \"xaxis\": \"x\", \"y\": [20.5], \"yaxis\": \"y\"}, {\"hovertemplate\": \"color=LWS<br>x=%{x}<br>y=%{y}<extra></extra>\", \"legendgroup\": \"LWS\", \"marker\": {\"color\": \"#B6E880\", \"symbol\": \"circle\"}, \"mode\": \"markers\", \"name\": \"LWS\", \"orientation\": \"v\", \"showlegend\": true, \"type\": \"scatter\", \"x\": [3], \"xaxis\": \"x\", \"y\": [10.333333333333334], \"yaxis\": \"y\"}, {\"hovertemplate\": \"color=LYH<br>x=%{x}<br>y=%{y}<extra></extra>\", \"legendgroup\": \"LYH\", \"marker\": {\"color\": \"#FF97FF\", \"symbol\": \"circle\"}, \"mode\": \"markers\", \"name\": \"LYH\", \"orientation\": \"v\", \"showlegend\": true, \"type\": \"scatter\", \"x\": [3], \"xaxis\": \"x\", \"y\": [23.666666666666668], \"yaxis\": \"y\"}, {\"hovertemplate\": \"color=MAF<br>x=%{x}<br>y=%{y}<extra></extra>\", \"legendgroup\": \"MAF\", \"marker\": {\"color\": \"#FECB52\", \"symbol\": \"circle\"}, \"mode\": \"markers\", \"name\": \"MAF\", \"orientation\": \"v\", \"showlegend\": true, \"type\": \"scatter\", \"x\": [12], \"xaxis\": \"x\", \"y\": [16.25], \"yaxis\": \"y\"}, {\"hovertemplate\": \"color=MBS<br>x=%{x}<br>y=%{y}<extra></extra>\", \"legendgroup\": \"MBS\", \"marker\": {\"color\": \"#636efa\", \"symbol\": \"circle\"}, \"mode\": \"markers\", \"name\": \"MBS\", \"orientation\": \"v\", \"showlegend\": true, \"type\": \"scatter\", \"x\": [3], \"xaxis\": \"x\", \"y\": [17.333333333333332], \"yaxis\": \"y\"}, {\"hovertemplate\": \"color=MCI<br>x=%{x}<br>y=%{y}<extra></extra>\", \"legendgroup\": \"MCI\", \"marker\": {\"color\": \"#EF553B\", \"symbol\": \"circle\"}, \"mode\": \"markers\", \"name\": \"MCI\", \"orientation\": \"v\", \"showlegend\": true, \"type\": \"scatter\", \"x\": [70], \"xaxis\": \"x\", \"y\": [12.2], \"yaxis\": \"y\"}, {\"hovertemplate\": \"color=MCO<br>x=%{x}<br>y=%{y}<extra></extra>\", \"legendgroup\": \"MCO\", \"marker\": {\"color\": \"#00cc96\", \"symbol\": \"circle\"}, \"mode\": \"markers\", \"name\": \"MCO\", \"orientation\": \"v\", \"showlegend\": true, \"type\": \"scatter\", \"x\": [198], \"xaxis\": \"x\", \"y\": [15.969696969696969], \"yaxis\": \"y\"}, {\"hovertemplate\": \"color=MDT<br>x=%{x}<br>y=%{y}<extra></extra>\", \"legendgroup\": \"MDT\", \"marker\": {\"color\": \"#ab63fa\", \"symbol\": \"circle\"}, \"mode\": \"markers\", \"name\": \"MDT\", \"orientation\": \"v\", \"showlegend\": true, \"type\": \"scatter\", \"x\": [13], \"xaxis\": \"x\", \"y\": [14.461538461538462], \"yaxis\": \"y\"}, {\"hovertemplate\": \"color=MDW<br>x=%{x}<br>y=%{y}<extra></extra>\", \"legendgroup\": \"MDW\", \"marker\": {\"color\": \"#FFA15A\", \"symbol\": \"circle\"}, \"mode\": \"markers\", \"name\": \"MDW\", \"orientation\": \"v\", \"showlegend\": true, \"type\": \"scatter\", \"x\": [109], \"xaxis\": \"x\", \"y\": [12.477064220183486], \"yaxis\": \"y\"}, {\"hovertemplate\": \"color=MEM<br>x=%{x}<br>y=%{y}<extra></extra>\", \"legendgroup\": \"MEM\", \"marker\": {\"color\": \"#19d3f3\", \"symbol\": \"circle\"}, \"mode\": \"markers\", \"name\": \"MEM\", \"orientation\": \"v\", \"showlegend\": true, \"type\": \"scatter\", \"x\": [20], \"xaxis\": \"x\", \"y\": [13.95], \"yaxis\": \"y\"}, {\"hovertemplate\": \"color=MFE<br>x=%{x}<br>y=%{y}<extra></extra>\", \"legendgroup\": \"MFE\", \"marker\": {\"color\": \"#FF6692\", \"symbol\": \"circle\"}, \"mode\": \"markers\", \"name\": \"MFE\", \"orientation\": \"v\", \"showlegend\": true, \"type\": \"scatter\", \"x\": [5], \"xaxis\": \"x\", \"y\": [11.0], \"yaxis\": \"y\"}, {\"hovertemplate\": \"color=MFR<br>x=%{x}<br>y=%{y}<extra></extra>\", \"legendgroup\": \"MFR\", \"marker\": {\"color\": \"#B6E880\", \"symbol\": \"circle\"}, \"mode\": \"markers\", \"name\": \"MFR\", \"orientation\": \"v\", \"showlegend\": true, \"type\": \"scatter\", \"x\": [11], \"xaxis\": \"x\", \"y\": [15.0], \"yaxis\": \"y\"}, {\"hovertemplate\": \"color=MGM<br>x=%{x}<br>y=%{y}<extra></extra>\", \"legendgroup\": \"MGM\", \"marker\": {\"color\": \"#FF97FF\", \"symbol\": \"circle\"}, \"mode\": \"markers\", \"name\": \"MGM\", \"orientation\": \"v\", \"showlegend\": true, \"type\": \"scatter\", \"x\": [4], \"xaxis\": \"x\", \"y\": [13.5], \"yaxis\": \"y\"}, {\"hovertemplate\": \"color=MHK<br>x=%{x}<br>y=%{y}<extra></extra>\", \"legendgroup\": \"MHK\", \"marker\": {\"color\": \"#FECB52\", \"symbol\": \"circle\"}, \"mode\": \"markers\", \"name\": \"MHK\", \"orientation\": \"v\", \"showlegend\": true, \"type\": \"scatter\", \"x\": [3], \"xaxis\": \"x\", \"y\": [14.666666666666666], \"yaxis\": \"y\"}, {\"hovertemplate\": \"color=MHT<br>x=%{x}<br>y=%{y}<extra></extra>\", \"legendgroup\": \"MHT\", \"marker\": {\"color\": \"#636efa\", \"symbol\": \"circle\"}, \"mode\": \"markers\", \"name\": \"MHT\", \"orientation\": \"v\", \"showlegend\": true, \"type\": \"scatter\", \"x\": [15], \"xaxis\": \"x\", \"y\": [12.866666666666667], \"yaxis\": \"y\"}, {\"hovertemplate\": \"color=MIA<br>x=%{x}<br>y=%{y}<extra></extra>\", \"legendgroup\": \"MIA\", \"marker\": {\"color\": \"#EF553B\", \"symbol\": \"circle\"}, \"mode\": \"markers\", \"name\": \"MIA\", \"orientation\": \"v\", \"showlegend\": true, \"type\": \"scatter\", \"x\": [114], \"xaxis\": \"x\", \"y\": [19.00877192982456], \"yaxis\": \"y\"}, {\"hovertemplate\": \"color=MKE<br>x=%{x}<br>y=%{y}<extra></extra>\", \"legendgroup\": \"MKE\", \"marker\": {\"color\": \"#00cc96\", \"symbol\": \"circle\"}, \"mode\": \"markers\", \"name\": \"MKE\", \"orientation\": \"v\", \"showlegend\": true, \"type\": \"scatter\", \"x\": [50], \"xaxis\": \"x\", \"y\": [13.56], \"yaxis\": \"y\"}, {\"hovertemplate\": \"color=MLB<br>x=%{x}<br>y=%{y}<extra></extra>\", \"legendgroup\": \"MLB\", \"marker\": {\"color\": \"#ab63fa\", \"symbol\": \"circle\"}, \"mode\": \"markers\", \"name\": \"MLB\", \"orientation\": \"v\", \"showlegend\": true, \"type\": \"scatter\", \"x\": [4], \"xaxis\": \"x\", \"y\": [15.5], \"yaxis\": \"y\"}, {\"hovertemplate\": \"color=MLI<br>x=%{x}<br>y=%{y}<extra></extra>\", \"legendgroup\": \"MLI\", \"marker\": {\"color\": \"#FFA15A\", \"symbol\": \"circle\"}, \"mode\": \"markers\", \"name\": \"MLI\", \"orientation\": \"v\", \"showlegend\": true, \"type\": \"scatter\", \"x\": [8], \"xaxis\": \"x\", \"y\": [14.0], \"yaxis\": \"y\"}, {\"hovertemplate\": \"color=MLU<br>x=%{x}<br>y=%{y}<extra></extra>\", \"legendgroup\": \"MLU\", \"marker\": {\"color\": \"#19d3f3\", \"symbol\": \"circle\"}, \"mode\": \"markers\", \"name\": \"MLU\", \"orientation\": \"v\", \"showlegend\": true, \"type\": \"scatter\", \"x\": [4], \"xaxis\": \"x\", \"y\": [15.25], \"yaxis\": \"y\"}, {\"hovertemplate\": \"color=MMH<br>x=%{x}<br>y=%{y}<extra></extra>\", \"legendgroup\": \"MMH\", \"marker\": {\"color\": \"#FF6692\", \"symbol\": \"circle\"}, \"mode\": \"markers\", \"name\": \"MMH\", \"orientation\": \"v\", \"showlegend\": true, \"type\": \"scatter\", \"x\": [1], \"xaxis\": \"x\", \"y\": [6.0], \"yaxis\": \"y\"}, {\"hovertemplate\": \"color=MOB<br>x=%{x}<br>y=%{y}<extra></extra>\", \"legendgroup\": \"MOB\", \"marker\": {\"color\": \"#B6E880\", \"symbol\": \"circle\"}, \"mode\": \"markers\", \"name\": \"MOB\", \"orientation\": \"v\", \"showlegend\": true, \"type\": \"scatter\", \"x\": [7], \"xaxis\": \"x\", \"y\": [15.571428571428571], \"yaxis\": \"y\"}, {\"hovertemplate\": \"color=MOT<br>x=%{x}<br>y=%{y}<extra></extra>\", \"legendgroup\": \"MOT\", \"marker\": {\"color\": \"#FF97FF\", \"symbol\": \"circle\"}, \"mode\": \"markers\", \"name\": \"MOT\", \"orientation\": \"v\", \"showlegend\": true, \"type\": \"scatter\", \"x\": [1], \"xaxis\": \"x\", \"y\": [12.0], \"yaxis\": \"y\"}, {\"hovertemplate\": \"color=MQT<br>x=%{x}<br>y=%{y}<extra></extra>\", \"legendgroup\": \"MQT\", \"marker\": {\"color\": \"#FECB52\", \"symbol\": \"circle\"}, \"mode\": \"markers\", \"name\": \"MQT\", \"orientation\": \"v\", \"showlegend\": true, \"type\": \"scatter\", \"x\": [2], \"xaxis\": \"x\", \"y\": [11.5], \"yaxis\": \"y\"}, {\"hovertemplate\": \"color=MRY<br>x=%{x}<br>y=%{y}<extra></extra>\", \"legendgroup\": \"MRY\", \"marker\": {\"color\": \"#636efa\", \"symbol\": \"circle\"}, \"mode\": \"markers\", \"name\": \"MRY\", \"orientation\": \"v\", \"showlegend\": true, \"type\": \"scatter\", \"x\": [2], \"xaxis\": \"x\", \"y\": [10.5], \"yaxis\": \"y\"}, {\"hovertemplate\": \"color=MSN<br>x=%{x}<br>y=%{y}<extra></extra>\", \"legendgroup\": \"MSN\", \"marker\": {\"color\": \"#EF553B\", \"symbol\": \"circle\"}, \"mode\": \"markers\", \"name\": \"MSN\", \"orientation\": \"v\", \"showlegend\": true, \"type\": \"scatter\", \"x\": [21], \"xaxis\": \"x\", \"y\": [13.714285714285714], \"yaxis\": \"y\"}, {\"hovertemplate\": \"color=MSO<br>x=%{x}<br>y=%{y}<extra></extra>\", \"legendgroup\": \"MSO\", \"marker\": {\"color\": \"#00cc96\", \"symbol\": \"circle\"}, \"mode\": \"markers\", \"name\": \"MSO\", \"orientation\": \"v\", \"showlegend\": true, \"type\": \"scatter\", \"x\": [9], \"xaxis\": \"x\", \"y\": [11.444444444444445], \"yaxis\": \"y\"}, {\"hovertemplate\": \"color=MSP<br>x=%{x}<br>y=%{y}<extra></extra>\", \"legendgroup\": \"MSP\", \"marker\": {\"color\": \"#ab63fa\", \"symbol\": \"circle\"}, \"mode\": \"markers\", \"name\": \"MSP\", \"orientation\": \"v\", \"showlegend\": true, \"type\": \"scatter\", \"x\": [208], \"xaxis\": \"x\", \"y\": [19.35096153846154], \"yaxis\": \"y\"}, {\"hovertemplate\": \"color=MSY<br>x=%{x}<br>y=%{y}<extra></extra>\", \"legendgroup\": \"MSY\", \"marker\": {\"color\": \"#FFA15A\", \"symbol\": \"circle\"}, \"mode\": \"markers\", \"name\": \"MSY\", \"orientation\": \"v\", \"showlegend\": true, \"type\": \"scatter\", \"x\": [67], \"xaxis\": \"x\", \"y\": [12.029850746268657], \"yaxis\": \"y\"}, {\"hovertemplate\": \"color=MTJ<br>x=%{x}<br>y=%{y}<extra></extra>\", \"legendgroup\": \"MTJ\", \"marker\": {\"color\": \"#19d3f3\", \"symbol\": \"circle\"}, \"mode\": \"markers\", \"name\": \"MTJ\", \"orientation\": \"v\", \"showlegend\": true, \"type\": \"scatter\", \"x\": [4], \"xaxis\": \"x\", \"y\": [15.75], \"yaxis\": \"y\"}, {\"hovertemplate\": \"color=MYR<br>x=%{x}<br>y=%{y}<extra></extra>\", \"legendgroup\": \"MYR\", \"marker\": {\"color\": \"#FF6692\", \"symbol\": \"circle\"}, \"mode\": \"markers\", \"name\": \"MYR\", \"orientation\": \"v\", \"showlegend\": true, \"type\": \"scatter\", \"x\": [9], \"xaxis\": \"x\", \"y\": [10.88888888888889], \"yaxis\": \"y\"}, {\"hovertemplate\": \"color=OAJ<br>x=%{x}<br>y=%{y}<extra></extra>\", \"legendgroup\": \"OAJ\", \"marker\": {\"color\": \"#B6E880\", \"symbol\": \"circle\"}, \"mode\": \"markers\", \"name\": \"OAJ\", \"orientation\": \"v\", \"showlegend\": true, \"type\": \"scatter\", \"x\": [6], \"xaxis\": \"x\", \"y\": [14.5], \"yaxis\": \"y\"}, {\"hovertemplate\": \"color=OAK<br>x=%{x}<br>y=%{y}<extra></extra>\", \"legendgroup\": \"OAK\", \"marker\": {\"color\": \"#FF97FF\", \"symbol\": \"circle\"}, \"mode\": \"markers\", \"name\": \"OAK\", \"orientation\": \"v\", \"showlegend\": true, \"type\": \"scatter\", \"x\": [69], \"xaxis\": \"x\", \"y\": [13.594202898550725], \"yaxis\": \"y\"}, {\"hovertemplate\": \"color=OGG<br>x=%{x}<br>y=%{y}<extra></extra>\", \"legendgroup\": \"OGG\", \"marker\": {\"color\": \"#FECB52\", \"symbol\": \"circle\"}, \"mode\": \"markers\", \"name\": \"OGG\", \"orientation\": \"v\", \"showlegend\": true, \"type\": \"scatter\", \"x\": [40], \"xaxis\": \"x\", \"y\": [10.625], \"yaxis\": \"y\"}, {\"hovertemplate\": \"color=OKC<br>x=%{x}<br>y=%{y}<extra></extra>\", \"legendgroup\": \"OKC\", \"marker\": {\"color\": \"#636efa\", \"symbol\": \"circle\"}, \"mode\": \"markers\", \"name\": \"OKC\", \"orientation\": \"v\", \"showlegend\": true, \"type\": \"scatter\", \"x\": [27], \"xaxis\": \"x\", \"y\": [14.185185185185185], \"yaxis\": \"y\"}, {\"hovertemplate\": \"color=OMA<br>x=%{x}<br>y=%{y}<extra></extra>\", \"legendgroup\": \"OMA\", \"marker\": {\"color\": \"#EF553B\", \"symbol\": \"circle\"}, \"mode\": \"markers\", \"name\": \"OMA\", \"orientation\": \"v\", \"showlegend\": true, \"type\": \"scatter\", \"x\": [30], \"xaxis\": \"x\", \"y\": [20.0], \"yaxis\": \"y\"}, {\"hovertemplate\": \"color=OME<br>x=%{x}<br>y=%{y}<extra></extra>\", \"legendgroup\": \"OME\", \"marker\": {\"color\": \"#00cc96\", \"symbol\": \"circle\"}, \"mode\": \"markers\", \"name\": \"OME\", \"orientation\": \"v\", \"showlegend\": true, \"type\": \"scatter\", \"x\": [2], \"xaxis\": \"x\", \"y\": [6.0], \"yaxis\": \"y\"}, {\"hovertemplate\": \"color=ONT<br>x=%{x}<br>y=%{y}<extra></extra>\", \"legendgroup\": \"ONT\", \"marker\": {\"color\": \"#ab63fa\", \"symbol\": \"circle\"}, \"mode\": \"markers\", \"name\": \"ONT\", \"orientation\": \"v\", \"showlegend\": true, \"type\": \"scatter\", \"x\": [31], \"xaxis\": \"x\", \"y\": [10.096774193548388], \"yaxis\": \"y\"}, {\"hovertemplate\": \"color=ORD<br>x=%{x}<br>y=%{y}<extra></extra>\", \"legendgroup\": \"ORD\", \"marker\": {\"color\": \"#FFA15A\", \"symbol\": \"circle\"}, \"mode\": \"markers\", \"name\": \"ORD\", \"orientation\": \"v\", \"showlegend\": true, \"type\": \"scatter\", \"x\": [479], \"xaxis\": \"x\", \"y\": [22.60751565762004], \"yaxis\": \"y\"}, {\"hovertemplate\": \"color=ORF<br>x=%{x}<br>y=%{y}<extra></extra>\", \"legendgroup\": \"ORF\", \"marker\": {\"color\": \"#19d3f3\", \"symbol\": \"circle\"}, \"mode\": \"markers\", \"name\": \"ORF\", \"orientation\": \"v\", \"showlegend\": true, \"type\": \"scatter\", \"x\": [29], \"xaxis\": \"x\", \"y\": [16.586206896551722], \"yaxis\": \"y\"}, {\"hovertemplate\": \"color=ORH<br>x=%{x}<br>y=%{y}<extra></extra>\", \"legendgroup\": \"ORH\", \"marker\": {\"color\": \"#FF6692\", \"symbol\": \"circle\"}, \"mode\": \"markers\", \"name\": \"ORH\", \"orientation\": \"v\", \"showlegend\": true, \"type\": \"scatter\", \"x\": [2], \"xaxis\": \"x\", \"y\": [21.5], \"yaxis\": \"y\"}, {\"hovertemplate\": \"color=PAE<br>x=%{x}<br>y=%{y}<extra></extra>\", \"legendgroup\": \"PAE\", \"marker\": {\"color\": \"#B6E880\", \"symbol\": \"circle\"}, \"mode\": \"markers\", \"name\": \"PAE\", \"orientation\": \"v\", \"showlegend\": true, \"type\": \"scatter\", \"x\": [6], \"xaxis\": \"x\", \"y\": [10.333333333333334], \"yaxis\": \"y\"}, {\"hovertemplate\": \"color=PAH<br>x=%{x}<br>y=%{y}<extra></extra>\", \"legendgroup\": \"PAH\", \"marker\": {\"color\": \"#FF97FF\", \"symbol\": \"circle\"}, \"mode\": \"markers\", \"name\": \"PAH\", \"orientation\": \"v\", \"showlegend\": true, \"type\": \"scatter\", \"x\": [1], \"xaxis\": \"x\", \"y\": [8.0], \"yaxis\": \"y\"}, {\"hovertemplate\": \"color=PBI<br>x=%{x}<br>y=%{y}<extra></extra>\", \"legendgroup\": \"PBI\", \"marker\": {\"color\": \"#FECB52\", \"symbol\": \"circle\"}, \"mode\": \"markers\", \"name\": \"PBI\", \"orientation\": \"v\", \"showlegend\": true, \"type\": \"scatter\", \"x\": [21], \"xaxis\": \"x\", \"y\": [14.428571428571429], \"yaxis\": \"y\"}, {\"hovertemplate\": \"color=PDX<br>x=%{x}<br>y=%{y}<extra></extra>\", \"legendgroup\": \"PDX\", \"marker\": {\"color\": \"#636efa\", \"symbol\": \"circle\"}, \"mode\": \"markers\", \"name\": \"PDX\", \"orientation\": \"v\", \"showlegend\": true, \"type\": \"scatter\", \"x\": [106], \"xaxis\": \"x\", \"y\": [12.858490566037736], \"yaxis\": \"y\"}, {\"hovertemplate\": \"color=PGD<br>x=%{x}<br>y=%{y}<extra></extra>\", \"legendgroup\": \"PGD\", \"marker\": {\"color\": \"#EF553B\", \"symbol\": \"circle\"}, \"mode\": \"markers\", \"name\": \"PGD\", \"orientation\": \"v\", \"showlegend\": true, \"type\": \"scatter\", \"x\": [5], \"xaxis\": \"x\", \"y\": [9.6], \"yaxis\": \"y\"}, {\"hovertemplate\": \"color=PGV<br>x=%{x}<br>y=%{y}<extra></extra>\", \"legendgroup\": \"PGV\", \"marker\": {\"color\": \"#00cc96\", \"symbol\": \"circle\"}, \"mode\": \"markers\", \"name\": \"PGV\", \"orientation\": \"v\", \"showlegend\": true, \"type\": \"scatter\", \"x\": [4], \"xaxis\": \"x\", \"y\": [11.25], \"yaxis\": \"y\"}, {\"hovertemplate\": \"color=PHF<br>x=%{x}<br>y=%{y}<extra></extra>\", \"legendgroup\": \"PHF\", \"marker\": {\"color\": \"#ab63fa\", \"symbol\": \"circle\"}, \"mode\": \"markers\", \"name\": \"PHF\", \"orientation\": \"v\", \"showlegend\": true, \"type\": \"scatter\", \"x\": [2], \"xaxis\": \"x\", \"y\": [11.5], \"yaxis\": \"y\"}, {\"hovertemplate\": \"color=PHL<br>x=%{x}<br>y=%{y}<extra></extra>\", \"legendgroup\": \"PHL\", \"marker\": {\"color\": \"#FFA15A\", \"symbol\": \"circle\"}, \"mode\": \"markers\", \"name\": \"PHL\", \"orientation\": \"v\", \"showlegend\": true, \"type\": \"scatter\", \"x\": [170], \"xaxis\": \"x\", \"y\": [22.076470588235296], \"yaxis\": \"y\"}, {\"hovertemplate\": \"color=PHX<br>x=%{x}<br>y=%{y}<extra></extra>\", \"legendgroup\": \"PHX\", \"marker\": {\"color\": \"#19d3f3\", \"symbol\": \"circle\"}, \"mode\": \"markers\", \"name\": \"PHX\", \"orientation\": \"v\", \"showlegend\": true, \"type\": \"scatter\", \"x\": [212], \"xaxis\": \"x\", \"y\": [14.764150943396226], \"yaxis\": \"y\"}, {\"hovertemplate\": \"color=PIA<br>x=%{x}<br>y=%{y}<extra></extra>\", \"legendgroup\": \"PIA\", \"marker\": {\"color\": \"#FF6692\", \"symbol\": \"circle\"}, \"mode\": \"markers\", \"name\": \"PIA\", \"orientation\": \"v\", \"showlegend\": true, \"type\": \"scatter\", \"x\": [2], \"xaxis\": \"x\", \"y\": [11.5], \"yaxis\": \"y\"}, {\"hovertemplate\": \"color=PIB<br>x=%{x}<br>y=%{y}<extra></extra>\", \"legendgroup\": \"PIB\", \"marker\": {\"color\": \"#B6E880\", \"symbol\": \"circle\"}, \"mode\": \"markers\", \"name\": \"PIB\", \"orientation\": \"v\", \"showlegend\": true, \"type\": \"scatter\", \"x\": [2], \"xaxis\": \"x\", \"y\": [19.0], \"yaxis\": \"y\"}, {\"hovertemplate\": \"color=PIE<br>x=%{x}<br>y=%{y}<extra></extra>\", \"legendgroup\": \"PIE\", \"marker\": {\"color\": \"#FF97FF\", \"symbol\": \"circle\"}, \"mode\": \"markers\", \"name\": \"PIE\", \"orientation\": \"v\", \"showlegend\": true, \"type\": \"scatter\", \"x\": [11], \"xaxis\": \"x\", \"y\": [11.454545454545455], \"yaxis\": \"y\"}, {\"hovertemplate\": \"color=PIT<br>x=%{x}<br>y=%{y}<extra></extra>\", \"legendgroup\": \"PIT\", \"marker\": {\"color\": \"#FECB52\", \"symbol\": \"circle\"}, \"mode\": \"markers\", \"name\": \"PIT\", \"orientation\": \"v\", \"showlegend\": true, \"type\": \"scatter\", \"x\": [51], \"xaxis\": \"x\", \"y\": [14.92156862745098], \"yaxis\": \"y\"}, {\"hovertemplate\": \"color=PLN<br>x=%{x}<br>y=%{y}<extra></extra>\", \"legendgroup\": \"PLN\", \"marker\": {\"color\": \"#636efa\", \"symbol\": \"circle\"}, \"mode\": \"markers\", \"name\": \"PLN\", \"orientation\": \"v\", \"showlegend\": true, \"type\": \"scatter\", \"x\": [2], \"xaxis\": \"x\", \"y\": [12.0], \"yaxis\": \"y\"}, {\"hovertemplate\": \"color=PNS<br>x=%{x}<br>y=%{y}<extra></extra>\", \"legendgroup\": \"PNS\", \"marker\": {\"color\": \"#EF553B\", \"symbol\": \"circle\"}, \"mode\": \"markers\", \"name\": \"PNS\", \"orientation\": \"v\", \"showlegend\": true, \"type\": \"scatter\", \"x\": [15], \"xaxis\": \"x\", \"y\": [15.066666666666666], \"yaxis\": \"y\"}, {\"hovertemplate\": \"color=PQI<br>x=%{x}<br>y=%{y}<extra></extra>\", \"legendgroup\": \"PQI\", \"marker\": {\"color\": \"#00cc96\", \"symbol\": \"circle\"}, \"mode\": \"markers\", \"name\": \"PQI\", \"orientation\": \"v\", \"showlegend\": true, \"type\": \"scatter\", \"x\": [1], \"xaxis\": \"x\", \"y\": [11.0], \"yaxis\": \"y\"}, {\"hovertemplate\": \"color=PSC<br>x=%{x}<br>y=%{y}<extra></extra>\", \"legendgroup\": \"PSC\", \"marker\": {\"color\": \"#ab63fa\", \"symbol\": \"circle\"}, \"mode\": \"markers\", \"name\": \"PSC\", \"orientation\": \"v\", \"showlegend\": true, \"type\": \"scatter\", \"x\": [9], \"xaxis\": \"x\", \"y\": [16.77777777777778], \"yaxis\": \"y\"}, {\"hovertemplate\": \"color=PSG<br>x=%{x}<br>y=%{y}<extra></extra>\", \"legendgroup\": \"PSG\", \"marker\": {\"color\": \"#FFA15A\", \"symbol\": \"circle\"}, \"mode\": \"markers\", \"name\": \"PSG\", \"orientation\": \"v\", \"showlegend\": true, \"type\": \"scatter\", \"x\": [1], \"xaxis\": \"x\", \"y\": [5.0], \"yaxis\": \"y\"}, {\"hovertemplate\": \"color=PSP<br>x=%{x}<br>y=%{y}<extra></extra>\", \"legendgroup\": \"PSP\", \"marker\": {\"color\": \"#19d3f3\", \"symbol\": \"circle\"}, \"mode\": \"markers\", \"name\": \"PSP\", \"orientation\": \"v\", \"showlegend\": true, \"type\": \"scatter\", \"x\": [14], \"xaxis\": \"x\", \"y\": [16.5], \"yaxis\": \"y\"}, {\"hovertemplate\": \"color=PUB<br>x=%{x}<br>y=%{y}<extra></extra>\", \"legendgroup\": \"PUB\", \"marker\": {\"color\": \"#FF6692\", \"symbol\": \"circle\"}, \"mode\": \"markers\", \"name\": \"PUB\", \"orientation\": \"v\", \"showlegend\": true, \"type\": \"scatter\", \"x\": [2], \"xaxis\": \"x\", \"y\": [9.5], \"yaxis\": \"y\"}, {\"hovertemplate\": \"color=PUW<br>x=%{x}<br>y=%{y}<extra></extra>\", \"legendgroup\": \"PUW\", \"marker\": {\"color\": \"#B6E880\", \"symbol\": \"circle\"}, \"mode\": \"markers\", \"name\": \"PUW\", \"orientation\": \"v\", \"showlegend\": true, \"type\": \"scatter\", \"x\": [1], \"xaxis\": \"x\", \"y\": [10.0], \"yaxis\": \"y\"}, {\"hovertemplate\": \"color=PVD<br>x=%{x}<br>y=%{y}<extra></extra>\", \"legendgroup\": \"PVD\", \"marker\": {\"color\": \"#FF97FF\", \"symbol\": \"circle\"}, \"mode\": \"markers\", \"name\": \"PVD\", \"orientation\": \"v\", \"showlegend\": true, \"type\": \"scatter\", \"x\": [23], \"xaxis\": \"x\", \"y\": [12.347826086956522], \"yaxis\": \"y\"}, {\"hovertemplate\": \"color=PWM<br>x=%{x}<br>y=%{y}<extra></extra>\", \"legendgroup\": \"PWM\", \"marker\": {\"color\": \"#FECB52\", \"symbol\": \"circle\"}, \"mode\": \"markers\", \"name\": \"PWM\", \"orientation\": \"v\", \"showlegend\": true, \"type\": \"scatter\", \"x\": [14], \"xaxis\": \"x\", \"y\": [19.071428571428573], \"yaxis\": \"y\"}, {\"hovertemplate\": \"color=RAP<br>x=%{x}<br>y=%{y}<extra></extra>\", \"legendgroup\": \"RAP\", \"marker\": {\"color\": \"#636efa\", \"symbol\": \"circle\"}, \"mode\": \"markers\", \"name\": \"RAP\", \"orientation\": \"v\", \"showlegend\": true, \"type\": \"scatter\", \"x\": [5], \"xaxis\": \"x\", \"y\": [18.6], \"yaxis\": \"y\"}, {\"hovertemplate\": \"color=RDM<br>x=%{x}<br>y=%{y}<extra></extra>\", \"legendgroup\": \"RDM\", \"marker\": {\"color\": \"#EF553B\", \"symbol\": \"circle\"}, \"mode\": \"markers\", \"name\": \"RDM\", \"orientation\": \"v\", \"showlegend\": true, \"type\": \"scatter\", \"x\": [15], \"xaxis\": \"x\", \"y\": [15.4], \"yaxis\": \"y\"}, {\"hovertemplate\": \"color=RDU<br>x=%{x}<br>y=%{y}<extra></extra>\", \"legendgroup\": \"RDU\", \"marker\": {\"color\": \"#00cc96\", \"symbol\": \"circle\"}, \"mode\": \"markers\", \"name\": \"RDU\", \"orientation\": \"v\", \"showlegend\": true, \"type\": \"scatter\", \"x\": [90], \"xaxis\": \"x\", \"y\": [18.27777777777778], \"yaxis\": \"y\"}, {\"hovertemplate\": \"color=RFD<br>x=%{x}<br>y=%{y}<extra></extra>\", \"legendgroup\": \"RFD\", \"marker\": {\"color\": \"#ab63fa\", \"symbol\": \"circle\"}, \"mode\": \"markers\", \"name\": \"RFD\", \"orientation\": \"v\", \"showlegend\": true, \"type\": \"scatter\", \"x\": [2], \"xaxis\": \"x\", \"y\": [12.0], \"yaxis\": \"y\"}, {\"hovertemplate\": \"color=RIC<br>x=%{x}<br>y=%{y}<extra></extra>\", \"legendgroup\": \"RIC\", \"marker\": {\"color\": \"#FFA15A\", \"symbol\": \"circle\"}, \"mode\": \"markers\", \"name\": \"RIC\", \"orientation\": \"v\", \"showlegend\": true, \"type\": \"scatter\", \"x\": [31], \"xaxis\": \"x\", \"y\": [15.64516129032258], \"yaxis\": \"y\"}, {\"hovertemplate\": \"color=RNO<br>x=%{x}<br>y=%{y}<extra></extra>\", \"legendgroup\": \"RNO\", \"marker\": {\"color\": \"#19d3f3\", \"symbol\": \"circle\"}, \"mode\": \"markers\", \"name\": \"RNO\", \"orientation\": \"v\", \"showlegend\": true, \"type\": \"scatter\", \"x\": [34], \"xaxis\": \"x\", \"y\": [14.5], \"yaxis\": \"y\"}, {\"hovertemplate\": \"color=ROA<br>x=%{x}<br>y=%{y}<extra></extra>\", \"legendgroup\": \"ROA\", \"marker\": {\"color\": \"#FF6692\", \"symbol\": \"circle\"}, \"mode\": \"markers\", \"name\": \"ROA\", \"orientation\": \"v\", \"showlegend\": true, \"type\": \"scatter\", \"x\": [13], \"xaxis\": \"x\", \"y\": [17.0], \"yaxis\": \"y\"}, {\"hovertemplate\": \"color=ROC<br>x=%{x}<br>y=%{y}<extra></extra>\", \"legendgroup\": \"ROC\", \"marker\": {\"color\": \"#B6E880\", \"symbol\": \"circle\"}, \"mode\": \"markers\", \"name\": \"ROC\", \"orientation\": \"v\", \"showlegend\": true, \"type\": \"scatter\", \"x\": [24], \"xaxis\": \"x\", \"y\": [13.333333333333334], \"yaxis\": \"y\"}, {\"hovertemplate\": \"color=ROW<br>x=%{x}<br>y=%{y}<extra></extra>\", \"legendgroup\": \"ROW\", \"marker\": {\"color\": \"#FF97FF\", \"symbol\": \"circle\"}, \"mode\": \"markers\", \"name\": \"ROW\", \"orientation\": \"v\", \"showlegend\": true, \"type\": \"scatter\", \"x\": [3], \"xaxis\": \"x\", \"y\": [12.666666666666666], \"yaxis\": \"y\"}, {\"hovertemplate\": \"color=RST<br>x=%{x}<br>y=%{y}<extra></extra>\", \"legendgroup\": \"RST\", \"marker\": {\"color\": \"#FECB52\", \"symbol\": \"circle\"}, \"mode\": \"markers\", \"name\": \"RST\", \"orientation\": \"v\", \"showlegend\": true, \"type\": \"scatter\", \"x\": [3], \"xaxis\": \"x\", \"y\": [12.0], \"yaxis\": \"y\"}, {\"hovertemplate\": \"color=RSW<br>x=%{x}<br>y=%{y}<extra></extra>\", \"legendgroup\": \"RSW\", \"marker\": {\"color\": \"#636efa\", \"symbol\": \"circle\"}, \"mode\": \"markers\", \"name\": \"RSW\", \"orientation\": \"v\", \"showlegend\": true, \"type\": \"scatter\", \"x\": [43], \"xaxis\": \"x\", \"y\": [12.930232558139535], \"yaxis\": \"y\"}, {\"hovertemplate\": \"color=SAF<br>x=%{x}<br>y=%{y}<extra></extra>\", \"legendgroup\": \"SAF\", \"marker\": {\"color\": \"#EF553B\", \"symbol\": \"circle\"}, \"mode\": \"markers\", \"name\": \"SAF\", \"orientation\": \"v\", \"showlegend\": true, \"type\": \"scatter\", \"x\": [4], \"xaxis\": \"x\", \"y\": [11.5], \"yaxis\": \"y\"}, {\"hovertemplate\": \"color=SAN<br>x=%{x}<br>y=%{y}<extra></extra>\", \"legendgroup\": \"SAN\", \"marker\": {\"color\": \"#00cc96\", \"symbol\": \"circle\"}, \"mode\": \"markers\", \"name\": \"SAN\", \"orientation\": \"v\", \"showlegend\": true, \"type\": \"scatter\", \"x\": [121], \"xaxis\": \"x\", \"y\": [16.429752066115704], \"yaxis\": \"y\"}, {\"hovertemplate\": \"color=SAT<br>x=%{x}<br>y=%{y}<extra></extra>\", \"legendgroup\": \"SAT\", \"marker\": {\"color\": \"#ab63fa\", \"symbol\": \"circle\"}, \"mode\": \"markers\", \"name\": \"SAT\", \"orientation\": \"v\", \"showlegend\": true, \"type\": \"scatter\", \"x\": [57], \"xaxis\": \"x\", \"y\": [12.157894736842104], \"yaxis\": \"y\"}, {\"hovertemplate\": \"color=SAV<br>x=%{x}<br>y=%{y}<extra></extra>\", \"legendgroup\": \"SAV\", \"marker\": {\"color\": \"#FFA15A\", \"symbol\": \"circle\"}, \"mode\": \"markers\", \"name\": \"SAV\", \"orientation\": \"v\", \"showlegend\": true, \"type\": \"scatter\", \"x\": [19], \"xaxis\": \"x\", \"y\": [14.473684210526315], \"yaxis\": \"y\"}, {\"hovertemplate\": \"color=SBA<br>x=%{x}<br>y=%{y}<extra></extra>\", \"legendgroup\": \"SBA\", \"marker\": {\"color\": \"#19d3f3\", \"symbol\": \"circle\"}, \"mode\": \"markers\", \"name\": \"SBA\", \"orientation\": \"v\", \"showlegend\": true, \"type\": \"scatter\", \"x\": [8], \"xaxis\": \"x\", \"y\": [16.0], \"yaxis\": \"y\"}, {\"hovertemplate\": \"color=SBN<br>x=%{x}<br>y=%{y}<extra></extra>\", \"legendgroup\": \"SBN\", \"marker\": {\"color\": \"#FF6692\", \"symbol\": \"circle\"}, \"mode\": \"markers\", \"name\": \"SBN\", \"orientation\": \"v\", \"showlegend\": true, \"type\": \"scatter\", \"x\": [7], \"xaxis\": \"x\", \"y\": [11.857142857142858], \"yaxis\": \"y\"}, {\"hovertemplate\": \"color=SBP<br>x=%{x}<br>y=%{y}<extra></extra>\", \"legendgroup\": \"SBP\", \"marker\": {\"color\": \"#B6E880\", \"symbol\": \"circle\"}, \"mode\": \"markers\", \"name\": \"SBP\", \"orientation\": \"v\", \"showlegend\": true, \"type\": \"scatter\", \"x\": [5], \"xaxis\": \"x\", \"y\": [15.0], \"yaxis\": \"y\"}, {\"hovertemplate\": \"color=SCC<br>x=%{x}<br>y=%{y}<extra></extra>\", \"legendgroup\": \"SCC\", \"marker\": {\"color\": \"#FF97FF\", \"symbol\": \"circle\"}, \"mode\": \"markers\", \"name\": \"SCC\", \"orientation\": \"v\", \"showlegend\": true, \"type\": \"scatter\", \"x\": [1], \"xaxis\": \"x\", \"y\": [23.0], \"yaxis\": \"y\"}, {\"hovertemplate\": \"color=SCE<br>x=%{x}<br>y=%{y}<extra></extra>\", \"legendgroup\": \"SCE\", \"marker\": {\"color\": \"#FECB52\", \"symbol\": \"circle\"}, \"mode\": \"markers\", \"name\": \"SCE\", \"orientation\": \"v\", \"showlegend\": true, \"type\": \"scatter\", \"x\": [4], \"xaxis\": \"x\", \"y\": [17.0], \"yaxis\": \"y\"}, {\"hovertemplate\": \"color=SCK<br>x=%{x}<br>y=%{y}<extra></extra>\", \"legendgroup\": \"SCK\", \"marker\": {\"color\": \"#636efa\", \"symbol\": \"circle\"}, \"mode\": \"markers\", \"name\": \"SCK\", \"orientation\": \"v\", \"showlegend\": true, \"type\": \"scatter\", \"x\": [2], \"xaxis\": \"x\", \"y\": [14.5], \"yaxis\": \"y\"}, {\"hovertemplate\": \"color=SDF<br>x=%{x}<br>y=%{y}<extra></extra>\", \"legendgroup\": \"SDF\", \"marker\": {\"color\": \"#EF553B\", \"symbol\": \"circle\"}, \"mode\": \"markers\", \"name\": \"SDF\", \"orientation\": \"v\", \"showlegend\": true, \"type\": \"scatter\", \"x\": [35], \"xaxis\": \"x\", \"y\": [15.314285714285715], \"yaxis\": \"y\"}, {\"hovertemplate\": \"color=SEA<br>x=%{x}<br>y=%{y}<extra></extra>\", \"legendgroup\": \"SEA\", \"marker\": {\"color\": \"#00cc96\", \"symbol\": \"circle\"}, \"mode\": \"markers\", \"name\": \"SEA\", \"orientation\": \"v\", \"showlegend\": true, \"type\": \"scatter\", \"x\": [234], \"xaxis\": \"x\", \"y\": [19.46153846153846], \"yaxis\": \"y\"}, {\"hovertemplate\": \"color=SFB<br>x=%{x}<br>y=%{y}<extra></extra>\", \"legendgroup\": \"SFB\", \"marker\": {\"color\": \"#ab63fa\", \"symbol\": \"circle\"}, \"mode\": \"markers\", \"name\": \"SFB\", \"orientation\": \"v\", \"showlegend\": true, \"type\": \"scatter\", \"x\": [11], \"xaxis\": \"x\", \"y\": [17.09090909090909], \"yaxis\": \"y\"}, {\"hovertemplate\": \"color=SFO<br>x=%{x}<br>y=%{y}<extra></extra>\", \"legendgroup\": \"SFO\", \"marker\": {\"color\": \"#FFA15A\", \"symbol\": \"circle\"}, \"mode\": \"markers\", \"name\": \"SFO\", \"orientation\": \"v\", \"showlegend\": true, \"type\": \"scatter\", \"x\": [230], \"xaxis\": \"x\", \"y\": [22.804347826086957], \"yaxis\": \"y\"}, {\"hovertemplate\": \"color=SGF<br>x=%{x}<br>y=%{y}<extra></extra>\", \"legendgroup\": \"SGF\", \"marker\": {\"color\": \"#19d3f3\", \"symbol\": \"circle\"}, \"mode\": \"markers\", \"name\": \"SGF\", \"orientation\": \"v\", \"showlegend\": true, \"type\": \"scatter\", \"x\": [11], \"xaxis\": \"x\", \"y\": [15.727272727272727], \"yaxis\": \"y\"}, {\"hovertemplate\": \"color=SGU<br>x=%{x}<br>y=%{y}<extra></extra>\", \"legendgroup\": \"SGU\", \"marker\": {\"color\": \"#FF6692\", \"symbol\": \"circle\"}, \"mode\": \"markers\", \"name\": \"SGU\", \"orientation\": \"v\", \"showlegend\": true, \"type\": \"scatter\", \"x\": [3], \"xaxis\": \"x\", \"y\": [26.666666666666668], \"yaxis\": \"y\"}, {\"hovertemplate\": \"color=SHD<br>x=%{x}<br>y=%{y}<extra></extra>\", \"legendgroup\": \"SHD\", \"marker\": {\"color\": \"#B6E880\", \"symbol\": \"circle\"}, \"mode\": \"markers\", \"name\": \"SHD\", \"orientation\": \"v\", \"showlegend\": true, \"type\": \"scatter\", \"x\": [1], \"xaxis\": \"x\", \"y\": [25.0], \"yaxis\": \"y\"}, {\"hovertemplate\": \"color=SHV<br>x=%{x}<br>y=%{y}<extra></extra>\", \"legendgroup\": \"SHV\", \"marker\": {\"color\": \"#FF97FF\", \"symbol\": \"circle\"}, \"mode\": \"markers\", \"name\": \"SHV\", \"orientation\": \"v\", \"showlegend\": true, \"type\": \"scatter\", \"x\": [9], \"xaxis\": \"x\", \"y\": [14.444444444444445], \"yaxis\": \"y\"}, {\"hovertemplate\": \"color=SJC<br>x=%{x}<br>y=%{y}<extra></extra>\", \"legendgroup\": \"SJC\", \"marker\": {\"color\": \"#FECB52\", \"symbol\": \"circle\"}, \"mode\": \"markers\", \"name\": \"SJC\", \"orientation\": \"v\", \"showlegend\": true, \"type\": \"scatter\", \"x\": [76], \"xaxis\": \"x\", \"y\": [13.289473684210526], \"yaxis\": \"y\"}, {\"hovertemplate\": \"color=SJT<br>x=%{x}<br>y=%{y}<extra></extra>\", \"legendgroup\": \"SJT\", \"marker\": {\"color\": \"#636efa\", \"symbol\": \"circle\"}, \"mode\": \"markers\", \"name\": \"SJT\", \"orientation\": \"v\", \"showlegend\": true, \"type\": \"scatter\", \"x\": [1], \"xaxis\": \"x\", \"y\": [8.0], \"yaxis\": \"y\"}, {\"hovertemplate\": \"color=SJU<br>x=%{x}<br>y=%{y}<extra></extra>\", \"legendgroup\": \"SJU\", \"marker\": {\"color\": \"#EF553B\", \"symbol\": \"circle\"}, \"mode\": \"markers\", \"name\": \"SJU\", \"orientation\": \"v\", \"showlegend\": true, \"type\": \"scatter\", \"x\": [33], \"xaxis\": \"x\", \"y\": [13.969696969696969], \"yaxis\": \"y\"}, {\"hovertemplate\": \"color=SLC<br>x=%{x}<br>y=%{y}<extra></extra>\", \"legendgroup\": \"SLC\", \"marker\": {\"color\": \"#00cc96\", \"symbol\": \"circle\"}, \"mode\": \"markers\", \"name\": \"SLC\", \"orientation\": \"v\", \"showlegend\": true, \"type\": \"scatter\", \"x\": [156], \"xaxis\": \"x\", \"y\": [17.82051282051282], \"yaxis\": \"y\"}, {\"hovertemplate\": \"color=SLN<br>x=%{x}<br>y=%{y}<extra></extra>\", \"legendgroup\": \"SLN\", \"marker\": {\"color\": \"#ab63fa\", \"symbol\": \"circle\"}, \"mode\": \"markers\", \"name\": \"SLN\", \"orientation\": \"v\", \"showlegend\": true, \"type\": \"scatter\", \"x\": [1], \"xaxis\": \"x\", \"y\": [20.0], \"yaxis\": \"y\"}, {\"hovertemplate\": \"color=SMF<br>x=%{x}<br>y=%{y}<extra></extra>\", \"legendgroup\": \"SMF\", \"marker\": {\"color\": \"#FFA15A\", \"symbol\": \"circle\"}, \"mode\": \"markers\", \"name\": \"SMF\", \"orientation\": \"v\", \"showlegend\": true, \"type\": \"scatter\", \"x\": [56], \"xaxis\": \"x\", \"y\": [11.946428571428571], \"yaxis\": \"y\"}, {\"hovertemplate\": \"color=SNA<br>x=%{x}<br>y=%{y}<extra></extra>\", \"legendgroup\": \"SNA\", \"marker\": {\"color\": \"#19d3f3\", \"symbol\": \"circle\"}, \"mode\": \"markers\", \"name\": \"SNA\", \"orientation\": \"v\", \"showlegend\": true, \"type\": \"scatter\", \"x\": [53], \"xaxis\": \"x\", \"y\": [13.566037735849056], \"yaxis\": \"y\"}, {\"hovertemplate\": \"color=SPN<br>x=%{x}<br>y=%{y}<extra></extra>\", \"legendgroup\": \"SPN\", \"marker\": {\"color\": \"#FF6692\", \"symbol\": \"circle\"}, \"mode\": \"markers\", \"name\": \"SPN\", \"orientation\": \"v\", \"showlegend\": true, \"type\": \"scatter\", \"x\": [4], \"xaxis\": \"x\", \"y\": [12.75], \"yaxis\": \"y\"}, {\"hovertemplate\": \"color=SPS<br>x=%{x}<br>y=%{y}<extra></extra>\", \"legendgroup\": \"SPS\", \"marker\": {\"color\": \"#B6E880\", \"symbol\": \"circle\"}, \"mode\": \"markers\", \"name\": \"SPS\", \"orientation\": \"v\", \"showlegend\": true, \"type\": \"scatter\", \"x\": [1], \"xaxis\": \"x\", \"y\": [17.0], \"yaxis\": \"y\"}, {\"hovertemplate\": \"color=SRQ<br>x=%{x}<br>y=%{y}<extra></extra>\", \"legendgroup\": \"SRQ\", \"marker\": {\"color\": \"#FF97FF\", \"symbol\": \"circle\"}, \"mode\": \"markers\", \"name\": \"SRQ\", \"orientation\": \"v\", \"showlegend\": true, \"type\": \"scatter\", \"x\": [13], \"xaxis\": \"x\", \"y\": [11.384615384615385], \"yaxis\": \"y\"}, {\"hovertemplate\": \"color=STL<br>x=%{x}<br>y=%{y}<extra></extra>\", \"legendgroup\": \"STL\", \"marker\": {\"color\": \"#FECB52\", \"symbol\": \"circle\"}, \"mode\": \"markers\", \"name\": \"STL\", \"orientation\": \"v\", \"showlegend\": true, \"type\": \"scatter\", \"x\": [108], \"xaxis\": \"x\", \"y\": [13.425925925925926], \"yaxis\": \"y\"}, {\"hovertemplate\": \"color=STS<br>x=%{x}<br>y=%{y}<extra></extra>\", \"legendgroup\": \"STS\", \"marker\": {\"color\": \"#636efa\", \"symbol\": \"circle\"}, \"mode\": \"markers\", \"name\": \"STS\", \"orientation\": \"v\", \"showlegend\": true, \"type\": \"scatter\", \"x\": [8], \"xaxis\": \"x\", \"y\": [15.375], \"yaxis\": \"y\"}, {\"hovertemplate\": \"color=STT<br>x=%{x}<br>y=%{y}<extra></extra>\", \"legendgroup\": \"STT\", \"marker\": {\"color\": \"#EF553B\", \"symbol\": \"circle\"}, \"mode\": \"markers\", \"name\": \"STT\", \"orientation\": \"v\", \"showlegend\": true, \"type\": \"scatter\", \"x\": [2], \"xaxis\": \"x\", \"y\": [12.0], \"yaxis\": \"y\"}, {\"hovertemplate\": \"color=STX<br>x=%{x}<br>y=%{y}<extra></extra>\", \"legendgroup\": \"STX\", \"marker\": {\"color\": \"#00cc96\", \"symbol\": \"circle\"}, \"mode\": \"markers\", \"name\": \"STX\", \"orientation\": \"v\", \"showlegend\": true, \"type\": \"scatter\", \"x\": [1], \"xaxis\": \"x\", \"y\": [15.0], \"yaxis\": \"y\"}, {\"hovertemplate\": \"color=SUN<br>x=%{x}<br>y=%{y}<extra></extra>\", \"legendgroup\": \"SUN\", \"marker\": {\"color\": \"#ab63fa\", \"symbol\": \"circle\"}, \"mode\": \"markers\", \"name\": \"SUN\", \"orientation\": \"v\", \"showlegend\": true, \"type\": \"scatter\", \"x\": [1], \"xaxis\": \"x\", \"y\": [23.0], \"yaxis\": \"y\"}, {\"hovertemplate\": \"color=SUX<br>x=%{x}<br>y=%{y}<extra></extra>\", \"legendgroup\": \"SUX\", \"marker\": {\"color\": \"#FFA15A\", \"symbol\": \"circle\"}, \"mode\": \"markers\", \"name\": \"SUX\", \"orientation\": \"v\", \"showlegend\": true, \"type\": \"scatter\", \"x\": [1], \"xaxis\": \"x\", \"y\": [8.0], \"yaxis\": \"y\"}, {\"hovertemplate\": \"color=SWF<br>x=%{x}<br>y=%{y}<extra></extra>\", \"legendgroup\": \"SWF\", \"marker\": {\"color\": \"#19d3f3\", \"symbol\": \"circle\"}, \"mode\": \"markers\", \"name\": \"SWF\", \"orientation\": \"v\", \"showlegend\": true, \"type\": \"scatter\", \"x\": [3], \"xaxis\": \"x\", \"y\": [12.333333333333334], \"yaxis\": \"y\"}, {\"hovertemplate\": \"color=SYR<br>x=%{x}<br>y=%{y}<extra></extra>\", \"legendgroup\": \"SYR\", \"marker\": {\"color\": \"#FF6692\", \"symbol\": \"circle\"}, \"mode\": \"markers\", \"name\": \"SYR\", \"orientation\": \"v\", \"showlegend\": true, \"type\": \"scatter\", \"x\": [24], \"xaxis\": \"x\", \"y\": [17.041666666666668], \"yaxis\": \"y\"}, {\"hovertemplate\": \"color=TLH<br>x=%{x}<br>y=%{y}<extra></extra>\", \"legendgroup\": \"TLH\", \"marker\": {\"color\": \"#B6E880\", \"symbol\": \"circle\"}, \"mode\": \"markers\", \"name\": \"TLH\", \"orientation\": \"v\", \"showlegend\": true, \"type\": \"scatter\", \"x\": [2], \"xaxis\": \"x\", \"y\": [15.5], \"yaxis\": \"y\"}, {\"hovertemplate\": \"color=TOL<br>x=%{x}<br>y=%{y}<extra></extra>\", \"legendgroup\": \"TOL\", \"marker\": {\"color\": \"#FF97FF\", \"symbol\": \"circle\"}, \"mode\": \"markers\", \"name\": \"TOL\", \"orientation\": \"v\", \"showlegend\": true, \"type\": \"scatter\", \"x\": [3], \"xaxis\": \"x\", \"y\": [26.666666666666668], \"yaxis\": \"y\"}, {\"hovertemplate\": \"color=TPA<br>x=%{x}<br>y=%{y}<extra></extra>\", \"legendgroup\": \"TPA\", \"marker\": {\"color\": \"#FECB52\", \"symbol\": \"circle\"}, \"mode\": \"markers\", \"name\": \"TPA\", \"orientation\": \"v\", \"showlegend\": true, \"type\": \"scatter\", \"x\": [102], \"xaxis\": \"x\", \"y\": [13.323529411764707], \"yaxis\": \"y\"}, {\"hovertemplate\": \"color=TRI<br>x=%{x}<br>y=%{y}<extra></extra>\", \"legendgroup\": \"TRI\", \"marker\": {\"color\": \"#636efa\", \"symbol\": \"circle\"}, \"mode\": \"markers\", \"name\": \"TRI\", \"orientation\": \"v\", \"showlegend\": true, \"type\": \"scatter\", \"x\": [3], \"xaxis\": \"x\", \"y\": [22.0], \"yaxis\": \"y\"}, {\"hovertemplate\": \"color=TTN<br>x=%{x}<br>y=%{y}<extra></extra>\", \"legendgroup\": \"TTN\", \"marker\": {\"color\": \"#EF553B\", \"symbol\": \"circle\"}, \"mode\": \"markers\", \"name\": \"TTN\", \"orientation\": \"v\", \"showlegend\": true, \"type\": \"scatter\", \"x\": [3], \"xaxis\": \"x\", \"y\": [17.666666666666668], \"yaxis\": \"y\"}, {\"hovertemplate\": \"color=TUL<br>x=%{x}<br>y=%{y}<extra></extra>\", \"legendgroup\": \"TUL\", \"marker\": {\"color\": \"#00cc96\", \"symbol\": \"circle\"}, \"mode\": \"markers\", \"name\": \"TUL\", \"orientation\": \"v\", \"showlegend\": true, \"type\": \"scatter\", \"x\": [26], \"xaxis\": \"x\", \"y\": [16.307692307692307], \"yaxis\": \"y\"}, {\"hovertemplate\": \"color=TUS<br>x=%{x}<br>y=%{y}<extra></extra>\", \"legendgroup\": \"TUS\", \"marker\": {\"color\": \"#ab63fa\", \"symbol\": \"circle\"}, \"mode\": \"markers\", \"name\": \"TUS\", \"orientation\": \"v\", \"showlegend\": true, \"type\": \"scatter\", \"x\": [20], \"xaxis\": \"x\", \"y\": [13.75], \"yaxis\": \"y\"}, {\"hovertemplate\": \"color=TVC<br>x=%{x}<br>y=%{y}<extra></extra>\", \"legendgroup\": \"TVC\", \"marker\": {\"color\": \"#FFA15A\", \"symbol\": \"circle\"}, \"mode\": \"markers\", \"name\": \"TVC\", \"orientation\": \"v\", \"showlegend\": true, \"type\": \"scatter\", \"x\": [3], \"xaxis\": \"x\", \"y\": [13.666666666666666], \"yaxis\": \"y\"}, {\"hovertemplate\": \"color=TWF<br>x=%{x}<br>y=%{y}<extra></extra>\", \"legendgroup\": \"TWF\", \"marker\": {\"color\": \"#19d3f3\", \"symbol\": \"circle\"}, \"mode\": \"markers\", \"name\": \"TWF\", \"orientation\": \"v\", \"showlegend\": true, \"type\": \"scatter\", \"x\": [3], \"xaxis\": \"x\", \"y\": [22.333333333333332], \"yaxis\": \"y\"}, {\"hovertemplate\": \"color=TYS<br>x=%{x}<br>y=%{y}<extra></extra>\", \"legendgroup\": \"TYS\", \"marker\": {\"color\": \"#FF6692\", \"symbol\": \"circle\"}, \"mode\": \"markers\", \"name\": \"TYS\", \"orientation\": \"v\", \"showlegend\": true, \"type\": \"scatter\", \"x\": [33], \"xaxis\": \"x\", \"y\": [18.727272727272727], \"yaxis\": \"y\"}, {\"hovertemplate\": \"color=USA<br>x=%{x}<br>y=%{y}<extra></extra>\", \"legendgroup\": \"USA\", \"marker\": {\"color\": \"#B6E880\", \"symbol\": \"circle\"}, \"mode\": \"markers\", \"name\": \"USA\", \"orientation\": \"v\", \"showlegend\": true, \"type\": \"scatter\", \"x\": [4], \"xaxis\": \"x\", \"y\": [9.0], \"yaxis\": \"y\"}, {\"hovertemplate\": \"color=VEL<br>x=%{x}<br>y=%{y}<extra></extra>\", \"legendgroup\": \"VEL\", \"marker\": {\"color\": \"#FF97FF\", \"symbol\": \"circle\"}, \"mode\": \"markers\", \"name\": \"VEL\", \"orientation\": \"v\", \"showlegend\": true, \"type\": \"scatter\", \"x\": [2], \"xaxis\": \"x\", \"y\": [9.5], \"yaxis\": \"y\"}, {\"hovertemplate\": \"color=VLD<br>x=%{x}<br>y=%{y}<extra></extra>\", \"legendgroup\": \"VLD\", \"marker\": {\"color\": \"#FECB52\", \"symbol\": \"circle\"}, \"mode\": \"markers\", \"name\": \"VLD\", \"orientation\": \"v\", \"showlegend\": true, \"type\": \"scatter\", \"x\": [2], \"xaxis\": \"x\", \"y\": [19.0], \"yaxis\": \"y\"}, {\"hovertemplate\": \"color=VPS<br>x=%{x}<br>y=%{y}<extra></extra>\", \"legendgroup\": \"VPS\", \"marker\": {\"color\": \"#636efa\", \"symbol\": \"circle\"}, \"mode\": \"markers\", \"name\": \"VPS\", \"orientation\": \"v\", \"showlegend\": true, \"type\": \"scatter\", \"x\": [9], \"xaxis\": \"x\", \"y\": [14.555555555555555], \"yaxis\": \"y\"}, {\"hovertemplate\": \"color=XNA<br>x=%{x}<br>y=%{y}<extra></extra>\", \"legendgroup\": \"XNA\", \"marker\": {\"color\": \"#EF553B\", \"symbol\": \"circle\"}, \"mode\": \"markers\", \"name\": \"XNA\", \"orientation\": \"v\", \"showlegend\": true, \"type\": \"scatter\", \"x\": [24], \"xaxis\": \"x\", \"y\": [16.625], \"yaxis\": \"y\"}, {\"hovertemplate\": \"color=XWA<br>x=%{x}<br>y=%{y}<extra></extra>\", \"legendgroup\": \"XWA\", \"marker\": {\"color\": \"#00cc96\", \"symbol\": \"circle\"}, \"mode\": \"markers\", \"name\": \"XWA\", \"orientation\": \"v\", \"showlegend\": true, \"type\": \"scatter\", \"x\": [1], \"xaxis\": \"x\", \"y\": [48.0], \"yaxis\": \"y\"}, {\"hovertemplate\": \"color=YAK<br>x=%{x}<br>y=%{y}<extra></extra>\", \"legendgroup\": \"YAK\", \"marker\": {\"color\": \"#ab63fa\", \"symbol\": \"circle\"}, \"mode\": \"markers\", \"name\": \"YAK\", \"orientation\": \"v\", \"showlegend\": true, \"type\": \"scatter\", \"x\": [3], \"xaxis\": \"x\", \"y\": [6.333333333333333], \"yaxis\": \"y\"}, {\"hovertemplate\": \"color=YKM<br>x=%{x}<br>y=%{y}<extra></extra>\", \"legendgroup\": \"YKM\", \"marker\": {\"color\": \"#FFA15A\", \"symbol\": \"circle\"}, \"mode\": \"markers\", \"name\": \"YKM\", \"orientation\": \"v\", \"showlegend\": true, \"type\": \"scatter\", \"x\": [4], \"xaxis\": \"x\", \"y\": [5.25], \"yaxis\": \"y\"}, {\"hovertemplate\": \"color=YUM<br>x=%{x}<br>y=%{y}<extra></extra>\", \"legendgroup\": \"YUM\", \"marker\": {\"color\": \"#19d3f3\", \"symbol\": \"circle\"}, \"mode\": \"markers\", \"name\": \"YUM\", \"orientation\": \"v\", \"showlegend\": true, \"type\": \"scatter\", \"x\": [1], \"xaxis\": \"x\", \"y\": [11.0], \"yaxis\": \"y\"}],                        {\"legend\": {\"title\": {\"text\": \"color\"}, \"tracegroupgap\": 0}, \"margin\": {\"t\": 60}, \"template\": {\"data\": {\"bar\": [{\"error_x\": {\"color\": \"#2a3f5f\"}, \"error_y\": {\"color\": \"#2a3f5f\"}, \"marker\": {\"line\": {\"color\": \"#E5ECF6\", \"width\": 0.5}}, \"type\": \"bar\"}], \"barpolar\": [{\"marker\": {\"line\": {\"color\": \"#E5ECF6\", \"width\": 0.5}}, \"type\": \"barpolar\"}], \"carpet\": [{\"aaxis\": {\"endlinecolor\": \"#2a3f5f\", \"gridcolor\": \"white\", \"linecolor\": \"white\", \"minorgridcolor\": \"white\", \"startlinecolor\": \"#2a3f5f\"}, \"baxis\": {\"endlinecolor\": \"#2a3f5f\", \"gridcolor\": \"white\", \"linecolor\": \"white\", \"minorgridcolor\": \"white\", \"startlinecolor\": \"#2a3f5f\"}, \"type\": \"carpet\"}], \"choropleth\": [{\"colorbar\": {\"outlinewidth\": 0, \"ticks\": \"\"}, \"type\": \"choropleth\"}], \"contour\": [{\"colorbar\": {\"outlinewidth\": 0, \"ticks\": \"\"}, \"colorscale\": [[0.0, \"#0d0887\"], [0.1111111111111111, \"#46039f\"], [0.2222222222222222, \"#7201a8\"], [0.3333333333333333, \"#9c179e\"], [0.4444444444444444, \"#bd3786\"], [0.5555555555555556, \"#d8576b\"], [0.6666666666666666, \"#ed7953\"], [0.7777777777777778, \"#fb9f3a\"], [0.8888888888888888, \"#fdca26\"], [1.0, \"#f0f921\"]], \"type\": \"contour\"}], \"contourcarpet\": [{\"colorbar\": {\"outlinewidth\": 0, \"ticks\": \"\"}, \"type\": \"contourcarpet\"}], \"heatmap\": [{\"colorbar\": {\"outlinewidth\": 0, \"ticks\": \"\"}, \"colorscale\": [[0.0, \"#0d0887\"], [0.1111111111111111, \"#46039f\"], [0.2222222222222222, \"#7201a8\"], [0.3333333333333333, \"#9c179e\"], [0.4444444444444444, \"#bd3786\"], [0.5555555555555556, \"#d8576b\"], [0.6666666666666666, \"#ed7953\"], [0.7777777777777778, \"#fb9f3a\"], [0.8888888888888888, \"#fdca26\"], [1.0, \"#f0f921\"]], \"type\": \"heatmap\"}], \"heatmapgl\": [{\"colorbar\": {\"outlinewidth\": 0, \"ticks\": \"\"}, \"colorscale\": [[0.0, \"#0d0887\"], [0.1111111111111111, \"#46039f\"], [0.2222222222222222, \"#7201a8\"], [0.3333333333333333, \"#9c179e\"], [0.4444444444444444, \"#bd3786\"], [0.5555555555555556, \"#d8576b\"], [0.6666666666666666, \"#ed7953\"], [0.7777777777777778, \"#fb9f3a\"], [0.8888888888888888, \"#fdca26\"], [1.0, \"#f0f921\"]], \"type\": \"heatmapgl\"}], \"histogram\": [{\"marker\": {\"colorbar\": {\"outlinewidth\": 0, \"ticks\": \"\"}}, \"type\": \"histogram\"}], \"histogram2d\": [{\"colorbar\": {\"outlinewidth\": 0, \"ticks\": \"\"}, \"colorscale\": [[0.0, \"#0d0887\"], [0.1111111111111111, \"#46039f\"], [0.2222222222222222, \"#7201a8\"], [0.3333333333333333, \"#9c179e\"], [0.4444444444444444, \"#bd3786\"], [0.5555555555555556, \"#d8576b\"], [0.6666666666666666, \"#ed7953\"], [0.7777777777777778, \"#fb9f3a\"], [0.8888888888888888, \"#fdca26\"], [1.0, \"#f0f921\"]], \"type\": \"histogram2d\"}], \"histogram2dcontour\": [{\"colorbar\": {\"outlinewidth\": 0, \"ticks\": \"\"}, \"colorscale\": [[0.0, \"#0d0887\"], [0.1111111111111111, \"#46039f\"], [0.2222222222222222, \"#7201a8\"], [0.3333333333333333, \"#9c179e\"], [0.4444444444444444, \"#bd3786\"], [0.5555555555555556, \"#d8576b\"], [0.6666666666666666, \"#ed7953\"], [0.7777777777777778, \"#fb9f3a\"], [0.8888888888888888, \"#fdca26\"], [1.0, \"#f0f921\"]], \"type\": \"histogram2dcontour\"}], \"mesh3d\": [{\"colorbar\": {\"outlinewidth\": 0, \"ticks\": \"\"}, \"type\": \"mesh3d\"}], \"parcoords\": [{\"line\": {\"colorbar\": {\"outlinewidth\": 0, \"ticks\": \"\"}}, \"type\": \"parcoords\"}], \"pie\": [{\"automargin\": true, \"type\": \"pie\"}], \"scatter\": [{\"marker\": {\"colorbar\": {\"outlinewidth\": 0, \"ticks\": \"\"}}, \"type\": \"scatter\"}], \"scatter3d\": [{\"line\": {\"colorbar\": {\"outlinewidth\": 0, \"ticks\": \"\"}}, \"marker\": {\"colorbar\": {\"outlinewidth\": 0, \"ticks\": \"\"}}, \"type\": \"scatter3d\"}], \"scattercarpet\": [{\"marker\": {\"colorbar\": {\"outlinewidth\": 0, \"ticks\": \"\"}}, \"type\": \"scattercarpet\"}], \"scattergeo\": [{\"marker\": {\"colorbar\": {\"outlinewidth\": 0, \"ticks\": \"\"}}, \"type\": \"scattergeo\"}], \"scattergl\": [{\"marker\": {\"colorbar\": {\"outlinewidth\": 0, \"ticks\": \"\"}}, \"type\": \"scattergl\"}], \"scattermapbox\": [{\"marker\": {\"colorbar\": {\"outlinewidth\": 0, \"ticks\": \"\"}}, \"type\": \"scattermapbox\"}], \"scatterpolar\": [{\"marker\": {\"colorbar\": {\"outlinewidth\": 0, \"ticks\": \"\"}}, \"type\": \"scatterpolar\"}], \"scatterpolargl\": [{\"marker\": {\"colorbar\": {\"outlinewidth\": 0, \"ticks\": \"\"}}, \"type\": \"scatterpolargl\"}], \"scatterternary\": [{\"marker\": {\"colorbar\": {\"outlinewidth\": 0, \"ticks\": \"\"}}, \"type\": \"scatterternary\"}], \"surface\": [{\"colorbar\": {\"outlinewidth\": 0, \"ticks\": \"\"}, \"colorscale\": [[0.0, \"#0d0887\"], [0.1111111111111111, \"#46039f\"], [0.2222222222222222, \"#7201a8\"], [0.3333333333333333, \"#9c179e\"], [0.4444444444444444, \"#bd3786\"], [0.5555555555555556, \"#d8576b\"], [0.6666666666666666, \"#ed7953\"], [0.7777777777777778, \"#fb9f3a\"], [0.8888888888888888, \"#fdca26\"], [1.0, \"#f0f921\"]], \"type\": \"surface\"}], \"table\": [{\"cells\": {\"fill\": {\"color\": \"#EBF0F8\"}, \"line\": {\"color\": \"white\"}}, \"header\": {\"fill\": {\"color\": \"#C8D4E3\"}, \"line\": {\"color\": \"white\"}}, \"type\": \"table\"}]}, \"layout\": {\"annotationdefaults\": {\"arrowcolor\": \"#2a3f5f\", \"arrowhead\": 0, \"arrowwidth\": 1}, \"autotypenumbers\": \"strict\", \"coloraxis\": {\"colorbar\": {\"outlinewidth\": 0, \"ticks\": \"\"}}, \"colorscale\": {\"diverging\": [[0, \"#8e0152\"], [0.1, \"#c51b7d\"], [0.2, \"#de77ae\"], [0.3, \"#f1b6da\"], [0.4, \"#fde0ef\"], [0.5, \"#f7f7f7\"], [0.6, \"#e6f5d0\"], [0.7, \"#b8e186\"], [0.8, \"#7fbc41\"], [0.9, \"#4d9221\"], [1, \"#276419\"]], \"sequential\": [[0.0, \"#0d0887\"], [0.1111111111111111, \"#46039f\"], [0.2222222222222222, \"#7201a8\"], [0.3333333333333333, \"#9c179e\"], [0.4444444444444444, \"#bd3786\"], [0.5555555555555556, \"#d8576b\"], [0.6666666666666666, \"#ed7953\"], [0.7777777777777778, \"#fb9f3a\"], [0.8888888888888888, \"#fdca26\"], [1.0, \"#f0f921\"]], \"sequentialminus\": [[0.0, \"#0d0887\"], [0.1111111111111111, \"#46039f\"], [0.2222222222222222, \"#7201a8\"], [0.3333333333333333, \"#9c179e\"], [0.4444444444444444, \"#bd3786\"], [0.5555555555555556, \"#d8576b\"], [0.6666666666666666, \"#ed7953\"], [0.7777777777777778, \"#fb9f3a\"], [0.8888888888888888, \"#fdca26\"], [1.0, \"#f0f921\"]]}, \"colorway\": [\"#636efa\", \"#EF553B\", \"#00cc96\", \"#ab63fa\", \"#FFA15A\", \"#19d3f3\", \"#FF6692\", \"#B6E880\", \"#FF97FF\", \"#FECB52\"], \"font\": {\"color\": \"#2a3f5f\"}, \"geo\": {\"bgcolor\": \"white\", \"lakecolor\": \"white\", \"landcolor\": \"#E5ECF6\", \"showlakes\": true, \"showland\": true, \"subunitcolor\": \"white\"}, \"hoverlabel\": {\"align\": \"left\"}, \"hovermode\": \"closest\", \"mapbox\": {\"style\": \"light\"}, \"paper_bgcolor\": \"white\", \"plot_bgcolor\": \"#E5ECF6\", \"polar\": {\"angularaxis\": {\"gridcolor\": \"white\", \"linecolor\": \"white\", \"ticks\": \"\"}, \"bgcolor\": \"#E5ECF6\", \"radialaxis\": {\"gridcolor\": \"white\", \"linecolor\": \"white\", \"ticks\": \"\"}}, \"scene\": {\"xaxis\": {\"backgroundcolor\": \"#E5ECF6\", \"gridcolor\": \"white\", \"gridwidth\": 2, \"linecolor\": \"white\", \"showbackground\": true, \"ticks\": \"\", \"zerolinecolor\": \"white\"}, \"yaxis\": {\"backgroundcolor\": \"#E5ECF6\", \"gridcolor\": \"white\", \"gridwidth\": 2, \"linecolor\": \"white\", \"showbackground\": true, \"ticks\": \"\", \"zerolinecolor\": \"white\"}, \"zaxis\": {\"backgroundcolor\": \"#E5ECF6\", \"gridcolor\": \"white\", \"gridwidth\": 2, \"linecolor\": \"white\", \"showbackground\": true, \"ticks\": \"\", \"zerolinecolor\": \"white\"}}, \"shapedefaults\": {\"line\": {\"color\": \"#2a3f5f\"}}, \"ternary\": {\"aaxis\": {\"gridcolor\": \"white\", \"linecolor\": \"white\", \"ticks\": \"\"}, \"baxis\": {\"gridcolor\": \"white\", \"linecolor\": \"white\", \"ticks\": \"\"}, \"bgcolor\": \"#E5ECF6\", \"caxis\": {\"gridcolor\": \"white\", \"linecolor\": \"white\", \"ticks\": \"\"}}, \"title\": {\"x\": 0.05}, \"xaxis\": {\"automargin\": true, \"gridcolor\": \"white\", \"linecolor\": \"white\", \"ticks\": \"\", \"title\": {\"standoff\": 15}, \"zerolinecolor\": \"white\", \"zerolinewidth\": 2}, \"yaxis\": {\"automargin\": true, \"gridcolor\": \"white\", \"linecolor\": \"white\", \"ticks\": \"\", \"title\": {\"standoff\": 15}, \"zerolinecolor\": \"white\", \"zerolinewidth\": 2}}}, \"xaxis\": {\"anchor\": \"y\", \"domain\": [0.0, 1.0], \"title\": {\"text\": \"x\"}}, \"yaxis\": {\"anchor\": \"x\", \"domain\": [0.0, 1.0], \"title\": {\"text\": \"y\"}}},                        {\"responsive\": true}                    ).then(function(){\n",
       "                            \n",
       "var gd = document.getElementById('6e37ded7-e56f-4bb3-b6e2-49c445b722f0');\n",
       "var x = new MutationObserver(function (mutations, observer) {{\n",
       "        var display = window.getComputedStyle(gd).display;\n",
       "        if (!display || display === 'none') {{\n",
       "            console.log([gd, 'removed!']);\n",
       "            Plotly.purge(gd);\n",
       "            observer.disconnect();\n",
       "        }}\n",
       "}});\n",
       "\n",
       "// Listen for the removal of the full notebook cells\n",
       "var notebookContainer = gd.closest('#notebook-container');\n",
       "if (notebookContainer) {{\n",
       "    x.observe(notebookContainer, {childList: true});\n",
       "}}\n",
       "\n",
       "// Listen for the clearing of the current output cell\n",
       "var outputEl = gd.closest('.output');\n",
       "if (outputEl) {{\n",
       "    x.observe(outputEl, {childList: true});\n",
       "}}\n",
       "\n",
       "                        })                };                });            </script>        </div>"
      ]
     },
     "metadata": {},
     "output_type": "display_data"
    },
    {
     "data": {
      "text/plain": [
       "<Figure size 864x576 with 0 Axes>"
      ]
     },
     "metadata": {},
     "output_type": "display_data"
    }
   ],
   "source": [
    "import plotly.express as go\n",
    "plt.figure(figsize=(12, 8))\n",
    "\n",
    "fig=go.scatter(x=taxi_out[('taxi_out', 'count')], y=taxi_out[('taxi_out', 'mean')], color=taxi_out['origin'])\n",
    "fig.show()"
   ]
  },
  {
   "cell_type": "code",
   "execution_count": 539,
   "metadata": {},
   "outputs": [
    {
     "data": {
      "application/vnd.plotly.v1+json": {
       "config": {
        "plotlyServerURL": "https://plot.ly"
       },
       "data": [
        {
         "hovertemplate": "color=ABE<br>x=%{x}<br>y=%{y}<extra></extra>",
         "legendgroup": "ABE",
         "marker": {
          "color": "#636efa",
          "symbol": "circle"
         },
         "mode": "markers",
         "name": "ABE",
         "orientation": "v",
         "showlegend": true,
         "type": "scatter",
         "x": [
          14
         ],
         "xaxis": "x",
         "y": [
          3.642857142857143
         ],
         "yaxis": "y"
        },
        {
         "hovertemplate": "color=ABI<br>x=%{x}<br>y=%{y}<extra></extra>",
         "legendgroup": "ABI",
         "marker": {
          "color": "#EF553B",
          "symbol": "circle"
         },
         "mode": "markers",
         "name": "ABI",
         "orientation": "v",
         "showlegend": true,
         "type": "scatter",
         "x": [
          1
         ],
         "xaxis": "x",
         "y": [
          4
         ],
         "yaxis": "y"
        },
        {
         "hovertemplate": "color=ABQ<br>x=%{x}<br>y=%{y}<extra></extra>",
         "legendgroup": "ABQ",
         "marker": {
          "color": "#00cc96",
          "symbol": "circle"
         },
         "mode": "markers",
         "name": "ABQ",
         "orientation": "v",
         "showlegend": true,
         "type": "scatter",
         "x": [
          23
         ],
         "xaxis": "x",
         "y": [
          6.130434782608695
         ],
         "yaxis": "y"
        },
        {
         "hovertemplate": "color=ABR<br>x=%{x}<br>y=%{y}<extra></extra>",
         "legendgroup": "ABR",
         "marker": {
          "color": "#ab63fa",
          "symbol": "circle"
         },
         "mode": "markers",
         "name": "ABR",
         "orientation": "v",
         "showlegend": true,
         "type": "scatter",
         "x": [
          3
         ],
         "xaxis": "x",
         "y": [
          4.333333333333333
         ],
         "yaxis": "y"
        },
        {
         "hovertemplate": "color=ABY<br>x=%{x}<br>y=%{y}<extra></extra>",
         "legendgroup": "ABY",
         "marker": {
          "color": "#FFA15A",
          "symbol": "circle"
         },
         "mode": "markers",
         "name": "ABY",
         "orientation": "v",
         "showlegend": true,
         "type": "scatter",
         "x": [
          2
         ],
         "xaxis": "x",
         "y": [
          3.5
         ],
         "yaxis": "y"
        },
        {
         "hovertemplate": "color=ACK<br>x=%{x}<br>y=%{y}<extra></extra>",
         "legendgroup": "ACK",
         "marker": {
          "color": "#19d3f3",
          "symbol": "circle"
         },
         "mode": "markers",
         "name": "ACK",
         "orientation": "v",
         "showlegend": true,
         "type": "scatter",
         "x": [
          1
         ],
         "xaxis": "x",
         "y": [
          6
         ],
         "yaxis": "y"
        },
        {
         "hovertemplate": "color=ACT<br>x=%{x}<br>y=%{y}<extra></extra>",
         "legendgroup": "ACT",
         "marker": {
          "color": "#FF6692",
          "symbol": "circle"
         },
         "mode": "markers",
         "name": "ACT",
         "orientation": "v",
         "showlegend": true,
         "type": "scatter",
         "x": [
          2
         ],
         "xaxis": "x",
         "y": [
          3
         ],
         "yaxis": "y"
        },
        {
         "hovertemplate": "color=ACV<br>x=%{x}<br>y=%{y}<extra></extra>",
         "legendgroup": "ACV",
         "marker": {
          "color": "#B6E880",
          "symbol": "circle"
         },
         "mode": "markers",
         "name": "ACV",
         "orientation": "v",
         "showlegend": true,
         "type": "scatter",
         "x": [
          4
         ],
         "xaxis": "x",
         "y": [
          5
         ],
         "yaxis": "y"
        },
        {
         "hovertemplate": "color=ACY<br>x=%{x}<br>y=%{y}<extra></extra>",
         "legendgroup": "ACY",
         "marker": {
          "color": "#FF97FF",
          "symbol": "circle"
         },
         "mode": "markers",
         "name": "ACY",
         "orientation": "v",
         "showlegend": true,
         "type": "scatter",
         "x": [
          3
         ],
         "xaxis": "x",
         "y": [
          4.666666666666667
         ],
         "yaxis": "y"
        },
        {
         "hovertemplate": "color=ADQ<br>x=%{x}<br>y=%{y}<extra></extra>",
         "legendgroup": "ADQ",
         "marker": {
          "color": "#FECB52",
          "symbol": "circle"
         },
         "mode": "markers",
         "name": "ADQ",
         "orientation": "v",
         "showlegend": true,
         "type": "scatter",
         "x": [
          1
         ],
         "xaxis": "x",
         "y": [
          3
         ],
         "yaxis": "y"
        },
        {
         "hovertemplate": "color=AEX<br>x=%{x}<br>y=%{y}<extra></extra>",
         "legendgroup": "AEX",
         "marker": {
          "color": "#636efa",
          "symbol": "circle"
         },
         "mode": "markers",
         "name": "AEX",
         "orientation": "v",
         "showlegend": true,
         "type": "scatter",
         "x": [
          6
         ],
         "xaxis": "x",
         "y": [
          4.5
         ],
         "yaxis": "y"
        },
        {
         "hovertemplate": "color=AGS<br>x=%{x}<br>y=%{y}<extra></extra>",
         "legendgroup": "AGS",
         "marker": {
          "color": "#EF553B",
          "symbol": "circle"
         },
         "mode": "markers",
         "name": "AGS",
         "orientation": "v",
         "showlegend": true,
         "type": "scatter",
         "x": [
          6
         ],
         "xaxis": "x",
         "y": [
          4.166666666666667
         ],
         "yaxis": "y"
        },
        {
         "hovertemplate": "color=ALB<br>x=%{x}<br>y=%{y}<extra></extra>",
         "legendgroup": "ALB",
         "marker": {
          "color": "#00cc96",
          "symbol": "circle"
         },
         "mode": "markers",
         "name": "ALB",
         "orientation": "v",
         "showlegend": true,
         "type": "scatter",
         "x": [
          15
         ],
         "xaxis": "x",
         "y": [
          3.2
         ],
         "yaxis": "y"
        },
        {
         "hovertemplate": "color=AMA<br>x=%{x}<br>y=%{y}<extra></extra>",
         "legendgroup": "AMA",
         "marker": {
          "color": "#ab63fa",
          "symbol": "circle"
         },
         "mode": "markers",
         "name": "AMA",
         "orientation": "v",
         "showlegend": true,
         "type": "scatter",
         "x": [
          6
         ],
         "xaxis": "x",
         "y": [
          3.8333333333333335
         ],
         "yaxis": "y"
        },
        {
         "hovertemplate": "color=ANC<br>x=%{x}<br>y=%{y}<extra></extra>",
         "legendgroup": "ANC",
         "marker": {
          "color": "#FFA15A",
          "symbol": "circle"
         },
         "mode": "markers",
         "name": "ANC",
         "orientation": "v",
         "showlegend": true,
         "type": "scatter",
         "x": [
          26
         ],
         "xaxis": "x",
         "y": [
          4.115384615384615
         ],
         "yaxis": "y"
        },
        {
         "hovertemplate": "color=APN<br>x=%{x}<br>y=%{y}<extra></extra>",
         "legendgroup": "APN",
         "marker": {
          "color": "#19d3f3",
          "symbol": "circle"
         },
         "mode": "markers",
         "name": "APN",
         "orientation": "v",
         "showlegend": true,
         "type": "scatter",
         "x": [
          1
         ],
         "xaxis": "x",
         "y": [
          6
         ],
         "yaxis": "y"
        },
        {
         "hovertemplate": "color=ART<br>x=%{x}<br>y=%{y}<extra></extra>",
         "legendgroup": "ART",
         "marker": {
          "color": "#FF6692",
          "symbol": "circle"
         },
         "mode": "markers",
         "name": "ART",
         "orientation": "v",
         "showlegend": true,
         "type": "scatter",
         "x": [
          1
         ],
         "xaxis": "x",
         "y": [
          8
         ],
         "yaxis": "y"
        },
        {
         "hovertemplate": "color=ASE<br>x=%{x}<br>y=%{y}<extra></extra>",
         "legendgroup": "ASE",
         "marker": {
          "color": "#B6E880",
          "symbol": "circle"
         },
         "mode": "markers",
         "name": "ASE",
         "orientation": "v",
         "showlegend": true,
         "type": "scatter",
         "x": [
          6
         ],
         "xaxis": "x",
         "y": [
          3.8333333333333335
         ],
         "yaxis": "y"
        },
        {
         "hovertemplate": "color=ATL<br>x=%{x}<br>y=%{y}<extra></extra>",
         "legendgroup": "ATL",
         "marker": {
          "color": "#FF97FF",
          "symbol": "circle"
         },
         "mode": "markers",
         "name": "ATL",
         "orientation": "v",
         "showlegend": true,
         "type": "scatter",
         "x": [
          491
         ],
         "xaxis": "x",
         "y": [
          8.959266802443992
         ],
         "yaxis": "y"
        },
        {
         "hovertemplate": "color=ATW<br>x=%{x}<br>y=%{y}<extra></extra>",
         "legendgroup": "ATW",
         "marker": {
          "color": "#FECB52",
          "symbol": "circle"
         },
         "mode": "markers",
         "name": "ATW",
         "orientation": "v",
         "showlegend": true,
         "type": "scatter",
         "x": [
          6
         ],
         "xaxis": "x",
         "y": [
          9.333333333333334
         ],
         "yaxis": "y"
        },
        {
         "hovertemplate": "color=AUS<br>x=%{x}<br>y=%{y}<extra></extra>",
         "legendgroup": "AUS",
         "marker": {
          "color": "#636efa",
          "symbol": "circle"
         },
         "mode": "markers",
         "name": "AUS",
         "orientation": "v",
         "showlegend": true,
         "type": "scatter",
         "x": [
          75
         ],
         "xaxis": "x",
         "y": [
          6.693333333333333
         ],
         "yaxis": "y"
        },
        {
         "hovertemplate": "color=AVL<br>x=%{x}<br>y=%{y}<extra></extra>",
         "legendgroup": "AVL",
         "marker": {
          "color": "#EF553B",
          "symbol": "circle"
         },
         "mode": "markers",
         "name": "AVL",
         "orientation": "v",
         "showlegend": true,
         "type": "scatter",
         "x": [
          12
         ],
         "xaxis": "x",
         "y": [
          5.083333333333333
         ],
         "yaxis": "y"
        },
        {
         "hovertemplate": "color=AVP<br>x=%{x}<br>y=%{y}<extra></extra>",
         "legendgroup": "AVP",
         "marker": {
          "color": "#00cc96",
          "symbol": "circle"
         },
         "mode": "markers",
         "name": "AVP",
         "orientation": "v",
         "showlegend": true,
         "type": "scatter",
         "x": [
          7
         ],
         "xaxis": "x",
         "y": [
          4
         ],
         "yaxis": "y"
        },
        {
         "hovertemplate": "color=AZA<br>x=%{x}<br>y=%{y}<extra></extra>",
         "legendgroup": "AZA",
         "marker": {
          "color": "#ab63fa",
          "symbol": "circle"
         },
         "mode": "markers",
         "name": "AZA",
         "orientation": "v",
         "showlegend": true,
         "type": "scatter",
         "x": [
          6
         ],
         "xaxis": "x",
         "y": [
          5.5
         ],
         "yaxis": "y"
        },
        {
         "hovertemplate": "color=AZO<br>x=%{x}<br>y=%{y}<extra></extra>",
         "legendgroup": "AZO",
         "marker": {
          "color": "#FFA15A",
          "symbol": "circle"
         },
         "mode": "markers",
         "name": "AZO",
         "orientation": "v",
         "showlegend": true,
         "type": "scatter",
         "x": [
          4
         ],
         "xaxis": "x",
         "y": [
          2.75
         ],
         "yaxis": "y"
        },
        {
         "hovertemplate": "color=BDL<br>x=%{x}<br>y=%{y}<extra></extra>",
         "legendgroup": "BDL",
         "marker": {
          "color": "#19d3f3",
          "symbol": "circle"
         },
         "mode": "markers",
         "name": "BDL",
         "orientation": "v",
         "showlegend": true,
         "type": "scatter",
         "x": [
          31
         ],
         "xaxis": "x",
         "y": [
          6.516129032258065
         ],
         "yaxis": "y"
        },
        {
         "hovertemplate": "color=BET<br>x=%{x}<br>y=%{y}<extra></extra>",
         "legendgroup": "BET",
         "marker": {
          "color": "#FF6692",
          "symbol": "circle"
         },
         "mode": "markers",
         "name": "BET",
         "orientation": "v",
         "showlegend": true,
         "type": "scatter",
         "x": [
          1
         ],
         "xaxis": "x",
         "y": [
          6
         ],
         "yaxis": "y"
        },
        {
         "hovertemplate": "color=BFL<br>x=%{x}<br>y=%{y}<extra></extra>",
         "legendgroup": "BFL",
         "marker": {
          "color": "#B6E880",
          "symbol": "circle"
         },
         "mode": "markers",
         "name": "BFL",
         "orientation": "v",
         "showlegend": true,
         "type": "scatter",
         "x": [
          5
         ],
         "xaxis": "x",
         "y": [
          4.6
         ],
         "yaxis": "y"
        },
        {
         "hovertemplate": "color=BGM<br>x=%{x}<br>y=%{y}<extra></extra>",
         "legendgroup": "BGM",
         "marker": {
          "color": "#FF97FF",
          "symbol": "circle"
         },
         "mode": "markers",
         "name": "BGM",
         "orientation": "v",
         "showlegend": true,
         "type": "scatter",
         "x": [
          1
         ],
         "xaxis": "x",
         "y": [
          3
         ],
         "yaxis": "y"
        },
        {
         "hovertemplate": "color=BGR<br>x=%{x}<br>y=%{y}<extra></extra>",
         "legendgroup": "BGR",
         "marker": {
          "color": "#FECB52",
          "symbol": "circle"
         },
         "mode": "markers",
         "name": "BGR",
         "orientation": "v",
         "showlegend": true,
         "type": "scatter",
         "x": [
          8
         ],
         "xaxis": "x",
         "y": [
          3.375
         ],
         "yaxis": "y"
        },
        {
         "hovertemplate": "color=BHM<br>x=%{x}<br>y=%{y}<extra></extra>",
         "legendgroup": "BHM",
         "marker": {
          "color": "#636efa",
          "symbol": "circle"
         },
         "mode": "markers",
         "name": "BHM",
         "orientation": "v",
         "showlegend": true,
         "type": "scatter",
         "x": [
          26
         ],
         "xaxis": "x",
         "y": [
          3.8846153846153846
         ],
         "yaxis": "y"
        },
        {
         "hovertemplate": "color=BIL<br>x=%{x}<br>y=%{y}<extra></extra>",
         "legendgroup": "BIL",
         "marker": {
          "color": "#EF553B",
          "symbol": "circle"
         },
         "mode": "markers",
         "name": "BIL",
         "orientation": "v",
         "showlegend": true,
         "type": "scatter",
         "x": [
          6
         ],
         "xaxis": "x",
         "y": [
          4
         ],
         "yaxis": "y"
        },
        {
         "hovertemplate": "color=BIS<br>x=%{x}<br>y=%{y}<extra></extra>",
         "legendgroup": "BIS",
         "marker": {
          "color": "#00cc96",
          "symbol": "circle"
         },
         "mode": "markers",
         "name": "BIS",
         "orientation": "v",
         "showlegend": true,
         "type": "scatter",
         "x": [
          9
         ],
         "xaxis": "x",
         "y": [
          4.888888888888889
         ],
         "yaxis": "y"
        },
        {
         "hovertemplate": "color=BLI<br>x=%{x}<br>y=%{y}<extra></extra>",
         "legendgroup": "BLI",
         "marker": {
          "color": "#ab63fa",
          "symbol": "circle"
         },
         "mode": "markers",
         "name": "BLI",
         "orientation": "v",
         "showlegend": true,
         "type": "scatter",
         "x": [
          2
         ],
         "xaxis": "x",
         "y": [
          5.5
         ],
         "yaxis": "y"
        },
        {
         "hovertemplate": "color=BLV<br>x=%{x}<br>y=%{y}<extra></extra>",
         "legendgroup": "BLV",
         "marker": {
          "color": "#FFA15A",
          "symbol": "circle"
         },
         "mode": "markers",
         "name": "BLV",
         "orientation": "v",
         "showlegend": true,
         "type": "scatter",
         "x": [
          1
         ],
         "xaxis": "x",
         "y": [
          7
         ],
         "yaxis": "y"
        },
        {
         "hovertemplate": "color=BMI<br>x=%{x}<br>y=%{y}<extra></extra>",
         "legendgroup": "BMI",
         "marker": {
          "color": "#19d3f3",
          "symbol": "circle"
         },
         "mode": "markers",
         "name": "BMI",
         "orientation": "v",
         "showlegend": true,
         "type": "scatter",
         "x": [
          5
         ],
         "xaxis": "x",
         "y": [
          4.2
         ],
         "yaxis": "y"
        },
        {
         "hovertemplate": "color=BNA<br>x=%{x}<br>y=%{y}<extra></extra>",
         "legendgroup": "BNA",
         "marker": {
          "color": "#FF6692",
          "symbol": "circle"
         },
         "mode": "markers",
         "name": "BNA",
         "orientation": "v",
         "showlegend": true,
         "type": "scatter",
         "x": [
          75
         ],
         "xaxis": "x",
         "y": [
          6.546666666666667
         ],
         "yaxis": "y"
        },
        {
         "hovertemplate": "color=BOI<br>x=%{x}<br>y=%{y}<extra></extra>",
         "legendgroup": "BOI",
         "marker": {
          "color": "#B6E880",
          "symbol": "circle"
         },
         "mode": "markers",
         "name": "BOI",
         "orientation": "v",
         "showlegend": true,
         "type": "scatter",
         "x": [
          31
         ],
         "xaxis": "x",
         "y": [
          4.225806451612903
         ],
         "yaxis": "y"
        },
        {
         "hovertemplate": "color=BOS<br>x=%{x}<br>y=%{y}<extra></extra>",
         "legendgroup": "BOS",
         "marker": {
          "color": "#FF97FF",
          "symbol": "circle"
         },
         "mode": "markers",
         "name": "BOS",
         "orientation": "v",
         "showlegend": true,
         "type": "scatter",
         "x": [
          213
         ],
         "xaxis": "x",
         "y": [
          8.300469483568076
         ],
         "yaxis": "y"
        },
        {
         "hovertemplate": "color=BQK<br>x=%{x}<br>y=%{y}<extra></extra>",
         "legendgroup": "BQK",
         "marker": {
          "color": "#FECB52",
          "symbol": "circle"
         },
         "mode": "markers",
         "name": "BQK",
         "orientation": "v",
         "showlegend": true,
         "type": "scatter",
         "x": [
          2
         ],
         "xaxis": "x",
         "y": [
          4.5
         ],
         "yaxis": "y"
        },
        {
         "hovertemplate": "color=BQN<br>x=%{x}<br>y=%{y}<extra></extra>",
         "legendgroup": "BQN",
         "marker": {
          "color": "#636efa",
          "symbol": "circle"
         },
         "mode": "markers",
         "name": "BQN",
         "orientation": "v",
         "showlegend": true,
         "type": "scatter",
         "x": [
          2
         ],
         "xaxis": "x",
         "y": [
          8
         ],
         "yaxis": "y"
        },
        {
         "hovertemplate": "color=BRO<br>x=%{x}<br>y=%{y}<extra></extra>",
         "legendgroup": "BRO",
         "marker": {
          "color": "#EF553B",
          "symbol": "circle"
         },
         "mode": "markers",
         "name": "BRO",
         "orientation": "v",
         "showlegend": true,
         "type": "scatter",
         "x": [
          3
         ],
         "xaxis": "x",
         "y": [
          4.666666666666667
         ],
         "yaxis": "y"
        },
        {
         "hovertemplate": "color=BRW<br>x=%{x}<br>y=%{y}<extra></extra>",
         "legendgroup": "BRW",
         "marker": {
          "color": "#00cc96",
          "symbol": "circle"
         },
         "mode": "markers",
         "name": "BRW",
         "orientation": "v",
         "showlegend": true,
         "type": "scatter",
         "x": [
          1
         ],
         "xaxis": "x",
         "y": [
          3
         ],
         "yaxis": "y"
        },
        {
         "hovertemplate": "color=BTM<br>x=%{x}<br>y=%{y}<extra></extra>",
         "legendgroup": "BTM",
         "marker": {
          "color": "#ab63fa",
          "symbol": "circle"
         },
         "mode": "markers",
         "name": "BTM",
         "orientation": "v",
         "showlegend": true,
         "type": "scatter",
         "x": [
          1
         ],
         "xaxis": "x",
         "y": [
          1
         ],
         "yaxis": "y"
        },
        {
         "hovertemplate": "color=BTR<br>x=%{x}<br>y=%{y}<extra></extra>",
         "legendgroup": "BTR",
         "marker": {
          "color": "#FFA15A",
          "symbol": "circle"
         },
         "mode": "markers",
         "name": "BTR",
         "orientation": "v",
         "showlegend": true,
         "type": "scatter",
         "x": [
          9
         ],
         "xaxis": "x",
         "y": [
          3.6666666666666665
         ],
         "yaxis": "y"
        },
        {
         "hovertemplate": "color=BTV<br>x=%{x}<br>y=%{y}<extra></extra>",
         "legendgroup": "BTV",
         "marker": {
          "color": "#19d3f3",
          "symbol": "circle"
         },
         "mode": "markers",
         "name": "BTV",
         "orientation": "v",
         "showlegend": true,
         "type": "scatter",
         "x": [
          15
         ],
         "xaxis": "x",
         "y": [
          4.533333333333333
         ],
         "yaxis": "y"
        },
        {
         "hovertemplate": "color=BUF<br>x=%{x}<br>y=%{y}<extra></extra>",
         "legendgroup": "BUF",
         "marker": {
          "color": "#FF6692",
          "symbol": "circle"
         },
         "mode": "markers",
         "name": "BUF",
         "orientation": "v",
         "showlegend": true,
         "type": "scatter",
         "x": [
          37
         ],
         "xaxis": "x",
         "y": [
          5.297297297297297
         ],
         "yaxis": "y"
        },
        {
         "hovertemplate": "color=BUR<br>x=%{x}<br>y=%{y}<extra></extra>",
         "legendgroup": "BUR",
         "marker": {
          "color": "#B6E880",
          "symbol": "circle"
         },
         "mode": "markers",
         "name": "BUR",
         "orientation": "v",
         "showlegend": true,
         "type": "scatter",
         "x": [
          32
         ],
         "xaxis": "x",
         "y": [
          3.625
         ],
         "yaxis": "y"
        },
        {
         "hovertemplate": "color=BWI<br>x=%{x}<br>y=%{y}<extra></extra>",
         "legendgroup": "BWI",
         "marker": {
          "color": "#FF97FF",
          "symbol": "circle"
         },
         "mode": "markers",
         "name": "BWI",
         "orientation": "v",
         "showlegend": true,
         "type": "scatter",
         "x": [
          130
         ],
         "xaxis": "x",
         "y": [
          6.2
         ],
         "yaxis": "y"
        },
        {
         "hovertemplate": "color=BZN<br>x=%{x}<br>y=%{y}<extra></extra>",
         "legendgroup": "BZN",
         "marker": {
          "color": "#FECB52",
          "symbol": "circle"
         },
         "mode": "markers",
         "name": "BZN",
         "orientation": "v",
         "showlegend": true,
         "type": "scatter",
         "x": [
          6
         ],
         "xaxis": "x",
         "y": [
          6.666666666666667
         ],
         "yaxis": "y"
        },
        {
         "hovertemplate": "color=CAE<br>x=%{x}<br>y=%{y}<extra></extra>",
         "legendgroup": "CAE",
         "marker": {
          "color": "#636efa",
          "symbol": "circle"
         },
         "mode": "markers",
         "name": "CAE",
         "orientation": "v",
         "showlegend": true,
         "type": "scatter",
         "x": [
          12
         ],
         "xaxis": "x",
         "y": [
          4.416666666666667
         ],
         "yaxis": "y"
        },
        {
         "hovertemplate": "color=CAK<br>x=%{x}<br>y=%{y}<extra></extra>",
         "legendgroup": "CAK",
         "marker": {
          "color": "#EF553B",
          "symbol": "circle"
         },
         "mode": "markers",
         "name": "CAK",
         "orientation": "v",
         "showlegend": true,
         "type": "scatter",
         "x": [
          6
         ],
         "xaxis": "x",
         "y": [
          5
         ],
         "yaxis": "y"
        },
        {
         "hovertemplate": "color=CDC<br>x=%{x}<br>y=%{y}<extra></extra>",
         "legendgroup": "CDC",
         "marker": {
          "color": "#00cc96",
          "symbol": "circle"
         },
         "mode": "markers",
         "name": "CDC",
         "orientation": "v",
         "showlegend": true,
         "type": "scatter",
         "x": [
          2
         ],
         "xaxis": "x",
         "y": [
          2.5
         ],
         "yaxis": "y"
        },
        {
         "hovertemplate": "color=CDV<br>x=%{x}<br>y=%{y}<extra></extra>",
         "legendgroup": "CDV",
         "marker": {
          "color": "#ab63fa",
          "symbol": "circle"
         },
         "mode": "markers",
         "name": "CDV",
         "orientation": "v",
         "showlegend": true,
         "type": "scatter",
         "x": [
          2
         ],
         "xaxis": "x",
         "y": [
          3.5
         ],
         "yaxis": "y"
        },
        {
         "hovertemplate": "color=CGI<br>x=%{x}<br>y=%{y}<extra></extra>",
         "legendgroup": "CGI",
         "marker": {
          "color": "#FFA15A",
          "symbol": "circle"
         },
         "mode": "markers",
         "name": "CGI",
         "orientation": "v",
         "showlegend": true,
         "type": "scatter",
         "x": [
          1
         ],
         "xaxis": "x",
         "y": [
          2
         ],
         "yaxis": "y"
        },
        {
         "hovertemplate": "color=CHA<br>x=%{x}<br>y=%{y}<extra></extra>",
         "legendgroup": "CHA",
         "marker": {
          "color": "#19d3f3",
          "symbol": "circle"
         },
         "mode": "markers",
         "name": "CHA",
         "orientation": "v",
         "showlegend": true,
         "type": "scatter",
         "x": [
          10
         ],
         "xaxis": "x",
         "y": [
          4.9
         ],
         "yaxis": "y"
        },
        {
         "hovertemplate": "color=CHO<br>x=%{x}<br>y=%{y}<extra></extra>",
         "legendgroup": "CHO",
         "marker": {
          "color": "#FF6692",
          "symbol": "circle"
         },
         "mode": "markers",
         "name": "CHO",
         "orientation": "v",
         "showlegend": true,
         "type": "scatter",
         "x": [
          13
         ],
         "xaxis": "x",
         "y": [
          4.3076923076923075
         ],
         "yaxis": "y"
        },
        {
         "hovertemplate": "color=CHS<br>x=%{x}<br>y=%{y}<extra></extra>",
         "legendgroup": "CHS",
         "marker": {
          "color": "#B6E880",
          "symbol": "circle"
         },
         "mode": "markers",
         "name": "CHS",
         "orientation": "v",
         "showlegend": true,
         "type": "scatter",
         "x": [
          25
         ],
         "xaxis": "x",
         "y": [
          6.64
         ],
         "yaxis": "y"
        },
        {
         "hovertemplate": "color=CID<br>x=%{x}<br>y=%{y}<extra></extra>",
         "legendgroup": "CID",
         "marker": {
          "color": "#FF97FF",
          "symbol": "circle"
         },
         "mode": "markers",
         "name": "CID",
         "orientation": "v",
         "showlegend": true,
         "type": "scatter",
         "x": [
          18
         ],
         "xaxis": "x",
         "y": [
          9.055555555555555
         ],
         "yaxis": "y"
        },
        {
         "hovertemplate": "color=CLE<br>x=%{x}<br>y=%{y}<extra></extra>",
         "legendgroup": "CLE",
         "marker": {
          "color": "#FECB52",
          "symbol": "circle"
         },
         "mode": "markers",
         "name": "CLE",
         "orientation": "v",
         "showlegend": true,
         "type": "scatter",
         "x": [
          63
         ],
         "xaxis": "x",
         "y": [
          6.825396825396825
         ],
         "yaxis": "y"
        },
        {
         "hovertemplate": "color=CLL<br>x=%{x}<br>y=%{y}<extra></extra>",
         "legendgroup": "CLL",
         "marker": {
          "color": "#636efa",
          "symbol": "circle"
         },
         "mode": "markers",
         "name": "CLL",
         "orientation": "v",
         "showlegend": true,
         "type": "scatter",
         "x": [
          3
         ],
         "xaxis": "x",
         "y": [
          3
         ],
         "yaxis": "y"
        },
        {
         "hovertemplate": "color=CLT<br>x=%{x}<br>y=%{y}<extra></extra>",
         "legendgroup": "CLT",
         "marker": {
          "color": "#EF553B",
          "symbol": "circle"
         },
         "mode": "markers",
         "name": "CLT",
         "orientation": "v",
         "showlegend": true,
         "type": "scatter",
         "x": [
          306
         ],
         "xaxis": "x",
         "y": [
          12.392156862745098
         ],
         "yaxis": "y"
        },
        {
         "hovertemplate": "color=CMH<br>x=%{x}<br>y=%{y}<extra></extra>",
         "legendgroup": "CMH",
         "marker": {
          "color": "#00cc96",
          "symbol": "circle"
         },
         "mode": "markers",
         "name": "CMH",
         "orientation": "v",
         "showlegend": true,
         "type": "scatter",
         "x": [
          69
         ],
         "xaxis": "x",
         "y": [
          5.492753623188406
         ],
         "yaxis": "y"
        },
        {
         "hovertemplate": "color=CMI<br>x=%{x}<br>y=%{y}<extra></extra>",
         "legendgroup": "CMI",
         "marker": {
          "color": "#ab63fa",
          "symbol": "circle"
         },
         "mode": "markers",
         "name": "CMI",
         "orientation": "v",
         "showlegend": true,
         "type": "scatter",
         "x": [
          4
         ],
         "xaxis": "x",
         "y": [
          7.5
         ],
         "yaxis": "y"
        },
        {
         "hovertemplate": "color=CNY<br>x=%{x}<br>y=%{y}<extra></extra>",
         "legendgroup": "CNY",
         "marker": {
          "color": "#FFA15A",
          "symbol": "circle"
         },
         "mode": "markers",
         "name": "CNY",
         "orientation": "v",
         "showlegend": true,
         "type": "scatter",
         "x": [
          1
         ],
         "xaxis": "x",
         "y": [
          2
         ],
         "yaxis": "y"
        },
        {
         "hovertemplate": "color=COD<br>x=%{x}<br>y=%{y}<extra></extra>",
         "legendgroup": "COD",
         "marker": {
          "color": "#19d3f3",
          "symbol": "circle"
         },
         "mode": "markers",
         "name": "COD",
         "orientation": "v",
         "showlegend": true,
         "type": "scatter",
         "x": [
          3
         ],
         "xaxis": "x",
         "y": [
          3.3333333333333335
         ],
         "yaxis": "y"
        },
        {
         "hovertemplate": "color=COS<br>x=%{x}<br>y=%{y}<extra></extra>",
         "legendgroup": "COS",
         "marker": {
          "color": "#FF6692",
          "symbol": "circle"
         },
         "mode": "markers",
         "name": "COS",
         "orientation": "v",
         "showlegend": true,
         "type": "scatter",
         "x": [
          11
         ],
         "xaxis": "x",
         "y": [
          7
         ],
         "yaxis": "y"
        },
        {
         "hovertemplate": "color=COU<br>x=%{x}<br>y=%{y}<extra></extra>",
         "legendgroup": "COU",
         "marker": {
          "color": "#B6E880",
          "symbol": "circle"
         },
         "mode": "markers",
         "name": "COU",
         "orientation": "v",
         "showlegend": true,
         "type": "scatter",
         "x": [
          7
         ],
         "xaxis": "x",
         "y": [
          3.857142857142857
         ],
         "yaxis": "y"
        },
        {
         "hovertemplate": "color=CPR<br>x=%{x}<br>y=%{y}<extra></extra>",
         "legendgroup": "CPR",
         "marker": {
          "color": "#FF97FF",
          "symbol": "circle"
         },
         "mode": "markers",
         "name": "CPR",
         "orientation": "v",
         "showlegend": true,
         "type": "scatter",
         "x": [
          4
         ],
         "xaxis": "x",
         "y": [
          3.75
         ],
         "yaxis": "y"
        },
        {
         "hovertemplate": "color=CRP<br>x=%{x}<br>y=%{y}<extra></extra>",
         "legendgroup": "CRP",
         "marker": {
          "color": "#FECB52",
          "symbol": "circle"
         },
         "mode": "markers",
         "name": "CRP",
         "orientation": "v",
         "showlegend": true,
         "type": "scatter",
         "x": [
          6
         ],
         "xaxis": "x",
         "y": [
          6.666666666666667
         ],
         "yaxis": "y"
        },
        {
         "hovertemplate": "color=CRW<br>x=%{x}<br>y=%{y}<extra></extra>",
         "legendgroup": "CRW",
         "marker": {
          "color": "#636efa",
          "symbol": "circle"
         },
         "mode": "markers",
         "name": "CRW",
         "orientation": "v",
         "showlegend": true,
         "type": "scatter",
         "x": [
          5
         ],
         "xaxis": "x",
         "y": [
          2.6
         ],
         "yaxis": "y"
        },
        {
         "hovertemplate": "color=CSG<br>x=%{x}<br>y=%{y}<extra></extra>",
         "legendgroup": "CSG",
         "marker": {
          "color": "#EF553B",
          "symbol": "circle"
         },
         "mode": "markers",
         "name": "CSG",
         "orientation": "v",
         "showlegend": true,
         "type": "scatter",
         "x": [
          2
         ],
         "xaxis": "x",
         "y": [
          3.5
         ],
         "yaxis": "y"
        },
        {
         "hovertemplate": "color=CVG<br>x=%{x}<br>y=%{y}<extra></extra>",
         "legendgroup": "CVG",
         "marker": {
          "color": "#00cc96",
          "symbol": "circle"
         },
         "mode": "markers",
         "name": "CVG",
         "orientation": "v",
         "showlegend": true,
         "type": "scatter",
         "x": [
          63
         ],
         "xaxis": "x",
         "y": [
          6.111111111111111
         ],
         "yaxis": "y"
        },
        {
         "hovertemplate": "color=CWA<br>x=%{x}<br>y=%{y}<extra></extra>",
         "legendgroup": "CWA",
         "marker": {
          "color": "#ab63fa",
          "symbol": "circle"
         },
         "mode": "markers",
         "name": "CWA",
         "orientation": "v",
         "showlegend": true,
         "type": "scatter",
         "x": [
          5
         ],
         "xaxis": "x",
         "y": [
          3.8
         ],
         "yaxis": "y"
        },
        {
         "hovertemplate": "color=DAB<br>x=%{x}<br>y=%{y}<extra></extra>",
         "legendgroup": "DAB",
         "marker": {
          "color": "#FFA15A",
          "symbol": "circle"
         },
         "mode": "markers",
         "name": "DAB",
         "orientation": "v",
         "showlegend": true,
         "type": "scatter",
         "x": [
          8
         ],
         "xaxis": "x",
         "y": [
          3.875
         ],
         "yaxis": "y"
        },
        {
         "hovertemplate": "color=DAL<br>x=%{x}<br>y=%{y}<extra></extra>",
         "legendgroup": "DAL",
         "marker": {
          "color": "#19d3f3",
          "symbol": "circle"
         },
         "mode": "markers",
         "name": "DAL",
         "orientation": "v",
         "showlegend": true,
         "type": "scatter",
         "x": [
          92
         ],
         "xaxis": "x",
         "y": [
          5.586956521739131
         ],
         "yaxis": "y"
        },
        {
         "hovertemplate": "color=DAY<br>x=%{x}<br>y=%{y}<extra></extra>",
         "legendgroup": "DAY",
         "marker": {
          "color": "#FF6692",
          "symbol": "circle"
         },
         "mode": "markers",
         "name": "DAY",
         "orientation": "v",
         "showlegend": true,
         "type": "scatter",
         "x": [
          21
         ],
         "xaxis": "x",
         "y": [
          4.238095238095238
         ],
         "yaxis": "y"
        },
        {
         "hovertemplate": "color=DCA<br>x=%{x}<br>y=%{y}<extra></extra>",
         "legendgroup": "DCA",
         "marker": {
          "color": "#B6E880",
          "symbol": "circle"
         },
         "mode": "markers",
         "name": "DCA",
         "orientation": "v",
         "showlegend": true,
         "type": "scatter",
         "x": [
          178
         ],
         "xaxis": "x",
         "y": [
          7.241573033707865
         ],
         "yaxis": "y"
        },
        {
         "hovertemplate": "color=DEN<br>x=%{x}<br>y=%{y}<extra></extra>",
         "legendgroup": "DEN",
         "marker": {
          "color": "#FF97FF",
          "symbol": "circle"
         },
         "mode": "markers",
         "name": "DEN",
         "orientation": "v",
         "showlegend": true,
         "type": "scatter",
         "x": [
          353
         ],
         "xaxis": "x",
         "y": [
          9.11614730878187
         ],
         "yaxis": "y"
        },
        {
         "hovertemplate": "color=DFW<br>x=%{x}<br>y=%{y}<extra></extra>",
         "legendgroup": "DFW",
         "marker": {
          "color": "#FECB52",
          "symbol": "circle"
         },
         "mode": "markers",
         "name": "DFW",
         "orientation": "v",
         "showlegend": true,
         "type": "scatter",
         "x": [
          336
         ],
         "xaxis": "x",
         "y": [
          11.75297619047619
         ],
         "yaxis": "y"
        },
        {
         "hovertemplate": "color=DHN<br>x=%{x}<br>y=%{y}<extra></extra>",
         "legendgroup": "DHN",
         "marker": {
          "color": "#636efa",
          "symbol": "circle"
         },
         "mode": "markers",
         "name": "DHN",
         "orientation": "v",
         "showlegend": true,
         "type": "scatter",
         "x": [
          2
         ],
         "xaxis": "x",
         "y": [
          4.5
         ],
         "yaxis": "y"
        },
        {
         "hovertemplate": "color=DIK<br>x=%{x}<br>y=%{y}<extra></extra>",
         "legendgroup": "DIK",
         "marker": {
          "color": "#EF553B",
          "symbol": "circle"
         },
         "mode": "markers",
         "name": "DIK",
         "orientation": "v",
         "showlegend": true,
         "type": "scatter",
         "x": [
          2
         ],
         "xaxis": "x",
         "y": [
          5
         ],
         "yaxis": "y"
        },
        {
         "hovertemplate": "color=DLH<br>x=%{x}<br>y=%{y}<extra></extra>",
         "legendgroup": "DLH",
         "marker": {
          "color": "#00cc96",
          "symbol": "circle"
         },
         "mode": "markers",
         "name": "DLH",
         "orientation": "v",
         "showlegend": true,
         "type": "scatter",
         "x": [
          3
         ],
         "xaxis": "x",
         "y": [
          6.666666666666667
         ],
         "yaxis": "y"
        },
        {
         "hovertemplate": "color=DRO<br>x=%{x}<br>y=%{y}<extra></extra>",
         "legendgroup": "DRO",
         "marker": {
          "color": "#ab63fa",
          "symbol": "circle"
         },
         "mode": "markers",
         "name": "DRO",
         "orientation": "v",
         "showlegend": true,
         "type": "scatter",
         "x": [
          5
         ],
         "xaxis": "x",
         "y": [
          4.8
         ],
         "yaxis": "y"
        },
        {
         "hovertemplate": "color=DSM<br>x=%{x}<br>y=%{y}<extra></extra>",
         "legendgroup": "DSM",
         "marker": {
          "color": "#FFA15A",
          "symbol": "circle"
         },
         "mode": "markers",
         "name": "DSM",
         "orientation": "v",
         "showlegend": true,
         "type": "scatter",
         "x": [
          19
         ],
         "xaxis": "x",
         "y": [
          5.157894736842105
         ],
         "yaxis": "y"
        },
        {
         "hovertemplate": "color=DTW<br>x=%{x}<br>y=%{y}<extra></extra>",
         "legendgroup": "DTW",
         "marker": {
          "color": "#19d3f3",
          "symbol": "circle"
         },
         "mode": "markers",
         "name": "DTW",
         "orientation": "v",
         "showlegend": true,
         "type": "scatter",
         "x": [
          208
         ],
         "xaxis": "x",
         "y": [
          8.76923076923077
         ],
         "yaxis": "y"
        },
        {
         "hovertemplate": "color=DUT<br>x=%{x}<br>y=%{y}<extra></extra>",
         "legendgroup": "DUT",
         "marker": {
          "color": "#FF6692",
          "symbol": "circle"
         },
         "mode": "markers",
         "name": "DUT",
         "orientation": "v",
         "showlegend": true,
         "type": "scatter",
         "x": [
          1
         ],
         "xaxis": "x",
         "y": [
          3
         ],
         "yaxis": "y"
        },
        {
         "hovertemplate": "color=EAR<br>x=%{x}<br>y=%{y}<extra></extra>",
         "legendgroup": "EAR",
         "marker": {
          "color": "#B6E880",
          "symbol": "circle"
         },
         "mode": "markers",
         "name": "EAR",
         "orientation": "v",
         "showlegend": true,
         "type": "scatter",
         "x": [
          1
         ],
         "xaxis": "x",
         "y": [
          5
         ],
         "yaxis": "y"
        },
        {
         "hovertemplate": "color=ECP<br>x=%{x}<br>y=%{y}<extra></extra>",
         "legendgroup": "ECP",
         "marker": {
          "color": "#FF97FF",
          "symbol": "circle"
         },
         "mode": "markers",
         "name": "ECP",
         "orientation": "v",
         "showlegend": true,
         "type": "scatter",
         "x": [
          4
         ],
         "xaxis": "x",
         "y": [
          12.75
         ],
         "yaxis": "y"
        },
        {
         "hovertemplate": "color=EGE<br>x=%{x}<br>y=%{y}<extra></extra>",
         "legendgroup": "EGE",
         "marker": {
          "color": "#FECB52",
          "symbol": "circle"
         },
         "mode": "markers",
         "name": "EGE",
         "orientation": "v",
         "showlegend": true,
         "type": "scatter",
         "x": [
          1
         ],
         "xaxis": "x",
         "y": [
          3
         ],
         "yaxis": "y"
        },
        {
         "hovertemplate": "color=EKO<br>x=%{x}<br>y=%{y}<extra></extra>",
         "legendgroup": "EKO",
         "marker": {
          "color": "#636efa",
          "symbol": "circle"
         },
         "mode": "markers",
         "name": "EKO",
         "orientation": "v",
         "showlegend": true,
         "type": "scatter",
         "x": [
          1
         ],
         "xaxis": "x",
         "y": [
          6
         ],
         "yaxis": "y"
        },
        {
         "hovertemplate": "color=ELM<br>x=%{x}<br>y=%{y}<extra></extra>",
         "legendgroup": "ELM",
         "marker": {
          "color": "#EF553B",
          "symbol": "circle"
         },
         "mode": "markers",
         "name": "ELM",
         "orientation": "v",
         "showlegend": true,
         "type": "scatter",
         "x": [
          2
         ],
         "xaxis": "x",
         "y": [
          4
         ],
         "yaxis": "y"
        },
        {
         "hovertemplate": "color=ELP<br>x=%{x}<br>y=%{y}<extra></extra>",
         "legendgroup": "ELP",
         "marker": {
          "color": "#00cc96",
          "symbol": "circle"
         },
         "mode": "markers",
         "name": "ELP",
         "orientation": "v",
         "showlegend": true,
         "type": "scatter",
         "x": [
          14
         ],
         "xaxis": "x",
         "y": [
          4
         ],
         "yaxis": "y"
        },
        {
         "hovertemplate": "color=ERI<br>x=%{x}<br>y=%{y}<extra></extra>",
         "legendgroup": "ERI",
         "marker": {
          "color": "#ab63fa",
          "symbol": "circle"
         },
         "mode": "markers",
         "name": "ERI",
         "orientation": "v",
         "showlegend": true,
         "type": "scatter",
         "x": [
          2
         ],
         "xaxis": "x",
         "y": [
          3.5
         ],
         "yaxis": "y"
        },
        {
         "hovertemplate": "color=EUG<br>x=%{x}<br>y=%{y}<extra></extra>",
         "legendgroup": "EUG",
         "marker": {
          "color": "#FFA15A",
          "symbol": "circle"
         },
         "mode": "markers",
         "name": "EUG",
         "orientation": "v",
         "showlegend": true,
         "type": "scatter",
         "x": [
          11
         ],
         "xaxis": "x",
         "y": [
          5.090909090909091
         ],
         "yaxis": "y"
        },
        {
         "hovertemplate": "color=EVV<br>x=%{x}<br>y=%{y}<extra></extra>",
         "legendgroup": "EVV",
         "marker": {
          "color": "#19d3f3",
          "symbol": "circle"
         },
         "mode": "markers",
         "name": "EVV",
         "orientation": "v",
         "showlegend": true,
         "type": "scatter",
         "x": [
          9
         ],
         "xaxis": "x",
         "y": [
          4.222222222222222
         ],
         "yaxis": "y"
        },
        {
         "hovertemplate": "color=EWN<br>x=%{x}<br>y=%{y}<extra></extra>",
         "legendgroup": "EWN",
         "marker": {
          "color": "#FF6692",
          "symbol": "circle"
         },
         "mode": "markers",
         "name": "EWN",
         "orientation": "v",
         "showlegend": true,
         "type": "scatter",
         "x": [
          6
         ],
         "xaxis": "x",
         "y": [
          2.8333333333333335
         ],
         "yaxis": "y"
        },
        {
         "hovertemplate": "color=EWR<br>x=%{x}<br>y=%{y}<extra></extra>",
         "legendgroup": "EWR",
         "marker": {
          "color": "#B6E880",
          "symbol": "circle"
         },
         "mode": "markers",
         "name": "EWR",
         "orientation": "v",
         "showlegend": true,
         "type": "scatter",
         "x": [
          192
         ],
         "xaxis": "x",
         "y": [
          9.916666666666666
         ],
         "yaxis": "y"
        },
        {
         "hovertemplate": "color=EYW<br>x=%{x}<br>y=%{y}<extra></extra>",
         "legendgroup": "EYW",
         "marker": {
          "color": "#FF97FF",
          "symbol": "circle"
         },
         "mode": "markers",
         "name": "EYW",
         "orientation": "v",
         "showlegend": true,
         "type": "scatter",
         "x": [
          7
         ],
         "xaxis": "x",
         "y": [
          3
         ],
         "yaxis": "y"
        },
        {
         "hovertemplate": "color=FAI<br>x=%{x}<br>y=%{y}<extra></extra>",
         "legendgroup": "FAI",
         "marker": {
          "color": "#FECB52",
          "symbol": "circle"
         },
         "mode": "markers",
         "name": "FAI",
         "orientation": "v",
         "showlegend": true,
         "type": "scatter",
         "x": [
          3
         ],
         "xaxis": "x",
         "y": [
          4.333333333333333
         ],
         "yaxis": "y"
        },
        {
         "hovertemplate": "color=FAR<br>x=%{x}<br>y=%{y}<extra></extra>",
         "legendgroup": "FAR",
         "marker": {
          "color": "#636efa",
          "symbol": "circle"
         },
         "mode": "markers",
         "name": "FAR",
         "orientation": "v",
         "showlegend": true,
         "type": "scatter",
         "x": [
          11
         ],
         "xaxis": "x",
         "y": [
          6.181818181818182
         ],
         "yaxis": "y"
        },
        {
         "hovertemplate": "color=FAT<br>x=%{x}<br>y=%{y}<extra></extra>",
         "legendgroup": "FAT",
         "marker": {
          "color": "#EF553B",
          "symbol": "circle"
         },
         "mode": "markers",
         "name": "FAT",
         "orientation": "v",
         "showlegend": true,
         "type": "scatter",
         "x": [
          8
         ],
         "xaxis": "x",
         "y": [
          5.75
         ],
         "yaxis": "y"
        },
        {
         "hovertemplate": "color=FAY<br>x=%{x}<br>y=%{y}<extra></extra>",
         "legendgroup": "FAY",
         "marker": {
          "color": "#00cc96",
          "symbol": "circle"
         },
         "mode": "markers",
         "name": "FAY",
         "orientation": "v",
         "showlegend": true,
         "type": "scatter",
         "x": [
          5
         ],
         "xaxis": "x",
         "y": [
          4.6
         ],
         "yaxis": "y"
        },
        {
         "hovertemplate": "color=FCA<br>x=%{x}<br>y=%{y}<extra></extra>",
         "legendgroup": "FCA",
         "marker": {
          "color": "#ab63fa",
          "symbol": "circle"
         },
         "mode": "markers",
         "name": "FCA",
         "orientation": "v",
         "showlegend": true,
         "type": "scatter",
         "x": [
          5
         ],
         "xaxis": "x",
         "y": [
          4
         ],
         "yaxis": "y"
        },
        {
         "hovertemplate": "color=FLG<br>x=%{x}<br>y=%{y}<extra></extra>",
         "legendgroup": "FLG",
         "marker": {
          "color": "#FFA15A",
          "symbol": "circle"
         },
         "mode": "markers",
         "name": "FLG",
         "orientation": "v",
         "showlegend": true,
         "type": "scatter",
         "x": [
          2
         ],
         "xaxis": "x",
         "y": [
          3.5
         ],
         "yaxis": "y"
        },
        {
         "hovertemplate": "color=FLL<br>x=%{x}<br>y=%{y}<extra></extra>",
         "legendgroup": "FLL",
         "marker": {
          "color": "#19d3f3",
          "symbol": "circle"
         },
         "mode": "markers",
         "name": "FLL",
         "orientation": "v",
         "showlegend": true,
         "type": "scatter",
         "x": [
          121
         ],
         "xaxis": "x",
         "y": [
          6.991735537190083
         ],
         "yaxis": "y"
        },
        {
         "hovertemplate": "color=FLO<br>x=%{x}<br>y=%{y}<extra></extra>",
         "legendgroup": "FLO",
         "marker": {
          "color": "#FF6692",
          "symbol": "circle"
         },
         "mode": "markers",
         "name": "FLO",
         "orientation": "v",
         "showlegend": true,
         "type": "scatter",
         "x": [
          3
         ],
         "xaxis": "x",
         "y": [
          7.333333333333333
         ],
         "yaxis": "y"
        },
        {
         "hovertemplate": "color=FNT<br>x=%{x}<br>y=%{y}<extra></extra>",
         "legendgroup": "FNT",
         "marker": {
          "color": "#B6E880",
          "symbol": "circle"
         },
         "mode": "markers",
         "name": "FNT",
         "orientation": "v",
         "showlegend": true,
         "type": "scatter",
         "x": [
          6
         ],
         "xaxis": "x",
         "y": [
          3.8333333333333335
         ],
         "yaxis": "y"
        },
        {
         "hovertemplate": "color=FSD<br>x=%{x}<br>y=%{y}<extra></extra>",
         "legendgroup": "FSD",
         "marker": {
          "color": "#FF97FF",
          "symbol": "circle"
         },
         "mode": "markers",
         "name": "FSD",
         "orientation": "v",
         "showlegend": true,
         "type": "scatter",
         "x": [
          10
         ],
         "xaxis": "x",
         "y": [
          10.8
         ],
         "yaxis": "y"
        },
        {
         "hovertemplate": "color=FSM<br>x=%{x}<br>y=%{y}<extra></extra>",
         "legendgroup": "FSM",
         "marker": {
          "color": "#FECB52",
          "symbol": "circle"
         },
         "mode": "markers",
         "name": "FSM",
         "orientation": "v",
         "showlegend": true,
         "type": "scatter",
         "x": [
          4
         ],
         "xaxis": "x",
         "y": [
          12.25
         ],
         "yaxis": "y"
        },
        {
         "hovertemplate": "color=FWA<br>x=%{x}<br>y=%{y}<extra></extra>",
         "legendgroup": "FWA",
         "marker": {
          "color": "#636efa",
          "symbol": "circle"
         },
         "mode": "markers",
         "name": "FWA",
         "orientation": "v",
         "showlegend": true,
         "type": "scatter",
         "x": [
          7
         ],
         "xaxis": "x",
         "y": [
          6.714285714285714
         ],
         "yaxis": "y"
        },
        {
         "hovertemplate": "color=GCK<br>x=%{x}<br>y=%{y}<extra></extra>",
         "legendgroup": "GCK",
         "marker": {
          "color": "#EF553B",
          "symbol": "circle"
         },
         "mode": "markers",
         "name": "GCK",
         "orientation": "v",
         "showlegend": true,
         "type": "scatter",
         "x": [
          1
         ],
         "xaxis": "x",
         "y": [
          3
         ],
         "yaxis": "y"
        },
        {
         "hovertemplate": "color=GEG<br>x=%{x}<br>y=%{y}<extra></extra>",
         "legendgroup": "GEG",
         "marker": {
          "color": "#00cc96",
          "symbol": "circle"
         },
         "mode": "markers",
         "name": "GEG",
         "orientation": "v",
         "showlegend": true,
         "type": "scatter",
         "x": [
          29
         ],
         "xaxis": "x",
         "y": [
          4.0344827586206895
         ],
         "yaxis": "y"
        },
        {
         "hovertemplate": "color=GFK<br>x=%{x}<br>y=%{y}<extra></extra>",
         "legendgroup": "GFK",
         "marker": {
          "color": "#ab63fa",
          "symbol": "circle"
         },
         "mode": "markers",
         "name": "GFK",
         "orientation": "v",
         "showlegend": true,
         "type": "scatter",
         "x": [
          1
         ],
         "xaxis": "x",
         "y": [
          6
         ],
         "yaxis": "y"
        },
        {
         "hovertemplate": "color=GJT<br>x=%{x}<br>y=%{y}<extra></extra>",
         "legendgroup": "GJT",
         "marker": {
          "color": "#FFA15A",
          "symbol": "circle"
         },
         "mode": "markers",
         "name": "GJT",
         "orientation": "v",
         "showlegend": true,
         "type": "scatter",
         "x": [
          5
         ],
         "xaxis": "x",
         "y": [
          3.2
         ],
         "yaxis": "y"
        },
        {
         "hovertemplate": "color=GNV<br>x=%{x}<br>y=%{y}<extra></extra>",
         "legendgroup": "GNV",
         "marker": {
          "color": "#19d3f3",
          "symbol": "circle"
         },
         "mode": "markers",
         "name": "GNV",
         "orientation": "v",
         "showlegend": true,
         "type": "scatter",
         "x": [
          3
         ],
         "xaxis": "x",
         "y": [
          4
         ],
         "yaxis": "y"
        },
        {
         "hovertemplate": "color=GPT<br>x=%{x}<br>y=%{y}<extra></extra>",
         "legendgroup": "GPT",
         "marker": {
          "color": "#FF6692",
          "symbol": "circle"
         },
         "mode": "markers",
         "name": "GPT",
         "orientation": "v",
         "showlegend": true,
         "type": "scatter",
         "x": [
          4
         ],
         "xaxis": "x",
         "y": [
          4
         ],
         "yaxis": "y"
        },
        {
         "hovertemplate": "color=GRB<br>x=%{x}<br>y=%{y}<extra></extra>",
         "legendgroup": "GRB",
         "marker": {
          "color": "#B6E880",
          "symbol": "circle"
         },
         "mode": "markers",
         "name": "GRB",
         "orientation": "v",
         "showlegend": true,
         "type": "scatter",
         "x": [
          3
         ],
         "xaxis": "x",
         "y": [
          5
         ],
         "yaxis": "y"
        },
        {
         "hovertemplate": "color=GRI<br>x=%{x}<br>y=%{y}<extra></extra>",
         "legendgroup": "GRI",
         "marker": {
          "color": "#FF97FF",
          "symbol": "circle"
         },
         "mode": "markers",
         "name": "GRI",
         "orientation": "v",
         "showlegend": true,
         "type": "scatter",
         "x": [
          2
         ],
         "xaxis": "x",
         "y": [
          5
         ],
         "yaxis": "y"
        },
        {
         "hovertemplate": "color=GRK<br>x=%{x}<br>y=%{y}<extra></extra>",
         "legendgroup": "GRK",
         "marker": {
          "color": "#FECB52",
          "symbol": "circle"
         },
         "mode": "markers",
         "name": "GRK",
         "orientation": "v",
         "showlegend": true,
         "type": "scatter",
         "x": [
          3
         ],
         "xaxis": "x",
         "y": [
          3
         ],
         "yaxis": "y"
        },
        {
         "hovertemplate": "color=GRR<br>x=%{x}<br>y=%{y}<extra></extra>",
         "legendgroup": "GRR",
         "marker": {
          "color": "#636efa",
          "symbol": "circle"
         },
         "mode": "markers",
         "name": "GRR",
         "orientation": "v",
         "showlegend": true,
         "type": "scatter",
         "x": [
          26
         ],
         "xaxis": "x",
         "y": [
          5.615384615384615
         ],
         "yaxis": "y"
        },
        {
         "hovertemplate": "color=GSO<br>x=%{x}<br>y=%{y}<extra></extra>",
         "legendgroup": "GSO",
         "marker": {
          "color": "#EF553B",
          "symbol": "circle"
         },
         "mode": "markers",
         "name": "GSO",
         "orientation": "v",
         "showlegend": true,
         "type": "scatter",
         "x": [
          21
         ],
         "xaxis": "x",
         "y": [
          6.904761904761905
         ],
         "yaxis": "y"
        },
        {
         "hovertemplate": "color=GSP<br>x=%{x}<br>y=%{y}<extra></extra>",
         "legendgroup": "GSP",
         "marker": {
          "color": "#00cc96",
          "symbol": "circle"
         },
         "mode": "markers",
         "name": "GSP",
         "orientation": "v",
         "showlegend": true,
         "type": "scatter",
         "x": [
          21
         ],
         "xaxis": "x",
         "y": [
          4.333333333333333
         ],
         "yaxis": "y"
        },
        {
         "hovertemplate": "color=GTF<br>x=%{x}<br>y=%{y}<extra></extra>",
         "legendgroup": "GTF",
         "marker": {
          "color": "#ab63fa",
          "symbol": "circle"
         },
         "mode": "markers",
         "name": "GTF",
         "orientation": "v",
         "showlegend": true,
         "type": "scatter",
         "x": [
          2
         ],
         "xaxis": "x",
         "y": [
          3
         ],
         "yaxis": "y"
        },
        {
         "hovertemplate": "color=GTR<br>x=%{x}<br>y=%{y}<extra></extra>",
         "legendgroup": "GTR",
         "marker": {
          "color": "#FFA15A",
          "symbol": "circle"
         },
         "mode": "markers",
         "name": "GTR",
         "orientation": "v",
         "showlegend": true,
         "type": "scatter",
         "x": [
          1
         ],
         "xaxis": "x",
         "y": [
          2
         ],
         "yaxis": "y"
        },
        {
         "hovertemplate": "color=GUC<br>x=%{x}<br>y=%{y}<extra></extra>",
         "legendgroup": "GUC",
         "marker": {
          "color": "#19d3f3",
          "symbol": "circle"
         },
         "mode": "markers",
         "name": "GUC",
         "orientation": "v",
         "showlegend": true,
         "type": "scatter",
         "x": [
          1
         ],
         "xaxis": "x",
         "y": [
          4
         ],
         "yaxis": "y"
        },
        {
         "hovertemplate": "color=GUM<br>x=%{x}<br>y=%{y}<extra></extra>",
         "legendgroup": "GUM",
         "marker": {
          "color": "#FF6692",
          "symbol": "circle"
         },
         "mode": "markers",
         "name": "GUM",
         "orientation": "v",
         "showlegend": true,
         "type": "scatter",
         "x": [
          3
         ],
         "xaxis": "x",
         "y": [
          3
         ],
         "yaxis": "y"
        },
        {
         "hovertemplate": "color=HDN<br>x=%{x}<br>y=%{y}<extra></extra>",
         "legendgroup": "HDN",
         "marker": {
          "color": "#B6E880",
          "symbol": "circle"
         },
         "mode": "markers",
         "name": "HDN",
         "orientation": "v",
         "showlegend": true,
         "type": "scatter",
         "x": [
          3
         ],
         "xaxis": "x",
         "y": [
          3.3333333333333335
         ],
         "yaxis": "y"
        },
        {
         "hovertemplate": "color=HGR<br>x=%{x}<br>y=%{y}<extra></extra>",
         "legendgroup": "HGR",
         "marker": {
          "color": "#FF97FF",
          "symbol": "circle"
         },
         "mode": "markers",
         "name": "HGR",
         "orientation": "v",
         "showlegend": true,
         "type": "scatter",
         "x": [
          1
         ],
         "xaxis": "x",
         "y": [
          5
         ],
         "yaxis": "y"
        },
        {
         "hovertemplate": "color=HHH<br>x=%{x}<br>y=%{y}<extra></extra>",
         "legendgroup": "HHH",
         "marker": {
          "color": "#FECB52",
          "symbol": "circle"
         },
         "mode": "markers",
         "name": "HHH",
         "orientation": "v",
         "showlegend": true,
         "type": "scatter",
         "x": [
          1
         ],
         "xaxis": "x",
         "y": [
          10
         ],
         "yaxis": "y"
        },
        {
         "hovertemplate": "color=HIB<br>x=%{x}<br>y=%{y}<extra></extra>",
         "legendgroup": "HIB",
         "marker": {
          "color": "#636efa",
          "symbol": "circle"
         },
         "mode": "markers",
         "name": "HIB",
         "orientation": "v",
         "showlegend": true,
         "type": "scatter",
         "x": [
          2
         ],
         "xaxis": "x",
         "y": [
          2.5
         ],
         "yaxis": "y"
        },
        {
         "hovertemplate": "color=HLN<br>x=%{x}<br>y=%{y}<extra></extra>",
         "legendgroup": "HLN",
         "marker": {
          "color": "#EF553B",
          "symbol": "circle"
         },
         "mode": "markers",
         "name": "HLN",
         "orientation": "v",
         "showlegend": true,
         "type": "scatter",
         "x": [
          4
         ],
         "xaxis": "x",
         "y": [
          2
         ],
         "yaxis": "y"
        },
        {
         "hovertemplate": "color=HNL<br>x=%{x}<br>y=%{y}<extra></extra>",
         "legendgroup": "HNL",
         "marker": {
          "color": "#00cc96",
          "symbol": "circle"
         },
         "mode": "markers",
         "name": "HNL",
         "orientation": "v",
         "showlegend": true,
         "type": "scatter",
         "x": [
          70
         ],
         "xaxis": "x",
         "y": [
          7.814285714285714
         ],
         "yaxis": "y"
        },
        {
         "hovertemplate": "color=HOB<br>x=%{x}<br>y=%{y}<extra></extra>",
         "legendgroup": "HOB",
         "marker": {
          "color": "#ab63fa",
          "symbol": "circle"
         },
         "mode": "markers",
         "name": "HOB",
         "orientation": "v",
         "showlegend": true,
         "type": "scatter",
         "x": [
          1
         ],
         "xaxis": "x",
         "y": [
          4
         ],
         "yaxis": "y"
        },
        {
         "hovertemplate": "color=HOU<br>x=%{x}<br>y=%{y}<extra></extra>",
         "legendgroup": "HOU",
         "marker": {
          "color": "#FFA15A",
          "symbol": "circle"
         },
         "mode": "markers",
         "name": "HOU",
         "orientation": "v",
         "showlegend": true,
         "type": "scatter",
         "x": [
          70
         ],
         "xaxis": "x",
         "y": [
          5.728571428571429
         ],
         "yaxis": "y"
        },
        {
         "hovertemplate": "color=HPN<br>x=%{x}<br>y=%{y}<extra></extra>",
         "legendgroup": "HPN",
         "marker": {
          "color": "#19d3f3",
          "symbol": "circle"
         },
         "mode": "markers",
         "name": "HPN",
         "orientation": "v",
         "showlegend": true,
         "type": "scatter",
         "x": [
          13
         ],
         "xaxis": "x",
         "y": [
          5.230769230769231
         ],
         "yaxis": "y"
        },
        {
         "hovertemplate": "color=HRL<br>x=%{x}<br>y=%{y}<extra></extra>",
         "legendgroup": "HRL",
         "marker": {
          "color": "#FF6692",
          "symbol": "circle"
         },
         "mode": "markers",
         "name": "HRL",
         "orientation": "v",
         "showlegend": true,
         "type": "scatter",
         "x": [
          5
         ],
         "xaxis": "x",
         "y": [
          2.8
         ],
         "yaxis": "y"
        },
        {
         "hovertemplate": "color=HSV<br>x=%{x}<br>y=%{y}<extra></extra>",
         "legendgroup": "HSV",
         "marker": {
          "color": "#B6E880",
          "symbol": "circle"
         },
         "mode": "markers",
         "name": "HSV",
         "orientation": "v",
         "showlegend": true,
         "type": "scatter",
         "x": [
          14
         ],
         "xaxis": "x",
         "y": [
          5.428571428571429
         ],
         "yaxis": "y"
        },
        {
         "hovertemplate": "color=HTS<br>x=%{x}<br>y=%{y}<extra></extra>",
         "legendgroup": "HTS",
         "marker": {
          "color": "#FF97FF",
          "symbol": "circle"
         },
         "mode": "markers",
         "name": "HTS",
         "orientation": "v",
         "showlegend": true,
         "type": "scatter",
         "x": [
          5
         ],
         "xaxis": "x",
         "y": [
          6.6
         ],
         "yaxis": "y"
        },
        {
         "hovertemplate": "color=HYS<br>x=%{x}<br>y=%{y}<extra></extra>",
         "legendgroup": "HYS",
         "marker": {
          "color": "#FECB52",
          "symbol": "circle"
         },
         "mode": "markers",
         "name": "HYS",
         "orientation": "v",
         "showlegend": true,
         "type": "scatter",
         "x": [
          1
         ],
         "xaxis": "x",
         "y": [
          6
         ],
         "yaxis": "y"
        },
        {
         "hovertemplate": "color=IAD<br>x=%{x}<br>y=%{y}<extra></extra>",
         "legendgroup": "IAD",
         "marker": {
          "color": "#636efa",
          "symbol": "circle"
         },
         "mode": "markers",
         "name": "IAD",
         "orientation": "v",
         "showlegend": true,
         "type": "scatter",
         "x": [
          123
         ],
         "xaxis": "x",
         "y": [
          6.235772357723577
         ],
         "yaxis": "y"
        },
        {
         "hovertemplate": "color=IAH<br>x=%{x}<br>y=%{y}<extra></extra>",
         "legendgroup": "IAH",
         "marker": {
          "color": "#EF553B",
          "symbol": "circle"
         },
         "mode": "markers",
         "name": "IAH",
         "orientation": "v",
         "showlegend": true,
         "type": "scatter",
         "x": [
          198
         ],
         "xaxis": "x",
         "y": [
          9.282828282828282
         ],
         "yaxis": "y"
        },
        {
         "hovertemplate": "color=ICT<br>x=%{x}<br>y=%{y}<extra></extra>",
         "legendgroup": "ICT",
         "marker": {
          "color": "#00cc96",
          "symbol": "circle"
         },
         "mode": "markers",
         "name": "ICT",
         "orientation": "v",
         "showlegend": true,
         "type": "scatter",
         "x": [
          14
         ],
         "xaxis": "x",
         "y": [
          4.928571428571429
         ],
         "yaxis": "y"
        },
        {
         "hovertemplate": "color=IDA<br>x=%{x}<br>y=%{y}<extra></extra>",
         "legendgroup": "IDA",
         "marker": {
          "color": "#ab63fa",
          "symbol": "circle"
         },
         "mode": "markers",
         "name": "IDA",
         "orientation": "v",
         "showlegend": true,
         "type": "scatter",
         "x": [
          2
         ],
         "xaxis": "x",
         "y": [
          4
         ],
         "yaxis": "y"
        },
        {
         "hovertemplate": "color=ILM<br>x=%{x}<br>y=%{y}<extra></extra>",
         "legendgroup": "ILM",
         "marker": {
          "color": "#FFA15A",
          "symbol": "circle"
         },
         "mode": "markers",
         "name": "ILM",
         "orientation": "v",
         "showlegend": true,
         "type": "scatter",
         "x": [
          14
         ],
         "xaxis": "x",
         "y": [
          3.9285714285714284
         ],
         "yaxis": "y"
        },
        {
         "hovertemplate": "color=IMT<br>x=%{x}<br>y=%{y}<extra></extra>",
         "legendgroup": "IMT",
         "marker": {
          "color": "#19d3f3",
          "symbol": "circle"
         },
         "mode": "markers",
         "name": "IMT",
         "orientation": "v",
         "showlegend": true,
         "type": "scatter",
         "x": [
          2
         ],
         "xaxis": "x",
         "y": [
          5.5
         ],
         "yaxis": "y"
        },
        {
         "hovertemplate": "color=IND<br>x=%{x}<br>y=%{y}<extra></extra>",
         "legendgroup": "IND",
         "marker": {
          "color": "#FF6692",
          "symbol": "circle"
         },
         "mode": "markers",
         "name": "IND",
         "orientation": "v",
         "showlegend": true,
         "type": "scatter",
         "x": [
          73
         ],
         "xaxis": "x",
         "y": [
          6.493150684931507
         ],
         "yaxis": "y"
        },
        {
         "hovertemplate": "color=INL<br>x=%{x}<br>y=%{y}<extra></extra>",
         "legendgroup": "INL",
         "marker": {
          "color": "#B6E880",
          "symbol": "circle"
         },
         "mode": "markers",
         "name": "INL",
         "orientation": "v",
         "showlegend": true,
         "type": "scatter",
         "x": [
          1
         ],
         "xaxis": "x",
         "y": [
          3
         ],
         "yaxis": "y"
        },
        {
         "hovertemplate": "color=ISP<br>x=%{x}<br>y=%{y}<extra></extra>",
         "legendgroup": "ISP",
         "marker": {
          "color": "#FF97FF",
          "symbol": "circle"
         },
         "mode": "markers",
         "name": "ISP",
         "orientation": "v",
         "showlegend": true,
         "type": "scatter",
         "x": [
          15
         ],
         "xaxis": "x",
         "y": [
          4.466666666666667
         ],
         "yaxis": "y"
        },
        {
         "hovertemplate": "color=ITH<br>x=%{x}<br>y=%{y}<extra></extra>",
         "legendgroup": "ITH",
         "marker": {
          "color": "#FECB52",
          "symbol": "circle"
         },
         "mode": "markers",
         "name": "ITH",
         "orientation": "v",
         "showlegend": true,
         "type": "scatter",
         "x": [
          3
         ],
         "xaxis": "x",
         "y": [
          5
         ],
         "yaxis": "y"
        },
        {
         "hovertemplate": "color=ITO<br>x=%{x}<br>y=%{y}<extra></extra>",
         "legendgroup": "ITO",
         "marker": {
          "color": "#636efa",
          "symbol": "circle"
         },
         "mode": "markers",
         "name": "ITO",
         "orientation": "v",
         "showlegend": true,
         "type": "scatter",
         "x": [
          6
         ],
         "xaxis": "x",
         "y": [
          4.833333333333333
         ],
         "yaxis": "y"
        },
        {
         "hovertemplate": "color=JAC<br>x=%{x}<br>y=%{y}<extra></extra>",
         "legendgroup": "JAC",
         "marker": {
          "color": "#EF553B",
          "symbol": "circle"
         },
         "mode": "markers",
         "name": "JAC",
         "orientation": "v",
         "showlegend": true,
         "type": "scatter",
         "x": [
          5
         ],
         "xaxis": "x",
         "y": [
          3
         ],
         "yaxis": "y"
        },
        {
         "hovertemplate": "color=JAN<br>x=%{x}<br>y=%{y}<extra></extra>",
         "legendgroup": "JAN",
         "marker": {
          "color": "#00cc96",
          "symbol": "circle"
         },
         "mode": "markers",
         "name": "JAN",
         "orientation": "v",
         "showlegend": true,
         "type": "scatter",
         "x": [
          14
         ],
         "xaxis": "x",
         "y": [
          4.642857142857143
         ],
         "yaxis": "y"
        },
        {
         "hovertemplate": "color=JAX<br>x=%{x}<br>y=%{y}<extra></extra>",
         "legendgroup": "JAX",
         "marker": {
          "color": "#ab63fa",
          "symbol": "circle"
         },
         "mode": "markers",
         "name": "JAX",
         "orientation": "v",
         "showlegend": true,
         "type": "scatter",
         "x": [
          41
         ],
         "xaxis": "x",
         "y": [
          5.365853658536586
         ],
         "yaxis": "y"
        },
        {
         "hovertemplate": "color=JFK<br>x=%{x}<br>y=%{y}<extra></extra>",
         "legendgroup": "JFK",
         "marker": {
          "color": "#FFA15A",
          "symbol": "circle"
         },
         "mode": "markers",
         "name": "JFK",
         "orientation": "v",
         "showlegend": true,
         "type": "scatter",
         "x": [
          168
         ],
         "xaxis": "x",
         "y": [
          10
         ],
         "yaxis": "y"
        },
        {
         "hovertemplate": "color=JNU<br>x=%{x}<br>y=%{y}<extra></extra>",
         "legendgroup": "JNU",
         "marker": {
          "color": "#19d3f3",
          "symbol": "circle"
         },
         "mode": "markers",
         "name": "JNU",
         "orientation": "v",
         "showlegend": true,
         "type": "scatter",
         "x": [
          10
         ],
         "xaxis": "x",
         "y": [
          3.5
         ],
         "yaxis": "y"
        },
        {
         "hovertemplate": "color=KOA<br>x=%{x}<br>y=%{y}<extra></extra>",
         "legendgroup": "KOA",
         "marker": {
          "color": "#FF6692",
          "symbol": "circle"
         },
         "mode": "markers",
         "name": "KOA",
         "orientation": "v",
         "showlegend": true,
         "type": "scatter",
         "x": [
          16
         ],
         "xaxis": "x",
         "y": [
          4.75
         ],
         "yaxis": "y"
        },
        {
         "hovertemplate": "color=KTN<br>x=%{x}<br>y=%{y}<extra></extra>",
         "legendgroup": "KTN",
         "marker": {
          "color": "#B6E880",
          "symbol": "circle"
         },
         "mode": "markers",
         "name": "KTN",
         "orientation": "v",
         "showlegend": true,
         "type": "scatter",
         "x": [
          3
         ],
         "xaxis": "x",
         "y": [
          4.666666666666667
         ],
         "yaxis": "y"
        },
        {
         "hovertemplate": "color=LAN<br>x=%{x}<br>y=%{y}<extra></extra>",
         "legendgroup": "LAN",
         "marker": {
          "color": "#FF97FF",
          "symbol": "circle"
         },
         "mode": "markers",
         "name": "LAN",
         "orientation": "v",
         "showlegend": true,
         "type": "scatter",
         "x": [
          2
         ],
         "xaxis": "x",
         "y": [
          5
         ],
         "yaxis": "y"
        },
        {
         "hovertemplate": "color=LAR<br>x=%{x}<br>y=%{y}<extra></extra>",
         "legendgroup": "LAR",
         "marker": {
          "color": "#FECB52",
          "symbol": "circle"
         },
         "mode": "markers",
         "name": "LAR",
         "orientation": "v",
         "showlegend": true,
         "type": "scatter",
         "x": [
          3
         ],
         "xaxis": "x",
         "y": [
          4
         ],
         "yaxis": "y"
        },
        {
         "hovertemplate": "color=LAS<br>x=%{x}<br>y=%{y}<extra></extra>",
         "legendgroup": "LAS",
         "marker": {
          "color": "#636efa",
          "symbol": "circle"
         },
         "mode": "markers",
         "name": "LAS",
         "orientation": "v",
         "showlegend": true,
         "type": "scatter",
         "x": [
          207
         ],
         "xaxis": "x",
         "y": [
          7.004830917874396
         ],
         "yaxis": "y"
        },
        {
         "hovertemplate": "color=LAW<br>x=%{x}<br>y=%{y}<extra></extra>",
         "legendgroup": "LAW",
         "marker": {
          "color": "#EF553B",
          "symbol": "circle"
         },
         "mode": "markers",
         "name": "LAW",
         "orientation": "v",
         "showlegend": true,
         "type": "scatter",
         "x": [
          1
         ],
         "xaxis": "x",
         "y": [
          3
         ],
         "yaxis": "y"
        },
        {
         "hovertemplate": "color=LAX<br>x=%{x}<br>y=%{y}<extra></extra>",
         "legendgroup": "LAX",
         "marker": {
          "color": "#00cc96",
          "symbol": "circle"
         },
         "mode": "markers",
         "name": "LAX",
         "orientation": "v",
         "showlegend": true,
         "type": "scatter",
         "x": [
          301
         ],
         "xaxis": "x",
         "y": [
          12.275747508305647
         ],
         "yaxis": "y"
        },
        {
         "hovertemplate": "color=LBB<br>x=%{x}<br>y=%{y}<extra></extra>",
         "legendgroup": "LBB",
         "marker": {
          "color": "#ab63fa",
          "symbol": "circle"
         },
         "mode": "markers",
         "name": "LBB",
         "orientation": "v",
         "showlegend": true,
         "type": "scatter",
         "x": [
          6
         ],
         "xaxis": "x",
         "y": [
          3.5
         ],
         "yaxis": "y"
        },
        {
         "hovertemplate": "color=LBE<br>x=%{x}<br>y=%{y}<extra></extra>",
         "legendgroup": "LBE",
         "marker": {
          "color": "#FFA15A",
          "symbol": "circle"
         },
         "mode": "markers",
         "name": "LBE",
         "orientation": "v",
         "showlegend": true,
         "type": "scatter",
         "x": [
          1
         ],
         "xaxis": "x",
         "y": [
          6
         ],
         "yaxis": "y"
        },
        {
         "hovertemplate": "color=LBF<br>x=%{x}<br>y=%{y}<extra></extra>",
         "legendgroup": "LBF",
         "marker": {
          "color": "#19d3f3",
          "symbol": "circle"
         },
         "mode": "markers",
         "name": "LBF",
         "orientation": "v",
         "showlegend": true,
         "type": "scatter",
         "x": [
          2
         ],
         "xaxis": "x",
         "y": [
          7
         ],
         "yaxis": "y"
        },
        {
         "hovertemplate": "color=LCK<br>x=%{x}<br>y=%{y}<extra></extra>",
         "legendgroup": "LCK",
         "marker": {
          "color": "#FF6692",
          "symbol": "circle"
         },
         "mode": "markers",
         "name": "LCK",
         "orientation": "v",
         "showlegend": true,
         "type": "scatter",
         "x": [
          2
         ],
         "xaxis": "x",
         "y": [
          6.5
         ],
         "yaxis": "y"
        },
        {
         "hovertemplate": "color=LEX<br>x=%{x}<br>y=%{y}<extra></extra>",
         "legendgroup": "LEX",
         "marker": {
          "color": "#B6E880",
          "symbol": "circle"
         },
         "mode": "markers",
         "name": "LEX",
         "orientation": "v",
         "showlegend": true,
         "type": "scatter",
         "x": [
          18
         ],
         "xaxis": "x",
         "y": [
          5.222222222222222
         ],
         "yaxis": "y"
        },
        {
         "hovertemplate": "color=LFT<br>x=%{x}<br>y=%{y}<extra></extra>",
         "legendgroup": "LFT",
         "marker": {
          "color": "#FF97FF",
          "symbol": "circle"
         },
         "mode": "markers",
         "name": "LFT",
         "orientation": "v",
         "showlegend": true,
         "type": "scatter",
         "x": [
          5
         ],
         "xaxis": "x",
         "y": [
          5.6
         ],
         "yaxis": "y"
        },
        {
         "hovertemplate": "color=LGA<br>x=%{x}<br>y=%{y}<extra></extra>",
         "legendgroup": "LGA",
         "marker": {
          "color": "#FECB52",
          "symbol": "circle"
         },
         "mode": "markers",
         "name": "LGA",
         "orientation": "v",
         "showlegend": true,
         "type": "scatter",
         "x": [
          217
         ],
         "xaxis": "x",
         "y": [
          9.087557603686635
         ],
         "yaxis": "y"
        },
        {
         "hovertemplate": "color=LGB<br>x=%{x}<br>y=%{y}<extra></extra>",
         "legendgroup": "LGB",
         "marker": {
          "color": "#636efa",
          "symbol": "circle"
         },
         "mode": "markers",
         "name": "LGB",
         "orientation": "v",
         "showlegend": true,
         "type": "scatter",
         "x": [
          31
         ],
         "xaxis": "x",
         "y": [
          4.290322580645161
         ],
         "yaxis": "y"
        },
        {
         "hovertemplate": "color=LIH<br>x=%{x}<br>y=%{y}<extra></extra>",
         "legendgroup": "LIH",
         "marker": {
          "color": "#EF553B",
          "symbol": "circle"
         },
         "mode": "markers",
         "name": "LIH",
         "orientation": "v",
         "showlegend": true,
         "type": "scatter",
         "x": [
          19
         ],
         "xaxis": "x",
         "y": [
          5.894736842105263
         ],
         "yaxis": "y"
        },
        {
         "hovertemplate": "color=LIT<br>x=%{x}<br>y=%{y}<extra></extra>",
         "legendgroup": "LIT",
         "marker": {
          "color": "#00cc96",
          "symbol": "circle"
         },
         "mode": "markers",
         "name": "LIT",
         "orientation": "v",
         "showlegend": true,
         "type": "scatter",
         "x": [
          21
         ],
         "xaxis": "x",
         "y": [
          5.0476190476190474
         ],
         "yaxis": "y"
        },
        {
         "hovertemplate": "color=LNK<br>x=%{x}<br>y=%{y}<extra></extra>",
         "legendgroup": "LNK",
         "marker": {
          "color": "#ab63fa",
          "symbol": "circle"
         },
         "mode": "markers",
         "name": "LNK",
         "orientation": "v",
         "showlegend": true,
         "type": "scatter",
         "x": [
          3
         ],
         "xaxis": "x",
         "y": [
          3.6666666666666665
         ],
         "yaxis": "y"
        },
        {
         "hovertemplate": "color=LNY<br>x=%{x}<br>y=%{y}<extra></extra>",
         "legendgroup": "LNY",
         "marker": {
          "color": "#FFA15A",
          "symbol": "circle"
         },
         "mode": "markers",
         "name": "LNY",
         "orientation": "v",
         "showlegend": true,
         "type": "scatter",
         "x": [
          1
         ],
         "xaxis": "x",
         "y": [
          3
         ],
         "yaxis": "y"
        },
        {
         "hovertemplate": "color=LRD<br>x=%{x}<br>y=%{y}<extra></extra>",
         "legendgroup": "LRD",
         "marker": {
          "color": "#19d3f3",
          "symbol": "circle"
         },
         "mode": "markers",
         "name": "LRD",
         "orientation": "v",
         "showlegend": true,
         "type": "scatter",
         "x": [
          5
         ],
         "xaxis": "x",
         "y": [
          3.8
         ],
         "yaxis": "y"
        },
        {
         "hovertemplate": "color=LSE<br>x=%{x}<br>y=%{y}<extra></extra>",
         "legendgroup": "LSE",
         "marker": {
          "color": "#FF6692",
          "symbol": "circle"
         },
         "mode": "markers",
         "name": "LSE",
         "orientation": "v",
         "showlegend": true,
         "type": "scatter",
         "x": [
          2
         ],
         "xaxis": "x",
         "y": [
          3.5
         ],
         "yaxis": "y"
        },
        {
         "hovertemplate": "color=LWB<br>x=%{x}<br>y=%{y}<extra></extra>",
         "legendgroup": "LWB",
         "marker": {
          "color": "#B6E880",
          "symbol": "circle"
         },
         "mode": "markers",
         "name": "LWB",
         "orientation": "v",
         "showlegend": true,
         "type": "scatter",
         "x": [
          2
         ],
         "xaxis": "x",
         "y": [
          3
         ],
         "yaxis": "y"
        },
        {
         "hovertemplate": "color=LYH<br>x=%{x}<br>y=%{y}<extra></extra>",
         "legendgroup": "LYH",
         "marker": {
          "color": "#FF97FF",
          "symbol": "circle"
         },
         "mode": "markers",
         "name": "LYH",
         "orientation": "v",
         "showlegend": true,
         "type": "scatter",
         "x": [
          5
         ],
         "xaxis": "x",
         "y": [
          5.4
         ],
         "yaxis": "y"
        },
        {
         "hovertemplate": "color=MAF<br>x=%{x}<br>y=%{y}<extra></extra>",
         "legendgroup": "MAF",
         "marker": {
          "color": "#FECB52",
          "symbol": "circle"
         },
         "mode": "markers",
         "name": "MAF",
         "orientation": "v",
         "showlegend": true,
         "type": "scatter",
         "x": [
          10
         ],
         "xaxis": "x",
         "y": [
          3.2
         ],
         "yaxis": "y"
        },
        {
         "hovertemplate": "color=MBS<br>x=%{x}<br>y=%{y}<extra></extra>",
         "legendgroup": "MBS",
         "marker": {
          "color": "#636efa",
          "symbol": "circle"
         },
         "mode": "markers",
         "name": "MBS",
         "orientation": "v",
         "showlegend": true,
         "type": "scatter",
         "x": [
          2
         ],
         "xaxis": "x",
         "y": [
          4
         ],
         "yaxis": "y"
        },
        {
         "hovertemplate": "color=MCI<br>x=%{x}<br>y=%{y}<extra></extra>",
         "legendgroup": "MCI",
         "marker": {
          "color": "#EF553B",
          "symbol": "circle"
         },
         "mode": "markers",
         "name": "MCI",
         "orientation": "v",
         "showlegend": true,
         "type": "scatter",
         "x": [
          91
         ],
         "xaxis": "x",
         "y": [
          6.549450549450549
         ],
         "yaxis": "y"
        },
        {
         "hovertemplate": "color=MCO<br>x=%{x}<br>y=%{y}<extra></extra>",
         "legendgroup": "MCO",
         "marker": {
          "color": "#00cc96",
          "symbol": "circle"
         },
         "mode": "markers",
         "name": "MCO",
         "orientation": "v",
         "showlegend": true,
         "type": "scatter",
         "x": [
          173
         ],
         "xaxis": "x",
         "y": [
          9.658959537572255
         ],
         "yaxis": "y"
        },
        {
         "hovertemplate": "color=MDT<br>x=%{x}<br>y=%{y}<extra></extra>",
         "legendgroup": "MDT",
         "marker": {
          "color": "#ab63fa",
          "symbol": "circle"
         },
         "mode": "markers",
         "name": "MDT",
         "orientation": "v",
         "showlegend": true,
         "type": "scatter",
         "x": [
          23
         ],
         "xaxis": "x",
         "y": [
          4.869565217391305
         ],
         "yaxis": "y"
        },
        {
         "hovertemplate": "color=MDW<br>x=%{x}<br>y=%{y}<extra></extra>",
         "legendgroup": "MDW",
         "marker": {
          "color": "#FFA15A",
          "symbol": "circle"
         },
         "mode": "markers",
         "name": "MDW",
         "orientation": "v",
         "showlegend": true,
         "type": "scatter",
         "x": [
          103
         ],
         "xaxis": "x",
         "y": [
          6.466019417475728
         ],
         "yaxis": "y"
        },
        {
         "hovertemplate": "color=MEI<br>x=%{x}<br>y=%{y}<extra></extra>",
         "legendgroup": "MEI",
         "marker": {
          "color": "#19d3f3",
          "symbol": "circle"
         },
         "mode": "markers",
         "name": "MEI",
         "orientation": "v",
         "showlegend": true,
         "type": "scatter",
         "x": [
          1
         ],
         "xaxis": "x",
         "y": [
          6
         ],
         "yaxis": "y"
        },
        {
         "hovertemplate": "color=MEM<br>x=%{x}<br>y=%{y}<extra></extra>",
         "legendgroup": "MEM",
         "marker": {
          "color": "#FF6692",
          "symbol": "circle"
         },
         "mode": "markers",
         "name": "MEM",
         "orientation": "v",
         "showlegend": true,
         "type": "scatter",
         "x": [
          37
         ],
         "xaxis": "x",
         "y": [
          8.405405405405405
         ],
         "yaxis": "y"
        },
        {
         "hovertemplate": "color=MFE<br>x=%{x}<br>y=%{y}<extra></extra>",
         "legendgroup": "MFE",
         "marker": {
          "color": "#B6E880",
          "symbol": "circle"
         },
         "mode": "markers",
         "name": "MFE",
         "orientation": "v",
         "showlegend": true,
         "type": "scatter",
         "x": [
          7
         ],
         "xaxis": "x",
         "y": [
          4.285714285714286
         ],
         "yaxis": "y"
        },
        {
         "hovertemplate": "color=MFR<br>x=%{x}<br>y=%{y}<extra></extra>",
         "legendgroup": "MFR",
         "marker": {
          "color": "#FF97FF",
          "symbol": "circle"
         },
         "mode": "markers",
         "name": "MFR",
         "orientation": "v",
         "showlegend": true,
         "type": "scatter",
         "x": [
          13
         ],
         "xaxis": "x",
         "y": [
          3.923076923076923
         ],
         "yaxis": "y"
        },
        {
         "hovertemplate": "color=MGM<br>x=%{x}<br>y=%{y}<extra></extra>",
         "legendgroup": "MGM",
         "marker": {
          "color": "#FECB52",
          "symbol": "circle"
         },
         "mode": "markers",
         "name": "MGM",
         "orientation": "v",
         "showlegend": true,
         "type": "scatter",
         "x": [
          5
         ],
         "xaxis": "x",
         "y": [
          3.8
         ],
         "yaxis": "y"
        },
        {
         "hovertemplate": "color=MHK<br>x=%{x}<br>y=%{y}<extra></extra>",
         "legendgroup": "MHK",
         "marker": {
          "color": "#636efa",
          "symbol": "circle"
         },
         "mode": "markers",
         "name": "MHK",
         "orientation": "v",
         "showlegend": true,
         "type": "scatter",
         "x": [
          4
         ],
         "xaxis": "x",
         "y": [
          4
         ],
         "yaxis": "y"
        },
        {
         "hovertemplate": "color=MHT<br>x=%{x}<br>y=%{y}<extra></extra>",
         "legendgroup": "MHT",
         "marker": {
          "color": "#EF553B",
          "symbol": "circle"
         },
         "mode": "markers",
         "name": "MHT",
         "orientation": "v",
         "showlegend": true,
         "type": "scatter",
         "x": [
          15
         ],
         "xaxis": "x",
         "y": [
          4
         ],
         "yaxis": "y"
        },
        {
         "hovertemplate": "color=MIA<br>x=%{x}<br>y=%{y}<extra></extra>",
         "legendgroup": "MIA",
         "marker": {
          "color": "#00cc96",
          "symbol": "circle"
         },
         "mode": "markers",
         "name": "MIA",
         "orientation": "v",
         "showlegend": true,
         "type": "scatter",
         "x": [
          105
         ],
         "xaxis": "x",
         "y": [
          9.8
         ],
         "yaxis": "y"
        },
        {
         "hovertemplate": "color=MKE<br>x=%{x}<br>y=%{y}<extra></extra>",
         "legendgroup": "MKE",
         "marker": {
          "color": "#ab63fa",
          "symbol": "circle"
         },
         "mode": "markers",
         "name": "MKE",
         "orientation": "v",
         "showlegend": true,
         "type": "scatter",
         "x": [
          41
         ],
         "xaxis": "x",
         "y": [
          5.195121951219512
         ],
         "yaxis": "y"
        },
        {
         "hovertemplate": "color=MKG<br>x=%{x}<br>y=%{y}<extra></extra>",
         "legendgroup": "MKG",
         "marker": {
          "color": "#FFA15A",
          "symbol": "circle"
         },
         "mode": "markers",
         "name": "MKG",
         "orientation": "v",
         "showlegend": true,
         "type": "scatter",
         "x": [
          1
         ],
         "xaxis": "x",
         "y": [
          3
         ],
         "yaxis": "y"
        },
        {
         "hovertemplate": "color=MLI<br>x=%{x}<br>y=%{y}<extra></extra>",
         "legendgroup": "MLI",
         "marker": {
          "color": "#19d3f3",
          "symbol": "circle"
         },
         "mode": "markers",
         "name": "MLI",
         "orientation": "v",
         "showlegend": true,
         "type": "scatter",
         "x": [
          11
         ],
         "xaxis": "x",
         "y": [
          4.181818181818182
         ],
         "yaxis": "y"
        },
        {
         "hovertemplate": "color=MLU<br>x=%{x}<br>y=%{y}<extra></extra>",
         "legendgroup": "MLU",
         "marker": {
          "color": "#FF6692",
          "symbol": "circle"
         },
         "mode": "markers",
         "name": "MLU",
         "orientation": "v",
         "showlegend": true,
         "type": "scatter",
         "x": [
          4
         ],
         "xaxis": "x",
         "y": [
          3.75
         ],
         "yaxis": "y"
        },
        {
         "hovertemplate": "color=MOB<br>x=%{x}<br>y=%{y}<extra></extra>",
         "legendgroup": "MOB",
         "marker": {
          "color": "#B6E880",
          "symbol": "circle"
         },
         "mode": "markers",
         "name": "MOB",
         "orientation": "v",
         "showlegend": true,
         "type": "scatter",
         "x": [
          9
         ],
         "xaxis": "x",
         "y": [
          4.222222222222222
         ],
         "yaxis": "y"
        },
        {
         "hovertemplate": "color=MOT<br>x=%{x}<br>y=%{y}<extra></extra>",
         "legendgroup": "MOT",
         "marker": {
          "color": "#FF97FF",
          "symbol": "circle"
         },
         "mode": "markers",
         "name": "MOT",
         "orientation": "v",
         "showlegend": true,
         "type": "scatter",
         "x": [
          2
         ],
         "xaxis": "x",
         "y": [
          5
         ],
         "yaxis": "y"
        },
        {
         "hovertemplate": "color=MQT<br>x=%{x}<br>y=%{y}<extra></extra>",
         "legendgroup": "MQT",
         "marker": {
          "color": "#FECB52",
          "symbol": "circle"
         },
         "mode": "markers",
         "name": "MQT",
         "orientation": "v",
         "showlegend": true,
         "type": "scatter",
         "x": [
          2
         ],
         "xaxis": "x",
         "y": [
          5.5
         ],
         "yaxis": "y"
        },
        {
         "hovertemplate": "color=MRY<br>x=%{x}<br>y=%{y}<extra></extra>",
         "legendgroup": "MRY",
         "marker": {
          "color": "#636efa",
          "symbol": "circle"
         },
         "mode": "markers",
         "name": "MRY",
         "orientation": "v",
         "showlegend": true,
         "type": "scatter",
         "x": [
          3
         ],
         "xaxis": "x",
         "y": [
          7
         ],
         "yaxis": "y"
        },
        {
         "hovertemplate": "color=MSN<br>x=%{x}<br>y=%{y}<extra></extra>",
         "legendgroup": "MSN",
         "marker": {
          "color": "#EF553B",
          "symbol": "circle"
         },
         "mode": "markers",
         "name": "MSN",
         "orientation": "v",
         "showlegend": true,
         "type": "scatter",
         "x": [
          18
         ],
         "xaxis": "x",
         "y": [
          4.555555555555555
         ],
         "yaxis": "y"
        },
        {
         "hovertemplate": "color=MSO<br>x=%{x}<br>y=%{y}<extra></extra>",
         "legendgroup": "MSO",
         "marker": {
          "color": "#00cc96",
          "symbol": "circle"
         },
         "mode": "markers",
         "name": "MSO",
         "orientation": "v",
         "showlegend": true,
         "type": "scatter",
         "x": [
          8
         ],
         "xaxis": "x",
         "y": [
          3.875
         ],
         "yaxis": "y"
        },
        {
         "hovertemplate": "color=MSP<br>x=%{x}<br>y=%{y}<extra></extra>",
         "legendgroup": "MSP",
         "marker": {
          "color": "#ab63fa",
          "symbol": "circle"
         },
         "mode": "markers",
         "name": "MSP",
         "orientation": "v",
         "showlegend": true,
         "type": "scatter",
         "x": [
          200
         ],
         "xaxis": "x",
         "y": [
          6.01
         ],
         "yaxis": "y"
        },
        {
         "hovertemplate": "color=MSY<br>x=%{x}<br>y=%{y}<extra></extra>",
         "legendgroup": "MSY",
         "marker": {
          "color": "#FFA15A",
          "symbol": "circle"
         },
         "mode": "markers",
         "name": "MSY",
         "orientation": "v",
         "showlegend": true,
         "type": "scatter",
         "x": [
          69
         ],
         "xaxis": "x",
         "y": [
          4.768115942028985
         ],
         "yaxis": "y"
        },
        {
         "hovertemplate": "color=MTJ<br>x=%{x}<br>y=%{y}<extra></extra>",
         "legendgroup": "MTJ",
         "marker": {
          "color": "#19d3f3",
          "symbol": "circle"
         },
         "mode": "markers",
         "name": "MTJ",
         "orientation": "v",
         "showlegend": true,
         "type": "scatter",
         "x": [
          2
         ],
         "xaxis": "x",
         "y": [
          3.5
         ],
         "yaxis": "y"
        },
        {
         "hovertemplate": "color=MVY<br>x=%{x}<br>y=%{y}<extra></extra>",
         "legendgroup": "MVY",
         "marker": {
          "color": "#FF6692",
          "symbol": "circle"
         },
         "mode": "markers",
         "name": "MVY",
         "orientation": "v",
         "showlegend": true,
         "type": "scatter",
         "x": [
          1
         ],
         "xaxis": "x",
         "y": [
          5
         ],
         "yaxis": "y"
        },
        {
         "hovertemplate": "color=MYR<br>x=%{x}<br>y=%{y}<extra></extra>",
         "legendgroup": "MYR",
         "marker": {
          "color": "#B6E880",
          "symbol": "circle"
         },
         "mode": "markers",
         "name": "MYR",
         "orientation": "v",
         "showlegend": true,
         "type": "scatter",
         "x": [
          12
         ],
         "xaxis": "x",
         "y": [
          4.916666666666667
         ],
         "yaxis": "y"
        },
        {
         "hovertemplate": "color=OAJ<br>x=%{x}<br>y=%{y}<extra></extra>",
         "legendgroup": "OAJ",
         "marker": {
          "color": "#FF97FF",
          "symbol": "circle"
         },
         "mode": "markers",
         "name": "OAJ",
         "orientation": "v",
         "showlegend": true,
         "type": "scatter",
         "x": [
          2
         ],
         "xaxis": "x",
         "y": [
          3.5
         ],
         "yaxis": "y"
        },
        {
         "hovertemplate": "color=OAK<br>x=%{x}<br>y=%{y}<extra></extra>",
         "legendgroup": "OAK",
         "marker": {
          "color": "#FECB52",
          "symbol": "circle"
         },
         "mode": "markers",
         "name": "OAK",
         "orientation": "v",
         "showlegend": true,
         "type": "scatter",
         "x": [
          69
         ],
         "xaxis": "x",
         "y": [
          6.63768115942029
         ],
         "yaxis": "y"
        },
        {
         "hovertemplate": "color=OGD<br>x=%{x}<br>y=%{y}<extra></extra>",
         "legendgroup": "OGD",
         "marker": {
          "color": "#636efa",
          "symbol": "circle"
         },
         "mode": "markers",
         "name": "OGD",
         "orientation": "v",
         "showlegend": true,
         "type": "scatter",
         "x": [
          1
         ],
         "xaxis": "x",
         "y": [
          6
         ],
         "yaxis": "y"
        },
        {
         "hovertemplate": "color=OGG<br>x=%{x}<br>y=%{y}<extra></extra>",
         "legendgroup": "OGG",
         "marker": {
          "color": "#EF553B",
          "symbol": "circle"
         },
         "mode": "markers",
         "name": "OGG",
         "orientation": "v",
         "showlegend": true,
         "type": "scatter",
         "x": [
          39
         ],
         "xaxis": "x",
         "y": [
          6.948717948717949
         ],
         "yaxis": "y"
        },
        {
         "hovertemplate": "color=OKC<br>x=%{x}<br>y=%{y}<extra></extra>",
         "legendgroup": "OKC",
         "marker": {
          "color": "#00cc96",
          "symbol": "circle"
         },
         "mode": "markers",
         "name": "OKC",
         "orientation": "v",
         "showlegend": true,
         "type": "scatter",
         "x": [
          28
         ],
         "xaxis": "x",
         "y": [
          5.392857142857143
         ],
         "yaxis": "y"
        },
        {
         "hovertemplate": "color=OMA<br>x=%{x}<br>y=%{y}<extra></extra>",
         "legendgroup": "OMA",
         "marker": {
          "color": "#ab63fa",
          "symbol": "circle"
         },
         "mode": "markers",
         "name": "OMA",
         "orientation": "v",
         "showlegend": true,
         "type": "scatter",
         "x": [
          40
         ],
         "xaxis": "x",
         "y": [
          4.65
         ],
         "yaxis": "y"
        },
        {
         "hovertemplate": "color=ONT<br>x=%{x}<br>y=%{y}<extra></extra>",
         "legendgroup": "ONT",
         "marker": {
          "color": "#FFA15A",
          "symbol": "circle"
         },
         "mode": "markers",
         "name": "ONT",
         "orientation": "v",
         "showlegend": true,
         "type": "scatter",
         "x": [
          23
         ],
         "xaxis": "x",
         "y": [
          4.130434782608695
         ],
         "yaxis": "y"
        },
        {
         "hovertemplate": "color=ORD<br>x=%{x}<br>y=%{y}<extra></extra>",
         "legendgroup": "ORD",
         "marker": {
          "color": "#19d3f3",
          "symbol": "circle"
         },
         "mode": "markers",
         "name": "ORD",
         "orientation": "v",
         "showlegend": true,
         "type": "scatter",
         "x": [
          434
         ],
         "xaxis": "x",
         "y": [
          13.940092165898617
         ],
         "yaxis": "y"
        },
        {
         "hovertemplate": "color=ORF<br>x=%{x}<br>y=%{y}<extra></extra>",
         "legendgroup": "ORF",
         "marker": {
          "color": "#FF6692",
          "symbol": "circle"
         },
         "mode": "markers",
         "name": "ORF",
         "orientation": "v",
         "showlegend": true,
         "type": "scatter",
         "x": [
          35
         ],
         "xaxis": "x",
         "y": [
          3.942857142857143
         ],
         "yaxis": "y"
        },
        {
         "hovertemplate": "color=ORH<br>x=%{x}<br>y=%{y}<extra></extra>",
         "legendgroup": "ORH",
         "marker": {
          "color": "#B6E880",
          "symbol": "circle"
         },
         "mode": "markers",
         "name": "ORH",
         "orientation": "v",
         "showlegend": true,
         "type": "scatter",
         "x": [
          2
         ],
         "xaxis": "x",
         "y": [
          5.5
         ],
         "yaxis": "y"
        },
        {
         "hovertemplate": "color=OTH<br>x=%{x}<br>y=%{y}<extra></extra>",
         "legendgroup": "OTH",
         "marker": {
          "color": "#FF97FF",
          "symbol": "circle"
         },
         "mode": "markers",
         "name": "OTH",
         "orientation": "v",
         "showlegend": true,
         "type": "scatter",
         "x": [
          1
         ],
         "xaxis": "x",
         "y": [
          3
         ],
         "yaxis": "y"
        },
        {
         "hovertemplate": "color=OTZ<br>x=%{x}<br>y=%{y}<extra></extra>",
         "legendgroup": "OTZ",
         "marker": {
          "color": "#FECB52",
          "symbol": "circle"
         },
         "mode": "markers",
         "name": "OTZ",
         "orientation": "v",
         "showlegend": true,
         "type": "scatter",
         "x": [
          1
         ],
         "xaxis": "x",
         "y": [
          4
         ],
         "yaxis": "y"
        },
        {
         "hovertemplate": "color=PAE<br>x=%{x}<br>y=%{y}<extra></extra>",
         "legendgroup": "PAE",
         "marker": {
          "color": "#636efa",
          "symbol": "circle"
         },
         "mode": "markers",
         "name": "PAE",
         "orientation": "v",
         "showlegend": true,
         "type": "scatter",
         "x": [
          4
         ],
         "xaxis": "x",
         "y": [
          3.75
         ],
         "yaxis": "y"
        },
        {
         "hovertemplate": "color=PBG<br>x=%{x}<br>y=%{y}<extra></extra>",
         "legendgroup": "PBG",
         "marker": {
          "color": "#EF553B",
          "symbol": "circle"
         },
         "mode": "markers",
         "name": "PBG",
         "orientation": "v",
         "showlegend": true,
         "type": "scatter",
         "x": [
          2
         ],
         "xaxis": "x",
         "y": [
          5.5
         ],
         "yaxis": "y"
        },
        {
         "hovertemplate": "color=PBI<br>x=%{x}<br>y=%{y}<extra></extra>",
         "legendgroup": "PBI",
         "marker": {
          "color": "#00cc96",
          "symbol": "circle"
         },
         "mode": "markers",
         "name": "PBI",
         "orientation": "v",
         "showlegend": true,
         "type": "scatter",
         "x": [
          32
         ],
         "xaxis": "x",
         "y": [
          4
         ],
         "yaxis": "y"
        },
        {
         "hovertemplate": "color=PDX<br>x=%{x}<br>y=%{y}<extra></extra>",
         "legendgroup": "PDX",
         "marker": {
          "color": "#ab63fa",
          "symbol": "circle"
         },
         "mode": "markers",
         "name": "PDX",
         "orientation": "v",
         "showlegend": true,
         "type": "scatter",
         "x": [
          116
         ],
         "xaxis": "x",
         "y": [
          4.982758620689655
         ],
         "yaxis": "y"
        },
        {
         "hovertemplate": "color=PGD<br>x=%{x}<br>y=%{y}<extra></extra>",
         "legendgroup": "PGD",
         "marker": {
          "color": "#FFA15A",
          "symbol": "circle"
         },
         "mode": "markers",
         "name": "PGD",
         "orientation": "v",
         "showlegend": true,
         "type": "scatter",
         "x": [
          8
         ],
         "xaxis": "x",
         "y": [
          5.75
         ],
         "yaxis": "y"
        },
        {
         "hovertemplate": "color=PGV<br>x=%{x}<br>y=%{y}<extra></extra>",
         "legendgroup": "PGV",
         "marker": {
          "color": "#19d3f3",
          "symbol": "circle"
         },
         "mode": "markers",
         "name": "PGV",
         "orientation": "v",
         "showlegend": true,
         "type": "scatter",
         "x": [
          4
         ],
         "xaxis": "x",
         "y": [
          6.25
         ],
         "yaxis": "y"
        },
        {
         "hovertemplate": "color=PHF<br>x=%{x}<br>y=%{y}<extra></extra>",
         "legendgroup": "PHF",
         "marker": {
          "color": "#FF6692",
          "symbol": "circle"
         },
         "mode": "markers",
         "name": "PHF",
         "orientation": "v",
         "showlegend": true,
         "type": "scatter",
         "x": [
          8
         ],
         "xaxis": "x",
         "y": [
          4.625
         ],
         "yaxis": "y"
        },
        {
         "hovertemplate": "color=PHL<br>x=%{x}<br>y=%{y}<extra></extra>",
         "legendgroup": "PHL",
         "marker": {
          "color": "#B6E880",
          "symbol": "circle"
         },
         "mode": "markers",
         "name": "PHL",
         "orientation": "v",
         "showlegend": true,
         "type": "scatter",
         "x": [
          212
         ],
         "xaxis": "x",
         "y": [
          8.589622641509434
         ],
         "yaxis": "y"
        },
        {
         "hovertemplate": "color=PHX<br>x=%{x}<br>y=%{y}<extra></extra>",
         "legendgroup": "PHX",
         "marker": {
          "color": "#FF97FF",
          "symbol": "circle"
         },
         "mode": "markers",
         "name": "PHX",
         "orientation": "v",
         "showlegend": true,
         "type": "scatter",
         "x": [
          225
         ],
         "xaxis": "x",
         "y": [
          7.6177777777777775
         ],
         "yaxis": "y"
        },
        {
         "hovertemplate": "color=PIA<br>x=%{x}<br>y=%{y}<extra></extra>",
         "legendgroup": "PIA",
         "marker": {
          "color": "#FECB52",
          "symbol": "circle"
         },
         "mode": "markers",
         "name": "PIA",
         "orientation": "v",
         "showlegend": true,
         "type": "scatter",
         "x": [
          12
         ],
         "xaxis": "x",
         "y": [
          5.833333333333333
         ],
         "yaxis": "y"
        },
        {
         "hovertemplate": "color=PIE<br>x=%{x}<br>y=%{y}<extra></extra>",
         "legendgroup": "PIE",
         "marker": {
          "color": "#636efa",
          "symbol": "circle"
         },
         "mode": "markers",
         "name": "PIE",
         "orientation": "v",
         "showlegend": true,
         "type": "scatter",
         "x": [
          8
         ],
         "xaxis": "x",
         "y": [
          4.875
         ],
         "yaxis": "y"
        },
        {
         "hovertemplate": "color=PIH<br>x=%{x}<br>y=%{y}<extra></extra>",
         "legendgroup": "PIH",
         "marker": {
          "color": "#EF553B",
          "symbol": "circle"
         },
         "mode": "markers",
         "name": "PIH",
         "orientation": "v",
         "showlegend": true,
         "type": "scatter",
         "x": [
          4
         ],
         "xaxis": "x",
         "y": [
          3
         ],
         "yaxis": "y"
        },
        {
         "hovertemplate": "color=PIR<br>x=%{x}<br>y=%{y}<extra></extra>",
         "legendgroup": "PIR",
         "marker": {
          "color": "#00cc96",
          "symbol": "circle"
         },
         "mode": "markers",
         "name": "PIR",
         "orientation": "v",
         "showlegend": true,
         "type": "scatter",
         "x": [
          1
         ],
         "xaxis": "x",
         "y": [
          6
         ],
         "yaxis": "y"
        },
        {
         "hovertemplate": "color=PIT<br>x=%{x}<br>y=%{y}<extra></extra>",
         "legendgroup": "PIT",
         "marker": {
          "color": "#ab63fa",
          "symbol": "circle"
         },
         "mode": "markers",
         "name": "PIT",
         "orientation": "v",
         "showlegend": true,
         "type": "scatter",
         "x": [
          61
         ],
         "xaxis": "x",
         "y": [
          5.934426229508197
         ],
         "yaxis": "y"
        },
        {
         "hovertemplate": "color=PLN<br>x=%{x}<br>y=%{y}<extra></extra>",
         "legendgroup": "PLN",
         "marker": {
          "color": "#FFA15A",
          "symbol": "circle"
         },
         "mode": "markers",
         "name": "PLN",
         "orientation": "v",
         "showlegend": true,
         "type": "scatter",
         "x": [
          3
         ],
         "xaxis": "x",
         "y": [
          6
         ],
         "yaxis": "y"
        },
        {
         "hovertemplate": "color=PNS<br>x=%{x}<br>y=%{y}<extra></extra>",
         "legendgroup": "PNS",
         "marker": {
          "color": "#19d3f3",
          "symbol": "circle"
         },
         "mode": "markers",
         "name": "PNS",
         "orientation": "v",
         "showlegend": true,
         "type": "scatter",
         "x": [
          20
         ],
         "xaxis": "x",
         "y": [
          4.55
         ],
         "yaxis": "y"
        },
        {
         "hovertemplate": "color=PSC<br>x=%{x}<br>y=%{y}<extra></extra>",
         "legendgroup": "PSC",
         "marker": {
          "color": "#FF6692",
          "symbol": "circle"
         },
         "mode": "markers",
         "name": "PSC",
         "orientation": "v",
         "showlegend": true,
         "type": "scatter",
         "x": [
          12
         ],
         "xaxis": "x",
         "y": [
          5.5
         ],
         "yaxis": "y"
        },
        {
         "hovertemplate": "color=PSE<br>x=%{x}<br>y=%{y}<extra></extra>",
         "legendgroup": "PSE",
         "marker": {
          "color": "#B6E880",
          "symbol": "circle"
         },
         "mode": "markers",
         "name": "PSE",
         "orientation": "v",
         "showlegend": true,
         "type": "scatter",
         "x": [
          1
         ],
         "xaxis": "x",
         "y": [
          6
         ],
         "yaxis": "y"
        },
        {
         "hovertemplate": "color=PSP<br>x=%{x}<br>y=%{y}<extra></extra>",
         "legendgroup": "PSP",
         "marker": {
          "color": "#FF97FF",
          "symbol": "circle"
         },
         "mode": "markers",
         "name": "PSP",
         "orientation": "v",
         "showlegend": true,
         "type": "scatter",
         "x": [
          20
         ],
         "xaxis": "x",
         "y": [
          5.15
         ],
         "yaxis": "y"
        },
        {
         "hovertemplate": "color=PUB<br>x=%{x}<br>y=%{y}<extra></extra>",
         "legendgroup": "PUB",
         "marker": {
          "color": "#FECB52",
          "symbol": "circle"
         },
         "mode": "markers",
         "name": "PUB",
         "orientation": "v",
         "showlegend": true,
         "type": "scatter",
         "x": [
          4
         ],
         "xaxis": "x",
         "y": [
          4.5
         ],
         "yaxis": "y"
        },
        {
         "hovertemplate": "color=PUW<br>x=%{x}<br>y=%{y}<extra></extra>",
         "legendgroup": "PUW",
         "marker": {
          "color": "#636efa",
          "symbol": "circle"
         },
         "mode": "markers",
         "name": "PUW",
         "orientation": "v",
         "showlegend": true,
         "type": "scatter",
         "x": [
          3
         ],
         "xaxis": "x",
         "y": [
          5.666666666666667
         ],
         "yaxis": "y"
        },
        {
         "hovertemplate": "color=PVD<br>x=%{x}<br>y=%{y}<extra></extra>",
         "legendgroup": "PVD",
         "marker": {
          "color": "#EF553B",
          "symbol": "circle"
         },
         "mode": "markers",
         "name": "PVD",
         "orientation": "v",
         "showlegend": true,
         "type": "scatter",
         "x": [
          28
         ],
         "xaxis": "x",
         "y": [
          4.392857142857143
         ],
         "yaxis": "y"
        },
        {
         "hovertemplate": "color=PVU<br>x=%{x}<br>y=%{y}<extra></extra>",
         "legendgroup": "PVU",
         "marker": {
          "color": "#00cc96",
          "symbol": "circle"
         },
         "mode": "markers",
         "name": "PVU",
         "orientation": "v",
         "showlegend": true,
         "type": "scatter",
         "x": [
          1
         ],
         "xaxis": "x",
         "y": [
          7
         ],
         "yaxis": "y"
        },
        {
         "hovertemplate": "color=PWM<br>x=%{x}<br>y=%{y}<extra></extra>",
         "legendgroup": "PWM",
         "marker": {
          "color": "#ab63fa",
          "symbol": "circle"
         },
         "mode": "markers",
         "name": "PWM",
         "orientation": "v",
         "showlegend": true,
         "type": "scatter",
         "x": [
          17
         ],
         "xaxis": "x",
         "y": [
          4
         ],
         "yaxis": "y"
        },
        {
         "hovertemplate": "color=RAP<br>x=%{x}<br>y=%{y}<extra></extra>",
         "legendgroup": "RAP",
         "marker": {
          "color": "#FFA15A",
          "symbol": "circle"
         },
         "mode": "markers",
         "name": "RAP",
         "orientation": "v",
         "showlegend": true,
         "type": "scatter",
         "x": [
          10
         ],
         "xaxis": "x",
         "y": [
          7.3
         ],
         "yaxis": "y"
        },
        {
         "hovertemplate": "color=RDM<br>x=%{x}<br>y=%{y}<extra></extra>",
         "legendgroup": "RDM",
         "marker": {
          "color": "#19d3f3",
          "symbol": "circle"
         },
         "mode": "markers",
         "name": "RDM",
         "orientation": "v",
         "showlegend": true,
         "type": "scatter",
         "x": [
          9
         ],
         "xaxis": "x",
         "y": [
          4.888888888888889
         ],
         "yaxis": "y"
        },
        {
         "hovertemplate": "color=RDU<br>x=%{x}<br>y=%{y}<extra></extra>",
         "legendgroup": "RDU",
         "marker": {
          "color": "#FF6692",
          "symbol": "circle"
         },
         "mode": "markers",
         "name": "RDU",
         "orientation": "v",
         "showlegend": true,
         "type": "scatter",
         "x": [
          91
         ],
         "xaxis": "x",
         "y": [
          5.6923076923076925
         ],
         "yaxis": "y"
        },
        {
         "hovertemplate": "color=RHI<br>x=%{x}<br>y=%{y}<extra></extra>",
         "legendgroup": "RHI",
         "marker": {
          "color": "#B6E880",
          "symbol": "circle"
         },
         "mode": "markers",
         "name": "RHI",
         "orientation": "v",
         "showlegend": true,
         "type": "scatter",
         "x": [
          3
         ],
         "xaxis": "x",
         "y": [
          5.666666666666667
         ],
         "yaxis": "y"
        },
        {
         "hovertemplate": "color=RIC<br>x=%{x}<br>y=%{y}<extra></extra>",
         "legendgroup": "RIC",
         "marker": {
          "color": "#FF97FF",
          "symbol": "circle"
         },
         "mode": "markers",
         "name": "RIC",
         "orientation": "v",
         "showlegend": true,
         "type": "scatter",
         "x": [
          32
         ],
         "xaxis": "x",
         "y": [
          7.78125
         ],
         "yaxis": "y"
        },
        {
         "hovertemplate": "color=RKS<br>x=%{x}<br>y=%{y}<extra></extra>",
         "legendgroup": "RKS",
         "marker": {
          "color": "#FECB52",
          "symbol": "circle"
         },
         "mode": "markers",
         "name": "RKS",
         "orientation": "v",
         "showlegend": true,
         "type": "scatter",
         "x": [
          1
         ],
         "xaxis": "x",
         "y": [
          4
         ],
         "yaxis": "y"
        },
        {
         "hovertemplate": "color=RNO<br>x=%{x}<br>y=%{y}<extra></extra>",
         "legendgroup": "RNO",
         "marker": {
          "color": "#636efa",
          "symbol": "circle"
         },
         "mode": "markers",
         "name": "RNO",
         "orientation": "v",
         "showlegend": true,
         "type": "scatter",
         "x": [
          26
         ],
         "xaxis": "x",
         "y": [
          4.153846153846154
         ],
         "yaxis": "y"
        },
        {
         "hovertemplate": "color=ROA<br>x=%{x}<br>y=%{y}<extra></extra>",
         "legendgroup": "ROA",
         "marker": {
          "color": "#EF553B",
          "symbol": "circle"
         },
         "mode": "markers",
         "name": "ROA",
         "orientation": "v",
         "showlegend": true,
         "type": "scatter",
         "x": [
          14
         ],
         "xaxis": "x",
         "y": [
          7
         ],
         "yaxis": "y"
        },
        {
         "hovertemplate": "color=ROC<br>x=%{x}<br>y=%{y}<extra></extra>",
         "legendgroup": "ROC",
         "marker": {
          "color": "#00cc96",
          "symbol": "circle"
         },
         "mode": "markers",
         "name": "ROC",
         "orientation": "v",
         "showlegend": true,
         "type": "scatter",
         "x": [
          28
         ],
         "xaxis": "x",
         "y": [
          5.607142857142857
         ],
         "yaxis": "y"
        },
        {
         "hovertemplate": "color=ROP<br>x=%{x}<br>y=%{y}<extra></extra>",
         "legendgroup": "ROP",
         "marker": {
          "color": "#ab63fa",
          "symbol": "circle"
         },
         "mode": "markers",
         "name": "ROP",
         "orientation": "v",
         "showlegend": true,
         "type": "scatter",
         "x": [
          1
         ],
         "xaxis": "x",
         "y": [
          5
         ],
         "yaxis": "y"
        },
        {
         "hovertemplate": "color=ROW<br>x=%{x}<br>y=%{y}<extra></extra>",
         "legendgroup": "ROW",
         "marker": {
          "color": "#FFA15A",
          "symbol": "circle"
         },
         "mode": "markers",
         "name": "ROW",
         "orientation": "v",
         "showlegend": true,
         "type": "scatter",
         "x": [
          2
         ],
         "xaxis": "x",
         "y": [
          4.5
         ],
         "yaxis": "y"
        },
        {
         "hovertemplate": "color=RST<br>x=%{x}<br>y=%{y}<extra></extra>",
         "legendgroup": "RST",
         "marker": {
          "color": "#19d3f3",
          "symbol": "circle"
         },
         "mode": "markers",
         "name": "RST",
         "orientation": "v",
         "showlegend": true,
         "type": "scatter",
         "x": [
          6
         ],
         "xaxis": "x",
         "y": [
          3.3333333333333335
         ],
         "yaxis": "y"
        },
        {
         "hovertemplate": "color=RSW<br>x=%{x}<br>y=%{y}<extra></extra>",
         "legendgroup": "RSW",
         "marker": {
          "color": "#FF6692",
          "symbol": "circle"
         },
         "mode": "markers",
         "name": "RSW",
         "orientation": "v",
         "showlegend": true,
         "type": "scatter",
         "x": [
          36
         ],
         "xaxis": "x",
         "y": [
          4.888888888888889
         ],
         "yaxis": "y"
        },
        {
         "hovertemplate": "color=SAF<br>x=%{x}<br>y=%{y}<extra></extra>",
         "legendgroup": "SAF",
         "marker": {
          "color": "#B6E880",
          "symbol": "circle"
         },
         "mode": "markers",
         "name": "SAF",
         "orientation": "v",
         "showlegend": true,
         "type": "scatter",
         "x": [
          2
         ],
         "xaxis": "x",
         "y": [
          3.5
         ],
         "yaxis": "y"
        },
        {
         "hovertemplate": "color=SAN<br>x=%{x}<br>y=%{y}<extra></extra>",
         "legendgroup": "SAN",
         "marker": {
          "color": "#FF97FF",
          "symbol": "circle"
         },
         "mode": "markers",
         "name": "SAN",
         "orientation": "v",
         "showlegend": true,
         "type": "scatter",
         "x": [
          118
         ],
         "xaxis": "x",
         "y": [
          3.7033898305084745
         ],
         "yaxis": "y"
        },
        {
         "hovertemplate": "color=SAT<br>x=%{x}<br>y=%{y}<extra></extra>",
         "legendgroup": "SAT",
         "marker": {
          "color": "#FECB52",
          "symbol": "circle"
         },
         "mode": "markers",
         "name": "SAT",
         "orientation": "v",
         "showlegend": true,
         "type": "scatter",
         "x": [
          40
         ],
         "xaxis": "x",
         "y": [
          4.375
         ],
         "yaxis": "y"
        },
        {
         "hovertemplate": "color=SAV<br>x=%{x}<br>y=%{y}<extra></extra>",
         "legendgroup": "SAV",
         "marker": {
          "color": "#636efa",
          "symbol": "circle"
         },
         "mode": "markers",
         "name": "SAV",
         "orientation": "v",
         "showlegend": true,
         "type": "scatter",
         "x": [
          28
         ],
         "xaxis": "x",
         "y": [
          5.392857142857143
         ],
         "yaxis": "y"
        },
        {
         "hovertemplate": "color=SBA<br>x=%{x}<br>y=%{y}<extra></extra>",
         "legendgroup": "SBA",
         "marker": {
          "color": "#EF553B",
          "symbol": "circle"
         },
         "mode": "markers",
         "name": "SBA",
         "orientation": "v",
         "showlegend": true,
         "type": "scatter",
         "x": [
          8
         ],
         "xaxis": "x",
         "y": [
          4.25
         ],
         "yaxis": "y"
        },
        {
         "hovertemplate": "color=SBN<br>x=%{x}<br>y=%{y}<extra></extra>",
         "legendgroup": "SBN",
         "marker": {
          "color": "#00cc96",
          "symbol": "circle"
         },
         "mode": "markers",
         "name": "SBN",
         "orientation": "v",
         "showlegend": true,
         "type": "scatter",
         "x": [
          9
         ],
         "xaxis": "x",
         "y": [
          8.333333333333334
         ],
         "yaxis": "y"
        },
        {
         "hovertemplate": "color=SBP<br>x=%{x}<br>y=%{y}<extra></extra>",
         "legendgroup": "SBP",
         "marker": {
          "color": "#ab63fa",
          "symbol": "circle"
         },
         "mode": "markers",
         "name": "SBP",
         "orientation": "v",
         "showlegend": true,
         "type": "scatter",
         "x": [
          11
         ],
         "xaxis": "x",
         "y": [
          4.2727272727272725
         ],
         "yaxis": "y"
        },
        {
         "hovertemplate": "color=SBY<br>x=%{x}<br>y=%{y}<extra></extra>",
         "legendgroup": "SBY",
         "marker": {
          "color": "#FFA15A",
          "symbol": "circle"
         },
         "mode": "markers",
         "name": "SBY",
         "orientation": "v",
         "showlegend": true,
         "type": "scatter",
         "x": [
          3
         ],
         "xaxis": "x",
         "y": [
          6
         ],
         "yaxis": "y"
        },
        {
         "hovertemplate": "color=SCE<br>x=%{x}<br>y=%{y}<extra></extra>",
         "legendgroup": "SCE",
         "marker": {
          "color": "#19d3f3",
          "symbol": "circle"
         },
         "mode": "markers",
         "name": "SCE",
         "orientation": "v",
         "showlegend": true,
         "type": "scatter",
         "x": [
          4
         ],
         "xaxis": "x",
         "y": [
          4.5
         ],
         "yaxis": "y"
        },
        {
         "hovertemplate": "color=SDF<br>x=%{x}<br>y=%{y}<extra></extra>",
         "legendgroup": "SDF",
         "marker": {
          "color": "#FF6692",
          "symbol": "circle"
         },
         "mode": "markers",
         "name": "SDF",
         "orientation": "v",
         "showlegend": true,
         "type": "scatter",
         "x": [
          32
         ],
         "xaxis": "x",
         "y": [
          7.46875
         ],
         "yaxis": "y"
        },
        {
         "hovertemplate": "color=SEA<br>x=%{x}<br>y=%{y}<extra></extra>",
         "legendgroup": "SEA",
         "marker": {
          "color": "#B6E880",
          "symbol": "circle"
         },
         "mode": "markers",
         "name": "SEA",
         "orientation": "v",
         "showlegend": true,
         "type": "scatter",
         "x": [
          225
         ],
         "xaxis": "x",
         "y": [
          9.542222222222222
         ],
         "yaxis": "y"
        },
        {
         "hovertemplate": "color=SFB<br>x=%{x}<br>y=%{y}<extra></extra>",
         "legendgroup": "SFB",
         "marker": {
          "color": "#FF97FF",
          "symbol": "circle"
         },
         "mode": "markers",
         "name": "SFB",
         "orientation": "v",
         "showlegend": true,
         "type": "scatter",
         "x": [
          9
         ],
         "xaxis": "x",
         "y": [
          8.222222222222221
         ],
         "yaxis": "y"
        },
        {
         "hovertemplate": "color=SFO<br>x=%{x}<br>y=%{y}<extra></extra>",
         "legendgroup": "SFO",
         "marker": {
          "color": "#FECB52",
          "symbol": "circle"
         },
         "mode": "markers",
         "name": "SFO",
         "orientation": "v",
         "showlegend": true,
         "type": "scatter",
         "x": [
          177
         ],
         "xaxis": "x",
         "y": [
          8.700564971751412
         ],
         "yaxis": "y"
        },
        {
         "hovertemplate": "color=SGF<br>x=%{x}<br>y=%{y}<extra></extra>",
         "legendgroup": "SGF",
         "marker": {
          "color": "#636efa",
          "symbol": "circle"
         },
         "mode": "markers",
         "name": "SGF",
         "orientation": "v",
         "showlegend": true,
         "type": "scatter",
         "x": [
          15
         ],
         "xaxis": "x",
         "y": [
          5.466666666666667
         ],
         "yaxis": "y"
        },
        {
         "hovertemplate": "color=SGU<br>x=%{x}<br>y=%{y}<extra></extra>",
         "legendgroup": "SGU",
         "marker": {
          "color": "#EF553B",
          "symbol": "circle"
         },
         "mode": "markers",
         "name": "SGU",
         "orientation": "v",
         "showlegend": true,
         "type": "scatter",
         "x": [
          2
         ],
         "xaxis": "x",
         "y": [
          4
         ],
         "yaxis": "y"
        },
        {
         "hovertemplate": "color=SHD<br>x=%{x}<br>y=%{y}<extra></extra>",
         "legendgroup": "SHD",
         "marker": {
          "color": "#00cc96",
          "symbol": "circle"
         },
         "mode": "markers",
         "name": "SHD",
         "orientation": "v",
         "showlegend": true,
         "type": "scatter",
         "x": [
          1
         ],
         "xaxis": "x",
         "y": [
          5
         ],
         "yaxis": "y"
        },
        {
         "hovertemplate": "color=SHV<br>x=%{x}<br>y=%{y}<extra></extra>",
         "legendgroup": "SHV",
         "marker": {
          "color": "#ab63fa",
          "symbol": "circle"
         },
         "mode": "markers",
         "name": "SHV",
         "orientation": "v",
         "showlegend": true,
         "type": "scatter",
         "x": [
          10
         ],
         "xaxis": "x",
         "y": [
          4.6
         ],
         "yaxis": "y"
        },
        {
         "hovertemplate": "color=SIT<br>x=%{x}<br>y=%{y}<extra></extra>",
         "legendgroup": "SIT",
         "marker": {
          "color": "#FFA15A",
          "symbol": "circle"
         },
         "mode": "markers",
         "name": "SIT",
         "orientation": "v",
         "showlegend": true,
         "type": "scatter",
         "x": [
          3
         ],
         "xaxis": "x",
         "y": [
          4.333333333333333
         ],
         "yaxis": "y"
        },
        {
         "hovertemplate": "color=SJC<br>x=%{x}<br>y=%{y}<extra></extra>",
         "legendgroup": "SJC",
         "marker": {
          "color": "#19d3f3",
          "symbol": "circle"
         },
         "mode": "markers",
         "name": "SJC",
         "orientation": "v",
         "showlegend": true,
         "type": "scatter",
         "x": [
          85
         ],
         "xaxis": "x",
         "y": [
          4.152941176470589
         ],
         "yaxis": "y"
        },
        {
         "hovertemplate": "color=SJT<br>x=%{x}<br>y=%{y}<extra></extra>",
         "legendgroup": "SJT",
         "marker": {
          "color": "#FF6692",
          "symbol": "circle"
         },
         "mode": "markers",
         "name": "SJT",
         "orientation": "v",
         "showlegend": true,
         "type": "scatter",
         "x": [
          4
         ],
         "xaxis": "x",
         "y": [
          4.25
         ],
         "yaxis": "y"
        },
        {
         "hovertemplate": "color=SJU<br>x=%{x}<br>y=%{y}<extra></extra>",
         "legendgroup": "SJU",
         "marker": {
          "color": "#B6E880",
          "symbol": "circle"
         },
         "mode": "markers",
         "name": "SJU",
         "orientation": "v",
         "showlegend": true,
         "type": "scatter",
         "x": [
          39
         ],
         "xaxis": "x",
         "y": [
          7.256410256410256
         ],
         "yaxis": "y"
        },
        {
         "hovertemplate": "color=SLC<br>x=%{x}<br>y=%{y}<extra></extra>",
         "legendgroup": "SLC",
         "marker": {
          "color": "#FF97FF",
          "symbol": "circle"
         },
         "mode": "markers",
         "name": "SLC",
         "orientation": "v",
         "showlegend": true,
         "type": "scatter",
         "x": [
          172
         ],
         "xaxis": "x",
         "y": [
          6.808139534883721
         ],
         "yaxis": "y"
        },
        {
         "hovertemplate": "color=SLN<br>x=%{x}<br>y=%{y}<extra></extra>",
         "legendgroup": "SLN",
         "marker": {
          "color": "#FECB52",
          "symbol": "circle"
         },
         "mode": "markers",
         "name": "SLN",
         "orientation": "v",
         "showlegend": true,
         "type": "scatter",
         "x": [
          2
         ],
         "xaxis": "x",
         "y": [
          4.5
         ],
         "yaxis": "y"
        },
        {
         "hovertemplate": "color=SMF<br>x=%{x}<br>y=%{y}<extra></extra>",
         "legendgroup": "SMF",
         "marker": {
          "color": "#636efa",
          "symbol": "circle"
         },
         "mode": "markers",
         "name": "SMF",
         "orientation": "v",
         "showlegend": true,
         "type": "scatter",
         "x": [
          74
         ],
         "xaxis": "x",
         "y": [
          4.635135135135135
         ],
         "yaxis": "y"
        },
        {
         "hovertemplate": "color=SNA<br>x=%{x}<br>y=%{y}<extra></extra>",
         "legendgroup": "SNA",
         "marker": {
          "color": "#EF553B",
          "symbol": "circle"
         },
         "mode": "markers",
         "name": "SNA",
         "orientation": "v",
         "showlegend": true,
         "type": "scatter",
         "x": [
          55
         ],
         "xaxis": "x",
         "y": [
          5.054545454545455
         ],
         "yaxis": "y"
        },
        {
         "hovertemplate": "color=SPI<br>x=%{x}<br>y=%{y}<extra></extra>",
         "legendgroup": "SPI",
         "marker": {
          "color": "#00cc96",
          "symbol": "circle"
         },
         "mode": "markers",
         "name": "SPI",
         "orientation": "v",
         "showlegend": true,
         "type": "scatter",
         "x": [
          1
         ],
         "xaxis": "x",
         "y": [
          4
         ],
         "yaxis": "y"
        },
        {
         "hovertemplate": "color=SPS<br>x=%{x}<br>y=%{y}<extra></extra>",
         "legendgroup": "SPS",
         "marker": {
          "color": "#ab63fa",
          "symbol": "circle"
         },
         "mode": "markers",
         "name": "SPS",
         "orientation": "v",
         "showlegend": true,
         "type": "scatter",
         "x": [
          1
         ],
         "xaxis": "x",
         "y": [
          6
         ],
         "yaxis": "y"
        },
        {
         "hovertemplate": "color=SRQ<br>x=%{x}<br>y=%{y}<extra></extra>",
         "legendgroup": "SRQ",
         "marker": {
          "color": "#FFA15A",
          "symbol": "circle"
         },
         "mode": "markers",
         "name": "SRQ",
         "orientation": "v",
         "showlegend": true,
         "type": "scatter",
         "x": [
          7
         ],
         "xaxis": "x",
         "y": [
          4.857142857142857
         ],
         "yaxis": "y"
        },
        {
         "hovertemplate": "color=STL<br>x=%{x}<br>y=%{y}<extra></extra>",
         "legendgroup": "STL",
         "marker": {
          "color": "#19d3f3",
          "symbol": "circle"
         },
         "mode": "markers",
         "name": "STL",
         "orientation": "v",
         "showlegend": true,
         "type": "scatter",
         "x": [
          90
         ],
         "xaxis": "x",
         "y": [
          4.688888888888889
         ],
         "yaxis": "y"
        },
        {
         "hovertemplate": "color=STS<br>x=%{x}<br>y=%{y}<extra></extra>",
         "legendgroup": "STS",
         "marker": {
          "color": "#FF6692",
          "symbol": "circle"
         },
         "mode": "markers",
         "name": "STS",
         "orientation": "v",
         "showlegend": true,
         "type": "scatter",
         "x": [
          4
         ],
         "xaxis": "x",
         "y": [
          7.25
         ],
         "yaxis": "y"
        },
        {
         "hovertemplate": "color=STT<br>x=%{x}<br>y=%{y}<extra></extra>",
         "legendgroup": "STT",
         "marker": {
          "color": "#B6E880",
          "symbol": "circle"
         },
         "mode": "markers",
         "name": "STT",
         "orientation": "v",
         "showlegend": true,
         "type": "scatter",
         "x": [
          4
         ],
         "xaxis": "x",
         "y": [
          3.5
         ],
         "yaxis": "y"
        },
        {
         "hovertemplate": "color=STX<br>x=%{x}<br>y=%{y}<extra></extra>",
         "legendgroup": "STX",
         "marker": {
          "color": "#FF97FF",
          "symbol": "circle"
         },
         "mode": "markers",
         "name": "STX",
         "orientation": "v",
         "showlegend": true,
         "type": "scatter",
         "x": [
          3
         ],
         "xaxis": "x",
         "y": [
          3.6666666666666665
         ],
         "yaxis": "y"
        },
        {
         "hovertemplate": "color=SUN<br>x=%{x}<br>y=%{y}<extra></extra>",
         "legendgroup": "SUN",
         "marker": {
          "color": "#FECB52",
          "symbol": "circle"
         },
         "mode": "markers",
         "name": "SUN",
         "orientation": "v",
         "showlegend": true,
         "type": "scatter",
         "x": [
          2
         ],
         "xaxis": "x",
         "y": [
          2.5
         ],
         "yaxis": "y"
        },
        {
         "hovertemplate": "color=SUX<br>x=%{x}<br>y=%{y}<extra></extra>",
         "legendgroup": "SUX",
         "marker": {
          "color": "#636efa",
          "symbol": "circle"
         },
         "mode": "markers",
         "name": "SUX",
         "orientation": "v",
         "showlegend": true,
         "type": "scatter",
         "x": [
          1
         ],
         "xaxis": "x",
         "y": [
          3
         ],
         "yaxis": "y"
        },
        {
         "hovertemplate": "color=SWF<br>x=%{x}<br>y=%{y}<extra></extra>",
         "legendgroup": "SWF",
         "marker": {
          "color": "#EF553B",
          "symbol": "circle"
         },
         "mode": "markers",
         "name": "SWF",
         "orientation": "v",
         "showlegend": true,
         "type": "scatter",
         "x": [
          1
         ],
         "xaxis": "x",
         "y": [
          4
         ],
         "yaxis": "y"
        },
        {
         "hovertemplate": "color=SYR<br>x=%{x}<br>y=%{y}<extra></extra>",
         "legendgroup": "SYR",
         "marker": {
          "color": "#00cc96",
          "symbol": "circle"
         },
         "mode": "markers",
         "name": "SYR",
         "orientation": "v",
         "showlegend": true,
         "type": "scatter",
         "x": [
          23
         ],
         "xaxis": "x",
         "y": [
          5.391304347826087
         ],
         "yaxis": "y"
        },
        {
         "hovertemplate": "color=TLH<br>x=%{x}<br>y=%{y}<extra></extra>",
         "legendgroup": "TLH",
         "marker": {
          "color": "#ab63fa",
          "symbol": "circle"
         },
         "mode": "markers",
         "name": "TLH",
         "orientation": "v",
         "showlegend": true,
         "type": "scatter",
         "x": [
          9
         ],
         "xaxis": "x",
         "y": [
          4.333333333333333
         ],
         "yaxis": "y"
        },
        {
         "hovertemplate": "color=TOL<br>x=%{x}<br>y=%{y}<extra></extra>",
         "legendgroup": "TOL",
         "marker": {
          "color": "#FFA15A",
          "symbol": "circle"
         },
         "mode": "markers",
         "name": "TOL",
         "orientation": "v",
         "showlegend": true,
         "type": "scatter",
         "x": [
          1
         ],
         "xaxis": "x",
         "y": [
          3
         ],
         "yaxis": "y"
        },
        {
         "hovertemplate": "color=TPA<br>x=%{x}<br>y=%{y}<extra></extra>",
         "legendgroup": "TPA",
         "marker": {
          "color": "#19d3f3",
          "symbol": "circle"
         },
         "mode": "markers",
         "name": "TPA",
         "orientation": "v",
         "showlegend": true,
         "type": "scatter",
         "x": [
          83
         ],
         "xaxis": "x",
         "y": [
          4.867469879518072
         ],
         "yaxis": "y"
        },
        {
         "hovertemplate": "color=TRI<br>x=%{x}<br>y=%{y}<extra></extra>",
         "legendgroup": "TRI",
         "marker": {
          "color": "#FF6692",
          "symbol": "circle"
         },
         "mode": "markers",
         "name": "TRI",
         "orientation": "v",
         "showlegend": true,
         "type": "scatter",
         "x": [
          4
         ],
         "xaxis": "x",
         "y": [
          3.75
         ],
         "yaxis": "y"
        },
        {
         "hovertemplate": "color=TTN<br>x=%{x}<br>y=%{y}<extra></extra>",
         "legendgroup": "TTN",
         "marker": {
          "color": "#B6E880",
          "symbol": "circle"
         },
         "mode": "markers",
         "name": "TTN",
         "orientation": "v",
         "showlegend": true,
         "type": "scatter",
         "x": [
          3
         ],
         "xaxis": "x",
         "y": [
          7.333333333333333
         ],
         "yaxis": "y"
        },
        {
         "hovertemplate": "color=TUL<br>x=%{x}<br>y=%{y}<extra></extra>",
         "legendgroup": "TUL",
         "marker": {
          "color": "#FF97FF",
          "symbol": "circle"
         },
         "mode": "markers",
         "name": "TUL",
         "orientation": "v",
         "showlegend": true,
         "type": "scatter",
         "x": [
          28
         ],
         "xaxis": "x",
         "y": [
          3.9642857142857144
         ],
         "yaxis": "y"
        },
        {
         "hovertemplate": "color=TUS<br>x=%{x}<br>y=%{y}<extra></extra>",
         "legendgroup": "TUS",
         "marker": {
          "color": "#FECB52",
          "symbol": "circle"
         },
         "mode": "markers",
         "name": "TUS",
         "orientation": "v",
         "showlegend": true,
         "type": "scatter",
         "x": [
          29
         ],
         "xaxis": "x",
         "y": [
          4.551724137931035
         ],
         "yaxis": "y"
        },
        {
         "hovertemplate": "color=TVC<br>x=%{x}<br>y=%{y}<extra></extra>",
         "legendgroup": "TVC",
         "marker": {
          "color": "#636efa",
          "symbol": "circle"
         },
         "mode": "markers",
         "name": "TVC",
         "orientation": "v",
         "showlegend": true,
         "type": "scatter",
         "x": [
          7
         ],
         "xaxis": "x",
         "y": [
          4.428571428571429
         ],
         "yaxis": "y"
        },
        {
         "hovertemplate": "color=TWF<br>x=%{x}<br>y=%{y}<extra></extra>",
         "legendgroup": "TWF",
         "marker": {
          "color": "#EF553B",
          "symbol": "circle"
         },
         "mode": "markers",
         "name": "TWF",
         "orientation": "v",
         "showlegend": true,
         "type": "scatter",
         "x": [
          1
         ],
         "xaxis": "x",
         "y": [
          3
         ],
         "yaxis": "y"
        },
        {
         "hovertemplate": "color=TXK<br>x=%{x}<br>y=%{y}<extra></extra>",
         "legendgroup": "TXK",
         "marker": {
          "color": "#00cc96",
          "symbol": "circle"
         },
         "mode": "markers",
         "name": "TXK",
         "orientation": "v",
         "showlegend": true,
         "type": "scatter",
         "x": [
          4
         ],
         "xaxis": "x",
         "y": [
          4.25
         ],
         "yaxis": "y"
        },
        {
         "hovertemplate": "color=TYR<br>x=%{x}<br>y=%{y}<extra></extra>",
         "legendgroup": "TYR",
         "marker": {
          "color": "#ab63fa",
          "symbol": "circle"
         },
         "mode": "markers",
         "name": "TYR",
         "orientation": "v",
         "showlegend": true,
         "type": "scatter",
         "x": [
          1
         ],
         "xaxis": "x",
         "y": [
          3
         ],
         "yaxis": "y"
        },
        {
         "hovertemplate": "color=TYS<br>x=%{x}<br>y=%{y}<extra></extra>",
         "legendgroup": "TYS",
         "marker": {
          "color": "#FFA15A",
          "symbol": "circle"
         },
         "mode": "markers",
         "name": "TYS",
         "orientation": "v",
         "showlegend": true,
         "type": "scatter",
         "x": [
          25
         ],
         "xaxis": "x",
         "y": [
          4.72
         ],
         "yaxis": "y"
        },
        {
         "hovertemplate": "color=USA<br>x=%{x}<br>y=%{y}<extra></extra>",
         "legendgroup": "USA",
         "marker": {
          "color": "#19d3f3",
          "symbol": "circle"
         },
         "mode": "markers",
         "name": "USA",
         "orientation": "v",
         "showlegend": true,
         "type": "scatter",
         "x": [
          1
         ],
         "xaxis": "x",
         "y": [
          8
         ],
         "yaxis": "y"
        },
        {
         "hovertemplate": "color=VEL<br>x=%{x}<br>y=%{y}<extra></extra>",
         "legendgroup": "VEL",
         "marker": {
          "color": "#FF6692",
          "symbol": "circle"
         },
         "mode": "markers",
         "name": "VEL",
         "orientation": "v",
         "showlegend": true,
         "type": "scatter",
         "x": [
          1
         ],
         "xaxis": "x",
         "y": [
          4
         ],
         "yaxis": "y"
        },
        {
         "hovertemplate": "color=VPS<br>x=%{x}<br>y=%{y}<extra></extra>",
         "legendgroup": "VPS",
         "marker": {
          "color": "#B6E880",
          "symbol": "circle"
         },
         "mode": "markers",
         "name": "VPS",
         "orientation": "v",
         "showlegend": true,
         "type": "scatter",
         "x": [
          15
         ],
         "xaxis": "x",
         "y": [
          7.066666666666666
         ],
         "yaxis": "y"
        },
        {
         "hovertemplate": "color=WRG<br>x=%{x}<br>y=%{y}<extra></extra>",
         "legendgroup": "WRG",
         "marker": {
          "color": "#FF97FF",
          "symbol": "circle"
         },
         "mode": "markers",
         "name": "WRG",
         "orientation": "v",
         "showlegend": true,
         "type": "scatter",
         "x": [
          2
         ],
         "xaxis": "x",
         "y": [
          4
         ],
         "yaxis": "y"
        },
        {
         "hovertemplate": "color=WYS<br>x=%{x}<br>y=%{y}<extra></extra>",
         "legendgroup": "WYS",
         "marker": {
          "color": "#FECB52",
          "symbol": "circle"
         },
         "mode": "markers",
         "name": "WYS",
         "orientation": "v",
         "showlegend": true,
         "type": "scatter",
         "x": [
          1
         ],
         "xaxis": "x",
         "y": [
          4
         ],
         "yaxis": "y"
        },
        {
         "hovertemplate": "color=XNA<br>x=%{x}<br>y=%{y}<extra></extra>",
         "legendgroup": "XNA",
         "marker": {
          "color": "#636efa",
          "symbol": "circle"
         },
         "mode": "markers",
         "name": "XNA",
         "orientation": "v",
         "showlegend": true,
         "type": "scatter",
         "x": [
          20
         ],
         "xaxis": "x",
         "y": [
          9.15
         ],
         "yaxis": "y"
        },
        {
         "hovertemplate": "color=YKM<br>x=%{x}<br>y=%{y}<extra></extra>",
         "legendgroup": "YKM",
         "marker": {
          "color": "#EF553B",
          "symbol": "circle"
         },
         "mode": "markers",
         "name": "YKM",
         "orientation": "v",
         "showlegend": true,
         "type": "scatter",
         "x": [
          1
         ],
         "xaxis": "x",
         "y": [
          4
         ],
         "yaxis": "y"
        }
       ],
       "layout": {
        "legend": {
         "title": {
          "text": "color"
         },
         "tracegroupgap": 0
        },
        "margin": {
         "t": 60
        },
        "template": {
         "data": {
          "bar": [
           {
            "error_x": {
             "color": "#2a3f5f"
            },
            "error_y": {
             "color": "#2a3f5f"
            },
            "marker": {
             "line": {
              "color": "#E5ECF6",
              "width": 0.5
             }
            },
            "type": "bar"
           }
          ],
          "barpolar": [
           {
            "marker": {
             "line": {
              "color": "#E5ECF6",
              "width": 0.5
             }
            },
            "type": "barpolar"
           }
          ],
          "carpet": [
           {
            "aaxis": {
             "endlinecolor": "#2a3f5f",
             "gridcolor": "white",
             "linecolor": "white",
             "minorgridcolor": "white",
             "startlinecolor": "#2a3f5f"
            },
            "baxis": {
             "endlinecolor": "#2a3f5f",
             "gridcolor": "white",
             "linecolor": "white",
             "minorgridcolor": "white",
             "startlinecolor": "#2a3f5f"
            },
            "type": "carpet"
           }
          ],
          "choropleth": [
           {
            "colorbar": {
             "outlinewidth": 0,
             "ticks": ""
            },
            "type": "choropleth"
           }
          ],
          "contour": [
           {
            "colorbar": {
             "outlinewidth": 0,
             "ticks": ""
            },
            "colorscale": [
             [
              0,
              "#0d0887"
             ],
             [
              0.1111111111111111,
              "#46039f"
             ],
             [
              0.2222222222222222,
              "#7201a8"
             ],
             [
              0.3333333333333333,
              "#9c179e"
             ],
             [
              0.4444444444444444,
              "#bd3786"
             ],
             [
              0.5555555555555556,
              "#d8576b"
             ],
             [
              0.6666666666666666,
              "#ed7953"
             ],
             [
              0.7777777777777778,
              "#fb9f3a"
             ],
             [
              0.8888888888888888,
              "#fdca26"
             ],
             [
              1,
              "#f0f921"
             ]
            ],
            "type": "contour"
           }
          ],
          "contourcarpet": [
           {
            "colorbar": {
             "outlinewidth": 0,
             "ticks": ""
            },
            "type": "contourcarpet"
           }
          ],
          "heatmap": [
           {
            "colorbar": {
             "outlinewidth": 0,
             "ticks": ""
            },
            "colorscale": [
             [
              0,
              "#0d0887"
             ],
             [
              0.1111111111111111,
              "#46039f"
             ],
             [
              0.2222222222222222,
              "#7201a8"
             ],
             [
              0.3333333333333333,
              "#9c179e"
             ],
             [
              0.4444444444444444,
              "#bd3786"
             ],
             [
              0.5555555555555556,
              "#d8576b"
             ],
             [
              0.6666666666666666,
              "#ed7953"
             ],
             [
              0.7777777777777778,
              "#fb9f3a"
             ],
             [
              0.8888888888888888,
              "#fdca26"
             ],
             [
              1,
              "#f0f921"
             ]
            ],
            "type": "heatmap"
           }
          ],
          "heatmapgl": [
           {
            "colorbar": {
             "outlinewidth": 0,
             "ticks": ""
            },
            "colorscale": [
             [
              0,
              "#0d0887"
             ],
             [
              0.1111111111111111,
              "#46039f"
             ],
             [
              0.2222222222222222,
              "#7201a8"
             ],
             [
              0.3333333333333333,
              "#9c179e"
             ],
             [
              0.4444444444444444,
              "#bd3786"
             ],
             [
              0.5555555555555556,
              "#d8576b"
             ],
             [
              0.6666666666666666,
              "#ed7953"
             ],
             [
              0.7777777777777778,
              "#fb9f3a"
             ],
             [
              0.8888888888888888,
              "#fdca26"
             ],
             [
              1,
              "#f0f921"
             ]
            ],
            "type": "heatmapgl"
           }
          ],
          "histogram": [
           {
            "marker": {
             "colorbar": {
              "outlinewidth": 0,
              "ticks": ""
             }
            },
            "type": "histogram"
           }
          ],
          "histogram2d": [
           {
            "colorbar": {
             "outlinewidth": 0,
             "ticks": ""
            },
            "colorscale": [
             [
              0,
              "#0d0887"
             ],
             [
              0.1111111111111111,
              "#46039f"
             ],
             [
              0.2222222222222222,
              "#7201a8"
             ],
             [
              0.3333333333333333,
              "#9c179e"
             ],
             [
              0.4444444444444444,
              "#bd3786"
             ],
             [
              0.5555555555555556,
              "#d8576b"
             ],
             [
              0.6666666666666666,
              "#ed7953"
             ],
             [
              0.7777777777777778,
              "#fb9f3a"
             ],
             [
              0.8888888888888888,
              "#fdca26"
             ],
             [
              1,
              "#f0f921"
             ]
            ],
            "type": "histogram2d"
           }
          ],
          "histogram2dcontour": [
           {
            "colorbar": {
             "outlinewidth": 0,
             "ticks": ""
            },
            "colorscale": [
             [
              0,
              "#0d0887"
             ],
             [
              0.1111111111111111,
              "#46039f"
             ],
             [
              0.2222222222222222,
              "#7201a8"
             ],
             [
              0.3333333333333333,
              "#9c179e"
             ],
             [
              0.4444444444444444,
              "#bd3786"
             ],
             [
              0.5555555555555556,
              "#d8576b"
             ],
             [
              0.6666666666666666,
              "#ed7953"
             ],
             [
              0.7777777777777778,
              "#fb9f3a"
             ],
             [
              0.8888888888888888,
              "#fdca26"
             ],
             [
              1,
              "#f0f921"
             ]
            ],
            "type": "histogram2dcontour"
           }
          ],
          "mesh3d": [
           {
            "colorbar": {
             "outlinewidth": 0,
             "ticks": ""
            },
            "type": "mesh3d"
           }
          ],
          "parcoords": [
           {
            "line": {
             "colorbar": {
              "outlinewidth": 0,
              "ticks": ""
             }
            },
            "type": "parcoords"
           }
          ],
          "pie": [
           {
            "automargin": true,
            "type": "pie"
           }
          ],
          "scatter": [
           {
            "marker": {
             "colorbar": {
              "outlinewidth": 0,
              "ticks": ""
             }
            },
            "type": "scatter"
           }
          ],
          "scatter3d": [
           {
            "line": {
             "colorbar": {
              "outlinewidth": 0,
              "ticks": ""
             }
            },
            "marker": {
             "colorbar": {
              "outlinewidth": 0,
              "ticks": ""
             }
            },
            "type": "scatter3d"
           }
          ],
          "scattercarpet": [
           {
            "marker": {
             "colorbar": {
              "outlinewidth": 0,
              "ticks": ""
             }
            },
            "type": "scattercarpet"
           }
          ],
          "scattergeo": [
           {
            "marker": {
             "colorbar": {
              "outlinewidth": 0,
              "ticks": ""
             }
            },
            "type": "scattergeo"
           }
          ],
          "scattergl": [
           {
            "marker": {
             "colorbar": {
              "outlinewidth": 0,
              "ticks": ""
             }
            },
            "type": "scattergl"
           }
          ],
          "scattermapbox": [
           {
            "marker": {
             "colorbar": {
              "outlinewidth": 0,
              "ticks": ""
             }
            },
            "type": "scattermapbox"
           }
          ],
          "scatterpolar": [
           {
            "marker": {
             "colorbar": {
              "outlinewidth": 0,
              "ticks": ""
             }
            },
            "type": "scatterpolar"
           }
          ],
          "scatterpolargl": [
           {
            "marker": {
             "colorbar": {
              "outlinewidth": 0,
              "ticks": ""
             }
            },
            "type": "scatterpolargl"
           }
          ],
          "scatterternary": [
           {
            "marker": {
             "colorbar": {
              "outlinewidth": 0,
              "ticks": ""
             }
            },
            "type": "scatterternary"
           }
          ],
          "surface": [
           {
            "colorbar": {
             "outlinewidth": 0,
             "ticks": ""
            },
            "colorscale": [
             [
              0,
              "#0d0887"
             ],
             [
              0.1111111111111111,
              "#46039f"
             ],
             [
              0.2222222222222222,
              "#7201a8"
             ],
             [
              0.3333333333333333,
              "#9c179e"
             ],
             [
              0.4444444444444444,
              "#bd3786"
             ],
             [
              0.5555555555555556,
              "#d8576b"
             ],
             [
              0.6666666666666666,
              "#ed7953"
             ],
             [
              0.7777777777777778,
              "#fb9f3a"
             ],
             [
              0.8888888888888888,
              "#fdca26"
             ],
             [
              1,
              "#f0f921"
             ]
            ],
            "type": "surface"
           }
          ],
          "table": [
           {
            "cells": {
             "fill": {
              "color": "#EBF0F8"
             },
             "line": {
              "color": "white"
             }
            },
            "header": {
             "fill": {
              "color": "#C8D4E3"
             },
             "line": {
              "color": "white"
             }
            },
            "type": "table"
           }
          ]
         },
         "layout": {
          "annotationdefaults": {
           "arrowcolor": "#2a3f5f",
           "arrowhead": 0,
           "arrowwidth": 1
          },
          "autotypenumbers": "strict",
          "coloraxis": {
           "colorbar": {
            "outlinewidth": 0,
            "ticks": ""
           }
          },
          "colorscale": {
           "diverging": [
            [
             0,
             "#8e0152"
            ],
            [
             0.1,
             "#c51b7d"
            ],
            [
             0.2,
             "#de77ae"
            ],
            [
             0.3,
             "#f1b6da"
            ],
            [
             0.4,
             "#fde0ef"
            ],
            [
             0.5,
             "#f7f7f7"
            ],
            [
             0.6,
             "#e6f5d0"
            ],
            [
             0.7,
             "#b8e186"
            ],
            [
             0.8,
             "#7fbc41"
            ],
            [
             0.9,
             "#4d9221"
            ],
            [
             1,
             "#276419"
            ]
           ],
           "sequential": [
            [
             0,
             "#0d0887"
            ],
            [
             0.1111111111111111,
             "#46039f"
            ],
            [
             0.2222222222222222,
             "#7201a8"
            ],
            [
             0.3333333333333333,
             "#9c179e"
            ],
            [
             0.4444444444444444,
             "#bd3786"
            ],
            [
             0.5555555555555556,
             "#d8576b"
            ],
            [
             0.6666666666666666,
             "#ed7953"
            ],
            [
             0.7777777777777778,
             "#fb9f3a"
            ],
            [
             0.8888888888888888,
             "#fdca26"
            ],
            [
             1,
             "#f0f921"
            ]
           ],
           "sequentialminus": [
            [
             0,
             "#0d0887"
            ],
            [
             0.1111111111111111,
             "#46039f"
            ],
            [
             0.2222222222222222,
             "#7201a8"
            ],
            [
             0.3333333333333333,
             "#9c179e"
            ],
            [
             0.4444444444444444,
             "#bd3786"
            ],
            [
             0.5555555555555556,
             "#d8576b"
            ],
            [
             0.6666666666666666,
             "#ed7953"
            ],
            [
             0.7777777777777778,
             "#fb9f3a"
            ],
            [
             0.8888888888888888,
             "#fdca26"
            ],
            [
             1,
             "#f0f921"
            ]
           ]
          },
          "colorway": [
           "#636efa",
           "#EF553B",
           "#00cc96",
           "#ab63fa",
           "#FFA15A",
           "#19d3f3",
           "#FF6692",
           "#B6E880",
           "#FF97FF",
           "#FECB52"
          ],
          "font": {
           "color": "#2a3f5f"
          },
          "geo": {
           "bgcolor": "white",
           "lakecolor": "white",
           "landcolor": "#E5ECF6",
           "showlakes": true,
           "showland": true,
           "subunitcolor": "white"
          },
          "hoverlabel": {
           "align": "left"
          },
          "hovermode": "closest",
          "mapbox": {
           "style": "light"
          },
          "paper_bgcolor": "white",
          "plot_bgcolor": "#E5ECF6",
          "polar": {
           "angularaxis": {
            "gridcolor": "white",
            "linecolor": "white",
            "ticks": ""
           },
           "bgcolor": "#E5ECF6",
           "radialaxis": {
            "gridcolor": "white",
            "linecolor": "white",
            "ticks": ""
           }
          },
          "scene": {
           "xaxis": {
            "backgroundcolor": "#E5ECF6",
            "gridcolor": "white",
            "gridwidth": 2,
            "linecolor": "white",
            "showbackground": true,
            "ticks": "",
            "zerolinecolor": "white"
           },
           "yaxis": {
            "backgroundcolor": "#E5ECF6",
            "gridcolor": "white",
            "gridwidth": 2,
            "linecolor": "white",
            "showbackground": true,
            "ticks": "",
            "zerolinecolor": "white"
           },
           "zaxis": {
            "backgroundcolor": "#E5ECF6",
            "gridcolor": "white",
            "gridwidth": 2,
            "linecolor": "white",
            "showbackground": true,
            "ticks": "",
            "zerolinecolor": "white"
           }
          },
          "shapedefaults": {
           "line": {
            "color": "#2a3f5f"
           }
          },
          "ternary": {
           "aaxis": {
            "gridcolor": "white",
            "linecolor": "white",
            "ticks": ""
           },
           "baxis": {
            "gridcolor": "white",
            "linecolor": "white",
            "ticks": ""
           },
           "bgcolor": "#E5ECF6",
           "caxis": {
            "gridcolor": "white",
            "linecolor": "white",
            "ticks": ""
           }
          },
          "title": {
           "x": 0.05
          },
          "xaxis": {
           "automargin": true,
           "gridcolor": "white",
           "linecolor": "white",
           "ticks": "",
           "title": {
            "standoff": 15
           },
           "zerolinecolor": "white",
           "zerolinewidth": 2
          },
          "yaxis": {
           "automargin": true,
           "gridcolor": "white",
           "linecolor": "white",
           "ticks": "",
           "title": {
            "standoff": 15
           },
           "zerolinecolor": "white",
           "zerolinewidth": 2
          }
         }
        },
        "xaxis": {
         "anchor": "y",
         "domain": [
          0,
          1
         ],
         "title": {
          "text": "x"
         }
        },
        "yaxis": {
         "anchor": "x",
         "domain": [
          0,
          1
         ],
         "title": {
          "text": "y"
         }
        }
       }
      },
      "text/html": [
       "<div>                            <div id=\"acf9d819-e4f2-4541-9eae-1d419cacf79f\" class=\"plotly-graph-div\" style=\"height:525px; width:100%;\"></div>            <script type=\"text/javascript\">                require([\"plotly\"], function(Plotly) {                    window.PLOTLYENV=window.PLOTLYENV || {};                                    if (document.getElementById(\"acf9d819-e4f2-4541-9eae-1d419cacf79f\")) {                    Plotly.newPlot(                        \"acf9d819-e4f2-4541-9eae-1d419cacf79f\",                        [{\"hovertemplate\": \"color=ABE<br>x=%{x}<br>y=%{y}<extra></extra>\", \"legendgroup\": \"ABE\", \"marker\": {\"color\": \"#636efa\", \"symbol\": \"circle\"}, \"mode\": \"markers\", \"name\": \"ABE\", \"orientation\": \"v\", \"showlegend\": true, \"type\": \"scatter\", \"x\": [14], \"xaxis\": \"x\", \"y\": [3.642857142857143], \"yaxis\": \"y\"}, {\"hovertemplate\": \"color=ABI<br>x=%{x}<br>y=%{y}<extra></extra>\", \"legendgroup\": \"ABI\", \"marker\": {\"color\": \"#EF553B\", \"symbol\": \"circle\"}, \"mode\": \"markers\", \"name\": \"ABI\", \"orientation\": \"v\", \"showlegend\": true, \"type\": \"scatter\", \"x\": [1], \"xaxis\": \"x\", \"y\": [4.0], \"yaxis\": \"y\"}, {\"hovertemplate\": \"color=ABQ<br>x=%{x}<br>y=%{y}<extra></extra>\", \"legendgroup\": \"ABQ\", \"marker\": {\"color\": \"#00cc96\", \"symbol\": \"circle\"}, \"mode\": \"markers\", \"name\": \"ABQ\", \"orientation\": \"v\", \"showlegend\": true, \"type\": \"scatter\", \"x\": [23], \"xaxis\": \"x\", \"y\": [6.130434782608695], \"yaxis\": \"y\"}, {\"hovertemplate\": \"color=ABR<br>x=%{x}<br>y=%{y}<extra></extra>\", \"legendgroup\": \"ABR\", \"marker\": {\"color\": \"#ab63fa\", \"symbol\": \"circle\"}, \"mode\": \"markers\", \"name\": \"ABR\", \"orientation\": \"v\", \"showlegend\": true, \"type\": \"scatter\", \"x\": [3], \"xaxis\": \"x\", \"y\": [4.333333333333333], \"yaxis\": \"y\"}, {\"hovertemplate\": \"color=ABY<br>x=%{x}<br>y=%{y}<extra></extra>\", \"legendgroup\": \"ABY\", \"marker\": {\"color\": \"#FFA15A\", \"symbol\": \"circle\"}, \"mode\": \"markers\", \"name\": \"ABY\", \"orientation\": \"v\", \"showlegend\": true, \"type\": \"scatter\", \"x\": [2], \"xaxis\": \"x\", \"y\": [3.5], \"yaxis\": \"y\"}, {\"hovertemplate\": \"color=ACK<br>x=%{x}<br>y=%{y}<extra></extra>\", \"legendgroup\": \"ACK\", \"marker\": {\"color\": \"#19d3f3\", \"symbol\": \"circle\"}, \"mode\": \"markers\", \"name\": \"ACK\", \"orientation\": \"v\", \"showlegend\": true, \"type\": \"scatter\", \"x\": [1], \"xaxis\": \"x\", \"y\": [6.0], \"yaxis\": \"y\"}, {\"hovertemplate\": \"color=ACT<br>x=%{x}<br>y=%{y}<extra></extra>\", \"legendgroup\": \"ACT\", \"marker\": {\"color\": \"#FF6692\", \"symbol\": \"circle\"}, \"mode\": \"markers\", \"name\": \"ACT\", \"orientation\": \"v\", \"showlegend\": true, \"type\": \"scatter\", \"x\": [2], \"xaxis\": \"x\", \"y\": [3.0], \"yaxis\": \"y\"}, {\"hovertemplate\": \"color=ACV<br>x=%{x}<br>y=%{y}<extra></extra>\", \"legendgroup\": \"ACV\", \"marker\": {\"color\": \"#B6E880\", \"symbol\": \"circle\"}, \"mode\": \"markers\", \"name\": \"ACV\", \"orientation\": \"v\", \"showlegend\": true, \"type\": \"scatter\", \"x\": [4], \"xaxis\": \"x\", \"y\": [5.0], \"yaxis\": \"y\"}, {\"hovertemplate\": \"color=ACY<br>x=%{x}<br>y=%{y}<extra></extra>\", \"legendgroup\": \"ACY\", \"marker\": {\"color\": \"#FF97FF\", \"symbol\": \"circle\"}, \"mode\": \"markers\", \"name\": \"ACY\", \"orientation\": \"v\", \"showlegend\": true, \"type\": \"scatter\", \"x\": [3], \"xaxis\": \"x\", \"y\": [4.666666666666667], \"yaxis\": \"y\"}, {\"hovertemplate\": \"color=ADQ<br>x=%{x}<br>y=%{y}<extra></extra>\", \"legendgroup\": \"ADQ\", \"marker\": {\"color\": \"#FECB52\", \"symbol\": \"circle\"}, \"mode\": \"markers\", \"name\": \"ADQ\", \"orientation\": \"v\", \"showlegend\": true, \"type\": \"scatter\", \"x\": [1], \"xaxis\": \"x\", \"y\": [3.0], \"yaxis\": \"y\"}, {\"hovertemplate\": \"color=AEX<br>x=%{x}<br>y=%{y}<extra></extra>\", \"legendgroup\": \"AEX\", \"marker\": {\"color\": \"#636efa\", \"symbol\": \"circle\"}, \"mode\": \"markers\", \"name\": \"AEX\", \"orientation\": \"v\", \"showlegend\": true, \"type\": \"scatter\", \"x\": [6], \"xaxis\": \"x\", \"y\": [4.5], \"yaxis\": \"y\"}, {\"hovertemplate\": \"color=AGS<br>x=%{x}<br>y=%{y}<extra></extra>\", \"legendgroup\": \"AGS\", \"marker\": {\"color\": \"#EF553B\", \"symbol\": \"circle\"}, \"mode\": \"markers\", \"name\": \"AGS\", \"orientation\": \"v\", \"showlegend\": true, \"type\": \"scatter\", \"x\": [6], \"xaxis\": \"x\", \"y\": [4.166666666666667], \"yaxis\": \"y\"}, {\"hovertemplate\": \"color=ALB<br>x=%{x}<br>y=%{y}<extra></extra>\", \"legendgroup\": \"ALB\", \"marker\": {\"color\": \"#00cc96\", \"symbol\": \"circle\"}, \"mode\": \"markers\", \"name\": \"ALB\", \"orientation\": \"v\", \"showlegend\": true, \"type\": \"scatter\", \"x\": [15], \"xaxis\": \"x\", \"y\": [3.2], \"yaxis\": \"y\"}, {\"hovertemplate\": \"color=AMA<br>x=%{x}<br>y=%{y}<extra></extra>\", \"legendgroup\": \"AMA\", \"marker\": {\"color\": \"#ab63fa\", \"symbol\": \"circle\"}, \"mode\": \"markers\", \"name\": \"AMA\", \"orientation\": \"v\", \"showlegend\": true, \"type\": \"scatter\", \"x\": [6], \"xaxis\": \"x\", \"y\": [3.8333333333333335], \"yaxis\": \"y\"}, {\"hovertemplate\": \"color=ANC<br>x=%{x}<br>y=%{y}<extra></extra>\", \"legendgroup\": \"ANC\", \"marker\": {\"color\": \"#FFA15A\", \"symbol\": \"circle\"}, \"mode\": \"markers\", \"name\": \"ANC\", \"orientation\": \"v\", \"showlegend\": true, \"type\": \"scatter\", \"x\": [26], \"xaxis\": \"x\", \"y\": [4.115384615384615], \"yaxis\": \"y\"}, {\"hovertemplate\": \"color=APN<br>x=%{x}<br>y=%{y}<extra></extra>\", \"legendgroup\": \"APN\", \"marker\": {\"color\": \"#19d3f3\", \"symbol\": \"circle\"}, \"mode\": \"markers\", \"name\": \"APN\", \"orientation\": \"v\", \"showlegend\": true, \"type\": \"scatter\", \"x\": [1], \"xaxis\": \"x\", \"y\": [6.0], \"yaxis\": \"y\"}, {\"hovertemplate\": \"color=ART<br>x=%{x}<br>y=%{y}<extra></extra>\", \"legendgroup\": \"ART\", \"marker\": {\"color\": \"#FF6692\", \"symbol\": \"circle\"}, \"mode\": \"markers\", \"name\": \"ART\", \"orientation\": \"v\", \"showlegend\": true, \"type\": \"scatter\", \"x\": [1], \"xaxis\": \"x\", \"y\": [8.0], \"yaxis\": \"y\"}, {\"hovertemplate\": \"color=ASE<br>x=%{x}<br>y=%{y}<extra></extra>\", \"legendgroup\": \"ASE\", \"marker\": {\"color\": \"#B6E880\", \"symbol\": \"circle\"}, \"mode\": \"markers\", \"name\": \"ASE\", \"orientation\": \"v\", \"showlegend\": true, \"type\": \"scatter\", \"x\": [6], \"xaxis\": \"x\", \"y\": [3.8333333333333335], \"yaxis\": \"y\"}, {\"hovertemplate\": \"color=ATL<br>x=%{x}<br>y=%{y}<extra></extra>\", \"legendgroup\": \"ATL\", \"marker\": {\"color\": \"#FF97FF\", \"symbol\": \"circle\"}, \"mode\": \"markers\", \"name\": \"ATL\", \"orientation\": \"v\", \"showlegend\": true, \"type\": \"scatter\", \"x\": [491], \"xaxis\": \"x\", \"y\": [8.959266802443992], \"yaxis\": \"y\"}, {\"hovertemplate\": \"color=ATW<br>x=%{x}<br>y=%{y}<extra></extra>\", \"legendgroup\": \"ATW\", \"marker\": {\"color\": \"#FECB52\", \"symbol\": \"circle\"}, \"mode\": \"markers\", \"name\": \"ATW\", \"orientation\": \"v\", \"showlegend\": true, \"type\": \"scatter\", \"x\": [6], \"xaxis\": \"x\", \"y\": [9.333333333333334], \"yaxis\": \"y\"}, {\"hovertemplate\": \"color=AUS<br>x=%{x}<br>y=%{y}<extra></extra>\", \"legendgroup\": \"AUS\", \"marker\": {\"color\": \"#636efa\", \"symbol\": \"circle\"}, \"mode\": \"markers\", \"name\": \"AUS\", \"orientation\": \"v\", \"showlegend\": true, \"type\": \"scatter\", \"x\": [75], \"xaxis\": \"x\", \"y\": [6.693333333333333], \"yaxis\": \"y\"}, {\"hovertemplate\": \"color=AVL<br>x=%{x}<br>y=%{y}<extra></extra>\", \"legendgroup\": \"AVL\", \"marker\": {\"color\": \"#EF553B\", \"symbol\": \"circle\"}, \"mode\": \"markers\", \"name\": \"AVL\", \"orientation\": \"v\", \"showlegend\": true, \"type\": \"scatter\", \"x\": [12], \"xaxis\": \"x\", \"y\": [5.083333333333333], \"yaxis\": \"y\"}, {\"hovertemplate\": \"color=AVP<br>x=%{x}<br>y=%{y}<extra></extra>\", \"legendgroup\": \"AVP\", \"marker\": {\"color\": \"#00cc96\", \"symbol\": \"circle\"}, \"mode\": \"markers\", \"name\": \"AVP\", \"orientation\": \"v\", \"showlegend\": true, \"type\": \"scatter\", \"x\": [7], \"xaxis\": \"x\", \"y\": [4.0], \"yaxis\": \"y\"}, {\"hovertemplate\": \"color=AZA<br>x=%{x}<br>y=%{y}<extra></extra>\", \"legendgroup\": \"AZA\", \"marker\": {\"color\": \"#ab63fa\", \"symbol\": \"circle\"}, \"mode\": \"markers\", \"name\": \"AZA\", \"orientation\": \"v\", \"showlegend\": true, \"type\": \"scatter\", \"x\": [6], \"xaxis\": \"x\", \"y\": [5.5], \"yaxis\": \"y\"}, {\"hovertemplate\": \"color=AZO<br>x=%{x}<br>y=%{y}<extra></extra>\", \"legendgroup\": \"AZO\", \"marker\": {\"color\": \"#FFA15A\", \"symbol\": \"circle\"}, \"mode\": \"markers\", \"name\": \"AZO\", \"orientation\": \"v\", \"showlegend\": true, \"type\": \"scatter\", \"x\": [4], \"xaxis\": \"x\", \"y\": [2.75], \"yaxis\": \"y\"}, {\"hovertemplate\": \"color=BDL<br>x=%{x}<br>y=%{y}<extra></extra>\", \"legendgroup\": \"BDL\", \"marker\": {\"color\": \"#19d3f3\", \"symbol\": \"circle\"}, \"mode\": \"markers\", \"name\": \"BDL\", \"orientation\": \"v\", \"showlegend\": true, \"type\": \"scatter\", \"x\": [31], \"xaxis\": \"x\", \"y\": [6.516129032258065], \"yaxis\": \"y\"}, {\"hovertemplate\": \"color=BET<br>x=%{x}<br>y=%{y}<extra></extra>\", \"legendgroup\": \"BET\", \"marker\": {\"color\": \"#FF6692\", \"symbol\": \"circle\"}, \"mode\": \"markers\", \"name\": \"BET\", \"orientation\": \"v\", \"showlegend\": true, \"type\": \"scatter\", \"x\": [1], \"xaxis\": \"x\", \"y\": [6.0], \"yaxis\": \"y\"}, {\"hovertemplate\": \"color=BFL<br>x=%{x}<br>y=%{y}<extra></extra>\", \"legendgroup\": \"BFL\", \"marker\": {\"color\": \"#B6E880\", \"symbol\": \"circle\"}, \"mode\": \"markers\", \"name\": \"BFL\", \"orientation\": \"v\", \"showlegend\": true, \"type\": \"scatter\", \"x\": [5], \"xaxis\": \"x\", \"y\": [4.6], \"yaxis\": \"y\"}, {\"hovertemplate\": \"color=BGM<br>x=%{x}<br>y=%{y}<extra></extra>\", \"legendgroup\": \"BGM\", \"marker\": {\"color\": \"#FF97FF\", \"symbol\": \"circle\"}, \"mode\": \"markers\", \"name\": \"BGM\", \"orientation\": \"v\", \"showlegend\": true, \"type\": \"scatter\", \"x\": [1], \"xaxis\": \"x\", \"y\": [3.0], \"yaxis\": \"y\"}, {\"hovertemplate\": \"color=BGR<br>x=%{x}<br>y=%{y}<extra></extra>\", \"legendgroup\": \"BGR\", \"marker\": {\"color\": \"#FECB52\", \"symbol\": \"circle\"}, \"mode\": \"markers\", \"name\": \"BGR\", \"orientation\": \"v\", \"showlegend\": true, \"type\": \"scatter\", \"x\": [8], \"xaxis\": \"x\", \"y\": [3.375], \"yaxis\": \"y\"}, {\"hovertemplate\": \"color=BHM<br>x=%{x}<br>y=%{y}<extra></extra>\", \"legendgroup\": \"BHM\", \"marker\": {\"color\": \"#636efa\", \"symbol\": \"circle\"}, \"mode\": \"markers\", \"name\": \"BHM\", \"orientation\": \"v\", \"showlegend\": true, \"type\": \"scatter\", \"x\": [26], \"xaxis\": \"x\", \"y\": [3.8846153846153846], \"yaxis\": \"y\"}, {\"hovertemplate\": \"color=BIL<br>x=%{x}<br>y=%{y}<extra></extra>\", \"legendgroup\": \"BIL\", \"marker\": {\"color\": \"#EF553B\", \"symbol\": \"circle\"}, \"mode\": \"markers\", \"name\": \"BIL\", \"orientation\": \"v\", \"showlegend\": true, \"type\": \"scatter\", \"x\": [6], \"xaxis\": \"x\", \"y\": [4.0], \"yaxis\": \"y\"}, {\"hovertemplate\": \"color=BIS<br>x=%{x}<br>y=%{y}<extra></extra>\", \"legendgroup\": \"BIS\", \"marker\": {\"color\": \"#00cc96\", \"symbol\": \"circle\"}, \"mode\": \"markers\", \"name\": \"BIS\", \"orientation\": \"v\", \"showlegend\": true, \"type\": \"scatter\", \"x\": [9], \"xaxis\": \"x\", \"y\": [4.888888888888889], \"yaxis\": \"y\"}, {\"hovertemplate\": \"color=BLI<br>x=%{x}<br>y=%{y}<extra></extra>\", \"legendgroup\": \"BLI\", \"marker\": {\"color\": \"#ab63fa\", \"symbol\": \"circle\"}, \"mode\": \"markers\", \"name\": \"BLI\", \"orientation\": \"v\", \"showlegend\": true, \"type\": \"scatter\", \"x\": [2], \"xaxis\": \"x\", \"y\": [5.5], \"yaxis\": \"y\"}, {\"hovertemplate\": \"color=BLV<br>x=%{x}<br>y=%{y}<extra></extra>\", \"legendgroup\": \"BLV\", \"marker\": {\"color\": \"#FFA15A\", \"symbol\": \"circle\"}, \"mode\": \"markers\", \"name\": \"BLV\", \"orientation\": \"v\", \"showlegend\": true, \"type\": \"scatter\", \"x\": [1], \"xaxis\": \"x\", \"y\": [7.0], \"yaxis\": \"y\"}, {\"hovertemplate\": \"color=BMI<br>x=%{x}<br>y=%{y}<extra></extra>\", \"legendgroup\": \"BMI\", \"marker\": {\"color\": \"#19d3f3\", \"symbol\": \"circle\"}, \"mode\": \"markers\", \"name\": \"BMI\", \"orientation\": \"v\", \"showlegend\": true, \"type\": \"scatter\", \"x\": [5], \"xaxis\": \"x\", \"y\": [4.2], \"yaxis\": \"y\"}, {\"hovertemplate\": \"color=BNA<br>x=%{x}<br>y=%{y}<extra></extra>\", \"legendgroup\": \"BNA\", \"marker\": {\"color\": \"#FF6692\", \"symbol\": \"circle\"}, \"mode\": \"markers\", \"name\": \"BNA\", \"orientation\": \"v\", \"showlegend\": true, \"type\": \"scatter\", \"x\": [75], \"xaxis\": \"x\", \"y\": [6.546666666666667], \"yaxis\": \"y\"}, {\"hovertemplate\": \"color=BOI<br>x=%{x}<br>y=%{y}<extra></extra>\", \"legendgroup\": \"BOI\", \"marker\": {\"color\": \"#B6E880\", \"symbol\": \"circle\"}, \"mode\": \"markers\", \"name\": \"BOI\", \"orientation\": \"v\", \"showlegend\": true, \"type\": \"scatter\", \"x\": [31], \"xaxis\": \"x\", \"y\": [4.225806451612903], \"yaxis\": \"y\"}, {\"hovertemplate\": \"color=BOS<br>x=%{x}<br>y=%{y}<extra></extra>\", \"legendgroup\": \"BOS\", \"marker\": {\"color\": \"#FF97FF\", \"symbol\": \"circle\"}, \"mode\": \"markers\", \"name\": \"BOS\", \"orientation\": \"v\", \"showlegend\": true, \"type\": \"scatter\", \"x\": [213], \"xaxis\": \"x\", \"y\": [8.300469483568076], \"yaxis\": \"y\"}, {\"hovertemplate\": \"color=BQK<br>x=%{x}<br>y=%{y}<extra></extra>\", \"legendgroup\": \"BQK\", \"marker\": {\"color\": \"#FECB52\", \"symbol\": \"circle\"}, \"mode\": \"markers\", \"name\": \"BQK\", \"orientation\": \"v\", \"showlegend\": true, \"type\": \"scatter\", \"x\": [2], \"xaxis\": \"x\", \"y\": [4.5], \"yaxis\": \"y\"}, {\"hovertemplate\": \"color=BQN<br>x=%{x}<br>y=%{y}<extra></extra>\", \"legendgroup\": \"BQN\", \"marker\": {\"color\": \"#636efa\", \"symbol\": \"circle\"}, \"mode\": \"markers\", \"name\": \"BQN\", \"orientation\": \"v\", \"showlegend\": true, \"type\": \"scatter\", \"x\": [2], \"xaxis\": \"x\", \"y\": [8.0], \"yaxis\": \"y\"}, {\"hovertemplate\": \"color=BRO<br>x=%{x}<br>y=%{y}<extra></extra>\", \"legendgroup\": \"BRO\", \"marker\": {\"color\": \"#EF553B\", \"symbol\": \"circle\"}, \"mode\": \"markers\", \"name\": \"BRO\", \"orientation\": \"v\", \"showlegend\": true, \"type\": \"scatter\", \"x\": [3], \"xaxis\": \"x\", \"y\": [4.666666666666667], \"yaxis\": \"y\"}, {\"hovertemplate\": \"color=BRW<br>x=%{x}<br>y=%{y}<extra></extra>\", \"legendgroup\": \"BRW\", \"marker\": {\"color\": \"#00cc96\", \"symbol\": \"circle\"}, \"mode\": \"markers\", \"name\": \"BRW\", \"orientation\": \"v\", \"showlegend\": true, \"type\": \"scatter\", \"x\": [1], \"xaxis\": \"x\", \"y\": [3.0], \"yaxis\": \"y\"}, {\"hovertemplate\": \"color=BTM<br>x=%{x}<br>y=%{y}<extra></extra>\", \"legendgroup\": \"BTM\", \"marker\": {\"color\": \"#ab63fa\", \"symbol\": \"circle\"}, \"mode\": \"markers\", \"name\": \"BTM\", \"orientation\": \"v\", \"showlegend\": true, \"type\": \"scatter\", \"x\": [1], \"xaxis\": \"x\", \"y\": [1.0], \"yaxis\": \"y\"}, {\"hovertemplate\": \"color=BTR<br>x=%{x}<br>y=%{y}<extra></extra>\", \"legendgroup\": \"BTR\", \"marker\": {\"color\": \"#FFA15A\", \"symbol\": \"circle\"}, \"mode\": \"markers\", \"name\": \"BTR\", \"orientation\": \"v\", \"showlegend\": true, \"type\": \"scatter\", \"x\": [9], \"xaxis\": \"x\", \"y\": [3.6666666666666665], \"yaxis\": \"y\"}, {\"hovertemplate\": \"color=BTV<br>x=%{x}<br>y=%{y}<extra></extra>\", \"legendgroup\": \"BTV\", \"marker\": {\"color\": \"#19d3f3\", \"symbol\": \"circle\"}, \"mode\": \"markers\", \"name\": \"BTV\", \"orientation\": \"v\", \"showlegend\": true, \"type\": \"scatter\", \"x\": [15], \"xaxis\": \"x\", \"y\": [4.533333333333333], \"yaxis\": \"y\"}, {\"hovertemplate\": \"color=BUF<br>x=%{x}<br>y=%{y}<extra></extra>\", \"legendgroup\": \"BUF\", \"marker\": {\"color\": \"#FF6692\", \"symbol\": \"circle\"}, \"mode\": \"markers\", \"name\": \"BUF\", \"orientation\": \"v\", \"showlegend\": true, \"type\": \"scatter\", \"x\": [37], \"xaxis\": \"x\", \"y\": [5.297297297297297], \"yaxis\": \"y\"}, {\"hovertemplate\": \"color=BUR<br>x=%{x}<br>y=%{y}<extra></extra>\", \"legendgroup\": \"BUR\", \"marker\": {\"color\": \"#B6E880\", \"symbol\": \"circle\"}, \"mode\": \"markers\", \"name\": \"BUR\", \"orientation\": \"v\", \"showlegend\": true, \"type\": \"scatter\", \"x\": [32], \"xaxis\": \"x\", \"y\": [3.625], \"yaxis\": \"y\"}, {\"hovertemplate\": \"color=BWI<br>x=%{x}<br>y=%{y}<extra></extra>\", \"legendgroup\": \"BWI\", \"marker\": {\"color\": \"#FF97FF\", \"symbol\": \"circle\"}, \"mode\": \"markers\", \"name\": \"BWI\", \"orientation\": \"v\", \"showlegend\": true, \"type\": \"scatter\", \"x\": [130], \"xaxis\": \"x\", \"y\": [6.2], \"yaxis\": \"y\"}, {\"hovertemplate\": \"color=BZN<br>x=%{x}<br>y=%{y}<extra></extra>\", \"legendgroup\": \"BZN\", \"marker\": {\"color\": \"#FECB52\", \"symbol\": \"circle\"}, \"mode\": \"markers\", \"name\": \"BZN\", \"orientation\": \"v\", \"showlegend\": true, \"type\": \"scatter\", \"x\": [6], \"xaxis\": \"x\", \"y\": [6.666666666666667], \"yaxis\": \"y\"}, {\"hovertemplate\": \"color=CAE<br>x=%{x}<br>y=%{y}<extra></extra>\", \"legendgroup\": \"CAE\", \"marker\": {\"color\": \"#636efa\", \"symbol\": \"circle\"}, \"mode\": \"markers\", \"name\": \"CAE\", \"orientation\": \"v\", \"showlegend\": true, \"type\": \"scatter\", \"x\": [12], \"xaxis\": \"x\", \"y\": [4.416666666666667], \"yaxis\": \"y\"}, {\"hovertemplate\": \"color=CAK<br>x=%{x}<br>y=%{y}<extra></extra>\", \"legendgroup\": \"CAK\", \"marker\": {\"color\": \"#EF553B\", \"symbol\": \"circle\"}, \"mode\": \"markers\", \"name\": \"CAK\", \"orientation\": \"v\", \"showlegend\": true, \"type\": \"scatter\", \"x\": [6], \"xaxis\": \"x\", \"y\": [5.0], \"yaxis\": \"y\"}, {\"hovertemplate\": \"color=CDC<br>x=%{x}<br>y=%{y}<extra></extra>\", \"legendgroup\": \"CDC\", \"marker\": {\"color\": \"#00cc96\", \"symbol\": \"circle\"}, \"mode\": \"markers\", \"name\": \"CDC\", \"orientation\": \"v\", \"showlegend\": true, \"type\": \"scatter\", \"x\": [2], \"xaxis\": \"x\", \"y\": [2.5], \"yaxis\": \"y\"}, {\"hovertemplate\": \"color=CDV<br>x=%{x}<br>y=%{y}<extra></extra>\", \"legendgroup\": \"CDV\", \"marker\": {\"color\": \"#ab63fa\", \"symbol\": \"circle\"}, \"mode\": \"markers\", \"name\": \"CDV\", \"orientation\": \"v\", \"showlegend\": true, \"type\": \"scatter\", \"x\": [2], \"xaxis\": \"x\", \"y\": [3.5], \"yaxis\": \"y\"}, {\"hovertemplate\": \"color=CGI<br>x=%{x}<br>y=%{y}<extra></extra>\", \"legendgroup\": \"CGI\", \"marker\": {\"color\": \"#FFA15A\", \"symbol\": \"circle\"}, \"mode\": \"markers\", \"name\": \"CGI\", \"orientation\": \"v\", \"showlegend\": true, \"type\": \"scatter\", \"x\": [1], \"xaxis\": \"x\", \"y\": [2.0], \"yaxis\": \"y\"}, {\"hovertemplate\": \"color=CHA<br>x=%{x}<br>y=%{y}<extra></extra>\", \"legendgroup\": \"CHA\", \"marker\": {\"color\": \"#19d3f3\", \"symbol\": \"circle\"}, \"mode\": \"markers\", \"name\": \"CHA\", \"orientation\": \"v\", \"showlegend\": true, \"type\": \"scatter\", \"x\": [10], \"xaxis\": \"x\", \"y\": [4.9], \"yaxis\": \"y\"}, {\"hovertemplate\": \"color=CHO<br>x=%{x}<br>y=%{y}<extra></extra>\", \"legendgroup\": \"CHO\", \"marker\": {\"color\": \"#FF6692\", \"symbol\": \"circle\"}, \"mode\": \"markers\", \"name\": \"CHO\", \"orientation\": \"v\", \"showlegend\": true, \"type\": \"scatter\", \"x\": [13], \"xaxis\": \"x\", \"y\": [4.3076923076923075], \"yaxis\": \"y\"}, {\"hovertemplate\": \"color=CHS<br>x=%{x}<br>y=%{y}<extra></extra>\", \"legendgroup\": \"CHS\", \"marker\": {\"color\": \"#B6E880\", \"symbol\": \"circle\"}, \"mode\": \"markers\", \"name\": \"CHS\", \"orientation\": \"v\", \"showlegend\": true, \"type\": \"scatter\", \"x\": [25], \"xaxis\": \"x\", \"y\": [6.64], \"yaxis\": \"y\"}, {\"hovertemplate\": \"color=CID<br>x=%{x}<br>y=%{y}<extra></extra>\", \"legendgroup\": \"CID\", \"marker\": {\"color\": \"#FF97FF\", \"symbol\": \"circle\"}, \"mode\": \"markers\", \"name\": \"CID\", \"orientation\": \"v\", \"showlegend\": true, \"type\": \"scatter\", \"x\": [18], \"xaxis\": \"x\", \"y\": [9.055555555555555], \"yaxis\": \"y\"}, {\"hovertemplate\": \"color=CLE<br>x=%{x}<br>y=%{y}<extra></extra>\", \"legendgroup\": \"CLE\", \"marker\": {\"color\": \"#FECB52\", \"symbol\": \"circle\"}, \"mode\": \"markers\", \"name\": \"CLE\", \"orientation\": \"v\", \"showlegend\": true, \"type\": \"scatter\", \"x\": [63], \"xaxis\": \"x\", \"y\": [6.825396825396825], \"yaxis\": \"y\"}, {\"hovertemplate\": \"color=CLL<br>x=%{x}<br>y=%{y}<extra></extra>\", \"legendgroup\": \"CLL\", \"marker\": {\"color\": \"#636efa\", \"symbol\": \"circle\"}, \"mode\": \"markers\", \"name\": \"CLL\", \"orientation\": \"v\", \"showlegend\": true, \"type\": \"scatter\", \"x\": [3], \"xaxis\": \"x\", \"y\": [3.0], \"yaxis\": \"y\"}, {\"hovertemplate\": \"color=CLT<br>x=%{x}<br>y=%{y}<extra></extra>\", \"legendgroup\": \"CLT\", \"marker\": {\"color\": \"#EF553B\", \"symbol\": \"circle\"}, \"mode\": \"markers\", \"name\": \"CLT\", \"orientation\": \"v\", \"showlegend\": true, \"type\": \"scatter\", \"x\": [306], \"xaxis\": \"x\", \"y\": [12.392156862745098], \"yaxis\": \"y\"}, {\"hovertemplate\": \"color=CMH<br>x=%{x}<br>y=%{y}<extra></extra>\", \"legendgroup\": \"CMH\", \"marker\": {\"color\": \"#00cc96\", \"symbol\": \"circle\"}, \"mode\": \"markers\", \"name\": \"CMH\", \"orientation\": \"v\", \"showlegend\": true, \"type\": \"scatter\", \"x\": [69], \"xaxis\": \"x\", \"y\": [5.492753623188406], \"yaxis\": \"y\"}, {\"hovertemplate\": \"color=CMI<br>x=%{x}<br>y=%{y}<extra></extra>\", \"legendgroup\": \"CMI\", \"marker\": {\"color\": \"#ab63fa\", \"symbol\": \"circle\"}, \"mode\": \"markers\", \"name\": \"CMI\", \"orientation\": \"v\", \"showlegend\": true, \"type\": \"scatter\", \"x\": [4], \"xaxis\": \"x\", \"y\": [7.5], \"yaxis\": \"y\"}, {\"hovertemplate\": \"color=CNY<br>x=%{x}<br>y=%{y}<extra></extra>\", \"legendgroup\": \"CNY\", \"marker\": {\"color\": \"#FFA15A\", \"symbol\": \"circle\"}, \"mode\": \"markers\", \"name\": \"CNY\", \"orientation\": \"v\", \"showlegend\": true, \"type\": \"scatter\", \"x\": [1], \"xaxis\": \"x\", \"y\": [2.0], \"yaxis\": \"y\"}, {\"hovertemplate\": \"color=COD<br>x=%{x}<br>y=%{y}<extra></extra>\", \"legendgroup\": \"COD\", \"marker\": {\"color\": \"#19d3f3\", \"symbol\": \"circle\"}, \"mode\": \"markers\", \"name\": \"COD\", \"orientation\": \"v\", \"showlegend\": true, \"type\": \"scatter\", \"x\": [3], \"xaxis\": \"x\", \"y\": [3.3333333333333335], \"yaxis\": \"y\"}, {\"hovertemplate\": \"color=COS<br>x=%{x}<br>y=%{y}<extra></extra>\", \"legendgroup\": \"COS\", \"marker\": {\"color\": \"#FF6692\", \"symbol\": \"circle\"}, \"mode\": \"markers\", \"name\": \"COS\", \"orientation\": \"v\", \"showlegend\": true, \"type\": \"scatter\", \"x\": [11], \"xaxis\": \"x\", \"y\": [7.0], \"yaxis\": \"y\"}, {\"hovertemplate\": \"color=COU<br>x=%{x}<br>y=%{y}<extra></extra>\", \"legendgroup\": \"COU\", \"marker\": {\"color\": \"#B6E880\", \"symbol\": \"circle\"}, \"mode\": \"markers\", \"name\": \"COU\", \"orientation\": \"v\", \"showlegend\": true, \"type\": \"scatter\", \"x\": [7], \"xaxis\": \"x\", \"y\": [3.857142857142857], \"yaxis\": \"y\"}, {\"hovertemplate\": \"color=CPR<br>x=%{x}<br>y=%{y}<extra></extra>\", \"legendgroup\": \"CPR\", \"marker\": {\"color\": \"#FF97FF\", \"symbol\": \"circle\"}, \"mode\": \"markers\", \"name\": \"CPR\", \"orientation\": \"v\", \"showlegend\": true, \"type\": \"scatter\", \"x\": [4], \"xaxis\": \"x\", \"y\": [3.75], \"yaxis\": \"y\"}, {\"hovertemplate\": \"color=CRP<br>x=%{x}<br>y=%{y}<extra></extra>\", \"legendgroup\": \"CRP\", \"marker\": {\"color\": \"#FECB52\", \"symbol\": \"circle\"}, \"mode\": \"markers\", \"name\": \"CRP\", \"orientation\": \"v\", \"showlegend\": true, \"type\": \"scatter\", \"x\": [6], \"xaxis\": \"x\", \"y\": [6.666666666666667], \"yaxis\": \"y\"}, {\"hovertemplate\": \"color=CRW<br>x=%{x}<br>y=%{y}<extra></extra>\", \"legendgroup\": \"CRW\", \"marker\": {\"color\": \"#636efa\", \"symbol\": \"circle\"}, \"mode\": \"markers\", \"name\": \"CRW\", \"orientation\": \"v\", \"showlegend\": true, \"type\": \"scatter\", \"x\": [5], \"xaxis\": \"x\", \"y\": [2.6], \"yaxis\": \"y\"}, {\"hovertemplate\": \"color=CSG<br>x=%{x}<br>y=%{y}<extra></extra>\", \"legendgroup\": \"CSG\", \"marker\": {\"color\": \"#EF553B\", \"symbol\": \"circle\"}, \"mode\": \"markers\", \"name\": \"CSG\", \"orientation\": \"v\", \"showlegend\": true, \"type\": \"scatter\", \"x\": [2], \"xaxis\": \"x\", \"y\": [3.5], \"yaxis\": \"y\"}, {\"hovertemplate\": \"color=CVG<br>x=%{x}<br>y=%{y}<extra></extra>\", \"legendgroup\": \"CVG\", \"marker\": {\"color\": \"#00cc96\", \"symbol\": \"circle\"}, \"mode\": \"markers\", \"name\": \"CVG\", \"orientation\": \"v\", \"showlegend\": true, \"type\": \"scatter\", \"x\": [63], \"xaxis\": \"x\", \"y\": [6.111111111111111], \"yaxis\": \"y\"}, {\"hovertemplate\": \"color=CWA<br>x=%{x}<br>y=%{y}<extra></extra>\", \"legendgroup\": \"CWA\", \"marker\": {\"color\": \"#ab63fa\", \"symbol\": \"circle\"}, \"mode\": \"markers\", \"name\": \"CWA\", \"orientation\": \"v\", \"showlegend\": true, \"type\": \"scatter\", \"x\": [5], \"xaxis\": \"x\", \"y\": [3.8], \"yaxis\": \"y\"}, {\"hovertemplate\": \"color=DAB<br>x=%{x}<br>y=%{y}<extra></extra>\", \"legendgroup\": \"DAB\", \"marker\": {\"color\": \"#FFA15A\", \"symbol\": \"circle\"}, \"mode\": \"markers\", \"name\": \"DAB\", \"orientation\": \"v\", \"showlegend\": true, \"type\": \"scatter\", \"x\": [8], \"xaxis\": \"x\", \"y\": [3.875], \"yaxis\": \"y\"}, {\"hovertemplate\": \"color=DAL<br>x=%{x}<br>y=%{y}<extra></extra>\", \"legendgroup\": \"DAL\", \"marker\": {\"color\": \"#19d3f3\", \"symbol\": \"circle\"}, \"mode\": \"markers\", \"name\": \"DAL\", \"orientation\": \"v\", \"showlegend\": true, \"type\": \"scatter\", \"x\": [92], \"xaxis\": \"x\", \"y\": [5.586956521739131], \"yaxis\": \"y\"}, {\"hovertemplate\": \"color=DAY<br>x=%{x}<br>y=%{y}<extra></extra>\", \"legendgroup\": \"DAY\", \"marker\": {\"color\": \"#FF6692\", \"symbol\": \"circle\"}, \"mode\": \"markers\", \"name\": \"DAY\", \"orientation\": \"v\", \"showlegend\": true, \"type\": \"scatter\", \"x\": [21], \"xaxis\": \"x\", \"y\": [4.238095238095238], \"yaxis\": \"y\"}, {\"hovertemplate\": \"color=DCA<br>x=%{x}<br>y=%{y}<extra></extra>\", \"legendgroup\": \"DCA\", \"marker\": {\"color\": \"#B6E880\", \"symbol\": \"circle\"}, \"mode\": \"markers\", \"name\": \"DCA\", \"orientation\": \"v\", \"showlegend\": true, \"type\": \"scatter\", \"x\": [178], \"xaxis\": \"x\", \"y\": [7.241573033707865], \"yaxis\": \"y\"}, {\"hovertemplate\": \"color=DEN<br>x=%{x}<br>y=%{y}<extra></extra>\", \"legendgroup\": \"DEN\", \"marker\": {\"color\": \"#FF97FF\", \"symbol\": \"circle\"}, \"mode\": \"markers\", \"name\": \"DEN\", \"orientation\": \"v\", \"showlegend\": true, \"type\": \"scatter\", \"x\": [353], \"xaxis\": \"x\", \"y\": [9.11614730878187], \"yaxis\": \"y\"}, {\"hovertemplate\": \"color=DFW<br>x=%{x}<br>y=%{y}<extra></extra>\", \"legendgroup\": \"DFW\", \"marker\": {\"color\": \"#FECB52\", \"symbol\": \"circle\"}, \"mode\": \"markers\", \"name\": \"DFW\", \"orientation\": \"v\", \"showlegend\": true, \"type\": \"scatter\", \"x\": [336], \"xaxis\": \"x\", \"y\": [11.75297619047619], \"yaxis\": \"y\"}, {\"hovertemplate\": \"color=DHN<br>x=%{x}<br>y=%{y}<extra></extra>\", \"legendgroup\": \"DHN\", \"marker\": {\"color\": \"#636efa\", \"symbol\": \"circle\"}, \"mode\": \"markers\", \"name\": \"DHN\", \"orientation\": \"v\", \"showlegend\": true, \"type\": \"scatter\", \"x\": [2], \"xaxis\": \"x\", \"y\": [4.5], \"yaxis\": \"y\"}, {\"hovertemplate\": \"color=DIK<br>x=%{x}<br>y=%{y}<extra></extra>\", \"legendgroup\": \"DIK\", \"marker\": {\"color\": \"#EF553B\", \"symbol\": \"circle\"}, \"mode\": \"markers\", \"name\": \"DIK\", \"orientation\": \"v\", \"showlegend\": true, \"type\": \"scatter\", \"x\": [2], \"xaxis\": \"x\", \"y\": [5.0], \"yaxis\": \"y\"}, {\"hovertemplate\": \"color=DLH<br>x=%{x}<br>y=%{y}<extra></extra>\", \"legendgroup\": \"DLH\", \"marker\": {\"color\": \"#00cc96\", \"symbol\": \"circle\"}, \"mode\": \"markers\", \"name\": \"DLH\", \"orientation\": \"v\", \"showlegend\": true, \"type\": \"scatter\", \"x\": [3], \"xaxis\": \"x\", \"y\": [6.666666666666667], \"yaxis\": \"y\"}, {\"hovertemplate\": \"color=DRO<br>x=%{x}<br>y=%{y}<extra></extra>\", \"legendgroup\": \"DRO\", \"marker\": {\"color\": \"#ab63fa\", \"symbol\": \"circle\"}, \"mode\": \"markers\", \"name\": \"DRO\", \"orientation\": \"v\", \"showlegend\": true, \"type\": \"scatter\", \"x\": [5], \"xaxis\": \"x\", \"y\": [4.8], \"yaxis\": \"y\"}, {\"hovertemplate\": \"color=DSM<br>x=%{x}<br>y=%{y}<extra></extra>\", \"legendgroup\": \"DSM\", \"marker\": {\"color\": \"#FFA15A\", \"symbol\": \"circle\"}, \"mode\": \"markers\", \"name\": \"DSM\", \"orientation\": \"v\", \"showlegend\": true, \"type\": \"scatter\", \"x\": [19], \"xaxis\": \"x\", \"y\": [5.157894736842105], \"yaxis\": \"y\"}, {\"hovertemplate\": \"color=DTW<br>x=%{x}<br>y=%{y}<extra></extra>\", \"legendgroup\": \"DTW\", \"marker\": {\"color\": \"#19d3f3\", \"symbol\": \"circle\"}, \"mode\": \"markers\", \"name\": \"DTW\", \"orientation\": \"v\", \"showlegend\": true, \"type\": \"scatter\", \"x\": [208], \"xaxis\": \"x\", \"y\": [8.76923076923077], \"yaxis\": \"y\"}, {\"hovertemplate\": \"color=DUT<br>x=%{x}<br>y=%{y}<extra></extra>\", \"legendgroup\": \"DUT\", \"marker\": {\"color\": \"#FF6692\", \"symbol\": \"circle\"}, \"mode\": \"markers\", \"name\": \"DUT\", \"orientation\": \"v\", \"showlegend\": true, \"type\": \"scatter\", \"x\": [1], \"xaxis\": \"x\", \"y\": [3.0], \"yaxis\": \"y\"}, {\"hovertemplate\": \"color=EAR<br>x=%{x}<br>y=%{y}<extra></extra>\", \"legendgroup\": \"EAR\", \"marker\": {\"color\": \"#B6E880\", \"symbol\": \"circle\"}, \"mode\": \"markers\", \"name\": \"EAR\", \"orientation\": \"v\", \"showlegend\": true, \"type\": \"scatter\", \"x\": [1], \"xaxis\": \"x\", \"y\": [5.0], \"yaxis\": \"y\"}, {\"hovertemplate\": \"color=ECP<br>x=%{x}<br>y=%{y}<extra></extra>\", \"legendgroup\": \"ECP\", \"marker\": {\"color\": \"#FF97FF\", \"symbol\": \"circle\"}, \"mode\": \"markers\", \"name\": \"ECP\", \"orientation\": \"v\", \"showlegend\": true, \"type\": \"scatter\", \"x\": [4], \"xaxis\": \"x\", \"y\": [12.75], \"yaxis\": \"y\"}, {\"hovertemplate\": \"color=EGE<br>x=%{x}<br>y=%{y}<extra></extra>\", \"legendgroup\": \"EGE\", \"marker\": {\"color\": \"#FECB52\", \"symbol\": \"circle\"}, \"mode\": \"markers\", \"name\": \"EGE\", \"orientation\": \"v\", \"showlegend\": true, \"type\": \"scatter\", \"x\": [1], \"xaxis\": \"x\", \"y\": [3.0], \"yaxis\": \"y\"}, {\"hovertemplate\": \"color=EKO<br>x=%{x}<br>y=%{y}<extra></extra>\", \"legendgroup\": \"EKO\", \"marker\": {\"color\": \"#636efa\", \"symbol\": \"circle\"}, \"mode\": \"markers\", \"name\": \"EKO\", \"orientation\": \"v\", \"showlegend\": true, \"type\": \"scatter\", \"x\": [1], \"xaxis\": \"x\", \"y\": [6.0], \"yaxis\": \"y\"}, {\"hovertemplate\": \"color=ELM<br>x=%{x}<br>y=%{y}<extra></extra>\", \"legendgroup\": \"ELM\", \"marker\": {\"color\": \"#EF553B\", \"symbol\": \"circle\"}, \"mode\": \"markers\", \"name\": \"ELM\", \"orientation\": \"v\", \"showlegend\": true, \"type\": \"scatter\", \"x\": [2], \"xaxis\": \"x\", \"y\": [4.0], \"yaxis\": \"y\"}, {\"hovertemplate\": \"color=ELP<br>x=%{x}<br>y=%{y}<extra></extra>\", \"legendgroup\": \"ELP\", \"marker\": {\"color\": \"#00cc96\", \"symbol\": \"circle\"}, \"mode\": \"markers\", \"name\": \"ELP\", \"orientation\": \"v\", \"showlegend\": true, \"type\": \"scatter\", \"x\": [14], \"xaxis\": \"x\", \"y\": [4.0], \"yaxis\": \"y\"}, {\"hovertemplate\": \"color=ERI<br>x=%{x}<br>y=%{y}<extra></extra>\", \"legendgroup\": \"ERI\", \"marker\": {\"color\": \"#ab63fa\", \"symbol\": \"circle\"}, \"mode\": \"markers\", \"name\": \"ERI\", \"orientation\": \"v\", \"showlegend\": true, \"type\": \"scatter\", \"x\": [2], \"xaxis\": \"x\", \"y\": [3.5], \"yaxis\": \"y\"}, {\"hovertemplate\": \"color=EUG<br>x=%{x}<br>y=%{y}<extra></extra>\", \"legendgroup\": \"EUG\", \"marker\": {\"color\": \"#FFA15A\", \"symbol\": \"circle\"}, \"mode\": \"markers\", \"name\": \"EUG\", \"orientation\": \"v\", \"showlegend\": true, \"type\": \"scatter\", \"x\": [11], \"xaxis\": \"x\", \"y\": [5.090909090909091], \"yaxis\": \"y\"}, {\"hovertemplate\": \"color=EVV<br>x=%{x}<br>y=%{y}<extra></extra>\", \"legendgroup\": \"EVV\", \"marker\": {\"color\": \"#19d3f3\", \"symbol\": \"circle\"}, \"mode\": \"markers\", \"name\": \"EVV\", \"orientation\": \"v\", \"showlegend\": true, \"type\": \"scatter\", \"x\": [9], \"xaxis\": \"x\", \"y\": [4.222222222222222], \"yaxis\": \"y\"}, {\"hovertemplate\": \"color=EWN<br>x=%{x}<br>y=%{y}<extra></extra>\", \"legendgroup\": \"EWN\", \"marker\": {\"color\": \"#FF6692\", \"symbol\": \"circle\"}, \"mode\": \"markers\", \"name\": \"EWN\", \"orientation\": \"v\", \"showlegend\": true, \"type\": \"scatter\", \"x\": [6], \"xaxis\": \"x\", \"y\": [2.8333333333333335], \"yaxis\": \"y\"}, {\"hovertemplate\": \"color=EWR<br>x=%{x}<br>y=%{y}<extra></extra>\", \"legendgroup\": \"EWR\", \"marker\": {\"color\": \"#B6E880\", \"symbol\": \"circle\"}, \"mode\": \"markers\", \"name\": \"EWR\", \"orientation\": \"v\", \"showlegend\": true, \"type\": \"scatter\", \"x\": [192], \"xaxis\": \"x\", \"y\": [9.916666666666666], \"yaxis\": \"y\"}, {\"hovertemplate\": \"color=EYW<br>x=%{x}<br>y=%{y}<extra></extra>\", \"legendgroup\": \"EYW\", \"marker\": {\"color\": \"#FF97FF\", \"symbol\": \"circle\"}, \"mode\": \"markers\", \"name\": \"EYW\", \"orientation\": \"v\", \"showlegend\": true, \"type\": \"scatter\", \"x\": [7], \"xaxis\": \"x\", \"y\": [3.0], \"yaxis\": \"y\"}, {\"hovertemplate\": \"color=FAI<br>x=%{x}<br>y=%{y}<extra></extra>\", \"legendgroup\": \"FAI\", \"marker\": {\"color\": \"#FECB52\", \"symbol\": \"circle\"}, \"mode\": \"markers\", \"name\": \"FAI\", \"orientation\": \"v\", \"showlegend\": true, \"type\": \"scatter\", \"x\": [3], \"xaxis\": \"x\", \"y\": [4.333333333333333], \"yaxis\": \"y\"}, {\"hovertemplate\": \"color=FAR<br>x=%{x}<br>y=%{y}<extra></extra>\", \"legendgroup\": \"FAR\", \"marker\": {\"color\": \"#636efa\", \"symbol\": \"circle\"}, \"mode\": \"markers\", \"name\": \"FAR\", \"orientation\": \"v\", \"showlegend\": true, \"type\": \"scatter\", \"x\": [11], \"xaxis\": \"x\", \"y\": [6.181818181818182], \"yaxis\": \"y\"}, {\"hovertemplate\": \"color=FAT<br>x=%{x}<br>y=%{y}<extra></extra>\", \"legendgroup\": \"FAT\", \"marker\": {\"color\": \"#EF553B\", \"symbol\": \"circle\"}, \"mode\": \"markers\", \"name\": \"FAT\", \"orientation\": \"v\", \"showlegend\": true, \"type\": \"scatter\", \"x\": [8], \"xaxis\": \"x\", \"y\": [5.75], \"yaxis\": \"y\"}, {\"hovertemplate\": \"color=FAY<br>x=%{x}<br>y=%{y}<extra></extra>\", \"legendgroup\": \"FAY\", \"marker\": {\"color\": \"#00cc96\", \"symbol\": \"circle\"}, \"mode\": \"markers\", \"name\": \"FAY\", \"orientation\": \"v\", \"showlegend\": true, \"type\": \"scatter\", \"x\": [5], \"xaxis\": \"x\", \"y\": [4.6], \"yaxis\": \"y\"}, {\"hovertemplate\": \"color=FCA<br>x=%{x}<br>y=%{y}<extra></extra>\", \"legendgroup\": \"FCA\", \"marker\": {\"color\": \"#ab63fa\", \"symbol\": \"circle\"}, \"mode\": \"markers\", \"name\": \"FCA\", \"orientation\": \"v\", \"showlegend\": true, \"type\": \"scatter\", \"x\": [5], \"xaxis\": \"x\", \"y\": [4.0], \"yaxis\": \"y\"}, {\"hovertemplate\": \"color=FLG<br>x=%{x}<br>y=%{y}<extra></extra>\", \"legendgroup\": \"FLG\", \"marker\": {\"color\": \"#FFA15A\", \"symbol\": \"circle\"}, \"mode\": \"markers\", \"name\": \"FLG\", \"orientation\": \"v\", \"showlegend\": true, \"type\": \"scatter\", \"x\": [2], \"xaxis\": \"x\", \"y\": [3.5], \"yaxis\": \"y\"}, {\"hovertemplate\": \"color=FLL<br>x=%{x}<br>y=%{y}<extra></extra>\", \"legendgroup\": \"FLL\", \"marker\": {\"color\": \"#19d3f3\", \"symbol\": \"circle\"}, \"mode\": \"markers\", \"name\": \"FLL\", \"orientation\": \"v\", \"showlegend\": true, \"type\": \"scatter\", \"x\": [121], \"xaxis\": \"x\", \"y\": [6.991735537190083], \"yaxis\": \"y\"}, {\"hovertemplate\": \"color=FLO<br>x=%{x}<br>y=%{y}<extra></extra>\", \"legendgroup\": \"FLO\", \"marker\": {\"color\": \"#FF6692\", \"symbol\": \"circle\"}, \"mode\": \"markers\", \"name\": \"FLO\", \"orientation\": \"v\", \"showlegend\": true, \"type\": \"scatter\", \"x\": [3], \"xaxis\": \"x\", \"y\": [7.333333333333333], \"yaxis\": \"y\"}, {\"hovertemplate\": \"color=FNT<br>x=%{x}<br>y=%{y}<extra></extra>\", \"legendgroup\": \"FNT\", \"marker\": {\"color\": \"#B6E880\", \"symbol\": \"circle\"}, \"mode\": \"markers\", \"name\": \"FNT\", \"orientation\": \"v\", \"showlegend\": true, \"type\": \"scatter\", \"x\": [6], \"xaxis\": \"x\", \"y\": [3.8333333333333335], \"yaxis\": \"y\"}, {\"hovertemplate\": \"color=FSD<br>x=%{x}<br>y=%{y}<extra></extra>\", \"legendgroup\": \"FSD\", \"marker\": {\"color\": \"#FF97FF\", \"symbol\": \"circle\"}, \"mode\": \"markers\", \"name\": \"FSD\", \"orientation\": \"v\", \"showlegend\": true, \"type\": \"scatter\", \"x\": [10], \"xaxis\": \"x\", \"y\": [10.8], \"yaxis\": \"y\"}, {\"hovertemplate\": \"color=FSM<br>x=%{x}<br>y=%{y}<extra></extra>\", \"legendgroup\": \"FSM\", \"marker\": {\"color\": \"#FECB52\", \"symbol\": \"circle\"}, \"mode\": \"markers\", \"name\": \"FSM\", \"orientation\": \"v\", \"showlegend\": true, \"type\": \"scatter\", \"x\": [4], \"xaxis\": \"x\", \"y\": [12.25], \"yaxis\": \"y\"}, {\"hovertemplate\": \"color=FWA<br>x=%{x}<br>y=%{y}<extra></extra>\", \"legendgroup\": \"FWA\", \"marker\": {\"color\": \"#636efa\", \"symbol\": \"circle\"}, \"mode\": \"markers\", \"name\": \"FWA\", \"orientation\": \"v\", \"showlegend\": true, \"type\": \"scatter\", \"x\": [7], \"xaxis\": \"x\", \"y\": [6.714285714285714], \"yaxis\": \"y\"}, {\"hovertemplate\": \"color=GCK<br>x=%{x}<br>y=%{y}<extra></extra>\", \"legendgroup\": \"GCK\", \"marker\": {\"color\": \"#EF553B\", \"symbol\": \"circle\"}, \"mode\": \"markers\", \"name\": \"GCK\", \"orientation\": \"v\", \"showlegend\": true, \"type\": \"scatter\", \"x\": [1], \"xaxis\": \"x\", \"y\": [3.0], \"yaxis\": \"y\"}, {\"hovertemplate\": \"color=GEG<br>x=%{x}<br>y=%{y}<extra></extra>\", \"legendgroup\": \"GEG\", \"marker\": {\"color\": \"#00cc96\", \"symbol\": \"circle\"}, \"mode\": \"markers\", \"name\": \"GEG\", \"orientation\": \"v\", \"showlegend\": true, \"type\": \"scatter\", \"x\": [29], \"xaxis\": \"x\", \"y\": [4.0344827586206895], \"yaxis\": \"y\"}, {\"hovertemplate\": \"color=GFK<br>x=%{x}<br>y=%{y}<extra></extra>\", \"legendgroup\": \"GFK\", \"marker\": {\"color\": \"#ab63fa\", \"symbol\": \"circle\"}, \"mode\": \"markers\", \"name\": \"GFK\", \"orientation\": \"v\", \"showlegend\": true, \"type\": \"scatter\", \"x\": [1], \"xaxis\": \"x\", \"y\": [6.0], \"yaxis\": \"y\"}, {\"hovertemplate\": \"color=GJT<br>x=%{x}<br>y=%{y}<extra></extra>\", \"legendgroup\": \"GJT\", \"marker\": {\"color\": \"#FFA15A\", \"symbol\": \"circle\"}, \"mode\": \"markers\", \"name\": \"GJT\", \"orientation\": \"v\", \"showlegend\": true, \"type\": \"scatter\", \"x\": [5], \"xaxis\": \"x\", \"y\": [3.2], \"yaxis\": \"y\"}, {\"hovertemplate\": \"color=GNV<br>x=%{x}<br>y=%{y}<extra></extra>\", \"legendgroup\": \"GNV\", \"marker\": {\"color\": \"#19d3f3\", \"symbol\": \"circle\"}, \"mode\": \"markers\", \"name\": \"GNV\", \"orientation\": \"v\", \"showlegend\": true, \"type\": \"scatter\", \"x\": [3], \"xaxis\": \"x\", \"y\": [4.0], \"yaxis\": \"y\"}, {\"hovertemplate\": \"color=GPT<br>x=%{x}<br>y=%{y}<extra></extra>\", \"legendgroup\": \"GPT\", \"marker\": {\"color\": \"#FF6692\", \"symbol\": \"circle\"}, \"mode\": \"markers\", \"name\": \"GPT\", \"orientation\": \"v\", \"showlegend\": true, \"type\": \"scatter\", \"x\": [4], \"xaxis\": \"x\", \"y\": [4.0], \"yaxis\": \"y\"}, {\"hovertemplate\": \"color=GRB<br>x=%{x}<br>y=%{y}<extra></extra>\", \"legendgroup\": \"GRB\", \"marker\": {\"color\": \"#B6E880\", \"symbol\": \"circle\"}, \"mode\": \"markers\", \"name\": \"GRB\", \"orientation\": \"v\", \"showlegend\": true, \"type\": \"scatter\", \"x\": [3], \"xaxis\": \"x\", \"y\": [5.0], \"yaxis\": \"y\"}, {\"hovertemplate\": \"color=GRI<br>x=%{x}<br>y=%{y}<extra></extra>\", \"legendgroup\": \"GRI\", \"marker\": {\"color\": \"#FF97FF\", \"symbol\": \"circle\"}, \"mode\": \"markers\", \"name\": \"GRI\", \"orientation\": \"v\", \"showlegend\": true, \"type\": \"scatter\", \"x\": [2], \"xaxis\": \"x\", \"y\": [5.0], \"yaxis\": \"y\"}, {\"hovertemplate\": \"color=GRK<br>x=%{x}<br>y=%{y}<extra></extra>\", \"legendgroup\": \"GRK\", \"marker\": {\"color\": \"#FECB52\", \"symbol\": \"circle\"}, \"mode\": \"markers\", \"name\": \"GRK\", \"orientation\": \"v\", \"showlegend\": true, \"type\": \"scatter\", \"x\": [3], \"xaxis\": \"x\", \"y\": [3.0], \"yaxis\": \"y\"}, {\"hovertemplate\": \"color=GRR<br>x=%{x}<br>y=%{y}<extra></extra>\", \"legendgroup\": \"GRR\", \"marker\": {\"color\": \"#636efa\", \"symbol\": \"circle\"}, \"mode\": \"markers\", \"name\": \"GRR\", \"orientation\": \"v\", \"showlegend\": true, \"type\": \"scatter\", \"x\": [26], \"xaxis\": \"x\", \"y\": [5.615384615384615], \"yaxis\": \"y\"}, {\"hovertemplate\": \"color=GSO<br>x=%{x}<br>y=%{y}<extra></extra>\", \"legendgroup\": \"GSO\", \"marker\": {\"color\": \"#EF553B\", \"symbol\": \"circle\"}, \"mode\": \"markers\", \"name\": \"GSO\", \"orientation\": \"v\", \"showlegend\": true, \"type\": \"scatter\", \"x\": [21], \"xaxis\": \"x\", \"y\": [6.904761904761905], \"yaxis\": \"y\"}, {\"hovertemplate\": \"color=GSP<br>x=%{x}<br>y=%{y}<extra></extra>\", \"legendgroup\": \"GSP\", \"marker\": {\"color\": \"#00cc96\", \"symbol\": \"circle\"}, \"mode\": \"markers\", \"name\": \"GSP\", \"orientation\": \"v\", \"showlegend\": true, \"type\": \"scatter\", \"x\": [21], \"xaxis\": \"x\", \"y\": [4.333333333333333], \"yaxis\": \"y\"}, {\"hovertemplate\": \"color=GTF<br>x=%{x}<br>y=%{y}<extra></extra>\", \"legendgroup\": \"GTF\", \"marker\": {\"color\": \"#ab63fa\", \"symbol\": \"circle\"}, \"mode\": \"markers\", \"name\": \"GTF\", \"orientation\": \"v\", \"showlegend\": true, \"type\": \"scatter\", \"x\": [2], \"xaxis\": \"x\", \"y\": [3.0], \"yaxis\": \"y\"}, {\"hovertemplate\": \"color=GTR<br>x=%{x}<br>y=%{y}<extra></extra>\", \"legendgroup\": \"GTR\", \"marker\": {\"color\": \"#FFA15A\", \"symbol\": \"circle\"}, \"mode\": \"markers\", \"name\": \"GTR\", \"orientation\": \"v\", \"showlegend\": true, \"type\": \"scatter\", \"x\": [1], \"xaxis\": \"x\", \"y\": [2.0], \"yaxis\": \"y\"}, {\"hovertemplate\": \"color=GUC<br>x=%{x}<br>y=%{y}<extra></extra>\", \"legendgroup\": \"GUC\", \"marker\": {\"color\": \"#19d3f3\", \"symbol\": \"circle\"}, \"mode\": \"markers\", \"name\": \"GUC\", \"orientation\": \"v\", \"showlegend\": true, \"type\": \"scatter\", \"x\": [1], \"xaxis\": \"x\", \"y\": [4.0], \"yaxis\": \"y\"}, {\"hovertemplate\": \"color=GUM<br>x=%{x}<br>y=%{y}<extra></extra>\", \"legendgroup\": \"GUM\", \"marker\": {\"color\": \"#FF6692\", \"symbol\": \"circle\"}, \"mode\": \"markers\", \"name\": \"GUM\", \"orientation\": \"v\", \"showlegend\": true, \"type\": \"scatter\", \"x\": [3], \"xaxis\": \"x\", \"y\": [3.0], \"yaxis\": \"y\"}, {\"hovertemplate\": \"color=HDN<br>x=%{x}<br>y=%{y}<extra></extra>\", \"legendgroup\": \"HDN\", \"marker\": {\"color\": \"#B6E880\", \"symbol\": \"circle\"}, \"mode\": \"markers\", \"name\": \"HDN\", \"orientation\": \"v\", \"showlegend\": true, \"type\": \"scatter\", \"x\": [3], \"xaxis\": \"x\", \"y\": [3.3333333333333335], \"yaxis\": \"y\"}, {\"hovertemplate\": \"color=HGR<br>x=%{x}<br>y=%{y}<extra></extra>\", \"legendgroup\": \"HGR\", \"marker\": {\"color\": \"#FF97FF\", \"symbol\": \"circle\"}, \"mode\": \"markers\", \"name\": \"HGR\", \"orientation\": \"v\", \"showlegend\": true, \"type\": \"scatter\", \"x\": [1], \"xaxis\": \"x\", \"y\": [5.0], \"yaxis\": \"y\"}, {\"hovertemplate\": \"color=HHH<br>x=%{x}<br>y=%{y}<extra></extra>\", \"legendgroup\": \"HHH\", \"marker\": {\"color\": \"#FECB52\", \"symbol\": \"circle\"}, \"mode\": \"markers\", \"name\": \"HHH\", \"orientation\": \"v\", \"showlegend\": true, \"type\": \"scatter\", \"x\": [1], \"xaxis\": \"x\", \"y\": [10.0], \"yaxis\": \"y\"}, {\"hovertemplate\": \"color=HIB<br>x=%{x}<br>y=%{y}<extra></extra>\", \"legendgroup\": \"HIB\", \"marker\": {\"color\": \"#636efa\", \"symbol\": \"circle\"}, \"mode\": \"markers\", \"name\": \"HIB\", \"orientation\": \"v\", \"showlegend\": true, \"type\": \"scatter\", \"x\": [2], \"xaxis\": \"x\", \"y\": [2.5], \"yaxis\": \"y\"}, {\"hovertemplate\": \"color=HLN<br>x=%{x}<br>y=%{y}<extra></extra>\", \"legendgroup\": \"HLN\", \"marker\": {\"color\": \"#EF553B\", \"symbol\": \"circle\"}, \"mode\": \"markers\", \"name\": \"HLN\", \"orientation\": \"v\", \"showlegend\": true, \"type\": \"scatter\", \"x\": [4], \"xaxis\": \"x\", \"y\": [2.0], \"yaxis\": \"y\"}, {\"hovertemplate\": \"color=HNL<br>x=%{x}<br>y=%{y}<extra></extra>\", \"legendgroup\": \"HNL\", \"marker\": {\"color\": \"#00cc96\", \"symbol\": \"circle\"}, \"mode\": \"markers\", \"name\": \"HNL\", \"orientation\": \"v\", \"showlegend\": true, \"type\": \"scatter\", \"x\": [70], \"xaxis\": \"x\", \"y\": [7.814285714285714], \"yaxis\": \"y\"}, {\"hovertemplate\": \"color=HOB<br>x=%{x}<br>y=%{y}<extra></extra>\", \"legendgroup\": \"HOB\", \"marker\": {\"color\": \"#ab63fa\", \"symbol\": \"circle\"}, \"mode\": \"markers\", \"name\": \"HOB\", \"orientation\": \"v\", \"showlegend\": true, \"type\": \"scatter\", \"x\": [1], \"xaxis\": \"x\", \"y\": [4.0], \"yaxis\": \"y\"}, {\"hovertemplate\": \"color=HOU<br>x=%{x}<br>y=%{y}<extra></extra>\", \"legendgroup\": \"HOU\", \"marker\": {\"color\": \"#FFA15A\", \"symbol\": \"circle\"}, \"mode\": \"markers\", \"name\": \"HOU\", \"orientation\": \"v\", \"showlegend\": true, \"type\": \"scatter\", \"x\": [70], \"xaxis\": \"x\", \"y\": [5.728571428571429], \"yaxis\": \"y\"}, {\"hovertemplate\": \"color=HPN<br>x=%{x}<br>y=%{y}<extra></extra>\", \"legendgroup\": \"HPN\", \"marker\": {\"color\": \"#19d3f3\", \"symbol\": \"circle\"}, \"mode\": \"markers\", \"name\": \"HPN\", \"orientation\": \"v\", \"showlegend\": true, \"type\": \"scatter\", \"x\": [13], \"xaxis\": \"x\", \"y\": [5.230769230769231], \"yaxis\": \"y\"}, {\"hovertemplate\": \"color=HRL<br>x=%{x}<br>y=%{y}<extra></extra>\", \"legendgroup\": \"HRL\", \"marker\": {\"color\": \"#FF6692\", \"symbol\": \"circle\"}, \"mode\": \"markers\", \"name\": \"HRL\", \"orientation\": \"v\", \"showlegend\": true, \"type\": \"scatter\", \"x\": [5], \"xaxis\": \"x\", \"y\": [2.8], \"yaxis\": \"y\"}, {\"hovertemplate\": \"color=HSV<br>x=%{x}<br>y=%{y}<extra></extra>\", \"legendgroup\": \"HSV\", \"marker\": {\"color\": \"#B6E880\", \"symbol\": \"circle\"}, \"mode\": \"markers\", \"name\": \"HSV\", \"orientation\": \"v\", \"showlegend\": true, \"type\": \"scatter\", \"x\": [14], \"xaxis\": \"x\", \"y\": [5.428571428571429], \"yaxis\": \"y\"}, {\"hovertemplate\": \"color=HTS<br>x=%{x}<br>y=%{y}<extra></extra>\", \"legendgroup\": \"HTS\", \"marker\": {\"color\": \"#FF97FF\", \"symbol\": \"circle\"}, \"mode\": \"markers\", \"name\": \"HTS\", \"orientation\": \"v\", \"showlegend\": true, \"type\": \"scatter\", \"x\": [5], \"xaxis\": \"x\", \"y\": [6.6], \"yaxis\": \"y\"}, {\"hovertemplate\": \"color=HYS<br>x=%{x}<br>y=%{y}<extra></extra>\", \"legendgroup\": \"HYS\", \"marker\": {\"color\": \"#FECB52\", \"symbol\": \"circle\"}, \"mode\": \"markers\", \"name\": \"HYS\", \"orientation\": \"v\", \"showlegend\": true, \"type\": \"scatter\", \"x\": [1], \"xaxis\": \"x\", \"y\": [6.0], \"yaxis\": \"y\"}, {\"hovertemplate\": \"color=IAD<br>x=%{x}<br>y=%{y}<extra></extra>\", \"legendgroup\": \"IAD\", \"marker\": {\"color\": \"#636efa\", \"symbol\": \"circle\"}, \"mode\": \"markers\", \"name\": \"IAD\", \"orientation\": \"v\", \"showlegend\": true, \"type\": \"scatter\", \"x\": [123], \"xaxis\": \"x\", \"y\": [6.235772357723577], \"yaxis\": \"y\"}, {\"hovertemplate\": \"color=IAH<br>x=%{x}<br>y=%{y}<extra></extra>\", \"legendgroup\": \"IAH\", \"marker\": {\"color\": \"#EF553B\", \"symbol\": \"circle\"}, \"mode\": \"markers\", \"name\": \"IAH\", \"orientation\": \"v\", \"showlegend\": true, \"type\": \"scatter\", \"x\": [198], \"xaxis\": \"x\", \"y\": [9.282828282828282], \"yaxis\": \"y\"}, {\"hovertemplate\": \"color=ICT<br>x=%{x}<br>y=%{y}<extra></extra>\", \"legendgroup\": \"ICT\", \"marker\": {\"color\": \"#00cc96\", \"symbol\": \"circle\"}, \"mode\": \"markers\", \"name\": \"ICT\", \"orientation\": \"v\", \"showlegend\": true, \"type\": \"scatter\", \"x\": [14], \"xaxis\": \"x\", \"y\": [4.928571428571429], \"yaxis\": \"y\"}, {\"hovertemplate\": \"color=IDA<br>x=%{x}<br>y=%{y}<extra></extra>\", \"legendgroup\": \"IDA\", \"marker\": {\"color\": \"#ab63fa\", \"symbol\": \"circle\"}, \"mode\": \"markers\", \"name\": \"IDA\", \"orientation\": \"v\", \"showlegend\": true, \"type\": \"scatter\", \"x\": [2], \"xaxis\": \"x\", \"y\": [4.0], \"yaxis\": \"y\"}, {\"hovertemplate\": \"color=ILM<br>x=%{x}<br>y=%{y}<extra></extra>\", \"legendgroup\": \"ILM\", \"marker\": {\"color\": \"#FFA15A\", \"symbol\": \"circle\"}, \"mode\": \"markers\", \"name\": \"ILM\", \"orientation\": \"v\", \"showlegend\": true, \"type\": \"scatter\", \"x\": [14], \"xaxis\": \"x\", \"y\": [3.9285714285714284], \"yaxis\": \"y\"}, {\"hovertemplate\": \"color=IMT<br>x=%{x}<br>y=%{y}<extra></extra>\", \"legendgroup\": \"IMT\", \"marker\": {\"color\": \"#19d3f3\", \"symbol\": \"circle\"}, \"mode\": \"markers\", \"name\": \"IMT\", \"orientation\": \"v\", \"showlegend\": true, \"type\": \"scatter\", \"x\": [2], \"xaxis\": \"x\", \"y\": [5.5], \"yaxis\": \"y\"}, {\"hovertemplate\": \"color=IND<br>x=%{x}<br>y=%{y}<extra></extra>\", \"legendgroup\": \"IND\", \"marker\": {\"color\": \"#FF6692\", \"symbol\": \"circle\"}, \"mode\": \"markers\", \"name\": \"IND\", \"orientation\": \"v\", \"showlegend\": true, \"type\": \"scatter\", \"x\": [73], \"xaxis\": \"x\", \"y\": [6.493150684931507], \"yaxis\": \"y\"}, {\"hovertemplate\": \"color=INL<br>x=%{x}<br>y=%{y}<extra></extra>\", \"legendgroup\": \"INL\", \"marker\": {\"color\": \"#B6E880\", \"symbol\": \"circle\"}, \"mode\": \"markers\", \"name\": \"INL\", \"orientation\": \"v\", \"showlegend\": true, \"type\": \"scatter\", \"x\": [1], \"xaxis\": \"x\", \"y\": [3.0], \"yaxis\": \"y\"}, {\"hovertemplate\": \"color=ISP<br>x=%{x}<br>y=%{y}<extra></extra>\", \"legendgroup\": \"ISP\", \"marker\": {\"color\": \"#FF97FF\", \"symbol\": \"circle\"}, \"mode\": \"markers\", \"name\": \"ISP\", \"orientation\": \"v\", \"showlegend\": true, \"type\": \"scatter\", \"x\": [15], \"xaxis\": \"x\", \"y\": [4.466666666666667], \"yaxis\": \"y\"}, {\"hovertemplate\": \"color=ITH<br>x=%{x}<br>y=%{y}<extra></extra>\", \"legendgroup\": \"ITH\", \"marker\": {\"color\": \"#FECB52\", \"symbol\": \"circle\"}, \"mode\": \"markers\", \"name\": \"ITH\", \"orientation\": \"v\", \"showlegend\": true, \"type\": \"scatter\", \"x\": [3], \"xaxis\": \"x\", \"y\": [5.0], \"yaxis\": \"y\"}, {\"hovertemplate\": \"color=ITO<br>x=%{x}<br>y=%{y}<extra></extra>\", \"legendgroup\": \"ITO\", \"marker\": {\"color\": \"#636efa\", \"symbol\": \"circle\"}, \"mode\": \"markers\", \"name\": \"ITO\", \"orientation\": \"v\", \"showlegend\": true, \"type\": \"scatter\", \"x\": [6], \"xaxis\": \"x\", \"y\": [4.833333333333333], \"yaxis\": \"y\"}, {\"hovertemplate\": \"color=JAC<br>x=%{x}<br>y=%{y}<extra></extra>\", \"legendgroup\": \"JAC\", \"marker\": {\"color\": \"#EF553B\", \"symbol\": \"circle\"}, \"mode\": \"markers\", \"name\": \"JAC\", \"orientation\": \"v\", \"showlegend\": true, \"type\": \"scatter\", \"x\": [5], \"xaxis\": \"x\", \"y\": [3.0], \"yaxis\": \"y\"}, {\"hovertemplate\": \"color=JAN<br>x=%{x}<br>y=%{y}<extra></extra>\", \"legendgroup\": \"JAN\", \"marker\": {\"color\": \"#00cc96\", \"symbol\": \"circle\"}, \"mode\": \"markers\", \"name\": \"JAN\", \"orientation\": \"v\", \"showlegend\": true, \"type\": \"scatter\", \"x\": [14], \"xaxis\": \"x\", \"y\": [4.642857142857143], \"yaxis\": \"y\"}, {\"hovertemplate\": \"color=JAX<br>x=%{x}<br>y=%{y}<extra></extra>\", \"legendgroup\": \"JAX\", \"marker\": {\"color\": \"#ab63fa\", \"symbol\": \"circle\"}, \"mode\": \"markers\", \"name\": \"JAX\", \"orientation\": \"v\", \"showlegend\": true, \"type\": \"scatter\", \"x\": [41], \"xaxis\": \"x\", \"y\": [5.365853658536586], \"yaxis\": \"y\"}, {\"hovertemplate\": \"color=JFK<br>x=%{x}<br>y=%{y}<extra></extra>\", \"legendgroup\": \"JFK\", \"marker\": {\"color\": \"#FFA15A\", \"symbol\": \"circle\"}, \"mode\": \"markers\", \"name\": \"JFK\", \"orientation\": \"v\", \"showlegend\": true, \"type\": \"scatter\", \"x\": [168], \"xaxis\": \"x\", \"y\": [10.0], \"yaxis\": \"y\"}, {\"hovertemplate\": \"color=JNU<br>x=%{x}<br>y=%{y}<extra></extra>\", \"legendgroup\": \"JNU\", \"marker\": {\"color\": \"#19d3f3\", \"symbol\": \"circle\"}, \"mode\": \"markers\", \"name\": \"JNU\", \"orientation\": \"v\", \"showlegend\": true, \"type\": \"scatter\", \"x\": [10], \"xaxis\": \"x\", \"y\": [3.5], \"yaxis\": \"y\"}, {\"hovertemplate\": \"color=KOA<br>x=%{x}<br>y=%{y}<extra></extra>\", \"legendgroup\": \"KOA\", \"marker\": {\"color\": \"#FF6692\", \"symbol\": \"circle\"}, \"mode\": \"markers\", \"name\": \"KOA\", \"orientation\": \"v\", \"showlegend\": true, \"type\": \"scatter\", \"x\": [16], \"xaxis\": \"x\", \"y\": [4.75], \"yaxis\": \"y\"}, {\"hovertemplate\": \"color=KTN<br>x=%{x}<br>y=%{y}<extra></extra>\", \"legendgroup\": \"KTN\", \"marker\": {\"color\": \"#B6E880\", \"symbol\": \"circle\"}, \"mode\": \"markers\", \"name\": \"KTN\", \"orientation\": \"v\", \"showlegend\": true, \"type\": \"scatter\", \"x\": [3], \"xaxis\": \"x\", \"y\": [4.666666666666667], \"yaxis\": \"y\"}, {\"hovertemplate\": \"color=LAN<br>x=%{x}<br>y=%{y}<extra></extra>\", \"legendgroup\": \"LAN\", \"marker\": {\"color\": \"#FF97FF\", \"symbol\": \"circle\"}, \"mode\": \"markers\", \"name\": \"LAN\", \"orientation\": \"v\", \"showlegend\": true, \"type\": \"scatter\", \"x\": [2], \"xaxis\": \"x\", \"y\": [5.0], \"yaxis\": \"y\"}, {\"hovertemplate\": \"color=LAR<br>x=%{x}<br>y=%{y}<extra></extra>\", \"legendgroup\": \"LAR\", \"marker\": {\"color\": \"#FECB52\", \"symbol\": \"circle\"}, \"mode\": \"markers\", \"name\": \"LAR\", \"orientation\": \"v\", \"showlegend\": true, \"type\": \"scatter\", \"x\": [3], \"xaxis\": \"x\", \"y\": [4.0], \"yaxis\": \"y\"}, {\"hovertemplate\": \"color=LAS<br>x=%{x}<br>y=%{y}<extra></extra>\", \"legendgroup\": \"LAS\", \"marker\": {\"color\": \"#636efa\", \"symbol\": \"circle\"}, \"mode\": \"markers\", \"name\": \"LAS\", \"orientation\": \"v\", \"showlegend\": true, \"type\": \"scatter\", \"x\": [207], \"xaxis\": \"x\", \"y\": [7.004830917874396], \"yaxis\": \"y\"}, {\"hovertemplate\": \"color=LAW<br>x=%{x}<br>y=%{y}<extra></extra>\", \"legendgroup\": \"LAW\", \"marker\": {\"color\": \"#EF553B\", \"symbol\": \"circle\"}, \"mode\": \"markers\", \"name\": \"LAW\", \"orientation\": \"v\", \"showlegend\": true, \"type\": \"scatter\", \"x\": [1], \"xaxis\": \"x\", \"y\": [3.0], \"yaxis\": \"y\"}, {\"hovertemplate\": \"color=LAX<br>x=%{x}<br>y=%{y}<extra></extra>\", \"legendgroup\": \"LAX\", \"marker\": {\"color\": \"#00cc96\", \"symbol\": \"circle\"}, \"mode\": \"markers\", \"name\": \"LAX\", \"orientation\": \"v\", \"showlegend\": true, \"type\": \"scatter\", \"x\": [301], \"xaxis\": \"x\", \"y\": [12.275747508305647], \"yaxis\": \"y\"}, {\"hovertemplate\": \"color=LBB<br>x=%{x}<br>y=%{y}<extra></extra>\", \"legendgroup\": \"LBB\", \"marker\": {\"color\": \"#ab63fa\", \"symbol\": \"circle\"}, \"mode\": \"markers\", \"name\": \"LBB\", \"orientation\": \"v\", \"showlegend\": true, \"type\": \"scatter\", \"x\": [6], \"xaxis\": \"x\", \"y\": [3.5], \"yaxis\": \"y\"}, {\"hovertemplate\": \"color=LBE<br>x=%{x}<br>y=%{y}<extra></extra>\", \"legendgroup\": \"LBE\", \"marker\": {\"color\": \"#FFA15A\", \"symbol\": \"circle\"}, \"mode\": \"markers\", \"name\": \"LBE\", \"orientation\": \"v\", \"showlegend\": true, \"type\": \"scatter\", \"x\": [1], \"xaxis\": \"x\", \"y\": [6.0], \"yaxis\": \"y\"}, {\"hovertemplate\": \"color=LBF<br>x=%{x}<br>y=%{y}<extra></extra>\", \"legendgroup\": \"LBF\", \"marker\": {\"color\": \"#19d3f3\", \"symbol\": \"circle\"}, \"mode\": \"markers\", \"name\": \"LBF\", \"orientation\": \"v\", \"showlegend\": true, \"type\": \"scatter\", \"x\": [2], \"xaxis\": \"x\", \"y\": [7.0], \"yaxis\": \"y\"}, {\"hovertemplate\": \"color=LCK<br>x=%{x}<br>y=%{y}<extra></extra>\", \"legendgroup\": \"LCK\", \"marker\": {\"color\": \"#FF6692\", \"symbol\": \"circle\"}, \"mode\": \"markers\", \"name\": \"LCK\", \"orientation\": \"v\", \"showlegend\": true, \"type\": \"scatter\", \"x\": [2], \"xaxis\": \"x\", \"y\": [6.5], \"yaxis\": \"y\"}, {\"hovertemplate\": \"color=LEX<br>x=%{x}<br>y=%{y}<extra></extra>\", \"legendgroup\": \"LEX\", \"marker\": {\"color\": \"#B6E880\", \"symbol\": \"circle\"}, \"mode\": \"markers\", \"name\": \"LEX\", \"orientation\": \"v\", \"showlegend\": true, \"type\": \"scatter\", \"x\": [18], \"xaxis\": \"x\", \"y\": [5.222222222222222], \"yaxis\": \"y\"}, {\"hovertemplate\": \"color=LFT<br>x=%{x}<br>y=%{y}<extra></extra>\", \"legendgroup\": \"LFT\", \"marker\": {\"color\": \"#FF97FF\", \"symbol\": \"circle\"}, \"mode\": \"markers\", \"name\": \"LFT\", \"orientation\": \"v\", \"showlegend\": true, \"type\": \"scatter\", \"x\": [5], \"xaxis\": \"x\", \"y\": [5.6], \"yaxis\": \"y\"}, {\"hovertemplate\": \"color=LGA<br>x=%{x}<br>y=%{y}<extra></extra>\", \"legendgroup\": \"LGA\", \"marker\": {\"color\": \"#FECB52\", \"symbol\": \"circle\"}, \"mode\": \"markers\", \"name\": \"LGA\", \"orientation\": \"v\", \"showlegend\": true, \"type\": \"scatter\", \"x\": [217], \"xaxis\": \"x\", \"y\": [9.087557603686635], \"yaxis\": \"y\"}, {\"hovertemplate\": \"color=LGB<br>x=%{x}<br>y=%{y}<extra></extra>\", \"legendgroup\": \"LGB\", \"marker\": {\"color\": \"#636efa\", \"symbol\": \"circle\"}, \"mode\": \"markers\", \"name\": \"LGB\", \"orientation\": \"v\", \"showlegend\": true, \"type\": \"scatter\", \"x\": [31], \"xaxis\": \"x\", \"y\": [4.290322580645161], \"yaxis\": \"y\"}, {\"hovertemplate\": \"color=LIH<br>x=%{x}<br>y=%{y}<extra></extra>\", \"legendgroup\": \"LIH\", \"marker\": {\"color\": \"#EF553B\", \"symbol\": \"circle\"}, \"mode\": \"markers\", \"name\": \"LIH\", \"orientation\": \"v\", \"showlegend\": true, \"type\": \"scatter\", \"x\": [19], \"xaxis\": \"x\", \"y\": [5.894736842105263], \"yaxis\": \"y\"}, {\"hovertemplate\": \"color=LIT<br>x=%{x}<br>y=%{y}<extra></extra>\", \"legendgroup\": \"LIT\", \"marker\": {\"color\": \"#00cc96\", \"symbol\": \"circle\"}, \"mode\": \"markers\", \"name\": \"LIT\", \"orientation\": \"v\", \"showlegend\": true, \"type\": \"scatter\", \"x\": [21], \"xaxis\": \"x\", \"y\": [5.0476190476190474], \"yaxis\": \"y\"}, {\"hovertemplate\": \"color=LNK<br>x=%{x}<br>y=%{y}<extra></extra>\", \"legendgroup\": \"LNK\", \"marker\": {\"color\": \"#ab63fa\", \"symbol\": \"circle\"}, \"mode\": \"markers\", \"name\": \"LNK\", \"orientation\": \"v\", \"showlegend\": true, \"type\": \"scatter\", \"x\": [3], \"xaxis\": \"x\", \"y\": [3.6666666666666665], \"yaxis\": \"y\"}, {\"hovertemplate\": \"color=LNY<br>x=%{x}<br>y=%{y}<extra></extra>\", \"legendgroup\": \"LNY\", \"marker\": {\"color\": \"#FFA15A\", \"symbol\": \"circle\"}, \"mode\": \"markers\", \"name\": \"LNY\", \"orientation\": \"v\", \"showlegend\": true, \"type\": \"scatter\", \"x\": [1], \"xaxis\": \"x\", \"y\": [3.0], \"yaxis\": \"y\"}, {\"hovertemplate\": \"color=LRD<br>x=%{x}<br>y=%{y}<extra></extra>\", \"legendgroup\": \"LRD\", \"marker\": {\"color\": \"#19d3f3\", \"symbol\": \"circle\"}, \"mode\": \"markers\", \"name\": \"LRD\", \"orientation\": \"v\", \"showlegend\": true, \"type\": \"scatter\", \"x\": [5], \"xaxis\": \"x\", \"y\": [3.8], \"yaxis\": \"y\"}, {\"hovertemplate\": \"color=LSE<br>x=%{x}<br>y=%{y}<extra></extra>\", \"legendgroup\": \"LSE\", \"marker\": {\"color\": \"#FF6692\", \"symbol\": \"circle\"}, \"mode\": \"markers\", \"name\": \"LSE\", \"orientation\": \"v\", \"showlegend\": true, \"type\": \"scatter\", \"x\": [2], \"xaxis\": \"x\", \"y\": [3.5], \"yaxis\": \"y\"}, {\"hovertemplate\": \"color=LWB<br>x=%{x}<br>y=%{y}<extra></extra>\", \"legendgroup\": \"LWB\", \"marker\": {\"color\": \"#B6E880\", \"symbol\": \"circle\"}, \"mode\": \"markers\", \"name\": \"LWB\", \"orientation\": \"v\", \"showlegend\": true, \"type\": \"scatter\", \"x\": [2], \"xaxis\": \"x\", \"y\": [3.0], \"yaxis\": \"y\"}, {\"hovertemplate\": \"color=LYH<br>x=%{x}<br>y=%{y}<extra></extra>\", \"legendgroup\": \"LYH\", \"marker\": {\"color\": \"#FF97FF\", \"symbol\": \"circle\"}, \"mode\": \"markers\", \"name\": \"LYH\", \"orientation\": \"v\", \"showlegend\": true, \"type\": \"scatter\", \"x\": [5], \"xaxis\": \"x\", \"y\": [5.4], \"yaxis\": \"y\"}, {\"hovertemplate\": \"color=MAF<br>x=%{x}<br>y=%{y}<extra></extra>\", \"legendgroup\": \"MAF\", \"marker\": {\"color\": \"#FECB52\", \"symbol\": \"circle\"}, \"mode\": \"markers\", \"name\": \"MAF\", \"orientation\": \"v\", \"showlegend\": true, \"type\": \"scatter\", \"x\": [10], \"xaxis\": \"x\", \"y\": [3.2], \"yaxis\": \"y\"}, {\"hovertemplate\": \"color=MBS<br>x=%{x}<br>y=%{y}<extra></extra>\", \"legendgroup\": \"MBS\", \"marker\": {\"color\": \"#636efa\", \"symbol\": \"circle\"}, \"mode\": \"markers\", \"name\": \"MBS\", \"orientation\": \"v\", \"showlegend\": true, \"type\": \"scatter\", \"x\": [2], \"xaxis\": \"x\", \"y\": [4.0], \"yaxis\": \"y\"}, {\"hovertemplate\": \"color=MCI<br>x=%{x}<br>y=%{y}<extra></extra>\", \"legendgroup\": \"MCI\", \"marker\": {\"color\": \"#EF553B\", \"symbol\": \"circle\"}, \"mode\": \"markers\", \"name\": \"MCI\", \"orientation\": \"v\", \"showlegend\": true, \"type\": \"scatter\", \"x\": [91], \"xaxis\": \"x\", \"y\": [6.549450549450549], \"yaxis\": \"y\"}, {\"hovertemplate\": \"color=MCO<br>x=%{x}<br>y=%{y}<extra></extra>\", \"legendgroup\": \"MCO\", \"marker\": {\"color\": \"#00cc96\", \"symbol\": \"circle\"}, \"mode\": \"markers\", \"name\": \"MCO\", \"orientation\": \"v\", \"showlegend\": true, \"type\": \"scatter\", \"x\": [173], \"xaxis\": \"x\", \"y\": [9.658959537572255], \"yaxis\": \"y\"}, {\"hovertemplate\": \"color=MDT<br>x=%{x}<br>y=%{y}<extra></extra>\", \"legendgroup\": \"MDT\", \"marker\": {\"color\": \"#ab63fa\", \"symbol\": \"circle\"}, \"mode\": \"markers\", \"name\": \"MDT\", \"orientation\": \"v\", \"showlegend\": true, \"type\": \"scatter\", \"x\": [23], \"xaxis\": \"x\", \"y\": [4.869565217391305], \"yaxis\": \"y\"}, {\"hovertemplate\": \"color=MDW<br>x=%{x}<br>y=%{y}<extra></extra>\", \"legendgroup\": \"MDW\", \"marker\": {\"color\": \"#FFA15A\", \"symbol\": \"circle\"}, \"mode\": \"markers\", \"name\": \"MDW\", \"orientation\": \"v\", \"showlegend\": true, \"type\": \"scatter\", \"x\": [103], \"xaxis\": \"x\", \"y\": [6.466019417475728], \"yaxis\": \"y\"}, {\"hovertemplate\": \"color=MEI<br>x=%{x}<br>y=%{y}<extra></extra>\", \"legendgroup\": \"MEI\", \"marker\": {\"color\": \"#19d3f3\", \"symbol\": \"circle\"}, \"mode\": \"markers\", \"name\": \"MEI\", \"orientation\": \"v\", \"showlegend\": true, \"type\": \"scatter\", \"x\": [1], \"xaxis\": \"x\", \"y\": [6.0], \"yaxis\": \"y\"}, {\"hovertemplate\": \"color=MEM<br>x=%{x}<br>y=%{y}<extra></extra>\", \"legendgroup\": \"MEM\", \"marker\": {\"color\": \"#FF6692\", \"symbol\": \"circle\"}, \"mode\": \"markers\", \"name\": \"MEM\", \"orientation\": \"v\", \"showlegend\": true, \"type\": \"scatter\", \"x\": [37], \"xaxis\": \"x\", \"y\": [8.405405405405405], \"yaxis\": \"y\"}, {\"hovertemplate\": \"color=MFE<br>x=%{x}<br>y=%{y}<extra></extra>\", \"legendgroup\": \"MFE\", \"marker\": {\"color\": \"#B6E880\", \"symbol\": \"circle\"}, \"mode\": \"markers\", \"name\": \"MFE\", \"orientation\": \"v\", \"showlegend\": true, \"type\": \"scatter\", \"x\": [7], \"xaxis\": \"x\", \"y\": [4.285714285714286], \"yaxis\": \"y\"}, {\"hovertemplate\": \"color=MFR<br>x=%{x}<br>y=%{y}<extra></extra>\", \"legendgroup\": \"MFR\", \"marker\": {\"color\": \"#FF97FF\", \"symbol\": \"circle\"}, \"mode\": \"markers\", \"name\": \"MFR\", \"orientation\": \"v\", \"showlegend\": true, \"type\": \"scatter\", \"x\": [13], \"xaxis\": \"x\", \"y\": [3.923076923076923], \"yaxis\": \"y\"}, {\"hovertemplate\": \"color=MGM<br>x=%{x}<br>y=%{y}<extra></extra>\", \"legendgroup\": \"MGM\", \"marker\": {\"color\": \"#FECB52\", \"symbol\": \"circle\"}, \"mode\": \"markers\", \"name\": \"MGM\", \"orientation\": \"v\", \"showlegend\": true, \"type\": \"scatter\", \"x\": [5], \"xaxis\": \"x\", \"y\": [3.8], \"yaxis\": \"y\"}, {\"hovertemplate\": \"color=MHK<br>x=%{x}<br>y=%{y}<extra></extra>\", \"legendgroup\": \"MHK\", \"marker\": {\"color\": \"#636efa\", \"symbol\": \"circle\"}, \"mode\": \"markers\", \"name\": \"MHK\", \"orientation\": \"v\", \"showlegend\": true, \"type\": \"scatter\", \"x\": [4], \"xaxis\": \"x\", \"y\": [4.0], \"yaxis\": \"y\"}, {\"hovertemplate\": \"color=MHT<br>x=%{x}<br>y=%{y}<extra></extra>\", \"legendgroup\": \"MHT\", \"marker\": {\"color\": \"#EF553B\", \"symbol\": \"circle\"}, \"mode\": \"markers\", \"name\": \"MHT\", \"orientation\": \"v\", \"showlegend\": true, \"type\": \"scatter\", \"x\": [15], \"xaxis\": \"x\", \"y\": [4.0], \"yaxis\": \"y\"}, {\"hovertemplate\": \"color=MIA<br>x=%{x}<br>y=%{y}<extra></extra>\", \"legendgroup\": \"MIA\", \"marker\": {\"color\": \"#00cc96\", \"symbol\": \"circle\"}, \"mode\": \"markers\", \"name\": \"MIA\", \"orientation\": \"v\", \"showlegend\": true, \"type\": \"scatter\", \"x\": [105], \"xaxis\": \"x\", \"y\": [9.8], \"yaxis\": \"y\"}, {\"hovertemplate\": \"color=MKE<br>x=%{x}<br>y=%{y}<extra></extra>\", \"legendgroup\": \"MKE\", \"marker\": {\"color\": \"#ab63fa\", \"symbol\": \"circle\"}, \"mode\": \"markers\", \"name\": \"MKE\", \"orientation\": \"v\", \"showlegend\": true, \"type\": \"scatter\", \"x\": [41], \"xaxis\": \"x\", \"y\": [5.195121951219512], \"yaxis\": \"y\"}, {\"hovertemplate\": \"color=MKG<br>x=%{x}<br>y=%{y}<extra></extra>\", \"legendgroup\": \"MKG\", \"marker\": {\"color\": \"#FFA15A\", \"symbol\": \"circle\"}, \"mode\": \"markers\", \"name\": \"MKG\", \"orientation\": \"v\", \"showlegend\": true, \"type\": \"scatter\", \"x\": [1], \"xaxis\": \"x\", \"y\": [3.0], \"yaxis\": \"y\"}, {\"hovertemplate\": \"color=MLI<br>x=%{x}<br>y=%{y}<extra></extra>\", \"legendgroup\": \"MLI\", \"marker\": {\"color\": \"#19d3f3\", \"symbol\": \"circle\"}, \"mode\": \"markers\", \"name\": \"MLI\", \"orientation\": \"v\", \"showlegend\": true, \"type\": \"scatter\", \"x\": [11], \"xaxis\": \"x\", \"y\": [4.181818181818182], \"yaxis\": \"y\"}, {\"hovertemplate\": \"color=MLU<br>x=%{x}<br>y=%{y}<extra></extra>\", \"legendgroup\": \"MLU\", \"marker\": {\"color\": \"#FF6692\", \"symbol\": \"circle\"}, \"mode\": \"markers\", \"name\": \"MLU\", \"orientation\": \"v\", \"showlegend\": true, \"type\": \"scatter\", \"x\": [4], \"xaxis\": \"x\", \"y\": [3.75], \"yaxis\": \"y\"}, {\"hovertemplate\": \"color=MOB<br>x=%{x}<br>y=%{y}<extra></extra>\", \"legendgroup\": \"MOB\", \"marker\": {\"color\": \"#B6E880\", \"symbol\": \"circle\"}, \"mode\": \"markers\", \"name\": \"MOB\", \"orientation\": \"v\", \"showlegend\": true, \"type\": \"scatter\", \"x\": [9], \"xaxis\": \"x\", \"y\": [4.222222222222222], \"yaxis\": \"y\"}, {\"hovertemplate\": \"color=MOT<br>x=%{x}<br>y=%{y}<extra></extra>\", \"legendgroup\": \"MOT\", \"marker\": {\"color\": \"#FF97FF\", \"symbol\": \"circle\"}, \"mode\": \"markers\", \"name\": \"MOT\", \"orientation\": \"v\", \"showlegend\": true, \"type\": \"scatter\", \"x\": [2], \"xaxis\": \"x\", \"y\": [5.0], \"yaxis\": \"y\"}, {\"hovertemplate\": \"color=MQT<br>x=%{x}<br>y=%{y}<extra></extra>\", \"legendgroup\": \"MQT\", \"marker\": {\"color\": \"#FECB52\", \"symbol\": \"circle\"}, \"mode\": \"markers\", \"name\": \"MQT\", \"orientation\": \"v\", \"showlegend\": true, \"type\": \"scatter\", \"x\": [2], \"xaxis\": \"x\", \"y\": [5.5], \"yaxis\": \"y\"}, {\"hovertemplate\": \"color=MRY<br>x=%{x}<br>y=%{y}<extra></extra>\", \"legendgroup\": \"MRY\", \"marker\": {\"color\": \"#636efa\", \"symbol\": \"circle\"}, \"mode\": \"markers\", \"name\": \"MRY\", \"orientation\": \"v\", \"showlegend\": true, \"type\": \"scatter\", \"x\": [3], \"xaxis\": \"x\", \"y\": [7.0], \"yaxis\": \"y\"}, {\"hovertemplate\": \"color=MSN<br>x=%{x}<br>y=%{y}<extra></extra>\", \"legendgroup\": \"MSN\", \"marker\": {\"color\": \"#EF553B\", \"symbol\": \"circle\"}, \"mode\": \"markers\", \"name\": \"MSN\", \"orientation\": \"v\", \"showlegend\": true, \"type\": \"scatter\", \"x\": [18], \"xaxis\": \"x\", \"y\": [4.555555555555555], \"yaxis\": \"y\"}, {\"hovertemplate\": \"color=MSO<br>x=%{x}<br>y=%{y}<extra></extra>\", \"legendgroup\": \"MSO\", \"marker\": {\"color\": \"#00cc96\", \"symbol\": \"circle\"}, \"mode\": \"markers\", \"name\": \"MSO\", \"orientation\": \"v\", \"showlegend\": true, \"type\": \"scatter\", \"x\": [8], \"xaxis\": \"x\", \"y\": [3.875], \"yaxis\": \"y\"}, {\"hovertemplate\": \"color=MSP<br>x=%{x}<br>y=%{y}<extra></extra>\", \"legendgroup\": \"MSP\", \"marker\": {\"color\": \"#ab63fa\", \"symbol\": \"circle\"}, \"mode\": \"markers\", \"name\": \"MSP\", \"orientation\": \"v\", \"showlegend\": true, \"type\": \"scatter\", \"x\": [200], \"xaxis\": \"x\", \"y\": [6.01], \"yaxis\": \"y\"}, {\"hovertemplate\": \"color=MSY<br>x=%{x}<br>y=%{y}<extra></extra>\", \"legendgroup\": \"MSY\", \"marker\": {\"color\": \"#FFA15A\", \"symbol\": \"circle\"}, \"mode\": \"markers\", \"name\": \"MSY\", \"orientation\": \"v\", \"showlegend\": true, \"type\": \"scatter\", \"x\": [69], \"xaxis\": \"x\", \"y\": [4.768115942028985], \"yaxis\": \"y\"}, {\"hovertemplate\": \"color=MTJ<br>x=%{x}<br>y=%{y}<extra></extra>\", \"legendgroup\": \"MTJ\", \"marker\": {\"color\": \"#19d3f3\", \"symbol\": \"circle\"}, \"mode\": \"markers\", \"name\": \"MTJ\", \"orientation\": \"v\", \"showlegend\": true, \"type\": \"scatter\", \"x\": [2], \"xaxis\": \"x\", \"y\": [3.5], \"yaxis\": \"y\"}, {\"hovertemplate\": \"color=MVY<br>x=%{x}<br>y=%{y}<extra></extra>\", \"legendgroup\": \"MVY\", \"marker\": {\"color\": \"#FF6692\", \"symbol\": \"circle\"}, \"mode\": \"markers\", \"name\": \"MVY\", \"orientation\": \"v\", \"showlegend\": true, \"type\": \"scatter\", \"x\": [1], \"xaxis\": \"x\", \"y\": [5.0], \"yaxis\": \"y\"}, {\"hovertemplate\": \"color=MYR<br>x=%{x}<br>y=%{y}<extra></extra>\", \"legendgroup\": \"MYR\", \"marker\": {\"color\": \"#B6E880\", \"symbol\": \"circle\"}, \"mode\": \"markers\", \"name\": \"MYR\", \"orientation\": \"v\", \"showlegend\": true, \"type\": \"scatter\", \"x\": [12], \"xaxis\": \"x\", \"y\": [4.916666666666667], \"yaxis\": \"y\"}, {\"hovertemplate\": \"color=OAJ<br>x=%{x}<br>y=%{y}<extra></extra>\", \"legendgroup\": \"OAJ\", \"marker\": {\"color\": \"#FF97FF\", \"symbol\": \"circle\"}, \"mode\": \"markers\", \"name\": \"OAJ\", \"orientation\": \"v\", \"showlegend\": true, \"type\": \"scatter\", \"x\": [2], \"xaxis\": \"x\", \"y\": [3.5], \"yaxis\": \"y\"}, {\"hovertemplate\": \"color=OAK<br>x=%{x}<br>y=%{y}<extra></extra>\", \"legendgroup\": \"OAK\", \"marker\": {\"color\": \"#FECB52\", \"symbol\": \"circle\"}, \"mode\": \"markers\", \"name\": \"OAK\", \"orientation\": \"v\", \"showlegend\": true, \"type\": \"scatter\", \"x\": [69], \"xaxis\": \"x\", \"y\": [6.63768115942029], \"yaxis\": \"y\"}, {\"hovertemplate\": \"color=OGD<br>x=%{x}<br>y=%{y}<extra></extra>\", \"legendgroup\": \"OGD\", \"marker\": {\"color\": \"#636efa\", \"symbol\": \"circle\"}, \"mode\": \"markers\", \"name\": \"OGD\", \"orientation\": \"v\", \"showlegend\": true, \"type\": \"scatter\", \"x\": [1], \"xaxis\": \"x\", \"y\": [6.0], \"yaxis\": \"y\"}, {\"hovertemplate\": \"color=OGG<br>x=%{x}<br>y=%{y}<extra></extra>\", \"legendgroup\": \"OGG\", \"marker\": {\"color\": \"#EF553B\", \"symbol\": \"circle\"}, \"mode\": \"markers\", \"name\": \"OGG\", \"orientation\": \"v\", \"showlegend\": true, \"type\": \"scatter\", \"x\": [39], \"xaxis\": \"x\", \"y\": [6.948717948717949], \"yaxis\": \"y\"}, {\"hovertemplate\": \"color=OKC<br>x=%{x}<br>y=%{y}<extra></extra>\", \"legendgroup\": \"OKC\", \"marker\": {\"color\": \"#00cc96\", \"symbol\": \"circle\"}, \"mode\": \"markers\", \"name\": \"OKC\", \"orientation\": \"v\", \"showlegend\": true, \"type\": \"scatter\", \"x\": [28], \"xaxis\": \"x\", \"y\": [5.392857142857143], \"yaxis\": \"y\"}, {\"hovertemplate\": \"color=OMA<br>x=%{x}<br>y=%{y}<extra></extra>\", \"legendgroup\": \"OMA\", \"marker\": {\"color\": \"#ab63fa\", \"symbol\": \"circle\"}, \"mode\": \"markers\", \"name\": \"OMA\", \"orientation\": \"v\", \"showlegend\": true, \"type\": \"scatter\", \"x\": [40], \"xaxis\": \"x\", \"y\": [4.65], \"yaxis\": \"y\"}, {\"hovertemplate\": \"color=ONT<br>x=%{x}<br>y=%{y}<extra></extra>\", \"legendgroup\": \"ONT\", \"marker\": {\"color\": \"#FFA15A\", \"symbol\": \"circle\"}, \"mode\": \"markers\", \"name\": \"ONT\", \"orientation\": \"v\", \"showlegend\": true, \"type\": \"scatter\", \"x\": [23], \"xaxis\": \"x\", \"y\": [4.130434782608695], \"yaxis\": \"y\"}, {\"hovertemplate\": \"color=ORD<br>x=%{x}<br>y=%{y}<extra></extra>\", \"legendgroup\": \"ORD\", \"marker\": {\"color\": \"#19d3f3\", \"symbol\": \"circle\"}, \"mode\": \"markers\", \"name\": \"ORD\", \"orientation\": \"v\", \"showlegend\": true, \"type\": \"scatter\", \"x\": [434], \"xaxis\": \"x\", \"y\": [13.940092165898617], \"yaxis\": \"y\"}, {\"hovertemplate\": \"color=ORF<br>x=%{x}<br>y=%{y}<extra></extra>\", \"legendgroup\": \"ORF\", \"marker\": {\"color\": \"#FF6692\", \"symbol\": \"circle\"}, \"mode\": \"markers\", \"name\": \"ORF\", \"orientation\": \"v\", \"showlegend\": true, \"type\": \"scatter\", \"x\": [35], \"xaxis\": \"x\", \"y\": [3.942857142857143], \"yaxis\": \"y\"}, {\"hovertemplate\": \"color=ORH<br>x=%{x}<br>y=%{y}<extra></extra>\", \"legendgroup\": \"ORH\", \"marker\": {\"color\": \"#B6E880\", \"symbol\": \"circle\"}, \"mode\": \"markers\", \"name\": \"ORH\", \"orientation\": \"v\", \"showlegend\": true, \"type\": \"scatter\", \"x\": [2], \"xaxis\": \"x\", \"y\": [5.5], \"yaxis\": \"y\"}, {\"hovertemplate\": \"color=OTH<br>x=%{x}<br>y=%{y}<extra></extra>\", \"legendgroup\": \"OTH\", \"marker\": {\"color\": \"#FF97FF\", \"symbol\": \"circle\"}, \"mode\": \"markers\", \"name\": \"OTH\", \"orientation\": \"v\", \"showlegend\": true, \"type\": \"scatter\", \"x\": [1], \"xaxis\": \"x\", \"y\": [3.0], \"yaxis\": \"y\"}, {\"hovertemplate\": \"color=OTZ<br>x=%{x}<br>y=%{y}<extra></extra>\", \"legendgroup\": \"OTZ\", \"marker\": {\"color\": \"#FECB52\", \"symbol\": \"circle\"}, \"mode\": \"markers\", \"name\": \"OTZ\", \"orientation\": \"v\", \"showlegend\": true, \"type\": \"scatter\", \"x\": [1], \"xaxis\": \"x\", \"y\": [4.0], \"yaxis\": \"y\"}, {\"hovertemplate\": \"color=PAE<br>x=%{x}<br>y=%{y}<extra></extra>\", \"legendgroup\": \"PAE\", \"marker\": {\"color\": \"#636efa\", \"symbol\": \"circle\"}, \"mode\": \"markers\", \"name\": \"PAE\", \"orientation\": \"v\", \"showlegend\": true, \"type\": \"scatter\", \"x\": [4], \"xaxis\": \"x\", \"y\": [3.75], \"yaxis\": \"y\"}, {\"hovertemplate\": \"color=PBG<br>x=%{x}<br>y=%{y}<extra></extra>\", \"legendgroup\": \"PBG\", \"marker\": {\"color\": \"#EF553B\", \"symbol\": \"circle\"}, \"mode\": \"markers\", \"name\": \"PBG\", \"orientation\": \"v\", \"showlegend\": true, \"type\": \"scatter\", \"x\": [2], \"xaxis\": \"x\", \"y\": [5.5], \"yaxis\": \"y\"}, {\"hovertemplate\": \"color=PBI<br>x=%{x}<br>y=%{y}<extra></extra>\", \"legendgroup\": \"PBI\", \"marker\": {\"color\": \"#00cc96\", \"symbol\": \"circle\"}, \"mode\": \"markers\", \"name\": \"PBI\", \"orientation\": \"v\", \"showlegend\": true, \"type\": \"scatter\", \"x\": [32], \"xaxis\": \"x\", \"y\": [4.0], \"yaxis\": \"y\"}, {\"hovertemplate\": \"color=PDX<br>x=%{x}<br>y=%{y}<extra></extra>\", \"legendgroup\": \"PDX\", \"marker\": {\"color\": \"#ab63fa\", \"symbol\": \"circle\"}, \"mode\": \"markers\", \"name\": \"PDX\", \"orientation\": \"v\", \"showlegend\": true, \"type\": \"scatter\", \"x\": [116], \"xaxis\": \"x\", \"y\": [4.982758620689655], \"yaxis\": \"y\"}, {\"hovertemplate\": \"color=PGD<br>x=%{x}<br>y=%{y}<extra></extra>\", \"legendgroup\": \"PGD\", \"marker\": {\"color\": \"#FFA15A\", \"symbol\": \"circle\"}, \"mode\": \"markers\", \"name\": \"PGD\", \"orientation\": \"v\", \"showlegend\": true, \"type\": \"scatter\", \"x\": [8], \"xaxis\": \"x\", \"y\": [5.75], \"yaxis\": \"y\"}, {\"hovertemplate\": \"color=PGV<br>x=%{x}<br>y=%{y}<extra></extra>\", \"legendgroup\": \"PGV\", \"marker\": {\"color\": \"#19d3f3\", \"symbol\": \"circle\"}, \"mode\": \"markers\", \"name\": \"PGV\", \"orientation\": \"v\", \"showlegend\": true, \"type\": \"scatter\", \"x\": [4], \"xaxis\": \"x\", \"y\": [6.25], \"yaxis\": \"y\"}, {\"hovertemplate\": \"color=PHF<br>x=%{x}<br>y=%{y}<extra></extra>\", \"legendgroup\": \"PHF\", \"marker\": {\"color\": \"#FF6692\", \"symbol\": \"circle\"}, \"mode\": \"markers\", \"name\": \"PHF\", \"orientation\": \"v\", \"showlegend\": true, \"type\": \"scatter\", \"x\": [8], \"xaxis\": \"x\", \"y\": [4.625], \"yaxis\": \"y\"}, {\"hovertemplate\": \"color=PHL<br>x=%{x}<br>y=%{y}<extra></extra>\", \"legendgroup\": \"PHL\", \"marker\": {\"color\": \"#B6E880\", \"symbol\": \"circle\"}, \"mode\": \"markers\", \"name\": \"PHL\", \"orientation\": \"v\", \"showlegend\": true, \"type\": \"scatter\", \"x\": [212], \"xaxis\": \"x\", \"y\": [8.589622641509434], \"yaxis\": \"y\"}, {\"hovertemplate\": \"color=PHX<br>x=%{x}<br>y=%{y}<extra></extra>\", \"legendgroup\": \"PHX\", \"marker\": {\"color\": \"#FF97FF\", \"symbol\": \"circle\"}, \"mode\": \"markers\", \"name\": \"PHX\", \"orientation\": \"v\", \"showlegend\": true, \"type\": \"scatter\", \"x\": [225], \"xaxis\": \"x\", \"y\": [7.6177777777777775], \"yaxis\": \"y\"}, {\"hovertemplate\": \"color=PIA<br>x=%{x}<br>y=%{y}<extra></extra>\", \"legendgroup\": \"PIA\", \"marker\": {\"color\": \"#FECB52\", \"symbol\": \"circle\"}, \"mode\": \"markers\", \"name\": \"PIA\", \"orientation\": \"v\", \"showlegend\": true, \"type\": \"scatter\", \"x\": [12], \"xaxis\": \"x\", \"y\": [5.833333333333333], \"yaxis\": \"y\"}, {\"hovertemplate\": \"color=PIE<br>x=%{x}<br>y=%{y}<extra></extra>\", \"legendgroup\": \"PIE\", \"marker\": {\"color\": \"#636efa\", \"symbol\": \"circle\"}, \"mode\": \"markers\", \"name\": \"PIE\", \"orientation\": \"v\", \"showlegend\": true, \"type\": \"scatter\", \"x\": [8], \"xaxis\": \"x\", \"y\": [4.875], \"yaxis\": \"y\"}, {\"hovertemplate\": \"color=PIH<br>x=%{x}<br>y=%{y}<extra></extra>\", \"legendgroup\": \"PIH\", \"marker\": {\"color\": \"#EF553B\", \"symbol\": \"circle\"}, \"mode\": \"markers\", \"name\": \"PIH\", \"orientation\": \"v\", \"showlegend\": true, \"type\": \"scatter\", \"x\": [4], \"xaxis\": \"x\", \"y\": [3.0], \"yaxis\": \"y\"}, {\"hovertemplate\": \"color=PIR<br>x=%{x}<br>y=%{y}<extra></extra>\", \"legendgroup\": \"PIR\", \"marker\": {\"color\": \"#00cc96\", \"symbol\": \"circle\"}, \"mode\": \"markers\", \"name\": \"PIR\", \"orientation\": \"v\", \"showlegend\": true, \"type\": \"scatter\", \"x\": [1], \"xaxis\": \"x\", \"y\": [6.0], \"yaxis\": \"y\"}, {\"hovertemplate\": \"color=PIT<br>x=%{x}<br>y=%{y}<extra></extra>\", \"legendgroup\": \"PIT\", \"marker\": {\"color\": \"#ab63fa\", \"symbol\": \"circle\"}, \"mode\": \"markers\", \"name\": \"PIT\", \"orientation\": \"v\", \"showlegend\": true, \"type\": \"scatter\", \"x\": [61], \"xaxis\": \"x\", \"y\": [5.934426229508197], \"yaxis\": \"y\"}, {\"hovertemplate\": \"color=PLN<br>x=%{x}<br>y=%{y}<extra></extra>\", \"legendgroup\": \"PLN\", \"marker\": {\"color\": \"#FFA15A\", \"symbol\": \"circle\"}, \"mode\": \"markers\", \"name\": \"PLN\", \"orientation\": \"v\", \"showlegend\": true, \"type\": \"scatter\", \"x\": [3], \"xaxis\": \"x\", \"y\": [6.0], \"yaxis\": \"y\"}, {\"hovertemplate\": \"color=PNS<br>x=%{x}<br>y=%{y}<extra></extra>\", \"legendgroup\": \"PNS\", \"marker\": {\"color\": \"#19d3f3\", \"symbol\": \"circle\"}, \"mode\": \"markers\", \"name\": \"PNS\", \"orientation\": \"v\", \"showlegend\": true, \"type\": \"scatter\", \"x\": [20], \"xaxis\": \"x\", \"y\": [4.55], \"yaxis\": \"y\"}, {\"hovertemplate\": \"color=PSC<br>x=%{x}<br>y=%{y}<extra></extra>\", \"legendgroup\": \"PSC\", \"marker\": {\"color\": \"#FF6692\", \"symbol\": \"circle\"}, \"mode\": \"markers\", \"name\": \"PSC\", \"orientation\": \"v\", \"showlegend\": true, \"type\": \"scatter\", \"x\": [12], \"xaxis\": \"x\", \"y\": [5.5], \"yaxis\": \"y\"}, {\"hovertemplate\": \"color=PSE<br>x=%{x}<br>y=%{y}<extra></extra>\", \"legendgroup\": \"PSE\", \"marker\": {\"color\": \"#B6E880\", \"symbol\": \"circle\"}, \"mode\": \"markers\", \"name\": \"PSE\", \"orientation\": \"v\", \"showlegend\": true, \"type\": \"scatter\", \"x\": [1], \"xaxis\": \"x\", \"y\": [6.0], \"yaxis\": \"y\"}, {\"hovertemplate\": \"color=PSP<br>x=%{x}<br>y=%{y}<extra></extra>\", \"legendgroup\": \"PSP\", \"marker\": {\"color\": \"#FF97FF\", \"symbol\": \"circle\"}, \"mode\": \"markers\", \"name\": \"PSP\", \"orientation\": \"v\", \"showlegend\": true, \"type\": \"scatter\", \"x\": [20], \"xaxis\": \"x\", \"y\": [5.15], \"yaxis\": \"y\"}, {\"hovertemplate\": \"color=PUB<br>x=%{x}<br>y=%{y}<extra></extra>\", \"legendgroup\": \"PUB\", \"marker\": {\"color\": \"#FECB52\", \"symbol\": \"circle\"}, \"mode\": \"markers\", \"name\": \"PUB\", \"orientation\": \"v\", \"showlegend\": true, \"type\": \"scatter\", \"x\": [4], \"xaxis\": \"x\", \"y\": [4.5], \"yaxis\": \"y\"}, {\"hovertemplate\": \"color=PUW<br>x=%{x}<br>y=%{y}<extra></extra>\", \"legendgroup\": \"PUW\", \"marker\": {\"color\": \"#636efa\", \"symbol\": \"circle\"}, \"mode\": \"markers\", \"name\": \"PUW\", \"orientation\": \"v\", \"showlegend\": true, \"type\": \"scatter\", \"x\": [3], \"xaxis\": \"x\", \"y\": [5.666666666666667], \"yaxis\": \"y\"}, {\"hovertemplate\": \"color=PVD<br>x=%{x}<br>y=%{y}<extra></extra>\", \"legendgroup\": \"PVD\", \"marker\": {\"color\": \"#EF553B\", \"symbol\": \"circle\"}, \"mode\": \"markers\", \"name\": \"PVD\", \"orientation\": \"v\", \"showlegend\": true, \"type\": \"scatter\", \"x\": [28], \"xaxis\": \"x\", \"y\": [4.392857142857143], \"yaxis\": \"y\"}, {\"hovertemplate\": \"color=PVU<br>x=%{x}<br>y=%{y}<extra></extra>\", \"legendgroup\": \"PVU\", \"marker\": {\"color\": \"#00cc96\", \"symbol\": \"circle\"}, \"mode\": \"markers\", \"name\": \"PVU\", \"orientation\": \"v\", \"showlegend\": true, \"type\": \"scatter\", \"x\": [1], \"xaxis\": \"x\", \"y\": [7.0], \"yaxis\": \"y\"}, {\"hovertemplate\": \"color=PWM<br>x=%{x}<br>y=%{y}<extra></extra>\", \"legendgroup\": \"PWM\", \"marker\": {\"color\": \"#ab63fa\", \"symbol\": \"circle\"}, \"mode\": \"markers\", \"name\": \"PWM\", \"orientation\": \"v\", \"showlegend\": true, \"type\": \"scatter\", \"x\": [17], \"xaxis\": \"x\", \"y\": [4.0], \"yaxis\": \"y\"}, {\"hovertemplate\": \"color=RAP<br>x=%{x}<br>y=%{y}<extra></extra>\", \"legendgroup\": \"RAP\", \"marker\": {\"color\": \"#FFA15A\", \"symbol\": \"circle\"}, \"mode\": \"markers\", \"name\": \"RAP\", \"orientation\": \"v\", \"showlegend\": true, \"type\": \"scatter\", \"x\": [10], \"xaxis\": \"x\", \"y\": [7.3], \"yaxis\": \"y\"}, {\"hovertemplate\": \"color=RDM<br>x=%{x}<br>y=%{y}<extra></extra>\", \"legendgroup\": \"RDM\", \"marker\": {\"color\": \"#19d3f3\", \"symbol\": \"circle\"}, \"mode\": \"markers\", \"name\": \"RDM\", \"orientation\": \"v\", \"showlegend\": true, \"type\": \"scatter\", \"x\": [9], \"xaxis\": \"x\", \"y\": [4.888888888888889], \"yaxis\": \"y\"}, {\"hovertemplate\": \"color=RDU<br>x=%{x}<br>y=%{y}<extra></extra>\", \"legendgroup\": \"RDU\", \"marker\": {\"color\": \"#FF6692\", \"symbol\": \"circle\"}, \"mode\": \"markers\", \"name\": \"RDU\", \"orientation\": \"v\", \"showlegend\": true, \"type\": \"scatter\", \"x\": [91], \"xaxis\": \"x\", \"y\": [5.6923076923076925], \"yaxis\": \"y\"}, {\"hovertemplate\": \"color=RHI<br>x=%{x}<br>y=%{y}<extra></extra>\", \"legendgroup\": \"RHI\", \"marker\": {\"color\": \"#B6E880\", \"symbol\": \"circle\"}, \"mode\": \"markers\", \"name\": \"RHI\", \"orientation\": \"v\", \"showlegend\": true, \"type\": \"scatter\", \"x\": [3], \"xaxis\": \"x\", \"y\": [5.666666666666667], \"yaxis\": \"y\"}, {\"hovertemplate\": \"color=RIC<br>x=%{x}<br>y=%{y}<extra></extra>\", \"legendgroup\": \"RIC\", \"marker\": {\"color\": \"#FF97FF\", \"symbol\": \"circle\"}, \"mode\": \"markers\", \"name\": \"RIC\", \"orientation\": \"v\", \"showlegend\": true, \"type\": \"scatter\", \"x\": [32], \"xaxis\": \"x\", \"y\": [7.78125], \"yaxis\": \"y\"}, {\"hovertemplate\": \"color=RKS<br>x=%{x}<br>y=%{y}<extra></extra>\", \"legendgroup\": \"RKS\", \"marker\": {\"color\": \"#FECB52\", \"symbol\": \"circle\"}, \"mode\": \"markers\", \"name\": \"RKS\", \"orientation\": \"v\", \"showlegend\": true, \"type\": \"scatter\", \"x\": [1], \"xaxis\": \"x\", \"y\": [4.0], \"yaxis\": \"y\"}, {\"hovertemplate\": \"color=RNO<br>x=%{x}<br>y=%{y}<extra></extra>\", \"legendgroup\": \"RNO\", \"marker\": {\"color\": \"#636efa\", \"symbol\": \"circle\"}, \"mode\": \"markers\", \"name\": \"RNO\", \"orientation\": \"v\", \"showlegend\": true, \"type\": \"scatter\", \"x\": [26], \"xaxis\": \"x\", \"y\": [4.153846153846154], \"yaxis\": \"y\"}, {\"hovertemplate\": \"color=ROA<br>x=%{x}<br>y=%{y}<extra></extra>\", \"legendgroup\": \"ROA\", \"marker\": {\"color\": \"#EF553B\", \"symbol\": \"circle\"}, \"mode\": \"markers\", \"name\": \"ROA\", \"orientation\": \"v\", \"showlegend\": true, \"type\": \"scatter\", \"x\": [14], \"xaxis\": \"x\", \"y\": [7.0], \"yaxis\": \"y\"}, {\"hovertemplate\": \"color=ROC<br>x=%{x}<br>y=%{y}<extra></extra>\", \"legendgroup\": \"ROC\", \"marker\": {\"color\": \"#00cc96\", \"symbol\": \"circle\"}, \"mode\": \"markers\", \"name\": \"ROC\", \"orientation\": \"v\", \"showlegend\": true, \"type\": \"scatter\", \"x\": [28], \"xaxis\": \"x\", \"y\": [5.607142857142857], \"yaxis\": \"y\"}, {\"hovertemplate\": \"color=ROP<br>x=%{x}<br>y=%{y}<extra></extra>\", \"legendgroup\": \"ROP\", \"marker\": {\"color\": \"#ab63fa\", \"symbol\": \"circle\"}, \"mode\": \"markers\", \"name\": \"ROP\", \"orientation\": \"v\", \"showlegend\": true, \"type\": \"scatter\", \"x\": [1], \"xaxis\": \"x\", \"y\": [5.0], \"yaxis\": \"y\"}, {\"hovertemplate\": \"color=ROW<br>x=%{x}<br>y=%{y}<extra></extra>\", \"legendgroup\": \"ROW\", \"marker\": {\"color\": \"#FFA15A\", \"symbol\": \"circle\"}, \"mode\": \"markers\", \"name\": \"ROW\", \"orientation\": \"v\", \"showlegend\": true, \"type\": \"scatter\", \"x\": [2], \"xaxis\": \"x\", \"y\": [4.5], \"yaxis\": \"y\"}, {\"hovertemplate\": \"color=RST<br>x=%{x}<br>y=%{y}<extra></extra>\", \"legendgroup\": \"RST\", \"marker\": {\"color\": \"#19d3f3\", \"symbol\": \"circle\"}, \"mode\": \"markers\", \"name\": \"RST\", \"orientation\": \"v\", \"showlegend\": true, \"type\": \"scatter\", \"x\": [6], \"xaxis\": \"x\", \"y\": [3.3333333333333335], \"yaxis\": \"y\"}, {\"hovertemplate\": \"color=RSW<br>x=%{x}<br>y=%{y}<extra></extra>\", \"legendgroup\": \"RSW\", \"marker\": {\"color\": \"#FF6692\", \"symbol\": \"circle\"}, \"mode\": \"markers\", \"name\": \"RSW\", \"orientation\": \"v\", \"showlegend\": true, \"type\": \"scatter\", \"x\": [36], \"xaxis\": \"x\", \"y\": [4.888888888888889], \"yaxis\": \"y\"}, {\"hovertemplate\": \"color=SAF<br>x=%{x}<br>y=%{y}<extra></extra>\", \"legendgroup\": \"SAF\", \"marker\": {\"color\": \"#B6E880\", \"symbol\": \"circle\"}, \"mode\": \"markers\", \"name\": \"SAF\", \"orientation\": \"v\", \"showlegend\": true, \"type\": \"scatter\", \"x\": [2], \"xaxis\": \"x\", \"y\": [3.5], \"yaxis\": \"y\"}, {\"hovertemplate\": \"color=SAN<br>x=%{x}<br>y=%{y}<extra></extra>\", \"legendgroup\": \"SAN\", \"marker\": {\"color\": \"#FF97FF\", \"symbol\": \"circle\"}, \"mode\": \"markers\", \"name\": \"SAN\", \"orientation\": \"v\", \"showlegend\": true, \"type\": \"scatter\", \"x\": [118], \"xaxis\": \"x\", \"y\": [3.7033898305084745], \"yaxis\": \"y\"}, {\"hovertemplate\": \"color=SAT<br>x=%{x}<br>y=%{y}<extra></extra>\", \"legendgroup\": \"SAT\", \"marker\": {\"color\": \"#FECB52\", \"symbol\": \"circle\"}, \"mode\": \"markers\", \"name\": \"SAT\", \"orientation\": \"v\", \"showlegend\": true, \"type\": \"scatter\", \"x\": [40], \"xaxis\": \"x\", \"y\": [4.375], \"yaxis\": \"y\"}, {\"hovertemplate\": \"color=SAV<br>x=%{x}<br>y=%{y}<extra></extra>\", \"legendgroup\": \"SAV\", \"marker\": {\"color\": \"#636efa\", \"symbol\": \"circle\"}, \"mode\": \"markers\", \"name\": \"SAV\", \"orientation\": \"v\", \"showlegend\": true, \"type\": \"scatter\", \"x\": [28], \"xaxis\": \"x\", \"y\": [5.392857142857143], \"yaxis\": \"y\"}, {\"hovertemplate\": \"color=SBA<br>x=%{x}<br>y=%{y}<extra></extra>\", \"legendgroup\": \"SBA\", \"marker\": {\"color\": \"#EF553B\", \"symbol\": \"circle\"}, \"mode\": \"markers\", \"name\": \"SBA\", \"orientation\": \"v\", \"showlegend\": true, \"type\": \"scatter\", \"x\": [8], \"xaxis\": \"x\", \"y\": [4.25], \"yaxis\": \"y\"}, {\"hovertemplate\": \"color=SBN<br>x=%{x}<br>y=%{y}<extra></extra>\", \"legendgroup\": \"SBN\", \"marker\": {\"color\": \"#00cc96\", \"symbol\": \"circle\"}, \"mode\": \"markers\", \"name\": \"SBN\", \"orientation\": \"v\", \"showlegend\": true, \"type\": \"scatter\", \"x\": [9], \"xaxis\": \"x\", \"y\": [8.333333333333334], \"yaxis\": \"y\"}, {\"hovertemplate\": \"color=SBP<br>x=%{x}<br>y=%{y}<extra></extra>\", \"legendgroup\": \"SBP\", \"marker\": {\"color\": \"#ab63fa\", \"symbol\": \"circle\"}, \"mode\": \"markers\", \"name\": \"SBP\", \"orientation\": \"v\", \"showlegend\": true, \"type\": \"scatter\", \"x\": [11], \"xaxis\": \"x\", \"y\": [4.2727272727272725], \"yaxis\": \"y\"}, {\"hovertemplate\": \"color=SBY<br>x=%{x}<br>y=%{y}<extra></extra>\", \"legendgroup\": \"SBY\", \"marker\": {\"color\": \"#FFA15A\", \"symbol\": \"circle\"}, \"mode\": \"markers\", \"name\": \"SBY\", \"orientation\": \"v\", \"showlegend\": true, \"type\": \"scatter\", \"x\": [3], \"xaxis\": \"x\", \"y\": [6.0], \"yaxis\": \"y\"}, {\"hovertemplate\": \"color=SCE<br>x=%{x}<br>y=%{y}<extra></extra>\", \"legendgroup\": \"SCE\", \"marker\": {\"color\": \"#19d3f3\", \"symbol\": \"circle\"}, \"mode\": \"markers\", \"name\": \"SCE\", \"orientation\": \"v\", \"showlegend\": true, \"type\": \"scatter\", \"x\": [4], \"xaxis\": \"x\", \"y\": [4.5], \"yaxis\": \"y\"}, {\"hovertemplate\": \"color=SDF<br>x=%{x}<br>y=%{y}<extra></extra>\", \"legendgroup\": \"SDF\", \"marker\": {\"color\": \"#FF6692\", \"symbol\": \"circle\"}, \"mode\": \"markers\", \"name\": \"SDF\", \"orientation\": \"v\", \"showlegend\": true, \"type\": \"scatter\", \"x\": [32], \"xaxis\": \"x\", \"y\": [7.46875], \"yaxis\": \"y\"}, {\"hovertemplate\": \"color=SEA<br>x=%{x}<br>y=%{y}<extra></extra>\", \"legendgroup\": \"SEA\", \"marker\": {\"color\": \"#B6E880\", \"symbol\": \"circle\"}, \"mode\": \"markers\", \"name\": \"SEA\", \"orientation\": \"v\", \"showlegend\": true, \"type\": \"scatter\", \"x\": [225], \"xaxis\": \"x\", \"y\": [9.542222222222222], \"yaxis\": \"y\"}, {\"hovertemplate\": \"color=SFB<br>x=%{x}<br>y=%{y}<extra></extra>\", \"legendgroup\": \"SFB\", \"marker\": {\"color\": \"#FF97FF\", \"symbol\": \"circle\"}, \"mode\": \"markers\", \"name\": \"SFB\", \"orientation\": \"v\", \"showlegend\": true, \"type\": \"scatter\", \"x\": [9], \"xaxis\": \"x\", \"y\": [8.222222222222221], \"yaxis\": \"y\"}, {\"hovertemplate\": \"color=SFO<br>x=%{x}<br>y=%{y}<extra></extra>\", \"legendgroup\": \"SFO\", \"marker\": {\"color\": \"#FECB52\", \"symbol\": \"circle\"}, \"mode\": \"markers\", \"name\": \"SFO\", \"orientation\": \"v\", \"showlegend\": true, \"type\": \"scatter\", \"x\": [177], \"xaxis\": \"x\", \"y\": [8.700564971751412], \"yaxis\": \"y\"}, {\"hovertemplate\": \"color=SGF<br>x=%{x}<br>y=%{y}<extra></extra>\", \"legendgroup\": \"SGF\", \"marker\": {\"color\": \"#636efa\", \"symbol\": \"circle\"}, \"mode\": \"markers\", \"name\": \"SGF\", \"orientation\": \"v\", \"showlegend\": true, \"type\": \"scatter\", \"x\": [15], \"xaxis\": \"x\", \"y\": [5.466666666666667], \"yaxis\": \"y\"}, {\"hovertemplate\": \"color=SGU<br>x=%{x}<br>y=%{y}<extra></extra>\", \"legendgroup\": \"SGU\", \"marker\": {\"color\": \"#EF553B\", \"symbol\": \"circle\"}, \"mode\": \"markers\", \"name\": \"SGU\", \"orientation\": \"v\", \"showlegend\": true, \"type\": \"scatter\", \"x\": [2], \"xaxis\": \"x\", \"y\": [4.0], \"yaxis\": \"y\"}, {\"hovertemplate\": \"color=SHD<br>x=%{x}<br>y=%{y}<extra></extra>\", \"legendgroup\": \"SHD\", \"marker\": {\"color\": \"#00cc96\", \"symbol\": \"circle\"}, \"mode\": \"markers\", \"name\": \"SHD\", \"orientation\": \"v\", \"showlegend\": true, \"type\": \"scatter\", \"x\": [1], \"xaxis\": \"x\", \"y\": [5.0], \"yaxis\": \"y\"}, {\"hovertemplate\": \"color=SHV<br>x=%{x}<br>y=%{y}<extra></extra>\", \"legendgroup\": \"SHV\", \"marker\": {\"color\": \"#ab63fa\", \"symbol\": \"circle\"}, \"mode\": \"markers\", \"name\": \"SHV\", \"orientation\": \"v\", \"showlegend\": true, \"type\": \"scatter\", \"x\": [10], \"xaxis\": \"x\", \"y\": [4.6], \"yaxis\": \"y\"}, {\"hovertemplate\": \"color=SIT<br>x=%{x}<br>y=%{y}<extra></extra>\", \"legendgroup\": \"SIT\", \"marker\": {\"color\": \"#FFA15A\", \"symbol\": \"circle\"}, \"mode\": \"markers\", \"name\": \"SIT\", \"orientation\": \"v\", \"showlegend\": true, \"type\": \"scatter\", \"x\": [3], \"xaxis\": \"x\", \"y\": [4.333333333333333], \"yaxis\": \"y\"}, {\"hovertemplate\": \"color=SJC<br>x=%{x}<br>y=%{y}<extra></extra>\", \"legendgroup\": \"SJC\", \"marker\": {\"color\": \"#19d3f3\", \"symbol\": \"circle\"}, \"mode\": \"markers\", \"name\": \"SJC\", \"orientation\": \"v\", \"showlegend\": true, \"type\": \"scatter\", \"x\": [85], \"xaxis\": \"x\", \"y\": [4.152941176470589], \"yaxis\": \"y\"}, {\"hovertemplate\": \"color=SJT<br>x=%{x}<br>y=%{y}<extra></extra>\", \"legendgroup\": \"SJT\", \"marker\": {\"color\": \"#FF6692\", \"symbol\": \"circle\"}, \"mode\": \"markers\", \"name\": \"SJT\", \"orientation\": \"v\", \"showlegend\": true, \"type\": \"scatter\", \"x\": [4], \"xaxis\": \"x\", \"y\": [4.25], \"yaxis\": \"y\"}, {\"hovertemplate\": \"color=SJU<br>x=%{x}<br>y=%{y}<extra></extra>\", \"legendgroup\": \"SJU\", \"marker\": {\"color\": \"#B6E880\", \"symbol\": \"circle\"}, \"mode\": \"markers\", \"name\": \"SJU\", \"orientation\": \"v\", \"showlegend\": true, \"type\": \"scatter\", \"x\": [39], \"xaxis\": \"x\", \"y\": [7.256410256410256], \"yaxis\": \"y\"}, {\"hovertemplate\": \"color=SLC<br>x=%{x}<br>y=%{y}<extra></extra>\", \"legendgroup\": \"SLC\", \"marker\": {\"color\": \"#FF97FF\", \"symbol\": \"circle\"}, \"mode\": \"markers\", \"name\": \"SLC\", \"orientation\": \"v\", \"showlegend\": true, \"type\": \"scatter\", \"x\": [172], \"xaxis\": \"x\", \"y\": [6.808139534883721], \"yaxis\": \"y\"}, {\"hovertemplate\": \"color=SLN<br>x=%{x}<br>y=%{y}<extra></extra>\", \"legendgroup\": \"SLN\", \"marker\": {\"color\": \"#FECB52\", \"symbol\": \"circle\"}, \"mode\": \"markers\", \"name\": \"SLN\", \"orientation\": \"v\", \"showlegend\": true, \"type\": \"scatter\", \"x\": [2], \"xaxis\": \"x\", \"y\": [4.5], \"yaxis\": \"y\"}, {\"hovertemplate\": \"color=SMF<br>x=%{x}<br>y=%{y}<extra></extra>\", \"legendgroup\": \"SMF\", \"marker\": {\"color\": \"#636efa\", \"symbol\": \"circle\"}, \"mode\": \"markers\", \"name\": \"SMF\", \"orientation\": \"v\", \"showlegend\": true, \"type\": \"scatter\", \"x\": [74], \"xaxis\": \"x\", \"y\": [4.635135135135135], \"yaxis\": \"y\"}, {\"hovertemplate\": \"color=SNA<br>x=%{x}<br>y=%{y}<extra></extra>\", \"legendgroup\": \"SNA\", \"marker\": {\"color\": \"#EF553B\", \"symbol\": \"circle\"}, \"mode\": \"markers\", \"name\": \"SNA\", \"orientation\": \"v\", \"showlegend\": true, \"type\": \"scatter\", \"x\": [55], \"xaxis\": \"x\", \"y\": [5.054545454545455], \"yaxis\": \"y\"}, {\"hovertemplate\": \"color=SPI<br>x=%{x}<br>y=%{y}<extra></extra>\", \"legendgroup\": \"SPI\", \"marker\": {\"color\": \"#00cc96\", \"symbol\": \"circle\"}, \"mode\": \"markers\", \"name\": \"SPI\", \"orientation\": \"v\", \"showlegend\": true, \"type\": \"scatter\", \"x\": [1], \"xaxis\": \"x\", \"y\": [4.0], \"yaxis\": \"y\"}, {\"hovertemplate\": \"color=SPS<br>x=%{x}<br>y=%{y}<extra></extra>\", \"legendgroup\": \"SPS\", \"marker\": {\"color\": \"#ab63fa\", \"symbol\": \"circle\"}, \"mode\": \"markers\", \"name\": \"SPS\", \"orientation\": \"v\", \"showlegend\": true, \"type\": \"scatter\", \"x\": [1], \"xaxis\": \"x\", \"y\": [6.0], \"yaxis\": \"y\"}, {\"hovertemplate\": \"color=SRQ<br>x=%{x}<br>y=%{y}<extra></extra>\", \"legendgroup\": \"SRQ\", \"marker\": {\"color\": \"#FFA15A\", \"symbol\": \"circle\"}, \"mode\": \"markers\", \"name\": \"SRQ\", \"orientation\": \"v\", \"showlegend\": true, \"type\": \"scatter\", \"x\": [7], \"xaxis\": \"x\", \"y\": [4.857142857142857], \"yaxis\": \"y\"}, {\"hovertemplate\": \"color=STL<br>x=%{x}<br>y=%{y}<extra></extra>\", \"legendgroup\": \"STL\", \"marker\": {\"color\": \"#19d3f3\", \"symbol\": \"circle\"}, \"mode\": \"markers\", \"name\": \"STL\", \"orientation\": \"v\", \"showlegend\": true, \"type\": \"scatter\", \"x\": [90], \"xaxis\": \"x\", \"y\": [4.688888888888889], \"yaxis\": \"y\"}, {\"hovertemplate\": \"color=STS<br>x=%{x}<br>y=%{y}<extra></extra>\", \"legendgroup\": \"STS\", \"marker\": {\"color\": \"#FF6692\", \"symbol\": \"circle\"}, \"mode\": \"markers\", \"name\": \"STS\", \"orientation\": \"v\", \"showlegend\": true, \"type\": \"scatter\", \"x\": [4], \"xaxis\": \"x\", \"y\": [7.25], \"yaxis\": \"y\"}, {\"hovertemplate\": \"color=STT<br>x=%{x}<br>y=%{y}<extra></extra>\", \"legendgroup\": \"STT\", \"marker\": {\"color\": \"#B6E880\", \"symbol\": \"circle\"}, \"mode\": \"markers\", \"name\": \"STT\", \"orientation\": \"v\", \"showlegend\": true, \"type\": \"scatter\", \"x\": [4], \"xaxis\": \"x\", \"y\": [3.5], \"yaxis\": \"y\"}, {\"hovertemplate\": \"color=STX<br>x=%{x}<br>y=%{y}<extra></extra>\", \"legendgroup\": \"STX\", \"marker\": {\"color\": \"#FF97FF\", \"symbol\": \"circle\"}, \"mode\": \"markers\", \"name\": \"STX\", \"orientation\": \"v\", \"showlegend\": true, \"type\": \"scatter\", \"x\": [3], \"xaxis\": \"x\", \"y\": [3.6666666666666665], \"yaxis\": \"y\"}, {\"hovertemplate\": \"color=SUN<br>x=%{x}<br>y=%{y}<extra></extra>\", \"legendgroup\": \"SUN\", \"marker\": {\"color\": \"#FECB52\", \"symbol\": \"circle\"}, \"mode\": \"markers\", \"name\": \"SUN\", \"orientation\": \"v\", \"showlegend\": true, \"type\": \"scatter\", \"x\": [2], \"xaxis\": \"x\", \"y\": [2.5], \"yaxis\": \"y\"}, {\"hovertemplate\": \"color=SUX<br>x=%{x}<br>y=%{y}<extra></extra>\", \"legendgroup\": \"SUX\", \"marker\": {\"color\": \"#636efa\", \"symbol\": \"circle\"}, \"mode\": \"markers\", \"name\": \"SUX\", \"orientation\": \"v\", \"showlegend\": true, \"type\": \"scatter\", \"x\": [1], \"xaxis\": \"x\", \"y\": [3.0], \"yaxis\": \"y\"}, {\"hovertemplate\": \"color=SWF<br>x=%{x}<br>y=%{y}<extra></extra>\", \"legendgroup\": \"SWF\", \"marker\": {\"color\": \"#EF553B\", \"symbol\": \"circle\"}, \"mode\": \"markers\", \"name\": \"SWF\", \"orientation\": \"v\", \"showlegend\": true, \"type\": \"scatter\", \"x\": [1], \"xaxis\": \"x\", \"y\": [4.0], \"yaxis\": \"y\"}, {\"hovertemplate\": \"color=SYR<br>x=%{x}<br>y=%{y}<extra></extra>\", \"legendgroup\": \"SYR\", \"marker\": {\"color\": \"#00cc96\", \"symbol\": \"circle\"}, \"mode\": \"markers\", \"name\": \"SYR\", \"orientation\": \"v\", \"showlegend\": true, \"type\": \"scatter\", \"x\": [23], \"xaxis\": \"x\", \"y\": [5.391304347826087], \"yaxis\": \"y\"}, {\"hovertemplate\": \"color=TLH<br>x=%{x}<br>y=%{y}<extra></extra>\", \"legendgroup\": \"TLH\", \"marker\": {\"color\": \"#ab63fa\", \"symbol\": \"circle\"}, \"mode\": \"markers\", \"name\": \"TLH\", \"orientation\": \"v\", \"showlegend\": true, \"type\": \"scatter\", \"x\": [9], \"xaxis\": \"x\", \"y\": [4.333333333333333], \"yaxis\": \"y\"}, {\"hovertemplate\": \"color=TOL<br>x=%{x}<br>y=%{y}<extra></extra>\", \"legendgroup\": \"TOL\", \"marker\": {\"color\": \"#FFA15A\", \"symbol\": \"circle\"}, \"mode\": \"markers\", \"name\": \"TOL\", \"orientation\": \"v\", \"showlegend\": true, \"type\": \"scatter\", \"x\": [1], \"xaxis\": \"x\", \"y\": [3.0], \"yaxis\": \"y\"}, {\"hovertemplate\": \"color=TPA<br>x=%{x}<br>y=%{y}<extra></extra>\", \"legendgroup\": \"TPA\", \"marker\": {\"color\": \"#19d3f3\", \"symbol\": \"circle\"}, \"mode\": \"markers\", \"name\": \"TPA\", \"orientation\": \"v\", \"showlegend\": true, \"type\": \"scatter\", \"x\": [83], \"xaxis\": \"x\", \"y\": [4.867469879518072], \"yaxis\": \"y\"}, {\"hovertemplate\": \"color=TRI<br>x=%{x}<br>y=%{y}<extra></extra>\", \"legendgroup\": \"TRI\", \"marker\": {\"color\": \"#FF6692\", \"symbol\": \"circle\"}, \"mode\": \"markers\", \"name\": \"TRI\", \"orientation\": \"v\", \"showlegend\": true, \"type\": \"scatter\", \"x\": [4], \"xaxis\": \"x\", \"y\": [3.75], \"yaxis\": \"y\"}, {\"hovertemplate\": \"color=TTN<br>x=%{x}<br>y=%{y}<extra></extra>\", \"legendgroup\": \"TTN\", \"marker\": {\"color\": \"#B6E880\", \"symbol\": \"circle\"}, \"mode\": \"markers\", \"name\": \"TTN\", \"orientation\": \"v\", \"showlegend\": true, \"type\": \"scatter\", \"x\": [3], \"xaxis\": \"x\", \"y\": [7.333333333333333], \"yaxis\": \"y\"}, {\"hovertemplate\": \"color=TUL<br>x=%{x}<br>y=%{y}<extra></extra>\", \"legendgroup\": \"TUL\", \"marker\": {\"color\": \"#FF97FF\", \"symbol\": \"circle\"}, \"mode\": \"markers\", \"name\": \"TUL\", \"orientation\": \"v\", \"showlegend\": true, \"type\": \"scatter\", \"x\": [28], \"xaxis\": \"x\", \"y\": [3.9642857142857144], \"yaxis\": \"y\"}, {\"hovertemplate\": \"color=TUS<br>x=%{x}<br>y=%{y}<extra></extra>\", \"legendgroup\": \"TUS\", \"marker\": {\"color\": \"#FECB52\", \"symbol\": \"circle\"}, \"mode\": \"markers\", \"name\": \"TUS\", \"orientation\": \"v\", \"showlegend\": true, \"type\": \"scatter\", \"x\": [29], \"xaxis\": \"x\", \"y\": [4.551724137931035], \"yaxis\": \"y\"}, {\"hovertemplate\": \"color=TVC<br>x=%{x}<br>y=%{y}<extra></extra>\", \"legendgroup\": \"TVC\", \"marker\": {\"color\": \"#636efa\", \"symbol\": \"circle\"}, \"mode\": \"markers\", \"name\": \"TVC\", \"orientation\": \"v\", \"showlegend\": true, \"type\": \"scatter\", \"x\": [7], \"xaxis\": \"x\", \"y\": [4.428571428571429], \"yaxis\": \"y\"}, {\"hovertemplate\": \"color=TWF<br>x=%{x}<br>y=%{y}<extra></extra>\", \"legendgroup\": \"TWF\", \"marker\": {\"color\": \"#EF553B\", \"symbol\": \"circle\"}, \"mode\": \"markers\", \"name\": \"TWF\", \"orientation\": \"v\", \"showlegend\": true, \"type\": \"scatter\", \"x\": [1], \"xaxis\": \"x\", \"y\": [3.0], \"yaxis\": \"y\"}, {\"hovertemplate\": \"color=TXK<br>x=%{x}<br>y=%{y}<extra></extra>\", \"legendgroup\": \"TXK\", \"marker\": {\"color\": \"#00cc96\", \"symbol\": \"circle\"}, \"mode\": \"markers\", \"name\": \"TXK\", \"orientation\": \"v\", \"showlegend\": true, \"type\": \"scatter\", \"x\": [4], \"xaxis\": \"x\", \"y\": [4.25], \"yaxis\": \"y\"}, {\"hovertemplate\": \"color=TYR<br>x=%{x}<br>y=%{y}<extra></extra>\", \"legendgroup\": \"TYR\", \"marker\": {\"color\": \"#ab63fa\", \"symbol\": \"circle\"}, \"mode\": \"markers\", \"name\": \"TYR\", \"orientation\": \"v\", \"showlegend\": true, \"type\": \"scatter\", \"x\": [1], \"xaxis\": \"x\", \"y\": [3.0], \"yaxis\": \"y\"}, {\"hovertemplate\": \"color=TYS<br>x=%{x}<br>y=%{y}<extra></extra>\", \"legendgroup\": \"TYS\", \"marker\": {\"color\": \"#FFA15A\", \"symbol\": \"circle\"}, \"mode\": \"markers\", \"name\": \"TYS\", \"orientation\": \"v\", \"showlegend\": true, \"type\": \"scatter\", \"x\": [25], \"xaxis\": \"x\", \"y\": [4.72], \"yaxis\": \"y\"}, {\"hovertemplate\": \"color=USA<br>x=%{x}<br>y=%{y}<extra></extra>\", \"legendgroup\": \"USA\", \"marker\": {\"color\": \"#19d3f3\", \"symbol\": \"circle\"}, \"mode\": \"markers\", \"name\": \"USA\", \"orientation\": \"v\", \"showlegend\": true, \"type\": \"scatter\", \"x\": [1], \"xaxis\": \"x\", \"y\": [8.0], \"yaxis\": \"y\"}, {\"hovertemplate\": \"color=VEL<br>x=%{x}<br>y=%{y}<extra></extra>\", \"legendgroup\": \"VEL\", \"marker\": {\"color\": \"#FF6692\", \"symbol\": \"circle\"}, \"mode\": \"markers\", \"name\": \"VEL\", \"orientation\": \"v\", \"showlegend\": true, \"type\": \"scatter\", \"x\": [1], \"xaxis\": \"x\", \"y\": [4.0], \"yaxis\": \"y\"}, {\"hovertemplate\": \"color=VPS<br>x=%{x}<br>y=%{y}<extra></extra>\", \"legendgroup\": \"VPS\", \"marker\": {\"color\": \"#B6E880\", \"symbol\": \"circle\"}, \"mode\": \"markers\", \"name\": \"VPS\", \"orientation\": \"v\", \"showlegend\": true, \"type\": \"scatter\", \"x\": [15], \"xaxis\": \"x\", \"y\": [7.066666666666666], \"yaxis\": \"y\"}, {\"hovertemplate\": \"color=WRG<br>x=%{x}<br>y=%{y}<extra></extra>\", \"legendgroup\": \"WRG\", \"marker\": {\"color\": \"#FF97FF\", \"symbol\": \"circle\"}, \"mode\": \"markers\", \"name\": \"WRG\", \"orientation\": \"v\", \"showlegend\": true, \"type\": \"scatter\", \"x\": [2], \"xaxis\": \"x\", \"y\": [4.0], \"yaxis\": \"y\"}, {\"hovertemplate\": \"color=WYS<br>x=%{x}<br>y=%{y}<extra></extra>\", \"legendgroup\": \"WYS\", \"marker\": {\"color\": \"#FECB52\", \"symbol\": \"circle\"}, \"mode\": \"markers\", \"name\": \"WYS\", \"orientation\": \"v\", \"showlegend\": true, \"type\": \"scatter\", \"x\": [1], \"xaxis\": \"x\", \"y\": [4.0], \"yaxis\": \"y\"}, {\"hovertemplate\": \"color=XNA<br>x=%{x}<br>y=%{y}<extra></extra>\", \"legendgroup\": \"XNA\", \"marker\": {\"color\": \"#636efa\", \"symbol\": \"circle\"}, \"mode\": \"markers\", \"name\": \"XNA\", \"orientation\": \"v\", \"showlegend\": true, \"type\": \"scatter\", \"x\": [20], \"xaxis\": \"x\", \"y\": [9.15], \"yaxis\": \"y\"}, {\"hovertemplate\": \"color=YKM<br>x=%{x}<br>y=%{y}<extra></extra>\", \"legendgroup\": \"YKM\", \"marker\": {\"color\": \"#EF553B\", \"symbol\": \"circle\"}, \"mode\": \"markers\", \"name\": \"YKM\", \"orientation\": \"v\", \"showlegend\": true, \"type\": \"scatter\", \"x\": [1], \"xaxis\": \"x\", \"y\": [4.0], \"yaxis\": \"y\"}],                        {\"legend\": {\"title\": {\"text\": \"color\"}, \"tracegroupgap\": 0}, \"margin\": {\"t\": 60}, \"template\": {\"data\": {\"bar\": [{\"error_x\": {\"color\": \"#2a3f5f\"}, \"error_y\": {\"color\": \"#2a3f5f\"}, \"marker\": {\"line\": {\"color\": \"#E5ECF6\", \"width\": 0.5}}, \"type\": \"bar\"}], \"barpolar\": [{\"marker\": {\"line\": {\"color\": \"#E5ECF6\", \"width\": 0.5}}, \"type\": \"barpolar\"}], \"carpet\": [{\"aaxis\": {\"endlinecolor\": \"#2a3f5f\", \"gridcolor\": \"white\", \"linecolor\": \"white\", \"minorgridcolor\": \"white\", \"startlinecolor\": \"#2a3f5f\"}, \"baxis\": {\"endlinecolor\": \"#2a3f5f\", \"gridcolor\": \"white\", \"linecolor\": \"white\", \"minorgridcolor\": \"white\", \"startlinecolor\": \"#2a3f5f\"}, \"type\": \"carpet\"}], \"choropleth\": [{\"colorbar\": {\"outlinewidth\": 0, \"ticks\": \"\"}, \"type\": \"choropleth\"}], \"contour\": [{\"colorbar\": {\"outlinewidth\": 0, \"ticks\": \"\"}, \"colorscale\": [[0.0, \"#0d0887\"], [0.1111111111111111, \"#46039f\"], [0.2222222222222222, \"#7201a8\"], [0.3333333333333333, \"#9c179e\"], [0.4444444444444444, \"#bd3786\"], [0.5555555555555556, \"#d8576b\"], [0.6666666666666666, \"#ed7953\"], [0.7777777777777778, \"#fb9f3a\"], [0.8888888888888888, \"#fdca26\"], [1.0, \"#f0f921\"]], \"type\": \"contour\"}], \"contourcarpet\": [{\"colorbar\": {\"outlinewidth\": 0, \"ticks\": \"\"}, \"type\": \"contourcarpet\"}], \"heatmap\": [{\"colorbar\": {\"outlinewidth\": 0, \"ticks\": \"\"}, \"colorscale\": [[0.0, \"#0d0887\"], [0.1111111111111111, \"#46039f\"], [0.2222222222222222, \"#7201a8\"], [0.3333333333333333, \"#9c179e\"], [0.4444444444444444, \"#bd3786\"], [0.5555555555555556, \"#d8576b\"], [0.6666666666666666, \"#ed7953\"], [0.7777777777777778, \"#fb9f3a\"], [0.8888888888888888, \"#fdca26\"], [1.0, \"#f0f921\"]], \"type\": \"heatmap\"}], \"heatmapgl\": [{\"colorbar\": {\"outlinewidth\": 0, \"ticks\": \"\"}, \"colorscale\": [[0.0, \"#0d0887\"], [0.1111111111111111, \"#46039f\"], [0.2222222222222222, \"#7201a8\"], [0.3333333333333333, \"#9c179e\"], [0.4444444444444444, \"#bd3786\"], [0.5555555555555556, \"#d8576b\"], [0.6666666666666666, \"#ed7953\"], [0.7777777777777778, \"#fb9f3a\"], [0.8888888888888888, \"#fdca26\"], [1.0, \"#f0f921\"]], \"type\": \"heatmapgl\"}], \"histogram\": [{\"marker\": {\"colorbar\": {\"outlinewidth\": 0, \"ticks\": \"\"}}, \"type\": \"histogram\"}], \"histogram2d\": [{\"colorbar\": {\"outlinewidth\": 0, \"ticks\": \"\"}, \"colorscale\": [[0.0, \"#0d0887\"], [0.1111111111111111, \"#46039f\"], [0.2222222222222222, \"#7201a8\"], [0.3333333333333333, \"#9c179e\"], [0.4444444444444444, \"#bd3786\"], [0.5555555555555556, \"#d8576b\"], [0.6666666666666666, \"#ed7953\"], [0.7777777777777778, \"#fb9f3a\"], [0.8888888888888888, \"#fdca26\"], [1.0, \"#f0f921\"]], \"type\": \"histogram2d\"}], \"histogram2dcontour\": [{\"colorbar\": {\"outlinewidth\": 0, \"ticks\": \"\"}, \"colorscale\": [[0.0, \"#0d0887\"], [0.1111111111111111, \"#46039f\"], [0.2222222222222222, \"#7201a8\"], [0.3333333333333333, \"#9c179e\"], [0.4444444444444444, \"#bd3786\"], [0.5555555555555556, \"#d8576b\"], [0.6666666666666666, \"#ed7953\"], [0.7777777777777778, \"#fb9f3a\"], [0.8888888888888888, \"#fdca26\"], [1.0, \"#f0f921\"]], \"type\": \"histogram2dcontour\"}], \"mesh3d\": [{\"colorbar\": {\"outlinewidth\": 0, \"ticks\": \"\"}, \"type\": \"mesh3d\"}], \"parcoords\": [{\"line\": {\"colorbar\": {\"outlinewidth\": 0, \"ticks\": \"\"}}, \"type\": \"parcoords\"}], \"pie\": [{\"automargin\": true, \"type\": \"pie\"}], \"scatter\": [{\"marker\": {\"colorbar\": {\"outlinewidth\": 0, \"ticks\": \"\"}}, \"type\": \"scatter\"}], \"scatter3d\": [{\"line\": {\"colorbar\": {\"outlinewidth\": 0, \"ticks\": \"\"}}, \"marker\": {\"colorbar\": {\"outlinewidth\": 0, \"ticks\": \"\"}}, \"type\": \"scatter3d\"}], \"scattercarpet\": [{\"marker\": {\"colorbar\": {\"outlinewidth\": 0, \"ticks\": \"\"}}, \"type\": \"scattercarpet\"}], \"scattergeo\": [{\"marker\": {\"colorbar\": {\"outlinewidth\": 0, \"ticks\": \"\"}}, \"type\": \"scattergeo\"}], \"scattergl\": [{\"marker\": {\"colorbar\": {\"outlinewidth\": 0, \"ticks\": \"\"}}, \"type\": \"scattergl\"}], \"scattermapbox\": [{\"marker\": {\"colorbar\": {\"outlinewidth\": 0, \"ticks\": \"\"}}, \"type\": \"scattermapbox\"}], \"scatterpolar\": [{\"marker\": {\"colorbar\": {\"outlinewidth\": 0, \"ticks\": \"\"}}, \"type\": \"scatterpolar\"}], \"scatterpolargl\": [{\"marker\": {\"colorbar\": {\"outlinewidth\": 0, \"ticks\": \"\"}}, \"type\": \"scatterpolargl\"}], \"scatterternary\": [{\"marker\": {\"colorbar\": {\"outlinewidth\": 0, \"ticks\": \"\"}}, \"type\": \"scatterternary\"}], \"surface\": [{\"colorbar\": {\"outlinewidth\": 0, \"ticks\": \"\"}, \"colorscale\": [[0.0, \"#0d0887\"], [0.1111111111111111, \"#46039f\"], [0.2222222222222222, \"#7201a8\"], [0.3333333333333333, \"#9c179e\"], [0.4444444444444444, \"#bd3786\"], [0.5555555555555556, \"#d8576b\"], [0.6666666666666666, \"#ed7953\"], [0.7777777777777778, \"#fb9f3a\"], [0.8888888888888888, \"#fdca26\"], [1.0, \"#f0f921\"]], \"type\": \"surface\"}], \"table\": [{\"cells\": {\"fill\": {\"color\": \"#EBF0F8\"}, \"line\": {\"color\": \"white\"}}, \"header\": {\"fill\": {\"color\": \"#C8D4E3\"}, \"line\": {\"color\": \"white\"}}, \"type\": \"table\"}]}, \"layout\": {\"annotationdefaults\": {\"arrowcolor\": \"#2a3f5f\", \"arrowhead\": 0, \"arrowwidth\": 1}, \"autotypenumbers\": \"strict\", \"coloraxis\": {\"colorbar\": {\"outlinewidth\": 0, \"ticks\": \"\"}}, \"colorscale\": {\"diverging\": [[0, \"#8e0152\"], [0.1, \"#c51b7d\"], [0.2, \"#de77ae\"], [0.3, \"#f1b6da\"], [0.4, \"#fde0ef\"], [0.5, \"#f7f7f7\"], [0.6, \"#e6f5d0\"], [0.7, \"#b8e186\"], [0.8, \"#7fbc41\"], [0.9, \"#4d9221\"], [1, \"#276419\"]], \"sequential\": [[0.0, \"#0d0887\"], [0.1111111111111111, \"#46039f\"], [0.2222222222222222, \"#7201a8\"], [0.3333333333333333, \"#9c179e\"], [0.4444444444444444, \"#bd3786\"], [0.5555555555555556, \"#d8576b\"], [0.6666666666666666, \"#ed7953\"], [0.7777777777777778, \"#fb9f3a\"], [0.8888888888888888, \"#fdca26\"], [1.0, \"#f0f921\"]], \"sequentialminus\": [[0.0, \"#0d0887\"], [0.1111111111111111, \"#46039f\"], [0.2222222222222222, \"#7201a8\"], [0.3333333333333333, \"#9c179e\"], [0.4444444444444444, \"#bd3786\"], [0.5555555555555556, \"#d8576b\"], [0.6666666666666666, \"#ed7953\"], [0.7777777777777778, \"#fb9f3a\"], [0.8888888888888888, \"#fdca26\"], [1.0, \"#f0f921\"]]}, \"colorway\": [\"#636efa\", \"#EF553B\", \"#00cc96\", \"#ab63fa\", \"#FFA15A\", \"#19d3f3\", \"#FF6692\", \"#B6E880\", \"#FF97FF\", \"#FECB52\"], \"font\": {\"color\": \"#2a3f5f\"}, \"geo\": {\"bgcolor\": \"white\", \"lakecolor\": \"white\", \"landcolor\": \"#E5ECF6\", \"showlakes\": true, \"showland\": true, \"subunitcolor\": \"white\"}, \"hoverlabel\": {\"align\": \"left\"}, \"hovermode\": \"closest\", \"mapbox\": {\"style\": \"light\"}, \"paper_bgcolor\": \"white\", \"plot_bgcolor\": \"#E5ECF6\", \"polar\": {\"angularaxis\": {\"gridcolor\": \"white\", \"linecolor\": \"white\", \"ticks\": \"\"}, \"bgcolor\": \"#E5ECF6\", \"radialaxis\": {\"gridcolor\": \"white\", \"linecolor\": \"white\", \"ticks\": \"\"}}, \"scene\": {\"xaxis\": {\"backgroundcolor\": \"#E5ECF6\", \"gridcolor\": \"white\", \"gridwidth\": 2, \"linecolor\": \"white\", \"showbackground\": true, \"ticks\": \"\", \"zerolinecolor\": \"white\"}, \"yaxis\": {\"backgroundcolor\": \"#E5ECF6\", \"gridcolor\": \"white\", \"gridwidth\": 2, \"linecolor\": \"white\", \"showbackground\": true, \"ticks\": \"\", \"zerolinecolor\": \"white\"}, \"zaxis\": {\"backgroundcolor\": \"#E5ECF6\", \"gridcolor\": \"white\", \"gridwidth\": 2, \"linecolor\": \"white\", \"showbackground\": true, \"ticks\": \"\", \"zerolinecolor\": \"white\"}}, \"shapedefaults\": {\"line\": {\"color\": \"#2a3f5f\"}}, \"ternary\": {\"aaxis\": {\"gridcolor\": \"white\", \"linecolor\": \"white\", \"ticks\": \"\"}, \"baxis\": {\"gridcolor\": \"white\", \"linecolor\": \"white\", \"ticks\": \"\"}, \"bgcolor\": \"#E5ECF6\", \"caxis\": {\"gridcolor\": \"white\", \"linecolor\": \"white\", \"ticks\": \"\"}}, \"title\": {\"x\": 0.05}, \"xaxis\": {\"automargin\": true, \"gridcolor\": \"white\", \"linecolor\": \"white\", \"ticks\": \"\", \"title\": {\"standoff\": 15}, \"zerolinecolor\": \"white\", \"zerolinewidth\": 2}, \"yaxis\": {\"automargin\": true, \"gridcolor\": \"white\", \"linecolor\": \"white\", \"ticks\": \"\", \"title\": {\"standoff\": 15}, \"zerolinecolor\": \"white\", \"zerolinewidth\": 2}}}, \"xaxis\": {\"anchor\": \"y\", \"domain\": [0.0, 1.0], \"title\": {\"text\": \"x\"}}, \"yaxis\": {\"anchor\": \"x\", \"domain\": [0.0, 1.0], \"title\": {\"text\": \"y\"}}},                        {\"responsive\": true}                    ).then(function(){\n",
       "                            \n",
       "var gd = document.getElementById('acf9d819-e4f2-4541-9eae-1d419cacf79f');\n",
       "var x = new MutationObserver(function (mutations, observer) {{\n",
       "        var display = window.getComputedStyle(gd).display;\n",
       "        if (!display || display === 'none') {{\n",
       "            console.log([gd, 'removed!']);\n",
       "            Plotly.purge(gd);\n",
       "            observer.disconnect();\n",
       "        }}\n",
       "}});\n",
       "\n",
       "// Listen for the removal of the full notebook cells\n",
       "var notebookContainer = gd.closest('#notebook-container');\n",
       "if (notebookContainer) {{\n",
       "    x.observe(notebookContainer, {childList: true});\n",
       "}}\n",
       "\n",
       "// Listen for the clearing of the current output cell\n",
       "var outputEl = gd.closest('.output');\n",
       "if (outputEl) {{\n",
       "    x.observe(outputEl, {childList: true});\n",
       "}}\n",
       "\n",
       "                        })                };                });            </script>        </div>"
      ]
     },
     "metadata": {},
     "output_type": "display_data"
    },
    {
     "data": {
      "text/plain": [
       "<Figure size 864x576 with 0 Axes>"
      ]
     },
     "metadata": {},
     "output_type": "display_data"
    }
   ],
   "source": [
    "taxi_in=df_task4.groupby(['dest']).agg({'taxi_in':['count', 'mean']}).reset_index()\n",
    "\n",
    "plt.figure(figsize=(12, 8))\n",
    "\n",
    "fig=go.scatter(x=taxi_in[('taxi_in', 'count')], y=taxi_in[('taxi_in', 'mean')], color=taxi_in['dest'])\n",
    "fig.show()"
   ]
  },
  {
   "cell_type": "code",
   "execution_count": null,
   "metadata": {},
   "outputs": [],
   "source": []
  },
  {
   "cell_type": "code",
   "execution_count": null,
   "metadata": {},
   "outputs": [],
   "source": []
  },
  {
   "cell_type": "markdown",
   "metadata": {},
   "source": [
    "#### **Task 5**: What is the average percentage of delays that is already created before departure? (aka are arrival delays caused by departure delays?) Are airlines able to lower the delay during the flights?"
   ]
  },
  {
   "cell_type": "code",
   "execution_count": 209,
   "metadata": {},
   "outputs": [],
   "source": [
    "features = [\n",
    " 'fl_date',\n",
    " 'mkt_carrier',\n",
    " 'dep_delay',\n",
    " 'taxi_out',\n",
    " 'taxi_in',\n",
    " 'crs_arr_time',\n",
    " 'arr_time',\n",
    " 'arr_delay',\n",
    " 'crs_elapsed_time',\n",
    " 'actual_elapsed_time',\n",
    " 'air_time',\n",
    " 'distance']\n",
    "delays = df_flights[features]"
   ]
  },
  {
   "cell_type": "code",
   "execution_count": 210,
   "metadata": {},
   "outputs": [
    {
     "data": {
      "text/html": [
       "<div>\n",
       "<style scoped>\n",
       "    .dataframe tbody tr th:only-of-type {\n",
       "        vertical-align: middle;\n",
       "    }\n",
       "\n",
       "    .dataframe tbody tr th {\n",
       "        vertical-align: top;\n",
       "    }\n",
       "\n",
       "    .dataframe thead th {\n",
       "        text-align: right;\n",
       "    }\n",
       "</style>\n",
       "<table border=\"1\" class=\"dataframe\">\n",
       "  <thead>\n",
       "    <tr style=\"text-align: right;\">\n",
       "      <th></th>\n",
       "      <th>fl_date</th>\n",
       "      <th>mkt_carrier</th>\n",
       "      <th>dep_delay</th>\n",
       "      <th>taxi_out</th>\n",
       "      <th>taxi_in</th>\n",
       "      <th>crs_arr_time</th>\n",
       "      <th>arr_time</th>\n",
       "      <th>arr_delay</th>\n",
       "      <th>crs_elapsed_time</th>\n",
       "      <th>actual_elapsed_time</th>\n",
       "      <th>air_time</th>\n",
       "      <th>distance</th>\n",
       "    </tr>\n",
       "  </thead>\n",
       "  <tbody>\n",
       "    <tr>\n",
       "      <th>0</th>\n",
       "      <td>2018-08-30</td>\n",
       "      <td>AA</td>\n",
       "      <td>16.0</td>\n",
       "      <td>25.0</td>\n",
       "      <td>4.0</td>\n",
       "      <td>1303</td>\n",
       "      <td>1317.0</td>\n",
       "      <td>14.0</td>\n",
       "      <td>83.0</td>\n",
       "      <td>81.0</td>\n",
       "      <td>52.0</td>\n",
       "      <td>313.0</td>\n",
       "    </tr>\n",
       "    <tr>\n",
       "      <th>1</th>\n",
       "      <td>2018-08-30</td>\n",
       "      <td>AA</td>\n",
       "      <td>35.0</td>\n",
       "      <td>16.0</td>\n",
       "      <td>12.0</td>\n",
       "      <td>749</td>\n",
       "      <td>821.0</td>\n",
       "      <td>32.0</td>\n",
       "      <td>121.0</td>\n",
       "      <td>118.0</td>\n",
       "      <td>90.0</td>\n",
       "      <td>590.0</td>\n",
       "    </tr>\n",
       "    <tr>\n",
       "      <th>2</th>\n",
       "      <td>2018-08-30</td>\n",
       "      <td>AA</td>\n",
       "      <td>8.0</td>\n",
       "      <td>11.0</td>\n",
       "      <td>4.0</td>\n",
       "      <td>2116</td>\n",
       "      <td>2133.0</td>\n",
       "      <td>17.0</td>\n",
       "      <td>90.0</td>\n",
       "      <td>99.0</td>\n",
       "      <td>84.0</td>\n",
       "      <td>408.0</td>\n",
       "    </tr>\n",
       "    <tr>\n",
       "      <th>3</th>\n",
       "      <td>2018-08-30</td>\n",
       "      <td>AA</td>\n",
       "      <td>-3.0</td>\n",
       "      <td>37.0</td>\n",
       "      <td>3.0</td>\n",
       "      <td>1909</td>\n",
       "      <td>1929.0</td>\n",
       "      <td>20.0</td>\n",
       "      <td>99.0</td>\n",
       "      <td>122.0</td>\n",
       "      <td>82.0</td>\n",
       "      <td>408.0</td>\n",
       "    </tr>\n",
       "    <tr>\n",
       "      <th>4</th>\n",
       "      <td>2018-08-30</td>\n",
       "      <td>DL</td>\n",
       "      <td>-8.0</td>\n",
       "      <td>19.0</td>\n",
       "      <td>9.0</td>\n",
       "      <td>1614</td>\n",
       "      <td>1602.0</td>\n",
       "      <td>-12.0</td>\n",
       "      <td>87.0</td>\n",
       "      <td>83.0</td>\n",
       "      <td>55.0</td>\n",
       "      <td>352.0</td>\n",
       "    </tr>\n",
       "  </tbody>\n",
       "</table>\n",
       "</div>"
      ],
      "text/plain": [
       "     fl_date mkt_carrier  dep_delay  taxi_out  taxi_in  crs_arr_time  \\\n",
       "0 2018-08-30          AA       16.0      25.0      4.0          1303   \n",
       "1 2018-08-30          AA       35.0      16.0     12.0           749   \n",
       "2 2018-08-30          AA        8.0      11.0      4.0          2116   \n",
       "3 2018-08-30          AA       -3.0      37.0      3.0          1909   \n",
       "4 2018-08-30          DL       -8.0      19.0      9.0          1614   \n",
       "\n",
       "   arr_time  arr_delay  crs_elapsed_time  actual_elapsed_time  air_time  \\\n",
       "0    1317.0       14.0              83.0                 81.0      52.0   \n",
       "1     821.0       32.0             121.0                118.0      90.0   \n",
       "2    2133.0       17.0              90.0                 99.0      84.0   \n",
       "3    1929.0       20.0              99.0                122.0      82.0   \n",
       "4    1602.0      -12.0              87.0                 83.0      55.0   \n",
       "\n",
       "   distance  \n",
       "0     313.0  \n",
       "1     590.0  \n",
       "2     408.0  \n",
       "3     408.0  \n",
       "4     352.0  "
      ]
     },
     "execution_count": 210,
     "metadata": {},
     "output_type": "execute_result"
    }
   ],
   "source": [
    "delays.head()"
   ]
  },
  {
   "cell_type": "code",
   "execution_count": 211,
   "metadata": {},
   "outputs": [
    {
     "name": "stderr",
     "output_type": "stream",
     "text": [
      "<ipython-input-211-5286996c2e03>:1: SettingWithCopyWarning: \n",
      "A value is trying to be set on a copy of a slice from a DataFrame.\n",
      "Try using .loc[row_indexer,col_indexer] = value instead\n",
      "\n",
      "See the caveats in the documentation: https://pandas.pydata.org/pandas-docs/stable/user_guide/indexing.html#returning-a-view-versus-a-copy\n",
      "  delays['delays_sum']=delays['arr_delay']+delays['dep_delay']\n",
      "<ipython-input-211-5286996c2e03>:2: SettingWithCopyWarning: \n",
      "A value is trying to be set on a copy of a slice from a DataFrame.\n",
      "Try using .loc[row_indexer,col_indexer] = value instead\n",
      "\n",
      "See the caveats in the documentation: https://pandas.pydata.org/pandas-docs/stable/user_guide/indexing.html#returning-a-view-versus-a-copy\n",
      "  delays['make_up_times']=''\n"
     ]
    }
   ],
   "source": [
    "delays['delays_sum']=delays['arr_delay']+delays['dep_delay']\n",
    "delays['make_up_times']=''\n",
    "for i in delays.index:\n",
    "    if delays._get_value(i, 'dep_delay')>0:\n",
    "        if delays._get_value(i, 'dep_delay')<=delays._get_value(i, 'arr_delay'):\n",
    "            delays._set_value(i, 'make_up_times', 'no')\n",
    "        \n",
    "        else:\n",
    "            delays._set_value(i, 'make_up_times', 'yes')\n",
    "    else:\n",
    "        delays._set_value(i, 'make_up_times', 'no departure delay')\n"
   ]
  },
  {
   "cell_type": "code",
   "execution_count": 212,
   "metadata": {},
   "outputs": [
    {
     "data": {
      "text/html": [
       "<div>\n",
       "<style scoped>\n",
       "    .dataframe tbody tr th:only-of-type {\n",
       "        vertical-align: middle;\n",
       "    }\n",
       "\n",
       "    .dataframe tbody tr th {\n",
       "        vertical-align: top;\n",
       "    }\n",
       "\n",
       "    .dataframe thead th {\n",
       "        text-align: right;\n",
       "    }\n",
       "</style>\n",
       "<table border=\"1\" class=\"dataframe\">\n",
       "  <thead>\n",
       "    <tr style=\"text-align: right;\">\n",
       "      <th></th>\n",
       "      <th>fl_date</th>\n",
       "      <th>mkt_carrier</th>\n",
       "      <th>dep_delay</th>\n",
       "      <th>taxi_out</th>\n",
       "      <th>taxi_in</th>\n",
       "      <th>crs_arr_time</th>\n",
       "      <th>arr_time</th>\n",
       "      <th>arr_delay</th>\n",
       "      <th>crs_elapsed_time</th>\n",
       "      <th>actual_elapsed_time</th>\n",
       "      <th>air_time</th>\n",
       "      <th>distance</th>\n",
       "      <th>delays_sum</th>\n",
       "      <th>make_up_times</th>\n",
       "    </tr>\n",
       "  </thead>\n",
       "  <tbody>\n",
       "    <tr>\n",
       "      <th>0</th>\n",
       "      <td>2018-08-30</td>\n",
       "      <td>AA</td>\n",
       "      <td>16.0</td>\n",
       "      <td>25.0</td>\n",
       "      <td>4.0</td>\n",
       "      <td>1303</td>\n",
       "      <td>1317.0</td>\n",
       "      <td>14.0</td>\n",
       "      <td>83.0</td>\n",
       "      <td>81.0</td>\n",
       "      <td>52.0</td>\n",
       "      <td>313.0</td>\n",
       "      <td>30.0</td>\n",
       "      <td>yes</td>\n",
       "    </tr>\n",
       "    <tr>\n",
       "      <th>1</th>\n",
       "      <td>2018-08-30</td>\n",
       "      <td>AA</td>\n",
       "      <td>35.0</td>\n",
       "      <td>16.0</td>\n",
       "      <td>12.0</td>\n",
       "      <td>749</td>\n",
       "      <td>821.0</td>\n",
       "      <td>32.0</td>\n",
       "      <td>121.0</td>\n",
       "      <td>118.0</td>\n",
       "      <td>90.0</td>\n",
       "      <td>590.0</td>\n",
       "      <td>67.0</td>\n",
       "      <td>yes</td>\n",
       "    </tr>\n",
       "    <tr>\n",
       "      <th>2</th>\n",
       "      <td>2018-08-30</td>\n",
       "      <td>AA</td>\n",
       "      <td>8.0</td>\n",
       "      <td>11.0</td>\n",
       "      <td>4.0</td>\n",
       "      <td>2116</td>\n",
       "      <td>2133.0</td>\n",
       "      <td>17.0</td>\n",
       "      <td>90.0</td>\n",
       "      <td>99.0</td>\n",
       "      <td>84.0</td>\n",
       "      <td>408.0</td>\n",
       "      <td>25.0</td>\n",
       "      <td>no</td>\n",
       "    </tr>\n",
       "    <tr>\n",
       "      <th>3</th>\n",
       "      <td>2018-08-30</td>\n",
       "      <td>AA</td>\n",
       "      <td>-3.0</td>\n",
       "      <td>37.0</td>\n",
       "      <td>3.0</td>\n",
       "      <td>1909</td>\n",
       "      <td>1929.0</td>\n",
       "      <td>20.0</td>\n",
       "      <td>99.0</td>\n",
       "      <td>122.0</td>\n",
       "      <td>82.0</td>\n",
       "      <td>408.0</td>\n",
       "      <td>17.0</td>\n",
       "      <td>no departure delay</td>\n",
       "    </tr>\n",
       "    <tr>\n",
       "      <th>4</th>\n",
       "      <td>2018-08-30</td>\n",
       "      <td>DL</td>\n",
       "      <td>-8.0</td>\n",
       "      <td>19.0</td>\n",
       "      <td>9.0</td>\n",
       "      <td>1614</td>\n",
       "      <td>1602.0</td>\n",
       "      <td>-12.0</td>\n",
       "      <td>87.0</td>\n",
       "      <td>83.0</td>\n",
       "      <td>55.0</td>\n",
       "      <td>352.0</td>\n",
       "      <td>-20.0</td>\n",
       "      <td>no departure delay</td>\n",
       "    </tr>\n",
       "  </tbody>\n",
       "</table>\n",
       "</div>"
      ],
      "text/plain": [
       "     fl_date mkt_carrier  dep_delay  taxi_out  taxi_in  crs_arr_time  \\\n",
       "0 2018-08-30          AA       16.0      25.0      4.0          1303   \n",
       "1 2018-08-30          AA       35.0      16.0     12.0           749   \n",
       "2 2018-08-30          AA        8.0      11.0      4.0          2116   \n",
       "3 2018-08-30          AA       -3.0      37.0      3.0          1909   \n",
       "4 2018-08-30          DL       -8.0      19.0      9.0          1614   \n",
       "\n",
       "   arr_time  arr_delay  crs_elapsed_time  actual_elapsed_time  air_time  \\\n",
       "0    1317.0       14.0              83.0                 81.0      52.0   \n",
       "1     821.0       32.0             121.0                118.0      90.0   \n",
       "2    2133.0       17.0              90.0                 99.0      84.0   \n",
       "3    1929.0       20.0              99.0                122.0      82.0   \n",
       "4    1602.0      -12.0              87.0                 83.0      55.0   \n",
       "\n",
       "   distance  delays_sum       make_up_times  \n",
       "0     313.0        30.0                 yes  \n",
       "1     590.0        67.0                 yes  \n",
       "2     408.0        25.0                  no  \n",
       "3     408.0        17.0  no departure delay  \n",
       "4     352.0       -20.0  no departure delay  "
      ]
     },
     "execution_count": 212,
     "metadata": {},
     "output_type": "execute_result"
    }
   ],
   "source": [
    "delays.head()"
   ]
  },
  {
   "cell_type": "code",
   "execution_count": 213,
   "metadata": {},
   "outputs": [
    {
     "data": {
      "text/html": [
       "<div>\n",
       "<style scoped>\n",
       "    .dataframe tbody tr th:only-of-type {\n",
       "        vertical-align: middle;\n",
       "    }\n",
       "\n",
       "    .dataframe tbody tr th {\n",
       "        vertical-align: top;\n",
       "    }\n",
       "\n",
       "    .dataframe thead th {\n",
       "        text-align: right;\n",
       "    }\n",
       "</style>\n",
       "<table border=\"1\" class=\"dataframe\">\n",
       "  <thead>\n",
       "    <tr style=\"text-align: right;\">\n",
       "      <th></th>\n",
       "      <th>fl_date</th>\n",
       "      <th>dep_delay</th>\n",
       "      <th>taxi_out</th>\n",
       "      <th>taxi_in</th>\n",
       "      <th>crs_arr_time</th>\n",
       "      <th>arr_time</th>\n",
       "      <th>arr_delay</th>\n",
       "      <th>crs_elapsed_time</th>\n",
       "      <th>actual_elapsed_time</th>\n",
       "      <th>air_time</th>\n",
       "      <th>distance</th>\n",
       "      <th>delays_sum</th>\n",
       "      <th>make_up_times</th>\n",
       "    </tr>\n",
       "    <tr>\n",
       "      <th>mkt_carrier</th>\n",
       "      <th></th>\n",
       "      <th></th>\n",
       "      <th></th>\n",
       "      <th></th>\n",
       "      <th></th>\n",
       "      <th></th>\n",
       "      <th></th>\n",
       "      <th></th>\n",
       "      <th></th>\n",
       "      <th></th>\n",
       "      <th></th>\n",
       "      <th></th>\n",
       "      <th></th>\n",
       "    </tr>\n",
       "  </thead>\n",
       "  <tbody>\n",
       "    <tr>\n",
       "      <th>AA</th>\n",
       "      <td>2495</td>\n",
       "      <td>2495</td>\n",
       "      <td>2495</td>\n",
       "      <td>2495</td>\n",
       "      <td>2495</td>\n",
       "      <td>2495</td>\n",
       "      <td>2495</td>\n",
       "      <td>2495</td>\n",
       "      <td>2495</td>\n",
       "      <td>2495</td>\n",
       "      <td>2495</td>\n",
       "      <td>2495</td>\n",
       "      <td>2495</td>\n",
       "    </tr>\n",
       "    <tr>\n",
       "      <th>AS</th>\n",
       "      <td>555</td>\n",
       "      <td>555</td>\n",
       "      <td>555</td>\n",
       "      <td>555</td>\n",
       "      <td>555</td>\n",
       "      <td>555</td>\n",
       "      <td>555</td>\n",
       "      <td>555</td>\n",
       "      <td>555</td>\n",
       "      <td>555</td>\n",
       "      <td>555</td>\n",
       "      <td>555</td>\n",
       "      <td>555</td>\n",
       "    </tr>\n",
       "    <tr>\n",
       "      <th>B6</th>\n",
       "      <td>244</td>\n",
       "      <td>244</td>\n",
       "      <td>244</td>\n",
       "      <td>244</td>\n",
       "      <td>244</td>\n",
       "      <td>244</td>\n",
       "      <td>244</td>\n",
       "      <td>244</td>\n",
       "      <td>244</td>\n",
       "      <td>244</td>\n",
       "      <td>244</td>\n",
       "      <td>244</td>\n",
       "      <td>244</td>\n",
       "    </tr>\n",
       "    <tr>\n",
       "      <th>DL</th>\n",
       "      <td>4188</td>\n",
       "      <td>4188</td>\n",
       "      <td>4188</td>\n",
       "      <td>4188</td>\n",
       "      <td>4188</td>\n",
       "      <td>4188</td>\n",
       "      <td>4188</td>\n",
       "      <td>4188</td>\n",
       "      <td>4188</td>\n",
       "      <td>4188</td>\n",
       "      <td>4188</td>\n",
       "      <td>4188</td>\n",
       "      <td>4188</td>\n",
       "    </tr>\n",
       "    <tr>\n",
       "      <th>G4</th>\n",
       "      <td>26</td>\n",
       "      <td>26</td>\n",
       "      <td>26</td>\n",
       "      <td>26</td>\n",
       "      <td>26</td>\n",
       "      <td>26</td>\n",
       "      <td>26</td>\n",
       "      <td>26</td>\n",
       "      <td>26</td>\n",
       "      <td>26</td>\n",
       "      <td>26</td>\n",
       "      <td>26</td>\n",
       "      <td>26</td>\n",
       "    </tr>\n",
       "    <tr>\n",
       "      <th>HA</th>\n",
       "      <td>167</td>\n",
       "      <td>167</td>\n",
       "      <td>167</td>\n",
       "      <td>167</td>\n",
       "      <td>167</td>\n",
       "      <td>167</td>\n",
       "      <td>167</td>\n",
       "      <td>167</td>\n",
       "      <td>167</td>\n",
       "      <td>167</td>\n",
       "      <td>167</td>\n",
       "      <td>167</td>\n",
       "      <td>167</td>\n",
       "    </tr>\n",
       "    <tr>\n",
       "      <th>NK</th>\n",
       "      <td>234</td>\n",
       "      <td>234</td>\n",
       "      <td>234</td>\n",
       "      <td>234</td>\n",
       "      <td>234</td>\n",
       "      <td>234</td>\n",
       "      <td>234</td>\n",
       "      <td>234</td>\n",
       "      <td>234</td>\n",
       "      <td>234</td>\n",
       "      <td>234</td>\n",
       "      <td>234</td>\n",
       "      <td>234</td>\n",
       "    </tr>\n",
       "    <tr>\n",
       "      <th>UA</th>\n",
       "      <td>1890</td>\n",
       "      <td>1890</td>\n",
       "      <td>1890</td>\n",
       "      <td>1890</td>\n",
       "      <td>1890</td>\n",
       "      <td>1890</td>\n",
       "      <td>1890</td>\n",
       "      <td>1890</td>\n",
       "      <td>1890</td>\n",
       "      <td>1890</td>\n",
       "      <td>1890</td>\n",
       "      <td>1890</td>\n",
       "      <td>1890</td>\n",
       "    </tr>\n",
       "    <tr>\n",
       "      <th>WN</th>\n",
       "      <td>104</td>\n",
       "      <td>104</td>\n",
       "      <td>104</td>\n",
       "      <td>104</td>\n",
       "      <td>104</td>\n",
       "      <td>104</td>\n",
       "      <td>104</td>\n",
       "      <td>104</td>\n",
       "      <td>104</td>\n",
       "      <td>104</td>\n",
       "      <td>104</td>\n",
       "      <td>104</td>\n",
       "      <td>104</td>\n",
       "    </tr>\n",
       "  </tbody>\n",
       "</table>\n",
       "</div>"
      ],
      "text/plain": [
       "             fl_date  dep_delay  taxi_out  taxi_in  crs_arr_time  arr_time  \\\n",
       "mkt_carrier                                                                  \n",
       "AA              2495       2495      2495     2495          2495      2495   \n",
       "AS               555        555       555      555           555       555   \n",
       "B6               244        244       244      244           244       244   \n",
       "DL              4188       4188      4188     4188          4188      4188   \n",
       "G4                26         26        26       26            26        26   \n",
       "HA               167        167       167      167           167       167   \n",
       "NK               234        234       234      234           234       234   \n",
       "UA              1890       1890      1890     1890          1890      1890   \n",
       "WN               104        104       104      104           104       104   \n",
       "\n",
       "             arr_delay  crs_elapsed_time  actual_elapsed_time  air_time  \\\n",
       "mkt_carrier                                                               \n",
       "AA                2495              2495                 2495      2495   \n",
       "AS                 555               555                  555       555   \n",
       "B6                 244               244                  244       244   \n",
       "DL                4188              4188                 4188      4188   \n",
       "G4                  26                26                   26        26   \n",
       "HA                 167               167                  167       167   \n",
       "NK                 234               234                  234       234   \n",
       "UA                1890              1890                 1890      1890   \n",
       "WN                 104               104                  104       104   \n",
       "\n",
       "             distance  delays_sum  make_up_times  \n",
       "mkt_carrier                                       \n",
       "AA               2495        2495           2495  \n",
       "AS                555         555            555  \n",
       "B6                244         244            244  \n",
       "DL               4188        4188           4188  \n",
       "G4                 26          26             26  \n",
       "HA                167         167            167  \n",
       "NK                234         234            234  \n",
       "UA               1890        1890           1890  \n",
       "WN                104         104            104  "
      ]
     },
     "execution_count": 213,
     "metadata": {},
     "output_type": "execute_result"
    }
   ],
   "source": [
    "delays.groupby('mkt_carrier').count()"
   ]
  },
  {
   "cell_type": "code",
   "execution_count": 214,
   "metadata": {},
   "outputs": [
    {
     "data": {
      "text/plain": [
       "array(['AA', 'DL', 'B6', 'AS', 'HA', 'UA', 'NK', 'WN', 'G4'], dtype=object)"
      ]
     },
     "execution_count": 214,
     "metadata": {},
     "output_type": "execute_result"
    }
   ],
   "source": [
    "delays['mkt_carrier'].unique()"
   ]
  },
  {
   "cell_type": "code",
   "execution_count": 223,
   "metadata": {},
   "outputs": [
    {
     "name": "stdout",
     "output_type": "stream",
     "text": [
      "AA is able to make up for departure delay upto: 64 % of the time\n",
      "DL is able to make up for departure delay upto: 81 % of the time\n",
      "B6 is able to make up for departure delay upto: 77 % of the time\n",
      "AS is able to make up for departure delay upto: 56 % of the time\n",
      "HA is able to make up for departure delay upto: 75 % of the time\n",
      "UA is able to make up for departure delay upto: 60 % of the time\n",
      "NK is able to make up for departure delay upto: 81 % of the time\n",
      "WN is able to make up for departure delay upto: 85 % of the time\n",
      "G4 is able to make up for departure delay upto: 50 % of the time\n"
     ]
    }
   ],
   "source": [
    "# airlines that make up for delays\n",
    "\n",
    "airline_dep_delays={'AA':[0,0,0], 'DL':[0,0,0], 'B6':[0,0,0], 'AS':[0,0,0], 'HA':[0,0,0], 'UA':[0,0,0], 'NK':[0,0,0], 'WN':[0,0,0], 'G4':[0,0,0]}\n",
    "\n",
    "for i in delays.index:\n",
    "    if delays._get_value(i, 'make_up_times')=='yes':\n",
    "        airline_dep_delays[dfDelay._get_value(i,'mkt_carrier')][0] +=1\n",
    "    \n",
    "    elif delays._get_value(i, 'make_up_times')=='no':\n",
    "        airline_dep_delays[dfDelay._get_value(i,'mkt_carrier')][1] +=1\n",
    "    \n",
    "    else: \n",
    "        airline_dep_delays[dfDelay._get_value(i,'mkt_carrier')][2] +=1\n",
    "        \n",
    "#k[0] is when dep_delay is greater than arrival delay but it is managed to arrive shorter delay than the departure\n",
    "#k[1] is when there is a departure delay but the plane arrives with no delay to its destination.\n",
    "for j, k in airline_dep_delays.items():\n",
    "    print(f'{j} is able to make up for departure delay upto: {round(k[0]/(k[0]+k[1])*100)} % of the time') "
   ]
  },
  {
   "cell_type": "code",
   "execution_count": 226,
   "metadata": {},
   "outputs": [
    {
     "name": "stdout",
     "output_type": "stream",
     "text": [
      "AA gets delayed at departure upto: 29 % of the time\n",
      "DL gets delayed at departure upto: 23 % of the time\n",
      "B6 gets delayed at departure upto: 30 % of the time\n",
      "AS gets delayed at departure upto: 23 % of the time\n",
      "HA gets delayed at departure upto: 7 % of the time\n",
      "UA gets delayed at departure upto: 28 % of the time\n",
      "NK gets delayed at departure upto: 29 % of the time\n",
      "WN gets delayed at departure upto: 44 % of the time\n",
      "G4 gets delayed at departure upto: 31 % of the time\n"
     ]
    }
   ],
   "source": [
    "# Finding the delays when departuring\n",
    "\n",
    "# k[2] is when the plane leaves without delay\n",
    "\n",
    "for j, k in airline_dep_delays.items():\n",
    "    print(f'{j} gets delayed at departure upto: {round((k[0]+k[1])/(k[0]+k[1]+k[2])*100)} % of the time')"
   ]
  },
  {
   "cell_type": "code",
   "execution_count": null,
   "metadata": {},
   "outputs": [],
   "source": []
  },
  {
   "cell_type": "markdown",
   "metadata": {},
   "source": [
    "#### **Task 6**: How many states cover 50% of US air traffic? "
   ]
  },
  {
   "cell_type": "code",
   "execution_count": 337,
   "metadata": {},
   "outputs": [],
   "source": [
    "df_task6=df_flights.copy(deep=True)"
   ]
  },
  {
   "cell_type": "code",
   "execution_count": 338,
   "metadata": {},
   "outputs": [
    {
     "data": {
      "text/plain": [
       "Index(['fl_date', 'mkt_unique_carrier', 'branded_code_share', 'mkt_carrier',\n",
       "       'mkt_carrier_fl_num', 'op_unique_carrier', 'tail_num',\n",
       "       'op_carrier_fl_num', 'origin_airport_id', 'origin', 'origin_city_name',\n",
       "       'dest_airport_id', 'dest', 'dest_city_name', 'crs_dep_time', 'dep_time',\n",
       "       'dep_delay', 'taxi_out', 'wheels_off', 'wheels_on', 'taxi_in',\n",
       "       'crs_arr_time', 'arr_time', 'arr_delay', 'cancelled', 'diverted', 'dup',\n",
       "       'crs_elapsed_time', 'actual_elapsed_time', 'air_time', 'flights',\n",
       "       'distance', 'carrier_delay', 'weather_delay', 'nas_delay',\n",
       "       'security_delay', 'late_aircraft_delay'],\n",
       "      dtype='object')"
      ]
     },
     "execution_count": 338,
     "metadata": {},
     "output_type": "execute_result"
    }
   ],
   "source": [
    "df_task6.columns"
   ]
  },
  {
   "cell_type": "code",
   "execution_count": 339,
   "metadata": {},
   "outputs": [
    {
     "data": {
      "text/html": [
       "<div>\n",
       "<style scoped>\n",
       "    .dataframe tbody tr th:only-of-type {\n",
       "        vertical-align: middle;\n",
       "    }\n",
       "\n",
       "    .dataframe tbody tr th {\n",
       "        vertical-align: top;\n",
       "    }\n",
       "\n",
       "    .dataframe thead th {\n",
       "        text-align: right;\n",
       "    }\n",
       "</style>\n",
       "<table border=\"1\" class=\"dataframe\">\n",
       "  <thead>\n",
       "    <tr style=\"text-align: right;\">\n",
       "      <th></th>\n",
       "      <th>origin_city_name</th>\n",
       "      <th>dest_city_name</th>\n",
       "    </tr>\n",
       "  </thead>\n",
       "  <tbody>\n",
       "    <tr>\n",
       "      <th>0</th>\n",
       "      <td>Washington, DC</td>\n",
       "      <td>Houston, TX</td>\n",
       "    </tr>\n",
       "    <tr>\n",
       "      <th>1</th>\n",
       "      <td>Washington, DC</td>\n",
       "      <td>Columbus, OH</td>\n",
       "    </tr>\n",
       "    <tr>\n",
       "      <th>2</th>\n",
       "      <td>Houston, TX</td>\n",
       "      <td>Omaha, NE</td>\n",
       "    </tr>\n",
       "    <tr>\n",
       "      <th>3</th>\n",
       "      <td>Houston, TX</td>\n",
       "      <td>Louisville, KY</td>\n",
       "    </tr>\n",
       "    <tr>\n",
       "      <th>4</th>\n",
       "      <td>Phoenix, AZ</td>\n",
       "      <td>Yuma, AZ</td>\n",
       "    </tr>\n",
       "  </tbody>\n",
       "</table>\n",
       "</div>"
      ],
      "text/plain": [
       "  origin_city_name  dest_city_name\n",
       "0   Washington, DC     Houston, TX\n",
       "1   Washington, DC    Columbus, OH\n",
       "2      Houston, TX       Omaha, NE\n",
       "3      Houston, TX  Louisville, KY\n",
       "4      Phoenix, AZ        Yuma, AZ"
      ]
     },
     "execution_count": 339,
     "metadata": {},
     "output_type": "execute_result"
    }
   ],
   "source": [
    "#There is no column for for states, but we can use the columns for origin and destination cities\n",
    "df_task6[['origin_city_name', 'dest_city_name']].head()"
   ]
  },
  {
   "cell_type": "code",
   "execution_count": 340,
   "metadata": {},
   "outputs": [
    {
     "data": {
      "text/html": [
       "<div>\n",
       "<style scoped>\n",
       "    .dataframe tbody tr th:only-of-type {\n",
       "        vertical-align: middle;\n",
       "    }\n",
       "\n",
       "    .dataframe tbody tr th {\n",
       "        vertical-align: top;\n",
       "    }\n",
       "\n",
       "    .dataframe thead th {\n",
       "        text-align: right;\n",
       "    }\n",
       "</style>\n",
       "<table border=\"1\" class=\"dataframe\">\n",
       "  <thead>\n",
       "    <tr style=\"text-align: right;\">\n",
       "      <th></th>\n",
       "      <th>fl_date</th>\n",
       "      <th>mkt_unique_carrier</th>\n",
       "      <th>branded_code_share</th>\n",
       "      <th>mkt_carrier</th>\n",
       "      <th>mkt_carrier_fl_num</th>\n",
       "      <th>op_unique_carrier</th>\n",
       "      <th>tail_num</th>\n",
       "      <th>op_carrier_fl_num</th>\n",
       "      <th>origin_airport_id</th>\n",
       "      <th>origin</th>\n",
       "      <th>...</th>\n",
       "      <th>air_time</th>\n",
       "      <th>flights</th>\n",
       "      <th>distance</th>\n",
       "      <th>carrier_delay</th>\n",
       "      <th>weather_delay</th>\n",
       "      <th>nas_delay</th>\n",
       "      <th>security_delay</th>\n",
       "      <th>late_aircraft_delay</th>\n",
       "      <th>origin_state</th>\n",
       "      <th>destination_state</th>\n",
       "    </tr>\n",
       "  </thead>\n",
       "  <tbody>\n",
       "    <tr>\n",
       "      <th>0</th>\n",
       "      <td>2019-10-01</td>\n",
       "      <td>UA</td>\n",
       "      <td>UA_CODESHARE</td>\n",
       "      <td>UA</td>\n",
       "      <td>6312</td>\n",
       "      <td>YV</td>\n",
       "      <td>N88331</td>\n",
       "      <td>6312</td>\n",
       "      <td>11278</td>\n",
       "      <td>DCA</td>\n",
       "      <td>...</td>\n",
       "      <td>154.0</td>\n",
       "      <td>1.0</td>\n",
       "      <td>1208.0</td>\n",
       "      <td>20.0</td>\n",
       "      <td>0.0</td>\n",
       "      <td>0.0</td>\n",
       "      <td>0.0</td>\n",
       "      <td>0.0</td>\n",
       "      <td>DC</td>\n",
       "      <td>TX</td>\n",
       "    </tr>\n",
       "    <tr>\n",
       "      <th>1</th>\n",
       "      <td>2019-10-01</td>\n",
       "      <td>UA</td>\n",
       "      <td>UA_CODESHARE</td>\n",
       "      <td>UA</td>\n",
       "      <td>6248</td>\n",
       "      <td>YV</td>\n",
       "      <td>N521LR</td>\n",
       "      <td>6248</td>\n",
       "      <td>12264</td>\n",
       "      <td>IAD</td>\n",
       "      <td>...</td>\n",
       "      <td>49.0</td>\n",
       "      <td>1.0</td>\n",
       "      <td>299.0</td>\n",
       "      <td>20.0</td>\n",
       "      <td>0.0</td>\n",
       "      <td>0.0</td>\n",
       "      <td>0.0</td>\n",
       "      <td>0.0</td>\n",
       "      <td>DC</td>\n",
       "      <td>OH</td>\n",
       "    </tr>\n",
       "    <tr>\n",
       "      <th>2</th>\n",
       "      <td>2019-10-01</td>\n",
       "      <td>UA</td>\n",
       "      <td>UA_CODESHARE</td>\n",
       "      <td>UA</td>\n",
       "      <td>6186</td>\n",
       "      <td>YV</td>\n",
       "      <td>N87345</td>\n",
       "      <td>6186</td>\n",
       "      <td>12266</td>\n",
       "      <td>IAH</td>\n",
       "      <td>...</td>\n",
       "      <td>97.0</td>\n",
       "      <td>1.0</td>\n",
       "      <td>781.0</td>\n",
       "      <td>18.0</td>\n",
       "      <td>0.0</td>\n",
       "      <td>0.0</td>\n",
       "      <td>0.0</td>\n",
       "      <td>0.0</td>\n",
       "      <td>TX</td>\n",
       "      <td>NE</td>\n",
       "    </tr>\n",
       "    <tr>\n",
       "      <th>3</th>\n",
       "      <td>2019-10-01</td>\n",
       "      <td>UA</td>\n",
       "      <td>UA_CODESHARE</td>\n",
       "      <td>UA</td>\n",
       "      <td>6253</td>\n",
       "      <td>YV</td>\n",
       "      <td>N85358</td>\n",
       "      <td>6253</td>\n",
       "      <td>12266</td>\n",
       "      <td>IAH</td>\n",
       "      <td>...</td>\n",
       "      <td>107.0</td>\n",
       "      <td>1.0</td>\n",
       "      <td>788.0</td>\n",
       "      <td>16.0</td>\n",
       "      <td>0.0</td>\n",
       "      <td>0.0</td>\n",
       "      <td>0.0</td>\n",
       "      <td>0.0</td>\n",
       "      <td>TX</td>\n",
       "      <td>KY</td>\n",
       "    </tr>\n",
       "    <tr>\n",
       "      <th>4</th>\n",
       "      <td>2019-10-01</td>\n",
       "      <td>AA</td>\n",
       "      <td>AA_CODESHARE</td>\n",
       "      <td>AA</td>\n",
       "      <td>5710</td>\n",
       "      <td>YV</td>\n",
       "      <td>N912FJ</td>\n",
       "      <td>5710</td>\n",
       "      <td>14107</td>\n",
       "      <td>PHX</td>\n",
       "      <td>...</td>\n",
       "      <td>33.0</td>\n",
       "      <td>1.0</td>\n",
       "      <td>160.0</td>\n",
       "      <td>0.0</td>\n",
       "      <td>0.0</td>\n",
       "      <td>7.0</td>\n",
       "      <td>0.0</td>\n",
       "      <td>22.0</td>\n",
       "      <td>AZ</td>\n",
       "      <td>AZ</td>\n",
       "    </tr>\n",
       "  </tbody>\n",
       "</table>\n",
       "<p>5 rows × 39 columns</p>\n",
       "</div>"
      ],
      "text/plain": [
       "      fl_date mkt_unique_carrier branded_code_share mkt_carrier  \\\n",
       "0  2019-10-01                 UA       UA_CODESHARE          UA   \n",
       "1  2019-10-01                 UA       UA_CODESHARE          UA   \n",
       "2  2019-10-01                 UA       UA_CODESHARE          UA   \n",
       "3  2019-10-01                 UA       UA_CODESHARE          UA   \n",
       "4  2019-10-01                 AA       AA_CODESHARE          AA   \n",
       "\n",
       "   mkt_carrier_fl_num op_unique_carrier tail_num  op_carrier_fl_num  \\\n",
       "0                6312                YV   N88331               6312   \n",
       "1                6248                YV   N521LR               6248   \n",
       "2                6186                YV   N87345               6186   \n",
       "3                6253                YV   N85358               6253   \n",
       "4                5710                YV   N912FJ               5710   \n",
       "\n",
       "   origin_airport_id origin  ... air_time  flights distance carrier_delay  \\\n",
       "0              11278    DCA  ...    154.0      1.0   1208.0          20.0   \n",
       "1              12264    IAD  ...     49.0      1.0    299.0          20.0   \n",
       "2              12266    IAH  ...     97.0      1.0    781.0          18.0   \n",
       "3              12266    IAH  ...    107.0      1.0    788.0          16.0   \n",
       "4              14107    PHX  ...     33.0      1.0    160.0           0.0   \n",
       "\n",
       "   weather_delay  nas_delay  security_delay  late_aircraft_delay  \\\n",
       "0            0.0        0.0             0.0                  0.0   \n",
       "1            0.0        0.0             0.0                  0.0   \n",
       "2            0.0        0.0             0.0                  0.0   \n",
       "3            0.0        0.0             0.0                  0.0   \n",
       "4            0.0        7.0             0.0                 22.0   \n",
       "\n",
       "   origin_state  destination_state  \n",
       "0            DC                 TX  \n",
       "1            DC                 OH  \n",
       "2            TX                 NE  \n",
       "3            TX                 KY  \n",
       "4            AZ                 AZ  \n",
       "\n",
       "[5 rows x 39 columns]"
      ]
     },
     "execution_count": 340,
     "metadata": {},
     "output_type": "execute_result"
    }
   ],
   "source": [
    "#Spliting the codes from state's name\n",
    "df_task6['origin_state']=df_task6['origin_city_name'].apply(lambda x: x.split(', ')[1])\n",
    "df_task6['destination_state']=df_task6['dest_city_name'].apply(lambda x: x.split(', ')[1])\n",
    "df_task6.head()"
   ]
  },
  {
   "cell_type": "code",
   "execution_count": 341,
   "metadata": {},
   "outputs": [],
   "source": [
    "# counting the number of flights based on origin and destination\n",
    "flights_per_state_origin=df_task6.groupby('origin_state')['fl_date'].count().sort_values(ascending=False)\n",
    "flights_per_state_destination=df_task6.groupby('destination_state')['fl_date'].count().sort_values(ascending=False)"
   ]
  },
  {
   "cell_type": "code",
   "execution_count": 342,
   "metadata": {},
   "outputs": [
    {
     "data": {
      "text/plain": [
       "Text(0, 0.5, 'Origin State')"
      ]
     },
     "execution_count": 342,
     "metadata": {},
     "output_type": "execute_result"
    },
    {
     "data": {
      "image/png": "[encoded data removed]",
      "text/plain": [
       "<Figure size 1080x864 with 1 Axes>"
      ]
     },
     "metadata": {
      "needs_background": "light"
     },
     "output_type": "display_data"
    }
   ],
   "source": [
    "ax=plt.subplots(figsize=(15, 12))\n",
    "million=1000000\n",
    "ax=sns.barplot(x=flights_per_state_origin.values/million, y=flights_per_state_origin.index)\n",
    "ax.set_title('Number of Flights Based On States', fontsize=14)\n",
    "ax.set_xlabel('Flights Per Million')\n",
    "ax.set_ylabel('Origin State')\n",
    "\n",
    "\n"
   ]
  },
  {
   "cell_type": "code",
   "execution_count": 343,
   "metadata": {},
   "outputs": [
    {
     "data": {
      "text/plain": [
       "Text(0, 0.5, 'Destination State')"
      ]
     },
     "execution_count": 343,
     "metadata": {},
     "output_type": "execute_result"
    },
    {
     "data": {
      "image/png": "[encoded data removed]",
      "text/plain": [
       "<Figure size 1080x864 with 1 Axes>"
      ]
     },
     "metadata": {
      "needs_background": "light"
     },
     "output_type": "display_data"
    }
   ],
   "source": [
    "ax=plt.subplots(figsize=(15, 12))\n",
    "million=1000000\n",
    "ax=sns.barplot(x=flights_per_state_destination/million, y=flights_per_state_destination.index)\n",
    "ax.set_title('Number of Flights Based On States', fontsize=14)\n",
    "ax.set_xlabel('Flights Per Million')\n",
    "ax.set_ylabel('Destination State')"
   ]
  },
  {
   "cell_type": "code",
   "execution_count": 344,
   "metadata": {},
   "outputs": [],
   "source": [
    "#Counting the top states with most air traffic in the US\n",
    "total_flights=flights_per_state_origin + flights_per_state_destination\n",
    "flight_perc=total_flights.sum()*0.5\n",
    "states=[]\n",
    "total=0\n",
    "num=False"
   ]
  },
  {
   "cell_type": "code",
   "execution_count": 345,
   "metadata": {},
   "outputs": [
    {
     "name": "stdout",
     "output_type": "stream",
     "text": [
      "States that cover 50% of US Air Traffic:\n",
      "TX\n",
      "NC\n",
      "IL\n",
      "NY\n",
      "FL\n",
      "CA\n",
      "CO\n",
      "DC\n"
     ]
    }
   ],
   "source": [
    "for state, number in total_flights.sort_values(ascending=False).items():\n",
    "    if total<=flight_perc:\n",
    "        states.append(state)\n",
    "        total +=number\n",
    "        \n",
    "    if total > flight_perc:\n",
    "        num =True\n",
    "    \n",
    "    elif num == True:\n",
    "        break\n",
    "\n",
    "print('States that cover 50% of US Air Traffic:')\n",
    "for state in states:\n",
    "    print(state)"
   ]
  },
  {
   "cell_type": "code",
   "execution_count": null,
   "metadata": {},
   "outputs": [],
   "source": []
  },
  {
   "cell_type": "markdown",
   "metadata": {},
   "source": [
    "#### **Task 7**: Test the hypothesis whether planes fly faster when there is the departure delay? "
   ]
  },
  {
   "cell_type": "code",
   "execution_count": 540,
   "metadata": {},
   "outputs": [
    {
     "data": {
      "text/html": [
       "<div>\n",
       "<style scoped>\n",
       "    .dataframe tbody tr th:only-of-type {\n",
       "        vertical-align: middle;\n",
       "    }\n",
       "\n",
       "    .dataframe tbody tr th {\n",
       "        vertical-align: top;\n",
       "    }\n",
       "\n",
       "    .dataframe thead th {\n",
       "        text-align: right;\n",
       "    }\n",
       "</style>\n",
       "<table border=\"1\" class=\"dataframe\">\n",
       "  <thead>\n",
       "    <tr style=\"text-align: right;\">\n",
       "      <th></th>\n",
       "      <th>fl_date</th>\n",
       "      <th>mkt_unique_carrier</th>\n",
       "      <th>branded_code_share</th>\n",
       "      <th>mkt_carrier</th>\n",
       "      <th>mkt_carrier_fl_num</th>\n",
       "      <th>op_unique_carrier</th>\n",
       "      <th>tail_num</th>\n",
       "      <th>op_carrier_fl_num</th>\n",
       "      <th>origin_airport_id</th>\n",
       "      <th>origin</th>\n",
       "      <th>...</th>\n",
       "      <th>crs_elapsed_time</th>\n",
       "      <th>actual_elapsed_time</th>\n",
       "      <th>air_time</th>\n",
       "      <th>flights</th>\n",
       "      <th>distance</th>\n",
       "      <th>carrier_delay</th>\n",
       "      <th>weather_delay</th>\n",
       "      <th>nas_delay</th>\n",
       "      <th>security_delay</th>\n",
       "      <th>late_aircraft_delay</th>\n",
       "    </tr>\n",
       "  </thead>\n",
       "  <tbody>\n",
       "    <tr>\n",
       "      <th>0</th>\n",
       "      <td>2018-02-15</td>\n",
       "      <td>UA</td>\n",
       "      <td>UA</td>\n",
       "      <td>UA</td>\n",
       "      <td>343</td>\n",
       "      <td>UA</td>\n",
       "      <td>N33103</td>\n",
       "      <td>343</td>\n",
       "      <td>10721</td>\n",
       "      <td>BOS</td>\n",
       "      <td>...</td>\n",
       "      <td>87.0</td>\n",
       "      <td>87.0</td>\n",
       "      <td>51.0</td>\n",
       "      <td>1.0</td>\n",
       "      <td>200.0</td>\n",
       "      <td>21.153562</td>\n",
       "      <td>2.573087</td>\n",
       "      <td>15.94723</td>\n",
       "      <td>0.122955</td>\n",
       "      <td>25.318206</td>\n",
       "    </tr>\n",
       "    <tr>\n",
       "      <th>1</th>\n",
       "      <td>2019-05-22</td>\n",
       "      <td>AA</td>\n",
       "      <td>AA_CODESHARE</td>\n",
       "      <td>AA</td>\n",
       "      <td>5299</td>\n",
       "      <td>OH</td>\n",
       "      <td>N725PS</td>\n",
       "      <td>5299</td>\n",
       "      <td>12448</td>\n",
       "      <td>JAN</td>\n",
       "      <td>...</td>\n",
       "      <td>114.0</td>\n",
       "      <td>119.0</td>\n",
       "      <td>86.0</td>\n",
       "      <td>1.0</td>\n",
       "      <td>562.0</td>\n",
       "      <td>37.000000</td>\n",
       "      <td>0.000000</td>\n",
       "      <td>5.00000</td>\n",
       "      <td>0.000000</td>\n",
       "      <td>2.000000</td>\n",
       "    </tr>\n",
       "    <tr>\n",
       "      <th>2</th>\n",
       "      <td>2018-08-05</td>\n",
       "      <td>WN</td>\n",
       "      <td>WN</td>\n",
       "      <td>WN</td>\n",
       "      <td>3730</td>\n",
       "      <td>WN</td>\n",
       "      <td>N447WN</td>\n",
       "      <td>3730</td>\n",
       "      <td>12889</td>\n",
       "      <td>LAS</td>\n",
       "      <td>...</td>\n",
       "      <td>185.0</td>\n",
       "      <td>172.0</td>\n",
       "      <td>160.0</td>\n",
       "      <td>1.0</td>\n",
       "      <td>1371.0</td>\n",
       "      <td>21.153562</td>\n",
       "      <td>2.573087</td>\n",
       "      <td>15.94723</td>\n",
       "      <td>0.122955</td>\n",
       "      <td>25.318206</td>\n",
       "    </tr>\n",
       "    <tr>\n",
       "      <th>3</th>\n",
       "      <td>2019-03-01</td>\n",
       "      <td>F9</td>\n",
       "      <td>F9</td>\n",
       "      <td>F9</td>\n",
       "      <td>1210</td>\n",
       "      <td>F9</td>\n",
       "      <td>N205FR</td>\n",
       "      <td>1210</td>\n",
       "      <td>15016</td>\n",
       "      <td>STL</td>\n",
       "      <td>...</td>\n",
       "      <td>144.0</td>\n",
       "      <td>152.0</td>\n",
       "      <td>120.0</td>\n",
       "      <td>1.0</td>\n",
       "      <td>882.0</td>\n",
       "      <td>21.153562</td>\n",
       "      <td>2.573087</td>\n",
       "      <td>15.94723</td>\n",
       "      <td>0.122955</td>\n",
       "      <td>25.318206</td>\n",
       "    </tr>\n",
       "    <tr>\n",
       "      <th>4</th>\n",
       "      <td>2018-12-08</td>\n",
       "      <td>AA</td>\n",
       "      <td>AA_CODESHARE</td>\n",
       "      <td>AA</td>\n",
       "      <td>5089</td>\n",
       "      <td>OH</td>\n",
       "      <td>N576NN</td>\n",
       "      <td>5089</td>\n",
       "      <td>10821</td>\n",
       "      <td>BWI</td>\n",
       "      <td>...</td>\n",
       "      <td>106.0</td>\n",
       "      <td>79.0</td>\n",
       "      <td>62.0</td>\n",
       "      <td>1.0</td>\n",
       "      <td>361.0</td>\n",
       "      <td>21.153562</td>\n",
       "      <td>2.573087</td>\n",
       "      <td>15.94723</td>\n",
       "      <td>0.122955</td>\n",
       "      <td>25.318206</td>\n",
       "    </tr>\n",
       "  </tbody>\n",
       "</table>\n",
       "<p>5 rows × 37 columns</p>\n",
       "</div>"
      ],
      "text/plain": [
       "      fl_date mkt_unique_carrier branded_code_share mkt_carrier  \\\n",
       "0  2018-02-15                 UA                 UA          UA   \n",
       "1  2019-05-22                 AA       AA_CODESHARE          AA   \n",
       "2  2018-08-05                 WN                 WN          WN   \n",
       "3  2019-03-01                 F9                 F9          F9   \n",
       "4  2018-12-08                 AA       AA_CODESHARE          AA   \n",
       "\n",
       "   mkt_carrier_fl_num op_unique_carrier tail_num  op_carrier_fl_num  \\\n",
       "0                 343                UA   N33103                343   \n",
       "1                5299                OH   N725PS               5299   \n",
       "2                3730                WN   N447WN               3730   \n",
       "3                1210                F9   N205FR               1210   \n",
       "4                5089                OH   N576NN               5089   \n",
       "\n",
       "   origin_airport_id origin  ... crs_elapsed_time  actual_elapsed_time  \\\n",
       "0              10721    BOS  ...             87.0                 87.0   \n",
       "1              12448    JAN  ...            114.0                119.0   \n",
       "2              12889    LAS  ...            185.0                172.0   \n",
       "3              15016    STL  ...            144.0                152.0   \n",
       "4              10821    BWI  ...            106.0                 79.0   \n",
       "\n",
       "  air_time flights  distance  carrier_delay  weather_delay  nas_delay  \\\n",
       "0     51.0     1.0     200.0      21.153562       2.573087   15.94723   \n",
       "1     86.0     1.0     562.0      37.000000       0.000000    5.00000   \n",
       "2    160.0     1.0    1371.0      21.153562       2.573087   15.94723   \n",
       "3    120.0     1.0     882.0      21.153562       2.573087   15.94723   \n",
       "4     62.0     1.0     361.0      21.153562       2.573087   15.94723   \n",
       "\n",
       "   security_delay  late_aircraft_delay  \n",
       "0        0.122955            25.318206  \n",
       "1        0.000000             2.000000  \n",
       "2        0.122955            25.318206  \n",
       "3        0.122955            25.318206  \n",
       "4        0.122955            25.318206  \n",
       "\n",
       "[5 rows x 37 columns]"
      ]
     },
     "execution_count": 540,
     "metadata": {},
     "output_type": "execute_result"
    }
   ],
   "source": [
    "df_task7=df_flight.copy(deep=True)\n",
    "df_task7.head()"
   ]
  },
  {
   "cell_type": "code",
   "execution_count": 542,
   "metadata": {},
   "outputs": [
    {
     "data": {
      "text/plain": [
       "8623    587.0\n",
       "2103    531.0\n",
       "1280    506.0\n",
       "378     484.0\n",
       "9452    478.0\n",
       "        ...  \n",
       "3003     16.0\n",
       "4816     15.0\n",
       "690      14.0\n",
       "8150     12.0\n",
       "6049      9.0\n",
       "Name: air_time, Length: 9769, dtype: float64"
      ]
     },
     "execution_count": 542,
     "metadata": {},
     "output_type": "execute_result"
    }
   ],
   "source": [
    "df_task7['air_time'].sort_values(ascending=False)"
   ]
  },
  {
   "cell_type": "code",
   "execution_count": 545,
   "metadata": {},
   "outputs": [],
   "source": [
    "df_task7['flight_speed']=(df_task7['distance']/df_task7['air_time'])*60"
   ]
  },
  {
   "cell_type": "code",
   "execution_count": 547,
   "metadata": {},
   "outputs": [
    {
     "data": {
      "text/plain": [
       "5916    616.416465\n",
       "5995    602.188450\n",
       "2262    592.994924\n",
       "7028    592.957746\n",
       "4414    592.857143\n",
       "           ...    \n",
       "3485    148.235294\n",
       "598     120.895522\n",
       "2067    120.000000\n",
       "1777    119.172414\n",
       "9354    110.769231\n",
       "Name: flight_speed, Length: 9769, dtype: float64"
      ]
     },
     "execution_count": 547,
     "metadata": {},
     "output_type": "execute_result"
    }
   ],
   "source": [
    "df_task7['flight_speed'].sort_values(ascending=False)"
   ]
  },
  {
   "cell_type": "code",
   "execution_count": 549,
   "metadata": {},
   "outputs": [],
   "source": [
    "#flight speed with and without delays\n",
    "flightspeed_with_delay=df_task7.loc[(df_task7['dep_delay']>0), 'flight_speed']\n",
    "flightspeed_without_delay=df_task7.loc[(df_task7['dep_delay']==0), 'flight_speed']"
   ]
  },
  {
   "cell_type": "code",
   "execution_count": 550,
   "metadata": {},
   "outputs": [
    {
     "data": {
      "text/plain": [
       "F_onewayResult(statistic=0.5737445425144778, pvalue=0.4488218742807767)"
      ]
     },
     "execution_count": 550,
     "metadata": {},
     "output_type": "execute_result"
    }
   ],
   "source": [
    "stats.f_oneway(flightspeed_with_delay, flightspeed_without_delay)"
   ]
  },
  {
   "cell_type": "code",
   "execution_count": 552,
   "metadata": {},
   "outputs": [
    {
     "data": {
      "text/plain": [
       "Ttest_indResult(statistic=0.7574592678913441, pvalue=0.4488218742798189)"
      ]
     },
     "execution_count": 552,
     "metadata": {},
     "output_type": "execute_result"
    }
   ],
   "source": [
    "stats.ttest_ind(flightspeed_with_delay, flightspeed_without_delay)"
   ]
  },
  {
   "cell_type": "markdown",
   "metadata": {},
   "source": [
    "Result: The null hypothesis is not rejected because the P-value is greater than alpha. "
   ]
  },
  {
   "cell_type": "code",
   "execution_count": null,
   "metadata": {},
   "outputs": [],
   "source": []
  },
  {
   "cell_type": "code",
   "execution_count": null,
   "metadata": {},
   "outputs": [],
   "source": []
  },
  {
   "cell_type": "code",
   "execution_count": null,
   "metadata": {},
   "outputs": [],
   "source": []
  },
  {
   "cell_type": "markdown",
   "metadata": {},
   "source": [
    "#### **Task 8**: When (which hour) do most 'LONG', 'SHORT', 'MEDIUM' haul flights take off?"
   ]
  },
  {
   "cell_type": "code",
   "execution_count": 415,
   "metadata": {},
   "outputs": [
    {
     "data": {
      "text/plain": [
       "Index(['fl_date', 'mkt_unique_carrier', 'branded_code_share', 'mkt_carrier',\n",
       "       'mkt_carrier_fl_num', 'op_unique_carrier', 'tail_num',\n",
       "       'op_carrier_fl_num', 'origin_airport_id', 'origin', 'origin_city_name',\n",
       "       'dest_airport_id', 'dest', 'dest_city_name', 'crs_dep_time', 'dep_time',\n",
       "       'dep_delay', 'taxi_out', 'wheels_off', 'wheels_on', 'taxi_in',\n",
       "       'crs_arr_time', 'arr_time', 'arr_delay', 'cancelled', 'diverted', 'dup',\n",
       "       'crs_elapsed_time', 'actual_elapsed_time', 'air_time', 'flights',\n",
       "       'distance', 'carrier_delay', 'weather_delay', 'nas_delay',\n",
       "       'security_delay', 'late_aircraft_delay'],\n",
       "      dtype='object')"
      ]
     },
     "execution_count": 415,
     "metadata": {},
     "output_type": "execute_result"
    }
   ],
   "source": [
    "df_task8=df_flights.copy(deep=True)\n",
    "df_task8.columns"
   ]
  },
  {
   "cell_type": "code",
   "execution_count": 416,
   "metadata": {},
   "outputs": [
    {
     "data": {
      "text/html": [
       "<div>\n",
       "<style scoped>\n",
       "    .dataframe tbody tr th:only-of-type {\n",
       "        vertical-align: middle;\n",
       "    }\n",
       "\n",
       "    .dataframe tbody tr th {\n",
       "        vertical-align: top;\n",
       "    }\n",
       "\n",
       "    .dataframe thead th {\n",
       "        text-align: right;\n",
       "    }\n",
       "</style>\n",
       "<table border=\"1\" class=\"dataframe\">\n",
       "  <thead>\n",
       "    <tr style=\"text-align: right;\">\n",
       "      <th></th>\n",
       "      <th>fl_date</th>\n",
       "      <th>mkt_unique_carrier</th>\n",
       "      <th>branded_code_share</th>\n",
       "      <th>mkt_carrier</th>\n",
       "      <th>mkt_carrier_fl_num</th>\n",
       "      <th>op_unique_carrier</th>\n",
       "      <th>tail_num</th>\n",
       "      <th>op_carrier_fl_num</th>\n",
       "      <th>origin_airport_id</th>\n",
       "      <th>origin</th>\n",
       "      <th>...</th>\n",
       "      <th>crs_elapsed_time</th>\n",
       "      <th>actual_elapsed_time</th>\n",
       "      <th>air_time</th>\n",
       "      <th>flights</th>\n",
       "      <th>distance</th>\n",
       "      <th>carrier_delay</th>\n",
       "      <th>weather_delay</th>\n",
       "      <th>nas_delay</th>\n",
       "      <th>security_delay</th>\n",
       "      <th>late_aircraft_delay</th>\n",
       "    </tr>\n",
       "  </thead>\n",
       "  <tbody>\n",
       "    <tr>\n",
       "      <th>0</th>\n",
       "      <td>2019-10-01</td>\n",
       "      <td>UA</td>\n",
       "      <td>UA_CODESHARE</td>\n",
       "      <td>UA</td>\n",
       "      <td>6312</td>\n",
       "      <td>YV</td>\n",
       "      <td>N88331</td>\n",
       "      <td>6312</td>\n",
       "      <td>11278</td>\n",
       "      <td>DCA</td>\n",
       "      <td>...</td>\n",
       "      <td>207.0</td>\n",
       "      <td>174.0</td>\n",
       "      <td>154.0</td>\n",
       "      <td>1.0</td>\n",
       "      <td>1208.0</td>\n",
       "      <td>20.0</td>\n",
       "      <td>0.0</td>\n",
       "      <td>0.0</td>\n",
       "      <td>0.0</td>\n",
       "      <td>0.0</td>\n",
       "    </tr>\n",
       "    <tr>\n",
       "      <th>1</th>\n",
       "      <td>2019-10-01</td>\n",
       "      <td>UA</td>\n",
       "      <td>UA_CODESHARE</td>\n",
       "      <td>UA</td>\n",
       "      <td>6248</td>\n",
       "      <td>YV</td>\n",
       "      <td>N521LR</td>\n",
       "      <td>6248</td>\n",
       "      <td>12264</td>\n",
       "      <td>IAD</td>\n",
       "      <td>...</td>\n",
       "      <td>79.0</td>\n",
       "      <td>72.0</td>\n",
       "      <td>49.0</td>\n",
       "      <td>1.0</td>\n",
       "      <td>299.0</td>\n",
       "      <td>20.0</td>\n",
       "      <td>0.0</td>\n",
       "      <td>0.0</td>\n",
       "      <td>0.0</td>\n",
       "      <td>0.0</td>\n",
       "    </tr>\n",
       "    <tr>\n",
       "      <th>2</th>\n",
       "      <td>2019-10-01</td>\n",
       "      <td>UA</td>\n",
       "      <td>UA_CODESHARE</td>\n",
       "      <td>UA</td>\n",
       "      <td>6186</td>\n",
       "      <td>YV</td>\n",
       "      <td>N87345</td>\n",
       "      <td>6186</td>\n",
       "      <td>12266</td>\n",
       "      <td>IAH</td>\n",
       "      <td>...</td>\n",
       "      <td>133.0</td>\n",
       "      <td>114.0</td>\n",
       "      <td>97.0</td>\n",
       "      <td>1.0</td>\n",
       "      <td>781.0</td>\n",
       "      <td>18.0</td>\n",
       "      <td>0.0</td>\n",
       "      <td>0.0</td>\n",
       "      <td>0.0</td>\n",
       "      <td>0.0</td>\n",
       "    </tr>\n",
       "    <tr>\n",
       "      <th>3</th>\n",
       "      <td>2019-10-01</td>\n",
       "      <td>UA</td>\n",
       "      <td>UA_CODESHARE</td>\n",
       "      <td>UA</td>\n",
       "      <td>6253</td>\n",
       "      <td>YV</td>\n",
       "      <td>N85358</td>\n",
       "      <td>6253</td>\n",
       "      <td>12266</td>\n",
       "      <td>IAH</td>\n",
       "      <td>...</td>\n",
       "      <td>141.0</td>\n",
       "      <td>126.0</td>\n",
       "      <td>107.0</td>\n",
       "      <td>1.0</td>\n",
       "      <td>788.0</td>\n",
       "      <td>16.0</td>\n",
       "      <td>0.0</td>\n",
       "      <td>0.0</td>\n",
       "      <td>0.0</td>\n",
       "      <td>0.0</td>\n",
       "    </tr>\n",
       "    <tr>\n",
       "      <th>4</th>\n",
       "      <td>2019-10-01</td>\n",
       "      <td>AA</td>\n",
       "      <td>AA_CODESHARE</td>\n",
       "      <td>AA</td>\n",
       "      <td>5710</td>\n",
       "      <td>YV</td>\n",
       "      <td>N912FJ</td>\n",
       "      <td>5710</td>\n",
       "      <td>14107</td>\n",
       "      <td>PHX</td>\n",
       "      <td>...</td>\n",
       "      <td>57.0</td>\n",
       "      <td>64.0</td>\n",
       "      <td>33.0</td>\n",
       "      <td>1.0</td>\n",
       "      <td>160.0</td>\n",
       "      <td>0.0</td>\n",
       "      <td>0.0</td>\n",
       "      <td>7.0</td>\n",
       "      <td>0.0</td>\n",
       "      <td>22.0</td>\n",
       "    </tr>\n",
       "  </tbody>\n",
       "</table>\n",
       "<p>5 rows × 37 columns</p>\n",
       "</div>"
      ],
      "text/plain": [
       "      fl_date mkt_unique_carrier branded_code_share mkt_carrier  \\\n",
       "0  2019-10-01                 UA       UA_CODESHARE          UA   \n",
       "1  2019-10-01                 UA       UA_CODESHARE          UA   \n",
       "2  2019-10-01                 UA       UA_CODESHARE          UA   \n",
       "3  2019-10-01                 UA       UA_CODESHARE          UA   \n",
       "4  2019-10-01                 AA       AA_CODESHARE          AA   \n",
       "\n",
       "   mkt_carrier_fl_num op_unique_carrier tail_num  op_carrier_fl_num  \\\n",
       "0                6312                YV   N88331               6312   \n",
       "1                6248                YV   N521LR               6248   \n",
       "2                6186                YV   N87345               6186   \n",
       "3                6253                YV   N85358               6253   \n",
       "4                5710                YV   N912FJ               5710   \n",
       "\n",
       "   origin_airport_id origin  ... crs_elapsed_time  actual_elapsed_time  \\\n",
       "0              11278    DCA  ...            207.0                174.0   \n",
       "1              12264    IAD  ...             79.0                 72.0   \n",
       "2              12266    IAH  ...            133.0                114.0   \n",
       "3              12266    IAH  ...            141.0                126.0   \n",
       "4              14107    PHX  ...             57.0                 64.0   \n",
       "\n",
       "  air_time flights  distance  carrier_delay  weather_delay  nas_delay  \\\n",
       "0    154.0     1.0    1208.0           20.0            0.0        0.0   \n",
       "1     49.0     1.0     299.0           20.0            0.0        0.0   \n",
       "2     97.0     1.0     781.0           18.0            0.0        0.0   \n",
       "3    107.0     1.0     788.0           16.0            0.0        0.0   \n",
       "4     33.0     1.0     160.0            0.0            0.0        7.0   \n",
       "\n",
       "   security_delay  late_aircraft_delay  \n",
       "0             0.0                  0.0  \n",
       "1             0.0                  0.0  \n",
       "2             0.0                  0.0  \n",
       "3             0.0                  0.0  \n",
       "4             0.0                 22.0  \n",
       "\n",
       "[5 rows x 37 columns]"
      ]
     },
     "execution_count": 416,
     "metadata": {},
     "output_type": "execute_result"
    }
   ],
   "source": [
    "df_task8.head()"
   ]
  },
  {
   "cell_type": "code",
   "execution_count": 417,
   "metadata": {},
   "outputs": [],
   "source": [
    "\n",
    "#convert to datetime\n",
    "def convert_time(x):\n",
    "    if np.isnan(x):\n",
    "        return '00:00'\n",
    "    \n",
    "    if x == 2400:\n",
    "        return '23:59'   \n",
    "    string = str(int(x))\n",
    "    \n",
    "    if len(string)< 4:\n",
    "        for _ in range(4-len(string)):\n",
    "            string = '0' + string\n",
    "    \n",
    "    return string[:2] + ':' + string[2:]"
   ]
  },
  {
   "cell_type": "code",
   "execution_count": 418,
   "metadata": {},
   "outputs": [],
   "source": [
    "#get dep_hr again\n",
    "df_task8['fl_date'] = pd.to_datetime(df_task8['fl_date'], format='%Y-%m-%d')\n",
    "\n",
    "df_task8['dep_time'] = df_task8['dep_time'].apply(lambda x: convert_time(x))\n",
    "df_task8['dep_time'] = pd.to_datetime(df_task8['dep_time'], format='%H:%M')\n",
    "df_task8['dep_hr'] = df_task8['dep_time'].dt.hour"
   ]
  },
  {
   "cell_type": "code",
   "execution_count": 419,
   "metadata": {},
   "outputs": [],
   "source": [
    "#short flights:30 mins to 3 hours\n",
    "#medium flights: 3 hourst to 6 hours\n",
    "#long flights: above 6 hours\n",
    "short_flights=df_task8[df_task8['air_time']<=180]\n",
    "medium_flights=df_task8[(df_task8['air_time']> 180) & (df_task8['air_time']<=360)]\n",
    "long_flights=df_task8[df_task8['air_time']>=360]"
   ]
  },
  {
   "cell_type": "code",
   "execution_count": 420,
   "metadata": {},
   "outputs": [],
   "source": [
    "short_time=short_flights.groupby(by=[short_flights['dep_hr']])['taxi_out'].count().sort_values(ascending=False)\n",
    "med_time=medium_flights.groupby(by=[medium_flights['dep_hr']])['taxi_out'].count().sort_values(ascending=False)\n",
    "long_time=long_flights.groupby(by=[long_flights['dep_hr']])['taxi_out'].count().sort_values(ascending=False)"
   ]
  },
  {
   "cell_type": "code",
   "execution_count": 423,
   "metadata": {},
   "outputs": [
    {
     "data": {
      "text/plain": [
       "Text(0, 0.5, 'Number of flights')"
      ]
     },
     "execution_count": 423,
     "metadata": {},
     "output_type": "execute_result"
    },
    {
     "data": {
      "image/png": "[encoded data removed]",
      "text/plain": [
       "<Figure size 720x432 with 1 Axes>"
      ]
     },
     "metadata": {
      "needs_background": "light"
     },
     "output_type": "display_data"
    }
   ],
   "source": [
    "fig, ax=plt.subplots(figsize=(10, 6))\n",
    "\n",
    "sns.barplot(ax=ax, x=short_time.index, y=short_time.values, color='r')\n",
    "ax.set_title('Short Flights in Different Hours')\n",
    "ax.set_xlabel('Hours during the days')\n",
    "ax.set_ylabel('Number of flights')"
   ]
  },
  {
   "cell_type": "code",
   "execution_count": 424,
   "metadata": {},
   "outputs": [
    {
     "data": {
      "text/plain": [
       "Text(0, 0.5, 'Number of flights')"
      ]
     },
     "execution_count": 424,
     "metadata": {},
     "output_type": "execute_result"
    },
    {
     "data": {
      "image/png": "[encoded data removed]",
      "text/plain": [
       "<Figure size 720x432 with 1 Axes>"
      ]
     },
     "metadata": {
      "needs_background": "light"
     },
     "output_type": "display_data"
    }
   ],
   "source": [
    "fig, ax=plt.subplots(figsize=(10, 6))\n",
    "\n",
    "sns.barplot(ax=ax, x=med_time.index, y=med_time.values, color='r')\n",
    "ax.set_title('Medium Flights in Different Hours')\n",
    "ax.set_xlabel('Hours during the days')\n",
    "ax.set_ylabel('Number of flights')"
   ]
  },
  {
   "cell_type": "code",
   "execution_count": 425,
   "metadata": {},
   "outputs": [
    {
     "data": {
      "text/plain": [
       "Text(0, 0.5, 'Number of flights')"
      ]
     },
     "execution_count": 425,
     "metadata": {},
     "output_type": "execute_result"
    },
    {
     "data": {
      "image/png": "[encoded data removed]",
      "text/plain": [
       "<Figure size 720x432 with 1 Axes>"
      ]
     },
     "metadata": {
      "needs_background": "light"
     },
     "output_type": "display_data"
    }
   ],
   "source": [
    "fig, ax=plt.subplots(figsize=(10, 6))\n",
    "\n",
    "sns.barplot(ax=ax, x=long_time.index, y=long_time.values, color='r')\n",
    "ax.set_title('Long Flights in Different Hours')\n",
    "ax.set_xlabel('Hours during the days')\n",
    "ax.set_ylabel('Number of flights')"
   ]
  },
  {
   "cell_type": "code",
   "execution_count": null,
   "metadata": {},
   "outputs": [],
   "source": []
  },
  {
   "cell_type": "markdown",
   "metadata": {},
   "source": [
    "#### **Task 9**: Find the top 10 the bussiest airports. Does the biggest number of flights mean that the biggest number of passengers went through the particular airport? How much traffic do these 10 airports cover?"
   ]
  },
  {
   "cell_type": "code",
   "execution_count": 577,
   "metadata": {},
   "outputs": [],
   "source": [
    "df_pas=pd.read_sql_query('''SELECT * FROM passengers ORDER BY RANDOM() LIMIT 10000;''', cnx)"
   ]
  },
  {
   "cell_type": "code",
   "execution_count": 582,
   "metadata": {},
   "outputs": [],
   "source": [
    "df_task9=df_pas.copy(deep=True)"
   ]
  },
  {
   "cell_type": "code",
   "execution_count": 589,
   "metadata": {},
   "outputs": [
    {
     "data": {
      "text/plain": [
       "Index(['departures_scheduled', 'departures_performed', 'payload', 'seats',\n",
       "       'passengers', 'freight', 'mail', 'distance', 'ramp_to_ramp', 'air_time',\n",
       "       'unique_carrier', 'airline_id', 'unique_carrier_name', 'region',\n",
       "       'carrier', 'carrier_name', 'carrier_group', 'carrier_group_new',\n",
       "       'origin_airport_id', 'origin_city_market_id', 'origin',\n",
       "       'origin_city_name', 'origin_country', 'origin_country_name',\n",
       "       'dest_airport_id', 'dest_city_market_id', 'dest', 'dest_city_name',\n",
       "       'dest_country', 'dest_country_name', 'aircraft_group', 'aircraft_type',\n",
       "       'aircraft_config', 'year', 'month', 'distance_group', 'class',\n",
       "       'data_source'],\n",
       "      dtype='object')"
      ]
     },
     "execution_count": 589,
     "metadata": {},
     "output_type": "execute_result"
    }
   ],
   "source": [
    "df_task9.columns"
   ]
  },
  {
   "cell_type": "code",
   "execution_count": 583,
   "metadata": {},
   "outputs": [
    {
     "data": {
      "text/plain": [
       "0       ATL\n",
       "1       COS\n",
       "2       ROW\n",
       "3       ATL\n",
       "4       WLK\n",
       "       ... \n",
       "9995    ATL\n",
       "9996    MIA\n",
       "9997    STP\n",
       "9998    ATL\n",
       "9999    BOI\n",
       "Name: dest, Length: 10000, dtype: object"
      ]
     },
     "execution_count": 583,
     "metadata": {},
     "output_type": "execute_result"
    }
   ],
   "source": [
    "df_task9['dest']"
   ]
  },
  {
   "cell_type": "code",
   "execution_count": 590,
   "metadata": {},
   "outputs": [],
   "source": [
    "busy_airports_dest=df_task9[['passengers', 'dest']].groupby('dest').sum().reset_index()"
   ]
  },
  {
   "cell_type": "code",
   "execution_count": 595,
   "metadata": {},
   "outputs": [
    {
     "data": {
      "text/html": [
       "<div>\n",
       "<style scoped>\n",
       "    .dataframe tbody tr th:only-of-type {\n",
       "        vertical-align: middle;\n",
       "    }\n",
       "\n",
       "    .dataframe tbody tr th {\n",
       "        vertical-align: top;\n",
       "    }\n",
       "\n",
       "    .dataframe thead th {\n",
       "        text-align: right;\n",
       "    }\n",
       "</style>\n",
       "<table border=\"1\" class=\"dataframe\">\n",
       "  <thead>\n",
       "    <tr style=\"text-align: right;\">\n",
       "      <th></th>\n",
       "      <th>dest</th>\n",
       "      <th>passengers</th>\n",
       "    </tr>\n",
       "  </thead>\n",
       "  <tbody>\n",
       "    <tr>\n",
       "      <th>56</th>\n",
       "      <td>ATL</td>\n",
       "      <td>1114401.0</td>\n",
       "    </tr>\n",
       "    <tr>\n",
       "      <th>549</th>\n",
       "      <td>ORD</td>\n",
       "      <td>838506.0</td>\n",
       "    </tr>\n",
       "    <tr>\n",
       "      <th>413</th>\n",
       "      <td>LAX</td>\n",
       "      <td>732962.0</td>\n",
       "    </tr>\n",
       "    <tr>\n",
       "      <th>189</th>\n",
       "      <td>DFW</td>\n",
       "      <td>722954.0</td>\n",
       "    </tr>\n",
       "    <tr>\n",
       "      <th>187</th>\n",
       "      <td>DEN</td>\n",
       "      <td>690086.0</td>\n",
       "    </tr>\n",
       "    <tr>\n",
       "      <th>676</th>\n",
       "      <td>SFO</td>\n",
       "      <td>605286.0</td>\n",
       "    </tr>\n",
       "    <tr>\n",
       "      <th>354</th>\n",
       "      <td>JFK</td>\n",
       "      <td>600967.0</td>\n",
       "    </tr>\n",
       "    <tr>\n",
       "      <th>153</th>\n",
       "      <td>CLT</td>\n",
       "      <td>550076.0</td>\n",
       "    </tr>\n",
       "    <tr>\n",
       "      <th>674</th>\n",
       "      <td>SEA</td>\n",
       "      <td>517315.0</td>\n",
       "    </tr>\n",
       "    <tr>\n",
       "      <th>412</th>\n",
       "      <td>LAS</td>\n",
       "      <td>492800.0</td>\n",
       "    </tr>\n",
       "  </tbody>\n",
       "</table>\n",
       "</div>"
      ],
      "text/plain": [
       "    dest  passengers\n",
       "56   ATL   1114401.0\n",
       "549  ORD    838506.0\n",
       "413  LAX    732962.0\n",
       "189  DFW    722954.0\n",
       "187  DEN    690086.0\n",
       "676  SFO    605286.0\n",
       "354  JFK    600967.0\n",
       "153  CLT    550076.0\n",
       "674  SEA    517315.0\n",
       "412  LAS    492800.0"
      ]
     },
     "execution_count": 595,
     "metadata": {},
     "output_type": "execute_result"
    }
   ],
   "source": [
    "busy_airports_dest=busy_airports_dest.sort_values(by='passengers', ascending=False).head(10)\n",
    "busy_airports_dest"
   ]
  },
  {
   "cell_type": "code",
   "execution_count": 596,
   "metadata": {},
   "outputs": [
    {
     "data": {
      "text/plain": [
       "Text(0, 0.5, 'Number of Passengers')"
      ]
     },
     "execution_count": 596,
     "metadata": {},
     "output_type": "execute_result"
    },
    {
     "data": {
      "image/png": "[encoded data removed]",
      "text/plain": [
       "<Figure size 1080x864 with 1 Axes>"
      ]
     },
     "metadata": {
      "needs_background": "light"
     },
     "output_type": "display_data"
    }
   ],
   "source": [
    "ax=plt.subplots(figsize=(15, 12))\n",
    "\n",
    "ax=sns.barplot(x=busy_airports_dest.dest, y=busy_airports_dest.passengers)\n",
    "ax.set_title('Number of Passengers Based on States', fontsize=14)\n",
    "ax.set_xlabel('Destination')\n",
    "ax.set_ylabel('Number of Passengers')"
   ]
  },
  {
   "cell_type": "code",
   "execution_count": 597,
   "metadata": {},
   "outputs": [
    {
     "data": {
      "text/html": [
       "<div>\n",
       "<style scoped>\n",
       "    .dataframe tbody tr th:only-of-type {\n",
       "        vertical-align: middle;\n",
       "    }\n",
       "\n",
       "    .dataframe tbody tr th {\n",
       "        vertical-align: top;\n",
       "    }\n",
       "\n",
       "    .dataframe thead th {\n",
       "        text-align: right;\n",
       "    }\n",
       "</style>\n",
       "<table border=\"1\" class=\"dataframe\">\n",
       "  <thead>\n",
       "    <tr style=\"text-align: right;\">\n",
       "      <th></th>\n",
       "      <th>origin</th>\n",
       "      <th>passengers</th>\n",
       "    </tr>\n",
       "  </thead>\n",
       "  <tbody>\n",
       "    <tr>\n",
       "      <th>45</th>\n",
       "      <td>ATL</td>\n",
       "      <td>978224.0</td>\n",
       "    </tr>\n",
       "    <tr>\n",
       "      <th>550</th>\n",
       "      <td>ORD</td>\n",
       "      <td>884806.0</td>\n",
       "    </tr>\n",
       "    <tr>\n",
       "      <th>175</th>\n",
       "      <td>DFW</td>\n",
       "      <td>840136.0</td>\n",
       "    </tr>\n",
       "    <tr>\n",
       "      <th>405</th>\n",
       "      <td>LAX</td>\n",
       "      <td>723163.0</td>\n",
       "    </tr>\n",
       "    <tr>\n",
       "      <th>350</th>\n",
       "      <td>JFK</td>\n",
       "      <td>703789.0</td>\n",
       "    </tr>\n",
       "    <tr>\n",
       "      <th>674</th>\n",
       "      <td>SFO</td>\n",
       "      <td>639302.0</td>\n",
       "    </tr>\n",
       "    <tr>\n",
       "      <th>174</th>\n",
       "      <td>DEN</td>\n",
       "      <td>584107.0</td>\n",
       "    </tr>\n",
       "    <tr>\n",
       "      <th>583</th>\n",
       "      <td>PHX</td>\n",
       "      <td>557607.0</td>\n",
       "    </tr>\n",
       "    <tr>\n",
       "      <th>224</th>\n",
       "      <td>EWR</td>\n",
       "      <td>536112.0</td>\n",
       "    </tr>\n",
       "    <tr>\n",
       "      <th>457</th>\n",
       "      <td>MCO</td>\n",
       "      <td>482366.0</td>\n",
       "    </tr>\n",
       "  </tbody>\n",
       "</table>\n",
       "</div>"
      ],
      "text/plain": [
       "    origin  passengers\n",
       "45     ATL    978224.0\n",
       "550    ORD    884806.0\n",
       "175    DFW    840136.0\n",
       "405    LAX    723163.0\n",
       "350    JFK    703789.0\n",
       "674    SFO    639302.0\n",
       "174    DEN    584107.0\n",
       "583    PHX    557607.0\n",
       "224    EWR    536112.0\n",
       "457    MCO    482366.0"
      ]
     },
     "execution_count": 597,
     "metadata": {},
     "output_type": "execute_result"
    }
   ],
   "source": [
    "busy_airports_origin=df_task9[['passengers', 'origin']].groupby('origin').sum().reset_index()\n",
    "busy_airports_origin=busy_airports_origin.sort_values(by='passengers', ascending=False).head(10)\n",
    "busy_airports_origin"
   ]
  },
  {
   "cell_type": "code",
   "execution_count": 605,
   "metadata": {},
   "outputs": [
    {
     "data": {
      "text/plain": [
       "Text(0, 0.5, 'Number of Passengers')"
      ]
     },
     "execution_count": 605,
     "metadata": {},
     "output_type": "execute_result"
    },
    {
     "data": {
      "image/png": "[encoded data removed]",
      "text/plain": [
       "<Figure size 1080x864 with 1 Axes>"
      ]
     },
     "metadata": {
      "needs_background": "light"
     },
     "output_type": "display_data"
    }
   ],
   "source": [
    "ax=plt.subplots(figsize=(15, 12))\n",
    "\n",
    "ax=sns.barplot(x=busy_airports_origin.origin, y=busy_airports_origin.passengers)\n",
    "\n",
    "ax.set_title('Number of Passengers Based on States', fontsize=14)\n",
    "ax.set_xlabel('Origin')\n",
    "ax.set_ylabel('Number of Passengers')"
   ]
  },
  {
   "cell_type": "code",
   "execution_count": null,
   "metadata": {},
   "outputs": [],
   "source": []
  },
  {
   "cell_type": "markdown",
   "metadata": {},
   "source": [
    "#### **Task 10**: Do bigger delays lead to bigger fuel comsumption per passenger? \n",
    "We need to do four things to answer this as accurate as possible:\n",
    "- Find out average monthly delay per air carrier (monthly delay is sum of all delays in 1 month)\n",
    "- Find out distance covered monthly by different air carriers\n",
    "- Find out number of passengers that were carried by different air carriers\n",
    "- Find out total fuel comsumption per air carrier.\n",
    "\n",
    "Use this information to get the average fuel comsumption per passenger per km. Is this higher for the airlines with bigger average delays?"
   ]
  },
  {
   "cell_type": "code",
   "execution_count": 672,
   "metadata": {},
   "outputs": [
    {
     "data": {
      "text/html": [
       "<div>\n",
       "<style scoped>\n",
       "    .dataframe tbody tr th:only-of-type {\n",
       "        vertical-align: middle;\n",
       "    }\n",
       "\n",
       "    .dataframe tbody tr th {\n",
       "        vertical-align: top;\n",
       "    }\n",
       "\n",
       "    .dataframe thead th {\n",
       "        text-align: right;\n",
       "    }\n",
       "</style>\n",
       "<table border=\"1\" class=\"dataframe\">\n",
       "  <thead>\n",
       "    <tr style=\"text-align: right;\">\n",
       "      <th></th>\n",
       "      <th>Unnamed: 0</th>\n",
       "      <th>month</th>\n",
       "      <th>airline_id</th>\n",
       "      <th>unique_carrier</th>\n",
       "      <th>carrier</th>\n",
       "      <th>carrier_name</th>\n",
       "      <th>carrier_group_new</th>\n",
       "      <th>sdomt_gallons</th>\n",
       "      <th>satl_gallons</th>\n",
       "      <th>spac_gallons</th>\n",
       "      <th>...</th>\n",
       "      <th>sdomt_cost</th>\n",
       "      <th>satl_cost</th>\n",
       "      <th>spac_cost</th>\n",
       "      <th>slat_cost</th>\n",
       "      <th>sint_cost</th>\n",
       "      <th>ts_cost</th>\n",
       "      <th>tdomt_cost</th>\n",
       "      <th>tint_cost</th>\n",
       "      <th>total_cost</th>\n",
       "      <th>year</th>\n",
       "    </tr>\n",
       "  </thead>\n",
       "  <tbody>\n",
       "    <tr>\n",
       "      <th>0</th>\n",
       "      <td>1</td>\n",
       "      <td>1</td>\n",
       "      <td>21352.0</td>\n",
       "      <td>0WQ</td>\n",
       "      <td>0WQ</td>\n",
       "      <td>Avjet Corporation</td>\n",
       "      <td>1</td>\n",
       "      <td>0.0</td>\n",
       "      <td>0.0</td>\n",
       "      <td>0.0</td>\n",
       "      <td>...</td>\n",
       "      <td>0.0</td>\n",
       "      <td>0.0</td>\n",
       "      <td>0.0</td>\n",
       "      <td>0.0</td>\n",
       "      <td>0.0</td>\n",
       "      <td>0.0</td>\n",
       "      <td>396216.0</td>\n",
       "      <td>140239.0</td>\n",
       "      <td>536455.0</td>\n",
       "      <td>2016</td>\n",
       "    </tr>\n",
       "    <tr>\n",
       "      <th>1</th>\n",
       "      <td>2</td>\n",
       "      <td>1</td>\n",
       "      <td>21645.0</td>\n",
       "      <td>23Q</td>\n",
       "      <td>23Q</td>\n",
       "      <td>Songbird Airways Inc.</td>\n",
       "      <td>1</td>\n",
       "      <td>0.0</td>\n",
       "      <td>0.0</td>\n",
       "      <td>0.0</td>\n",
       "      <td>...</td>\n",
       "      <td>0.0</td>\n",
       "      <td>0.0</td>\n",
       "      <td>0.0</td>\n",
       "      <td>0.0</td>\n",
       "      <td>0.0</td>\n",
       "      <td>0.0</td>\n",
       "      <td>0.0</td>\n",
       "      <td>0.0</td>\n",
       "      <td>0.0</td>\n",
       "      <td>2016</td>\n",
       "    </tr>\n",
       "    <tr>\n",
       "      <th>2</th>\n",
       "      <td>3</td>\n",
       "      <td>1</td>\n",
       "      <td>21652.0</td>\n",
       "      <td>27Q</td>\n",
       "      <td>27Q</td>\n",
       "      <td>Jet Aviation Flight Services, Inc.</td>\n",
       "      <td>1</td>\n",
       "      <td>0.0</td>\n",
       "      <td>0.0</td>\n",
       "      <td>0.0</td>\n",
       "      <td>...</td>\n",
       "      <td>0.0</td>\n",
       "      <td>0.0</td>\n",
       "      <td>0.0</td>\n",
       "      <td>0.0</td>\n",
       "      <td>0.0</td>\n",
       "      <td>0.0</td>\n",
       "      <td>0.0</td>\n",
       "      <td>0.0</td>\n",
       "      <td>0.0</td>\n",
       "      <td>2016</td>\n",
       "    </tr>\n",
       "    <tr>\n",
       "      <th>3</th>\n",
       "      <td>4</td>\n",
       "      <td>1</td>\n",
       "      <td>20408.0</td>\n",
       "      <td>5V</td>\n",
       "      <td>5V</td>\n",
       "      <td>Tatonduk Outfitters Limited d/b/a Everts Air A...</td>\n",
       "      <td>1</td>\n",
       "      <td>260848.0</td>\n",
       "      <td>0.0</td>\n",
       "      <td>0.0</td>\n",
       "      <td>...</td>\n",
       "      <td>522405.0</td>\n",
       "      <td>0.0</td>\n",
       "      <td>0.0</td>\n",
       "      <td>0.0</td>\n",
       "      <td>0.0</td>\n",
       "      <td>522405.0</td>\n",
       "      <td>569497.0</td>\n",
       "      <td>0.0</td>\n",
       "      <td>569497.0</td>\n",
       "      <td>2016</td>\n",
       "    </tr>\n",
       "    <tr>\n",
       "      <th>4</th>\n",
       "      <td>5</td>\n",
       "      <td>1</td>\n",
       "      <td>19917.0</td>\n",
       "      <td>5X</td>\n",
       "      <td>5X</td>\n",
       "      <td>United Parcel Service</td>\n",
       "      <td>3</td>\n",
       "      <td>32138000.0</td>\n",
       "      <td>9743000.0</td>\n",
       "      <td>16116000.0</td>\n",
       "      <td>...</td>\n",
       "      <td>34098000.0</td>\n",
       "      <td>9752000.0</td>\n",
       "      <td>17965000.0</td>\n",
       "      <td>3524000.0</td>\n",
       "      <td>31241000.0</td>\n",
       "      <td>65339000.0</td>\n",
       "      <td>34098000.0</td>\n",
       "      <td>31241000.0</td>\n",
       "      <td>65339000.0</td>\n",
       "      <td>2016</td>\n",
       "    </tr>\n",
       "  </tbody>\n",
       "</table>\n",
       "<p>5 rows × 26 columns</p>\n",
       "</div>"
      ],
      "text/plain": [
       "   Unnamed: 0  month  airline_id unique_carrier carrier  \\\n",
       "0           1      1     21352.0            0WQ     0WQ   \n",
       "1           2      1     21645.0            23Q     23Q   \n",
       "2           3      1     21652.0            27Q     27Q   \n",
       "3           4      1     20408.0             5V      5V   \n",
       "4           5      1     19917.0             5X      5X   \n",
       "\n",
       "                                        carrier_name  carrier_group_new  \\\n",
       "0                                  Avjet Corporation                  1   \n",
       "1                              Songbird Airways Inc.                  1   \n",
       "2                 Jet Aviation Flight Services, Inc.                  1   \n",
       "3  Tatonduk Outfitters Limited d/b/a Everts Air A...                  1   \n",
       "4                              United Parcel Service                  3   \n",
       "\n",
       "   sdomt_gallons  satl_gallons  spac_gallons  ...  sdomt_cost  satl_cost  \\\n",
       "0            0.0           0.0           0.0  ...         0.0        0.0   \n",
       "1            0.0           0.0           0.0  ...         0.0        0.0   \n",
       "2            0.0           0.0           0.0  ...         0.0        0.0   \n",
       "3       260848.0           0.0           0.0  ...    522405.0        0.0   \n",
       "4     32138000.0     9743000.0    16116000.0  ...  34098000.0  9752000.0   \n",
       "\n",
       "    spac_cost  slat_cost   sint_cost     ts_cost  tdomt_cost   tint_cost  \\\n",
       "0         0.0        0.0         0.0         0.0    396216.0    140239.0   \n",
       "1         0.0        0.0         0.0         0.0         0.0         0.0   \n",
       "2         0.0        0.0         0.0         0.0         0.0         0.0   \n",
       "3         0.0        0.0         0.0    522405.0    569497.0         0.0   \n",
       "4  17965000.0  3524000.0  31241000.0  65339000.0  34098000.0  31241000.0   \n",
       "\n",
       "   total_cost  year  \n",
       "0    536455.0  2016  \n",
       "1         0.0  2016  \n",
       "2         0.0  2016  \n",
       "3    569497.0  2016  \n",
       "4  65339000.0  2016  \n",
       "\n",
       "[5 rows x 26 columns]"
      ]
     },
     "execution_count": 672,
     "metadata": {},
     "output_type": "execute_result"
    }
   ],
   "source": [
    "df_fuel=pd.read_csv('fuel.csv')\n",
    "df_fuel.head()"
   ]
  },
  {
   "cell_type": "code",
   "execution_count": 673,
   "metadata": {},
   "outputs": [
    {
     "data": {
      "text/plain": [
       "Unnamed: 0           0\n",
       "month                0\n",
       "airline_id           0\n",
       "unique_carrier       0\n",
       "carrier              0\n",
       "carrier_name         0\n",
       "carrier_group_new    0\n",
       "sdomt_gallons        0\n",
       "satl_gallons         0\n",
       "spac_gallons         0\n",
       "slat_gallons         0\n",
       "sint_gallons         0\n",
       "ts_gallons           0\n",
       "tdomt_gallons        0\n",
       "tint_gallons         0\n",
       "total_gallons        0\n",
       "sdomt_cost           0\n",
       "satl_cost            0\n",
       "spac_cost            0\n",
       "slat_cost            0\n",
       "sint_cost            0\n",
       "ts_cost              0\n",
       "tdomt_cost           0\n",
       "tint_cost            0\n",
       "total_cost           0\n",
       "year                 0\n",
       "dtype: int64"
      ]
     },
     "execution_count": 673,
     "metadata": {},
     "output_type": "execute_result"
    }
   ],
   "source": [
    "df_fuel.isnull().sum()"
   ]
  },
  {
   "cell_type": "code",
   "execution_count": 674,
   "metadata": {},
   "outputs": [],
   "source": [
    "df_task10=df_flight.copy(deep=True)"
   ]
  },
  {
   "cell_type": "code",
   "execution_count": 675,
   "metadata": {},
   "outputs": [],
   "source": [
    "df_task10['fl_date']=pd.to_datetime(df_task2['fl_date'])\n",
    "df_task10['month']=df_task2['fl_date'].dt.month"
   ]
  },
  {
   "cell_type": "code",
   "execution_count": 676,
   "metadata": {},
   "outputs": [],
   "source": [
    "#Average delays and distance covered by carriers\n",
    "monthly_delay=df_task10.groupby(['month', 'mkt_unique_carrier'])['dep_delay'].mean()\n",
    "monthly_distance=df_task10.groupby(['month','mkt_unique_carrier'])['distance'].sum()\n"
   ]
  },
  {
   "cell_type": "code",
   "execution_count": 677,
   "metadata": {},
   "outputs": [
    {
     "data": {
      "text/plain": [
       "month  mkt_unique_carrier\n",
       "1      AA                     7.980296\n",
       "       AS                     0.075000\n",
       "       B6                    30.125000\n",
       "       DL                     4.191083\n",
       "       F9                    10.666667\n",
       "                               ...    \n",
       "12     G4                    21.700000\n",
       "       HA                     3.500000\n",
       "       NK                     3.833333\n",
       "       UA                    20.261745\n",
       "       WN                    11.420290\n",
       "Name: dep_delay, Length: 123, dtype: float64"
      ]
     },
     "execution_count": 677,
     "metadata": {},
     "output_type": "execute_result"
    }
   ],
   "source": [
    "monthly_delay"
   ]
  },
  {
   "cell_type": "code",
   "execution_count": 678,
   "metadata": {},
   "outputs": [],
   "source": [
    "df_task10_pas=df_pas.copy(deep=True)"
   ]
  },
  {
   "cell_type": "code",
   "execution_count": 679,
   "metadata": {},
   "outputs": [
    {
     "data": {
      "text/plain": [
       "Index(['fl_date', 'mkt_unique_carrier', 'branded_code_share', 'mkt_carrier',\n",
       "       'mkt_carrier_fl_num', 'op_unique_carrier', 'tail_num',\n",
       "       'op_carrier_fl_num', 'origin_airport_id', 'origin', 'origin_city_name',\n",
       "       'dest_airport_id', 'dest', 'dest_city_name', 'crs_dep_time', 'dep_time',\n",
       "       'dep_delay', 'taxi_out', 'wheels_off', 'wheels_on', 'taxi_in',\n",
       "       'crs_arr_time', 'arr_time', 'arr_delay', 'cancelled', 'diverted', 'dup',\n",
       "       'crs_elapsed_time', 'actual_elapsed_time', 'air_time', 'flights',\n",
       "       'distance', 'carrier_delay', 'weather_delay', 'nas_delay',\n",
       "       'security_delay', 'late_aircraft_delay', 'month'],\n",
       "      dtype='object')"
      ]
     },
     "execution_count": 679,
     "metadata": {},
     "output_type": "execute_result"
    }
   ],
   "source": [
    "df_task10.columns"
   ]
  },
  {
   "cell_type": "code",
   "execution_count": null,
   "metadata": {},
   "outputs": [],
   "source": []
  },
  {
   "cell_type": "code",
   "execution_count": 680,
   "metadata": {},
   "outputs": [
    {
     "data": {
      "text/html": [
       "<div>\n",
       "<style scoped>\n",
       "    .dataframe tbody tr th:only-of-type {\n",
       "        vertical-align: middle;\n",
       "    }\n",
       "\n",
       "    .dataframe tbody tr th {\n",
       "        vertical-align: top;\n",
       "    }\n",
       "\n",
       "    .dataframe thead th {\n",
       "        text-align: right;\n",
       "    }\n",
       "</style>\n",
       "<table border=\"1\" class=\"dataframe\">\n",
       "  <thead>\n",
       "    <tr style=\"text-align: right;\">\n",
       "      <th></th>\n",
       "      <th>passengers</th>\n",
       "    </tr>\n",
       "    <tr>\n",
       "      <th>unique_carrier</th>\n",
       "      <th></th>\n",
       "    </tr>\n",
       "  </thead>\n",
       "  <tbody>\n",
       "    <tr>\n",
       "      <th>WN</th>\n",
       "      <td>3325621.0</td>\n",
       "    </tr>\n",
       "    <tr>\n",
       "      <th>AA</th>\n",
       "      <td>3114535.0</td>\n",
       "    </tr>\n",
       "    <tr>\n",
       "      <th>DL</th>\n",
       "      <td>2995752.0</td>\n",
       "    </tr>\n",
       "    <tr>\n",
       "      <th>UA</th>\n",
       "      <td>2119177.0</td>\n",
       "    </tr>\n",
       "    <tr>\n",
       "      <th>B6</th>\n",
       "      <td>798111.0</td>\n",
       "    </tr>\n",
       "    <tr>\n",
       "      <th>...</th>\n",
       "      <td>...</td>\n",
       "    </tr>\n",
       "    <tr>\n",
       "      <th>PO</th>\n",
       "      <td>0.0</td>\n",
       "    </tr>\n",
       "    <tr>\n",
       "      <th>PM</th>\n",
       "      <td>0.0</td>\n",
       "    </tr>\n",
       "    <tr>\n",
       "      <th>2GQ</th>\n",
       "      <td>0.0</td>\n",
       "    </tr>\n",
       "    <tr>\n",
       "      <th>2F</th>\n",
       "      <td>0.0</td>\n",
       "    </tr>\n",
       "    <tr>\n",
       "      <th>9S</th>\n",
       "      <td>0.0</td>\n",
       "    </tr>\n",
       "  </tbody>\n",
       "</table>\n",
       "<p>268 rows × 1 columns</p>\n",
       "</div>"
      ],
      "text/plain": [
       "                passengers\n",
       "unique_carrier            \n",
       "WN               3325621.0\n",
       "AA               3114535.0\n",
       "DL               2995752.0\n",
       "UA               2119177.0\n",
       "B6                798111.0\n",
       "...                    ...\n",
       "PO                     0.0\n",
       "PM                     0.0\n",
       "2GQ                    0.0\n",
       "2F                     0.0\n",
       "9S                     0.0\n",
       "\n",
       "[268 rows x 1 columns]"
      ]
     },
     "execution_count": 680,
     "metadata": {},
     "output_type": "execute_result"
    }
   ],
   "source": [
    "#Number of passengers carreid by all carriers\n",
    "pas_by_carriers=df_task10_pas[['passengers','unique_carrier']].groupby('unique_carrier').sum().sort_values(by='passengers', ascending=False)\n",
    "pas_by_carriers"
   ]
  },
  {
   "cell_type": "code",
   "execution_count": 681,
   "metadata": {},
   "outputs": [
    {
     "data": {
      "text/html": [
       "<div>\n",
       "<style scoped>\n",
       "    .dataframe tbody tr th:only-of-type {\n",
       "        vertical-align: middle;\n",
       "    }\n",
       "\n",
       "    .dataframe tbody tr th {\n",
       "        vertical-align: top;\n",
       "    }\n",
       "\n",
       "    .dataframe thead th {\n",
       "        text-align: right;\n",
       "    }\n",
       "</style>\n",
       "<table border=\"1\" class=\"dataframe\">\n",
       "  <thead>\n",
       "    <tr style=\"text-align: right;\">\n",
       "      <th></th>\n",
       "      <th>total_gallons</th>\n",
       "    </tr>\n",
       "    <tr>\n",
       "      <th>unique_carrier</th>\n",
       "      <th></th>\n",
       "    </tr>\n",
       "  </thead>\n",
       "  <tbody>\n",
       "    <tr>\n",
       "      <th>AA</th>\n",
       "      <td>1.663489e+10</td>\n",
       "    </tr>\n",
       "    <tr>\n",
       "      <th>DL</th>\n",
       "      <td>1.627476e+10</td>\n",
       "    </tr>\n",
       "    <tr>\n",
       "      <th>UA</th>\n",
       "      <td>1.566815e+10</td>\n",
       "    </tr>\n",
       "    <tr>\n",
       "      <th>WN</th>\n",
       "      <td>9.423150e+09</td>\n",
       "    </tr>\n",
       "    <tr>\n",
       "      <th>FX</th>\n",
       "      <td>5.354409e+09</td>\n",
       "    </tr>\n",
       "    <tr>\n",
       "      <th>...</th>\n",
       "      <td>...</td>\n",
       "    </tr>\n",
       "    <tr>\n",
       "      <th>9E</th>\n",
       "      <td>0.000000e+00</td>\n",
       "    </tr>\n",
       "    <tr>\n",
       "      <th>OH</th>\n",
       "      <td>0.000000e+00</td>\n",
       "    </tr>\n",
       "    <tr>\n",
       "      <th>CP</th>\n",
       "      <td>0.000000e+00</td>\n",
       "    </tr>\n",
       "    <tr>\n",
       "      <th>MQ</th>\n",
       "      <td>0.000000e+00</td>\n",
       "    </tr>\n",
       "    <tr>\n",
       "      <th>PRQ</th>\n",
       "      <td>0.000000e+00</td>\n",
       "    </tr>\n",
       "  </tbody>\n",
       "</table>\n",
       "<p>62 rows × 1 columns</p>\n",
       "</div>"
      ],
      "text/plain": [
       "                total_gallons\n",
       "unique_carrier               \n",
       "AA               1.663489e+10\n",
       "DL               1.627476e+10\n",
       "UA               1.566815e+10\n",
       "WN               9.423150e+09\n",
       "FX               5.354409e+09\n",
       "...                       ...\n",
       "9E               0.000000e+00\n",
       "OH               0.000000e+00\n",
       "CP               0.000000e+00\n",
       "MQ               0.000000e+00\n",
       "PRQ              0.000000e+00\n",
       "\n",
       "[62 rows x 1 columns]"
      ]
     },
     "execution_count": 681,
     "metadata": {},
     "output_type": "execute_result"
    }
   ],
   "source": [
    "#total fuel consumption per carrir \n",
    "fuel_by_carriers=df_fuel[['total_gallons','unique_carrier']].groupby('unique_carrier').sum().sort_values(by='total_gallons', ascending=False)\n",
    "fuel_by_carriers\n"
   ]
  },
  {
   "cell_type": "code",
   "execution_count": 682,
   "metadata": {},
   "outputs": [
    {
     "data": {
      "text/html": [
       "<div>\n",
       "<style scoped>\n",
       "    .dataframe tbody tr th:only-of-type {\n",
       "        vertical-align: middle;\n",
       "    }\n",
       "\n",
       "    .dataframe tbody tr th {\n",
       "        vertical-align: top;\n",
       "    }\n",
       "\n",
       "    .dataframe thead th {\n",
       "        text-align: right;\n",
       "    }\n",
       "</style>\n",
       "<table border=\"1\" class=\"dataframe\">\n",
       "  <thead>\n",
       "    <tr style=\"text-align: right;\">\n",
       "      <th></th>\n",
       "      <th>mkt_unique_carrier</th>\n",
       "      <th>month</th>\n",
       "      <th>dep_delay</th>\n",
       "      <th>distance</th>\n",
       "    </tr>\n",
       "  </thead>\n",
       "  <tbody>\n",
       "    <tr>\n",
       "      <th>0</th>\n",
       "      <td>AA</td>\n",
       "      <td>1</td>\n",
       "      <td>7.980296</td>\n",
       "      <td>140007.0</td>\n",
       "    </tr>\n",
       "    <tr>\n",
       "      <th>1</th>\n",
       "      <td>AS</td>\n",
       "      <td>1</td>\n",
       "      <td>0.075000</td>\n",
       "      <td>28992.0</td>\n",
       "    </tr>\n",
       "    <tr>\n",
       "      <th>2</th>\n",
       "      <td>B6</td>\n",
       "      <td>1</td>\n",
       "      <td>30.125000</td>\n",
       "      <td>30730.0</td>\n",
       "    </tr>\n",
       "    <tr>\n",
       "      <th>3</th>\n",
       "      <td>DL</td>\n",
       "      <td>1</td>\n",
       "      <td>4.191083</td>\n",
       "      <td>96245.0</td>\n",
       "    </tr>\n",
       "    <tr>\n",
       "      <th>4</th>\n",
       "      <td>F9</td>\n",
       "      <td>1</td>\n",
       "      <td>10.666667</td>\n",
       "      <td>14942.0</td>\n",
       "    </tr>\n",
       "    <tr>\n",
       "      <th>...</th>\n",
       "      <td>...</td>\n",
       "      <td>...</td>\n",
       "      <td>...</td>\n",
       "      <td>...</td>\n",
       "    </tr>\n",
       "    <tr>\n",
       "      <th>118</th>\n",
       "      <td>G4</td>\n",
       "      <td>12</td>\n",
       "      <td>21.700000</td>\n",
       "      <td>9184.0</td>\n",
       "    </tr>\n",
       "    <tr>\n",
       "      <th>119</th>\n",
       "      <td>HA</td>\n",
       "      <td>12</td>\n",
       "      <td>3.500000</td>\n",
       "      <td>13851.0</td>\n",
       "    </tr>\n",
       "    <tr>\n",
       "      <th>120</th>\n",
       "      <td>NK</td>\n",
       "      <td>12</td>\n",
       "      <td>3.833333</td>\n",
       "      <td>26411.0</td>\n",
       "    </tr>\n",
       "    <tr>\n",
       "      <th>121</th>\n",
       "      <td>UA</td>\n",
       "      <td>12</td>\n",
       "      <td>20.261745</td>\n",
       "      <td>130261.0</td>\n",
       "    </tr>\n",
       "    <tr>\n",
       "      <th>122</th>\n",
       "      <td>WN</td>\n",
       "      <td>12</td>\n",
       "      <td>11.420290</td>\n",
       "      <td>107494.0</td>\n",
       "    </tr>\n",
       "  </tbody>\n",
       "</table>\n",
       "<p>123 rows × 4 columns</p>\n",
       "</div>"
      ],
      "text/plain": [
       "    mkt_unique_carrier  month  dep_delay  distance\n",
       "0                   AA      1   7.980296  140007.0\n",
       "1                   AS      1   0.075000   28992.0\n",
       "2                   B6      1  30.125000   30730.0\n",
       "3                   DL      1   4.191083   96245.0\n",
       "4                   F9      1  10.666667   14942.0\n",
       "..                 ...    ...        ...       ...\n",
       "118                 G4     12  21.700000    9184.0\n",
       "119                 HA     12   3.500000   13851.0\n",
       "120                 NK     12   3.833333   26411.0\n",
       "121                 UA     12  20.261745  130261.0\n",
       "122                 WN     12  11.420290  107494.0\n",
       "\n",
       "[123 rows x 4 columns]"
      ]
     },
     "execution_count": 682,
     "metadata": {},
     "output_type": "execute_result"
    }
   ],
   "source": [
    "#Merging\n",
    "\n",
    "delay_dest_merged=pd.merge(monthly_delay, monthly_distance, how='left', on=['mkt_unique_carrier', 'month']).reset_index()\n",
    "delay_dest_merged"
   ]
  },
  {
   "cell_type": "code",
   "execution_count": 689,
   "metadata": {},
   "outputs": [],
   "source": [
    "delay_dest_merged=delay_dest_merged.rename(columns={'mkt_unique_carrier': 'unique_carrier'})"
   ]
  },
  {
   "cell_type": "code",
   "execution_count": 690,
   "metadata": {},
   "outputs": [
    {
     "data": {
      "text/html": [
       "<div>\n",
       "<style scoped>\n",
       "    .dataframe tbody tr th:only-of-type {\n",
       "        vertical-align: middle;\n",
       "    }\n",
       "\n",
       "    .dataframe tbody tr th {\n",
       "        vertical-align: top;\n",
       "    }\n",
       "\n",
       "    .dataframe thead th {\n",
       "        text-align: right;\n",
       "    }\n",
       "</style>\n",
       "<table border=\"1\" class=\"dataframe\">\n",
       "  <thead>\n",
       "    <tr style=\"text-align: right;\">\n",
       "      <th></th>\n",
       "      <th>unique_carrier</th>\n",
       "      <th>passengers</th>\n",
       "      <th>total_gallons</th>\n",
       "    </tr>\n",
       "  </thead>\n",
       "  <tbody>\n",
       "    <tr>\n",
       "      <th>0</th>\n",
       "      <td>WN</td>\n",
       "      <td>3325621.0</td>\n",
       "      <td>9.423150e+09</td>\n",
       "    </tr>\n",
       "    <tr>\n",
       "      <th>1</th>\n",
       "      <td>AA</td>\n",
       "      <td>3114535.0</td>\n",
       "      <td>1.663489e+10</td>\n",
       "    </tr>\n",
       "    <tr>\n",
       "      <th>2</th>\n",
       "      <td>DL</td>\n",
       "      <td>2995752.0</td>\n",
       "      <td>1.627476e+10</td>\n",
       "    </tr>\n",
       "    <tr>\n",
       "      <th>3</th>\n",
       "      <td>UA</td>\n",
       "      <td>2119177.0</td>\n",
       "      <td>1.566815e+10</td>\n",
       "    </tr>\n",
       "    <tr>\n",
       "      <th>4</th>\n",
       "      <td>B6</td>\n",
       "      <td>798111.0</td>\n",
       "      <td>3.767060e+09</td>\n",
       "    </tr>\n",
       "    <tr>\n",
       "      <th>...</th>\n",
       "      <td>...</td>\n",
       "      <td>...</td>\n",
       "      <td>...</td>\n",
       "    </tr>\n",
       "    <tr>\n",
       "      <th>263</th>\n",
       "      <td>PO</td>\n",
       "      <td>0.0</td>\n",
       "      <td>8.582394e+08</td>\n",
       "    </tr>\n",
       "    <tr>\n",
       "      <th>264</th>\n",
       "      <td>PM</td>\n",
       "      <td>0.0</td>\n",
       "      <td>NaN</td>\n",
       "    </tr>\n",
       "    <tr>\n",
       "      <th>265</th>\n",
       "      <td>2GQ</td>\n",
       "      <td>0.0</td>\n",
       "      <td>NaN</td>\n",
       "    </tr>\n",
       "    <tr>\n",
       "      <th>266</th>\n",
       "      <td>2F</td>\n",
       "      <td>0.0</td>\n",
       "      <td>NaN</td>\n",
       "    </tr>\n",
       "    <tr>\n",
       "      <th>267</th>\n",
       "      <td>9S</td>\n",
       "      <td>0.0</td>\n",
       "      <td>3.571342e+08</td>\n",
       "    </tr>\n",
       "  </tbody>\n",
       "</table>\n",
       "<p>268 rows × 3 columns</p>\n",
       "</div>"
      ],
      "text/plain": [
       "    unique_carrier  passengers  total_gallons\n",
       "0               WN   3325621.0   9.423150e+09\n",
       "1               AA   3114535.0   1.663489e+10\n",
       "2               DL   2995752.0   1.627476e+10\n",
       "3               UA   2119177.0   1.566815e+10\n",
       "4               B6    798111.0   3.767060e+09\n",
       "..             ...         ...            ...\n",
       "263             PO         0.0   8.582394e+08\n",
       "264             PM         0.0            NaN\n",
       "265            2GQ         0.0            NaN\n",
       "266             2F         0.0            NaN\n",
       "267             9S         0.0   3.571342e+08\n",
       "\n",
       "[268 rows x 3 columns]"
      ]
     },
     "execution_count": 690,
     "metadata": {},
     "output_type": "execute_result"
    }
   ],
   "source": [
    "pas_fuel_merged=pd.merge(pas_by_carriers, fuel_by_carriers, how='left', on='unique_carrier').reset_index()\n",
    "pas_fuel_merged"
   ]
  },
  {
   "cell_type": "code",
   "execution_count": 691,
   "metadata": {},
   "outputs": [
    {
     "data": {
      "text/html": [
       "<div>\n",
       "<style scoped>\n",
       "    .dataframe tbody tr th:only-of-type {\n",
       "        vertical-align: middle;\n",
       "    }\n",
       "\n",
       "    .dataframe tbody tr th {\n",
       "        vertical-align: top;\n",
       "    }\n",
       "\n",
       "    .dataframe thead th {\n",
       "        text-align: right;\n",
       "    }\n",
       "</style>\n",
       "<table border=\"1\" class=\"dataframe\">\n",
       "  <thead>\n",
       "    <tr style=\"text-align: right;\">\n",
       "      <th></th>\n",
       "      <th>unique_carrier</th>\n",
       "      <th>month</th>\n",
       "      <th>dep_delay</th>\n",
       "      <th>distance</th>\n",
       "      <th>passengers</th>\n",
       "      <th>total_gallons</th>\n",
       "    </tr>\n",
       "  </thead>\n",
       "  <tbody>\n",
       "    <tr>\n",
       "      <th>0</th>\n",
       "      <td>AA</td>\n",
       "      <td>1.0</td>\n",
       "      <td>7.980296</td>\n",
       "      <td>140007.0</td>\n",
       "      <td>3114535.0</td>\n",
       "      <td>1.663489e+10</td>\n",
       "    </tr>\n",
       "    <tr>\n",
       "      <th>1</th>\n",
       "      <td>AA</td>\n",
       "      <td>2.0</td>\n",
       "      <td>8.404372</td>\n",
       "      <td>132460.0</td>\n",
       "      <td>3114535.0</td>\n",
       "      <td>1.663489e+10</td>\n",
       "    </tr>\n",
       "    <tr>\n",
       "      <th>2</th>\n",
       "      <td>AA</td>\n",
       "      <td>3.0</td>\n",
       "      <td>8.574074</td>\n",
       "      <td>148297.0</td>\n",
       "      <td>3114535.0</td>\n",
       "      <td>1.663489e+10</td>\n",
       "    </tr>\n",
       "    <tr>\n",
       "      <th>3</th>\n",
       "      <td>AA</td>\n",
       "      <td>4.0</td>\n",
       "      <td>5.132353</td>\n",
       "      <td>140466.0</td>\n",
       "      <td>3114535.0</td>\n",
       "      <td>1.663489e+10</td>\n",
       "    </tr>\n",
       "    <tr>\n",
       "      <th>4</th>\n",
       "      <td>AA</td>\n",
       "      <td>5.0</td>\n",
       "      <td>11.763889</td>\n",
       "      <td>138070.0</td>\n",
       "      <td>3114535.0</td>\n",
       "      <td>1.663489e+10</td>\n",
       "    </tr>\n",
       "    <tr>\n",
       "      <th>...</th>\n",
       "      <td>...</td>\n",
       "      <td>...</td>\n",
       "      <td>...</td>\n",
       "      <td>...</td>\n",
       "      <td>...</td>\n",
       "      <td>...</td>\n",
       "    </tr>\n",
       "    <tr>\n",
       "      <th>375</th>\n",
       "      <td>PO</td>\n",
       "      <td>NaN</td>\n",
       "      <td>NaN</td>\n",
       "      <td>NaN</td>\n",
       "      <td>0.0</td>\n",
       "      <td>8.582394e+08</td>\n",
       "    </tr>\n",
       "    <tr>\n",
       "      <th>376</th>\n",
       "      <td>PM</td>\n",
       "      <td>NaN</td>\n",
       "      <td>NaN</td>\n",
       "      <td>NaN</td>\n",
       "      <td>0.0</td>\n",
       "      <td>NaN</td>\n",
       "    </tr>\n",
       "    <tr>\n",
       "      <th>377</th>\n",
       "      <td>2GQ</td>\n",
       "      <td>NaN</td>\n",
       "      <td>NaN</td>\n",
       "      <td>NaN</td>\n",
       "      <td>0.0</td>\n",
       "      <td>NaN</td>\n",
       "    </tr>\n",
       "    <tr>\n",
       "      <th>378</th>\n",
       "      <td>2F</td>\n",
       "      <td>NaN</td>\n",
       "      <td>NaN</td>\n",
       "      <td>NaN</td>\n",
       "      <td>0.0</td>\n",
       "      <td>NaN</td>\n",
       "    </tr>\n",
       "    <tr>\n",
       "      <th>379</th>\n",
       "      <td>9S</td>\n",
       "      <td>NaN</td>\n",
       "      <td>NaN</td>\n",
       "      <td>NaN</td>\n",
       "      <td>0.0</td>\n",
       "      <td>3.571342e+08</td>\n",
       "    </tr>\n",
       "  </tbody>\n",
       "</table>\n",
       "<p>380 rows × 6 columns</p>\n",
       "</div>"
      ],
      "text/plain": [
       "    unique_carrier  month  dep_delay  distance  passengers  total_gallons\n",
       "0               AA    1.0   7.980296  140007.0   3114535.0   1.663489e+10\n",
       "1               AA    2.0   8.404372  132460.0   3114535.0   1.663489e+10\n",
       "2               AA    3.0   8.574074  148297.0   3114535.0   1.663489e+10\n",
       "3               AA    4.0   5.132353  140466.0   3114535.0   1.663489e+10\n",
       "4               AA    5.0  11.763889  138070.0   3114535.0   1.663489e+10\n",
       "..             ...    ...        ...       ...         ...            ...\n",
       "375             PO    NaN        NaN       NaN         0.0   8.582394e+08\n",
       "376             PM    NaN        NaN       NaN         0.0            NaN\n",
       "377            2GQ    NaN        NaN       NaN         0.0            NaN\n",
       "378             2F    NaN        NaN       NaN         0.0            NaN\n",
       "379             9S    NaN        NaN       NaN         0.0   3.571342e+08\n",
       "\n",
       "[380 rows x 6 columns]"
      ]
     },
     "execution_count": 691,
     "metadata": {},
     "output_type": "execute_result"
    }
   ],
   "source": [
    "fuel_pass = pd.merge(delay_dest_merged, pas_fuel_merged, how = 'right', on = 'unique_carrier')\n",
    "fuel_pass\n"
   ]
  },
  {
   "cell_type": "code",
   "execution_count": 695,
   "metadata": {},
   "outputs": [],
   "source": [
    "fuel_pass=fuel_pass.dropna()"
   ]
  },
  {
   "cell_type": "code",
   "execution_count": 699,
   "metadata": {},
   "outputs": [
    {
     "name": "stderr",
     "output_type": "stream",
     "text": [
      "<ipython-input-699-5680e5261f02>:1: SettingWithCopyWarning:\n",
      "\n",
      "\n",
      "A value is trying to be set on a copy of a slice from a DataFrame.\n",
      "Try using .loc[row_indexer,col_indexer] = value instead\n",
      "\n",
      "See the caveats in the documentation: https://pandas.pydata.org/pandas-docs/stable/user_guide/indexing.html#returning-a-view-versus-a-copy\n",
      "\n",
      "<ipython-input-699-5680e5261f02>:2: SettingWithCopyWarning:\n",
      "\n",
      "\n",
      "A value is trying to be set on a copy of a slice from a DataFrame.\n",
      "Try using .loc[row_indexer,col_indexer] = value instead\n",
      "\n",
      "See the caveats in the documentation: https://pandas.pydata.org/pandas-docs/stable/user_guide/indexing.html#returning-a-view-versus-a-copy\n",
      "\n"
     ]
    }
   ],
   "source": [
    "fuel_pass['fuel consumpter per passenger']=fuel_pass['total_gallons']/fuel_pass['passengers']\n",
    "fuel_pass['consumption per km']=fuel_pass['total_gallons']/fuel_pass['distance']"
   ]
  },
  {
   "cell_type": "code",
   "execution_count": 700,
   "metadata": {},
   "outputs": [
    {
     "data": {
      "text/html": [
       "<div>\n",
       "<style scoped>\n",
       "    .dataframe tbody tr th:only-of-type {\n",
       "        vertical-align: middle;\n",
       "    }\n",
       "\n",
       "    .dataframe tbody tr th {\n",
       "        vertical-align: top;\n",
       "    }\n",
       "\n",
       "    .dataframe thead th {\n",
       "        text-align: right;\n",
       "    }\n",
       "</style>\n",
       "<table border=\"1\" class=\"dataframe\">\n",
       "  <thead>\n",
       "    <tr style=\"text-align: right;\">\n",
       "      <th></th>\n",
       "      <th>unique_carrier</th>\n",
       "      <th>month</th>\n",
       "      <th>dep_delay</th>\n",
       "      <th>distance</th>\n",
       "      <th>passengers</th>\n",
       "      <th>total_gallons</th>\n",
       "      <th>fuel consumpter per passenger</th>\n",
       "      <th>consumption per km</th>\n",
       "    </tr>\n",
       "  </thead>\n",
       "  <tbody>\n",
       "    <tr>\n",
       "      <th>0</th>\n",
       "      <td>AA</td>\n",
       "      <td>1.0</td>\n",
       "      <td>7.980296</td>\n",
       "      <td>140007.0</td>\n",
       "      <td>3114535.0</td>\n",
       "      <td>1.663489e+10</td>\n",
       "      <td>5341.049774</td>\n",
       "      <td>118814.676823</td>\n",
       "    </tr>\n",
       "    <tr>\n",
       "      <th>1</th>\n",
       "      <td>AA</td>\n",
       "      <td>2.0</td>\n",
       "      <td>8.404372</td>\n",
       "      <td>132460.0</td>\n",
       "      <td>3114535.0</td>\n",
       "      <td>1.663489e+10</td>\n",
       "      <td>5341.049774</td>\n",
       "      <td>125584.225109</td>\n",
       "    </tr>\n",
       "    <tr>\n",
       "      <th>2</th>\n",
       "      <td>AA</td>\n",
       "      <td>3.0</td>\n",
       "      <td>8.574074</td>\n",
       "      <td>148297.0</td>\n",
       "      <td>3114535.0</td>\n",
       "      <td>1.663489e+10</td>\n",
       "      <td>5341.049774</td>\n",
       "      <td>112172.777993</td>\n",
       "    </tr>\n",
       "    <tr>\n",
       "      <th>3</th>\n",
       "      <td>AA</td>\n",
       "      <td>4.0</td>\n",
       "      <td>5.132353</td>\n",
       "      <td>140466.0</td>\n",
       "      <td>3114535.0</td>\n",
       "      <td>1.663489e+10</td>\n",
       "      <td>5341.049774</td>\n",
       "      <td>118426.426737</td>\n",
       "    </tr>\n",
       "    <tr>\n",
       "      <th>4</th>\n",
       "      <td>AA</td>\n",
       "      <td>5.0</td>\n",
       "      <td>11.763889</td>\n",
       "      <td>138070.0</td>\n",
       "      <td>3114535.0</td>\n",
       "      <td>1.663489e+10</td>\n",
       "      <td>5341.049774</td>\n",
       "      <td>120481.541667</td>\n",
       "    </tr>\n",
       "  </tbody>\n",
       "</table>\n",
       "</div>"
      ],
      "text/plain": [
       "  unique_carrier  month  dep_delay  distance  passengers  total_gallons  \\\n",
       "0             AA    1.0   7.980296  140007.0   3114535.0   1.663489e+10   \n",
       "1             AA    2.0   8.404372  132460.0   3114535.0   1.663489e+10   \n",
       "2             AA    3.0   8.574074  148297.0   3114535.0   1.663489e+10   \n",
       "3             AA    4.0   5.132353  140466.0   3114535.0   1.663489e+10   \n",
       "4             AA    5.0  11.763889  138070.0   3114535.0   1.663489e+10   \n",
       "\n",
       "   fuel consumpter per passenger  consumption per km  \n",
       "0                    5341.049774       118814.676823  \n",
       "1                    5341.049774       125584.225109  \n",
       "2                    5341.049774       112172.777993  \n",
       "3                    5341.049774       118426.426737  \n",
       "4                    5341.049774       120481.541667  "
      ]
     },
     "execution_count": 700,
     "metadata": {},
     "output_type": "execute_result"
    }
   ],
   "source": [
    "fuel_pass.head()"
   ]
  },
  {
   "cell_type": "code",
   "execution_count": 702,
   "metadata": {},
   "outputs": [
    {
     "data": {
      "text/plain": [
       "<AxesSubplot:xlabel='dep_delay', ylabel='fuel consumpter per passenger'>"
      ]
     },
     "execution_count": 702,
     "metadata": {},
     "output_type": "execute_result"
    },
    {
     "data": {
      "image/png": "[encoded data removed]",
      "text/plain": [
       "<Figure size 432x288 with 1 Axes>"
      ]
     },
     "metadata": {
      "needs_background": "light"
     },
     "output_type": "display_data"
    }
   ],
   "source": [
    "sns.scatterplot(data=fuel_pass, x='dep_delay', y='fuel consumpter per passenger')"
   ]
  },
  {
   "cell_type": "code",
   "execution_count": 703,
   "metadata": {},
   "outputs": [
    {
     "data": {
      "text/plain": [
       "<AxesSubplot:xlabel='dep_delay', ylabel='consumption per km'>"
      ]
     },
     "execution_count": 703,
     "metadata": {},
     "output_type": "execute_result"
    },
    {
     "data": {
      "image/png": "[encoded data removed]",
      "text/plain": [
       "<Figure size 432x288 with 1 Axes>"
      ]
     },
     "metadata": {
      "needs_background": "light"
     },
     "output_type": "display_data"
    }
   ],
   "source": [
    "sns.scatterplot(data=fuel_pass, x='dep_delay', y='consumption per km')"
   ]
  },
  {
   "cell_type": "code",
   "execution_count": null,
   "metadata": {},
   "outputs": [],
   "source": []
  }
 ],
 "metadata": {
  "kernelspec": {
   "display_name": "Python 3",
   "language": "python",
   "name": "python3"
  },
  "language_info": {
   "codemirror_mode": {
    "name": "ipython",
    "version": 3
   },
   "file_extension": ".py",
   "mimetype": "text/x-python",
   "name": "python",
   "nbconvert_exporter": "python",
   "pygments_lexer": "ipython3",
   "version": "3.8.5"
  },
  "toc": {
   "base_numbering": 1,
   "nav_menu": {},
   "number_sections": true,
   "sideBar": true,
   "skip_h1_title": false,
   "title_cell": "Table of Contents",
   "title_sidebar": "Contents",
   "toc_cell": false,
   "toc_position": {},
   "toc_section_display": true,
   "toc_window_display": false
  },
  "varInspector": {
   "cols": {
    "lenName": 16,
    "lenType": 16,
    "lenVar": 40
   },
   "kernels_config": {
    "python": {
     "delete_cmd_postfix": "",
     "delete_cmd_prefix": "del ",
     "library": "var_list.py",
     "varRefreshCmd": "print(var_dic_list())"
    },
    "r": {
     "delete_cmd_postfix": ") ",
     "delete_cmd_prefix": "rm(",
     "library": "var_list.r",
     "varRefreshCmd": "cat(var_dic_list()) "
    }
   },
   "types_to_exclude": [
    "module",
    "function",
    "builtin_function_or_method",
    "instance",
    "_Feature"
   ],
   "window_display": false
  }
 },
 "nbformat": 4,
 "nbformat_minor": 4
}
