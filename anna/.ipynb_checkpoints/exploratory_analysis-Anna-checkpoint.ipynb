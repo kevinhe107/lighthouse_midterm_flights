{
 "cells": [
  {
   "cell_type": "markdown",
   "metadata": {},
   "source": [
    "<font size=\"10\">MID TERM PROJECT</americantypewriter> "
   ]
  },
  {
   "cell_type": "markdown",
   "metadata": {},
   "source": [
    "<font size=\"6\">Exploratory Data Analysis</americantypewriter>"
   ]
  },
  {
   "cell_type": "markdown",
   "metadata": {},
   "source": [
    "#<font size=\"5\">your_text_here</font>\n",
    "Use this notebook to get familiar with the datasets we have. There is 10 questions we need to answer during the EDA.\n",
    "\n",
    "\n",
    "We shouldn't limit our EDA to these 10 questions. Let's be creative :)."
   ]
  },
  {
   "cell_type": "markdown",
   "metadata": {},
   "source": [
    "<font size=\"5\">Import Libraries</Arial>"
   ]
  },
  {
   "cell_type": "code",
   "execution_count": 129,
   "metadata": {},
   "outputs": [],
   "source": [
    "import pandas as pd\n",
    "import numpy as np\n",
    "import psycopg2\n",
    "import matplotlib.pyplot as plt \n",
    "import datetime as dt\n",
    "import seaborn as sns\n",
    "pd.set_option('display.max_columns',False)"
   ]
  },
  {
   "cell_type": "markdown",
   "metadata": {},
   "source": [
    "<font size=\"5\">Connecting to Database</Arial>"
   ]
  },
  {
   "cell_type": "code",
   "execution_count": 130,
   "metadata": {},
   "outputs": [],
   "source": [
    "connection = psycopg2.connect(\n",
    "    host=\"mid-term-project.ca2jkepgjpne.us-east-2.rds.amazonaws.com\",\n",
    "    database=\"mid_term_project\",\n",
    "    user=\"lhl_student\",\n",
    "    password=\"lhl_student\",\n",
    "    port=5432)"
   ]
  },
  {
   "cell_type": "code",
   "execution_count": 41,
   "metadata": {},
   "outputs": [
    {
     "data": {
      "text/plain": [
       "Index(['departures_scheduled', 'departures_performed', 'payload', 'seats',\n",
       "       'passengers', 'freight', 'mail', 'distance', 'ramp_to_ramp', 'air_time',\n",
       "       'unique_carrier', 'airline_id', 'unique_carrier_name', 'region',\n",
       "       'carrier', 'carrier_name', 'carrier_group', 'carrier_group_new',\n",
       "       'origin_airport_id', 'origin_city_market_id', 'origin',\n",
       "       'origin_city_name', 'origin_country', 'origin_country_name',\n",
       "       'dest_airport_id', 'dest_city_market_id', 'dest', 'dest_city_name',\n",
       "       'dest_country', 'dest_country_name', 'aircraft_group', 'aircraft_type',\n",
       "       'aircraft_config', 'year', 'month', 'distance_group', 'class',\n",
       "       'data_source'],\n",
       "      dtype='object')"
      ]
     },
     "execution_count": 41,
     "metadata": {},
     "output_type": "execute_result"
    }
   ],
   "source": [
    "df_passengers = pd.read_sql_query('SELECT * FROM passengers ORDER BY RANDOM() LIMIT 3000;', connection)\n",
    "df_passengers.columns"
   ]
  },
  {
   "cell_type": "code",
   "execution_count": null,
   "metadata": {},
   "outputs": [],
   "source": [
    "df_fuel_comsumption = pd.read_sql_query('SELECT * FROM fuel_comsumption ORDER BY RANDOM() LIMIT 3000;', connection)\n",
    "df_fuel_comsumption.columns"
   ]
  },
  {
   "cell_type": "code",
   "execution_count": 131,
   "metadata": {},
   "outputs": [
    {
     "data": {
      "text/plain": [
       "Index(['fl_date', 'mkt_unique_carrier', 'branded_code_share', 'mkt_carrier',\n",
       "       'mkt_carrier_fl_num', 'op_unique_carrier', 'tail_num',\n",
       "       'op_carrier_fl_num', 'origin_airport_id', 'origin', 'origin_city_name',\n",
       "       'dest_airport_id', 'dest', 'dest_city_name', 'crs_dep_time', 'dep_time',\n",
       "       'dep_delay', 'taxi_out', 'wheels_off', 'wheels_on', 'taxi_in',\n",
       "       'crs_arr_time', 'arr_time', 'arr_delay', 'cancelled',\n",
       "       'cancellation_code', 'diverted', 'dup', 'crs_elapsed_time',\n",
       "       'actual_elapsed_time', 'air_time', 'flights', 'distance',\n",
       "       'carrier_delay', 'weather_delay', 'nas_delay', 'security_delay',\n",
       "       'late_aircraft_delay', 'first_dep_time', 'total_add_gtime',\n",
       "       'longest_add_gtime', 'no_name'],\n",
       "      dtype='object')"
      ]
     },
     "execution_count": 131,
     "metadata": {},
     "output_type": "execute_result"
    }
   ],
   "source": [
    "df_flights = pd.read_sql_query('SELECT * FROM flights ORDER BY RANDOM() LIMIT 3000;', connection)\n",
    "df_flights.columns"
   ]
  },
  {
   "cell_type": "code",
   "execution_count": 94,
   "metadata": {},
   "outputs": [
    {
     "data": {
      "text/plain": [
       "(3000, 42)"
      ]
     },
     "execution_count": 94,
     "metadata": {},
     "output_type": "execute_result"
    }
   ],
   "source": [
    "df_flights.shape"
   ]
  },
  {
   "cell_type": "code",
   "execution_count": 103,
   "metadata": {},
   "outputs": [
    {
     "data": {
      "text/plain": [
       "False"
      ]
     },
     "execution_count": 103,
     "metadata": {},
     "output_type": "execute_result"
    }
   ],
   "source": [
    "df_passengers.isnull().values.any()"
   ]
  },
  {
   "cell_type": "markdown",
   "metadata": {},
   "source": [
    "<font size=\"5\">CLEAN AND PREPARE DATA</font>"
   ]
  },
  {
   "cell_type": "code",
   "execution_count": 95,
   "metadata": {},
   "outputs": [
    {
     "data": {
      "text/plain": [
       "True"
      ]
     },
     "execution_count": 95,
     "metadata": {},
     "output_type": "execute_result"
    }
   ],
   "source": [
    "df_flights.isnull().values.any()"
   ]
  },
  {
   "cell_type": "code",
   "execution_count": 96,
   "metadata": {},
   "outputs": [
    {
     "data": {
      "text/plain": [
       "fl_date                   0\n",
       "mkt_unique_carrier        0\n",
       "branded_code_share        0\n",
       "mkt_carrier               0\n",
       "mkt_carrier_fl_num        0\n",
       "op_unique_carrier         0\n",
       "tail_num                  6\n",
       "op_carrier_fl_num         0\n",
       "origin_airport_id         0\n",
       "origin                    0\n",
       "origin_city_name          0\n",
       "dest_airport_id           0\n",
       "dest                      0\n",
       "dest_city_name            0\n",
       "crs_dep_time              0\n",
       "dep_time                 53\n",
       "dep_delay                53\n",
       "taxi_out                 57\n",
       "wheels_off               57\n",
       "wheels_on                57\n",
       "taxi_in                  57\n",
       "crs_arr_time              0\n",
       "arr_time                 55\n",
       "arr_delay                63\n",
       "cancelled                 0\n",
       "cancellation_code      2821\n",
       "diverted                  0\n",
       "dup                       0\n",
       "crs_elapsed_time          0\n",
       "actual_elapsed_time      63\n",
       "air_time                 65\n",
       "flights                   0\n",
       "distance                  0\n",
       "carrier_delay          2443\n",
       "weather_delay          2443\n",
       "nas_delay              2443\n",
       "security_delay         2443\n",
       "late_aircraft_delay    2443\n",
       "first_dep_time         2855\n",
       "total_add_gtime        2979\n",
       "longest_add_gtime      2979\n",
       "no_name                3000\n",
       "dtype: int64"
      ]
     },
     "execution_count": 96,
     "metadata": {},
     "output_type": "execute_result"
    }
   ],
   "source": [
    "df_flights.isnull().sum()"
   ]
  },
  {
   "cell_type": "markdown",
   "metadata": {},
   "source": [
    "<font size=\"5\">DROPPING COLUMNS</font>"
   ]
  },
  {
   "cell_type": "code",
   "execution_count": 97,
   "metadata": {},
   "outputs": [],
   "source": [
    "#testing - dropping one column\n",
    "df_flights = df_flights.drop('no_name', axis=1)"
   ]
  },
  {
   "cell_type": "code",
   "execution_count": 98,
   "metadata": {},
   "outputs": [
    {
     "data": {
      "text/html": [
       "<div>\n",
       "<style scoped>\n",
       "    .dataframe tbody tr th:only-of-type {\n",
       "        vertical-align: middle;\n",
       "    }\n",
       "\n",
       "    .dataframe tbody tr th {\n",
       "        vertical-align: top;\n",
       "    }\n",
       "\n",
       "    .dataframe thead th {\n",
       "        text-align: right;\n",
       "    }\n",
       "</style>\n",
       "<table border=\"1\" class=\"dataframe\">\n",
       "  <thead>\n",
       "    <tr style=\"text-align: right;\">\n",
       "      <th></th>\n",
       "      <th>fl_date</th>\n",
       "      <th>mkt_unique_carrier</th>\n",
       "      <th>branded_code_share</th>\n",
       "      <th>mkt_carrier</th>\n",
       "      <th>mkt_carrier_fl_num</th>\n",
       "      <th>op_unique_carrier</th>\n",
       "      <th>tail_num</th>\n",
       "      <th>op_carrier_fl_num</th>\n",
       "      <th>origin_airport_id</th>\n",
       "      <th>origin</th>\n",
       "      <th>...</th>\n",
       "      <th>flights</th>\n",
       "      <th>distance</th>\n",
       "      <th>carrier_delay</th>\n",
       "      <th>weather_delay</th>\n",
       "      <th>nas_delay</th>\n",
       "      <th>security_delay</th>\n",
       "      <th>late_aircraft_delay</th>\n",
       "      <th>first_dep_time</th>\n",
       "      <th>total_add_gtime</th>\n",
       "      <th>longest_add_gtime</th>\n",
       "    </tr>\n",
       "  </thead>\n",
       "  <tbody>\n",
       "    <tr>\n",
       "      <th>0</th>\n",
       "      <td>2018-03-31</td>\n",
       "      <td>WN</td>\n",
       "      <td>WN</td>\n",
       "      <td>WN</td>\n",
       "      <td>2961</td>\n",
       "      <td>WN</td>\n",
       "      <td>N8522P</td>\n",
       "      <td>2961</td>\n",
       "      <td>11259</td>\n",
       "      <td>DAL</td>\n",
       "      <td>...</td>\n",
       "      <td>1.0</td>\n",
       "      <td>546.0</td>\n",
       "      <td>NaN</td>\n",
       "      <td>NaN</td>\n",
       "      <td>NaN</td>\n",
       "      <td>NaN</td>\n",
       "      <td>NaN</td>\n",
       "      <td>None</td>\n",
       "      <td>NaN</td>\n",
       "      <td>NaN</td>\n",
       "    </tr>\n",
       "    <tr>\n",
       "      <th>1</th>\n",
       "      <td>2019-05-30</td>\n",
       "      <td>UA</td>\n",
       "      <td>UA_CODESHARE</td>\n",
       "      <td>UA</td>\n",
       "      <td>3567</td>\n",
       "      <td>YX</td>\n",
       "      <td>N740YX</td>\n",
       "      <td>3567</td>\n",
       "      <td>13871</td>\n",
       "      <td>OMA</td>\n",
       "      <td>...</td>\n",
       "      <td>1.0</td>\n",
       "      <td>1134.0</td>\n",
       "      <td>NaN</td>\n",
       "      <td>NaN</td>\n",
       "      <td>NaN</td>\n",
       "      <td>NaN</td>\n",
       "      <td>NaN</td>\n",
       "      <td>None</td>\n",
       "      <td>NaN</td>\n",
       "      <td>NaN</td>\n",
       "    </tr>\n",
       "    <tr>\n",
       "      <th>2</th>\n",
       "      <td>2019-01-06</td>\n",
       "      <td>AA</td>\n",
       "      <td>AA</td>\n",
       "      <td>AA</td>\n",
       "      <td>2752</td>\n",
       "      <td>AA</td>\n",
       "      <td>N992AN</td>\n",
       "      <td>2752</td>\n",
       "      <td>11298</td>\n",
       "      <td>DFW</td>\n",
       "      <td>...</td>\n",
       "      <td>1.0</td>\n",
       "      <td>1192.0</td>\n",
       "      <td>NaN</td>\n",
       "      <td>NaN</td>\n",
       "      <td>NaN</td>\n",
       "      <td>NaN</td>\n",
       "      <td>NaN</td>\n",
       "      <td>None</td>\n",
       "      <td>NaN</td>\n",
       "      <td>NaN</td>\n",
       "    </tr>\n",
       "    <tr>\n",
       "      <th>3</th>\n",
       "      <td>2019-07-12</td>\n",
       "      <td>WN</td>\n",
       "      <td>WN</td>\n",
       "      <td>WN</td>\n",
       "      <td>2477</td>\n",
       "      <td>WN</td>\n",
       "      <td>N754SW</td>\n",
       "      <td>2477</td>\n",
       "      <td>11292</td>\n",
       "      <td>DEN</td>\n",
       "      <td>...</td>\n",
       "      <td>1.0</td>\n",
       "      <td>853.0</td>\n",
       "      <td>NaN</td>\n",
       "      <td>NaN</td>\n",
       "      <td>NaN</td>\n",
       "      <td>NaN</td>\n",
       "      <td>NaN</td>\n",
       "      <td>None</td>\n",
       "      <td>NaN</td>\n",
       "      <td>NaN</td>\n",
       "    </tr>\n",
       "    <tr>\n",
       "      <th>4</th>\n",
       "      <td>2018-03-20</td>\n",
       "      <td>WN</td>\n",
       "      <td>WN</td>\n",
       "      <td>WN</td>\n",
       "      <td>992</td>\n",
       "      <td>WN</td>\n",
       "      <td>N421LV</td>\n",
       "      <td>992</td>\n",
       "      <td>15016</td>\n",
       "      <td>STL</td>\n",
       "      <td>...</td>\n",
       "      <td>1.0</td>\n",
       "      <td>687.0</td>\n",
       "      <td>57.0</td>\n",
       "      <td>0.0</td>\n",
       "      <td>0.0</td>\n",
       "      <td>0.0</td>\n",
       "      <td>0.0</td>\n",
       "      <td>None</td>\n",
       "      <td>NaN</td>\n",
       "      <td>NaN</td>\n",
       "    </tr>\n",
       "    <tr>\n",
       "      <th>...</th>\n",
       "      <td>...</td>\n",
       "      <td>...</td>\n",
       "      <td>...</td>\n",
       "      <td>...</td>\n",
       "      <td>...</td>\n",
       "      <td>...</td>\n",
       "      <td>...</td>\n",
       "      <td>...</td>\n",
       "      <td>...</td>\n",
       "      <td>...</td>\n",
       "      <td>...</td>\n",
       "      <td>...</td>\n",
       "      <td>...</td>\n",
       "      <td>...</td>\n",
       "      <td>...</td>\n",
       "      <td>...</td>\n",
       "      <td>...</td>\n",
       "      <td>...</td>\n",
       "      <td>...</td>\n",
       "      <td>...</td>\n",
       "      <td>...</td>\n",
       "    </tr>\n",
       "    <tr>\n",
       "      <th>2995</th>\n",
       "      <td>2019-11-20</td>\n",
       "      <td>AA</td>\n",
       "      <td>AA</td>\n",
       "      <td>AA</td>\n",
       "      <td>1743</td>\n",
       "      <td>AA</td>\n",
       "      <td>N172US</td>\n",
       "      <td>1743</td>\n",
       "      <td>11292</td>\n",
       "      <td>DEN</td>\n",
       "      <td>...</td>\n",
       "      <td>1.0</td>\n",
       "      <td>1337.0</td>\n",
       "      <td>NaN</td>\n",
       "      <td>NaN</td>\n",
       "      <td>NaN</td>\n",
       "      <td>NaN</td>\n",
       "      <td>NaN</td>\n",
       "      <td>None</td>\n",
       "      <td>NaN</td>\n",
       "      <td>NaN</td>\n",
       "    </tr>\n",
       "    <tr>\n",
       "      <th>2996</th>\n",
       "      <td>2019-04-13</td>\n",
       "      <td>HA</td>\n",
       "      <td>HA</td>\n",
       "      <td>HA</td>\n",
       "      <td>294</td>\n",
       "      <td>HA</td>\n",
       "      <td>N486HA</td>\n",
       "      <td>294</td>\n",
       "      <td>12982</td>\n",
       "      <td>LIH</td>\n",
       "      <td>...</td>\n",
       "      <td>1.0</td>\n",
       "      <td>102.0</td>\n",
       "      <td>8.0</td>\n",
       "      <td>0.0</td>\n",
       "      <td>0.0</td>\n",
       "      <td>0.0</td>\n",
       "      <td>14.0</td>\n",
       "      <td>None</td>\n",
       "      <td>NaN</td>\n",
       "      <td>NaN</td>\n",
       "    </tr>\n",
       "    <tr>\n",
       "      <th>2997</th>\n",
       "      <td>2018-02-14</td>\n",
       "      <td>AA</td>\n",
       "      <td>AA</td>\n",
       "      <td>AA</td>\n",
       "      <td>2616</td>\n",
       "      <td>AA</td>\n",
       "      <td>N953NN</td>\n",
       "      <td>2616</td>\n",
       "      <td>13930</td>\n",
       "      <td>ORD</td>\n",
       "      <td>...</td>\n",
       "      <td>1.0</td>\n",
       "      <td>678.0</td>\n",
       "      <td>NaN</td>\n",
       "      <td>NaN</td>\n",
       "      <td>NaN</td>\n",
       "      <td>NaN</td>\n",
       "      <td>NaN</td>\n",
       "      <td>None</td>\n",
       "      <td>NaN</td>\n",
       "      <td>NaN</td>\n",
       "    </tr>\n",
       "    <tr>\n",
       "      <th>2998</th>\n",
       "      <td>2018-04-03</td>\n",
       "      <td>AA</td>\n",
       "      <td>AA_CODESHARE</td>\n",
       "      <td>AA</td>\n",
       "      <td>5725</td>\n",
       "      <td>YV</td>\n",
       "      <td>N929LR</td>\n",
       "      <td>5725</td>\n",
       "      <td>11823</td>\n",
       "      <td>FWA</td>\n",
       "      <td>...</td>\n",
       "      <td>1.0</td>\n",
       "      <td>859.0</td>\n",
       "      <td>NaN</td>\n",
       "      <td>NaN</td>\n",
       "      <td>NaN</td>\n",
       "      <td>NaN</td>\n",
       "      <td>NaN</td>\n",
       "      <td>None</td>\n",
       "      <td>NaN</td>\n",
       "      <td>NaN</td>\n",
       "    </tr>\n",
       "    <tr>\n",
       "      <th>2999</th>\n",
       "      <td>2018-09-03</td>\n",
       "      <td>UA</td>\n",
       "      <td>UA_CODESHARE</td>\n",
       "      <td>UA</td>\n",
       "      <td>3748</td>\n",
       "      <td>YX</td>\n",
       "      <td>N648RW</td>\n",
       "      <td>3748</td>\n",
       "      <td>11433</td>\n",
       "      <td>DTW</td>\n",
       "      <td>...</td>\n",
       "      <td>1.0</td>\n",
       "      <td>488.0</td>\n",
       "      <td>0.0</td>\n",
       "      <td>0.0</td>\n",
       "      <td>9.0</td>\n",
       "      <td>0.0</td>\n",
       "      <td>34.0</td>\n",
       "      <td>None</td>\n",
       "      <td>NaN</td>\n",
       "      <td>NaN</td>\n",
       "    </tr>\n",
       "  </tbody>\n",
       "</table>\n",
       "<p>3000 rows × 41 columns</p>\n",
       "</div>"
      ],
      "text/plain": [
       "         fl_date mkt_unique_carrier branded_code_share mkt_carrier  \\\n",
       "0     2018-03-31                 WN                 WN          WN   \n",
       "1     2019-05-30                 UA       UA_CODESHARE          UA   \n",
       "2     2019-01-06                 AA                 AA          AA   \n",
       "3     2019-07-12                 WN                 WN          WN   \n",
       "4     2018-03-20                 WN                 WN          WN   \n",
       "...          ...                ...                ...         ...   \n",
       "2995  2019-11-20                 AA                 AA          AA   \n",
       "2996  2019-04-13                 HA                 HA          HA   \n",
       "2997  2018-02-14                 AA                 AA          AA   \n",
       "2998  2018-04-03                 AA       AA_CODESHARE          AA   \n",
       "2999  2018-09-03                 UA       UA_CODESHARE          UA   \n",
       "\n",
       "      mkt_carrier_fl_num op_unique_carrier tail_num  op_carrier_fl_num  \\\n",
       "0                   2961                WN   N8522P               2961   \n",
       "1                   3567                YX   N740YX               3567   \n",
       "2                   2752                AA   N992AN               2752   \n",
       "3                   2477                WN   N754SW               2477   \n",
       "4                    992                WN   N421LV                992   \n",
       "...                  ...               ...      ...                ...   \n",
       "2995                1743                AA   N172US               1743   \n",
       "2996                 294                HA   N486HA                294   \n",
       "2997                2616                AA   N953NN               2616   \n",
       "2998                5725                YV   N929LR               5725   \n",
       "2999                3748                YX   N648RW               3748   \n",
       "\n",
       "      origin_airport_id origin  ... flights  distance carrier_delay  \\\n",
       "0                 11259    DAL  ...     1.0     546.0           NaN   \n",
       "1                 13871    OMA  ...     1.0    1134.0           NaN   \n",
       "2                 11298    DFW  ...     1.0    1192.0           NaN   \n",
       "3                 11292    DEN  ...     1.0     853.0           NaN   \n",
       "4                 15016    STL  ...     1.0     687.0          57.0   \n",
       "...                 ...    ...  ...     ...       ...           ...   \n",
       "2995              11292    DEN  ...     1.0    1337.0           NaN   \n",
       "2996              12982    LIH  ...     1.0     102.0           8.0   \n",
       "2997              13930    ORD  ...     1.0     678.0           NaN   \n",
       "2998              11823    FWA  ...     1.0     859.0           NaN   \n",
       "2999              11433    DTW  ...     1.0     488.0           0.0   \n",
       "\n",
       "     weather_delay  nas_delay  security_delay  late_aircraft_delay  \\\n",
       "0              NaN        NaN             NaN                  NaN   \n",
       "1              NaN        NaN             NaN                  NaN   \n",
       "2              NaN        NaN             NaN                  NaN   \n",
       "3              NaN        NaN             NaN                  NaN   \n",
       "4              0.0        0.0             0.0                  0.0   \n",
       "...            ...        ...             ...                  ...   \n",
       "2995           NaN        NaN             NaN                  NaN   \n",
       "2996           0.0        0.0             0.0                 14.0   \n",
       "2997           NaN        NaN             NaN                  NaN   \n",
       "2998           NaN        NaN             NaN                  NaN   \n",
       "2999           0.0        9.0             0.0                 34.0   \n",
       "\n",
       "      first_dep_time  total_add_gtime  longest_add_gtime  \n",
       "0               None              NaN                NaN  \n",
       "1               None              NaN                NaN  \n",
       "2               None              NaN                NaN  \n",
       "3               None              NaN                NaN  \n",
       "4               None              NaN                NaN  \n",
       "...              ...              ...                ...  \n",
       "2995            None              NaN                NaN  \n",
       "2996            None              NaN                NaN  \n",
       "2997            None              NaN                NaN  \n",
       "2998            None              NaN                NaN  \n",
       "2999            None              NaN                NaN  \n",
       "\n",
       "[3000 rows x 41 columns]"
      ]
     },
     "execution_count": 98,
     "metadata": {},
     "output_type": "execute_result"
    }
   ],
   "source": [
    "df_flights"
   ]
  },
  {
   "cell_type": "code",
   "execution_count": 99,
   "metadata": {},
   "outputs": [
    {
     "data": {
      "text/html": [
       "<div>\n",
       "<style scoped>\n",
       "    .dataframe tbody tr th:only-of-type {\n",
       "        vertical-align: middle;\n",
       "    }\n",
       "\n",
       "    .dataframe tbody tr th {\n",
       "        vertical-align: top;\n",
       "    }\n",
       "\n",
       "    .dataframe thead th {\n",
       "        text-align: right;\n",
       "    }\n",
       "</style>\n",
       "<table border=\"1\" class=\"dataframe\">\n",
       "  <thead>\n",
       "    <tr style=\"text-align: right;\">\n",
       "      <th></th>\n",
       "      <th>fl_date</th>\n",
       "    </tr>\n",
       "  </thead>\n",
       "  <tbody>\n",
       "    <tr>\n",
       "      <th>0</th>\n",
       "      <td>2018-03-31</td>\n",
       "    </tr>\n",
       "    <tr>\n",
       "      <th>1</th>\n",
       "      <td>2019-05-30</td>\n",
       "    </tr>\n",
       "    <tr>\n",
       "      <th>2</th>\n",
       "      <td>2019-01-06</td>\n",
       "    </tr>\n",
       "    <tr>\n",
       "      <th>3</th>\n",
       "      <td>2019-07-12</td>\n",
       "    </tr>\n",
       "  </tbody>\n",
       "</table>\n",
       "</div>"
      ],
      "text/plain": [
       "      fl_date\n",
       "0  2018-03-31\n",
       "1  2019-05-30\n",
       "2  2019-01-06\n",
       "3  2019-07-12"
      ]
     },
     "execution_count": 99,
     "metadata": {},
     "output_type": "execute_result"
    }
   ],
   "source": [
    "df_flights[[\"fl_date\"]].head(4)"
   ]
  },
  {
   "cell_type": "markdown",
   "metadata": {},
   "source": [
    "<font size=\"5\">DROPPING REST OF COLUMNS THAT ARE NOT RELEVANT</font>"
   ]
  },
  {
   "cell_type": "code",
   "execution_count": 111,
   "metadata": {},
   "outputs": [],
   "source": [
    "#separate the columns required\n",
    "df_flights=df_flights.drop(['longest_add_gtime','total_add_gtime','first_dep_time',\n",
    "                            'late_aircraft_delay','security_delay','nas_delay','weather_delay',\n",
    "                            'carrier_delay','arr_time','actual_elapsed_time',\n",
    "                            'cancellation_code','cancelled'],axis=1)\n",
    "\n",
    "#r_df_flights= df_flights[[\"fl_date\", \"origin\", \"dest\", \"crs_dep_time\", \"arr_delay\"]]\n",
    "#r_df_flights= df_flights.isnull().sum()\n",
    "#r_df_flights"
   ]
  },
  {
   "cell_type": "code",
   "execution_count": 112,
   "metadata": {},
   "outputs": [
    {
     "data": {
      "text/plain": [
       "fl_date                object\n",
       "mkt_unique_carrier     object\n",
       "branded_code_share     object\n",
       "mkt_carrier            object\n",
       "mkt_carrier_fl_num      int64\n",
       "op_unique_carrier      object\n",
       "tail_num               object\n",
       "op_carrier_fl_num       int64\n",
       "origin_airport_id       int64\n",
       "origin                 object\n",
       "origin_city_name       object\n",
       "dest_airport_id         int64\n",
       "dest                   object\n",
       "dest_city_name         object\n",
       "crs_dep_time            int64\n",
       "dep_time              float64\n",
       "dep_delay             float64\n",
       "taxi_out              float64\n",
       "wheels_off            float64\n",
       "wheels_on             float64\n",
       "taxi_in               float64\n",
       "crs_arr_time            int64\n",
       "arr_delay             float64\n",
       "diverted              float64\n",
       "dup                    object\n",
       "crs_elapsed_time      float64\n",
       "air_time              float64\n",
       "flights               float64\n",
       "distance              float64\n",
       "no_name                object\n",
       "dtype: object"
      ]
     },
     "execution_count": 112,
     "metadata": {},
     "output_type": "execute_result"
    }
   ],
   "source": [
    "df_flights.dtypes"
   ]
  },
  {
   "cell_type": "code",
   "execution_count": 113,
   "metadata": {},
   "outputs": [
    {
     "data": {
      "text/plain": [
       "fl_date                  0\n",
       "mkt_unique_carrier       0\n",
       "branded_code_share       0\n",
       "mkt_carrier              0\n",
       "mkt_carrier_fl_num       0\n",
       "op_unique_carrier        0\n",
       "tail_num                 5\n",
       "op_carrier_fl_num        0\n",
       "origin_airport_id        0\n",
       "origin                   0\n",
       "origin_city_name         0\n",
       "dest_airport_id          0\n",
       "dest                     0\n",
       "dest_city_name           0\n",
       "crs_dep_time             0\n",
       "dep_time                34\n",
       "dep_delay               34\n",
       "taxi_out                37\n",
       "wheels_off              37\n",
       "wheels_on               39\n",
       "taxi_in                 39\n",
       "crs_arr_time             0\n",
       "arr_delay               45\n",
       "diverted                 0\n",
       "dup                      0\n",
       "crs_elapsed_time         0\n",
       "air_time                44\n",
       "flights                  0\n",
       "distance                 0\n",
       "no_name               3000\n",
       "dtype: int64"
      ]
     },
     "execution_count": 113,
     "metadata": {},
     "output_type": "execute_result"
    }
   ],
   "source": [
    "df_flights.isnull().sum()"
   ]
  },
  {
   "cell_type": "code",
   "execution_count": 114,
   "metadata": {},
   "outputs": [
    {
     "data": {
      "text/plain": [
       "2269"
      ]
     },
     "execution_count": 114,
     "metadata": {},
     "output_type": "execute_result"
    }
   ],
   "source": [
    "df_flights['tail_num'].nunique()"
   ]
  },
  {
   "cell_type": "code",
   "execution_count": 115,
   "metadata": {},
   "outputs": [],
   "source": [
    "missing_df = df_flights.isnull().sum(axis=0).reset_index()\n",
    "missing_df.columns = ['variable', 'missing values']\n",
    "missing_df['filling factor (%)']=(df_flights.shape[0]-missing_df['missing values'])/df_flights.shape[0]*100"
   ]
  },
  {
   "cell_type": "code",
   "execution_count": 116,
   "metadata": {},
   "outputs": [
    {
     "data": {
      "text/plain": [
       "3000"
      ]
     },
     "execution_count": 116,
     "metadata": {},
     "output_type": "execute_result"
    }
   ],
   "source": [
    "df_flights.shape[0]"
   ]
  },
  {
   "cell_type": "code",
   "execution_count": 117,
   "metadata": {},
   "outputs": [
    {
     "data": {
      "text/plain": [
       "3314"
      ]
     },
     "execution_count": 117,
     "metadata": {},
     "output_type": "execute_result"
    }
   ],
   "source": [
    "missing_df['missing values'].sum()"
   ]
  },
  {
   "cell_type": "code",
   "execution_count": 118,
   "metadata": {},
   "outputs": [
    {
     "data": {
      "text/html": [
       "<div>\n",
       "<style scoped>\n",
       "    .dataframe tbody tr th:only-of-type {\n",
       "        vertical-align: middle;\n",
       "    }\n",
       "\n",
       "    .dataframe tbody tr th {\n",
       "        vertical-align: top;\n",
       "    }\n",
       "\n",
       "    .dataframe thead th {\n",
       "        text-align: right;\n",
       "    }\n",
       "</style>\n",
       "<table border=\"1\" class=\"dataframe\">\n",
       "  <thead>\n",
       "    <tr style=\"text-align: right;\">\n",
       "      <th></th>\n",
       "      <th>variable</th>\n",
       "      <th>missing values</th>\n",
       "      <th>filling factor (%)</th>\n",
       "    </tr>\n",
       "  </thead>\n",
       "  <tbody>\n",
       "    <tr>\n",
       "      <th>0</th>\n",
       "      <td>fl_date</td>\n",
       "      <td>0</td>\n",
       "      <td>100.000000</td>\n",
       "    </tr>\n",
       "    <tr>\n",
       "      <th>1</th>\n",
       "      <td>mkt_unique_carrier</td>\n",
       "      <td>0</td>\n",
       "      <td>100.000000</td>\n",
       "    </tr>\n",
       "    <tr>\n",
       "      <th>2</th>\n",
       "      <td>branded_code_share</td>\n",
       "      <td>0</td>\n",
       "      <td>100.000000</td>\n",
       "    </tr>\n",
       "    <tr>\n",
       "      <th>3</th>\n",
       "      <td>mkt_carrier</td>\n",
       "      <td>0</td>\n",
       "      <td>100.000000</td>\n",
       "    </tr>\n",
       "    <tr>\n",
       "      <th>4</th>\n",
       "      <td>mkt_carrier_fl_num</td>\n",
       "      <td>0</td>\n",
       "      <td>100.000000</td>\n",
       "    </tr>\n",
       "    <tr>\n",
       "      <th>5</th>\n",
       "      <td>op_unique_carrier</td>\n",
       "      <td>0</td>\n",
       "      <td>100.000000</td>\n",
       "    </tr>\n",
       "    <tr>\n",
       "      <th>6</th>\n",
       "      <td>tail_num</td>\n",
       "      <td>5</td>\n",
       "      <td>99.833333</td>\n",
       "    </tr>\n",
       "    <tr>\n",
       "      <th>7</th>\n",
       "      <td>op_carrier_fl_num</td>\n",
       "      <td>0</td>\n",
       "      <td>100.000000</td>\n",
       "    </tr>\n",
       "    <tr>\n",
       "      <th>8</th>\n",
       "      <td>origin_airport_id</td>\n",
       "      <td>0</td>\n",
       "      <td>100.000000</td>\n",
       "    </tr>\n",
       "    <tr>\n",
       "      <th>9</th>\n",
       "      <td>origin</td>\n",
       "      <td>0</td>\n",
       "      <td>100.000000</td>\n",
       "    </tr>\n",
       "    <tr>\n",
       "      <th>10</th>\n",
       "      <td>origin_city_name</td>\n",
       "      <td>0</td>\n",
       "      <td>100.000000</td>\n",
       "    </tr>\n",
       "    <tr>\n",
       "      <th>11</th>\n",
       "      <td>dest_airport_id</td>\n",
       "      <td>0</td>\n",
       "      <td>100.000000</td>\n",
       "    </tr>\n",
       "    <tr>\n",
       "      <th>12</th>\n",
       "      <td>dest</td>\n",
       "      <td>0</td>\n",
       "      <td>100.000000</td>\n",
       "    </tr>\n",
       "    <tr>\n",
       "      <th>13</th>\n",
       "      <td>dest_city_name</td>\n",
       "      <td>0</td>\n",
       "      <td>100.000000</td>\n",
       "    </tr>\n",
       "    <tr>\n",
       "      <th>14</th>\n",
       "      <td>crs_dep_time</td>\n",
       "      <td>0</td>\n",
       "      <td>100.000000</td>\n",
       "    </tr>\n",
       "    <tr>\n",
       "      <th>15</th>\n",
       "      <td>dep_time</td>\n",
       "      <td>34</td>\n",
       "      <td>98.866667</td>\n",
       "    </tr>\n",
       "    <tr>\n",
       "      <th>16</th>\n",
       "      <td>dep_delay</td>\n",
       "      <td>34</td>\n",
       "      <td>98.866667</td>\n",
       "    </tr>\n",
       "    <tr>\n",
       "      <th>17</th>\n",
       "      <td>taxi_out</td>\n",
       "      <td>37</td>\n",
       "      <td>98.766667</td>\n",
       "    </tr>\n",
       "    <tr>\n",
       "      <th>18</th>\n",
       "      <td>wheels_off</td>\n",
       "      <td>37</td>\n",
       "      <td>98.766667</td>\n",
       "    </tr>\n",
       "    <tr>\n",
       "      <th>19</th>\n",
       "      <td>wheels_on</td>\n",
       "      <td>39</td>\n",
       "      <td>98.700000</td>\n",
       "    </tr>\n",
       "    <tr>\n",
       "      <th>20</th>\n",
       "      <td>taxi_in</td>\n",
       "      <td>39</td>\n",
       "      <td>98.700000</td>\n",
       "    </tr>\n",
       "    <tr>\n",
       "      <th>21</th>\n",
       "      <td>crs_arr_time</td>\n",
       "      <td>0</td>\n",
       "      <td>100.000000</td>\n",
       "    </tr>\n",
       "    <tr>\n",
       "      <th>22</th>\n",
       "      <td>arr_delay</td>\n",
       "      <td>45</td>\n",
       "      <td>98.500000</td>\n",
       "    </tr>\n",
       "    <tr>\n",
       "      <th>23</th>\n",
       "      <td>diverted</td>\n",
       "      <td>0</td>\n",
       "      <td>100.000000</td>\n",
       "    </tr>\n",
       "    <tr>\n",
       "      <th>24</th>\n",
       "      <td>dup</td>\n",
       "      <td>0</td>\n",
       "      <td>100.000000</td>\n",
       "    </tr>\n",
       "    <tr>\n",
       "      <th>25</th>\n",
       "      <td>crs_elapsed_time</td>\n",
       "      <td>0</td>\n",
       "      <td>100.000000</td>\n",
       "    </tr>\n",
       "    <tr>\n",
       "      <th>26</th>\n",
       "      <td>air_time</td>\n",
       "      <td>44</td>\n",
       "      <td>98.533333</td>\n",
       "    </tr>\n",
       "    <tr>\n",
       "      <th>27</th>\n",
       "      <td>flights</td>\n",
       "      <td>0</td>\n",
       "      <td>100.000000</td>\n",
       "    </tr>\n",
       "    <tr>\n",
       "      <th>28</th>\n",
       "      <td>distance</td>\n",
       "      <td>0</td>\n",
       "      <td>100.000000</td>\n",
       "    </tr>\n",
       "    <tr>\n",
       "      <th>29</th>\n",
       "      <td>no_name</td>\n",
       "      <td>3000</td>\n",
       "      <td>0.000000</td>\n",
       "    </tr>\n",
       "  </tbody>\n",
       "</table>\n",
       "</div>"
      ],
      "text/plain": [
       "              variable  missing values  filling factor (%)\n",
       "0              fl_date               0          100.000000\n",
       "1   mkt_unique_carrier               0          100.000000\n",
       "2   branded_code_share               0          100.000000\n",
       "3          mkt_carrier               0          100.000000\n",
       "4   mkt_carrier_fl_num               0          100.000000\n",
       "5    op_unique_carrier               0          100.000000\n",
       "6             tail_num               5           99.833333\n",
       "7    op_carrier_fl_num               0          100.000000\n",
       "8    origin_airport_id               0          100.000000\n",
       "9               origin               0          100.000000\n",
       "10    origin_city_name               0          100.000000\n",
       "11     dest_airport_id               0          100.000000\n",
       "12                dest               0          100.000000\n",
       "13      dest_city_name               0          100.000000\n",
       "14        crs_dep_time               0          100.000000\n",
       "15            dep_time              34           98.866667\n",
       "16           dep_delay              34           98.866667\n",
       "17            taxi_out              37           98.766667\n",
       "18          wheels_off              37           98.766667\n",
       "19           wheels_on              39           98.700000\n",
       "20             taxi_in              39           98.700000\n",
       "21        crs_arr_time               0          100.000000\n",
       "22           arr_delay              45           98.500000\n",
       "23            diverted               0          100.000000\n",
       "24                 dup               0          100.000000\n",
       "25    crs_elapsed_time               0          100.000000\n",
       "26            air_time              44           98.533333\n",
       "27             flights               0          100.000000\n",
       "28            distance               0          100.000000\n",
       "29             no_name            3000            0.000000"
      ]
     },
     "execution_count": 118,
     "metadata": {},
     "output_type": "execute_result"
    }
   ],
   "source": [
    "missing_df"
   ]
  },
  {
   "cell_type": "code",
   "execution_count": 119,
   "metadata": {},
   "outputs": [],
   "source": [
    "df_flights=df_flights.dropna()"
   ]
  },
  {
   "cell_type": "code",
   "execution_count": 120,
   "metadata": {},
   "outputs": [
    {
     "data": {
      "text/plain": [
       "fl_date               0\n",
       "mkt_unique_carrier    0\n",
       "branded_code_share    0\n",
       "mkt_carrier           0\n",
       "mkt_carrier_fl_num    0\n",
       "op_unique_carrier     0\n",
       "tail_num              0\n",
       "op_carrier_fl_num     0\n",
       "origin_airport_id     0\n",
       "origin                0\n",
       "origin_city_name      0\n",
       "dest_airport_id       0\n",
       "dest                  0\n",
       "dest_city_name        0\n",
       "crs_dep_time          0\n",
       "dep_time              0\n",
       "dep_delay             0\n",
       "taxi_out              0\n",
       "wheels_off            0\n",
       "wheels_on             0\n",
       "taxi_in               0\n",
       "crs_arr_time          0\n",
       "arr_delay             0\n",
       "diverted              0\n",
       "dup                   0\n",
       "crs_elapsed_time      0\n",
       "air_time              0\n",
       "flights               0\n",
       "distance              0\n",
       "no_name               0\n",
       "dtype: int64"
      ]
     },
     "execution_count": 120,
     "metadata": {},
     "output_type": "execute_result"
    }
   ],
   "source": [
    "df_flights.isnull().sum()"
   ]
  },
  {
   "cell_type": "code",
   "execution_count": 121,
   "metadata": {},
   "outputs": [
    {
     "data": {
      "text/plain": [
       "Index(['fl_date', 'mkt_unique_carrier', 'branded_code_share', 'mkt_carrier',\n",
       "       'mkt_carrier_fl_num', 'op_unique_carrier', 'tail_num',\n",
       "       'op_carrier_fl_num', 'origin_airport_id', 'origin', 'origin_city_name',\n",
       "       'dest_airport_id', 'dest', 'dest_city_name', 'crs_dep_time', 'dep_time',\n",
       "       'dep_delay', 'taxi_out', 'wheels_off', 'wheels_on', 'taxi_in',\n",
       "       'crs_arr_time', 'arr_delay', 'diverted', 'dup', 'crs_elapsed_time',\n",
       "       'air_time', 'flights', 'distance', 'no_name'],\n",
       "      dtype='object')"
      ]
     },
     "execution_count": 121,
     "metadata": {},
     "output_type": "execute_result"
    }
   ],
   "source": [
    "df_flights.columns"
   ]
  },
  {
   "cell_type": "code",
   "execution_count": 122,
   "metadata": {},
   "outputs": [
    {
     "data": {
      "text/plain": [
       "pandas.core.frame.DataFrame"
      ]
     },
     "execution_count": 122,
     "metadata": {},
     "output_type": "execute_result"
    }
   ],
   "source": [
    "type(df_flights)"
   ]
  },
  {
   "cell_type": "code",
   "execution_count": 123,
   "metadata": {},
   "outputs": [
    {
     "data": {
      "text/plain": [
       "fl_date                object\n",
       "mkt_unique_carrier     object\n",
       "branded_code_share     object\n",
       "mkt_carrier            object\n",
       "mkt_carrier_fl_num      int64\n",
       "op_unique_carrier      object\n",
       "tail_num               object\n",
       "op_carrier_fl_num       int64\n",
       "origin_airport_id       int64\n",
       "origin                 object\n",
       "origin_city_name       object\n",
       "dest_airport_id         int64\n",
       "dest                   object\n",
       "dest_city_name         object\n",
       "crs_dep_time            int64\n",
       "dep_time              float64\n",
       "dep_delay             float64\n",
       "taxi_out              float64\n",
       "wheels_off            float64\n",
       "wheels_on             float64\n",
       "taxi_in               float64\n",
       "crs_arr_time            int64\n",
       "arr_delay             float64\n",
       "diverted              float64\n",
       "dup                    object\n",
       "crs_elapsed_time      float64\n",
       "air_time              float64\n",
       "flights               float64\n",
       "distance              float64\n",
       "no_name                object\n",
       "dtype: object"
      ]
     },
     "execution_count": 123,
     "metadata": {},
     "output_type": "execute_result"
    }
   ],
   "source": [
    "df_flights.dtypes"
   ]
  },
  {
   "cell_type": "code",
   "execution_count": null,
   "metadata": {},
   "outputs": [],
   "source": []
  },
  {
   "cell_type": "code",
   "execution_count": null,
   "metadata": {},
   "outputs": [],
   "source": []
  },
  {
   "cell_type": "code",
   "execution_count": 49,
   "metadata": {},
   "outputs": [],
   "source": [
    "#df_flights['arr_delay']=df_flights[df_flights['arr_delay'] >0]"
   ]
  },
  {
   "cell_type": "raw",
   "metadata": {},
   "source": [
    "#r_df_flights[r_df_flights.isnull().values.any(axis=1)].head(5)"
   ]
  },
  {
   "cell_type": "code",
   "execution_count": 33,
   "metadata": {},
   "outputs": [],
   "source": [
    "#r_df_flights = r_df_flights.fillna({'arr_delay':1})\n",
    "#r_df_flights.iloc[2894:3002]"
   ]
  },
  {
   "cell_type": "code",
   "execution_count": 34,
   "metadata": {},
   "outputs": [],
   "source": [
    "#r_df_flights.head(4)"
   ]
  },
  {
   "cell_type": "code",
   "execution_count": 35,
   "metadata": {},
   "outputs": [],
   "source": [
    "#r_df_flights=pd.get_dummies(r_df_flights, columns=['origin', 'dest'])\n",
    "#r_df_flights.head()"
   ]
  },
  {
   "cell_type": "markdown",
   "metadata": {},
   "source": [
    "<font size=\"5\">TASK 1</font>"
   ]
  },
  {
   "cell_type": "markdown",
   "metadata": {},
   "source": [
    "#### **Task 1**: Test the hypothesis that the delay is from Normal distribution. and that **mean** of the delay is 0. Be careful about the outliers."
   ]
  },
  {
   "cell_type": "markdown",
   "metadata": {},
   "source": [
    "<font size=\"5\">Method 1 for arr_delay & dep_delay</font>"
   ]
  },
  {
   "cell_type": "code",
   "execution_count": 132,
   "metadata": {},
   "outputs": [
    {
     "data": {
      "text/plain": [
       "4.90825375170532"
      ]
     },
     "execution_count": 132,
     "metadata": {},
     "output_type": "execute_result"
    }
   ],
   "source": [
    "df_flights['arr_delay'].mean()"
   ]
  },
  {
   "cell_type": "code",
   "execution_count": 133,
   "metadata": {},
   "outputs": [
    {
     "data": {
      "text/plain": [
       "(array([  0.,   0.,   0.,   0.,   1.,   0.,   5.,   0.,   3.,   2.,   2.,\n",
       "          5.,   4.,   5.,   3.,   6.,   4.,   6.,   9.,  15.,  16.,  24.,\n",
       "         12.,  18.,  20.,  27.,  45.,  35.,  50.,  46.,  71.,  55.,  50.,\n",
       "         65.,  78.,  86.,  91.,  91.,  90., 100.,  82.,  94.,  83.,  77.,\n",
       "         57.,  71.,  70.,  70.,  58.,  59.,  57.,  44.,  58.,  31.,  38.,\n",
       "         39.,  42.,  26.,  44.,  24.,  30.,  18.,  22.,  26.,  13.,  16.,\n",
       "         22.,  17.,  10.,  16.,  17.,   8.,  10.,   4.,   8.,  13.,   9.,\n",
       "          7.,   8.,   9.,  13.,   6.,   9.,   6.,   6.,   8.,   8.,   6.,\n",
       "          6.,   6.,   8.,   6.,   5.,  10.,   5.,   5.,   4.,   7.,  13.]),\n",
       " array([-50, -49, -48, -47, -46, -45, -44, -43, -42, -41, -40, -39, -38,\n",
       "        -37, -36, -35, -34, -33, -32, -31, -30, -29, -28, -27, -26, -25,\n",
       "        -24, -23, -22, -21, -20, -19, -18, -17, -16, -15, -14, -13, -12,\n",
       "        -11, -10,  -9,  -8,  -7,  -6,  -5,  -4,  -3,  -2,  -1,   0,   1,\n",
       "          2,   3,   4,   5,   6,   7,   8,   9,  10,  11,  12,  13,  14,\n",
       "         15,  16,  17,  18,  19,  20,  21,  22,  23,  24,  25,  26,  27,\n",
       "         28,  29,  30,  31,  32,  33,  34,  35,  36,  37,  38,  39,  40,\n",
       "         41,  42,  43,  44,  45,  46,  47,  48,  49]),\n",
       " <BarContainer object of 99 artists>)"
      ]
     },
     "execution_count": 133,
     "metadata": {},
     "output_type": "execute_result"
    },
    {
     "data": {
      "image/png": "[encoded data removed]",
      "text/plain": [
       "<Figure size 432x288 with 1 Axes>"
      ]
     },
     "metadata": {
      "needs_background": "light"
     },
     "output_type": "display_data"
    }
   ],
   "source": [
    "plt.hist(df_flights['arr_delay'], range(-50,50))"
   ]
  },
  {
   "cell_type": "code",
   "execution_count": 134,
   "metadata": {},
   "outputs": [
    {
     "data": {
      "text/plain": [
       "10.188647178789939"
      ]
     },
     "execution_count": 134,
     "metadata": {},
     "output_type": "execute_result"
    }
   ],
   "source": [
    "df_flights['dep_delay'].mean()"
   ]
  },
  {
   "cell_type": "code",
   "execution_count": 135,
   "metadata": {},
   "outputs": [
    {
     "data": {
      "text/plain": [
       "(array([  0.,   0.,   0.,   0.,   0.,   0.,   0.,   0.,   0.,   0.,   0.,\n",
       "          0.,   0.,   0.,   0.,   0.,   0.,   0.,   0.,   0.,   0.,   0.,\n",
       "          0.,   0.,   0.,   0.,   0.,   0.,   0.,   1.,   1.,   0.,   2.,\n",
       "          5.,  10.,   7.,  16.,  18.,  24.,  43.,  72.,  82., 125., 154.,\n",
       "        186., 262., 209., 248., 194., 152., 135.,  64.,  54.,  41.,  38.,\n",
       "         42.,  33.,  36.,  26.,  33.,  23.,  17.,  28.,  15.,  14.,  16.,\n",
       "         16.,  12.,  14.,  12.,  12.,  16.,  12.,  11.,   9.,   9.,  10.,\n",
       "          9.,   6.,   8.,   3.,   6.,   6.,   8.,  15.,   5.,   6.,   8.,\n",
       "          4.,   7.,   3.,   5.,   3.,   3.,   5.,   5.,   3.,   4.,   5.]),\n",
       " array([-50, -49, -48, -47, -46, -45, -44, -43, -42, -41, -40, -39, -38,\n",
       "        -37, -36, -35, -34, -33, -32, -31, -30, -29, -28, -27, -26, -25,\n",
       "        -24, -23, -22, -21, -20, -19, -18, -17, -16, -15, -14, -13, -12,\n",
       "        -11, -10,  -9,  -8,  -7,  -6,  -5,  -4,  -3,  -2,  -1,   0,   1,\n",
       "          2,   3,   4,   5,   6,   7,   8,   9,  10,  11,  12,  13,  14,\n",
       "         15,  16,  17,  18,  19,  20,  21,  22,  23,  24,  25,  26,  27,\n",
       "         28,  29,  30,  31,  32,  33,  34,  35,  36,  37,  38,  39,  40,\n",
       "         41,  42,  43,  44,  45,  46,  47,  48,  49]),\n",
       " <BarContainer object of 99 artists>)"
      ]
     },
     "execution_count": 135,
     "metadata": {},
     "output_type": "execute_result"
    },
    {
     "data": {
      "image/png": "[encoded data removed]",
      "text/plain": [
       "<Figure size 432x288 with 1 Axes>"
      ]
     },
     "metadata": {
      "needs_background": "light"
     },
     "output_type": "display_data"
    }
   ],
   "source": [
    "plt.hist(df_flights['dep_delay'], range(-50,50))"
   ]
  },
  {
   "cell_type": "markdown",
   "metadata": {},
   "source": [
    "<font size=\"5\">Method 2: Shapiro Test Method for arr_delay & dep_delay</font>"
   ]
  },
  {
   "cell_type": "code",
   "execution_count": 19,
   "metadata": {},
   "outputs": [],
   "source": [
    "from scipy import stats"
   ]
  },
  {
   "cell_type": "code",
   "execution_count": 20,
   "metadata": {},
   "outputs": [
    {
     "data": {
      "text/plain": [
       "ShapiroResult(statistic=nan, pvalue=1.0)"
      ]
     },
     "execution_count": 20,
     "metadata": {},
     "output_type": "execute_result"
    }
   ],
   "source": [
    "arr_delay = df_flights['arr_delay']\n",
    "stats.shapiro(arr_delay)"
   ]
  },
  {
   "cell_type": "code",
   "execution_count": 21,
   "metadata": {},
   "outputs": [
    {
     "data": {
      "image/png": "[encoded data removed]",
      "text/plain": [
       "<Figure size 432x288 with 1 Axes>"
      ]
     },
     "metadata": {
      "needs_background": "light"
     },
     "output_type": "display_data"
    }
   ],
   "source": [
    "sns.histplot(arr_delay)\n",
    "plt.xlim(-300,300)\n",
    "plt.show()"
   ]
  },
  {
   "cell_type": "code",
   "execution_count": 136,
   "metadata": {},
   "outputs": [
    {
     "data": {
      "text/plain": [
       "ShapiroResult(statistic=nan, pvalue=1.0)"
      ]
     },
     "execution_count": 136,
     "metadata": {},
     "output_type": "execute_result"
    }
   ],
   "source": [
    "dep_delay = df_flights['dep_delay']\n",
    "stats.shapiro(dep_delay)"
   ]
  },
  {
   "cell_type": "code",
   "execution_count": 137,
   "metadata": {},
   "outputs": [
    {
     "data": {
      "image/png": "[encoded data removed]",
      "text/plain": [
       "<Figure size 432x288 with 1 Axes>"
      ]
     },
     "metadata": {
      "needs_background": "light"
     },
     "output_type": "display_data"
    }
   ],
   "source": [
    "sns.histplot(dep_delay)\n",
    "plt.xlim(-300,300)\n",
    "plt.show()"
   ]
  },
  {
   "cell_type": "markdown",
   "metadata": {},
   "source": [
    "<font size=\"5\">TASK 2</font>"
   ]
  },
  {
   "cell_type": "markdown",
   "metadata": {},
   "source": [
    "#### **Task 2**: Is average/median monthly delay different during the year? If yes, which are months with the biggest delays and what could be the reason?"
   ]
  },
  {
   "cell_type": "code",
   "execution_count": 138,
   "metadata": {},
   "outputs": [
    {
     "data": {
      "text/plain": [
       "0       08\n",
       "1       07\n",
       "2       09\n",
       "3       08\n",
       "4       11\n",
       "        ..\n",
       "2995    02\n",
       "2996    08\n",
       "2997    04\n",
       "2998    02\n",
       "2999    12\n",
       "Name: month, Length: 3000, dtype: object"
      ]
     },
     "execution_count": 138,
     "metadata": {},
     "output_type": "execute_result"
    }
   ],
   "source": [
    "#Yes, average/median monthly delay is different during the year! \n",
    "#Weather is the cause of delay in Winter(FEB) and Volume of passengers is the cause of delay in Summer (JULY).\n",
    "#Note: The months I concluded above seem to be changing when I run the code each time.\n",
    "\n",
    "df_flights['month'] = df_flights['fl_date'].str[5:7]\n",
    "df_flights['month']"
   ]
  },
  {
   "cell_type": "code",
   "execution_count": 144,
   "metadata": {},
   "outputs": [
    {
     "data": {
      "text/plain": [
       "month\n",
       "01     4.423256\n",
       "02     3.554113\n",
       "03     2.253846\n",
       "04     0.792208\n",
       "05     5.950000\n",
       "06    10.758333\n",
       "07     6.071429\n",
       "08    10.948617\n",
       "09     3.546185\n",
       "10     3.293478\n",
       "11     2.734177\n",
       "12     4.337607\n",
       "Name: arr_delay, dtype: float64"
      ]
     },
     "execution_count": 144,
     "metadata": {},
     "output_type": "execute_result"
    }
   ],
   "source": [
    "df_flights.groupby(by='month')['arr_delay'].mean()"
   ]
  },
  {
   "cell_type": "code",
   "execution_count": 145,
   "metadata": {},
   "outputs": [
    {
     "data": {
      "text/plain": [
       "month\n",
       "01     9.279070\n",
       "02    10.173160\n",
       "03     7.965385\n",
       "04     7.220779\n",
       "05    10.000000\n",
       "06    15.443983\n",
       "07    12.178439\n",
       "08    14.741176\n",
       "09     8.337349\n",
       "10     8.126812\n",
       "11     8.088608\n",
       "12    10.504274\n",
       "Name: dep_delay, dtype: float64"
      ]
     },
     "execution_count": 145,
     "metadata": {},
     "output_type": "execute_result"
    }
   ],
   "source": [
    "df_flights.groupby(by='month')['dep_delay'].mean()"
   ]
  },
  {
   "cell_type": "markdown",
   "metadata": {},
   "source": [
    "#### **Task 3**: Does the weather affect the delay? \n",
    "Use the API to pull the weather information for flights. There is no need to get weather for ALL flights. We can choose the right representative sample. Let's focus on four weather types:\n",
    "- sunny\n",
    "- cloudy\n",
    "- rainy\n",
    "- snow.\n",
    "Test the hypothesis that these 4 delays are from the same distribution. If they are not, which ones are significantly different?"
   ]
  },
  {
   "cell_type": "code",
   "execution_count": 23,
   "metadata": {},
   "outputs": [],
   "source": [
    "import requests\n",
    "import os\n",
    "from IPython.display import JSON\n",
    "\n",
    "#api_key=os.environ['']\n",
    "api_key=\"PAVYNZRACTUFXVZ2NKY7J9UXT\"\n",
    "\n",
    "#from pywwo import *\n",
    "#setKey('961245677bdc4428974231330210703', 'free')\n",
    "#w=LocalWeather('london')\n",
    "#w.data.current_condition.temp_C\n",
    "#w=LocalWeather('sdfasdgasdga')"
   ]
  },
  {
   "cell_type": "code",
   "execution_count": null,
   "metadata": {},
   "outputs": [],
   "source": []
  },
  {
   "cell_type": "code",
   "execution_count": 24,
   "metadata": {},
   "outputs": [],
   "source": [
    "import urllib"
   ]
  },
  {
   "cell_type": "code",
   "execution_count": 25,
   "metadata": {},
   "outputs": [
    {
     "data": {
      "text/plain": [
       "['__builtins__',\n",
       " '__cached__',\n",
       " '__doc__',\n",
       " '__file__',\n",
       " '__loader__',\n",
       " '__name__',\n",
       " '__package__',\n",
       " '__path__',\n",
       " '__spec__',\n",
       " 'error',\n",
       " 'parse',\n",
       " 'request',\n",
       " 'response']"
      ]
     },
     "execution_count": 25,
     "metadata": {},
     "output_type": "execute_result"
    }
   ],
   "source": [
    "dir(urllib)"
   ]
  },
  {
   "cell_type": "code",
   "execution_count": 26,
   "metadata": {},
   "outputs": [],
   "source": [
    "client_Id =\"GdHDdKqSmYvyifPvQznJ9g\"\n",
    "client_Key=\"DQ1Ui1kX6yOdq3HPWCUwsR8J4LnuIeRFhQZRUOMxxZvMbcdekmlfWWR--qKy6BvkxBa7a6yE95KSQ8dBax4FEkxx01jwEDhYylrIcxmaFFtt5qnkIzO1B7FXjk5KYHYx\""
   ]
  },
  {
   "cell_type": "code",
   "execution_count": 27,
   "metadata": {},
   "outputs": [],
   "source": [
    "#Conclusion: Do not have enough access to API data"
   ]
  },
  {
   "cell_type": "code",
   "execution_count": 28,
   "metadata": {},
   "outputs": [],
   "source": [
    "#Reformat date and time for visual crossing\n",
    "#def format_departure_time(x):\n",
    "#    str_time = str(x['crs_dep_time'])\n",
    "#    new_time = str_time.rjust(4, '0')\n",
    "#    return x['fl_date'] + 'T' + new_time[0:2] + ':' + new_time[2:4] + ':00'\n",
    "\n",
    "#def format_arrival_time(x):\n",
    "#    str_time = str(x['crs_dep_time'])\n",
    "#    new_time = str_time.rjust(4, '0')\n",
    "#    return x['fl_date'] + 'T' + new_time[0:2] + ':' + new_time[2:4] + ':00'\n",
    "\n",
    "#df_flights['new_dep_time'] = df_flights.apply(format_departure_time, axis=1)\n",
    "#df_flights['new_arr_time'] = df_flights.apply(format_arrival_time, axis=1)"
   ]
  },
  {
   "cell_type": "code",
   "execution_count": 45,
   "metadata": {},
   "outputs": [],
   "source": [
    "#Get weather from origin\n",
    "\n",
    "def get_weather_origin(city_name, date_str):\n",
    "    response=requests.get(\n",
    "        'https://weather.visualcrossing.com/VisualCrossingWebServices/rest/services/timeline/' + city_name + '/' + date_str + '?unitGroup=metric&key='+api_key\n",
    "    )\n",
    "    \n",
    "    return response\n",
    "  #  if response.status_code ==200:\n",
    "  #      json = response.json()\n",
    "  #      for i  in json['locations'].values():\n",
    "  #         for j in i['values']:\n",
    "  #              return j['conditions']"
   ]
  },
  {
   "cell_type": "code",
   "execution_count": 46,
   "metadata": {},
   "outputs": [],
   "source": [
    "#x='seattle'\n",
    "#print(\"hello abc =\" + x)\n"
   ]
  },
  {
   "cell_type": "code",
   "execution_count": 47,
   "metadata": {},
   "outputs": [
    {
     "ename": "AttributeError",
     "evalue": "'list' object has no attribute 'days'",
     "output_type": "error",
     "traceback": [
      "\u001b[0;31m---------------------------------------------------------------------------\u001b[0m",
      "\u001b[0;31mAttributeError\u001b[0m                            Traceback (most recent call last)",
      "\u001b[0;32m<ipython-input-47-dee06343e5fe>\u001b[0m in \u001b[0;36m<module>\u001b[0;34m\u001b[0m\n\u001b[1;32m      1\u001b[0m \u001b[0ma\u001b[0m \u001b[0;34m=\u001b[0m \u001b[0mget_weather_origin\u001b[0m\u001b[0;34m(\u001b[0m\u001b[0;34m'toronto'\u001b[0m\u001b[0;34m,\u001b[0m \u001b[0;34m'2021-01-25'\u001b[0m\u001b[0;34m)\u001b[0m\u001b[0;34m\u001b[0m\u001b[0;34m\u001b[0m\u001b[0m\n\u001b[0;32m----> 2\u001b[0;31m \u001b[0ma\u001b[0m\u001b[0;34m.\u001b[0m\u001b[0mjson\u001b[0m\u001b[0;34m(\u001b[0m\u001b[0;34m)\u001b[0m\u001b[0;34m[\u001b[0m\u001b[0;34m'days'\u001b[0m\u001b[0;34m]\u001b[0m\u001b[0;34m.\u001b[0m\u001b[0mdays\u001b[0m\u001b[0;34m[\u001b[0m\u001b[0;36m29\u001b[0m\u001b[0;34m]\u001b[0m\u001b[0;34m\u001b[0m\u001b[0;34m\u001b[0m\u001b[0m\n\u001b[0m",
      "\u001b[0;31mAttributeError\u001b[0m: 'list' object has no attribute 'days'"
     ]
    }
   ],
   "source": [
    "a = get_weather_origin('toronto', '2021-01-25')\n",
    "a.json()['days'].days[29]"
   ]
  },
  {
   "cell_type": "code",
   "execution_count": 19,
   "metadata": {},
   "outputs": [],
   "source": [
    "#Get weather from Destination\n",
    "#def get_weather_destination(x):\n",
    "#    response = requests.get(\n",
    "#        'https://weather.visualcrossing.com/VisualCrossingWebServices/rest/services/weatherdata/history',\n",
    "#        params={\n",
    "#            'aggregateHours':'1',\n",
    "#            'startDateTime': x['new_arr_time'],\n",
    "#            'unitGroup': 'us',\n",
    "#             'contentType': 'json',\n",
    "#             'locations': x['origin_city_name'],\n",
    "#             'key': api_key\n",
    "#         }\n",
    "#     )\n",
    "    \n",
    "#     if response.status_code == 200:\n",
    "#         json = response.json()\n",
    "#         for i in json['locations'].values():\n",
    "#             for j in i['values']:\n",
    "#                 return j['conditions']"
   ]
  },
  {
   "cell_type": "code",
   "execution_count": 20,
   "metadata": {},
   "outputs": [],
   "source": [
    "#tmp_df = df_flights.iloc[500:505, :].copy()\n",
    "#tmp_df['weather_condition_origin'] = tmp_df.apply(get_weather_origin, axis=1)\n",
    "#tmp_df['weather_condition_dest'] = tmp_df.apply(get_weather_destination, axis=1)"
   ]
  },
  {
   "cell_type": "code",
   "execution_count": 21,
   "metadata": {},
   "outputs": [],
   "source": [
    "#tmp_df"
   ]
  },
  {
   "cell_type": "markdown",
   "metadata": {},
   "source": [
    "#### **Task 4**: How taxi times changing during the day? Does higher traffic lead to bigger taxi times?"
   ]
  },
  {
   "cell_type": "code",
   "execution_count": 25,
   "metadata": {},
   "outputs": [
    {
     "data": {
      "text/plain": [
       "count    2960.000000\n",
       "mean       13.056757\n",
       "std         5.069789\n",
       "min         0.000000\n",
       "25%         9.000000\n",
       "50%        13.000000\n",
       "75%        17.000000\n",
       "max        23.000000\n",
       "Name: dep_time_hh, dtype: float64"
      ]
     },
     "execution_count": 25,
     "metadata": {},
     "output_type": "execute_result"
    }
   ],
   "source": [
    "df_flights['dep_time_hh'] = df_flights['dep_time'] // 100\n",
    "df_flights['dep_time_hh'].describe()"
   ]
  },
  {
   "cell_type": "code",
   "execution_count": 27,
   "metadata": {},
   "outputs": [],
   "source": [
    "df_flights['dep_time_hh'] = df_flights[\"dep_time_hh\"].replace(24.0, 0.0)"
   ]
  },
  {
   "cell_type": "code",
   "execution_count": 28,
   "metadata": {},
   "outputs": [
    {
     "data": {
      "text/plain": [
       "dep_time\n",
       "3.0       16.0\n",
       "4.0       13.0\n",
       "5.0       13.0\n",
       "10.0      16.0\n",
       "16.0      16.0\n",
       "          ... \n",
       "2346.0    14.5\n",
       "2348.0    12.5\n",
       "2351.0    13.0\n",
       "2355.0    14.0\n",
       "2359.0    11.5\n",
       "Name: taxi_out, Length: 1033, dtype: float64"
      ]
     },
     "execution_count": 28,
     "metadata": {},
     "output_type": "execute_result"
    }
   ],
   "source": [
    "df_flights.groupby(by='dep_time')['taxi_out'].mean()"
   ]
  },
  {
   "cell_type": "code",
   "execution_count": 29,
   "metadata": {},
   "outputs": [
    {
     "data": {
      "text/plain": [
       "dep_time_hh\n",
       "0.0      8.230769\n",
       "1.0     11.400000\n",
       "2.0      7.000000\n",
       "4.0      8.500000\n",
       "5.0      8.980769\n",
       "6.0      8.838235\n",
       "7.0      8.521505\n",
       "8.0      6.276923\n",
       "9.0      6.540230\n",
       "10.0     7.941520\n",
       "11.0     7.680000\n",
       "12.0     7.314103\n",
       "13.0     7.848684\n",
       "14.0     7.556250\n",
       "15.0     7.333333\n",
       "16.0     8.038217\n",
       "17.0     7.738916\n",
       "18.0     7.953216\n",
       "19.0     7.856287\n",
       "20.0     6.449612\n",
       "21.0     6.172727\n",
       "22.0     5.783133\n",
       "23.0     6.441176\n",
       "Name: taxi_in, dtype: float64"
      ]
     },
     "execution_count": 29,
     "metadata": {},
     "output_type": "execute_result"
    }
   ],
   "source": [
    "df_flights.groupby(by='dep_time_hh')['taxi_in'].mean()"
   ]
  },
  {
   "cell_type": "code",
   "execution_count": null,
   "metadata": {},
   "outputs": [],
   "source": []
  },
  {
   "cell_type": "markdown",
   "metadata": {},
   "source": [
    "#### **Task 5**: What is the average percentage of delays that is already created before departure? (aka are arrival delays caused by departure delays?) Are airlines able to lower the delay during the flights?"
   ]
  },
  {
   "cell_type": "code",
   "execution_count": null,
   "metadata": {},
   "outputs": [],
   "source": [
    "#If your plane is running late, it tends to fly faster"
   ]
  },
  {
   "cell_type": "code",
   "execution_count": null,
   "metadata": {},
   "outputs": [],
   "source": [
    "df_delays['dep_minus_arr_delay'] = df_delays['dep_delay'] - df_delays['arr_delay']"
   ]
  },
  {
   "cell_type": "code",
   "execution_count": null,
   "metadata": {},
   "outputs": [],
   "source": [
    "plt.hist(df_delays['dep_minus_arr_delay'], range(-50,50))"
   ]
  },
  {
   "cell_type": "code",
   "execution_count": null,
   "metadata": {},
   "outputs": [],
   "source": [
    "df_delays['dep_minus_arr_delay'].describe()"
   ]
  },
  {
   "cell_type": "markdown",
   "metadata": {},
   "source": [
    "#### **Task 6**: How many states cover 50% of US air traffic? "
   ]
  },
  {
   "cell_type": "code",
   "execution_count": null,
   "metadata": {},
   "outputs": [],
   "source": []
  },
  {
   "cell_type": "code",
   "execution_count": null,
   "metadata": {},
   "outputs": [],
   "source": []
  },
  {
   "cell_type": "markdown",
   "metadata": {},
   "source": [
    "#### **Task 7**: Test the hypothesis whether planes fly faster when there is the departure delay? "
   ]
  },
  {
   "cell_type": "code",
   "execution_count": null,
   "metadata": {},
   "outputs": [],
   "source": []
  },
  {
   "cell_type": "code",
   "execution_count": null,
   "metadata": {},
   "outputs": [],
   "source": []
  },
  {
   "cell_type": "markdown",
   "metadata": {},
   "source": [
    "#### **Task 8**: When (which hour) do most 'LONG', 'SHORT', 'MEDIUM' haul flights take off?"
   ]
  },
  {
   "cell_type": "code",
   "execution_count": null,
   "metadata": {},
   "outputs": [],
   "source": []
  },
  {
   "cell_type": "code",
   "execution_count": null,
   "metadata": {},
   "outputs": [],
   "source": []
  },
  {
   "cell_type": "markdown",
   "metadata": {},
   "source": [
    "#### **Task 9**: Find the top 10 the bussiest airports. Does the biggest number of flights mean that the biggest number of passengers went through the particular airport? How much traffic do these 10 airports cover?"
   ]
  },
  {
   "cell_type": "code",
   "execution_count": null,
   "metadata": {},
   "outputs": [],
   "source": [
    "#Get top 10 airport ids"
   ]
  },
  {
   "cell_type": "code",
   "execution_count": null,
   "metadata": {},
   "outputs": [],
   "source": [
    "flights_by_airport_count_2019 = df_flights[['flights','origin_airport_id']].groupby('origin_airport_id').count().reset_index()\n",
    "flights_by_airport_count_2019.head()"
   ]
  },
  {
   "cell_type": "code",
   "execution_count": 52,
   "metadata": {},
   "outputs": [
    {
     "data": {
      "text/html": [
       "<div>\n",
       "<style scoped>\n",
       "    .dataframe tbody tr th:only-of-type {\n",
       "        vertical-align: middle;\n",
       "    }\n",
       "\n",
       "    .dataframe tbody tr th {\n",
       "        vertical-align: top;\n",
       "    }\n",
       "\n",
       "    .dataframe thead th {\n",
       "        text-align: right;\n",
       "    }\n",
       "</style>\n",
       "<table border=\"1\" class=\"dataframe\">\n",
       "  <thead>\n",
       "    <tr style=\"text-align: right;\">\n",
       "      <th></th>\n",
       "      <th>origin_airport_id</th>\n",
       "      <th>flights</th>\n",
       "    </tr>\n",
       "  </thead>\n",
       "  <tbody>\n",
       "    <tr>\n",
       "      <th>174</th>\n",
       "      <td>13930</td>\n",
       "      <td>165</td>\n",
       "    </tr>\n",
       "    <tr>\n",
       "      <th>13</th>\n",
       "      <td>10397</td>\n",
       "      <td>143</td>\n",
       "    </tr>\n",
       "    <tr>\n",
       "      <th>65</th>\n",
       "      <td>11292</td>\n",
       "      <td>116</td>\n",
       "    </tr>\n",
       "    <tr>\n",
       "      <th>135</th>\n",
       "      <td>12892</td>\n",
       "      <td>109</td>\n",
       "    </tr>\n",
       "    <tr>\n",
       "      <th>66</th>\n",
       "      <td>11298</td>\n",
       "      <td>101</td>\n",
       "    </tr>\n",
       "    <tr>\n",
       "      <th>52</th>\n",
       "      <td>11057</td>\n",
       "      <td>93</td>\n",
       "    </tr>\n",
       "    <tr>\n",
       "      <th>71</th>\n",
       "      <td>11433</td>\n",
       "      <td>77</td>\n",
       "    </tr>\n",
       "    <tr>\n",
       "      <th>215</th>\n",
       "      <td>14771</td>\n",
       "      <td>74</td>\n",
       "    </tr>\n",
       "    <tr>\n",
       "      <th>214</th>\n",
       "      <td>14747</td>\n",
       "      <td>70</td>\n",
       "    </tr>\n",
       "    <tr>\n",
       "      <th>165</th>\n",
       "      <td>13487</td>\n",
       "      <td>68</td>\n",
       "    </tr>\n",
       "  </tbody>\n",
       "</table>\n",
       "</div>"
      ],
      "text/plain": [
       "     origin_airport_id  flights\n",
       "174              13930      165\n",
       "13               10397      143\n",
       "65               11292      116\n",
       "135              12892      109\n",
       "66               11298      101\n",
       "52               11057       93\n",
       "71               11433       77\n",
       "215              14771       74\n",
       "214              14747       70\n",
       "165              13487       68"
      ]
     },
     "execution_count": 52,
     "metadata": {},
     "output_type": "execute_result"
    }
   ],
   "source": [
    "top_10_airports = flights_by_airport_count_2019.sort_values(by='flights', ascending=False).head(10)\n",
    "top_10_airports"
   ]
  },
  {
   "cell_type": "code",
   "execution_count": 70,
   "metadata": {},
   "outputs": [],
   "source": [
    "#def execute_read_query(con, airport_names_query_2019):"
   ]
  },
  {
   "cell_type": "code",
   "execution_count": 71,
   "metadata": {},
   "outputs": [],
   "source": [
    "def get_airport_names(airport_ids):\n",
    "    airport_names_query_2019 = \"\"\"\n",
    "       SELECT distinct\n",
    "        origin,\n",
    "        origin_airport_id\n",
    "       FROM flights\n",
    "       WHERE date_part('year', TO_DATE(fl_date,'YYYY-MM-DD')) = 2019\n",
    "       and origin_airport_id in (\n",
    "    \"\"\"\n",
    "    airport_names_query_2019 += \",\".join([str(item) for item in airport_ids]) + \")\"\n",
    "#return execute_read_query(con, airport_names_query_2019)"
   ]
  },
  {
   "cell_type": "code",
   "execution_count": 73,
   "metadata": {},
   "outputs": [],
   "source": [
    "top_10_flights_airports = get_airport_names(top_10_airports['origin_airport_id'].to_numpy())\n",
    "top_10_flights_airports"
   ]
  },
  {
   "cell_type": "code",
   "execution_count": 76,
   "metadata": {},
   "outputs": [
    {
     "data": {
      "text/html": [
       "<div>\n",
       "<style scoped>\n",
       "    .dataframe tbody tr th:only-of-type {\n",
       "        vertical-align: middle;\n",
       "    }\n",
       "\n",
       "    .dataframe tbody tr th {\n",
       "        vertical-align: top;\n",
       "    }\n",
       "\n",
       "    .dataframe thead th {\n",
       "        text-align: right;\n",
       "    }\n",
       "</style>\n",
       "<table border=\"1\" class=\"dataframe\">\n",
       "  <thead>\n",
       "    <tr style=\"text-align: right;\">\n",
       "      <th></th>\n",
       "      <th>fl_date</th>\n",
       "      <th>mkt_unique_carrier</th>\n",
       "      <th>branded_code_share</th>\n",
       "      <th>mkt_carrier</th>\n",
       "      <th>mkt_carrier_fl_num</th>\n",
       "      <th>op_unique_carrier</th>\n",
       "      <th>tail_num</th>\n",
       "      <th>op_carrier_fl_num</th>\n",
       "      <th>origin_airport_id</th>\n",
       "      <th>origin</th>\n",
       "      <th>origin_city_name</th>\n",
       "      <th>dest_airport_id</th>\n",
       "      <th>dest</th>\n",
       "      <th>dest_city_name</th>\n",
       "      <th>crs_dep_time</th>\n",
       "      <th>dep_time</th>\n",
       "      <th>dep_delay</th>\n",
       "      <th>taxi_out</th>\n",
       "      <th>wheels_off</th>\n",
       "      <th>wheels_on</th>\n",
       "      <th>taxi_in</th>\n",
       "      <th>crs_arr_time</th>\n",
       "      <th>arr_time</th>\n",
       "      <th>arr_delay</th>\n",
       "      <th>cancelled</th>\n",
       "      <th>cancellation_code</th>\n",
       "      <th>diverted</th>\n",
       "      <th>dup</th>\n",
       "      <th>crs_elapsed_time</th>\n",
       "      <th>actual_elapsed_time</th>\n",
       "      <th>air_time</th>\n",
       "      <th>flights</th>\n",
       "      <th>distance</th>\n",
       "      <th>carrier_delay</th>\n",
       "      <th>weather_delay</th>\n",
       "      <th>nas_delay</th>\n",
       "      <th>security_delay</th>\n",
       "      <th>late_aircraft_delay</th>\n",
       "      <th>first_dep_time</th>\n",
       "      <th>total_add_gtime</th>\n",
       "      <th>longest_add_gtime</th>\n",
       "      <th>no_name</th>\n",
       "    </tr>\n",
       "  </thead>\n",
       "  <tbody>\n",
       "    <tr>\n",
       "      <th>2076</th>\n",
       "      <td>2018-05-27</td>\n",
       "      <td>AA</td>\n",
       "      <td>AA_CODESHARE</td>\n",
       "      <td>AA</td>\n",
       "      <td>3045</td>\n",
       "      <td>OO</td>\n",
       "      <td>N701SK</td>\n",
       "      <td>3045</td>\n",
       "      <td>16218</td>\n",
       "      <td>YUM</td>\n",
       "      <td>Yuma, AZ</td>\n",
       "      <td>14107</td>\n",
       "      <td>PHX</td>\n",
       "      <td>Phoenix, AZ</td>\n",
       "      <td>1645</td>\n",
       "      <td>1731.0</td>\n",
       "      <td>46.0</td>\n",
       "      <td>8.0</td>\n",
       "      <td>1739.0</td>\n",
       "      <td>1810.0</td>\n",
       "      <td>5.0</td>\n",
       "      <td>1743</td>\n",
       "      <td>1815.0</td>\n",
       "      <td>32.0</td>\n",
       "      <td>0.0</td>\n",
       "      <td>None</td>\n",
       "      <td>0.0</td>\n",
       "      <td>N</td>\n",
       "      <td>58.0</td>\n",
       "      <td>44.0</td>\n",
       "      <td>31.0</td>\n",
       "      <td>1.0</td>\n",
       "      <td>160.0</td>\n",
       "      <td>0.0</td>\n",
       "      <td>0.0</td>\n",
       "      <td>0.0</td>\n",
       "      <td>0.0</td>\n",
       "      <td>32.0</td>\n",
       "      <td>None</td>\n",
       "      <td>NaN</td>\n",
       "      <td>NaN</td>\n",
       "      <td>None</td>\n",
       "    </tr>\n",
       "    <tr>\n",
       "      <th>1894</th>\n",
       "      <td>2019-11-08</td>\n",
       "      <td>UA</td>\n",
       "      <td>UA_CODESHARE</td>\n",
       "      <td>UA</td>\n",
       "      <td>5775</td>\n",
       "      <td>OO</td>\n",
       "      <td>N913SW</td>\n",
       "      <td>5775</td>\n",
       "      <td>15919</td>\n",
       "      <td>XNA</td>\n",
       "      <td>Fayetteville, AR</td>\n",
       "      <td>11292</td>\n",
       "      <td>DEN</td>\n",
       "      <td>Denver, CO</td>\n",
       "      <td>1950</td>\n",
       "      <td>1940.0</td>\n",
       "      <td>-10.0</td>\n",
       "      <td>11.0</td>\n",
       "      <td>1951.0</td>\n",
       "      <td>2021.0</td>\n",
       "      <td>12.0</td>\n",
       "      <td>2059</td>\n",
       "      <td>2033.0</td>\n",
       "      <td>-26.0</td>\n",
       "      <td>0.0</td>\n",
       "      <td>None</td>\n",
       "      <td>0.0</td>\n",
       "      <td>N</td>\n",
       "      <td>129.0</td>\n",
       "      <td>113.0</td>\n",
       "      <td>90.0</td>\n",
       "      <td>1.0</td>\n",
       "      <td>616.0</td>\n",
       "      <td>NaN</td>\n",
       "      <td>NaN</td>\n",
       "      <td>NaN</td>\n",
       "      <td>NaN</td>\n",
       "      <td>NaN</td>\n",
       "      <td>None</td>\n",
       "      <td>NaN</td>\n",
       "      <td>NaN</td>\n",
       "      <td>None</td>\n",
       "    </tr>\n",
       "    <tr>\n",
       "      <th>214</th>\n",
       "      <td>2019-06-25</td>\n",
       "      <td>UA</td>\n",
       "      <td>UA_CODESHARE</td>\n",
       "      <td>UA</td>\n",
       "      <td>5550</td>\n",
       "      <td>OO</td>\n",
       "      <td>N122SY</td>\n",
       "      <td>5550</td>\n",
       "      <td>15919</td>\n",
       "      <td>XNA</td>\n",
       "      <td>Fayetteville, AR</td>\n",
       "      <td>14771</td>\n",
       "      <td>SFO</td>\n",
       "      <td>San Francisco, CA</td>\n",
       "      <td>644</td>\n",
       "      <td>644.0</td>\n",
       "      <td>0.0</td>\n",
       "      <td>23.0</td>\n",
       "      <td>707.0</td>\n",
       "      <td>853.0</td>\n",
       "      <td>8.0</td>\n",
       "      <td>858</td>\n",
       "      <td>901.0</td>\n",
       "      <td>3.0</td>\n",
       "      <td>0.0</td>\n",
       "      <td>None</td>\n",
       "      <td>0.0</td>\n",
       "      <td>N</td>\n",
       "      <td>254.0</td>\n",
       "      <td>257.0</td>\n",
       "      <td>226.0</td>\n",
       "      <td>1.0</td>\n",
       "      <td>1550.0</td>\n",
       "      <td>NaN</td>\n",
       "      <td>NaN</td>\n",
       "      <td>NaN</td>\n",
       "      <td>NaN</td>\n",
       "      <td>NaN</td>\n",
       "      <td>None</td>\n",
       "      <td>NaN</td>\n",
       "      <td>NaN</td>\n",
       "      <td>None</td>\n",
       "    </tr>\n",
       "    <tr>\n",
       "      <th>1027</th>\n",
       "      <td>2018-03-23</td>\n",
       "      <td>AA</td>\n",
       "      <td>AA_CODESHARE</td>\n",
       "      <td>AA</td>\n",
       "      <td>3684</td>\n",
       "      <td>MQ</td>\n",
       "      <td>N260NN</td>\n",
       "      <td>3684</td>\n",
       "      <td>15919</td>\n",
       "      <td>XNA</td>\n",
       "      <td>Fayetteville, AR</td>\n",
       "      <td>11298</td>\n",
       "      <td>DFW</td>\n",
       "      <td>Dallas/Fort Worth, TX</td>\n",
       "      <td>1635</td>\n",
       "      <td>1633.0</td>\n",
       "      <td>-2.0</td>\n",
       "      <td>11.0</td>\n",
       "      <td>1644.0</td>\n",
       "      <td>1742.0</td>\n",
       "      <td>12.0</td>\n",
       "      <td>1759</td>\n",
       "      <td>1754.0</td>\n",
       "      <td>-5.0</td>\n",
       "      <td>0.0</td>\n",
       "      <td>None</td>\n",
       "      <td>0.0</td>\n",
       "      <td>N</td>\n",
       "      <td>84.0</td>\n",
       "      <td>81.0</td>\n",
       "      <td>58.0</td>\n",
       "      <td>1.0</td>\n",
       "      <td>280.0</td>\n",
       "      <td>NaN</td>\n",
       "      <td>NaN</td>\n",
       "      <td>NaN</td>\n",
       "      <td>NaN</td>\n",
       "      <td>NaN</td>\n",
       "      <td>None</td>\n",
       "      <td>NaN</td>\n",
       "      <td>NaN</td>\n",
       "      <td>None</td>\n",
       "    </tr>\n",
       "    <tr>\n",
       "      <th>184</th>\n",
       "      <td>2018-11-09</td>\n",
       "      <td>AA</td>\n",
       "      <td>AA_CODESHARE</td>\n",
       "      <td>AA</td>\n",
       "      <td>3664</td>\n",
       "      <td>MQ</td>\n",
       "      <td>N244NN</td>\n",
       "      <td>3664</td>\n",
       "      <td>15919</td>\n",
       "      <td>XNA</td>\n",
       "      <td>Fayetteville, AR</td>\n",
       "      <td>11298</td>\n",
       "      <td>DFW</td>\n",
       "      <td>Dallas/Fort Worth, TX</td>\n",
       "      <td>800</td>\n",
       "      <td>757.0</td>\n",
       "      <td>-3.0</td>\n",
       "      <td>13.0</td>\n",
       "      <td>810.0</td>\n",
       "      <td>908.0</td>\n",
       "      <td>21.0</td>\n",
       "      <td>929</td>\n",
       "      <td>929.0</td>\n",
       "      <td>0.0</td>\n",
       "      <td>0.0</td>\n",
       "      <td>None</td>\n",
       "      <td>0.0</td>\n",
       "      <td>N</td>\n",
       "      <td>89.0</td>\n",
       "      <td>92.0</td>\n",
       "      <td>58.0</td>\n",
       "      <td>1.0</td>\n",
       "      <td>280.0</td>\n",
       "      <td>NaN</td>\n",
       "      <td>NaN</td>\n",
       "      <td>NaN</td>\n",
       "      <td>NaN</td>\n",
       "      <td>NaN</td>\n",
       "      <td>None</td>\n",
       "      <td>NaN</td>\n",
       "      <td>NaN</td>\n",
       "      <td>None</td>\n",
       "    </tr>\n",
       "    <tr>\n",
       "      <th>2102</th>\n",
       "      <td>2018-05-27</td>\n",
       "      <td>AA</td>\n",
       "      <td>AA_CODESHARE</td>\n",
       "      <td>AA</td>\n",
       "      <td>3638</td>\n",
       "      <td>MQ</td>\n",
       "      <td>N506AE</td>\n",
       "      <td>3638</td>\n",
       "      <td>15919</td>\n",
       "      <td>XNA</td>\n",
       "      <td>Fayetteville, AR</td>\n",
       "      <td>13930</td>\n",
       "      <td>ORD</td>\n",
       "      <td>Chicago, IL</td>\n",
       "      <td>1544</td>\n",
       "      <td>1544.0</td>\n",
       "      <td>0.0</td>\n",
       "      <td>12.0</td>\n",
       "      <td>1556.0</td>\n",
       "      <td>1712.0</td>\n",
       "      <td>11.0</td>\n",
       "      <td>1733</td>\n",
       "      <td>1723.0</td>\n",
       "      <td>-10.0</td>\n",
       "      <td>0.0</td>\n",
       "      <td>None</td>\n",
       "      <td>0.0</td>\n",
       "      <td>N</td>\n",
       "      <td>109.0</td>\n",
       "      <td>99.0</td>\n",
       "      <td>76.0</td>\n",
       "      <td>1.0</td>\n",
       "      <td>522.0</td>\n",
       "      <td>NaN</td>\n",
       "      <td>NaN</td>\n",
       "      <td>NaN</td>\n",
       "      <td>NaN</td>\n",
       "      <td>NaN</td>\n",
       "      <td>None</td>\n",
       "      <td>NaN</td>\n",
       "      <td>NaN</td>\n",
       "      <td>None</td>\n",
       "    </tr>\n",
       "    <tr>\n",
       "      <th>2920</th>\n",
       "      <td>2018-08-07</td>\n",
       "      <td>AA</td>\n",
       "      <td>AA_CODESHARE</td>\n",
       "      <td>AA</td>\n",
       "      <td>5500</td>\n",
       "      <td>OH</td>\n",
       "      <td>N569NN</td>\n",
       "      <td>5500</td>\n",
       "      <td>15624</td>\n",
       "      <td>VPS</td>\n",
       "      <td>Valparaiso, FL</td>\n",
       "      <td>11057</td>\n",
       "      <td>CLT</td>\n",
       "      <td>Charlotte, NC</td>\n",
       "      <td>1425</td>\n",
       "      <td>1418.0</td>\n",
       "      <td>-7.0</td>\n",
       "      <td>18.0</td>\n",
       "      <td>1436.0</td>\n",
       "      <td>1659.0</td>\n",
       "      <td>8.0</td>\n",
       "      <td>1715</td>\n",
       "      <td>1707.0</td>\n",
       "      <td>-8.0</td>\n",
       "      <td>0.0</td>\n",
       "      <td>None</td>\n",
       "      <td>0.0</td>\n",
       "      <td>N</td>\n",
       "      <td>110.0</td>\n",
       "      <td>109.0</td>\n",
       "      <td>83.0</td>\n",
       "      <td>1.0</td>\n",
       "      <td>460.0</td>\n",
       "      <td>NaN</td>\n",
       "      <td>NaN</td>\n",
       "      <td>NaN</td>\n",
       "      <td>NaN</td>\n",
       "      <td>NaN</td>\n",
       "      <td>None</td>\n",
       "      <td>NaN</td>\n",
       "      <td>NaN</td>\n",
       "      <td>None</td>\n",
       "    </tr>\n",
       "    <tr>\n",
       "      <th>179</th>\n",
       "      <td>2019-11-16</td>\n",
       "      <td>AA</td>\n",
       "      <td>AA</td>\n",
       "      <td>AA</td>\n",
       "      <td>1538</td>\n",
       "      <td>AA</td>\n",
       "      <td>N4032T</td>\n",
       "      <td>1538</td>\n",
       "      <td>15624</td>\n",
       "      <td>VPS</td>\n",
       "      <td>Valparaiso, FL</td>\n",
       "      <td>11298</td>\n",
       "      <td>DFW</td>\n",
       "      <td>Dallas/Fort Worth, TX</td>\n",
       "      <td>719</td>\n",
       "      <td>712.0</td>\n",
       "      <td>-7.0</td>\n",
       "      <td>12.0</td>\n",
       "      <td>724.0</td>\n",
       "      <td>907.0</td>\n",
       "      <td>12.0</td>\n",
       "      <td>942</td>\n",
       "      <td>919.0</td>\n",
       "      <td>-23.0</td>\n",
       "      <td>0.0</td>\n",
       "      <td>None</td>\n",
       "      <td>0.0</td>\n",
       "      <td>N</td>\n",
       "      <td>143.0</td>\n",
       "      <td>127.0</td>\n",
       "      <td>103.0</td>\n",
       "      <td>1.0</td>\n",
       "      <td>641.0</td>\n",
       "      <td>NaN</td>\n",
       "      <td>NaN</td>\n",
       "      <td>NaN</td>\n",
       "      <td>NaN</td>\n",
       "      <td>NaN</td>\n",
       "      <td>None</td>\n",
       "      <td>NaN</td>\n",
       "      <td>NaN</td>\n",
       "      <td>None</td>\n",
       "    </tr>\n",
       "    <tr>\n",
       "      <th>573</th>\n",
       "      <td>2019-09-28</td>\n",
       "      <td>UA</td>\n",
       "      <td>UA_CODESHARE</td>\n",
       "      <td>UA</td>\n",
       "      <td>5078</td>\n",
       "      <td>OO</td>\n",
       "      <td>N957SW</td>\n",
       "      <td>5078</td>\n",
       "      <td>15582</td>\n",
       "      <td>VEL</td>\n",
       "      <td>Vernal, UT</td>\n",
       "      <td>11292</td>\n",
       "      <td>DEN</td>\n",
       "      <td>Denver, CO</td>\n",
       "      <td>1814</td>\n",
       "      <td>1759.0</td>\n",
       "      <td>-15.0</td>\n",
       "      <td>20.0</td>\n",
       "      <td>1819.0</td>\n",
       "      <td>1908.0</td>\n",
       "      <td>10.0</td>\n",
       "      <td>1935</td>\n",
       "      <td>1918.0</td>\n",
       "      <td>-17.0</td>\n",
       "      <td>0.0</td>\n",
       "      <td>None</td>\n",
       "      <td>0.0</td>\n",
       "      <td>N</td>\n",
       "      <td>81.0</td>\n",
       "      <td>79.0</td>\n",
       "      <td>49.0</td>\n",
       "      <td>1.0</td>\n",
       "      <td>259.0</td>\n",
       "      <td>NaN</td>\n",
       "      <td>NaN</td>\n",
       "      <td>NaN</td>\n",
       "      <td>NaN</td>\n",
       "      <td>NaN</td>\n",
       "      <td>None</td>\n",
       "      <td>NaN</td>\n",
       "      <td>NaN</td>\n",
       "      <td>None</td>\n",
       "    </tr>\n",
       "    <tr>\n",
       "      <th>2030</th>\n",
       "      <td>2018-09-05</td>\n",
       "      <td>UA</td>\n",
       "      <td>UA_CODESHARE</td>\n",
       "      <td>UA</td>\n",
       "      <td>5078</td>\n",
       "      <td>OO</td>\n",
       "      <td>N912SW</td>\n",
       "      <td>5078</td>\n",
       "      <td>15582</td>\n",
       "      <td>VEL</td>\n",
       "      <td>Vernal, UT</td>\n",
       "      <td>11292</td>\n",
       "      <td>DEN</td>\n",
       "      <td>Denver, CO</td>\n",
       "      <td>1755</td>\n",
       "      <td>1813.0</td>\n",
       "      <td>18.0</td>\n",
       "      <td>17.0</td>\n",
       "      <td>1830.0</td>\n",
       "      <td>1916.0</td>\n",
       "      <td>7.0</td>\n",
       "      <td>1918</td>\n",
       "      <td>1923.0</td>\n",
       "      <td>5.0</td>\n",
       "      <td>0.0</td>\n",
       "      <td>None</td>\n",
       "      <td>0.0</td>\n",
       "      <td>N</td>\n",
       "      <td>83.0</td>\n",
       "      <td>70.0</td>\n",
       "      <td>46.0</td>\n",
       "      <td>1.0</td>\n",
       "      <td>259.0</td>\n",
       "      <td>NaN</td>\n",
       "      <td>NaN</td>\n",
       "      <td>NaN</td>\n",
       "      <td>NaN</td>\n",
       "      <td>NaN</td>\n",
       "      <td>None</td>\n",
       "      <td>NaN</td>\n",
       "      <td>NaN</td>\n",
       "      <td>None</td>\n",
       "    </tr>\n",
       "  </tbody>\n",
       "</table>\n",
       "</div>"
      ],
      "text/plain": [
       "         fl_date mkt_unique_carrier  ... longest_add_gtime no_name\n",
       "2076  2018-05-27                 AA  ...               NaN    None\n",
       "1894  2019-11-08                 UA  ...               NaN    None\n",
       "214   2019-06-25                 UA  ...               NaN    None\n",
       "1027  2018-03-23                 AA  ...               NaN    None\n",
       "184   2018-11-09                 AA  ...               NaN    None\n",
       "2102  2018-05-27                 AA  ...               NaN    None\n",
       "2920  2018-08-07                 AA  ...               NaN    None\n",
       "179   2019-11-16                 AA  ...               NaN    None\n",
       "573   2019-09-28                 UA  ...               NaN    None\n",
       "2030  2018-09-05                 UA  ...               NaN    None\n",
       "\n",
       "[10 rows x 42 columns]"
      ]
     },
     "execution_count": 76,
     "metadata": {},
     "output_type": "execute_result"
    }
   ],
   "source": [
    "top_10_airport_names = df_flights.sort_values(by='origin_airport_id', ascending=False).head(10)\n",
    "top_10_airport_names"
   ]
  },
  {
   "cell_type": "code",
   "execution_count": 91,
   "metadata": {},
   "outputs": [],
   "source": [
    "#top_10_airports_by_flights = top_10_airport_names.join(top_10_airports_names_2019.set_index('origin_airport_id'), on='origin_airport_id', rsuffix=\"dest\")\n",
    "#top_10_airports_by_flights.head(10)"
   ]
  },
  {
   "cell_type": "code",
   "execution_count": null,
   "metadata": {},
   "outputs": [],
   "source": [
    "#Get top airports for passenger total"
   ]
  },
  {
   "cell_type": "code",
   "execution_count": 92,
   "metadata": {},
   "outputs": [],
   "source": [
    "#def execute_read_query(passenger_totals_query_2019):\n",
    "#    passenger_totals_query_2019 = \"\"\"\n",
    "#   SELECT origin_airport_id,\n",
    "#    sum(passengers) as total_passengers\n",
    "#   FROM passengers   \n",
    "#   WHERE year = 2019  \n",
    "#   group by origin_airport_id\n",
    "#\"\"\"\n",
    "#passenger_totals_2019"
   ]
  },
  {
   "cell_type": "code",
   "execution_count": 93,
   "metadata": {},
   "outputs": [],
   "source": [
    "#top_10_passenger_airports = passenger_totals_2019.sort_values(by='total_passengers', ascending=False).head(10)\n",
    "#top_10_passenger_airports"
   ]
  },
  {
   "cell_type": "code",
   "execution_count": 95,
   "metadata": {},
   "outputs": [],
   "source": [
    "#print(top_10_passenger_airports['origin_airport_id'].to_numpy())"
   ]
  },
  {
   "cell_type": "code",
   "execution_count": 98,
   "metadata": {},
   "outputs": [],
   "source": [
    "#top_10_airports_names_passengers_2019 = get_airport_names(top_10_passenger_airports['origin_airport_id'].to_numpy())\n",
    "#top_10_airports_names_passengers_2019"
   ]
  },
  {
   "cell_type": "code",
   "execution_count": 100,
   "metadata": {},
   "outputs": [],
   "source": [
    "#top_10_airports_by_passengers = top_10_passenger_airports.join(top_10_airports_names_passengers_2019.set_index('origin_airport_id'), on='origin_airport_id', rsuffix=\"dest\")\n",
    "#top_10_airports_by_passengers.head(10)"
   ]
  },
  {
   "cell_type": "code",
   "execution_count": 102,
   "metadata": {},
   "outputs": [
    {
     "ename": "NameError",
     "evalue": "name 'top_10_airports_by_flights' is not defined",
     "output_type": "error",
     "traceback": [
      "\u001b[0;31m---------------------------------------------------------------------------\u001b[0m",
      "\u001b[0;31mNameError\u001b[0m                                 Traceback (most recent call last)",
      "\u001b[0;32m<ipython-input-102-2b384c70bb20>\u001b[0m in \u001b[0;36m<module>\u001b[0;34m\u001b[0m\n\u001b[1;32m      2\u001b[0m \u001b[0mfig\u001b[0m \u001b[0;34m=\u001b[0m \u001b[0mgo\u001b[0m\u001b[0;34m.\u001b[0m\u001b[0mFigure\u001b[0m\u001b[0;34m(\u001b[0m\u001b[0;34m)\u001b[0m\u001b[0;34m\u001b[0m\u001b[0;34m\u001b[0m\u001b[0m\n\u001b[1;32m      3\u001b[0m fig.add_trace(go.Bar(\n\u001b[0;32m----> 4\u001b[0;31m             \u001b[0mx\u001b[0m\u001b[0;34m=\u001b[0m\u001b[0mtop_10_airports_by_flights\u001b[0m\u001b[0;34m[\u001b[0m\u001b[0;34m'flights'\u001b[0m\u001b[0;34m]\u001b[0m\u001b[0;34m,\u001b[0m\u001b[0;34m\u001b[0m\u001b[0;34m\u001b[0m\u001b[0m\n\u001b[0m\u001b[1;32m      5\u001b[0m             \u001b[0my\u001b[0m\u001b[0;34m=\u001b[0m\u001b[0mtop_10_airports_by_flights\u001b[0m\u001b[0;34m[\u001b[0m\u001b[0;34m'origin'\u001b[0m\u001b[0;34m]\u001b[0m\u001b[0;34m,\u001b[0m\u001b[0;34m\u001b[0m\u001b[0;34m\u001b[0m\u001b[0m\n\u001b[1;32m      6\u001b[0m             orientation='h'))\n",
      "\u001b[0;31mNameError\u001b[0m: name 'top_10_airports_by_flights' is not defined"
     ]
    }
   ],
   "source": [
    "#Passenger counts not directly correlate with flight count at the top 10 busiest airports\n",
    "import plotly.graph_objects as go\n",
    "fig = go.Figure()\n",
    "fig.add_trace(go.Bar(\n",
    "            x=top_10_airports_by_flights['flights'],\n",
    "            y=top_10_airports_by_flights['origin'],\n",
    "            orientation='h'))\n",
    "buttons=list([dict(args=[{'x':[top_10_airports_by_flights['flights']],\n",
    "                         'y':[top_10_airports_by_flights['origin']]}, [0]],                   \n",
    "                   label=\"Total Flights\",\n",
    "                   method=\"restyle\"\n",
    "                ),\n",
    "                dict(args=[{'x':[top_10_airports_by_passengers['total_passengers']],\n",
    "                           'y': [top_10_airports_by_passengers['origin']]}, [0]],                 \n",
    "                   label=\"Total Passengers\",\n",
    "                   method=\"restyle\"\n",
    "                )\n",
    "            ])\n",
    "fig.update_layout(\n",
    "    updatemenus=[\n",
    "        go.layout.Updatemenu(\n",
    "            buttons=buttons,\n",
    "            direction=\"down\",\n",
    "            pad={\"r\": 10, \"t\": 10},\n",
    "            showactive=True,\n",
    "            x=-0.25,\n",
    "            xanchor=\"left\",\n",
    "            y=1.25,\n",
    "            yanchor=\"top\"\n",
    "        )\n",
    "    ]\n",
    ")\n",
    "\n",
    "fig.show()\n",
    "py.plot(fig)"
   ]
  },
  {
   "cell_type": "code",
   "execution_count": 44,
   "metadata": {},
   "outputs": [
    {
     "data": {
      "text/plain": [
       "array([   0., 4870., 5259., ..., 2883., 3239.,  376.])"
      ]
     },
     "execution_count": 44,
     "metadata": {},
     "output_type": "execute_result"
    }
   ],
   "source": [
    "df_passengers['passengers'].unique()"
   ]
  },
  {
   "cell_type": "code",
   "execution_count": null,
   "metadata": {},
   "outputs": [],
   "source": []
  },
  {
   "cell_type": "code",
   "execution_count": 9,
   "metadata": {},
   "outputs": [
    {
     "data": {
      "text/plain": [
       "5.7243481205553675"
      ]
     },
     "execution_count": 9,
     "metadata": {},
     "output_type": "execute_result"
    }
   ],
   "source": [
    "df_flights.arr_delay.mean()"
   ]
  },
  {
   "cell_type": "code",
   "execution_count": 10,
   "metadata": {},
   "outputs": [],
   "source": [
    "df_flights['month'] = df_flights['fl_date'].str[5:7]"
   ]
  },
  {
   "cell_type": "code",
   "execution_count": 16,
   "metadata": {},
   "outputs": [
    {
     "data": {
      "text/plain": [
       "<AxesSubplot:xlabel='month'>"
      ]
     },
     "execution_count": 16,
     "metadata": {},
     "output_type": "execute_result"
    },
    {
     "data": {
      "image/png": "[encoded data removed]",
      "text/plain": [
       "<Figure size 432x288 with 1 Axes>"
      ]
     },
     "metadata": {
      "needs_background": "light"
     },
     "output_type": "display_data"
    }
   ],
   "source": [
    "#Plot of arrival delay vs month\n",
    "df_flights.groupby('month').arr_delay.mean().plot(kind='bar')"
   ]
  },
  {
   "cell_type": "code",
   "execution_count": 30,
   "metadata": {},
   "outputs": [],
   "source": [
    "df_flights['day'] = df_flights['fl_date'].str[8:10]"
   ]
  },
  {
   "cell_type": "code",
   "execution_count": 31,
   "metadata": {},
   "outputs": [
    {
     "data": {
      "text/plain": [
       "<AxesSubplot:xlabel='day'>"
      ]
     },
     "execution_count": 31,
     "metadata": {},
     "output_type": "execute_result"
    },
    {
     "data": {
      "image/png": "[encoded data removed]",
      "text/plain": [
       "<Figure size 432x288 with 1 Axes>"
      ]
     },
     "metadata": {
      "needs_background": "light"
     },
     "output_type": "display_data"
    }
   ],
   "source": [
    "#Plot of arrival delay vs day of month\n",
    "df_flights.groupby('day').arr_delay.mean().plot(kind='bar')"
   ]
  },
  {
   "cell_type": "code",
   "execution_count": 32,
   "metadata": {},
   "outputs": [
    {
     "data": {
      "text/plain": [
       "<AxesSubplot:xlabel='op_unique_carrier'>"
      ]
     },
     "execution_count": 32,
     "metadata": {},
     "output_type": "execute_result"
    },
    {
     "data": {
      "image/png": "[encoded data removed]",
      "text/plain": [
       "<Figure size 432x288 with 1 Axes>"
      ]
     },
     "metadata": {
      "needs_background": "light"
     },
     "output_type": "display_data"
    }
   ],
   "source": [
    "#Plot of arrival delay vs op unique carrier\n",
    "df_flights.groupby('op_unique_carrier').arr_delay.mean().plot(kind='bar')"
   ]
  },
  {
   "cell_type": "code",
   "execution_count": 33,
   "metadata": {},
   "outputs": [
    {
     "data": {
      "text/plain": [
       "WN    525\n",
       "DL    372\n",
       "AA    346\n",
       "OO    298\n",
       "UA    242\n",
       "OH    125\n",
       "YX    124\n",
       "B6    110\n",
       "MQ    108\n",
       "AS    104\n",
       "9E     82\n",
       "YV     79\n",
       "NK     66\n",
       "PT     55\n",
       "F9     53\n",
       "EV     49\n",
       "ZW     48\n",
       "QX     40\n",
       "CP     38\n",
       "G4     35\n",
       "G7     31\n",
       "HA     28\n",
       "AX     23\n",
       "C5     13\n",
       "VX      3\n",
       "EM      3\n",
       "Name: op_unique_carrier, dtype: int64"
      ]
     },
     "execution_count": 33,
     "metadata": {},
     "output_type": "execute_result"
    }
   ],
   "source": [
    "df_flights.op_unique_carrier.value_counts()"
   ]
  },
  {
   "cell_type": "code",
   "execution_count": 36,
   "metadata": {},
   "outputs": [
    {
     "data": {
      "text/plain": [
       "<AxesSubplot:xlabel='op_carrier_fl_num'>"
      ]
     },
     "execution_count": 36,
     "metadata": {},
     "output_type": "execute_result"
    },
    {
     "data": {
      "image/png": "[encoded data removed]",
      "text/plain": [
       "<Figure size 432x288 with 1 Axes>"
      ]
     },
     "metadata": {
      "needs_background": "light"
     },
     "output_type": "display_data"
    }
   ],
   "source": [
    "df_flights.groupby('op_carrier_fl_num').arr_delay.mean().plot()"
   ]
  },
  {
   "cell_type": "code",
   "execution_count": 159,
   "metadata": {},
   "outputs": [
    {
     "data": {
      "text/html": [
       "<div>\n",
       "<style scoped>\n",
       "    .dataframe tbody tr th:only-of-type {\n",
       "        vertical-align: middle;\n",
       "    }\n",
       "\n",
       "    .dataframe tbody tr th {\n",
       "        vertical-align: top;\n",
       "    }\n",
       "\n",
       "    .dataframe thead th {\n",
       "        text-align: right;\n",
       "    }\n",
       "</style>\n",
       "<table border=\"1\" class=\"dataframe\">\n",
       "  <thead>\n",
       "    <tr style=\"text-align: right;\">\n",
       "      <th></th>\n",
       "      <th>departures_scheduled</th>\n",
       "      <th>departures_performed</th>\n",
       "      <th>payload</th>\n",
       "      <th>seats</th>\n",
       "      <th>passengers</th>\n",
       "      <th>freight</th>\n",
       "      <th>mail</th>\n",
       "      <th>distance</th>\n",
       "      <th>ramp_to_ramp</th>\n",
       "      <th>air_time</th>\n",
       "      <th>...</th>\n",
       "      <th>dest_country</th>\n",
       "      <th>dest_country_name</th>\n",
       "      <th>aircraft_group</th>\n",
       "      <th>aircraft_type</th>\n",
       "      <th>aircraft_config</th>\n",
       "      <th>year</th>\n",
       "      <th>month</th>\n",
       "      <th>distance_group</th>\n",
       "      <th>class</th>\n",
       "      <th>data_source</th>\n",
       "    </tr>\n",
       "  </thead>\n",
       "  <tbody>\n",
       "    <tr>\n",
       "      <th>973</th>\n",
       "      <td>307.0</td>\n",
       "      <td>307.0</td>\n",
       "      <td>15564900.0</td>\n",
       "      <td>58589.0</td>\n",
       "      <td>51979.0</td>\n",
       "      <td>120488.0</td>\n",
       "      <td>26792.0</td>\n",
       "      <td>946.0</td>\n",
       "      <td>44232.0</td>\n",
       "      <td>36257.0</td>\n",
       "      <td>...</td>\n",
       "      <td>US</td>\n",
       "      <td>United States</td>\n",
       "      <td>6</td>\n",
       "      <td>699</td>\n",
       "      <td>1</td>\n",
       "      <td>2019</td>\n",
       "      <td>10</td>\n",
       "      <td>2</td>\n",
       "      <td>F</td>\n",
       "      <td>DU</td>\n",
       "    </tr>\n",
       "    <tr>\n",
       "      <th>2068</th>\n",
       "      <td>256.0</td>\n",
       "      <td>256.0</td>\n",
       "      <td>13219500.0</td>\n",
       "      <td>47824.0</td>\n",
       "      <td>42102.0</td>\n",
       "      <td>22551.0</td>\n",
       "      <td>127233.0</td>\n",
       "      <td>936.0</td>\n",
       "      <td>44012.0</td>\n",
       "      <td>36743.0</td>\n",
       "      <td>...</td>\n",
       "      <td>US</td>\n",
       "      <td>United States</td>\n",
       "      <td>6</td>\n",
       "      <td>699</td>\n",
       "      <td>1</td>\n",
       "      <td>2019</td>\n",
       "      <td>12</td>\n",
       "      <td>2</td>\n",
       "      <td>F</td>\n",
       "      <td>DU</td>\n",
       "    </tr>\n",
       "    <tr>\n",
       "      <th>2792</th>\n",
       "      <td>292.0</td>\n",
       "      <td>288.0</td>\n",
       "      <td>10996260.0</td>\n",
       "      <td>46077.0</td>\n",
       "      <td>42021.0</td>\n",
       "      <td>41832.0</td>\n",
       "      <td>5270.0</td>\n",
       "      <td>762.0</td>\n",
       "      <td>42229.0</td>\n",
       "      <td>30319.0</td>\n",
       "      <td>...</td>\n",
       "      <td>US</td>\n",
       "      <td>United States</td>\n",
       "      <td>6</td>\n",
       "      <td>656</td>\n",
       "      <td>1</td>\n",
       "      <td>2015</td>\n",
       "      <td>7</td>\n",
       "      <td>2</td>\n",
       "      <td>F</td>\n",
       "      <td>DU</td>\n",
       "    </tr>\n",
       "    <tr>\n",
       "      <th>1931</th>\n",
       "      <td>269.0</td>\n",
       "      <td>268.0</td>\n",
       "      <td>8809160.0</td>\n",
       "      <td>39921.0</td>\n",
       "      <td>35499.0</td>\n",
       "      <td>54256.0</td>\n",
       "      <td>19664.0</td>\n",
       "      <td>666.0</td>\n",
       "      <td>34872.0</td>\n",
       "      <td>26548.0</td>\n",
       "      <td>...</td>\n",
       "      <td>US</td>\n",
       "      <td>United States</td>\n",
       "      <td>6</td>\n",
       "      <td>655</td>\n",
       "      <td>1</td>\n",
       "      <td>2017</td>\n",
       "      <td>8</td>\n",
       "      <td>2</td>\n",
       "      <td>F</td>\n",
       "      <td>DU</td>\n",
       "    </tr>\n",
       "    <tr>\n",
       "      <th>1037</th>\n",
       "      <td>200.0</td>\n",
       "      <td>200.0</td>\n",
       "      <td>10066400.0</td>\n",
       "      <td>36392.0</td>\n",
       "      <td>33220.0</td>\n",
       "      <td>14356.0</td>\n",
       "      <td>139851.0</td>\n",
       "      <td>1055.0</td>\n",
       "      <td>31049.0</td>\n",
       "      <td>25446.0</td>\n",
       "      <td>...</td>\n",
       "      <td>US</td>\n",
       "      <td>United States</td>\n",
       "      <td>6</td>\n",
       "      <td>699</td>\n",
       "      <td>1</td>\n",
       "      <td>2018</td>\n",
       "      <td>11</td>\n",
       "      <td>3</td>\n",
       "      <td>F</td>\n",
       "      <td>DU</td>\n",
       "    </tr>\n",
       "    <tr>\n",
       "      <th>174</th>\n",
       "      <td>198.0</td>\n",
       "      <td>197.0</td>\n",
       "      <td>8549800.0</td>\n",
       "      <td>34475.0</td>\n",
       "      <td>31890.0</td>\n",
       "      <td>68148.0</td>\n",
       "      <td>0.0</td>\n",
       "      <td>1521.0</td>\n",
       "      <td>39965.0</td>\n",
       "      <td>36133.0</td>\n",
       "      <td>...</td>\n",
       "      <td>US</td>\n",
       "      <td>United States</td>\n",
       "      <td>6</td>\n",
       "      <td>614</td>\n",
       "      <td>1</td>\n",
       "      <td>2016</td>\n",
       "      <td>4</td>\n",
       "      <td>4</td>\n",
       "      <td>F</td>\n",
       "      <td>DU</td>\n",
       "    </tr>\n",
       "    <tr>\n",
       "      <th>1668</th>\n",
       "      <td>299.0</td>\n",
       "      <td>299.0</td>\n",
       "      <td>9828130.0</td>\n",
       "      <td>44544.0</td>\n",
       "      <td>30066.0</td>\n",
       "      <td>13696.0</td>\n",
       "      <td>0.0</td>\n",
       "      <td>214.0</td>\n",
       "      <td>19564.0</td>\n",
       "      <td>12054.0</td>\n",
       "      <td>...</td>\n",
       "      <td>US</td>\n",
       "      <td>United States</td>\n",
       "      <td>6</td>\n",
       "      <td>655</td>\n",
       "      <td>1</td>\n",
       "      <td>2018</td>\n",
       "      <td>9</td>\n",
       "      <td>1</td>\n",
       "      <td>F</td>\n",
       "      <td>DU</td>\n",
       "    </tr>\n",
       "    <tr>\n",
       "      <th>2718</th>\n",
       "      <td>243.0</td>\n",
       "      <td>233.0</td>\n",
       "      <td>8655000.0</td>\n",
       "      <td>32620.0</td>\n",
       "      <td>28913.0</td>\n",
       "      <td>2695.0</td>\n",
       "      <td>0.0</td>\n",
       "      <td>190.0</td>\n",
       "      <td>15082.0</td>\n",
       "      <td>9116.0</td>\n",
       "      <td>...</td>\n",
       "      <td>US</td>\n",
       "      <td>United States</td>\n",
       "      <td>6</td>\n",
       "      <td>655</td>\n",
       "      <td>1</td>\n",
       "      <td>2015</td>\n",
       "      <td>11</td>\n",
       "      <td>1</td>\n",
       "      <td>F</td>\n",
       "      <td>DU</td>\n",
       "    </tr>\n",
       "    <tr>\n",
       "      <th>729</th>\n",
       "      <td>227.0</td>\n",
       "      <td>225.0</td>\n",
       "      <td>7395750.0</td>\n",
       "      <td>33510.0</td>\n",
       "      <td>28531.0</td>\n",
       "      <td>24221.0</td>\n",
       "      <td>7022.0</td>\n",
       "      <td>526.0</td>\n",
       "      <td>21451.0</td>\n",
       "      <td>17440.0</td>\n",
       "      <td>...</td>\n",
       "      <td>US</td>\n",
       "      <td>United States</td>\n",
       "      <td>6</td>\n",
       "      <td>655</td>\n",
       "      <td>1</td>\n",
       "      <td>2016</td>\n",
       "      <td>5</td>\n",
       "      <td>2</td>\n",
       "      <td>F</td>\n",
       "      <td>DU</td>\n",
       "    </tr>\n",
       "    <tr>\n",
       "      <th>55</th>\n",
       "      <td>282.0</td>\n",
       "      <td>258.0</td>\n",
       "      <td>8926800.0</td>\n",
       "      <td>36894.0</td>\n",
       "      <td>28001.0</td>\n",
       "      <td>30154.0</td>\n",
       "      <td>0.0</td>\n",
       "      <td>304.0</td>\n",
       "      <td>18089.0</td>\n",
       "      <td>12889.0</td>\n",
       "      <td>...</td>\n",
       "      <td>US</td>\n",
       "      <td>United States</td>\n",
       "      <td>6</td>\n",
       "      <td>612</td>\n",
       "      <td>1</td>\n",
       "      <td>2019</td>\n",
       "      <td>5</td>\n",
       "      <td>1</td>\n",
       "      <td>F</td>\n",
       "      <td>DU</td>\n",
       "    </tr>\n",
       "  </tbody>\n",
       "</table>\n",
       "<p>10 rows × 38 columns</p>\n",
       "</div>"
      ],
      "text/plain": [
       "      departures_scheduled  departures_performed     payload    seats  \\\n",
       "973                  307.0                 307.0  15564900.0  58589.0   \n",
       "2068                 256.0                 256.0  13219500.0  47824.0   \n",
       "2792                 292.0                 288.0  10996260.0  46077.0   \n",
       "1931                 269.0                 268.0   8809160.0  39921.0   \n",
       "1037                 200.0                 200.0  10066400.0  36392.0   \n",
       "174                  198.0                 197.0   8549800.0  34475.0   \n",
       "1668                 299.0                 299.0   9828130.0  44544.0   \n",
       "2718                 243.0                 233.0   8655000.0  32620.0   \n",
       "729                  227.0                 225.0   7395750.0  33510.0   \n",
       "55                   282.0                 258.0   8926800.0  36894.0   \n",
       "\n",
       "      passengers   freight      mail  distance  ramp_to_ramp  air_time  ...  \\\n",
       "973      51979.0  120488.0   26792.0     946.0       44232.0   36257.0  ...   \n",
       "2068     42102.0   22551.0  127233.0     936.0       44012.0   36743.0  ...   \n",
       "2792     42021.0   41832.0    5270.0     762.0       42229.0   30319.0  ...   \n",
       "1931     35499.0   54256.0   19664.0     666.0       34872.0   26548.0  ...   \n",
       "1037     33220.0   14356.0  139851.0    1055.0       31049.0   25446.0  ...   \n",
       "174      31890.0   68148.0       0.0    1521.0       39965.0   36133.0  ...   \n",
       "1668     30066.0   13696.0       0.0     214.0       19564.0   12054.0  ...   \n",
       "2718     28913.0    2695.0       0.0     190.0       15082.0    9116.0  ...   \n",
       "729      28531.0   24221.0    7022.0     526.0       21451.0   17440.0  ...   \n",
       "55       28001.0   30154.0       0.0     304.0       18089.0   12889.0  ...   \n",
       "\n",
       "     dest_country  dest_country_name aircraft_group aircraft_type  \\\n",
       "973            US      United States              6           699   \n",
       "2068           US      United States              6           699   \n",
       "2792           US      United States              6           656   \n",
       "1931           US      United States              6           655   \n",
       "1037           US      United States              6           699   \n",
       "174            US      United States              6           614   \n",
       "1668           US      United States              6           655   \n",
       "2718           US      United States              6           655   \n",
       "729            US      United States              6           655   \n",
       "55             US      United States              6           612   \n",
       "\n",
       "     aircraft_config  year  month  distance_group  class  data_source  \n",
       "973                1  2019     10               2      F           DU  \n",
       "2068               1  2019     12               2      F           DU  \n",
       "2792               1  2015      7               2      F           DU  \n",
       "1931               1  2017      8               2      F           DU  \n",
       "1037               1  2018     11               3      F           DU  \n",
       "174                1  2016      4               4      F           DU  \n",
       "1668               1  2018      9               1      F           DU  \n",
       "2718               1  2015     11               1      F           DU  \n",
       "729                1  2016      5               2      F           DU  \n",
       "55                 1  2019      5               1      F           DU  \n",
       "\n",
       "[10 rows x 38 columns]"
      ]
     },
     "execution_count": 159,
     "metadata": {},
     "output_type": "execute_result"
    }
   ],
   "source": [
    "df_passengers.sort_values('passengers',ascending=False,inplace=True)\n",
    "df_passengers.head(10)"
   ]
  },
  {
   "cell_type": "code",
   "execution_count": null,
   "metadata": {},
   "outputs": [],
   "source": []
  },
  {
   "cell_type": "markdown",
   "metadata": {},
   "source": [
    "#### **Task 10**: Do bigger delays lead to bigger fuel comsumption per passenger? \n",
    "We need to do four things to answer this as accurate as possible:\n",
    "- Find out average monthly delay per air carrier (monthly delay is sum of all delays in 1 month)\n",
    "- Find out distance covered monthly by different air carriers\n",
    "- Find out number of passengers that were carried by different air carriers\n",
    "- Find out total fuel comsumption per air carrier.\n",
    "\n",
    "Use this information to get the average fuel comsumption per passenger per km. Is this higher for the airlines with bigger average delays?"
   ]
  },
  {
   "cell_type": "code",
   "execution_count": null,
   "metadata": {},
   "outputs": [],
   "source": []
  },
  {
   "cell_type": "code",
   "execution_count": null,
   "metadata": {},
   "outputs": [],
   "source": []
  }
 ],
 "metadata": {
  "kernelspec": {
   "display_name": "Python 3",
   "language": "python",
   "name": "python3"
  },
  "language_info": {
   "codemirror_mode": {
    "name": "ipython",
    "version": 3
   },
   "file_extension": ".py",
   "mimetype": "text/x-python",
   "name": "python",
   "nbconvert_exporter": "python",
   "pygments_lexer": "ipython3",
   "version": "3.8.5"
  },
  "toc": {
   "base_numbering": 1,
   "nav_menu": {},
   "number_sections": true,
   "sideBar": true,
   "skip_h1_title": false,
   "title_cell": "Table of Contents",
   "title_sidebar": "Contents",
   "toc_cell": false,
   "toc_position": {},
   "toc_section_display": true,
   "toc_window_display": false
  },
  "varInspector": {
   "cols": {
    "lenName": 16,
    "lenType": 16,
    "lenVar": 40
   },
   "kernels_config": {
    "python": {
     "delete_cmd_postfix": "",
     "delete_cmd_prefix": "del ",
     "library": "var_list.py",
     "varRefreshCmd": "print(var_dic_list())"
    },
    "r": {
     "delete_cmd_postfix": ") ",
     "delete_cmd_prefix": "rm(",
     "library": "var_list.r",
     "varRefreshCmd": "cat(var_dic_list()) "
    }
   },
   "types_to_exclude": [
    "module",
    "function",
    "builtin_function_or_method",
    "instance",
    "_Feature"
   ],
   "window_display": false
  }
 },
 "nbformat": 4,
 "nbformat_minor": 4
}
