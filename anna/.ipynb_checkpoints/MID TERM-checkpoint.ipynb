{
 "cells": [
  {
   "cell_type": "code",
   "execution_count": 44,
   "metadata": {},
   "outputs": [],
   "source": [
    "import pandas as pd\n",
    "import numpy as np\n",
    "import psycopg2"
   ]
  },
  {
   "cell_type": "code",
   "execution_count": 45,
   "metadata": {},
   "outputs": [],
   "source": [
    "connection = psycopg2.connect(\n",
    "    host=\"mid-term-project.ca2jkepgjpne.us-east-2.rds.amazonaws.com\",\n",
    "    database=\"mid_term_project\",\n",
    "    user=\"lhl_student\",\n",
    "    password=\"lhl_student\",\n",
    "    port=5432)"
   ]
  },
  {
   "cell_type": "code",
   "execution_count": 46,
   "metadata": {},
   "outputs": [
    {
     "data": {
      "text/html": [
       "<div>\n",
       "<style scoped>\n",
       "    .dataframe tbody tr th:only-of-type {\n",
       "        vertical-align: middle;\n",
       "    }\n",
       "\n",
       "    .dataframe tbody tr th {\n",
       "        vertical-align: top;\n",
       "    }\n",
       "\n",
       "    .dataframe thead th {\n",
       "        text-align: right;\n",
       "    }\n",
       "</style>\n",
       "<table border=\"1\" class=\"dataframe\">\n",
       "  <thead>\n",
       "    <tr style=\"text-align: right;\">\n",
       "      <th></th>\n",
       "      <th>departures_scheduled</th>\n",
       "      <th>departures_performed</th>\n",
       "      <th>payload</th>\n",
       "      <th>seats</th>\n",
       "      <th>passengers</th>\n",
       "      <th>freight</th>\n",
       "      <th>mail</th>\n",
       "      <th>distance</th>\n",
       "      <th>ramp_to_ramp</th>\n",
       "      <th>air_time</th>\n",
       "      <th>...</th>\n",
       "      <th>dest_country</th>\n",
       "      <th>dest_country_name</th>\n",
       "      <th>aircraft_group</th>\n",
       "      <th>aircraft_type</th>\n",
       "      <th>aircraft_config</th>\n",
       "      <th>year</th>\n",
       "      <th>month</th>\n",
       "      <th>distance_group</th>\n",
       "      <th>class</th>\n",
       "      <th>data_source</th>\n",
       "    </tr>\n",
       "  </thead>\n",
       "  <tbody>\n",
       "    <tr>\n",
       "      <th>0</th>\n",
       "      <td>0.0</td>\n",
       "      <td>25.0</td>\n",
       "      <td>105450.0</td>\n",
       "      <td>475.0</td>\n",
       "      <td>205.0</td>\n",
       "      <td>0.0</td>\n",
       "      <td>0.0</td>\n",
       "      <td>279.0</td>\n",
       "      <td>2069.0</td>\n",
       "      <td>1607.0</td>\n",
       "      <td>...</td>\n",
       "      <td>US</td>\n",
       "      <td>United States</td>\n",
       "      <td>4</td>\n",
       "      <td>469</td>\n",
       "      <td>1</td>\n",
       "      <td>2017</td>\n",
       "      <td>6</td>\n",
       "      <td>1</td>\n",
       "      <td>L</td>\n",
       "      <td>DU</td>\n",
       "    </tr>\n",
       "    <tr>\n",
       "      <th>1</th>\n",
       "      <td>20.0</td>\n",
       "      <td>20.0</td>\n",
       "      <td>1358430.0</td>\n",
       "      <td>0.0</td>\n",
       "      <td>0.0</td>\n",
       "      <td>526204.0</td>\n",
       "      <td>0.0</td>\n",
       "      <td>77.0</td>\n",
       "      <td>598.0</td>\n",
       "      <td>370.0</td>\n",
       "      <td>...</td>\n",
       "      <td>US</td>\n",
       "      <td>United States</td>\n",
       "      <td>6</td>\n",
       "      <td>622</td>\n",
       "      <td>2</td>\n",
       "      <td>2018</td>\n",
       "      <td>5</td>\n",
       "      <td>1</td>\n",
       "      <td>G</td>\n",
       "      <td>DU</td>\n",
       "    </tr>\n",
       "    <tr>\n",
       "      <th>2</th>\n",
       "      <td>0.0</td>\n",
       "      <td>1.0</td>\n",
       "      <td>26200.0</td>\n",
       "      <td>100.0</td>\n",
       "      <td>97.0</td>\n",
       "      <td>0.0</td>\n",
       "      <td>0.0</td>\n",
       "      <td>1212.0</td>\n",
       "      <td>206.0</td>\n",
       "      <td>184.0</td>\n",
       "      <td>...</td>\n",
       "      <td>US</td>\n",
       "      <td>United States</td>\n",
       "      <td>6</td>\n",
       "      <td>678</td>\n",
       "      <td>1</td>\n",
       "      <td>2019</td>\n",
       "      <td>4</td>\n",
       "      <td>3</td>\n",
       "      <td>F</td>\n",
       "      <td>DU</td>\n",
       "    </tr>\n",
       "    <tr>\n",
       "      <th>3</th>\n",
       "      <td>0.0</td>\n",
       "      <td>19.0</td>\n",
       "      <td>65600.0</td>\n",
       "      <td>171.0</td>\n",
       "      <td>45.0</td>\n",
       "      <td>348.0</td>\n",
       "      <td>8250.0</td>\n",
       "      <td>36.0</td>\n",
       "      <td>329.0</td>\n",
       "      <td>253.0</td>\n",
       "      <td>...</td>\n",
       "      <td>US</td>\n",
       "      <td>United States</td>\n",
       "      <td>4</td>\n",
       "      <td>415</td>\n",
       "      <td>1</td>\n",
       "      <td>2018</td>\n",
       "      <td>11</td>\n",
       "      <td>1</td>\n",
       "      <td>F</td>\n",
       "      <td>DU</td>\n",
       "    </tr>\n",
       "    <tr>\n",
       "      <th>4</th>\n",
       "      <td>0.0</td>\n",
       "      <td>47.0</td>\n",
       "      <td>363570.0</td>\n",
       "      <td>1410.0</td>\n",
       "      <td>604.0</td>\n",
       "      <td>0.0</td>\n",
       "      <td>0.0</td>\n",
       "      <td>346.0</td>\n",
       "      <td>4273.0</td>\n",
       "      <td>3801.0</td>\n",
       "      <td>...</td>\n",
       "      <td>US</td>\n",
       "      <td>United States</td>\n",
       "      <td>4</td>\n",
       "      <td>456</td>\n",
       "      <td>1</td>\n",
       "      <td>2017</td>\n",
       "      <td>4</td>\n",
       "      <td>1</td>\n",
       "      <td>L</td>\n",
       "      <td>DU</td>\n",
       "    </tr>\n",
       "  </tbody>\n",
       "</table>\n",
       "<p>5 rows × 38 columns</p>\n",
       "</div>"
      ],
      "text/plain": [
       "   departures_scheduled  departures_performed    payload   seats  passengers  \\\n",
       "0                   0.0                  25.0   105450.0   475.0       205.0   \n",
       "1                  20.0                  20.0  1358430.0     0.0         0.0   \n",
       "2                   0.0                   1.0    26200.0   100.0        97.0   \n",
       "3                   0.0                  19.0    65600.0   171.0        45.0   \n",
       "4                   0.0                  47.0   363570.0  1410.0       604.0   \n",
       "\n",
       "    freight    mail  distance  ramp_to_ramp  air_time  ... dest_country  \\\n",
       "0       0.0     0.0     279.0        2069.0    1607.0  ...           US   \n",
       "1  526204.0     0.0      77.0         598.0     370.0  ...           US   \n",
       "2       0.0     0.0    1212.0         206.0     184.0  ...           US   \n",
       "3     348.0  8250.0      36.0         329.0     253.0  ...           US   \n",
       "4       0.0     0.0     346.0        4273.0    3801.0  ...           US   \n",
       "\n",
       "   dest_country_name aircraft_group aircraft_type aircraft_config  year  \\\n",
       "0      United States              4           469               1  2017   \n",
       "1      United States              6           622               2  2018   \n",
       "2      United States              6           678               1  2019   \n",
       "3      United States              4           415               1  2018   \n",
       "4      United States              4           456               1  2017   \n",
       "\n",
       "   month  distance_group  class  data_source  \n",
       "0      6               1      L           DU  \n",
       "1      5               1      G           DU  \n",
       "2      4               3      F           DU  \n",
       "3     11               1      F           DU  \n",
       "4      4               1      L           DU  \n",
       "\n",
       "[5 rows x 38 columns]"
      ]
     },
     "execution_count": 46,
     "metadata": {},
     "output_type": "execute_result"
    }
   ],
   "source": [
    "df_passengers = pd.read_sql_query('SELECT * FROM passengers ORDER BY RANDOM() LIMIT 6000;', connection)\n",
    "df_passengers.head()"
   ]
  },
  {
   "cell_type": "code",
   "execution_count": 47,
   "metadata": {},
   "outputs": [
    {
     "data": {
      "text/plain": [
       "Index(['departures_scheduled', 'departures_performed', 'payload', 'seats',\n",
       "       'passengers', 'freight', 'mail', 'distance', 'ramp_to_ramp', 'air_time',\n",
       "       'unique_carrier', 'airline_id', 'unique_carrier_name', 'region',\n",
       "       'carrier', 'carrier_name', 'carrier_group', 'carrier_group_new',\n",
       "       'origin_airport_id', 'origin_city_market_id', 'origin',\n",
       "       'origin_city_name', 'origin_country', 'origin_country_name',\n",
       "       'dest_airport_id', 'dest_city_market_id', 'dest', 'dest_city_name',\n",
       "       'dest_country', 'dest_country_name', 'aircraft_group', 'aircraft_type',\n",
       "       'aircraft_config', 'year', 'month', 'distance_group', 'class',\n",
       "       'data_source'],\n",
       "      dtype='object')"
      ]
     },
     "execution_count": 47,
     "metadata": {},
     "output_type": "execute_result"
    }
   ],
   "source": [
    "df_passengers.columns"
   ]
  },
  {
   "cell_type": "code",
   "execution_count": null,
   "metadata": {},
   "outputs": [],
   "source": [
    "#separate the columns required\n",
    "\n"
   ]
  },
  {
   "cell_type": "code",
   "execution_count": null,
   "metadata": {},
   "outputs": [],
   "source": [
    "#Because of the hub and spoke system used by most airlines, morning flights tend to be more on time than afternoon or evening flights"
   ]
  },
  {
   "cell_type": "code",
   "execution_count": null,
   "metadata": {},
   "outputs": [],
   "source": [
    "#At some major airports, traffic stacks up during the day, increasing the likelihood that later flights will be delayed."
   ]
  },
  {
   "cell_type": "code",
   "execution_count": 48,
   "metadata": {},
   "outputs": [],
   "source": [
    "#Payload is the carrying capacity of an aircraft or launch vehicle, usually measured in terms of weight. Depending on the nature of the flight or mission, the payload of a vehicle may include cargo, passengers, flight crew, munitions, scientific instruments or experiments, or other equipment."
   ]
  },
  {
   "cell_type": "code",
   "execution_count": 49,
   "metadata": {},
   "outputs": [],
   "source": [
    "#air_time**: Airborne Time (minutes)"
   ]
  },
  {
   "cell_type": "code",
   "execution_count": 57,
   "metadata": {},
   "outputs": [
    {
     "data": {
      "text/html": [
       "<div>\n",
       "<style scoped>\n",
       "    .dataframe tbody tr th:only-of-type {\n",
       "        vertical-align: middle;\n",
       "    }\n",
       "\n",
       "    .dataframe tbody tr th {\n",
       "        vertical-align: top;\n",
       "    }\n",
       "\n",
       "    .dataframe thead th {\n",
       "        text-align: right;\n",
       "    }\n",
       "</style>\n",
       "<table border=\"1\" class=\"dataframe\">\n",
       "  <thead>\n",
       "    <tr style=\"text-align: right;\">\n",
       "      <th></th>\n",
       "      <th>airline_id</th>\n",
       "      <th>payload</th>\n",
       "    </tr>\n",
       "  </thead>\n",
       "  <tbody>\n",
       "    <tr>\n",
       "      <th>0</th>\n",
       "      <td>19790</td>\n",
       "      <td>0.0</td>\n",
       "    </tr>\n",
       "    <tr>\n",
       "      <th>1</th>\n",
       "      <td>19790</td>\n",
       "      <td>490640.0</td>\n",
       "    </tr>\n",
       "    <tr>\n",
       "      <th>2</th>\n",
       "      <td>19790</td>\n",
       "      <td>0.0</td>\n",
       "    </tr>\n",
       "    <tr>\n",
       "      <th>3</th>\n",
       "      <td>19790</td>\n",
       "      <td>447406.0</td>\n",
       "    </tr>\n",
       "    <tr>\n",
       "      <th>4</th>\n",
       "      <td>19790</td>\n",
       "      <td>447014.0</td>\n",
       "    </tr>\n",
       "    <tr>\n",
       "      <th>...</th>\n",
       "      <td>...</td>\n",
       "      <td>...</td>\n",
       "    </tr>\n",
       "    <tr>\n",
       "      <th>2350492</th>\n",
       "      <td>21167</td>\n",
       "      <td>218746.0</td>\n",
       "    </tr>\n",
       "    <tr>\n",
       "      <th>2350493</th>\n",
       "      <td>19790</td>\n",
       "      <td>447798.0</td>\n",
       "    </tr>\n",
       "    <tr>\n",
       "      <th>2350494</th>\n",
       "      <td>19790</td>\n",
       "      <td>466548.0</td>\n",
       "    </tr>\n",
       "    <tr>\n",
       "      <th>2350495</th>\n",
       "      <td>19790</td>\n",
       "      <td>505427.0</td>\n",
       "    </tr>\n",
       "    <tr>\n",
       "      <th>2350496</th>\n",
       "      <td>19790</td>\n",
       "      <td>532510.0</td>\n",
       "    </tr>\n",
       "  </tbody>\n",
       "</table>\n",
       "<p>2350497 rows × 2 columns</p>\n",
       "</div>"
      ],
      "text/plain": [
       "         airline_id   payload\n",
       "0             19790       0.0\n",
       "1             19790  490640.0\n",
       "2             19790       0.0\n",
       "3             19790  447406.0\n",
       "4             19790  447014.0\n",
       "...             ...       ...\n",
       "2350492       21167  218746.0\n",
       "2350493       19790  447798.0\n",
       "2350494       19790  466548.0\n",
       "2350495       19790  505427.0\n",
       "2350496       19790  532510.0\n",
       "\n",
       "[2350497 rows x 2 columns]"
      ]
     },
     "execution_count": 57,
     "metadata": {},
     "output_type": "execute_result"
    }
   ],
   "source": [
    "passengers_payload=pd.read_sql_query('''SELECT \"airline_id\", \"payload\" FROM passengers''', connection)\n",
    "passengers_payload"
   ]
  },
  {
   "cell_type": "code",
   "execution_count": 68,
   "metadata": {},
   "outputs": [
    {
     "data": {
      "text/plain": [
       "<AxesSubplot:>"
      ]
     },
     "execution_count": 68,
     "metadata": {},
     "output_type": "execute_result"
    },
    {
     "data": {
      "image/png": "[encoded data removed]",
      "text/plain": [
       "<Figure size 432x288 with 1 Axes>"
      ]
     },
     "metadata": {
      "needs_background": "light"
     },
     "output_type": "display_data"
    }
   ],
   "source": [
    "passengers_payload.payload.hist(bins=40)"
   ]
  },
  {
   "cell_type": "code",
   "execution_count": 69,
   "metadata": {},
   "outputs": [
    {
     "data": {
      "text/plain": [
       "<AxesSubplot:xlabel='airline_id', ylabel='payload'>"
      ]
     },
     "execution_count": 69,
     "metadata": {},
     "output_type": "execute_result"
    },
    {
     "data": {
      "image/png": "[encoded data removed]",
      "text/plain": [
       "<Figure size 432x288 with 1 Axes>"
      ]
     },
     "metadata": {
      "needs_background": "light"
     },
     "output_type": "display_data"
    }
   ],
   "source": [
    "passengers_payload.plot.scatter(x='airline_id', y='payload')"
   ]
  },
  {
   "cell_type": "code",
   "execution_count": null,
   "metadata": {},
   "outputs": [],
   "source": [
    "#SELECT product_name, product_id, quantity, unit_price, total_price\n",
    "#FROM sales\n",
    "#WHERE product_id = 123456 AND quantity > 5\n",
    "\n",
    "#sales[(sales[‘product_id’] == 123456) & (sales[‘quantity’] > 5)]\n",
    "#[[‘product_name’, ‘product_id’, ‘quantity’, ‘unit_price’, ‘total_price’]]\n",
    "\n",
    "#SELECT city, state, country, total_price\n",
    "#FROM customers\n",
    "#JOIN sales\n",
    "#ON customers.customer_id = sales.customer_id\n",
    "#WHERE sales.product_id = 123456\n",
    "\n",
    "#SELECT country, SUM(total_price) as total_sales\n",
    "#FROM customers\n",
    "#JOIN sales\n",
    "#ON customers.customer_id = sales.customer_id\n",
    "#WHERE sales.product_id = 123456\n",
    "#GROUP BY country \n",
    "#ORDER BY total_sales DESC\n",
    "\n",
    "#new_df = customers.merge(sales, on=’customer_id’)\n",
    "\n",
    "#geo_sales = customers[[‘city’, ‘state’, ‘country’, ‘total_price’, ‘customer_id’]]\n",
    "#.merge(sales[[‘product_id’, ‘total_price’, ‘customer_id’]], on=’customer_id’)\n",
    "\n"
   ]
  },
  {
   "cell_type": "code",
   "execution_count": null,
   "metadata": {},
   "outputs": [],
   "source": []
  },
  {
   "cell_type": "code",
   "execution_count": 51,
   "metadata": {},
   "outputs": [
    {
     "data": {
      "text/plain": [
       "DL     561\n",
       "UA     466\n",
       "WN     453\n",
       "OO     319\n",
       "AA     308\n",
       "      ... \n",
       "GEQ      1\n",
       "SN       1\n",
       "GCH      1\n",
       "KQ       1\n",
       "0RQ      1\n",
       "Name: unique_carrier, Length: 247, dtype: int64"
      ]
     },
     "execution_count": 51,
     "metadata": {},
     "output_type": "execute_result"
    }
   ],
   "source": [
    "df_passengers[\"unique_carrier\"].value_counts()"
   ]
  },
  {
   "cell_type": "code",
   "execution_count": 52,
   "metadata": {},
   "outputs": [
    {
     "data": {
      "text/plain": [
       "array(['LF', '5X', 'B6', '8E', 'RV', 'ABX', 'UA', 'F9', 'GV', 'DL', 'DI',\n",
       "       'K2', 'YV', 'AS', '27Q', '9E', 'U7', 'WN', 'QX', 'XP', 'AA', '09Q',\n",
       "       '04Q', 'MQ', 'YX', 'KAQ', 'OH', 'H6', 'FX', 'G4', 'MW', 'SY', 'IB',\n",
       "       'AN', '4C', 'NH', 'NK', '5Y', 'HA', 'OO', 'VS', 'MT', 'MU', 'TA',\n",
       "       'EV', 'LH', 'DY', 'AF', '2TQ', 'GL', 'PT', 'AM', '2O', '5V', 'AV',\n",
       "       '9X', '7S', 'WS', 'CK', 'S4', 'ZW', '4Y', 'BA', '15Q', '8V', 'AMQ',\n",
       "       'S5', '24Q', '4B', 'QK', 'US', 'KE', 'CP', '7H', 'Y4', 'AX', 'SQ',\n",
       "       'KL', 'CA', 'M6', 'MF', 'WL', 'KAH', '0WQ', 'LP', 'PD', 'LXQ',\n",
       "       '4O', 'G7', 'AC', 'GFQ', '4W', 'M3', 'J5', '3S', 'C5', 'K5', '8C',\n",
       "       'NC', 'KD', '3EQ', 'K3', 'CM', 'LA', '0JQ', '1SQ', 'ZX', 'EK',\n",
       "       'WRD', 'L2', 'KLQ', '5D', '9V', 'KS', '2F', 'EM', 'SNK', 'OS',\n",
       "       '9S', 'VX', '14Q', 'QF', 'LX', 'W8', 'DE', 'EI', 'KV', 'LR', 'KX',\n",
       "       'NZ', 'N8', 'YR', 'FI', '1AQ', 'KH', '2E', 'AAT', 'PO', 'WW', 'MS',\n",
       "       'L7', 'SK', 'OR', 'WST', '9K', 'Z3', 'AY', '3E', 'RU', 'LY', 'TK',\n",
       "       'PY', 'HBQ', 'TP', 'V8', 'AZ', '13Q', 'SE', 'SVW', 'UP', 'KO',\n",
       "       'CX', 'MP', 'O6', 'ET', 'VJT', 'WI', 'QR', 'CC', 'LS', '1BQ', '3U',\n",
       "       'D8', 'PFQ', 'WG', 'SEB', 'CV', 'BY', '3F', '1YQ', 'ZK', 'EY',\n",
       "       'LJ', '8D', 'TS', '3M', 'CI', '0QQ', 'HX', 'J2', 'EE', 'LO', 'X9',\n",
       "       'X4', 'FP', 'GCH', 'FJ', 'VI', 'AJQ', 'SA', 'PR', 'BR', 'ELL',\n",
       "       'NLQ', '2HQ', 'AI', '3AQ', 'HU', '2LQ', 'JD', 'ADB', 'IFQ', '38Q',\n",
       "       'CZ', '2OQ', '3SD', '0BQ', 'KQ', 'I4', 'OZ', 'AB', '1TQ', 'GEQ',\n",
       "       'PM', 'KZ', 'VIQ', 'CH', 'C8', 'JJ', 'Q5', '23Q', 'A0', '1DQ',\n",
       "       'WE', 'QT', '4M', 'AR', 'B0', 'HY', 'KAT', 'JL', 'SN', '0RQ', '6R',\n",
       "       '2UQ', '1WQ', '2GQ'], dtype=object)"
      ]
     },
     "execution_count": 52,
     "metadata": {},
     "output_type": "execute_result"
    }
   ],
   "source": [
    "df_passengers[\"unique_carrier\"].unique()"
   ]
  },
  {
   "cell_type": "code",
   "execution_count": 53,
   "metadata": {},
   "outputs": [
    {
     "data": {
      "text/plain": [
       "departures_scheduled     0\n",
       "departures_performed     0\n",
       "payload                  0\n",
       "seats                    0\n",
       "passengers               0\n",
       "freight                  0\n",
       "mail                     0\n",
       "distance                 0\n",
       "ramp_to_ramp             0\n",
       "air_time                 0\n",
       "unique_carrier           0\n",
       "airline_id               0\n",
       "unique_carrier_name      0\n",
       "region                   0\n",
       "carrier                  0\n",
       "carrier_name             0\n",
       "carrier_group            0\n",
       "carrier_group_new        0\n",
       "origin_airport_id        0\n",
       "origin_city_market_id    0\n",
       "origin                   0\n",
       "origin_city_name         0\n",
       "origin_country           0\n",
       "origin_country_name      0\n",
       "dest_airport_id          0\n",
       "dest_city_market_id      0\n",
       "dest                     0\n",
       "dest_city_name           0\n",
       "dest_country             0\n",
       "dest_country_name        0\n",
       "aircraft_group           0\n",
       "aircraft_type            0\n",
       "aircraft_config          0\n",
       "year                     0\n",
       "month                    0\n",
       "distance_group           0\n",
       "class                    0\n",
       "data_source              0\n",
       "dtype: int64"
      ]
     },
     "execution_count": 53,
     "metadata": {},
     "output_type": "execute_result"
    }
   ],
   "source": [
    "df_passengers.isnull().sum()"
   ]
  },
  {
   "cell_type": "code",
   "execution_count": 75,
   "metadata": {},
   "outputs": [
    {
     "data": {
      "text/html": [
       "<div>\n",
       "<style scoped>\n",
       "    .dataframe tbody tr th:only-of-type {\n",
       "        vertical-align: middle;\n",
       "    }\n",
       "\n",
       "    .dataframe tbody tr th {\n",
       "        vertical-align: top;\n",
       "    }\n",
       "\n",
       "    .dataframe thead th {\n",
       "        text-align: right;\n",
       "    }\n",
       "</style>\n",
       "<table border=\"1\" class=\"dataframe\">\n",
       "  <thead>\n",
       "    <tr style=\"text-align: right;\">\n",
       "      <th></th>\n",
       "      <th>departures_scheduled</th>\n",
       "      <th>departures_performed</th>\n",
       "      <th>payload</th>\n",
       "      <th>seats</th>\n",
       "      <th>passengers</th>\n",
       "      <th>freight</th>\n",
       "      <th>mail</th>\n",
       "      <th>distance</th>\n",
       "      <th>ramp_to_ramp</th>\n",
       "      <th>air_time</th>\n",
       "      <th>...</th>\n",
       "      <th>dest_country</th>\n",
       "      <th>dest_country_name</th>\n",
       "      <th>aircraft_group</th>\n",
       "      <th>aircraft_type</th>\n",
       "      <th>aircraft_config</th>\n",
       "      <th>year</th>\n",
       "      <th>month</th>\n",
       "      <th>distance_group</th>\n",
       "      <th>class</th>\n",
       "      <th>data_source</th>\n",
       "    </tr>\n",
       "  </thead>\n",
       "  <tbody>\n",
       "  </tbody>\n",
       "</table>\n",
       "<p>0 rows × 38 columns</p>\n",
       "</div>"
      ],
      "text/plain": [
       "Empty DataFrame\n",
       "Columns: [departures_scheduled, departures_performed, payload, seats, passengers, freight, mail, distance, ramp_to_ramp, air_time, unique_carrier, airline_id, unique_carrier_name, region, carrier, carrier_name, carrier_group, carrier_group_new, origin_airport_id, origin_city_market_id, origin, origin_city_name, origin_country, origin_country_name, dest_airport_id, dest_city_market_id, dest, dest_city_name, dest_country, dest_country_name, aircraft_group, aircraft_type, aircraft_config, year, month, distance_group, class, data_source]\n",
       "Index: []\n",
       "\n",
       "[0 rows x 38 columns]"
      ]
     },
     "execution_count": 75,
     "metadata": {},
     "output_type": "execute_result"
    }
   ],
   "source": [
    "df_passengers[df_passengers.isnull().values.any(axis=1)].head()"
   ]
  },
  {
   "cell_type": "code",
   "execution_count": 54,
   "metadata": {},
   "outputs": [
    {
     "data": {
      "text/plain": [
       "0       11298\n",
       "1       11823\n",
       "2       10792\n",
       "3       15478\n",
       "4       13495\n",
       "        ...  \n",
       "5995    14869\n",
       "5996    10299\n",
       "5997    12191\n",
       "5998    13303\n",
       "5999    11042\n",
       "Name: origin_airport_id, Length: 6000, dtype: int64"
      ]
     },
     "execution_count": 54,
     "metadata": {},
     "output_type": "execute_result"
    }
   ],
   "source": [
    "df_passengers[\"origin_airport_id\"]"
   ]
  },
  {
   "cell_type": "code",
   "execution_count": 55,
   "metadata": {},
   "outputs": [
    {
     "ename": "NameError",
     "evalue": "name 'origin_airport_id' is not defined",
     "output_type": "error",
     "traceback": [
      "\u001b[0;31m---------------------------------------------------------------------------\u001b[0m",
      "\u001b[0;31mNameError\u001b[0m                                 Traceback (most recent call last)",
      "\u001b[0;32m<ipython-input-55-1941c29e50ed>\u001b[0m in \u001b[0;36m<module>\u001b[0;34m\u001b[0m\n\u001b[0;32m----> 1\u001b[0;31m \u001b[0morigin_airport_id\u001b[0m\u001b[0;34m\u001b[0m\u001b[0;34m\u001b[0m\u001b[0m\n\u001b[0m\u001b[1;32m      2\u001b[0m \u001b[0mdest_airport_id\u001b[0m\u001b[0;34m\u001b[0m\u001b[0;34m\u001b[0m\u001b[0m\n",
      "\u001b[0;31mNameError\u001b[0m: name 'origin_airport_id' is not defined"
     ]
    }
   ],
   "source": [
    "origin_airport_id\n",
    "dest_airport_id\n"
   ]
  },
  {
   "cell_type": "code",
   "execution_count": null,
   "metadata": {},
   "outputs": [],
   "source": []
  },
  {
   "cell_type": "code",
   "execution_count": null,
   "metadata": {},
   "outputs": [],
   "source": []
  }
 ],
 "metadata": {
  "kernelspec": {
   "display_name": "Python 3",
   "language": "python",
   "name": "python3"
  },
  "language_info": {
   "codemirror_mode": {
    "name": "ipython",
    "version": 3
   },
   "file_extension": ".py",
   "mimetype": "text/x-python",
   "name": "python",
   "nbconvert_exporter": "python",
   "pygments_lexer": "ipython3",
   "version": "3.8.5"
  }
 },
 "nbformat": 4,
 "nbformat_minor": 4
}
