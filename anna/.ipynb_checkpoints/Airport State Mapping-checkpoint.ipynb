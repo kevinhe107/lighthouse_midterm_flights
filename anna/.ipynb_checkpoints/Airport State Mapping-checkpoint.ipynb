{
 "cells": [
  {
   "cell_type": "code",
   "execution_count": 138,
   "metadata": {},
   "outputs": [],
   "source": [
    "%run ./db_connection.ipynb"
   ]
  },
  {
   "cell_type": "code",
   "execution_count": 139,
   "metadata": {},
   "outputs": [],
   "source": [
    "   \n",
    "flight_locations_2019 = \"\"\"\n",
    "   SELECT \n",
    "    origin_city_name, dest_city_name,\n",
    "    origin_airport_id, dest_airport_id\n",
    "   FROM flights\n",
    "   WHERE date_part('year', TO_DATE(fl_date,'YYYY-MM-DD')) = 2019\n",
    "\"\"\"\n",
    "    \n",
    "flight_locations_2019 = execute_read_query(con, flight_locations_2019)"
   ]
  },
  {
   "cell_type": "code",
   "execution_count": 140,
   "metadata": {},
   "outputs": [
    {
     "name": "stderr",
     "output_type": "stream",
     "text": [
      "/opt/anaconda3/lib/python3.8/site-packages/pandas/core/frame.py:4125: SettingWithCopyWarning: \n",
      "A value is trying to be set on a copy of a slice from a DataFrame\n",
      "\n",
      "See the caveats in the documentation: https://pandas.pydata.org/pandas-docs/stable/user_guide/indexing.html#returning-a-view-versus-a-copy\n",
      "  return super().rename(\n"
     ]
    },
    {
     "data": {
      "text/html": [
       "<div>\n",
       "<style scoped>\n",
       "    .dataframe tbody tr th:only-of-type {\n",
       "        vertical-align: middle;\n",
       "    }\n",
       "\n",
       "    .dataframe tbody tr th {\n",
       "        vertical-align: top;\n",
       "    }\n",
       "\n",
       "    .dataframe thead th {\n",
       "        text-align: right;\n",
       "    }\n",
       "</style>\n",
       "<table border=\"1\" class=\"dataframe\">\n",
       "  <thead>\n",
       "    <tr style=\"text-align: right;\">\n",
       "      <th></th>\n",
       "      <th>city_state</th>\n",
       "      <th>airport_id</th>\n",
       "      <th>state</th>\n",
       "      <th>city</th>\n",
       "    </tr>\n",
       "  </thead>\n",
       "  <tbody>\n",
       "    <tr>\n",
       "      <th>0</th>\n",
       "      <td>Saginaw/Bay City/Midland, MI</td>\n",
       "      <td>13184</td>\n",
       "      <td>MI</td>\n",
       "      <td>Saginaw/Bay City/Midland</td>\n",
       "    </tr>\n",
       "    <tr>\n",
       "      <th>1</th>\n",
       "      <td>New York, NY</td>\n",
       "      <td>12953</td>\n",
       "      <td>NY</td>\n",
       "      <td>New York</td>\n",
       "    </tr>\n",
       "    <tr>\n",
       "      <th>2</th>\n",
       "      <td>Portland, ME</td>\n",
       "      <td>14321</td>\n",
       "      <td>ME</td>\n",
       "      <td>Portland</td>\n",
       "    </tr>\n",
       "    <tr>\n",
       "      <th>3</th>\n",
       "      <td>Springfield, MO</td>\n",
       "      <td>14783</td>\n",
       "      <td>MO</td>\n",
       "      <td>Springfield</td>\n",
       "    </tr>\n",
       "    <tr>\n",
       "      <th>5</th>\n",
       "      <td>Philadelphia, PA</td>\n",
       "      <td>14100</td>\n",
       "      <td>PA</td>\n",
       "      <td>Philadelphia</td>\n",
       "    </tr>\n",
       "  </tbody>\n",
       "</table>\n",
       "</div>"
      ],
      "text/plain": [
       "                     city_state  airport_id state                      city\n",
       "0  Saginaw/Bay City/Midland, MI       13184    MI  Saginaw/Bay City/Midland\n",
       "1                  New York, NY       12953    NY                  New York\n",
       "2                  Portland, ME       14321    ME                  Portland\n",
       "3               Springfield, MO       14783    MO               Springfield\n",
       "5              Philadelphia, PA       14100    PA              Philadelphia"
      ]
     },
     "execution_count": 140,
     "metadata": {},
     "output_type": "execute_result"
    }
   ],
   "source": [
    "cities_origin = flight_locations_2019[['origin_city_name','origin_airport_id']]\n",
    "cities_dest = flight_locations_2019[['dest_city_name','dest_airport_id']]\n",
    "cities_origin.rename(columns = {'origin_city_name':'city_state', 'origin_airport_id':'airport_id'}, inplace = True)\n",
    "cities_dest.rename(columns = {'dest_city_name':'city_state', 'dest_airport_id':'airport_id'}, inplace = True)\n",
    "airport_cities = cities_origin\n",
    "airport_cities = airport_cities.append(cities_dest, ignore_index=True)\n",
    "\n",
    "# Use only unique pairs of aiport id and city_state\n",
    "airport_cities = airport_cities.drop_duplicates()\n",
    "\n",
    "airport_cities['state'] = airport_cities.apply(\n",
    "    lambda x: (x['city_state'].split(\",\")[1].strip()), axis=1)   \n",
    "airport_cities['city'] = airport_cities.apply(\n",
    "    lambda x: (x['city_state'].split(\",\")[0].strip()), axis=1)\n",
    "airport_cities.head()"
   ]
  },
  {
   "cell_type": "code",
   "execution_count": 143,
   "metadata": {},
   "outputs": [
    {
     "data": {
      "text/html": [
       "<div>\n",
       "<style scoped>\n",
       "    .dataframe tbody tr th:only-of-type {\n",
       "        vertical-align: middle;\n",
       "    }\n",
       "\n",
       "    .dataframe tbody tr th {\n",
       "        vertical-align: top;\n",
       "    }\n",
       "\n",
       "    .dataframe thead th {\n",
       "        text-align: right;\n",
       "    }\n",
       "</style>\n",
       "<table border=\"1\" class=\"dataframe\">\n",
       "  <thead>\n",
       "    <tr style=\"text-align: right;\">\n",
       "      <th></th>\n",
       "      <th>airport_id</th>\n",
       "      <th>state</th>\n",
       "    </tr>\n",
       "  </thead>\n",
       "  <tbody>\n",
       "    <tr>\n",
       "      <th>0</th>\n",
       "      <td>13184</td>\n",
       "      <td>MI</td>\n",
       "    </tr>\n",
       "    <tr>\n",
       "      <th>1</th>\n",
       "      <td>12953</td>\n",
       "      <td>NY</td>\n",
       "    </tr>\n",
       "    <tr>\n",
       "      <th>2</th>\n",
       "      <td>14321</td>\n",
       "      <td>ME</td>\n",
       "    </tr>\n",
       "    <tr>\n",
       "      <th>3</th>\n",
       "      <td>14783</td>\n",
       "      <td>MO</td>\n",
       "    </tr>\n",
       "    <tr>\n",
       "      <th>5</th>\n",
       "      <td>14100</td>\n",
       "      <td>PA</td>\n",
       "    </tr>\n",
       "  </tbody>\n",
       "</table>\n",
       "</div>"
      ],
      "text/plain": [
       "   airport_id state\n",
       "0       13184    MI\n",
       "1       12953    NY\n",
       "2       14321    ME\n",
       "3       14783    MO\n",
       "5       14100    PA"
      ]
     },
     "execution_count": 143,
     "metadata": {},
     "output_type": "execute_result"
    }
   ],
   "source": [
    "airport_states_map = airport_cities.drop(columns=['city_state', 'city'])\n",
    "airport_states_map.head()"
   ]
  },
  {
   "cell_type": "code",
   "execution_count": 144,
   "metadata": {},
   "outputs": [],
   "source": [
    "import pickle\n",
    "outfile = open('./reference/airport_state_mapping','wb')\n",
    "\n",
    "pickle.dump(airport_states_map,outfile)\n",
    "outfile.close()   "
   ]
  }
 ],
 "metadata": {
  "kernelspec": {
   "display_name": "Python 3",
   "language": "python",
   "name": "python3"
  },
  "language_info": {
   "codemirror_mode": {
    "name": "ipython",
    "version": 3
   },
   "file_extension": ".py",
   "mimetype": "text/x-python",
   "name": "python",
   "nbconvert_exporter": "python",
   "pygments_lexer": "ipython3",
   "version": "3.8.5"
  }
 },
 "nbformat": 4,
 "nbformat_minor": 4
}
