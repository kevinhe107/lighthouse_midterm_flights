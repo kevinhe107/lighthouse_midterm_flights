{
 "cells": [
  {
   "cell_type": "code",
   "execution_count": 1,
   "metadata": {},
   "outputs": [],
   "source": [
    "%run ./db_connection.ipynb"
   ]
  },
  {
   "cell_type": "code",
   "execution_count": 2,
   "metadata": {},
   "outputs": [],
   "source": [
    "passenger_data_2019 = \"\"\"\n",
    "   SELECT departures_scheduled, departures_performed, payload, seats,\n",
    "       passengers, freight, mail, distance, ramp_to_ramp, air_time,\n",
    "       unique_carrier, airline_id, region,\n",
    "       carrier_group_new,\n",
    "       origin_airport_id, origin_city_market_id, \n",
    "       dest_airport_id, dest_city_market_id,\n",
    "       aircraft_group, aircraft_type,\n",
    "       aircraft_config, year, month, distance_group, class\n",
    "    FROM passengers\n",
    "    WHERE year = 2019\n",
    "\"\"\"\n",
    "passengers_2019 = execute_read_query(con, passenger_data_2019)"
   ]
  },
  {
   "cell_type": "markdown",
   "metadata": {},
   "source": [
    "## Check the column data types"
   ]
  },
  {
   "cell_type": "code",
   "execution_count": 7,
   "metadata": {},
   "outputs": [
    {
     "data": {
      "text/plain": [
       "departures_scheduled     float64\n",
       "departures_performed     float64\n",
       "payload                  float64\n",
       "seats                    float64\n",
       "passengers               float64\n",
       "freight                  float64\n",
       "mail                     float64\n",
       "distance                 float64\n",
       "ramp_to_ramp             float64\n",
       "air_time                 float64\n",
       "unique_carrier            object\n",
       "airline_id                 int64\n",
       "region                    object\n",
       "carrier_group_new          int64\n",
       "origin_airport_id          int64\n",
       "origin_city_market_id      int64\n",
       "dest_airport_id            int64\n",
       "dest_city_market_id        int64\n",
       "aircraft_group             int64\n",
       "aircraft_type              int64\n",
       "aircraft_config            int64\n",
       "year                       int64\n",
       "month                      int64\n",
       "distance_group             int64\n",
       "class                     object\n",
       "dtype: object"
      ]
     },
     "execution_count": 7,
     "metadata": {},
     "output_type": "execute_result"
    }
   ],
   "source": [
    "passengers_2019.dtypes"
   ]
  },
  {
   "cell_type": "markdown",
   "metadata": {},
   "source": [
    "### Encode the String columns\n",
    "- unique carrier\n",
    "- region\n",
    "- class"
   ]
  },
  {
   "cell_type": "code",
   "execution_count": 38,
   "metadata": {},
   "outputs": [],
   "source": [
    "# Must install category encoders to use this code block\n",
    "# - pip install category_encoders\n",
    "import category_encoders as ce\n",
    "\n",
    "ce_ordinal = ce.OrdinalEncoder(cols=['unique_carrier','region','class'])\n",
    "passengers_encoded = ce_ordinal.fit_transform(passengers_2019)\n"
   ]
  },
  {
   "cell_type": "code",
   "execution_count": 39,
   "metadata": {},
   "outputs": [
    {
     "data": {
      "text/plain": [
       "departures_scheduled     float64\n",
       "departures_performed     float64\n",
       "payload                  float64\n",
       "seats                    float64\n",
       "passengers               float64\n",
       "freight                  float64\n",
       "mail                     float64\n",
       "distance                 float64\n",
       "ramp_to_ramp             float64\n",
       "air_time                 float64\n",
       "unique_carrier             int64\n",
       "airline_id                 int64\n",
       "region                     int64\n",
       "carrier_group_new          int64\n",
       "origin_airport_id          int64\n",
       "origin_city_market_id      int64\n",
       "dest_airport_id            int64\n",
       "dest_city_market_id        int64\n",
       "aircraft_group             int64\n",
       "aircraft_type              int64\n",
       "aircraft_config            int64\n",
       "year                       int64\n",
       "month                      int64\n",
       "distance_group             int64\n",
       "class                      int64\n",
       "dtype: object"
      ]
     },
     "execution_count": 39,
     "metadata": {},
     "output_type": "execute_result"
    }
   ],
   "source": [
    "passengers_encoded.dtypes"
   ]
  },
  {
   "cell_type": "code",
   "execution_count": null,
   "metadata": {},
   "outputs": [],
   "source": []
  }
 ],
 "metadata": {
  "kernelspec": {
   "display_name": "Python 3",
   "language": "python",
   "name": "python3"
  },
  "language_info": {
   "codemirror_mode": {
    "name": "ipython",
    "version": 3
   },
   "file_extension": ".py",
   "mimetype": "text/x-python",
   "name": "python",
   "nbconvert_exporter": "python",
   "pygments_lexer": "ipython3",
   "version": "3.8.5"
  }
 },
 "nbformat": 4,
 "nbformat_minor": 4
}
